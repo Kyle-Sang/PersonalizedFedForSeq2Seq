{
 "cells": [
  {
   "cell_type": "code",
   "execution_count": 30,
   "metadata": {},
   "outputs": [
    {
     "name": "stdout",
     "output_type": "stream",
     "text": [
      "(29505, 2)\n",
      "Index(['ru', 'tyv'], dtype='object')\n"
     ]
    },
    {
     "data": {
      "text/html": [
       "<div>\n",
       "<style scoped>\n",
       "    .dataframe tbody tr th:only-of-type {\n",
       "        vertical-align: middle;\n",
       "    }\n",
       "\n",
       "    .dataframe tbody tr th {\n",
       "        vertical-align: top;\n",
       "    }\n",
       "\n",
       "    .dataframe thead th {\n",
       "        text-align: right;\n",
       "    }\n",
       "</style>\n",
       "<table border=\"1\" class=\"dataframe\">\n",
       "  <thead>\n",
       "    <tr style=\"text-align: right;\">\n",
       "      <th></th>\n",
       "      <th>ru</th>\n",
       "      <th>tyv</th>\n",
       "    </tr>\n",
       "  </thead>\n",
       "  <tbody>\n",
       "    <tr>\n",
       "      <th>19157</th>\n",
       "      <td>among whom was Ahijah, who was wearing an epho...</td>\n",
       "      <td>harimwo na Ahiya mwene Ahitubu, Ahitubu mukuru...</td>\n",
       "    </tr>\n",
       "    <tr>\n",
       "      <th>29218</th>\n",
       "      <td>So Peter and the other disciple started for th...</td>\n",
       "      <td>Nuko Petero arasohoka, na wa mwigishwa wundi, ...</td>\n",
       "    </tr>\n",
       "    <tr>\n",
       "      <th>23580</th>\n",
       "      <td>Nevertheless, I have a few things against you:...</td>\n",
       "      <td>Ariko mfise i vyo nkugayako bike, kukw i wanyu...</td>\n",
       "    </tr>\n",
       "    <tr>\n",
       "      <th>1319</th>\n",
       "      <td>Cross over to the coasts of Cyprus and look, s...</td>\n",
       "      <td>Enda ni mujabuke ku bizinga vy’i Kitimu, murāb...</td>\n",
       "    </tr>\n",
       "    <tr>\n",
       "      <th>14133</th>\n",
       "      <td>So David did as the Lord commanded him, and he...</td>\n",
       "      <td>Nuko Dawidi abigenza artyo, nk’uk’ Uhoraho yam...</td>\n",
       "    </tr>\n",
       "    <tr>\n",
       "      <th>25261</th>\n",
       "      <td>He looked around at them all, and then said to...</td>\n",
       "      <td>Abēraguzamw’ amaso bose, aramubarira, ati Ramv...</td>\n",
       "    </tr>\n",
       "    <tr>\n",
       "      <th>17290</th>\n",
       "      <td>“So I will consecrate the tent of meeting and ...</td>\n",
       "      <td>Nzokweza iryo hema ry’ibonaniro bo n’igicaniro...</td>\n",
       "    </tr>\n",
       "    <tr>\n",
       "      <th>7628</th>\n",
       "      <td>But Jacob said to him, “My lord knows that the...</td>\n",
       "      <td>Yakobo aramwishura, ati Databuja, urazi kw aba...</td>\n",
       "    </tr>\n",
       "    <tr>\n",
       "      <th>16248</th>\n",
       "      <td>I will expose your righteousness and your work...</td>\n",
       "      <td>Nzoserura ukugororoka kwawe n’ibikorwa vyawe; ...</td>\n",
       "    </tr>\n",
       "    <tr>\n",
       "      <th>27850</th>\n",
       "      <td>After removing Saul, he made David their king....</td>\n",
       "      <td>Imukūye, ibahagurukiriza Dawidi kuba umwami wa...</td>\n",
       "    </tr>\n",
       "  </tbody>\n",
       "</table>\n",
       "</div>"
      ],
      "text/plain": [
       "                                                      ru  \\\n",
       "19157  among whom was Ahijah, who was wearing an epho...   \n",
       "29218  So Peter and the other disciple started for th...   \n",
       "23580  Nevertheless, I have a few things against you:...   \n",
       "1319   Cross over to the coasts of Cyprus and look, s...   \n",
       "14133  So David did as the Lord commanded him, and he...   \n",
       "25261  He looked around at them all, and then said to...   \n",
       "17290  “So I will consecrate the tent of meeting and ...   \n",
       "7628   But Jacob said to him, “My lord knows that the...   \n",
       "16248  I will expose your righteousness and your work...   \n",
       "27850  After removing Saul, he made David their king....   \n",
       "\n",
       "                                                     tyv  \n",
       "19157  harimwo na Ahiya mwene Ahitubu, Ahitubu mukuru...  \n",
       "29218  Nuko Petero arasohoka, na wa mwigishwa wundi, ...  \n",
       "23580  Ariko mfise i vyo nkugayako bike, kukw i wanyu...  \n",
       "1319   Enda ni mujabuke ku bizinga vy’i Kitimu, murāb...  \n",
       "14133  Nuko Dawidi abigenza artyo, nk’uk’ Uhoraho yam...  \n",
       "25261  Abēraguzamw’ amaso bose, aramubarira, ati Ramv...  \n",
       "17290  Nzokweza iryo hema ry’ibonaniro bo n’igicaniro...  \n",
       "7628   Yakobo aramwishura, ati Databuja, urazi kw aba...  \n",
       "16248  Nzoserura ukugororoka kwawe n’ibikorwa vyawe; ...  \n",
       "27850  Imukūye, ibahagurukiriza Dawidi kuba umwami wa...  "
      ]
     },
     "execution_count": 30,
     "metadata": {},
     "output_type": "execute_result"
    }
   ],
   "source": [
    "import pandas as pd\n",
    "trans_df = pd.read_csv('./data/eng-kir.csv', sep=\"\\t\")\n",
    "trans_df.columns = ['ru', 'tyv']\n",
    "print(trans_df.shape) # (50000, 5)\n",
    "print(trans_df.columns)\n",
    "trans_df.sample(10)"
   ]
  },
  {
   "cell_type": "code",
   "execution_count": 31,
   "metadata": {},
   "outputs": [],
   "source": [
    "from sklearn.model_selection import train_test_split\n",
    "df_train, df_test = train_test_split(trans_df, test_size=0.2, random_state=42)"
   ]
  },
  {
   "cell_type": "code",
   "execution_count": 128,
   "metadata": {},
   "outputs": [
    {
     "name": "stderr",
     "output_type": "stream",
     "text": [
      "/usr/local/lib/python3.10/dist-packages/huggingface_hub/file_download.py:797: FutureWarning: `resume_download` is deprecated and will be removed in version 1.0.0. Downloads always resume when possible. If you want to force a new download, use `force_download=True`.\n",
      "  warnings.warn(\n"
     ]
    }
   ],
   "source": [
    "from transformers import AutoModelForSeq2SeqLM, AutoTokenizer\n",
    "model_name = \"facebook/nllb-200-distilled-600M\"\n",
    "tokenizer = AutoTokenizer.from_pretrained(model_name, src_lang=\"run_Latn\", tgt_lang=\"eng_Latn\")\n",
    "model = AutoModelForSeq2SeqLM.from_pretrained(model_name)"
   ]
  },
  {
   "cell_type": "code",
   "execution_count": 127,
   "metadata": {},
   "outputs": [
    {
     "name": "stdout",
     "output_type": "stream",
     "text": [
      "The sun sets in the west.\n"
     ]
    }
   ],
   "source": [
    "tokenizer.src_lang = \"lug_Latn\"\n",
    "# Input text in Luganda\n",
    "inputs = tokenizer(text=\"Enjuba eziba esiriira ku luuyi olw'ebugwanjuba.\", return_tensors=\"pt\")\n",
    "translated_tokens = model.generate(\n",
    "    **inputs, forced_bos_token_id=tokenizer.lang_code_to_id[\"eng_Latn\"]\n",
    ")\n",
    "print(tokenizer.decode(translated_tokens[0], skip_special_tokens=True))"
   ]
  },
  {
   "cell_type": "code",
   "execution_count": 32,
   "metadata": {},
   "outputs": [],
   "source": [
    "import re\n",
    "\n",
    "def word_tokenize(text):\n",
    "    \"\"\"\n",
    "    Split a text into words, numbers, and punctuation marks\n",
    "    (for languages where words are separated by spaces)\n",
    "    \"\"\"\n",
    "    return re.findall('(\\w+|[^\\w\\s])', text)\n",
    "\n",
    "smpl = df_train.sample(10000, random_state=1)\n",
    "smpl['rus_toks'] = smpl.ru.apply(tokenizer.tokenize)\n",
    "smpl['tyv_toks'] = smpl.tyv.apply(tokenizer.tokenize)\n",
    "smpl['rus_words'] = smpl.ru.apply(word_tokenize)\n",
    "smpl['tyv_words'] = smpl.tyv.apply(word_tokenize)"
   ]
  },
  {
   "cell_type": "code",
   "execution_count": 33,
   "metadata": {},
   "outputs": [
    {
     "name": "stderr",
     "output_type": "stream",
     "text": [
      "100%|██████████| 29505/29505 [00:02<00:00, 12324.38it/s]"
     ]
    },
    {
     "name": "stdout",
     "output_type": "stream",
     "text": [
      "24587\n",
      "['ngo dushōre ifeza twigurire abarushwa, dushōre n’inkweto twigurire abakene, ngo dushōre n’ibihumbga vy’ ingano?', 'Maze Mose asezera sebukwe, sebukwe na we asubira mu gihugu c’i wabo.', 'Kandi n’iyo novyutsa umutwe, woca umpīga nk’intambge; Maz’ ukongera kunyiyereka ur’ akūmiza.', 'Ni yicare wenyene, acereze, kukw ar’ Uhoraho yayimwambitse.', 'Nukw abakuru bacu n’abo mu gihugu cacu bose baratubarira, bati Ni mukore impamba, mugende kubasanganira, mubabarire, muti N’abasavyi banyu; ngo None ni mubahe isezerano ryo gufatanya na bo.']\n"
     ]
    },
    {
     "name": "stderr",
     "output_type": "stream",
     "text": [
      "\n"
     ]
    }
   ],
   "source": [
    "from tqdm.auto import tqdm, trange\n",
    "texts_with_unk = [\n",
    "    text for text in tqdm(trans_df.tyv) \n",
    "    if tokenizer.unk_token_id in tokenizer(text).input_ids\n",
    "]\n",
    "print(len(texts_with_unk))\n",
    "# 163\n",
    "s = random.sample(texts_with_unk, 5)\n",
    "print(s)"
   ]
  },
  {
   "cell_type": "code",
   "execution_count": 34,
   "metadata": {},
   "outputs": [],
   "source": [
    "import re\n",
    "import sys\n",
    "import unicodedata\n",
    "from sacremoses import MosesPunctNormalizer\n",
    "\n",
    "mpn = MosesPunctNormalizer(lang=\"en\")\n",
    "mpn.substitutions = [\n",
    "    (re.compile(r), sub) for r, sub in mpn.substitutions\n",
    "]\n",
    "\n",
    "def get_non_printing_char_replacer(replace_by: str = \" \"):\n",
    "    non_printable_map = {\n",
    "        ord(c): replace_by\n",
    "        for c in (chr(i) for i in range(sys.maxunicode + 1))\n",
    "        # same as \\p{C} in perl\n",
    "        # see https://www.unicode.org/reports/tr44/#General_Category_Values\n",
    "        if unicodedata.category(c) in {\"C\", \"Cc\", \"Cf\", \"Cs\", \"Co\", \"Cn\"}\n",
    "    }\n",
    "\n",
    "    def replace_non_printing_char(line) -> str:\n",
    "        return line.translate(non_printable_map)\n",
    "\n",
    "    return replace_non_printing_char\n",
    "\n",
    "replace_nonprint = get_non_printing_char_replacer(\" \")\n",
    "\n",
    "def preproc(text):\n",
    "    clean = mpn.normalize(text)\n",
    "    clean = replace_nonprint(clean)\n",
    "    # replace 𝓕𝔯𝔞𝔫𝔠𝔢𝔰𝔠𝔞 by Francesca\n",
    "    clean = unicodedata.normalize(\"NFKC\", clean)\n",
    "    return clean"
   ]
  },
  {
   "cell_type": "code",
   "execution_count": 35,
   "metadata": {},
   "outputs": [
    {
     "name": "stderr",
     "output_type": "stream",
     "text": [
      "100%|██████████| 24587/24587 [00:03<00:00, 6786.24it/s]"
     ]
    },
    {
     "name": "stdout",
     "output_type": "stream",
     "text": [
      "0\n"
     ]
    },
    {
     "name": "stderr",
     "output_type": "stream",
     "text": [
      "\n"
     ]
    }
   ],
   "source": [
    "texts_with_unk_normed = [\n",
    "    text for text in tqdm(texts_with_unk) \n",
    "    if tokenizer.unk_token_id in tokenizer(preproc(text)).input_ids\n",
    "]\n",
    "print(len(texts_with_unk_normed))  # 0"
   ]
  },
  {
   "cell_type": "code",
   "execution_count": 36,
   "metadata": {},
   "outputs": [],
   "source": [
    "from transformers.optimization import Adafactor\n",
    "from transformers import get_constant_schedule_with_warmup\n",
    "model.cuda();\n",
    "optimizer = Adafactor(\n",
    "    [p for p in model.parameters() if p.requires_grad],\n",
    "    scale_parameter=False,\n",
    "    relative_step=False,\n",
    "    lr=1e-4,\n",
    "    clip_threshold=1.0,\n",
    "    weight_decay=1e-3,\n",
    ")\n",
    "scheduler = get_constant_schedule_with_warmup(optimizer, num_warmup_steps=1000)"
   ]
  },
  {
   "cell_type": "code",
   "execution_count": 37,
   "metadata": {},
   "outputs": [
    {
     "name": "stdout",
     "output_type": "stream",
     "text": [
      "([\"Ni ho wompamagara, nkakwitaba, Cank' unyemerere mvuge, abe ari wewe unyishura.\"], ['Then summon me and I will answer, or let me speak, and you reply to me.'], 'tyv_Cyrl', 'rus_Cyrl')\n"
     ]
    }
   ],
   "source": [
    "import random\n",
    "LANGS = [('ru', 'rus_Cyrl'), ('tyv', 'tyv_Cyrl')]\n",
    "\n",
    "def get_batch_pairs(batch_size, data=df_train):\n",
    "    (l1, long1), (l2, long2) = random.sample(LANGS, 2)\n",
    "    xx, yy = [], []\n",
    "    for _ in range(batch_size):\n",
    "        item = data.iloc[random.randint(0, len(data)-1)]\n",
    "        xx.append(preproc(item[l1]))\n",
    "        yy.append(preproc(item[l2]))\n",
    "    return xx, yy, long1, long2\n",
    "\n",
    "print(get_batch_pairs(1))"
   ]
  },
  {
   "cell_type": "code",
   "execution_count": 38,
   "metadata": {},
   "outputs": [],
   "source": [
    "import gc\n",
    "import torch\n",
    "\n",
    "def cleanup():\n",
    "    \"\"\"Try to free GPU memory\"\"\"\n",
    "    gc.collect()\n",
    "    torch.cuda.empty_cache()"
   ]
  },
  {
   "cell_type": "code",
   "execution_count": 40,
   "metadata": {},
   "outputs": [],
   "source": [
    "batch_size = 16  # 32 already doesn't fit well to 15GB of GPU memory\n",
    "max_length = 128  # token sequences will be truncated\n",
    "training_steps = 60000  # Usually, I set a large number of steps,\n",
    "# and then just interrupt the training manually\n",
    "losses = []  # with this list, I do very simple tracking of average loss\n",
    "MODEL_SAVE_PATH = './NLLB/nllb-eng-kir-v1'  # on my Google drive"
   ]
  },
  {
   "cell_type": "code",
   "execution_count": 42,
   "metadata": {},
   "outputs": [
    {
     "name": "stderr",
     "output_type": "stream",
     "text": [
      "  2%|▏         | 999/59999 [02:57<2:56:06,  5.58it/s]"
     ]
    },
    {
     "name": "stdout",
     "output_type": "stream",
     "text": [
      "1000 1.9577168974876404\n"
     ]
    },
    {
     "name": "stderr",
     "output_type": "stream",
     "text": [
      "  3%|▎         | 1999/59999 [05:57<2:57:03,  5.46it/s] "
     ]
    },
    {
     "name": "stdout",
     "output_type": "stream",
     "text": [
      "2000 1.4184650593400001\n"
     ]
    },
    {
     "name": "stderr",
     "output_type": "stream",
     "text": [
      "  5%|▍         | 2999/59999 [09:17<3:07:43,  5.06it/s] "
     ]
    },
    {
     "name": "stdout",
     "output_type": "stream",
     "text": [
      "3000 1.2917408001422883\n"
     ]
    },
    {
     "name": "stderr",
     "output_type": "stream",
     "text": [
      "  7%|▋         | 3999/59999 [12:38<3:00:39,  5.17it/s] "
     ]
    },
    {
     "name": "stdout",
     "output_type": "stream",
     "text": [
      "4000 1.1559770315885545\n"
     ]
    },
    {
     "name": "stderr",
     "output_type": "stream",
     "text": [
      "  8%|▊         | 4999/59999 [15:58<2:58:34,  5.13it/s] "
     ]
    },
    {
     "name": "stdout",
     "output_type": "stream",
     "text": [
      "5000 1.0913198860287667\n"
     ]
    },
    {
     "name": "stderr",
     "output_type": "stream",
     "text": [
      " 10%|▉         | 5999/59999 [19:19<2:50:22,  5.28it/s] "
     ]
    },
    {
     "name": "stdout",
     "output_type": "stream",
     "text": [
      "6000 1.0222452116012573\n"
     ]
    },
    {
     "name": "stderr",
     "output_type": "stream",
     "text": [
      " 12%|█▏        | 6999/59999 [22:39<2:45:28,  5.34it/s] "
     ]
    },
    {
     "name": "stdout",
     "output_type": "stream",
     "text": [
      "7000 0.9603768056333065\n"
     ]
    },
    {
     "name": "stderr",
     "output_type": "stream",
     "text": [
      " 13%|█▎        | 7999/59999 [25:57<2:34:28,  5.61it/s] "
     ]
    },
    {
     "name": "stdout",
     "output_type": "stream",
     "text": [
      "8000 0.8894408876001835\n"
     ]
    },
    {
     "name": "stderr",
     "output_type": "stream",
     "text": [
      " 15%|█▍        | 8999/59999 [29:21<2:45:05,  5.15it/s] "
     ]
    },
    {
     "name": "stdout",
     "output_type": "stream",
     "text": [
      "9000 0.8386934683024884\n"
     ]
    },
    {
     "name": "stderr",
     "output_type": "stream",
     "text": [
      " 17%|█▋        | 9999/59999 [32:45<2:42:16,  5.14it/s] "
     ]
    },
    {
     "name": "stdout",
     "output_type": "stream",
     "text": [
      "10000 0.815350840061903\n"
     ]
    },
    {
     "name": "stderr",
     "output_type": "stream",
     "text": [
      " 18%|█▊        | 10999/59999 [36:06<2:30:42,  5.42it/s] "
     ]
    },
    {
     "name": "stdout",
     "output_type": "stream",
     "text": [
      "11000 0.7406091915667057\n"
     ]
    },
    {
     "name": "stderr",
     "output_type": "stream",
     "text": [
      " 20%|█▉        | 11999/59999 [39:25<2:23:30,  5.57it/s] "
     ]
    },
    {
     "name": "stdout",
     "output_type": "stream",
     "text": [
      "12000 0.7038045809715986\n"
     ]
    },
    {
     "name": "stderr",
     "output_type": "stream",
     "text": [
      " 22%|██▏       | 12999/59999 [42:44<2:31:23,  5.17it/s] "
     ]
    },
    {
     "name": "stdout",
     "output_type": "stream",
     "text": [
      "13000 0.6763691198676824\n"
     ]
    },
    {
     "name": "stderr",
     "output_type": "stream",
     "text": [
      " 23%|██▎       | 13999/59999 [46:02<2:32:12,  5.04it/s] "
     ]
    },
    {
     "name": "stdout",
     "output_type": "stream",
     "text": [
      "14000 0.6428956026732922\n"
     ]
    },
    {
     "name": "stderr",
     "output_type": "stream",
     "text": [
      " 25%|██▍       | 14999/59999 [49:23<2:20:31,  5.34it/s] "
     ]
    },
    {
     "name": "stdout",
     "output_type": "stream",
     "text": [
      "15000 0.5987155078202486\n"
     ]
    },
    {
     "name": "stderr",
     "output_type": "stream",
     "text": [
      " 27%|██▋       | 15999/59999 [52:41<2:16:07,  5.39it/s] "
     ]
    },
    {
     "name": "stdout",
     "output_type": "stream",
     "text": [
      "16000 0.5689880764931441\n"
     ]
    },
    {
     "name": "stderr",
     "output_type": "stream",
     "text": [
      " 28%|██▊       | 16999/59999 [56:00<2:14:06,  5.34it/s] "
     ]
    },
    {
     "name": "stdout",
     "output_type": "stream",
     "text": [
      "17000 0.5327341787666082\n"
     ]
    },
    {
     "name": "stderr",
     "output_type": "stream",
     "text": [
      " 30%|██▉       | 17999/59999 [59:21<2:09:29,  5.41it/s] "
     ]
    },
    {
     "name": "stdout",
     "output_type": "stream",
     "text": [
      "18000 0.5139888966083527\n"
     ]
    },
    {
     "name": "stderr",
     "output_type": "stream",
     "text": [
      " 32%|███▏      | 18999/59999 [1:02:41<2:14:04,  5.10it/s]"
     ]
    },
    {
     "name": "stdout",
     "output_type": "stream",
     "text": [
      "19000 0.4755984714627266\n"
     ]
    },
    {
     "name": "stderr",
     "output_type": "stream",
     "text": [
      " 33%|███▎      | 19999/59999 [1:05:58<1:55:19,  5.78it/s] "
     ]
    },
    {
     "name": "stdout",
     "output_type": "stream",
     "text": [
      "20000 0.45027476413547995\n"
     ]
    },
    {
     "name": "stderr",
     "output_type": "stream",
     "text": [
      " 35%|███▍      | 20999/59999 [1:09:17<1:56:49,  5.56it/s] "
     ]
    },
    {
     "name": "stdout",
     "output_type": "stream",
     "text": [
      "21000 0.42195676627755163\n"
     ]
    },
    {
     "name": "stderr",
     "output_type": "stream",
     "text": [
      " 37%|███▋      | 21999/59999 [1:12:38<2:08:58,  4.91it/s] "
     ]
    },
    {
     "name": "stdout",
     "output_type": "stream",
     "text": [
      "22000 0.4116184184253216\n"
     ]
    },
    {
     "name": "stderr",
     "output_type": "stream",
     "text": [
      " 38%|███▊      | 22999/59999 [1:15:58<1:56:51,  5.28it/s] "
     ]
    },
    {
     "name": "stdout",
     "output_type": "stream",
     "text": [
      "23000 0.3826705976724625\n"
     ]
    },
    {
     "name": "stderr",
     "output_type": "stream",
     "text": [
      " 40%|███▉      | 23999/59999 [1:19:18<1:52:05,  5.35it/s] "
     ]
    },
    {
     "name": "stdout",
     "output_type": "stream",
     "text": [
      "24000 0.3640548131912947\n"
     ]
    },
    {
     "name": "stderr",
     "output_type": "stream",
     "text": [
      " 42%|████▏     | 24999/59999 [1:22:37<1:45:01,  5.55it/s] "
     ]
    },
    {
     "name": "stdout",
     "output_type": "stream",
     "text": [
      "25000 0.35234981010854244\n"
     ]
    },
    {
     "name": "stderr",
     "output_type": "stream",
     "text": [
      " 43%|████▎     | 25999/59999 [1:25:57<1:47:52,  5.25it/s] "
     ]
    },
    {
     "name": "stdout",
     "output_type": "stream",
     "text": [
      "26000 0.31896859578043224\n"
     ]
    },
    {
     "name": "stderr",
     "output_type": "stream",
     "text": [
      " 45%|████▍     | 26999/59999 [1:29:12<1:38:02,  5.61it/s] "
     ]
    },
    {
     "name": "stdout",
     "output_type": "stream",
     "text": [
      "27000 0.3024690904691815\n"
     ]
    },
    {
     "name": "stderr",
     "output_type": "stream",
     "text": [
      " 47%|████▋     | 27999/59999 [1:32:28<1:40:51,  5.29it/s] "
     ]
    },
    {
     "name": "stdout",
     "output_type": "stream",
     "text": [
      "28000 0.28957539814710614\n"
     ]
    },
    {
     "name": "stderr",
     "output_type": "stream",
     "text": [
      " 48%|████▊     | 28999/59999 [1:35:42<1:32:14,  5.60it/s] "
     ]
    },
    {
     "name": "stdout",
     "output_type": "stream",
     "text": [
      "29000 0.26816681211441756\n"
     ]
    },
    {
     "name": "stderr",
     "output_type": "stream",
     "text": [
      " 50%|████▉     | 29999/59999 [1:39:01<1:39:14,  5.04it/s] "
     ]
    },
    {
     "name": "stdout",
     "output_type": "stream",
     "text": [
      "30000 0.25745178647339345\n"
     ]
    },
    {
     "name": "stderr",
     "output_type": "stream",
     "text": [
      " 52%|█████▏    | 30999/59999 [1:42:23<1:24:40,  5.71it/s] "
     ]
    },
    {
     "name": "stdout",
     "output_type": "stream",
     "text": [
      "31000 0.2470282033458352\n"
     ]
    },
    {
     "name": "stderr",
     "output_type": "stream",
     "text": [
      " 53%|█████▎    | 31999/59999 [1:45:43<1:28:32,  5.27it/s] "
     ]
    },
    {
     "name": "stdout",
     "output_type": "stream",
     "text": [
      "32000 0.2360104439407587\n"
     ]
    },
    {
     "name": "stderr",
     "output_type": "stream",
     "text": [
      " 55%|█████▍    | 32999/59999 [1:49:04<1:24:11,  5.34it/s] "
     ]
    },
    {
     "name": "stdout",
     "output_type": "stream",
     "text": [
      "33000 0.2252184659615159\n"
     ]
    },
    {
     "name": "stderr",
     "output_type": "stream",
     "text": [
      " 57%|█████▋    | 33999/59999 [1:52:24<1:22:03,  5.28it/s] "
     ]
    },
    {
     "name": "stdout",
     "output_type": "stream",
     "text": [
      "34000 0.2127457870580256\n"
     ]
    },
    {
     "name": "stderr",
     "output_type": "stream",
     "text": [
      " 58%|█████▊    | 34999/59999 [1:55:42<1:25:28,  4.88it/s] "
     ]
    },
    {
     "name": "stdout",
     "output_type": "stream",
     "text": [
      "35000 0.19915992631763219\n"
     ]
    },
    {
     "name": "stderr",
     "output_type": "stream",
     "text": [
      " 60%|█████▉    | 35999/59999 [1:59:02<1:14:37,  5.36it/s] "
     ]
    },
    {
     "name": "stdout",
     "output_type": "stream",
     "text": [
      "36000 0.18833892212435605\n"
     ]
    },
    {
     "name": "stderr",
     "output_type": "stream",
     "text": [
      " 61%|██████    | 36318/59999 [2:00:12<1:18:23,  5.04it/s] \n"
     ]
    },
    {
     "ename": "KeyboardInterrupt",
     "evalue": "",
     "output_type": "error",
     "traceback": [
      "\u001b[0;31m---------------------------------------------------------------------------\u001b[0m",
      "\u001b[0;31mKeyboardInterrupt\u001b[0m                         Traceback (most recent call last)",
      "Cell \u001b[0;32mIn[42], line 20\u001b[0m\n\u001b[1;32m     17\u001b[0m y\u001b[38;5;241m.\u001b[39minput_ids[y\u001b[38;5;241m.\u001b[39minput_ids \u001b[38;5;241m==\u001b[39m tokenizer\u001b[38;5;241m.\u001b[39mpad_token_id] \u001b[38;5;241m=\u001b[39m \u001b[38;5;241m-\u001b[39m\u001b[38;5;241m100\u001b[39m\n\u001b[1;32m     19\u001b[0m loss \u001b[38;5;241m=\u001b[39m model(\u001b[38;5;241m*\u001b[39m\u001b[38;5;241m*\u001b[39mx, labels\u001b[38;5;241m=\u001b[39my\u001b[38;5;241m.\u001b[39minput_ids)\u001b[38;5;241m.\u001b[39mloss\n\u001b[0;32m---> 20\u001b[0m \u001b[43mloss\u001b[49m\u001b[38;5;241;43m.\u001b[39;49m\u001b[43mbackward\u001b[49m\u001b[43m(\u001b[49m\u001b[43m)\u001b[49m\n\u001b[1;32m     21\u001b[0m losses\u001b[38;5;241m.\u001b[39mappend(loss\u001b[38;5;241m.\u001b[39mitem())\n\u001b[1;32m     23\u001b[0m optimizer\u001b[38;5;241m.\u001b[39mstep()\n",
      "File \u001b[0;32m/usr/local/lib/python3.10/dist-packages/torch/_tensor.py:503\u001b[0m, in \u001b[0;36mTensor.backward\u001b[0;34m(self, gradient, retain_graph, create_graph, inputs)\u001b[0m\n\u001b[1;32m    493\u001b[0m \u001b[38;5;28;01mif\u001b[39;00m has_torch_function_unary(\u001b[38;5;28mself\u001b[39m):\n\u001b[1;32m    494\u001b[0m     \u001b[38;5;28;01mreturn\u001b[39;00m handle_torch_function(\n\u001b[1;32m    495\u001b[0m         Tensor\u001b[38;5;241m.\u001b[39mbackward,\n\u001b[1;32m    496\u001b[0m         (\u001b[38;5;28mself\u001b[39m,),\n\u001b[0;32m   (...)\u001b[0m\n\u001b[1;32m    501\u001b[0m         inputs\u001b[38;5;241m=\u001b[39minputs,\n\u001b[1;32m    502\u001b[0m     )\n\u001b[0;32m--> 503\u001b[0m \u001b[43mtorch\u001b[49m\u001b[38;5;241;43m.\u001b[39;49m\u001b[43mautograd\u001b[49m\u001b[38;5;241;43m.\u001b[39;49m\u001b[43mbackward\u001b[49m\u001b[43m(\u001b[49m\n\u001b[1;32m    504\u001b[0m \u001b[43m    \u001b[49m\u001b[38;5;28;43mself\u001b[39;49m\u001b[43m,\u001b[49m\u001b[43m \u001b[49m\u001b[43mgradient\u001b[49m\u001b[43m,\u001b[49m\u001b[43m \u001b[49m\u001b[43mretain_graph\u001b[49m\u001b[43m,\u001b[49m\u001b[43m \u001b[49m\u001b[43mcreate_graph\u001b[49m\u001b[43m,\u001b[49m\u001b[43m \u001b[49m\u001b[43minputs\u001b[49m\u001b[38;5;241;43m=\u001b[39;49m\u001b[43minputs\u001b[49m\n\u001b[1;32m    505\u001b[0m \u001b[43m\u001b[49m\u001b[43m)\u001b[49m\n",
      "File \u001b[0;32m/usr/local/lib/python3.10/dist-packages/torch/autograd/__init__.py:254\u001b[0m, in \u001b[0;36mbackward\u001b[0;34m(tensors, grad_tensors, retain_graph, create_graph, grad_variables, inputs)\u001b[0m\n\u001b[1;32m    249\u001b[0m     retain_graph \u001b[38;5;241m=\u001b[39m create_graph\n\u001b[1;32m    251\u001b[0m \u001b[38;5;66;03m# The reason we repeat the same comment below is that\u001b[39;00m\n\u001b[1;32m    252\u001b[0m \u001b[38;5;66;03m# some Python versions print out the first line of a multi-line function\u001b[39;00m\n\u001b[1;32m    253\u001b[0m \u001b[38;5;66;03m# calls in the traceback and some print out the last line\u001b[39;00m\n\u001b[0;32m--> 254\u001b[0m \u001b[43mVariable\u001b[49m\u001b[38;5;241;43m.\u001b[39;49m\u001b[43m_execution_engine\u001b[49m\u001b[38;5;241;43m.\u001b[39;49m\u001b[43mrun_backward\u001b[49m\u001b[43m(\u001b[49m\u001b[43m  \u001b[49m\u001b[38;5;66;43;03m# Calls into the C++ engine to run the backward pass\u001b[39;49;00m\n\u001b[1;32m    255\u001b[0m \u001b[43m    \u001b[49m\u001b[43mtensors\u001b[49m\u001b[43m,\u001b[49m\n\u001b[1;32m    256\u001b[0m \u001b[43m    \u001b[49m\u001b[43mgrad_tensors_\u001b[49m\u001b[43m,\u001b[49m\n\u001b[1;32m    257\u001b[0m \u001b[43m    \u001b[49m\u001b[43mretain_graph\u001b[49m\u001b[43m,\u001b[49m\n\u001b[1;32m    258\u001b[0m \u001b[43m    \u001b[49m\u001b[43mcreate_graph\u001b[49m\u001b[43m,\u001b[49m\n\u001b[1;32m    259\u001b[0m \u001b[43m    \u001b[49m\u001b[43minputs\u001b[49m\u001b[43m,\u001b[49m\n\u001b[1;32m    260\u001b[0m \u001b[43m    \u001b[49m\u001b[43mallow_unreachable\u001b[49m\u001b[38;5;241;43m=\u001b[39;49m\u001b[38;5;28;43;01mTrue\u001b[39;49;00m\u001b[43m,\u001b[49m\n\u001b[1;32m    261\u001b[0m \u001b[43m    \u001b[49m\u001b[43maccumulate_grad\u001b[49m\u001b[38;5;241;43m=\u001b[39;49m\u001b[38;5;28;43;01mTrue\u001b[39;49;00m\u001b[43m,\u001b[49m\n\u001b[1;32m    262\u001b[0m \u001b[43m\u001b[49m\u001b[43m)\u001b[49m\n",
      "\u001b[0;31mKeyboardInterrupt\u001b[0m: "
     ]
    }
   ],
   "source": [
    "import numpy as np\n",
    "\n",
    "model.train()\n",
    "x, y, loss = None, None, None\n",
    "cleanup()\n",
    "\n",
    "tq = trange(len(losses), training_steps)\n",
    "for i in tq:\n",
    "    xx, yy, lang1, lang2 = get_batch_pairs(batch_size)\n",
    "    try:\n",
    "        tokenizer.src_lang = lang1\n",
    "        x = tokenizer(xx, return_tensors='pt', padding=True, truncation=True, max_length=max_length).to(model.device)\n",
    "        tokenizer.src_lang = lang2\n",
    "        y = tokenizer(yy, return_tensors='pt', padding=True, truncation=True, max_length=max_length).to(model.device)\n",
    "        # -100 is a magic value ignored in the loss function\n",
    "        # because we don't want the model to learn to predict padding ids\n",
    "        y.input_ids[y.input_ids == tokenizer.pad_token_id] = -100\n",
    "\n",
    "        loss = model(**x, labels=y.input_ids).loss\n",
    "        loss.backward()\n",
    "        losses.append(loss.item())\n",
    "\n",
    "        optimizer.step()\n",
    "        optimizer.zero_grad(set_to_none=True)\n",
    "        scheduler.step()\n",
    "\n",
    "    except RuntimeError as e:  # usually, it is out-of-memory\n",
    "        optimizer.zero_grad(set_to_none=True)\n",
    "        x, y, loss = None, None, None\n",
    "        cleanup()\n",
    "        print('error', max(len(s) for s in xx + yy), e)\n",
    "        continue\n",
    "\n",
    "    if i % 1000 == 0:\n",
    "        # each 1000 steps, I report average loss at these steps\n",
    "        print(i, np.mean(losses[-1000:]))\n",
    "\n",
    "    if i % 1000 == 0 and i > 0:\n",
    "        model.save_pretrained(MODEL_SAVE_PATH)\n",
    "        tokenizer.save_pretrained(MODEL_SAVE_PATH)"
   ]
  },
  {
   "cell_type": "code",
   "execution_count": 44,
   "metadata": {},
   "outputs": [],
   "source": [
    "from transformers import NllbTokenizer, AutoModelForSeq2SeqLM\n",
    "model_load_name = './NLLB/nllb-eng-kir-v1'\n",
    "model = AutoModelForSeq2SeqLM.from_pretrained(model_load_name).cuda()\n",
    "tokenizer = NllbTokenizer.from_pretrained(model_load_name)\n",
    "# fix_tokenizer(tokenizer)"
   ]
  },
  {
   "cell_type": "code",
   "execution_count": 129,
   "metadata": {},
   "outputs": [],
   "source": [
    "def translate(\n",
    "    text, src_lang='run_Latn', tgt_lang='eng_Latn', \n",
    "    a=32, b=3, max_input_length=1024, num_beams=4, **kwargs\n",
    "):\n",
    "    \"\"\"Turn a text or a list of texts into a list of translations\"\"\"\n",
    "    tokenizer.src_lang = src_lang\n",
    "    tokenizer.tgt_lang = tgt_lang\n",
    "    inputs = tokenizer(\n",
    "        text, return_tensors='pt', padding=True, truncation=True, \n",
    "        max_length=max_input_length\n",
    "    )\n",
    "    model.eval() # turn off training mode\n",
    "    result = model.generate(\n",
    "        **inputs.to(model.device),\n",
    "        forced_bos_token_id=tokenizer.convert_tokens_to_ids(tgt_lang),\n",
    "        max_new_tokens=int(a + b * inputs.input_ids.shape[1]),\n",
    "        num_beams=num_beams, **kwargs\n",
    "    )\n",
    "    return tokenizer.batch_decode(result, skip_special_tokens=True)"
   ]
  },
  {
   "cell_type": "code",
   "execution_count": 163,
   "metadata": {},
   "outputs": [],
   "source": [
    "df_test_small = df_test.sample(1000, random_state=42)"
   ]
  },
  {
   "cell_type": "code",
   "execution_count": 164,
   "metadata": {},
   "outputs": [
    {
     "name": "stderr",
     "output_type": "stream",
     "text": [
      "100%|██████████| 63/63 [20:08<00:00, 19.18s/it] \n"
     ]
    }
   ],
   "source": [
    "df_test_small['translated'] = batched_translate(df_test_small['tyv'].tolist())"
   ]
  },
  {
   "cell_type": "code",
   "execution_count": 77,
   "metadata": {},
   "outputs": [
    {
     "data": {
      "text/plain": [
       "list"
      ]
     },
     "execution_count": 77,
     "metadata": {},
     "output_type": "execute_result"
    }
   ],
   "source": [
    "type(df_test_small.iloc[0][\"translated\"])"
   ]
  },
  {
   "cell_type": "code",
   "execution_count": 78,
   "metadata": {},
   "outputs": [],
   "source": [
    "df_test_small['translated'] = df_test_small['translated'].apply(lambda x: x[0])"
   ]
  },
  {
   "cell_type": "code",
   "execution_count": null,
   "metadata": {},
   "outputs": [],
   "source": [
    "translations_df = batched_translate(flores['run'].tolist()[500:])"
   ]
  },
  {
   "cell_type": "code",
   "execution_count": 165,
   "metadata": {},
   "outputs": [
    {
     "name": "stdout",
     "output_type": "stream",
     "text": [
      "BLEU = 23.85 52.9/28.4/17.9/12.0 (BP = 1.000 ratio = 1.070 hyp_len = 29121 ref_len = 27228)\n",
      "chrF2++ = 46.11\n"
     ]
    }
   ],
   "source": [
    "import sacrebleu\n",
    "bleu_calc = sacrebleu.BLEU()\n",
    "chrf_calc = sacrebleu.CHRF(word_order=2)  # this metric is called ChrF++\n",
    "\n",
    "print(bleu_calc.corpus_score(df_test_small['translated'].tolist(), [df_test_small['ru'].tolist()]))\n",
    "print(chrf_calc.corpus_score(df_test_small['translated'].tolist(), [df_test_small['ru'].tolist()]))\n",
    "\n",
    "# BLEU = 24.14 52.5/30.4/18.9/12.1 (BP = 0.981 ratio = 0.981 hyp_len = 2281 ref_len = 2324)\n",
    "# chrF2++ = 49.49\n",
    "# BLEU = 23.41 52.1/31.0/18.9/11.3 (BP = 0.966 ratio = 0.967 hyp_len = 2292 ref_len = 2371)\n",
    "# chrF2++ = 50.89"
   ]
  },
  {
   "cell_type": "code",
   "execution_count": 152,
   "metadata": {},
   "outputs": [],
   "source": [
    "def batched_translate(texts, batch_size=16, **kwargs):\n",
    "    \"\"\"Translate texts in batches of similar length\"\"\"\n",
    "    idxs, texts2 = zip(*sorted(enumerate(texts), key=lambda p: len(p[1]), reverse=True))\n",
    "    results = []\n",
    "    for i in trange(0, len(texts2), batch_size):\n",
    "        results.extend(translate(texts2[i: i+batch_size], **kwargs))\n",
    "    return [p for i, p in sorted(zip(idxs, results))]"
   ]
  },
  {
   "cell_type": "code",
   "execution_count": 173,
   "metadata": {},
   "outputs": [],
   "source": [
    "from datasets import load_dataset\n",
    "dataset = load_dataset(\"Muennighoff/flores200\", 'eng_Latn-run_Latn')"
   ]
  },
  {
   "cell_type": "code",
   "execution_count": null,
   "metadata": {},
   "outputs": [],
   "source": []
  },
  {
   "cell_type": "code",
   "execution_count": 174,
   "metadata": {},
   "outputs": [],
   "source": [
    "dataset = dataset['dev']"
   ]
  },
  {
   "cell_type": "code",
   "execution_count": 175,
   "metadata": {},
   "outputs": [
    {
     "data": {
      "text/plain": [
       "Dataset({\n",
       "    features: ['id', 'URL', 'domain', 'topic', 'has_image', 'has_hyperlink', 'sentence_eng_Latn', 'sentence_run_Latn'],\n",
       "    num_rows: 997\n",
       "})"
      ]
     },
     "execution_count": 175,
     "metadata": {},
     "output_type": "execute_result"
    }
   ],
   "source": [
    "dataset"
   ]
  },
  {
   "cell_type": "code",
   "execution_count": 135,
   "metadata": {},
   "outputs": [],
   "source": [
    "flores = pd.DataFrame(([dataset['sentence_eng_Latn'], dataset['sentence_run_Latn']]))"
   ]
  },
  {
   "cell_type": "code",
   "execution_count": 176,
   "metadata": {},
   "outputs": [],
   "source": [
    "flores_train = pd.DataFrame(([dataset['sentence_eng_Latn'], dataset['sentence_run_Latn']]))"
   ]
  },
  {
   "cell_type": "code",
   "execution_count": 177,
   "metadata": {},
   "outputs": [],
   "source": [
    "flores_train = flores_train.T"
   ]
  },
  {
   "cell_type": "code",
   "execution_count": 178,
   "metadata": {},
   "outputs": [],
   "source": [
    "flores_train.columns = ['eng', 'run']"
   ]
  },
  {
   "cell_type": "code",
   "execution_count": 138,
   "metadata": {},
   "outputs": [
    {
     "data": {
      "text/html": [
       "<div>\n",
       "<style scoped>\n",
       "    .dataframe tbody tr th:only-of-type {\n",
       "        vertical-align: middle;\n",
       "    }\n",
       "\n",
       "    .dataframe tbody tr th {\n",
       "        vertical-align: top;\n",
       "    }\n",
       "\n",
       "    .dataframe thead th {\n",
       "        text-align: right;\n",
       "    }\n",
       "</style>\n",
       "<table border=\"1\" class=\"dataframe\">\n",
       "  <thead>\n",
       "    <tr style=\"text-align: right;\">\n",
       "      <th></th>\n",
       "      <th>lat</th>\n",
       "      <th>run</th>\n",
       "    </tr>\n",
       "  </thead>\n",
       "  <tbody>\n",
       "    <tr>\n",
       "      <th>0</th>\n",
       "      <td>\"We now have 4-month-old mice that are non-dia...</td>\n",
       "      <td>Yongeyeko ati: \"Ubu turafise imbeba y'amezi 4 ...</td>\n",
       "    </tr>\n",
       "    <tr>\n",
       "      <th>1</th>\n",
       "      <td>Dr. Ehud Ur, professor of medicine at Dalhousi...</td>\n",
       "      <td>Umuhinga Ehud Ur, umwigisha w'ivy'ubuganga kur...</td>\n",
       "    </tr>\n",
       "    <tr>\n",
       "      <th>2</th>\n",
       "      <td>Like some other experts, he is skeptical about...</td>\n",
       "      <td>Cokimwe n'abandi bahinga, arafise amakenga ku ...</td>\n",
       "    </tr>\n",
       "    <tr>\n",
       "      <th>3</th>\n",
       "      <td>On Monday, Sara Danius, permanent secretary of...</td>\n",
       "      <td>Ku wa mbere, Sara Danius, umunyamabanga ntayeg...</td>\n",
       "    </tr>\n",
       "    <tr>\n",
       "      <th>4</th>\n",
       "      <td>Danius said, \"Right now we are doing nothing. ...</td>\n",
       "      <td>Danius yavuze ati: \"Ubu nta co turiko turakora...</td>\n",
       "    </tr>\n",
       "    <tr>\n",
       "      <th>...</th>\n",
       "      <td>...</td>\n",
       "      <td>...</td>\n",
       "    </tr>\n",
       "    <tr>\n",
       "      <th>1007</th>\n",
       "      <td>As the areas are sparsely populated, and light...</td>\n",
       "      <td>Kuko ivyo bice bibamwo abantu inkehwa, kandi n...</td>\n",
       "    </tr>\n",
       "    <tr>\n",
       "      <th>1008</th>\n",
       "      <td>Japanese work culture is more hierarchical and...</td>\n",
       "      <td>Akaranga mu kazi k'Abayapani karasumbasumbana ...</td>\n",
       "    </tr>\n",
       "    <tr>\n",
       "      <th>1009</th>\n",
       "      <td>Suits are standard business attire, and cowork...</td>\n",
       "      <td>Ikositimu niwo mwambaro w'akazi umenyerewe, ka...</td>\n",
       "    </tr>\n",
       "    <tr>\n",
       "      <th>1010</th>\n",
       "      <td>Workplace harmony is crucial, emphasizing grou...</td>\n",
       "      <td>Itunganywa ryiza ry'ikibanza c'akazi ni ngombw...</td>\n",
       "    </tr>\n",
       "    <tr>\n",
       "      <th>1011</th>\n",
       "      <td>Workers must often get their superiors' approv...</td>\n",
       "      <td>Abakozi bategerezwa kenshi kuronka uruhusha rw...</td>\n",
       "    </tr>\n",
       "  </tbody>\n",
       "</table>\n",
       "<p>1012 rows × 2 columns</p>\n",
       "</div>"
      ],
      "text/plain": [
       "                                                    lat  \\\n",
       "0     \"We now have 4-month-old mice that are non-dia...   \n",
       "1     Dr. Ehud Ur, professor of medicine at Dalhousi...   \n",
       "2     Like some other experts, he is skeptical about...   \n",
       "3     On Monday, Sara Danius, permanent secretary of...   \n",
       "4     Danius said, \"Right now we are doing nothing. ...   \n",
       "...                                                 ...   \n",
       "1007  As the areas are sparsely populated, and light...   \n",
       "1008  Japanese work culture is more hierarchical and...   \n",
       "1009  Suits are standard business attire, and cowork...   \n",
       "1010  Workplace harmony is crucial, emphasizing grou...   \n",
       "1011  Workers must often get their superiors' approv...   \n",
       "\n",
       "                                                    run  \n",
       "0     Yongeyeko ati: \"Ubu turafise imbeba y'amezi 4 ...  \n",
       "1     Umuhinga Ehud Ur, umwigisha w'ivy'ubuganga kur...  \n",
       "2     Cokimwe n'abandi bahinga, arafise amakenga ku ...  \n",
       "3     Ku wa mbere, Sara Danius, umunyamabanga ntayeg...  \n",
       "4     Danius yavuze ati: \"Ubu nta co turiko turakora...  \n",
       "...                                                 ...  \n",
       "1007  Kuko ivyo bice bibamwo abantu inkehwa, kandi n...  \n",
       "1008  Akaranga mu kazi k'Abayapani karasumbasumbana ...  \n",
       "1009  Ikositimu niwo mwambaro w'akazi umenyerewe, ka...  \n",
       "1010  Itunganywa ryiza ry'ikibanza c'akazi ni ngombw...  \n",
       "1011  Abakozi bategerezwa kenshi kuronka uruhusha rw...  \n",
       "\n",
       "[1012 rows x 2 columns]"
      ]
     },
     "execution_count": 138,
     "metadata": {},
     "output_type": "execute_result"
    }
   ],
   "source": [
    "flores"
   ]
  },
  {
   "cell_type": "code",
   "execution_count": 151,
   "metadata": {},
   "outputs": [
    {
     "name": "stderr",
     "output_type": "stream",
     "text": [
      "  0%|          | 4/1012 [00:16<1:07:24,  4.01s/it]\n"
     ]
    },
    {
     "ename": "KeyboardInterrupt",
     "evalue": "",
     "output_type": "error",
     "traceback": [
      "\u001b[0;31m---------------------------------------------------------------------------\u001b[0m",
      "\u001b[0;31mKeyboardInterrupt\u001b[0m                         Traceback (most recent call last)",
      "Cell \u001b[0;32mIn[151], line 4\u001b[0m\n\u001b[1;32m      2\u001b[0m translations \u001b[38;5;241m=\u001b[39m []\n\u001b[1;32m      3\u001b[0m \u001b[38;5;28;01mfor\u001b[39;00m i, _ \u001b[38;5;129;01min\u001b[39;00m \u001b[38;5;28menumerate\u001b[39m(tqdm(flores[\u001b[38;5;124m'\u001b[39m\u001b[38;5;124mrun\u001b[39m\u001b[38;5;124m'\u001b[39m]\u001b[38;5;241m.\u001b[39mtolist())):\n\u001b[0;32m----> 4\u001b[0m     translations\u001b[38;5;241m.\u001b[39mappend(\u001b[43mtranslate\u001b[49m\u001b[43m(\u001b[49m\u001b[43mflores\u001b[49m\u001b[38;5;241;43m.\u001b[39;49m\u001b[43miloc\u001b[49m\u001b[43m[\u001b[49m\u001b[43mi\u001b[49m\u001b[43m]\u001b[49m\u001b[43m[\u001b[49m\u001b[38;5;124;43m'\u001b[39;49m\u001b[38;5;124;43mrun\u001b[39;49m\u001b[38;5;124;43m'\u001b[39;49m\u001b[43m]\u001b[49m\u001b[43m)\u001b[49m)\n",
      "Cell \u001b[0;32mIn[129], line 13\u001b[0m, in \u001b[0;36mtranslate\u001b[0;34m(text, src_lang, tgt_lang, a, b, max_input_length, num_beams, **kwargs)\u001b[0m\n\u001b[1;32m      8\u001b[0m inputs \u001b[38;5;241m=\u001b[39m tokenizer(\n\u001b[1;32m      9\u001b[0m     text, return_tensors\u001b[38;5;241m=\u001b[39m\u001b[38;5;124m'\u001b[39m\u001b[38;5;124mpt\u001b[39m\u001b[38;5;124m'\u001b[39m, padding\u001b[38;5;241m=\u001b[39m\u001b[38;5;28;01mTrue\u001b[39;00m, truncation\u001b[38;5;241m=\u001b[39m\u001b[38;5;28;01mTrue\u001b[39;00m, \n\u001b[1;32m     10\u001b[0m     max_length\u001b[38;5;241m=\u001b[39mmax_input_length\n\u001b[1;32m     11\u001b[0m )\n\u001b[1;32m     12\u001b[0m model\u001b[38;5;241m.\u001b[39meval() \u001b[38;5;66;03m# turn off training mode\u001b[39;00m\n\u001b[0;32m---> 13\u001b[0m result \u001b[38;5;241m=\u001b[39m \u001b[43mmodel\u001b[49m\u001b[38;5;241;43m.\u001b[39;49m\u001b[43mgenerate\u001b[49m\u001b[43m(\u001b[49m\n\u001b[1;32m     14\u001b[0m \u001b[43m    \u001b[49m\u001b[38;5;241;43m*\u001b[39;49m\u001b[38;5;241;43m*\u001b[39;49m\u001b[43minputs\u001b[49m\u001b[38;5;241;43m.\u001b[39;49m\u001b[43mto\u001b[49m\u001b[43m(\u001b[49m\u001b[43mmodel\u001b[49m\u001b[38;5;241;43m.\u001b[39;49m\u001b[43mdevice\u001b[49m\u001b[43m)\u001b[49m\u001b[43m,\u001b[49m\n\u001b[1;32m     15\u001b[0m \u001b[43m    \u001b[49m\u001b[43mforced_bos_token_id\u001b[49m\u001b[38;5;241;43m=\u001b[39;49m\u001b[43mtokenizer\u001b[49m\u001b[38;5;241;43m.\u001b[39;49m\u001b[43mconvert_tokens_to_ids\u001b[49m\u001b[43m(\u001b[49m\u001b[43mtgt_lang\u001b[49m\u001b[43m)\u001b[49m\u001b[43m,\u001b[49m\n\u001b[1;32m     16\u001b[0m \u001b[43m    \u001b[49m\u001b[43mmax_new_tokens\u001b[49m\u001b[38;5;241;43m=\u001b[39;49m\u001b[38;5;28;43mint\u001b[39;49m\u001b[43m(\u001b[49m\u001b[43ma\u001b[49m\u001b[43m \u001b[49m\u001b[38;5;241;43m+\u001b[39;49m\u001b[43m \u001b[49m\u001b[43mb\u001b[49m\u001b[43m \u001b[49m\u001b[38;5;241;43m*\u001b[39;49m\u001b[43m \u001b[49m\u001b[43minputs\u001b[49m\u001b[38;5;241;43m.\u001b[39;49m\u001b[43minput_ids\u001b[49m\u001b[38;5;241;43m.\u001b[39;49m\u001b[43mshape\u001b[49m\u001b[43m[\u001b[49m\u001b[38;5;241;43m1\u001b[39;49m\u001b[43m]\u001b[49m\u001b[43m)\u001b[49m\u001b[43m,\u001b[49m\n\u001b[1;32m     17\u001b[0m \u001b[43m    \u001b[49m\u001b[43mnum_beams\u001b[49m\u001b[38;5;241;43m=\u001b[39;49m\u001b[43mnum_beams\u001b[49m\u001b[43m,\u001b[49m\u001b[43m \u001b[49m\u001b[38;5;241;43m*\u001b[39;49m\u001b[38;5;241;43m*\u001b[39;49m\u001b[43mkwargs\u001b[49m\n\u001b[1;32m     18\u001b[0m \u001b[43m\u001b[49m\u001b[43m)\u001b[49m\n\u001b[1;32m     19\u001b[0m \u001b[38;5;28;01mreturn\u001b[39;00m tokenizer\u001b[38;5;241m.\u001b[39mbatch_decode(result, skip_special_tokens\u001b[38;5;241m=\u001b[39m\u001b[38;5;28;01mTrue\u001b[39;00m)\n",
      "File \u001b[0;32m/usr/local/lib/python3.10/dist-packages/torch/utils/_contextlib.py:115\u001b[0m, in \u001b[0;36mcontext_decorator.<locals>.decorate_context\u001b[0;34m(*args, **kwargs)\u001b[0m\n\u001b[1;32m    112\u001b[0m \u001b[38;5;129m@functools\u001b[39m\u001b[38;5;241m.\u001b[39mwraps(func)\n\u001b[1;32m    113\u001b[0m \u001b[38;5;28;01mdef\u001b[39;00m \u001b[38;5;21mdecorate_context\u001b[39m(\u001b[38;5;241m*\u001b[39margs, \u001b[38;5;241m*\u001b[39m\u001b[38;5;241m*\u001b[39mkwargs):\n\u001b[1;32m    114\u001b[0m     \u001b[38;5;28;01mwith\u001b[39;00m ctx_factory():\n\u001b[0;32m--> 115\u001b[0m         \u001b[38;5;28;01mreturn\u001b[39;00m \u001b[43mfunc\u001b[49m\u001b[43m(\u001b[49m\u001b[38;5;241;43m*\u001b[39;49m\u001b[43margs\u001b[49m\u001b[43m,\u001b[49m\u001b[43m \u001b[49m\u001b[38;5;241;43m*\u001b[39;49m\u001b[38;5;241;43m*\u001b[39;49m\u001b[43mkwargs\u001b[49m\u001b[43m)\u001b[49m\n",
      "File \u001b[0;32m/usr/local/lib/python3.10/dist-packages/transformers/generation/utils.py:1681\u001b[0m, in \u001b[0;36mGenerationMixin.generate\u001b[0;34m(self, inputs, generation_config, logits_processor, stopping_criteria, prefix_allowed_tokens_fn, synced_gpus, assistant_model, streamer, negative_prompt_ids, negative_prompt_attention_mask, **kwargs)\u001b[0m\n\u001b[1;32m   1674\u001b[0m     input_ids, model_kwargs \u001b[38;5;241m=\u001b[39m \u001b[38;5;28mself\u001b[39m\u001b[38;5;241m.\u001b[39m_expand_inputs_for_generation(\n\u001b[1;32m   1675\u001b[0m         input_ids\u001b[38;5;241m=\u001b[39minput_ids,\n\u001b[1;32m   1676\u001b[0m         expand_size\u001b[38;5;241m=\u001b[39mgeneration_config\u001b[38;5;241m.\u001b[39mnum_beams,\n\u001b[1;32m   1677\u001b[0m         is_encoder_decoder\u001b[38;5;241m=\u001b[39m\u001b[38;5;28mself\u001b[39m\u001b[38;5;241m.\u001b[39mconfig\u001b[38;5;241m.\u001b[39mis_encoder_decoder,\n\u001b[1;32m   1678\u001b[0m         \u001b[38;5;241m*\u001b[39m\u001b[38;5;241m*\u001b[39mmodel_kwargs,\n\u001b[1;32m   1679\u001b[0m     )\n\u001b[1;32m   1680\u001b[0m     \u001b[38;5;66;03m# 13. run beam search\u001b[39;00m\n\u001b[0;32m-> 1681\u001b[0m     \u001b[38;5;28;01mreturn\u001b[39;00m \u001b[38;5;28;43mself\u001b[39;49m\u001b[38;5;241;43m.\u001b[39;49m\u001b[43mbeam_search\u001b[49m\u001b[43m(\u001b[49m\n\u001b[1;32m   1682\u001b[0m \u001b[43m        \u001b[49m\u001b[43minput_ids\u001b[49m\u001b[43m,\u001b[49m\n\u001b[1;32m   1683\u001b[0m \u001b[43m        \u001b[49m\u001b[43mbeam_scorer\u001b[49m\u001b[43m,\u001b[49m\n\u001b[1;32m   1684\u001b[0m \u001b[43m        \u001b[49m\u001b[43mlogits_processor\u001b[49m\u001b[38;5;241;43m=\u001b[39;49m\u001b[43mlogits_processor\u001b[49m\u001b[43m,\u001b[49m\n\u001b[1;32m   1685\u001b[0m \u001b[43m        \u001b[49m\u001b[43mstopping_criteria\u001b[49m\u001b[38;5;241;43m=\u001b[39;49m\u001b[43mstopping_criteria\u001b[49m\u001b[43m,\u001b[49m\n\u001b[1;32m   1686\u001b[0m \u001b[43m        \u001b[49m\u001b[43mpad_token_id\u001b[49m\u001b[38;5;241;43m=\u001b[39;49m\u001b[43mgeneration_config\u001b[49m\u001b[38;5;241;43m.\u001b[39;49m\u001b[43mpad_token_id\u001b[49m\u001b[43m,\u001b[49m\n\u001b[1;32m   1687\u001b[0m \u001b[43m        \u001b[49m\u001b[43meos_token_id\u001b[49m\u001b[38;5;241;43m=\u001b[39;49m\u001b[43mgeneration_config\u001b[49m\u001b[38;5;241;43m.\u001b[39;49m\u001b[43meos_token_id\u001b[49m\u001b[43m,\u001b[49m\n\u001b[1;32m   1688\u001b[0m \u001b[43m        \u001b[49m\u001b[43moutput_scores\u001b[49m\u001b[38;5;241;43m=\u001b[39;49m\u001b[43mgeneration_config\u001b[49m\u001b[38;5;241;43m.\u001b[39;49m\u001b[43moutput_scores\u001b[49m\u001b[43m,\u001b[49m\n\u001b[1;32m   1689\u001b[0m \u001b[43m        \u001b[49m\u001b[43mreturn_dict_in_generate\u001b[49m\u001b[38;5;241;43m=\u001b[39;49m\u001b[43mgeneration_config\u001b[49m\u001b[38;5;241;43m.\u001b[39;49m\u001b[43mreturn_dict_in_generate\u001b[49m\u001b[43m,\u001b[49m\n\u001b[1;32m   1690\u001b[0m \u001b[43m        \u001b[49m\u001b[43msynced_gpus\u001b[49m\u001b[38;5;241;43m=\u001b[39;49m\u001b[43msynced_gpus\u001b[49m\u001b[43m,\u001b[49m\n\u001b[1;32m   1691\u001b[0m \u001b[43m        \u001b[49m\u001b[38;5;241;43m*\u001b[39;49m\u001b[38;5;241;43m*\u001b[39;49m\u001b[43mmodel_kwargs\u001b[49m\u001b[43m,\u001b[49m\n\u001b[1;32m   1692\u001b[0m \u001b[43m    \u001b[49m\u001b[43m)\u001b[49m\n\u001b[1;32m   1694\u001b[0m \u001b[38;5;28;01melif\u001b[39;00m generation_mode \u001b[38;5;241m==\u001b[39m GenerationMode\u001b[38;5;241m.\u001b[39mBEAM_SAMPLE:\n\u001b[1;32m   1695\u001b[0m     \u001b[38;5;66;03m# 11. prepare logits warper\u001b[39;00m\n\u001b[1;32m   1696\u001b[0m     logits_warper \u001b[38;5;241m=\u001b[39m \u001b[38;5;28mself\u001b[39m\u001b[38;5;241m.\u001b[39m_get_logits_warper(generation_config)\n",
      "File \u001b[0;32m/usr/local/lib/python3.10/dist-packages/transformers/generation/utils.py:3020\u001b[0m, in \u001b[0;36mGenerationMixin.beam_search\u001b[0;34m(self, input_ids, beam_scorer, logits_processor, stopping_criteria, max_length, pad_token_id, eos_token_id, output_attentions, output_hidden_states, output_scores, return_dict_in_generate, synced_gpus, **model_kwargs)\u001b[0m\n\u001b[1;32m   3016\u001b[0m         \u001b[38;5;28;01mbreak\u001b[39;00m\n\u001b[1;32m   3018\u001b[0m model_inputs \u001b[38;5;241m=\u001b[39m \u001b[38;5;28mself\u001b[39m\u001b[38;5;241m.\u001b[39mprepare_inputs_for_generation(input_ids, \u001b[38;5;241m*\u001b[39m\u001b[38;5;241m*\u001b[39mmodel_kwargs)\n\u001b[0;32m-> 3020\u001b[0m outputs \u001b[38;5;241m=\u001b[39m \u001b[38;5;28;43mself\u001b[39;49m\u001b[43m(\u001b[49m\n\u001b[1;32m   3021\u001b[0m \u001b[43m    \u001b[49m\u001b[38;5;241;43m*\u001b[39;49m\u001b[38;5;241;43m*\u001b[39;49m\u001b[43mmodel_inputs\u001b[49m\u001b[43m,\u001b[49m\n\u001b[1;32m   3022\u001b[0m \u001b[43m    \u001b[49m\u001b[43mreturn_dict\u001b[49m\u001b[38;5;241;43m=\u001b[39;49m\u001b[38;5;28;43;01mTrue\u001b[39;49;00m\u001b[43m,\u001b[49m\n\u001b[1;32m   3023\u001b[0m \u001b[43m    \u001b[49m\u001b[43moutput_attentions\u001b[49m\u001b[38;5;241;43m=\u001b[39;49m\u001b[43moutput_attentions\u001b[49m\u001b[43m,\u001b[49m\n\u001b[1;32m   3024\u001b[0m \u001b[43m    \u001b[49m\u001b[43moutput_hidden_states\u001b[49m\u001b[38;5;241;43m=\u001b[39;49m\u001b[43moutput_hidden_states\u001b[49m\u001b[43m,\u001b[49m\n\u001b[1;32m   3025\u001b[0m \u001b[43m\u001b[49m\u001b[43m)\u001b[49m\n\u001b[1;32m   3027\u001b[0m \u001b[38;5;28;01mif\u001b[39;00m synced_gpus \u001b[38;5;129;01mand\u001b[39;00m this_peer_finished:\n\u001b[1;32m   3028\u001b[0m     cur_len \u001b[38;5;241m=\u001b[39m cur_len \u001b[38;5;241m+\u001b[39m \u001b[38;5;241m1\u001b[39m\n",
      "File \u001b[0;32m/usr/local/lib/python3.10/dist-packages/torch/nn/modules/module.py:1510\u001b[0m, in \u001b[0;36mModule._wrapped_call_impl\u001b[0;34m(self, *args, **kwargs)\u001b[0m\n\u001b[1;32m   1508\u001b[0m     \u001b[38;5;28;01mreturn\u001b[39;00m \u001b[38;5;28mself\u001b[39m\u001b[38;5;241m.\u001b[39m_compiled_call_impl(\u001b[38;5;241m*\u001b[39margs, \u001b[38;5;241m*\u001b[39m\u001b[38;5;241m*\u001b[39mkwargs)  \u001b[38;5;66;03m# type: ignore[misc]\u001b[39;00m\n\u001b[1;32m   1509\u001b[0m \u001b[38;5;28;01melse\u001b[39;00m:\n\u001b[0;32m-> 1510\u001b[0m     \u001b[38;5;28;01mreturn\u001b[39;00m \u001b[38;5;28;43mself\u001b[39;49m\u001b[38;5;241;43m.\u001b[39;49m\u001b[43m_call_impl\u001b[49m\u001b[43m(\u001b[49m\u001b[38;5;241;43m*\u001b[39;49m\u001b[43margs\u001b[49m\u001b[43m,\u001b[49m\u001b[43m \u001b[49m\u001b[38;5;241;43m*\u001b[39;49m\u001b[38;5;241;43m*\u001b[39;49m\u001b[43mkwargs\u001b[49m\u001b[43m)\u001b[49m\n",
      "File \u001b[0;32m/usr/local/lib/python3.10/dist-packages/torch/nn/modules/module.py:1519\u001b[0m, in \u001b[0;36mModule._call_impl\u001b[0;34m(self, *args, **kwargs)\u001b[0m\n\u001b[1;32m   1514\u001b[0m \u001b[38;5;66;03m# If we don't have any hooks, we want to skip the rest of the logic in\u001b[39;00m\n\u001b[1;32m   1515\u001b[0m \u001b[38;5;66;03m# this function, and just call forward.\u001b[39;00m\n\u001b[1;32m   1516\u001b[0m \u001b[38;5;28;01mif\u001b[39;00m \u001b[38;5;129;01mnot\u001b[39;00m (\u001b[38;5;28mself\u001b[39m\u001b[38;5;241m.\u001b[39m_backward_hooks \u001b[38;5;129;01mor\u001b[39;00m \u001b[38;5;28mself\u001b[39m\u001b[38;5;241m.\u001b[39m_backward_pre_hooks \u001b[38;5;129;01mor\u001b[39;00m \u001b[38;5;28mself\u001b[39m\u001b[38;5;241m.\u001b[39m_forward_hooks \u001b[38;5;129;01mor\u001b[39;00m \u001b[38;5;28mself\u001b[39m\u001b[38;5;241m.\u001b[39m_forward_pre_hooks\n\u001b[1;32m   1517\u001b[0m         \u001b[38;5;129;01mor\u001b[39;00m _global_backward_pre_hooks \u001b[38;5;129;01mor\u001b[39;00m _global_backward_hooks\n\u001b[1;32m   1518\u001b[0m         \u001b[38;5;129;01mor\u001b[39;00m _global_forward_hooks \u001b[38;5;129;01mor\u001b[39;00m _global_forward_pre_hooks):\n\u001b[0;32m-> 1519\u001b[0m     \u001b[38;5;28;01mreturn\u001b[39;00m \u001b[43mforward_call\u001b[49m\u001b[43m(\u001b[49m\u001b[38;5;241;43m*\u001b[39;49m\u001b[43margs\u001b[49m\u001b[43m,\u001b[49m\u001b[43m \u001b[49m\u001b[38;5;241;43m*\u001b[39;49m\u001b[38;5;241;43m*\u001b[39;49m\u001b[43mkwargs\u001b[49m\u001b[43m)\u001b[49m\n\u001b[1;32m   1521\u001b[0m \u001b[38;5;28;01mtry\u001b[39;00m:\n\u001b[1;32m   1522\u001b[0m     result \u001b[38;5;241m=\u001b[39m \u001b[38;5;28;01mNone\u001b[39;00m\n",
      "File \u001b[0;32m/usr/local/lib/python3.10/dist-packages/transformers/models/m2m_100/modeling_m2m_100.py:1331\u001b[0m, in \u001b[0;36mM2M100ForConditionalGeneration.forward\u001b[0;34m(self, input_ids, attention_mask, decoder_input_ids, decoder_attention_mask, head_mask, decoder_head_mask, cross_attn_head_mask, encoder_outputs, past_key_values, inputs_embeds, decoder_inputs_embeds, labels, use_cache, output_attentions, output_hidden_states, return_dict)\u001b[0m\n\u001b[1;32m   1310\u001b[0m         decoder_input_ids \u001b[38;5;241m=\u001b[39m shift_tokens_right(\n\u001b[1;32m   1311\u001b[0m             labels, \u001b[38;5;28mself\u001b[39m\u001b[38;5;241m.\u001b[39mconfig\u001b[38;5;241m.\u001b[39mpad_token_id, \u001b[38;5;28mself\u001b[39m\u001b[38;5;241m.\u001b[39mconfig\u001b[38;5;241m.\u001b[39mdecoder_start_token_id\n\u001b[1;32m   1312\u001b[0m         )\n\u001b[1;32m   1314\u001b[0m outputs \u001b[38;5;241m=\u001b[39m \u001b[38;5;28mself\u001b[39m\u001b[38;5;241m.\u001b[39mmodel(\n\u001b[1;32m   1315\u001b[0m     input_ids,\n\u001b[1;32m   1316\u001b[0m     attention_mask\u001b[38;5;241m=\u001b[39mattention_mask,\n\u001b[0;32m   (...)\u001b[0m\n\u001b[1;32m   1329\u001b[0m     return_dict\u001b[38;5;241m=\u001b[39mreturn_dict,\n\u001b[1;32m   1330\u001b[0m )\n\u001b[0;32m-> 1331\u001b[0m lm_logits \u001b[38;5;241m=\u001b[39m \u001b[38;5;28;43mself\u001b[39;49m\u001b[38;5;241;43m.\u001b[39;49m\u001b[43mlm_head\u001b[49m\u001b[43m(\u001b[49m\u001b[43moutputs\u001b[49m\u001b[43m[\u001b[49m\u001b[38;5;241;43m0\u001b[39;49m\u001b[43m]\u001b[49m\u001b[43m)\u001b[49m\n\u001b[1;32m   1333\u001b[0m masked_lm_loss \u001b[38;5;241m=\u001b[39m \u001b[38;5;28;01mNone\u001b[39;00m\n\u001b[1;32m   1334\u001b[0m \u001b[38;5;28;01mif\u001b[39;00m labels \u001b[38;5;129;01mis\u001b[39;00m \u001b[38;5;129;01mnot\u001b[39;00m \u001b[38;5;28;01mNone\u001b[39;00m:\n\u001b[1;32m   1335\u001b[0m     \u001b[38;5;66;03m# move labels to the correct device to enable PP\u001b[39;00m\n",
      "File \u001b[0;32m/usr/local/lib/python3.10/dist-packages/torch/nn/modules/module.py:1510\u001b[0m, in \u001b[0;36mModule._wrapped_call_impl\u001b[0;34m(self, *args, **kwargs)\u001b[0m\n\u001b[1;32m   1508\u001b[0m     \u001b[38;5;28;01mreturn\u001b[39;00m \u001b[38;5;28mself\u001b[39m\u001b[38;5;241m.\u001b[39m_compiled_call_impl(\u001b[38;5;241m*\u001b[39margs, \u001b[38;5;241m*\u001b[39m\u001b[38;5;241m*\u001b[39mkwargs)  \u001b[38;5;66;03m# type: ignore[misc]\u001b[39;00m\n\u001b[1;32m   1509\u001b[0m \u001b[38;5;28;01melse\u001b[39;00m:\n\u001b[0;32m-> 1510\u001b[0m     \u001b[38;5;28;01mreturn\u001b[39;00m \u001b[38;5;28;43mself\u001b[39;49m\u001b[38;5;241;43m.\u001b[39;49m\u001b[43m_call_impl\u001b[49m\u001b[43m(\u001b[49m\u001b[38;5;241;43m*\u001b[39;49m\u001b[43margs\u001b[49m\u001b[43m,\u001b[49m\u001b[43m \u001b[49m\u001b[38;5;241;43m*\u001b[39;49m\u001b[38;5;241;43m*\u001b[39;49m\u001b[43mkwargs\u001b[49m\u001b[43m)\u001b[49m\n",
      "File \u001b[0;32m/usr/local/lib/python3.10/dist-packages/torch/nn/modules/module.py:1519\u001b[0m, in \u001b[0;36mModule._call_impl\u001b[0;34m(self, *args, **kwargs)\u001b[0m\n\u001b[1;32m   1514\u001b[0m \u001b[38;5;66;03m# If we don't have any hooks, we want to skip the rest of the logic in\u001b[39;00m\n\u001b[1;32m   1515\u001b[0m \u001b[38;5;66;03m# this function, and just call forward.\u001b[39;00m\n\u001b[1;32m   1516\u001b[0m \u001b[38;5;28;01mif\u001b[39;00m \u001b[38;5;129;01mnot\u001b[39;00m (\u001b[38;5;28mself\u001b[39m\u001b[38;5;241m.\u001b[39m_backward_hooks \u001b[38;5;129;01mor\u001b[39;00m \u001b[38;5;28mself\u001b[39m\u001b[38;5;241m.\u001b[39m_backward_pre_hooks \u001b[38;5;129;01mor\u001b[39;00m \u001b[38;5;28mself\u001b[39m\u001b[38;5;241m.\u001b[39m_forward_hooks \u001b[38;5;129;01mor\u001b[39;00m \u001b[38;5;28mself\u001b[39m\u001b[38;5;241m.\u001b[39m_forward_pre_hooks\n\u001b[1;32m   1517\u001b[0m         \u001b[38;5;129;01mor\u001b[39;00m _global_backward_pre_hooks \u001b[38;5;129;01mor\u001b[39;00m _global_backward_hooks\n\u001b[1;32m   1518\u001b[0m         \u001b[38;5;129;01mor\u001b[39;00m _global_forward_hooks \u001b[38;5;129;01mor\u001b[39;00m _global_forward_pre_hooks):\n\u001b[0;32m-> 1519\u001b[0m     \u001b[38;5;28;01mreturn\u001b[39;00m \u001b[43mforward_call\u001b[49m\u001b[43m(\u001b[49m\u001b[38;5;241;43m*\u001b[39;49m\u001b[43margs\u001b[49m\u001b[43m,\u001b[49m\u001b[43m \u001b[49m\u001b[38;5;241;43m*\u001b[39;49m\u001b[38;5;241;43m*\u001b[39;49m\u001b[43mkwargs\u001b[49m\u001b[43m)\u001b[49m\n\u001b[1;32m   1521\u001b[0m \u001b[38;5;28;01mtry\u001b[39;00m:\n\u001b[1;32m   1522\u001b[0m     result \u001b[38;5;241m=\u001b[39m \u001b[38;5;28;01mNone\u001b[39;00m\n",
      "File \u001b[0;32m/usr/local/lib/python3.10/dist-packages/torch/nn/modules/linear.py:114\u001b[0m, in \u001b[0;36mLinear.forward\u001b[0;34m(self, input)\u001b[0m\n\u001b[1;32m    113\u001b[0m \u001b[38;5;28;01mdef\u001b[39;00m \u001b[38;5;21mforward\u001b[39m(\u001b[38;5;28mself\u001b[39m, \u001b[38;5;28minput\u001b[39m: Tensor) \u001b[38;5;241m-\u001b[39m\u001b[38;5;241m>\u001b[39m Tensor:\n\u001b[0;32m--> 114\u001b[0m     \u001b[38;5;28;01mreturn\u001b[39;00m \u001b[43mF\u001b[49m\u001b[38;5;241;43m.\u001b[39;49m\u001b[43mlinear\u001b[49m\u001b[43m(\u001b[49m\u001b[38;5;28;43minput\u001b[39;49m\u001b[43m,\u001b[49m\u001b[43m \u001b[49m\u001b[38;5;28;43mself\u001b[39;49m\u001b[38;5;241;43m.\u001b[39;49m\u001b[43mweight\u001b[49m\u001b[43m,\u001b[49m\u001b[43m \u001b[49m\u001b[38;5;28;43mself\u001b[39;49m\u001b[38;5;241;43m.\u001b[39;49m\u001b[43mbias\u001b[49m\u001b[43m)\u001b[49m\n",
      "\u001b[0;31mKeyboardInterrupt\u001b[0m: "
     ]
    }
   ],
   "source": [
    "from tqdm import tqdm\n",
    "translations = []\n",
    "for i, _ in enumerate(tqdm(flores['run'].tolist())):\n",
    "    translations.append(translate(flores.iloc[i]['run']))"
   ]
  },
  {
   "cell_type": "code",
   "execution_count": 155,
   "metadata": {},
   "outputs": [
    {
     "name": "stderr",
     "output_type": "stream",
     "text": [
      "100%|██████████| 32/32 [07:08<00:00, 13.40s/it]\n"
     ]
    }
   ],
   "source": [
    "translations = batched_translate(flores['run'].tolist()[:500])"
   ]
  },
  {
   "cell_type": "code",
   "execution_count": 158,
   "metadata": {},
   "outputs": [
    {
     "name": "stderr",
     "output_type": "stream",
     "text": [
      "100%|██████████| 32/32 [06:51<00:00, 12.85s/it]\n"
     ]
    }
   ],
   "source": [
    "translations2 = batched_translate(flores['run'].tolist()[500:])"
   ]
  },
  {
   "cell_type": "code",
   "execution_count": 150,
   "metadata": {},
   "outputs": [
    {
     "ename": "TypeError",
     "evalue": "'module' object is not callable",
     "output_type": "error",
     "traceback": [
      "\u001b[0;31m---------------------------------------------------------------------------\u001b[0m",
      "\u001b[0;31mTypeError\u001b[0m                                 Traceback (most recent call last)",
      "Cell \u001b[0;32mIn[150], line 1\u001b[0m\n\u001b[0;32m----> 1\u001b[0m \u001b[38;5;28;01mfor\u001b[39;00m i \u001b[38;5;129;01min\u001b[39;00m \u001b[43mtqdm\u001b[49m\u001b[43m(\u001b[49m\u001b[38;5;28;43mrange\u001b[39;49m\u001b[43m(\u001b[49m\u001b[38;5;241;43m10\u001b[39;49m\u001b[43m)\u001b[49m\u001b[43m)\u001b[49m:\n\u001b[1;32m      2\u001b[0m     \u001b[38;5;28mprint\u001b[39m(i)\n",
      "\u001b[0;31mTypeError\u001b[0m: 'module' object is not callable"
     ]
    }
   ],
   "source": [
    "for i in tqdm(range(10)):\n",
    "    print(i)"
   ]
  },
  {
   "cell_type": "code",
   "execution_count": 159,
   "metadata": {},
   "outputs": [],
   "source": [
    "translations = translations + translations2"
   ]
  },
  {
   "cell_type": "code",
   "execution_count": 160,
   "metadata": {},
   "outputs": [
    {
     "data": {
      "text/plain": [
       "1012"
      ]
     },
     "execution_count": 160,
     "metadata": {},
     "output_type": "execute_result"
    }
   ],
   "source": [
    "len(translations)"
   ]
  },
  {
   "cell_type": "code",
   "execution_count": 161,
   "metadata": {},
   "outputs": [],
   "source": [
    "flores['translated'] = translations"
   ]
  },
  {
   "cell_type": "code",
   "execution_count": 180,
   "metadata": {},
   "outputs": [
    {
     "data": {
      "text/plain": [
       "['\"We now have 4-month-old mice that are non-diabetic that used to be diabetic,\" he added.',\n",
       " 'Dr. Ehud Ur, professor of medicine at Dalhousie University in Halifax, Nova Scotia and chair of the clinical and scientific division of the Canadian Diabetes Association cautioned that the research is still in its early days.',\n",
       " 'Like some other experts, he is skeptical about whether diabetes can be cured, noting that these findings have no relevance to people who already have Type 1 diabetes.',\n",
       " 'On Monday, Sara Danius, permanent secretary of the Nobel Committee for Literature at the Swedish Academy, publicly announced during a radio program on Sveriges Radio in Sweden the committee, unable to reach Bob Dylan directly about winning the 2016 Nobel Prize in Literature, had abandoned its efforts to reach him.',\n",
       " 'Danius said, \"Right now we are doing nothing. I have called and sent emails to his closest collaborator and received very friendly replies. For now, that is certainly enough.\"',\n",
       " \"Previously, Ring's CEO, Jamie Siminoff, remarked the company started when his doorbell wasn't audible from his shop in his garage.\",\n",
       " 'He built a WiFi door bell, he said.',\n",
       " 'Siminoff said sales boosted after his 2013 appearance in a Shark Tank episode where the show panel declined funding the startup.',\n",
       " 'In late 2017, Siminoff appeared on shopping television channel QVC.',\n",
       " 'Ring also settled a lawsuit with competing security company, the ADT Corporation.',\n",
       " 'While one experimental vaccine appears able to reduce Ebola mortality, up until now, no drugs have been clearly demonstrated suitable for treating existing infection.',\n",
       " 'One antibody cocktail, ZMapp, initially showed promise in the field, but formal studies indicated it had less benefit than sought in preventing death.',\n",
       " 'In the PALM trial, ZMapp served as a control, meaning scientists used it as a baseline and compared the three other treatments to it.',\n",
       " \"USA Gymnastics supports the United States Olympic Committee's letter and accepts the absolute need of the Olympic family to promote a safe environment for all of our athletes.\",\n",
       " \"We agree with the USOC's statement that the interests of our athletes and clubs, and their sport, may be better served by moving forward with meaningful change within our organization, rather than decertification.\",\n",
       " 'USA Gymnastics supports an independent investigation that may shine light on how abuse of the proportion described so courageously by the survivors of Larry Nassar could have gone undetected for so long and embraces any necessary and appropriate changes.',\n",
       " 'USA Gymnastics and the USOC have the same goal — making the sport of gymnastics, and others, as safe as possible for athletes to follow their dreams in a safe, positive and empowered environment.',\n",
       " 'Throughout 1960s, Brzezinski worked for John F. Kennedy as his advisor and then the Lyndon B. Johnson administration.',\n",
       " 'During the 1976 selections he advised Carter on foreign policy, then served as National Security Advisor (NSA) from 1977 to 1981, succeeding Henry Kissinger.',\n",
       " 'As NSA, he assisted Carter in diplomatically handling world affairs, such as the Camp David Accords, 1978; normalizing US–China relations thought the late 1970s; the Iranian Revolution, which led to the Iran hostage crisis, 1979; and the Soviet invasion in Afghanistan, 1979.',\n",
       " 'The movie, featuring Ryan Gosling and Emma Stone, received nominations in all major categories.',\n",
       " 'Gosling and Stone received nominations for Best Actor and Actress respectively.',\n",
       " 'The other nominations include Best Picture, Director, Cinematography, Costume Design, Film-editing, Original Score, Production Design, Sound Editing, Sound Mixing and Original Screenplay.',\n",
       " 'Two songs from the movie, Audition (The Fools Who Dream) and City of Stars, received nominations for best original song. Lionsgate studio received 26 nominations — more than any other studio.',\n",
       " 'Late on Sunday, the United States President Donald Trump, in a statement delivered via the press secretary, announced US troops would be leaving Syria.',\n",
       " 'The announcement was made after Trump had a phone conversation with Turkish President Recep Tayyip Erdoğan.',\n",
       " 'Turkey would also take over guarding captured ISIS fighters which, the statement said, European nations have refused to repatriate.',\n",
       " 'This not only confirms that at least some dinosaurs had feathers, a theory already widespread, but provides details fossils generally cannot, such as color and three-dimensional arrangement.',\n",
       " \". Scientists say this animal's plumage was chestnut-brown on top with a pale or carotenoid-colored underside.\",\n",
       " 'The find also grants insight into the evolution of feathers in birds.',\n",
       " 'Because the dinosaur feathers do not have a well-developed shaft, called a rachis, but do have other features of feathers — barbs and barbules — the researchers inferred the rachis was likely a later evolutionary development that these other features.',\n",
       " \"The feathers' structure suggests that they were not used in flight but rather for temperature regulation or display. The researchers suggested that, even though this is the tail of a young dinosaur, the sample shows adult plumage and not a chick's down.\",\n",
       " \"The researchers suggested that, even though this is the tail of a young dinosaur, the sample shows adult plumage and not a chick's down.\",\n",
       " 'A car bomb detonated at police headquarters in Gaziantep, Turkey yesterday morning killed two police officers and injured more than twenty other people.',\n",
       " \"The governor's office said nineteen of the injured were police officers.\",\n",
       " 'Police said they suspect an alleged Daesh (ISIL) militant of responsibility for the attack.',\n",
       " 'They found the Sun operated on the same basic principles as other stars: The activity of all stars in the system was found to be driven by their luminosity, their rotation, and nothing else.',\n",
       " \"The luminosity and rotation are used together to determine a star's Rossby number, which is related to plasma flow.\",\n",
       " 'The smaller the Rossby number, the less active the star with respect to magnetic reversals.',\n",
       " 'During his trip, Iwasaki ran into trouble on many occasions.',\n",
       " 'He was robbed by pirates, attacked in Tibet by a rabid dog, escaped marriage in Nepal and was arrested in India.',\n",
       " 'The 802.11n standard operates on both the 2.4Ghz and 5.0Ghz frequencies.',\n",
       " 'This will allow it to be backwards compatible with 802.11a, 802.11b and 802.11g, provided that the base station has dual radios.',\n",
       " 'The speeds of 802.11n are substantially faster than that of its predecessors with a maximum theoretical throughput of 600Mbit/s.',\n",
       " 'Duvall, who is married with two adult children, did not leave a big impression on Miller, to whom the story was related.',\n",
       " 'When asked for comment, Miller said, \"Mike talks a lot during the hearing...I was getting ready so I wasn\\'t really hearing what he was saying.\"',\n",
       " '\"We will endeavour to cut carbon dioxide emissions per unit of GDP by a notable margin by 2020 from the 2005 level,\" Hu said.',\n",
       " \"He did not set a figure for the cuts, saying they will be made based on China's economic output.\",\n",
       " 'Hu encouraged developing countries \"to avoid the old path of polluting first and cleaning up later.\"',\n",
       " 'He added that \"they should not, however, be asked to take on obligations that go beyond their development stage, responsibility and capabilities.\"',\n",
       " 'The Iraq Study Group presented its report at 12.00 GMT today.',\n",
       " 'It warns No one can guarantee that any course of action in Iraq at this point will stop sectarian warfare, growing violence, or a slide toward chaos.',\n",
       " 'The Report opens with plea for open debate and the formation of a consensus in the United States about the policy towards the Middle East.',\n",
       " 'The Report is highly critical of almost every aspect of the present policy of the Executive towards Iraq and it urges an immediate change of direction.',\n",
       " 'First among its 78 recommendations is that a new diplomatic initiative should be taken before the end of this year to secure Iraq’s borders against hostile interventions and to re-establish diplomatic relations with its neighbors.',\n",
       " 'Current senator and Argentine First Lady Cristina Fernandez de Kirchner announced her presidential candidacy yesterday evening in La Plata, a city 50 kilometers (31 miles) away from Buenos Aires.',\n",
       " 'Mrs. Kirchner announced her intention to run for president at the Argentine Theatre, the same location she used to start her 2005 campaign for the Senate as member of the Buenos Aires province delegation.',\n",
       " 'The debate was sparked by controversy over spending on relief and reconstruction in the wake Hurricane Katrina; which some fiscal conservatives have humorously labeled \"Bush\\'s New Orleans Deal.\"',\n",
       " 'Liberal criticism of the reconstruction effort has focused on the awarding of reconstruction contracts to perceived Washington insiders.',\n",
       " 'Over four million people went to Rome to attend the funeral.',\n",
       " \"The number of people present was so large that it was not possible for everybody to gain access to the funeral in St. Peter's Square.\",\n",
       " 'Several large television screens were installed in various places in Rome to let the people watch the ceremony.',\n",
       " 'In many other cities of Italy and in the rest of the world, particularly in Poland, similar setups were made, which were viewed by a great number of people.',\n",
       " \"Historians have criticized past FBI policies for focusing resources on cases which are easy to solve, especially stolen car cases, with the intent of boosting the agency's success rate.\",\n",
       " 'Congress began funding the obscenity initiative in fiscal 2005 and specified that the FBI must devote 10 agents to adult pornography.',\n",
       " 'Robin Uthappa made the innings highest score, 70 runs in just 41 balls by hitting 11 fours and 2 sixes.',\n",
       " 'Middle order batsmen, Sachin Tendulkar and Rahul Dravid, performed well and made a hundred-run partnership.',\n",
       " \"But, after losing the captain's wicket India only made 36 runs loosing 7 wickets to end the innings.\",\n",
       " 'U.S. President George W. Bush arrived in Singapore the morning of November 16, beginning a week-long tour of Asia.',\n",
       " \"He was greeted by Singapore's Deputy Prime Minister Wong Kan Seng and discussed trade and terrorism issues with the Singapore Prime Minister Lee Hsien Loong.\",\n",
       " 'After a week of losses in the midterm election, Bush told an audience about the expansion of trade in Asia.',\n",
       " \"Prime Minister Stephen Harper has agreed to send the government's 'Clean Air Act' to an all-party committee for review, before its second reading, after Tuesday's 25 minute meeting with NDP leader Jack Layton at the PMO.\",\n",
       " 'Layton had asked for changes to the conservatives\\' environmental bill during the meeting with the PM, asking for a \"thorough and complete rewriting\" of the Conservative party\\'s environmental bill.',\n",
       " 'Ever since the Federal Government stepped in to take over funding of the Mersey hospital in Devonport, Tasmania, the state government and some federal MPs have criticised this act as a stunt in the prelude to the federal election to be called by November.',\n",
       " 'But Prime Minister John Howard has said the act was only to safeguard the facilities of the hospital from being downgraded by the Tasmanian government, in giving an extra AUD$45 million.',\n",
       " 'According to the latest bulletin, sea level readings indicated a tsunami was generated. There was some definite tsunami activity recorded near Pago Pago and Niue.',\n",
       " 'No major damage or injuries have been reported in Tonga, but power was temporarily lost, which reportedly prevented Tongan authorities from receiving the tsunami warning issued by the PTWC.',\n",
       " 'Fourteen schools in Hawaii located on or near coastlines were closed all of Wednesday despite the warnings being lifted.',\n",
       " 'U.S. President George W. Bush welcomed the announcement.',\n",
       " 'Bush spokesman Gordon Johndroe called North Korea\\'s pledge \"a major step towards the goal of achieving the verifiable denuclearization of the Korean peninsula.\"',\n",
       " 'The tenth named storm of the Atlantic Hurricane season, Subtropical Storm Jerry, formed in the Atlantic Ocean today.',\n",
       " 'The National Hurricane Center (NHC) says that at this point Jerry poses no threat to land.',\n",
       " 'The U.S. Corps of Engineers estimated that 6 inches of rainfall could breach the previously damaged levees.',\n",
       " 'The Ninth Ward, which saw flooding as high as 20 feet during Hurricane Katrina, is currently in waist-high water as the nearby levee was overtopped.',\n",
       " 'Water is spilling over the levee in a section 100 feet wide.',\n",
       " 'Commons Administrator Adam Cuerden expressed his frustration over the deletions when he spoke to Wikinews last month.',\n",
       " '\"He [Wales] basically lied to us from the start. First, by acting as if this was for legal reasons. Second, by pretending he was listening to us, right up to his art deletion.\"',\n",
       " 'The community irritation led to current efforts to draft a policy regarding sexual content for the site which hosts millions of openly-licensed media.',\n",
       " 'The work done was mostly theoretical, but the program was written to simulate observations made of the Sagittarius galaxy.',\n",
       " \"The effect the team was looking for would be caused by tidal forces between the galaxy's dark matter and the Milky Way's dark matter.\",\n",
       " 'Just like the moon exerts a pull on the earth, causing tides, so does the Milky Way exert a force on the Sagittarius galaxy.',\n",
       " 'The scientists were able to conclude that the dark matter affect other dark matter in the same way regular matter does.',\n",
       " 'This theory says that most dark matter around a galaxy is located around a galaxy in a kind of halo, and is made of lots of small particles.',\n",
       " 'Television reports show white smoke coming from the plant.',\n",
       " 'Local authorities are warning residents in the vicinity of the plant to stay indoors, turn off air-conditioners and not to drink tap water.',\n",
       " \"According to Japan's nuclear agency, radioactive caesium and iodine has been identified at the plant.\",\n",
       " 'Authorities speculate that this indicates that containers holding uranium fuel at the site may have ruptured and are leaking.',\n",
       " 'Dr. Tony Moll discovered the Extremely Drug Resistant Tuberculosis (XDR-TB) in the South African region KwaZulu-Natal.',\n",
       " 'In an interview, he said the new variant was \"very highly troubling and alarming because of the very high fatality rate.\"',\n",
       " 'Some patients might have contracted the bug in the hospital, Dr. Moll thinks, and at least two were hospital health workers.',\n",
       " \"In one year's time, an infected person may infect 10 to 15 close contacts.\",\n",
       " 'However, the percentage of XDR-TB in the entire group of people with tuberculosis still seems to be low; 6,000 of the total 330,000 people infected at any particular moment in South Africa.',\n",
       " 'The satellites, both of which weighed in excess of 1,000 pounds, and traveling at approximately 17,500 miles per hour, collided 491 miles above the Earth.',\n",
       " 'Scientists say the explosion caused by the collision was massive.',\n",
       " 'They are still trying to determine just how large the crash was and how the Earth will be affected.',\n",
       " 'The United States Strategic Command of the U.S. Department of Defense office is tracking the debris.',\n",
       " 'The result of plotting analysis will be posted to a public website.',\n",
       " \"A doctor who worked at Children's Hospital of Pittsburgh, Pennsylvania will be charged with aggravated murder after her mother was found dead in the trunk of her car Wednesday, authorities in Ohio say.\",\n",
       " 'Dr. Malar Balasubramanian, 29, was found in Blue Ash, Ohio, a suburb approximately 15 miles north of Cincinnati lying on the ground beside the road in a T-shirt and underwear in an apparently heavily medicated state.',\n",
       " 'She directed officers to her black Oldsmobile Intrigue which was 500 feet away.',\n",
       " 'There, they found the body of Saroja Balasubramanian, 53, covered with blood-stained blankets.',\n",
       " 'Police said that the body appeared to have been there for about a day.',\n",
       " 'The first cases of the disease this season were reported in late July.',\n",
       " 'The disease is carried by pigs, which then migrates to humans through mosquitos.',\n",
       " 'The outbreak has prompted the Indian government to undertake such measures as deployment of pig catchers in seriously affected areas, distributing thousands of mosquito curtains and spraying pesticides.',\n",
       " 'Several million vials of encephalitis vaccine have also been promised by the government, which will help prepare health agencies for next year.',\n",
       " 'Plans for vaccines to be delivered to the historically most affected areas this year were delayed due to lack of funds and low prioritisation relative to other diseases.',\n",
       " 'In 1956 Słania moved to Sweden, where three years later he began work for the Swedish Post Office and became their chief engraver.',\n",
       " 'He produced over 1,000 stamps for Sweden and 28 other countries.',\n",
       " 'His work is of such recognized quality and detail that he is one of the very few \"household names\" among philatelists. Some specialize in collecting his work alone.',\n",
       " 'His 1,000th stamp was the magnificent \"Great Deeds by Swedish Kings\" by David Klöcker Ehrenstrahl in 2000, which is listed in the Guinness Book of World Records.',\n",
       " 'He was also engaged in engraving banknotes for many countries, recent examples of his work including the Prime Ministerial portraits on the front of the new Canadian $5 and $100 bills.',\n",
       " 'After the accident occurred, Gibson was transported to a hospital but died shortly afterwards.',\n",
       " 'The truck driver, who is aged 64, was not injured in the crash.',\n",
       " 'The vehicle itself was taken away from the scene of the accident at approximately 1200 GMT on the same day.',\n",
       " 'A person working in a garage near where the accident occurred said: \"There were children waiting to cross the road and they were all screaming and crying.\"',\n",
       " 'They all ran back from where the accident had happened.',\n",
       " \"Other subjects on the agenda in Bali include saving the world's remaining forests, and sharing technologies to help developing nations grow in less-polluting ways.\",\n",
       " 'The U.N. also hopes to finalize a fund to help countries affected by global warming to cope with the impacts.',\n",
       " 'The money could go toward flood-proof houses, better water management, and crop diversification.',\n",
       " 'Fluke wrote that the efforts by some to drown out women from speaking out about women’s health were unsuccessful.',\n",
       " 'She came to this conclusion due to the multitude of positive comments and encouragement sent to her by both female and male individuals urging that contraception medication be considered a medical necessity.',\n",
       " 'When the fighting ceased after the wounded were transported to the hospital, about 40 of the other remaining inmates stayed in the yard and refused to return to their cells.',\n",
       " \"Negotiators tried to rectify the situation, but the prisoners' demands are not clear.\",\n",
       " 'Between 10:00-11:00 pm MDT, a fire was started by the inmates in the yard.',\n",
       " 'Soon, officers equipped with riot gear entered the yard and cornered the inmates with tear gas.',\n",
       " 'Fire rescue crews eventually doused the fire by 11:35 pm.',\n",
       " 'After the dam was built in 1963, the seasonal floods that would spread sediment throughout the river were halted.',\n",
       " 'This sediment was necessary for creating sandbars and beaches, which served as wildlife habitats.',\n",
       " 'As a result, two fish species have become extinct, and two others have become endangered, including the humpback chub.',\n",
       " 'Although the water level will only rise a few feet after the flood, officials are hoping it will be enough to restore eroded sandbars downstream.',\n",
       " 'No tsunami warning has been issued, and according to the Jakarta geophysics agency, no tsunami warning will be issued because the quake did not meet the magnitude 6.5 requirement.',\n",
       " 'Despite there being no tsunami threat, residents started to panic and began to leave their businesses and homes.',\n",
       " 'Although Winfrey was tearful in her farewell, she made it clear to her fans she will be back.',\n",
       " '\"This is not going to be goodbye. This is the closing of one chapter and the opening of a new one.\"',\n",
       " 'Final results from Namibian presidential and parliamentary elections have indicated that the incumbent president, Hifikepunye Pohamba, has been reelected by a large margin.',\n",
       " \"The ruling party, South West Africa People's Organisation (SWAPO), also retained a majority in the parliamentary elections.\",\n",
       " 'Coalition and Afghan troops moved into the area to secure the site and other coalition aircraft have been sent to assist.',\n",
       " 'The crash occurred high up in mountainous terrain, and is believed to have been the result of hostile fire.',\n",
       " 'Efforts to search for the crash site are being met by bad weather and harsh terrain.',\n",
       " 'The medical charity Mangola, Medecines Sans Frontieres and the World Health Organisation say it is the worst outbreak recorded in the country.',\n",
       " 'Spokesman for Medecines Sans Frontiere Richard Veerman said: \"Angola is heading for its worst ever outbreak and the situation remains very bad in Angola,\" he said.',\n",
       " \"The games kicked off at 10:00am with great weather and apart from mid morning drizzle which quickly cleared up, it was a perfect day for 7's rugby.\",\n",
       " 'Tournament top seeds South Africa started on the right note when they had a comfortable 26 - 00 win against 5th seeded Zambia.',\n",
       " 'Looking decidedly rusty in the game against their southern sisters, South Africa however steadily improved as the tournament progressed.',\n",
       " 'Their disciplined defence, ball handling skills and excellent team work made them stand out and it was clear that this was the team to beat.',\n",
       " 'Officials for the city of Amsterdam and the Anne Frank Museum state that the tree is infected with a fungus and poses a public health hazard as they argue that it was in imminent danger of falling over.',\n",
       " 'It had been scheduled to be cut down on Tuesday, but was saved after an emergency court ruling.',\n",
       " 'All of the cave entrances, which were named \"The Seven Sisters\", are at least 100 to 250 meters (328 to 820 feet) in diameter.',\n",
       " 'Infrared images show that the temperature variations from night and day show that they are likely caves.',\n",
       " '\"They are cooler than the surrounding surface in the day and warmer at night.',\n",
       " 'Their thermal behavior is not as steady as large caves on Earth that often maintain a fairly constant temperature, but it is consistent with these being deep holes in the ground,\" said Glen Cushing of the United States Geological Survey (USGS) Astrogeology Team and of Northern Arizona University located in Flagstaff, Arizona.',\n",
       " 'In France, voting has traditionally been a low-tech experience: voters isolate themselves in a booth, put a pre-printed sheet of paper indicating their candidate of choice into an envelope.',\n",
       " \"After officials verify the voter's identity, the voter drops the envelope into the ballot box and signs the voting roll.\",\n",
       " 'French electoral law rather strictly codifies the proceedings.',\n",
       " 'Since 1988, ballot boxes must be transparent so that voters and observers can witness that no envelopes are present at the start of the vote and that no envelopes are added except those of the duly counted and authorized voters.',\n",
       " 'Candidates can send representatives to witness every part of the process. In the evening, votes are counted by volunteers under heavy supervision, following specific procedures.',\n",
       " 'ASUS Eee PC, earlier launched world-wide for cost-saving and functionality factors, became a hot topic in 2007 Taipei IT Month.',\n",
       " 'But the consumer market on laptop computer will be radically varied and changed after ASUS was awarded in the 2007 Taiwan Sustainable Award by Executive Yuan of the Republic of China.',\n",
       " 'The station\\'s web site describes the show as \"old school radio theater with a new and outrageous geeky spin!\"',\n",
       " 'In its early days, the show was featured solely at the long-running internet radio site TogiNet Radio, a site focused on talk radio.',\n",
       " 'In late 2015, TogiNet established AstroNet Radio as a subsidiary station.',\n",
       " 'The show originally featured amateur voice actors, local to East Texas.',\n",
       " \"Widespread looting reportedly continued overnight, as law enforcement officers were not present on Bishkek's streets.\",\n",
       " 'Bishkek was described as sinking into a state of \"anarchy\" by one observer, as gangs of people roamed the streets and plundered stores of consumer goods.',\n",
       " 'Several Bishkek residents blamed protesters from the south for the lawlessness.',\n",
       " 'South Africa have defeated the All Blacks (New Zealand) in a rugby union Tri Nations match at the Royal Bafokeng Stadium in Rustenburg, South Africa.',\n",
       " \"The final score was a one-point victory, 21 to 20, ending the All Blacks' 15 game winning streak.\",\n",
       " 'For the Springboks, it ended a five-match losing streak.',\n",
       " 'It was the final match for the All Blacks, who had already won the trophy two weeks ago.',\n",
       " 'The final match of the series will take place at Ellis Park in Johannesburg next week, when the Springboks play Australia.',\n",
       " 'A moderate earthquake shook western Montana at 10:08 p.m. on Monday.',\n",
       " 'No immediate reports of damage have been received by the United States Geological Survey (USGS) and its National Earthquake Information Center.',\n",
       " 'The earthquake was centered about 20 km (15 miles) north-northeast of Dillon, and about 65 km (40 miles) south of Butte.',\n",
       " 'The strain of bird flu lethal to humans, H5N1, has been confirmed to have infected a dead wild duck, found on Monday, in marshland near Lyon in the east of France.',\n",
       " 'France is the seventh country in the European Union to suffer this virus; following Austria, Germany, Slovenia, Bulgaria, Greece and Italy.',\n",
       " 'Suspected cases of H5N1 in Croatia and Denmark remain unconfirmed.',\n",
       " 'Chambers had sued God for \"widespread death, destruction and terrorization of millions upon millions of the Earth\\'s inhabitants.\"',\n",
       " 'Chambers, an agnostic, argues that his lawsuit is \"frivolous\" and \"anybody can sue anybody.\"',\n",
       " 'The story presented in the French opera, by Camille Saint-Saens, is of an artist \"whose life is dictated by a love for drugs and Japan.\"',\n",
       " 'As a result, the performers smoke cannabis joints on stage, and the theatre itself is encouraging the audience to join in.',\n",
       " 'Former House Speaker Newt Gingrich, Texas governor Rick Perry, and Congresswoman Michele Bachmann finished in fourth, fifth, and sixth place, respectively.',\n",
       " 'After the results came in, Gingrich lauded Santorum, but had tough words for Romney, on whose behalf negative campaign advertisements were aired in Iowa against Gingrich.',\n",
       " 'Perry stated that he would \"return to Texas to assess the results of tonight\\'s caucus, determine whether there is a path forward for myself in this race\", but later said that he would remain in the race and compete in the January 21 South Carolina primary.',\n",
       " 'Bachmann, who won the Ames Straw Poll in August, decided to end her campaign.',\n",
       " 'The photographer was transported to Ronald Reagan UCLA Medical Center, where he subsequently died.',\n",
       " 'He was reportedly aged in his 20s. In a statement, Bieber said \"[w]hile I was not present nor directly involved with this tragic accident, my thoughts and prayers are with the family of the victim.\"',\n",
       " 'Entertainment news website TMZ understands the photographer stopped his vehicle on the other side of Sepulveda Boulevard and attempted to take pictures of the police stop before crossing the road and continuing, prompting the California Highway Patrol police officer conducting the traffic stop to order him back across, twice.',\n",
       " 'According to police, the driver of the vehicle that hit the photographer is unlikely to face criminal charges.',\n",
       " 'With only eighteen medals available a day, a number of countries have failed to make the medal podium.',\n",
       " \"They include the Netherlands, with Anna Jochemsen finishing ninth in the women's standing class in the Super-G yesterday, and Finland with Katja Saarinen finishing tenth in the same event.\",\n",
       " \"Australia's Mitchell Gourley finished eleventh in the men's standing Super-G. Czech competitor Oldrich Jelinek finished sixteenth in the men's sitting Super-G.\",\n",
       " \"Arly Velasquez of Mexico finished fifteenth in the men's sitting Super-G. New Zealand's Adam Hall finished ninth in the men's standing Super-G.\",\n",
       " \"Poland's men's visually impaired skier Maciej Krezel and guide Anna Ogarzynska finished thirteenth in the Super-G. South Korea's Jong Seork Park finished twenty-fourth in the men's sitting Super-G.\",\n",
       " \"UN peacekeepers, whom arrived in Haiti after the 2010 earthquake, are being blamed for the spread of the disease which started near the troop's encampment.\",\n",
       " \"According to the lawsuit, waste from the UN camp was not properly sanitized, causing bacteria to enter the tributary of the Artibonite River, one of Haiti's largest.\",\n",
       " 'Prior to the arrival of troops, Haiti had not encountered problems related to the disease since the 1800s.',\n",
       " 'The Haitian Institute for Justice and Democracy has referenced independent studies that suggest the Nepalese UN peacekeeping battalion unknowingly brought the disease to Haiti.',\n",
       " 'Danielle Lantagne, a UN expert on the disease, stated the outbreak was likely caused by the peacekeepers.',\n",
       " 'Hamilton confirmed Howard University Hospital admitted the patient in stable condition.',\n",
       " 'The patient had been to Nigeria, where some cases of the Ebola virus have occurred.',\n",
       " 'The hospital has followed protocol for infection control, including separating the patient from others to prevent possible infection of others.',\n",
       " 'Before The Simpsons Simon had worked on several shows in various positions.',\n",
       " 'During the 1980s he worked on shows such as Taxi, Cheers, and The Tracy Ullman Show.',\n",
       " \"In 1989 he helped create The Simpsons with Brooks and Groening, and was responsible for hiring the show's first writing team.\",\n",
       " 'Despite leaving the show in 1993 he kept the title of executive producer, and continued to receive tens of millions of dollars every season in royalties.',\n",
       " 'Earlier the Chinese news agency Xinhua reported a plane to be hijacked.',\n",
       " 'Later reports then stated the plane received a bomb threat and was diverted back to Afghanistan, landing in Kandahar.',\n",
       " 'The early reports say the plane was diverted back to Afghanistan after being denied an emergency landing in Ürümqi.',\n",
       " 'Air accidents are common in Iran, which has an aging fleet that is poorly maintained both for civil and military operations.',\n",
       " 'International sanctions have meant that new aircraft cannot be purchased.',\n",
       " 'Earlier this week, a police helicopter crash killed three people and wounded three more.',\n",
       " 'Last month Iran saw its worst air disaster in years when an airliner heading to Armenia crashed, killing the 168 on board.',\n",
       " 'The same month saw another airliner overrun a runway at Mashhad and strike a wall, killing seventeen.',\n",
       " 'Aerosmith have cancelled their remaining concerts on their tour.',\n",
       " 'The rock band was due to tour the United States and Canada until September 16.',\n",
       " 'They have cancelled the tour after lead singer Steven Tyler was injured after he fell off stage while performing on August 5.',\n",
       " 'Murray lost the first set in a tie break after both men held each and every serve in the set.',\n",
       " 'Del Potro had the early advantage in the second set, but this too required a tie break after reaching 6-6.',\n",
       " 'Potro received treatment to his shoulder at this point but managed to return to the game.',\n",
       " 'The program started at 8:30 p.m. local time (15.00 UTC).',\n",
       " \"Famous singers across the country presented bhajans, or devotional songs, to Shri Shyam's feet.\",\n",
       " 'Singer Sanju Sharma started the evening, followed by Jai Shankar Choudhary. esented the chhappan bhog bhajan as well. Singer, Raju Khandelwal was accompanying him.',\n",
       " 'Then, Lakkha Singh took the lead in singing the bhajans.',\n",
       " '108 plates of Chhappan Bhog (in Hinduism, 56 different edible items, like, sweets, fruits, nuts, dishes etc. which are offered to deity) were served to Baba Shyam.',\n",
       " 'Lakkha Singh presented the chhappan bhog bhajan as well. Singer, Raju Khandelwal was accompanying him.',\n",
       " \"At Thursday's keynote presentation of the Tokyo Game Show, Nintendo president Satoru Iwata unveiled the controller design for the company's new Nintendo Revolution console.\",\n",
       " \"Resembling a television remote, the controller uses two sensors placed near the user's television to triangulate its position in three-dimensional space.\",\n",
       " 'This will allow players to control actions and movements in video games by moving the device through the air.',\n",
       " 'Giancarlo Fisichella lost control of his car and ended the race very soon after the start.',\n",
       " 'His teammate Fernando Alonso was in the lead for most of the race, but ended it right after his pit-stop, probably because a badly tucked right front wheel.',\n",
       " 'Michael Schumacher ended his race not long after Alonso, because of the suspension damage in the numerous battles during the race.',\n",
       " '\"She’s very cute and sings quite well, too,\" he said according to a transcript of the news conference.',\n",
       " '\"I was moved every time we did a rehearsal on this, from the bottom of my heart.\"',\n",
       " 'Around 3 minutes into the launch, an on-board camera showed numerous pieces of insulation foam break away from the fuel tank.',\n",
       " 'However, they are not thought to have caused any damage to the shuttle.',\n",
       " 'NASA\\'s shuttle program chief N. Wayne Hale Jr. said the foam had fallen \"after the time we are concerned about.\"',\n",
       " 'Five minutes into the display a wind starts rolling in, about a minute later, the wind is reaching 70km/h... then the rain comes, but so hard and so large that it slaps your skin like a needle, then hail fell from the sky, people panicking and screaming and running over each other.',\n",
       " 'I lost my sister and her friend, and on my way there were two disabled people in wheelchairs, people just jumping over and pushing them,\" Armand Versace said.',\n",
       " 'NHK also reported that the Kashiwazaki Kariwa nuclear power plant in Niigata prefecture was operating normally.',\n",
       " 'Hokuriku Electric Power Co. reported no effects from the earthquake and that the Number 1 and 2 reactors at its Shika nuclear power plant were shut down.',\n",
       " 'It is reported that some 9400 homes in the region are without water and approximately 100 without electricity.',\n",
       " 'Some roads have been damaged, railway service interrupted in the affected areas, and the Noto Airport in Ishikawa prefecture remains closed.',\n",
       " \"One bomb exploded outside the governor general's office.\",\n",
       " 'Three more bombs exploded near government buildings in a period of two hours.',\n",
       " 'Some reports put the official death toll at eight, and official reports confirm that up to 30 were injured; but final numbers are not yet known.',\n",
       " 'Both cyanuric acid and melamine were found in urine samples from pets that died after consuming contaminated pet food.',\n",
       " 'The two compounds react with one another to form crystals that may block kidney function, researchers at the university said.',\n",
       " 'The researchers observed crystals formed in cat urine by the addition of melamine and cyanuric acid.',\n",
       " 'The composition of these crystals matches those found in the urine of affected pets when compared by infrared spectroscopy (FTIR).',\n",
       " \"I don't know if you realize it or not, but most of the goods from Central America came into this country duty-free.\",\n",
       " 'Yet eighty percent of our goods were taxed through tariffs in Central American countries. we treat you.',\n",
       " \"That didn't seem to make sense to me; it certainly wasn't fair.\",\n",
       " 'All I say to people is you treat us the way we treat you.',\n",
       " 'California Governor Arnold Schwarzenegger signed into law a bill that bans the sale or rental of violent video games to minors.',\n",
       " 'The bill requires violent video games sold in the state of California to be labeled with a decal reading \"18\" and makes their sale to a minor punishable by a fine of $1000 per offense.',\n",
       " 'The Director of Public Prosecutions, Kier Starmer QC, gave a statement this morning announcing the prosecution of both Huhne and Pryce.',\n",
       " 'Huhne has resigned and he will be replaced in the Cabinet by Ed Davey MP. Norman Lamb MP is expected to take the Business Minister job Davey is vacating.',\n",
       " 'Huhne and Pryce are scheduled to appear at the Westminster Magistrates Court on February 16.',\n",
       " 'The fatalities were Nicholas Alden, 25, and Zachary Cuddeback, 21. Cuddeback had been the driver.',\n",
       " 'Edgar Veguilla received arm and jaw wounds while Kristoffer Schneider was left requiring reconstructive surgery for his face.',\n",
       " \"Uka's weapon failed whilst pointed at a fifth man's head. Schneider has ongoing pain, blindness in one eye, a missing section of skull and a face rebuilt from titanium.\",\n",
       " 'Schneider testified via videolink from a USAF base in his homeland.',\n",
       " \"Beyond Wednesday's event, Carpanedo competed in two individual races at the Championships.\",\n",
       " 'Her first was the Slalom, where she earned a Did Not Finish in her first run. 36 of the 116 competitors had the same result in that race.',\n",
       " \"Her other race, the Giant Slalom, saw her finish in tenth in the women's sitting group with a combined run time of 4:41.30, 2:11.60 minutes slower than first place finisher Austrian Claudia Loesch and 1:09.02 minutes slower than the ninth place finisher Gyöngyi Dani of Hungary.\",\n",
       " \"Four skiers in the women's sitting group failed to finish their runs, and 45 of the 117 total skiers in the Giant Slalom failed to rank in the race.\",\n",
       " 'The Madhya Pradesh Police recovered the stolen laptop and mobile phone.',\n",
       " 'Deputy Inspector General D K Arya said, \"We have arrested five persons who raped the Swiss woman and recovered her mobile and laptop\".',\n",
       " 'The accused are named as Baba Kanjar, Bhutha Kanjar, Rampro Kanjar, Gaza Kanjar and Vishnu Kanjar.',\n",
       " 'Police superintendent Chandra Shekhar Solanki said the accused appeared in court with covered faces.',\n",
       " 'Although three people were inside the house when the car impacted it, none of them were hurt.',\n",
       " 'However, the driver sustained serious injuries to the head.',\n",
       " 'The road where the crash happened was temporarily closed while emergency services freed the driver from the red Audi TT.',\n",
       " 'He was initially hospitalised in the James Paget Hospital in Great Yarmouth.',\n",
       " \"He was subsequently relocated to Addenbrooke's Hospital in Cambridge.\",\n",
       " 'Adekoya has since been in Edinburgh Sheriff Court charged with murdering her son.',\n",
       " 'She is in custody pending indictment and trial, but any eyewitness evidence may be tainted because her image has been widely published.',\n",
       " 'This is common practice elsewhere in the UK but Scottish justice works differently and courts have viewed publication of photos as potentially prejudicial.',\n",
       " 'Professor Pamela Ferguson of the University of Dundee notes \"journalists do seem to be walking a dangerous line if publishing photos etc of suspects.\"',\n",
       " 'Crown Office, which is in overall charge of prosecutions, has indicated to journalists that no further comment will be made at least until indictment.',\n",
       " 'The document, according to the leak, will refer to the borders dispute, which Palestine wants based on the borders before the 1967 Mideast War.',\n",
       " 'Other topics covered reportedly include the future state of Jerusalem which is sacred to both nations and the Jordan Valley issue.',\n",
       " 'Israel demands an ongoing military presence in the valley for ten years once an agreement is signed while the PA agrees to leave such presence only for five years.',\n",
       " 'Shooters in the supplementary pest control trial were to be closely supervised by rangers, as the trial was monitored and its effectiveness evaluated.',\n",
       " \"In a partnership of NPWS and the Sporting Shooters Association of Australia (NSW) Inc, qualified volunteers were recruited, under the Sporting Shooters Association's hunting program.\",\n",
       " \"According to Mick O'Flynn, the Acting Director Park Conservation and Heritage with the NPWS, the four shooters selected for the first shooting operation received comprehensive safety and training instruction.\",\n",
       " 'Martelly swore in a new Provisional Electoral Council (CEP) of nine members yesterday.',\n",
       " \"It is Martelly's fifth CEP in four years.\",\n",
       " \"Last month a presidential commission recommended the prior CEP's resignation as part of a package of measures to move the country towards new elections.\",\n",
       " \"The commission was Martelly's response to widespread anti-regime protests that started in October.\",\n",
       " 'The sometimes-violent protests were triggered by failure to hold elections, some due since 2011.',\n",
       " 'Around 60 cases of malfunctioning iPods overheating have been reported, causing a total of six fires and leaving four people with minor burns.',\n",
       " \"Japan's Ministry of Economy, Trade and Industry (METI) said that it had been aware of 27 accidents related to the devices.\",\n",
       " 'Last week, METI announced that Apple had informed it of 34 additional overheating incidents, which the company called \"non-serious.\"',\n",
       " 'The ministry responded by calling Apple\\'s postponement of the report \"truly regrettable.\"',\n",
       " 'The eathquake struck Mariana at 07:19 a.m. local time (09:19 p.m. GMT Friday).',\n",
       " 'The Northern Marianas emergency management office said that there were no damages reported in the nation.',\n",
       " 'Also the Pacific Tsunami Warning Center said that there was no Tsunami indication.',\n",
       " 'A former Filipino policeman has kept Hong Kong tourists hostage by hijacking their bus in Manila, the capital of the Philippines.',\n",
       " 'Rolando Mendoza fired his M16 rifle at the tourists.',\n",
       " 'Several hostages have been rescued and least six have been confirmed dead so far.',\n",
       " 'Six hostages, including the children and elderly, were released early, as were the Filipino photographers.',\n",
       " 'The photographers later took the place of an aged lady as she needed the lavatory. Mendoza was gunned down.',\n",
       " 'Liggins followed in his father’s footsteps and entered a career in medicine.',\n",
       " \"He trained as an obstetrician and began to work at the Auckland's National Women's Hospital in 1959.\",\n",
       " 'While he was working at the hospital Liggins began to investigate premature labor during his spare time.',\n",
       " \"His research showed that if a hormone was administered it would speed up the baby's foetal lung maturation.\",\n",
       " \"Xinhua reported that government investigators recovered two 'black box' flight recorders on Wednesday.\",\n",
       " 'Fellow wrestlers also paid tribute to Luna.',\n",
       " 'Tommy Dreamer said \"Luna was the first Queen of Extreme. My first manager. Luna passed away on the night of two moons. Pretty unique just like her. Strong woman.\"',\n",
       " 'Dustin \"Goldust\" Runnels commented that \"Luna was as freaky as me...maybe even more...love her and will miss her...hopefully she\\'s in a better place.\"',\n",
       " 'Out of 1,400 people polled prior to the 2010 federal election, those who oppose Australia becoming a republic grew by 8 per cent since 2008.',\n",
       " \"Caretaker Prime Minister Julia Gillard claimed during the campaign of the 2010 federal election that she believed Australia should become a republic at the end of Queen Elizabeth II's reign.\",\n",
       " \"34 per cent of those in the poll share this view, wanting Queen Elizabeth II to be Australia's last monarch.\",\n",
       " 'At the extremes of the poll, 29 per cent of those surveyed believe Australia should become a republic as soon as possible, while 31 per cent believe Australia should never become a republic.',\n",
       " 'The Olympic gold medalist was due to swim in the 100m and 200m freestyle and in three relays at the Commonwealth Games, but due to his complaints his fitness has been in doubt.',\n",
       " 'He has been unable to take the drugs needed to overcome his pain as they are banned from the Games.',\n",
       " 'Curtis Cooper, a mathematician and computer science professor at the University of Central Missouri, has discovered the largest known prime number to date on January 25.',\n",
       " 'Several people verified the discovery using different hardware and software by the beginning of February and it was announced on Tuesday.',\n",
       " 'Comets may possibly have been a source of water delivery to the earth along with organic matter that can form proteins and support life.',\n",
       " 'Scientists hope to understand how planets form, especially how the Earth formed, since comets collided with the Earth long ago.',\n",
       " 'Cuomo, 53, began his governorship earlier this year and signed a bill last month legalizing same-sex marriage.',\n",
       " 'He referred to the rumors as \"political chatter and silliness\".',\n",
       " 'He is speculated to make a run for president in 2016.',\n",
       " 'NextGen is a system the FAA claims would allow aircraft to fly shorter routes and save millions of gallons of fuel each year and cut carbon emissions.',\n",
       " 'It uses satellite-based technology as opposed to older ground-radar-based technology to allow air traffic controllers to pinpoint aircraft with greater precision and give pilots more accurate information.',\n",
       " 'No extra transport is being put on and overground trains will not stop at Wembley, and car parking and park-and-ride facilities are unavailable at the ground.',\n",
       " \"Fears of lack of transportation raised the possibility that the game would be forced to play behind closed doors without the team's supporters.\",\n",
       " 'A study published on Thursday in the journal Science reported on formation of a new bird species on the Ecuadorean Galápagos Islands.',\n",
       " 'Researchers from Princeton University in the United States and Uppsala University in Sweden reported the new species evolved in just two generations, though this process had been believed to take much longer, due to breeding between an endemic Darwin finch, Geospiza fortes, and the immigrant cactus finch, Geospiza conirostris.',\n",
       " 'Gold may be worked into all sorts of shapes. It can be rolled into tiny shapes.',\n",
       " 'It can be pulled into thin wire, which can be twisted and plaited. It can be hammered or rolled into sheets.',\n",
       " 'It can be made very thin, and stuck onto other metal. It can be made so thin that it was sometimes used to decorate the hand-painted pictures in books called \"illuminated manuscripts\".',\n",
       " \"This is called a chemical's pH. You can make an indicator using red cabbage juice.\",\n",
       " 'The cabbage juice changes color depending on how acidic or basic (alkaline) the chemical is.',\n",
       " 'The pH level is indicated by the amount of Hydrogen (the H in pH) ions in the tested chemical.',\n",
       " 'Hydrogen ions are protons that had their electrons stripped off them (since Hydrogen atoms consist of one proton and one electron).',\n",
       " 'Swirl the two dry powders together and then, with clean wet hands, squeeze them into a ball.',\n",
       " 'The moisture on your hands will react with the outer layers, which will feel funny and form a sort of shell.',\n",
       " 'The cities of Harappa and Mohenjo-daro had a flush toilet in almost every house, attached to a sophisticated sewage system.',\n",
       " 'Remains of sewage systems have been found in the houses of the Minoan cities of Crete and Santorini in Greece.',\n",
       " 'There were also toilets in ancient Egypt, Persia and China. In Roman civilization, toilets were sometimes part of public bath houses where men and women were together in mixed company.',\n",
       " 'When you call someone who is thousands of miles away, you are using a satellite.',\n",
       " 'The satellite in space gets the call and then reflects it back down, almost instantly.',\n",
       " 'The satellite was sent into space by a rocket. Scientists use telescopes in space because the Earth’s atmosphere distorts some of our light and view.',\n",
       " 'It takes a giant rocket over a 100 feet high to put a satellite or telescope in space.',\n",
       " 'The wheel has changed the world in incredible ways. The biggest thing that the wheel has done for us is given us much easier and faster transportation.',\n",
       " 'It has brought us the train, the car, and many other transportation devices.',\n",
       " 'Under them are more medium sized cats that eat medium sized prey ranging from rabbits to antelopes and deer.',\n",
       " 'Finally, there are many small cats (including loose pet cats) that eat the far more numerous small prey like insects, rodents, lizards, and birds.',\n",
       " 'The secret to their success is the concept of the niche, a special job each cat holds that keeps it from competing with others.',\n",
       " 'Lions are the most social cats, living in large groups called prides.',\n",
       " 'Prides are made up of one to three related adult males, along with as many as thirty females and cubs.',\n",
       " 'The females are usually closely related to each other, being a large family of sisters and daughters.',\n",
       " 'Lion prides act much like packs of wolves or dogs, animals surprisingly similar to lions (but not other big cats) in behavior, and also very deadly to their prey.',\n",
       " 'A well rounded athlete, the tiger can climb (though not well), swim, leap great distances and pull with five times the force of a strong human.',\n",
       " 'The tiger is in the same group (Genus Panthera) as lions, leopards, and jaguars. These four cats are the only ones who can roar.',\n",
       " \"The tiger's roar is not like the full-voiced roar of a lion, but more like a sentence of snarly, shouted words.\",\n",
       " 'Ocelots like to eat small animals. They will catch monkeys, snakes, rodents and birds if they can. Almost all of the animals that the ocelot hunts are far smaller than it is.',\n",
       " \"Scientists think that ocelots follow and find animals to eat (prey) by smell, sniffing for where they've been on the ground.\",\n",
       " 'They can see very well in the dark with night vision, and move very stealthily, too. Ocelots hunt their prey by blending in with their surroundings then pouncing on their prey.',\n",
       " \"When a small group of living things (a small population) gets separated from the main population that they came from (like if they move over a mountain range or a river, or if they move to a new island so that they can't easily move back) they will often find themselves in a different environment than they were in before.\",\n",
       " 'This new environment has different resources and different competitors, so the new population will need different features or adaptations to be a strong competitor than what they had needed before.',\n",
       " \"The original population hasn't changed at all, they still need the same adaptations as before.\",\n",
       " 'Over time, as the new population begins to adapt to their new environment, they start to look less and less like the other population.',\n",
       " \"Eventually, after thousands or even millions of years, the two populations will look so different that they can't be called the same species.\",\n",
       " 'We call this process speciation, which just means the formation of new species. Speciation is an unavoidable consequence and a very important part of evolution.',\n",
       " 'Plants make oxygen which humans breathe, and they take in carbon-dioxide which humans exhale (that is, breathe out).',\n",
       " 'Plants make their food from the sun by photosynthesis. They also provide shade.',\n",
       " 'We make our houses from plants and make clothes from plants. Most foods that we eat are plants. Without plants, animals could not survive.',\n",
       " 'Mosasaurus was the apex predator of its time, so it feared nothing, except other mosasaurs.',\n",
       " 'Its long jaws were studded with more than 70 razor-sharp teeth, along with an extra set in the roof of its mouth, meaning that there was no escape for anything that crossed its path.',\n",
       " \"We don't know for sure, but it may have had a forked tongue. Its diet included turtles, large fish, other mosasaurs, and it may even have been a cannibal.\",\n",
       " 'It also attacked anything that entered the water; even a giant dinosaur such as T. rex would be no match for it.',\n",
       " 'While most of their food would be familiar to us, Romans did have their share of strange or unusual feast items, including wild boar, peacock, snails, and a type of rodent called a dormouse',\n",
       " 'Another difference was that while the poor people and the woman ate their food while sitting in chairs, the rich men liked to have banquets together where they would lounge on their sides while they ate their meals.',\n",
       " \"Ancient Roman meals couldn't have included foods that came to Europe from America or from Asia in later centuries.\",\n",
       " \"For instance, they didn't have corn, nor tomatoes, nor potatoes, nor cocoa, and no ancient Roman ever tasted a turkey.\",\n",
       " 'The Babylonians built each of their gods a primary temple that was considered the home of the god.',\n",
       " 'People would bring sacrifices to the gods and the priests would try to attend to the needs of the gods through ceremonies and festivals.',\n",
       " 'Each temple had an open temple courtyard and then an inner sanctuary that only the priests could enter.',\n",
       " 'Sometimes special pyramid shaped towers, called ziggurats, were built to be a part of the temples.',\n",
       " 'The top of the tower was special sanctuary for the god.',\n",
       " 'In the warm climate of the Middle East, the house was not so important.',\n",
       " 'Most of the life of the Hebrew family happened in the open air.',\n",
       " 'Women did the cooking in the yard; stores were just open counters looking into the street. Stone was used for building houses.',\n",
       " 'There were no large forests in the land of Canaan, so wood was extremely expensive.',\n",
       " 'Greenland was settled sparsely. In the Norse sagas they say that Erik the Red was exiled from Iceland for murder, and when travelling further west, found Greenland and named it Greenland.',\n",
       " 'But regardless of his discovery, Eskimo tribes were already living there at the time.',\n",
       " \"Though each country was 'Scandinavian', there were many differences between the people, kings, customs and history of Denmark, Sweden, Norway and Iceland.\",\n",
       " 'If you have watched the movie National Treasure, you may think a treasure map was written on the back of the Declaration of Independence.',\n",
       " 'However, that is not true. Although there is something written on the back of the document, it is not a treasure map.',\n",
       " 'Written on the back of the Declaration of Independence were the words \"Original Declaration of Independence dated 4th July 1776\". The text appears on the bottom of the document, upside down.',\n",
       " 'While no one knows for certain who wrote it, it is known that early in its life, the large parchment document (it measures 29¾ inches by 24½ inches) was rolled up for storage.',\n",
       " 'So, it is likely that the notation was added simply as a label.',\n",
       " \"The D-Day landings and the following battles had freed the north of France, but the south still wasn't free.\",\n",
       " 'It was ruled by the \"Vichy\" French. These were French people who had made peace with the Germans in 1940 and worked with the invaders instead of fighting them.',\n",
       " 'On 15 August 1940, the Allies invaded southern France, the invasion was called \"Operation Dragoon\".',\n",
       " 'In just two weeks the Americans and Free French forces had liberated southern France and were turning towards Germany.',\n",
       " 'A civilization is a singular culture shared by a significant large group of people who live and work co-operatively, a society.',\n",
       " 'The word civilization comes from the Latin civilis, meaning civil, related to the Latin civis, meaning citizen, and civitas, meaning city or city-state, and that also somehow defines the size of the society.',\n",
       " 'City-states are the precursors of nations. A civilizational culture implies the passing on of knowledge across several generations, a lingering cultural footprint and fair dissemination.',\n",
       " 'Minor cultures often vanish without leaving relevant historic evidence and fail to be recognized as proper civilizations.',\n",
       " 'During the Revolutionary War, the thirteen states first formed a weak central government—with the Congress being its only component—under the Articles of Confederation.',\n",
       " 'Congress lacked any power to impose taxes, and, because there was no national executive or judiciary, it relied on state authorities, who were often uncooperative, to enforce all its acts.',\n",
       " 'It also had no authority to override tax laws and tariffs between states.',\n",
       " 'The Articles required unanimous consent from all the states before they could be amended and states took the central government so lightly that their representatives were often absent.',\n",
       " \"Italy's national football, along with German national football team is the second most successful team in the world and were the FIFA World Cup champions in 2006.\",\n",
       " 'Popular sports include football, basketball, volleyball, water-polo, fencing, rugby, cycling, ice hockey, roller hockey and F1 motor racing.',\n",
       " 'Winter sports are most popular in the Northern regions, with Italians competing in international games and Olympic events.',\n",
       " 'Japans holds nearly 7,000 islands (the biggest being Honshu), making Japan the 7th largest island in the world!',\n",
       " 'Due to the cluster/group of islands Japan has, Japan is often referred to, on a geographical stance, as an \"archipelago\"',\n",
       " 'Taiwan beginning start way back in 15th century where European sailors passing by record the island’s name as Ilha Formosa, or beautiful island.',\n",
       " 'In 1624,Dutch East India Company establishes a base in southwestern Taiwan, initiating a transformation in aboriginal grain production practices and employing Chinese laborers to work on its rice and sugar plantations.',\n",
       " 'In 1683, Qing dynasty (1644-1912) forces take control of Taiwan’s western and northern coastal areas and declared Taiwan as a province of the Qing Empire in 1885.',\n",
       " 'In 1895, after defeat in the First Sino-Japanese War (1894-1895), the Qing government signs the Treaty of Shimonoseki, by which it cedes sovereignty over Taiwan to Japan, which rules the island until 1945.',\n",
       " 'Machu Picchu consist of three main structures, namely Intihuatana, the Temple of the Sun, and the Room of the Three Windows.',\n",
       " 'Most of the buildings on the edges of the complex have been rebuilt in order to give tourists a better idea of how they originally appeared.',\n",
       " 'By 1976, thirty percent of Machu Picchu had been restored and restoration continues till today.',\n",
       " 'For example, the most common still image photography format in the world is 35mm, which was the dominant film size at the close of the analog film era.',\n",
       " 'It is still produced today, but more importantly its aspect ratio has been inherited by digital camera image sensor formats.',\n",
       " 'The 35mm format is actually, somewhat confusingly, 36mm in width by 24mm in height.',\n",
       " 'The aspect ratio of this format (dividing by twelve to obtain the simplest whole-number ratio) is therefore said to be 3:2.',\n",
       " 'Many common formats (APS family of formats, for example) are equal to or closely approximate this aspect ratio.',\n",
       " 'The much-abused and often-ridiculed rule of thirds is a simple guideline creating dynamism while keeping a measure of order in an image.',\n",
       " 'It states that the most effective place for the main subject is at the intersection of lines dividing the image into thirds vertically and horizontally (see example).',\n",
       " 'During this period of European history, the Catholic Church, which had become rich and powerful, came under scrutiny.',\n",
       " 'For over a thousand years the Christian religion had bound European states together despite differences in language and customs. I',\n",
       " 'Its all-pervading power affected everyone from king to commoner.',\n",
       " 'One of the main Christian tenets is that wealth should be used to alleviate suffering and poverty and that the monetary funds of the church are there specifically for that reason.',\n",
       " 'The central authority of the church had been in Rome for over a thousand years and this concentration of power and money led many to question whether this tenet was being met.',\n",
       " 'Soon after the outbreak of hostilities, Britain initiated a naval blockade of Germany.',\n",
       " 'The strategy proved effective, cutting off vital military and civilian supplies, although this blockade violated generally accepted international law codified by several international agreements of the past two centuries.',\n",
       " 'Britain mined international waters to prevent any ships from entering entire sections of ocean, causing danger to even neutral ships.',\n",
       " 'Since there was limited response to this tactic, Germany expected a similar response to its unrestricted submarine warfare.',\n",
       " 'During the 1920s, the prevailing attitudes of most citizens and nations was that of pacifism and isolation.',\n",
       " 'After seeing the horrors and atrocities of war during World War I, nations desired to avoid such a situation again in the future.',\n",
       " 'In 1884, Tesla moved to the United States of America to accept a job with the Edison Company in New York City.',\n",
       " 'He arrived in the US with 4 cents to his name, a book of poetry, and a letter of recommendation from Charles Batchelor (his manager in his previous job) to Thomas Edison.',\n",
       " 'Ancient China had a unique way of showing different time periods; each stage of China or each family that was in power was a distinctive dynasty.',\n",
       " 'Also between each dynasty was an unstable age of divided provinces. The best-known of these periods was the Three Kingdoms epoch taking place for 60 years between the Han and the Jin Dynasty.',\n",
       " 'During these periods fierce warfare took place between many nobles fighting for the throne.',\n",
       " 'The Three Kingdoms was one of the bloodiest eras in Ancient China’s history thousands of people died fighting to sit in the highest seat in the grand palace at Xi’an.',\n",
       " 'There are a lot of social and political effects such as the use of metric system, a shift from absolutism to republicanism, nationalism and the belief the country belongs to the people not to one sole ruler.',\n",
       " 'Also after the Revolution occupations were open to all male applicants allowing the most ambitious and successful to succeed.',\n",
       " 'Same goes for the military because instead of army rankings being based on class they were now based on cailaber.',\n",
       " \"The French Revolution also inspired many other repressed working class people of other country's to began their own revolutions.\",\n",
       " 'Muhammad was deeply interested in matters beyond this mundane life. He used to frequent a cave that became known as “Hira‘” on the Mountain of “Noor” (light) for contemplation.',\n",
       " 'he cave itself, which survived the times, gives a very vivid image of Muhammad’s spiritual inclinations.',\n",
       " 'Resting on the top of one of the mountains north of Mecca, the cave is completely isolated from the rest of the world.',\n",
       " 'In fact, it is not easy to find at all even if one knew it existed. Once inside the cave, it is a total isolation.',\n",
       " 'Nothing can be seen other than the clear, beautiful sky above and the many surrounding mountains. Very little of this world can be seen or heard from inside the cave.',\n",
       " 'The Great Pyramid at Giza is the only one of the seven wonders that is still standing today.',\n",
       " 'Built by the Egyptians in the third century BCE, the Great Pyramid is one of many large pyramid structures built to honor dead Pharaoh.',\n",
       " 'The Giza Plateau, or \"Giza Necropolis\" in the Egyptian Valley of the Dead contains several pyramids (of which the great pyramid is the largest), several small tombs, several temples, and the great Sphinx.',\n",
       " \"The great pyramid was created to honor the Pharaoh Khufu, and many of the smaller pyramids, tombs, and temples were built to honor Khufu's wives and family members.\",\n",
       " 'The \"up bow\" mark looks like a V and the \"down bow mark\" like a staple or a square missing its bottom side.',\n",
       " 'Up means you should start at the tip and push the bow, and down means you should start at the frog (which is where your hand is holding the bow) and pull the bow.',\n",
       " 'An up-bow usually generates a softer sound, while a down-bow is stronger and more assertive.',\n",
       " 'Feel free to pencil in your own marks, but remember the printed bowing marks are there for a musical reason, so they should usually be respected.',\n",
       " \"The terrified King Louis XVI, Queen Marie Antoinette their two young children (11 year old Marie Therese and four year old Louis-Charles) and the King's sister, Madam Elizabeth, on the 6th October 1789 were forced back to Paris from Versailles by a mob of market women.\",\n",
       " 'In a carriage, they traveled back to Paris surrounded by a mob of people screaming and shouting threats against the King and Queen.',\n",
       " 'The mob of people forced the King And Queen to have their carriage windows wide open.',\n",
       " 'At one point a member of the mob waved the head of a royal guard killed at Versailles in front of the terrified Queen.',\n",
       " 'The war expenditures of U.S. imperialism in the conquest of the Philippines were paid for by the Filipino people themselves.',\n",
       " 'They were compelled to pay taxes to the U.S. colonial regime to defray a major part of the expenditures and the interest on bonds floated in the name of the Philippine government through the Wall Street banking houses.',\n",
       " 'Of course, the superprofits derived from the protracted exploitation of the Filipino people would constitute the basic gains of U.S. imperialism.',\n",
       " 'To understand the Templars one must understand the context that prompted the creation of the order.',\n",
       " 'The age where the events took place is commonly referred as the High Middle Ages the period of European history in the 11th, 12th, and 13th centuries (AD 1000–1300).',\n",
       " 'The High Middle Ages were preceded by the Early Middle Ages and followed by the Late Middle Ages, which by convention ends around 1500.',\n",
       " 'Technological determinism is a term that encompasses a wide range of ideas in practice, from technology-push or the technological imperative to a strict sense that human destiny is driven by an underlying logic associated with scientific laws and their manifestation in technology.',\n",
       " 'Most interpretations of technological determinism share two general ideas: that the development of technology itself follows a path largely beyond cultural or political influence, and that technology in turn has \"effects\" on societies that are inherent, rather than socially conditioned.',\n",
       " 'For example, one might say that the motor car necessarily leads to the development of roads.',\n",
       " 'However, a nationwide road network is not economically viable for just a handful of cars, so new methods of production are developed to reduce the cost of car ownership.',\n",
       " 'Mass car ownership also leads to a higher incidence of accidents on the roads, which leads to the invention of new techniques in healthcare for repairing damaged bodies.',\n",
       " 'Romanticism had a large element of cultural determinism, drawn from writers such as Goethe, Fichte, and Schlegel.',\n",
       " 'In the context of Romanticism, the geography molded individuals, and over time customs and culture related to that geography arose, and these, being in harmony with the place of the society, were better than arbitrarily imposed laws.',\n",
       " 'In the manner that Paris is known as the fashion capital of the contemporary world, Constantinople was regarded as the fashion capital of feudal Europe.',\n",
       " 'Its renown for being an epicenter of luxury began in about 400 A.D. and lasted up until about 1100 A.D.',\n",
       " 'Its status declined during the twelfth century mainly due to the fact that Crusaders had returned bearing gifts such as silks and spices that were valued more than what Byzantine markets offered.',\n",
       " 'It was at this time that the transfer of the title of Fashion Capital from Constantinople to Paris was made.',\n",
       " 'Gothic style peaked in the period between the 10th - 11th centuries and the 14th century.',\n",
       " 'At the beginning dress was heavily influenced by the Byzantine culture in the east.',\n",
       " 'However, due to the slow communication channels, styles in the west could lag behind by 25 to 30 year.',\n",
       " 'towards the end of the Middle Ages western Europe began to develop their own style. one of the biggest developments of the time as a result of the crusades people began to use buttons to fasten clothing.',\n",
       " 'Subsistence agriculture is agriculture carried out for the production of enough food to meet just the needs of the agriculturalist and his/her family.',\n",
       " 'Subsistence agriculture is a simple, often organic, system using saved seed native to the ecoregion combined with crop rotation or other relatively simple techniques to maximize yield.',\n",
       " 'Historically most farmers were engaged in subsistence agriculture and this is still the case in many developing nations.',\n",
       " 'Subcultures bring together like-minded individuals who feel neglected by societal standards and allow them to develop a sense of identity.',\n",
       " 'Subcultures can be distinctive because of the age, ethnicity, class, location, and/or gender of the members.',\n",
       " 'The qualities that determine a subculture as distinct may be linguistic, aesthetic, religious, political, sexual, geographical, or a combination of factors.',\n",
       " 'Members of a subculture often signal their membership through a distinctive and symbolic use of style, which includes fashions, mannerisms, and argot.',\n",
       " 'One of the most common methods used to illustrate the importance of socialization is to draw upon the few unfortunate cases of children who were, through neglect, misfortune, or wilful abuse, not socialized by adults while they were growing up.',\n",
       " 'Such children are called \"feral\" or wild. Some feral children have been confined by people (usually their own parents); in some cases this child abandonment was due to the parents\\' rejection of a child\\'s severe intellectual or physical impairment.',\n",
       " 'Feral children may have experienced severe child abuse or trauma before being abandoned or running away.',\n",
       " 'Others are alleged to have been brought up by animals; some are said to have lived in the wild on their own.',\n",
       " 'When completely brought up by non-human animals, the feral child exhibits behaviors (within physical limits) almost entirely like those of the particular care-animal, such as its fear of or indifference to humans.',\n",
       " 'While project based learning should make learning easier and more interesting, scaffolding goes a step beyond.',\n",
       " 'Scaffolding is not a method of learning but rather an aid that provides support to individuals whom are undergoing a new learning experience such as using a new computer program or beginning a new project.',\n",
       " 'Scaffolds can be both virtual and real, in other words, a teacher is a form of scaffold but so is the little paperclip man in Microsoft Office.',\n",
       " 'Virtual Scaffolds are internalized in the software and are meant to question, prompt, and explain procedures that may have been to challenging for the student to handle alone.',\n",
       " 'Children are placed in Foster Care for a wide variety of reasons that range from neglect, to abuse, and even to extortion.',\n",
       " 'No child should ever have to grow up in an environment that is not nurturing, caring, and educational, but they do.',\n",
       " 'We perceive the Foster Care System to be a safety zone for these children.',\n",
       " 'Our foster care system is supposed to provide safe homes, loving caregivers, stable education, and reliable health care.',\n",
       " 'Foster care is supposed to provide all the necessities that were lacking in the home they were previously taken from.',\n",
       " 'The Internet combines elements of both mass and interpersonal communication.',\n",
       " 'The distinct characteristics of the Internet lead to additional dimensions in terms of the uses and gratifications approach.',\n",
       " 'For example, “learning” and “socialization” are suggested as important motivations for Internet use (James et al., 1995).',\n",
       " '“Personal involvement” and “continuing relationships” were also identified as new motivation aspects by Eighmey and McCord (1998) when they investigated audience reactions to websites.',\n",
       " 'The use of video recording has led to important discoveries in the interpretation of micro-expressions, facial movements which last a few milliseconds.',\n",
       " 'In particular, it is claimed that one can detect whether a person is lying by interpreting micro-expressions correctly.',\n",
       " \"Oliver Sacks, in his paper The President's Speech, indicated how people who are unable to understand speech because of brain damage are nevertheless able to assess sincerity accurately.\",\n",
       " 'He even suggests that such abilities in interpreting human behavior may be shared by animals such as domestic dogs.',\n",
       " 'Twentieth century research has shown that there are two pools of genetic variation: hidden and expressed.',\n",
       " 'Mutation adds new genetic variation, and selection removes it from the pool of expressed variation.',\n",
       " 'Segregation and recombination shuffle variation back and forth between the two pools with each generation.',\n",
       " 'Out on the savanna, it is hard for a primate with a digestive system like that of humans to satisfy its amino-acid requirements from available plant resources.',\n",
       " 'Moreover, failure to do so has serious consequences: growth depression, malnutrition, and ultimately death.',\n",
       " 'The most readily accessible plant resources would have been the proteins accessible in leaves and legumes, but these are hard for primates like us to digest unless they are cooked.',\n",
       " 'In contrast, animal foods (ants, termites, eggs) not only are easily digestible, but they provide high-quantity proteins that contain all the essential amino acids.',\n",
       " 'All things considered, we should not be surprised if our own ancestors solved their \"protein problem\" in somewhat the same way that chimps on the savanna do today.',\n",
       " 'Sleep interruption is the process of purposefully awakening during your normal sleep period and falling asleep a short time later (10–60 minutes).',\n",
       " 'This can be easily done by using a relatively quiet alarm clock to bring you to consciousness without fully waking you.',\n",
       " 'If you find yourself resetting the clock in your sleep, it can be placed on the other side of the room, forcing you to get out of bed to turn it off.',\n",
       " 'Other biorhythm-based options involve drinking lots of fluid (particularly water or tea, a known diuretic) prior to sleep, forcing one to get up to urinate.',\n",
       " 'The amount of inner peace a person possesses correlates oppositely to the amount of tension in one’s body and spirit.',\n",
       " 'The lower the tension, the more positive the life force present. Every person has the potential to find absolute peace and contentment.',\n",
       " 'Everyone can achieve enlightenment. The only thing standing in the way of this goal is our own tension and negativity.',\n",
       " 'The Tibetan Buddhism is based on the teachings of Buddha, but were extended by the mahayana path of love and by a lot of techniques from Indian Yoga.',\n",
       " 'In principle the Tibetan Buddhism is very simple. It consists of Kundalini Yoga, meditation and the path of all-embracing love.',\n",
       " 'With Kundalini Yoga the Kundalini energy (enlightenment energy) is awakened through yoga postures, breathing exercises, mantras and visualizations.',\n",
       " 'The center of Tibetan meditation is the Deity Yoga. Through the visualization of various deities the energy channels are cleaned, the chakras are activated and the enlightenment consciousness is created.',\n",
       " 'Germany was a common enemy in World War 2, leading to cooperation between the USSR and USA. With the end of the war the clashes of system, process and culture led to the countries falling out.',\n",
       " 'With two years of the end of the war, the former allies were now enemies and the Cold War began.',\n",
       " 'It was to last for the next 40 years and would be fought for real, by proxy armies, on battlefields from Africa to Asia, in Afghanistan, Cuba and many other places.',\n",
       " 'By September 17, 1939, the Polish defense was already broken, and the only hope was to retreat and reorganise along the Romanian bridgehead.',\n",
       " \"However, these plans were rendered obsolete nearly overnight, when over 800,000 soldiers from the Soviet's Union Red Army entered and created the Belarussian and Ukrainian fronts after invading the eastern regions of Poland in violation of the Riga Peace Treaty, the Soviet-Polish Non-Aggression Pact, and other international treaties, both bilateral and multilateral.\",\n",
       " 'Using ships to transport goods is by far the most efficient way to move large amounts of people and goods across oceans.',\n",
       " \"The job of navies has traditionally been to ensure that your country maintains the ability to move your people and goods, while at the same time, interfering with your enemy's ability to move his people and goods.\",\n",
       " 'One of the most noteworthy recent examples of this was the North Atlantic campaign of WWII. The Americans were trying to move men and materials across the Atlantic Ocean to help Britain.',\n",
       " 'At the same time, the German navy, using mainly U-boats, was trying to stop this traffic.',\n",
       " 'Had the Allies failed, Germany probably would have been able to conquer Britain as it had the rest of Europe.',\n",
       " 'Goats seem to have been first domesticated roughly 10,000 years ago in the Zagros Mountains of Iran.',\n",
       " 'Ancient cultures and tribes began to keep them for easy access to milk, hair, meat, and skins.',\n",
       " 'Domestic goats were generally kept in herds that wandered on hills or other grazing areas, often tended by goatherds who were frequently children or adolescents, similar to the more widely known shepherd. These methods of herding are still used today.',\n",
       " 'Wagonways were built in England as early as the 16th Century.',\n",
       " 'Although wagonways merely consisted of parallel planks of wood, they allowed horses pulling them to achieve greater speeds and pull larger loads than on the slightly more rough roads of the day.',\n",
       " 'Crossties were introduced fairly early to hold the tracks in place. Gradually, however, it was realised that tracks would be more efficient if they had a stip of iron on the top.',\n",
       " 'This became common practice, but the iron caused more wear on the wooden wheels of the wagons.',\n",
       " 'Eventually, wooden wheels were replaced by iron wheels. In 1767, the first full-iron rails were introduced.',\n",
       " 'The first known transportation was walking, humans began walking upright two million years ago with the emergence of Homo Erectus (meaning upright man).',\n",
       " 'Their predecessors, the Australopithecus did not walk upright as habitually.',\n",
       " 'Bipedal specializations are found in Australopithecus fossils from 4.2-3.9 million years ago, although Sahelanthropus may have walked on two legs as early as seven million years ago.',\n",
       " 'We can start living more friendly to the environment, we can join to the environmental movement, and we can even be activists in order to reduce the future suffering in some degree.',\n",
       " 'This is just like symptomatic treatment in many cases. However, if we do not only want a temporary solution, then we should find the root of the problems, and we should deactivate them.',\n",
       " \"It is obvious enough that the world has changed much because of humankind's scientific and technological advancements, and problems have become greater because of overpopulation and mankind's extravagant lifestyle.\",\n",
       " 'After its adoption by Congress on July 4, a handwritten draft signed by the President of Congress John Hancock and the Secretary Charles Thomson was then sent a few blocks away to the printing shop of John Dunlap.',\n",
       " 'Through the night between 150 and 200 copies were made, now known as \"Dunlap broadsides\".',\n",
       " 'The first public reading of the document was by John Nixon in the yard of Independence Hall on July 8.',\n",
       " 'One was sent to George Washington on July 6, who had it read to his troops in New York on July 9. A copy reached London on August 10.',\n",
       " 'The 25 Dunlap broadsides still known to exist are the oldest surviving copies of the document. The original handwritten copy has not survived.',\n",
       " 'Many paleontologists today believe that one group of dinosaurs survived and is alive today. We call them birds.',\n",
       " \"Many people don't think about them as dinosaurs because they have feathers and can fly.\",\n",
       " 'But there are a lot of things about birds that still look like a dinosaur.',\n",
       " 'They have feet with scales and claws, they lay eggs, and they walk on their two back legs like a T-Rex.',\n",
       " 'Virtually all computers in use today are based on the manipulation of information which is coded in the form of binary numbers.',\n",
       " 'A binary number can have only one of two values, i.e. 0 or 1, and these numbers are referred to as binary digits - or bits, to use computer jargon.',\n",
       " 'Internal poisoning may not be immediately apparent. Symptoms, such as vomiting are sufficiently general that an immediate diagnosis cannot be made.',\n",
       " 'The best indication of internal poisoning may be the presence of an open container of medication or toxic household chemicals.',\n",
       " 'Check the label for specific first aid instructions for that specific poison.',\n",
       " 'The term bug is used by entomologists in a formal sense for this group of insects.',\n",
       " 'This term derives from ancient familiarity with Bed-bugs, which are insects highly adapted to parasitize humans.',\n",
       " 'Both Assassin-bugs and Bed-bugs are nidicolous, adapted to living in nest or housing of their host.',\n",
       " 'Across the United States of America, there are approximately 400,000 known cases of Multiple Sclerosis (MS), leaving it as the leading neurological disease in younger and middle aged adults.',\n",
       " 'MS is a disease that affects the central nervous system, which is made up of the brain, the spinal cord and the optic nerve.',\n",
       " 'Research has found that females are two times more likely to have MS then males.',\n",
       " 'A couple may decide it is not in their best interest, or in the interest of their child, to raise a baby.',\n",
       " 'These couples may choose to make an adoption plan for their baby.',\n",
       " 'In an adoption, the birth parents terminate their parental rights so that another couple may parent the child.',\n",
       " 'Science’s main goal is to figure out the way the world works through the scientific method. This method in fact guides most scientific research.',\n",
       " 'It isn’t alone though, experimentation, and an experiment is a test that is used to eliminate one or more of the possible hypotheses, asking questions, and making observations also guide scientific research.',\n",
       " 'Naturalists and philosophers focused on classical texts and, in particular, on the Bible in Latin.',\n",
       " \"Accepted were Aristotle's views on all matters of science, including psychology.\",\n",
       " 'As knowledge of Greek declined, the West found itself cut off from its Greek philosophical and scientific roots.',\n",
       " 'Many observed rhythms in physiology and behavior often crucially depend on the presence of endogenous cycles and their production through biological clocks.',\n",
       " 'Periodic rhythms, which are not simply responses to external periodic cues, have been documented for most living beings, including bacteria, fungi, plants, and animals.',\n",
       " 'Biological clocks are self sustaining oscillators which will continue a period of free-running cycling even in the absence of external cues.',\n",
       " 'The Hershey and Chase experiment was one of the leading suggestions that DNA was a genetic material.',\n",
       " 'Hershey and Chase used phages, or viruses, to implant their own DNA into a bacterium.',\n",
       " 'They did two experiments marking either the DNA in the phage with a radioactive phosphorus or the protein of the phage with radioactive sulfur.',\n",
       " 'Mutations can have a variety of different effects depending on the type of mutation, the significance of the piece of genetic material affected and whether the cells affected are germ-line cells.',\n",
       " 'Only mutations in germ-line cells can be passed on to children, while mutations elsewhere can cause cell-death or cancer.',\n",
       " 'Nature-based tourism attracts people interested in visiting natural areas for the purpose of enjoying the scenery, including plant and animal wildlife.',\n",
       " 'Examples of on-site activities include hunting, fishing, photography, bird watching, and visiting parks and studying information about the ecosystem.',\n",
       " 'An example is visiting, photographing, and learning about organgatuangs in Borneo.',\n",
       " 'Every morning, people leave small country towns in cars to go their workplace and are passed by others whose work destination is the place they have just left.',\n",
       " 'In this dynamic transport shuttle everyone is somehow connected with, and supporting, a transport system based on private cars.',\n",
       " 'Science now indicates that this massive carbon economy has dislodged the biosphere from one of its stable states that has supported human evolution for the past two million years.',\n",
       " 'Everyone participates in society and uses transportation systems. Almost everyone complains about transportation systems.',\n",
       " 'In developed countries you seldom hear similar levels of complaints about water quality or bridges falling down.',\n",
       " 'Why do transportation systems engender such complaints, why do they fail on a daily basis? Are transportation engineers just incompetent? Or is something more fundamental going on?',\n",
       " 'Traffic Flow is the study of the movement of individual drivers and vehicles between two points and the interactions they make with one another.',\n",
       " 'Unfortunately, studying traffic flow is difficult because driver behavior cannot be predicted with one-hundred percent certainty.',\n",
       " 'Fortunately, drivers tend to behave within a reasonably consistent range; thus, traffic streams tend to have some reasonable consistency and can be roughly represented mathematically.',\n",
       " 'To better represent traffic flow, relationships have been established between the three main characteristics: (1) flow, (2) density, and (3) velocity.',\n",
       " 'These relationships help in planning, design, and operations of roadway facilities.',\n",
       " 'Insects were the first animals to take to the air. Their ability to fly helped them evade enemies more easily and find food and mates more efficiently.',\n",
       " 'Most insects have the advantage of being able to fold their wings back along the body.',\n",
       " 'This gives them a wider range of small places to hide from predators.',\n",
       " 'Today, the only insects that cannot fold back their wings are dragon flies and mayflies.',\n",
       " 'Thousands of years ago, a man called Aristarchus said that the Solar System moved around the Sun.',\n",
       " 'Some people thought he was right but many people believed the opposite; that the Solar System moved around the Earth, including the Sun (and even the other stars).',\n",
       " \"This seems sensible, because the Earth doesn't feel as if it's moving, does it?\",\n",
       " 'The Amazon River is the second longest and the biggest river on Earth. It carries more than 8 times as much water as the second biggest river.',\n",
       " 'The Amazon is also the widest river on Earth, at times six miles wide.',\n",
       " \"A full 20 percent of the water that pours out of the planet's rivers into the oceans comes from the Amazon.\",\n",
       " 'The main Amazon River is 6,387 km (3,980 miles). It collects water from thousands of smaller rivers.',\n",
       " 'Although pyramid-building in stone continued until the end of the Old Kingdom, the pyramids of Giza were never surpassed in their size and the technical excellence of their construction.',\n",
       " 'New Kingdom ancient Egyptians marvelled at their predecessors monuments, which were then well over a thousand year old.',\n",
       " \"Vatican City's population is around 800. It is the smallest independent country in the world and the country with the lowest population.\",\n",
       " 'Vatican City uses Italian in its legislation and official communications.',\n",
       " 'Italian is also the everyday language used by most of those who work in the state while Latin is often used in religious ceremonies.',\n",
       " 'All citizens of Vatican City are Roman Catholic.',\n",
       " 'People have known about basic chemical elements such as gold, silver, and copper from antiquity, as these can all be discovered in nature in native form and are relatively simple to mine with primitive tools.',\n",
       " 'Aristotle, a philosopher, theorised that everything is made up of a mixture of one or more of four elements. They were earth, water, air, and fire.',\n",
       " 'This was more like the four states of matter (in the same order): solid, liquid, gas, and plasma, though he also theorised that they change into new substances to form what we see.',\n",
       " \"Alloys are basically a mixture of two or more metals. Don't forget that there are many elements on the periodic table.\",\n",
       " 'Elements like calcium and potassium are considered metals. Of course, there are also metals like silver and gold.',\n",
       " 'You can also have alloys that include small amounts of non-metallic elements like carbon.',\n",
       " 'Everything in the Universe is made of matter. All matter is made of tiny particles called atoms.',\n",
       " 'Atoms are so incredibly tiny that trillions of them could fit into the period at the end of this sentence.',\n",
       " 'Thus, the pencil was a good friend to many people when it came out.',\n",
       " 'Sadly, as newer methods of writing have emerged, the pencil has been relegated to lesser status and uses.',\n",
       " 'People now write messages on computer screens, never having to come close to a sharpener.',\n",
       " 'One can only wonder what the keyboard will become when something newer comes along.',\n",
       " 'The fission bomb works on the principle that it takes energy to put together a nucleus with many protons and neutrons.',\n",
       " 'Sort of like rolling a heavy cart up a hill. Splitting the nucleus up again then releases some of that energy.',\n",
       " 'Some atoms have unstable nuclei which means that they tend to break apart with little or no nudging.',\n",
       " 'The surface of the Moon is made of rocks and dust. The outer layer of the Moon is called the crust.',\n",
       " 'The crust is about 70 km thick on the near side and 100 km thick on the far side.',\n",
       " 'It is thinner under the maria and thicker under the highlands.',\n",
       " 'There may be more maria on the near side because the crust is thinner. It was easier for lava to rise up to the surface.',\n",
       " 'Content theories are centered on finding what makes people tick or appeals to them.',\n",
       " 'These theories suggest that people have certain needs and/or desires which have been internalized as they mature to adulthood.',\n",
       " 'These theories look at what it is about certain people that make them want the things that they do and what things in their environment will make them do or not do certain things.',\n",
       " \"Two popular content theories are Maslow's Hierarchy of Needs Theory and Hertzberg's Two Factor Theory.\",\n",
       " 'Generally speaking, two behaviors can emerge as managers begin to lead their former peers. One end of the spectrum is trying to remain “one of the guys” (or gals).',\n",
       " 'This type of manager has difficulty making unpopular decisions, performing disciplinary action, performance evaluations, assigning responsibility, and holding people accountable.',\n",
       " 'At the other end of the spectrum, one morphs into an unrecognizable individual that feels he or she must change everything the team has been doing and make it their own.',\n",
       " 'After all, the leader is ultimately responsible for the success and failure of the team.',\n",
       " 'This behavior oftentimes results in rifts between the leaders and the rest of the team.',\n",
       " 'Virtual teams are held to the same standards of excellence as conventional teams, but there are subtle differences.',\n",
       " 'Virtual team members often function as the point of contact for their immediate physical group.',\n",
       " 'They often have more autonomy than conventional team members as their teams may meet according to varying time zones which may not be understood by their local management.',\n",
       " 'The presence of a true “invisible team” (Larson and LaFasto, 1989, p109) is also a unique component of a virtual team.',\n",
       " 'The “invisible team” is the management team to which each of the members report. The invisible team sets the standards for each member.',\n",
       " 'Why would an organization want to go through the time consuming process of establishing a learning organization? One goal for putting organizational learning concepts into practice is innovation.',\n",
       " 'When all available resources are effectively used across the functional departments of an organization, creativity and ingenuity can transpire.',\n",
       " \"As a result, the process of an organization working together to overcome an obstacle can lead to a new innovative process to serve the customer's need.\",\n",
       " 'Before an organization can be innovative, leadership must create a culture of innovation as well as shared knowledge and organizational learning.',\n",
       " 'Angel (2006), explains the Continuum approach as a method being used to help organizations reach a higher level of performance.',\n",
       " 'Neurobiological data provide physical evidence for a theoretical approach to the investigation of cognition. Therefore it narrows the research area and makes it much more exact.',\n",
       " 'The correlation between brain pathology and behaviour supports scientists in their research.',\n",
       " 'It has been known for a long time that different types of brain damage, traumas, lesions, and tumours affect behaviour and cause changes in some mental functions.',\n",
       " 'The rise of new technologies allows us to see and investigate brain structures and processes never seen before.',\n",
       " 'This provides us with a lot of information and material to build simulation models which help us to understand processes in our mind.',\n",
       " 'Although AI has a strong connotation of science fiction, AI forms a very important branch of computer science, dealing with behavior, learning and intelligent adaptation in a machine.',\n",
       " 'Research in AI involves making machines to automate tasks that require intelligent behavior.',\n",
       " 'Examples include control, planning and scheduling, the ability to answer customer diagnoses and questions, as well as handwriting recognition, voice and face.',\n",
       " 'Such things have become separate disciplines, which focus on providing solutions to real life problems.',\n",
       " 'The AI \\u200b\\u200bsystem is now often used in the fields of economics, medicine, engineering and the military, as has been built in several home computer and video game software applications.',\n",
       " 'Field trips are a large part of any classroom. Quite often a teacher would love to take her students places to which a bus trip is not an option.',\n",
       " 'Technology offers the solution with virtual field trips. Students can look at museum artifacts, visit an aquarium, or admire beautiful art while sitting with their class.',\n",
       " 'Sharing a field trip virtually is also a great way to reflect a on a trip and share experiences with future classes.',\n",
       " 'For example, each year students from Bennet School in North Carolina design a website about their trip to the State Capital, each year the website gets remodeled, but old versions are kept online to serve as a scrapbook.',\n",
       " 'Blogs can also help improve student writing. While students often begin their blog experience with sloppy grammar and spelling, the presence of an audience generally changes that.',\n",
       " 'Since students are often the most critical audience, the blog writer begins to strive to improve writing to avoid criticism.',\n",
       " 'Also blogging \"forces students to become more savvy about the world around them.\" The need to feed the interest of the audience inspires students to be clever and interesting (Toto, 2004).',\n",
       " 'Blogging is a tool that inspires collaboration, and encourages students to extend learning well beyond the traditional school day.',\n",
       " 'Appropriate use of blogs \"can empower students to become more analytical and critical; through actively responding to Internet materials, students can define their positions in the context of others\\' writings as well as outline their own perspectives on particular issues (Oravec, 2002).',\n",
       " \"Ottawa is Canada's charming, bilingual capital and features an array of art galleries and museums that showcase Canada's past and present.\",\n",
       " 'Farther south is Niagara Falls and the north is home to the untapped natural beauty of the Muskoka and beyond.',\n",
       " 'All these things and more highlight Ontario as what is considered quintessentially Canadian by outsiders.',\n",
       " 'Large areas further north are quite sparsely populated and some is nearly uninhabited wilderness.',\n",
       " 'For a comparison of population that surprises many: There are more African Americans living in the US than there are Canadian citizens.',\n",
       " 'The East African Islands are in the Indian Ocean off the eastern coast of Africa.',\n",
       " 'Madagascar is by far the biggest, and a continent on its own when it comes to wildlife.',\n",
       " 'Most of the smaller islands are independent nations, or associated with France, and known as luxury beach resorts.',\n",
       " 'The Arabs also brought Islam to the lands, and it took in a big way in the Comoros and Mayotte.',\n",
       " 'European influence and colonialism began in the 15th century, as Portuguese explorer Vasco da Gama found the Cape Route from Europe to India.',\n",
       " 'In the north the region is bounded by the Sahel, and in the south and west by the Atlantic Ocean.',\n",
       " 'Women: It is recommended that any women travellers say that they are married, regardless of actual marital status.',\n",
       " 'It is helpful to also wear a ring (just not one that looks too expensive.',\n",
       " 'Women should realize that cultural differences may result in what they would consider harassment and it is not uncommon to be followed, grabbed by the arm, etc.',\n",
       " \"Be firm in turning down men, and don't be afraid to stand your ground (cultural differences or not, it doesn't make it ok!).\",\n",
       " 'The modern city of Casablanca was founded by Berber fishermen in the 10th century BCE, and was used by the Phoenicians, Romans, and the Merenids as a strategic port called Anfa.',\n",
       " 'The Portuguese destroyed it and rebuilt it under the name Casa Branca, only to abandon it after an earthquake in 1755.',\n",
       " 'The Moroccan sultan rebuilt the city as Daru l-Badya and it was given the name Casablanca by Spanish traders who established trading bases there.',\n",
       " 'Casablanca is one of the least interesting places to shop in all of Morocco.',\n",
       " \"Around the old Medina it's easy to find places selling traditional Moroccan goods, such as tagines, pottery, leather goods, hookahs, and a whole spectrum of geegaws, but it's all for the tourists.\",\n",
       " 'Goma is a tourist city of the Democratic Republic of Congo in the extreme east near Rwanda.',\n",
       " 'In 2002 Goma was destroyed by lava from the Nyiragongo volcano which buried most of the town’s streets, particularly the town centre.',\n",
       " 'While Goma is reasonably safe, any visits outside of Goma should be researched to understand the state of the fighting that persists in the North Kivu province.',\n",
       " 'The city is also the base to climb the Nyiragongo volcano along with some of the cheapest Mountain Gorilla tracking in Africa.',\n",
       " 'You can use boda-boda (motorcycle taxi) to get around Goma. The normal (local) price is ~500 Congolese Francs for the short ride.',\n",
       " 'Combined with its relative inaccessibility, \"Timbuktu\" has come to be used as a metaphor for exotic, distant lands.',\n",
       " 'Today, Timbuktu is an impoverished town, although its reputation makes it a tourist attraction, and it has an airport.',\n",
       " 'In 1990, it was added to the list of world heritage sites in danger, due to the threat of desert sands.',\n",
       " \"It was one of the major stops during Henry Louis Gates' PBS special Wonders of the African World.\",\n",
       " \"The city is in stark contrast to the rest of the country's cities, because it has more of an Arabic flair than of an African.\",\n",
       " 'The Kruger National Park (KNP) lies in the north-east of South Africa and runs along the border of Mozambique in the east, Zimbabwe in the north, and the southern border is the Crocodile River.',\n",
       " 'The park covers 19,500 km² and is divided in 14 different ecozones, each supporting different wildlife.',\n",
       " 'It is one of the main attractions of South Africa and it is considered the flagship of South African National Parks (SANParks).',\n",
       " 'As with all South African National Parks, there are daily conservation and entry fees for the park.',\n",
       " 'It may also be beneficial for one to buy a Wild Card, which provides entry to either selections of parks in South Africa or all of the South African National Parks.',\n",
       " 'Hong Kong Island gives the territory of Hong Kong its name and is the place that many tourists regard as the main focus.',\n",
       " 'The parade of buildings that make the Hong Kong skyline has been likened to a glittering bar chart that is made apparent by the presence of the waters of Victoria Harbour.',\n",
       " 'To get the best views of Hong Kong, leave the island and head for the Kowloon waterfront opposite.',\n",
       " \"The great majority of Hong Kong Island's urban development is densely packed on reclaimed land along the northern shore.\",\n",
       " \"This is the place the British colonisers took as their own and so if you are looking for evidence of the territory's colonial past, this is a good place to start.\",\n",
       " 'The Sundarbans are the largest littoral mangrove belt in the world, stretching 80 km (50 mi) into the Bangladeshi and Indian hinterland from the coast.',\n",
       " 'The Sundarbans has been declared a UNESCO World Heritage Site. The part of the forest within Indian territory is called Sundarbans National Park.',\n",
       " \"The forests aren't just mangrove swamps though — they include some of the last remaining stands of the mighty jungles which once covered the Gangetic plain.\",\n",
       " 'The Sundarbans cover an area of 3,850 km², of which about one-third is covered in water/marsh areas.',\n",
       " 'Since 1966 the Sundarbans have been a wildlife sanctuary, and it is estimated that there are now 400 Royal Bengal tigers and about 30,000 spotted deer in the area.',\n",
       " 'Buses depart the inter-district bus station (across the river) throughout the day, though most, especially those heading to the east and Jakar/Bumthang leave between 06:30 and 07:30.',\n",
       " 'As the inter-district buses are often full, it is advisable to purchase a ticket a few days in advance.',\n",
       " 'Most districts are served by small Japanese Coaster Buses, which are comfortable and sturdy.',\n",
       " 'Shared taxis are a quick and comfortable means to travel to nearby places, such as Paro (Nu 150) and Punakha (Nu 200).',\n",
       " \"The Oyapock River Bridge is a cable-stayed bridge. It spans the Oyapock River to link the cities of Oiapoque in Brazil and Saint-Georges de l'Oyapock in French Guiana.\",\n",
       " \"The two towers rise to a height of 83 meters, it's 378 meters long and it has two lanes of 3.50 m wide.\",\n",
       " \"The vertical clearance under the bridge is 15 meters. Construction was completed in August 2011, it didn't open to traffic until March 2017.\",\n",
       " 'The bridge is scheduled to be fully operational in September 2017, when the Brazilian customs checkpoints are expected to be finished.',\n",
       " 'The Guaraní were the most significant indigenous group inhabiting what is now Eastern Paraguay, living as semi-nomadic hunters who also practised subsistence agriculture.',\n",
       " 'The Chaco region was home to other groups of indigenous tribes such as the Guaycurú and Payaguá, who survived by hunting, gathering and fishing.',\n",
       " 'In the 16th century Paraguay, formerly called \"The Giant Province of the Indies\", was born as a result of the encounter of Spanish conquerors with the native indigenous groups.',\n",
       " 'The Spaniards started the colonization period which lasted for three centuries.',\n",
       " 'Since the foundation of Asunción in 1537, Paraguay has managed to keep a lot of its indigenous character and identity.',\n",
       " 'Argentina is well known for having one of the best polo teams and players in the world.',\n",
       " 'The largest tournament of the year takes place in December at the polo fields in Las Cañitas.',\n",
       " 'Smaller tournaments and matches can also be seen here at other times of the year.',\n",
       " 'For news on tournaments and where to buy tickets for polo matches, check Asociacion Argentina de Polo.',\n",
       " 'The official Falklands currency is the Falkland pound (FKP) whose value is set equivalent to that of one British pound (GBP).',\n",
       " 'Money can be exchanged at the only bank in the islands which is located in Stanley across from the FIC West store.',\n",
       " 'British pounds will generally be accepted anywhere in the islands and within Stanley credit cards and United States dollars are also often accepted.',\n",
       " 'On the outlying islands credit cards will probably not be accepted, although British and United States currency may be taken; check with the owners in advance to determine what is an acceptable payment method.',\n",
       " 'It is nearly impossible to exchange Falklands currency outside of the islands, so exchange money prior to leaving the islands.',\n",
       " \"Since Montevideo is south of the Equator, it is summer there when it's winter in the Northern Hemisphere and vice versa.\",\n",
       " 'Montevideo is in the subtropics; in the summer months, temperatures above +30°C are common.',\n",
       " 'The winter can be deceptively chilly: temperatures rarely go below freezing, but the wind and humidity combine to make it feel colder than what the thermometer says.',\n",
       " 'There are no particular \"rainy\" and \"dry\" seasons: the amount of rain stays roughly the same throughout the year.',\n",
       " 'Though many of the animals in the park are used to seeing humans, the wildlife is nonetheless wild and should not be fed or disturbed.',\n",
       " 'According to park authorities, stay at least 100 yards/meters away from bears and wolves and 25 yards/meters from all other wild animals!',\n",
       " 'No matter how docile they may look, bison, elk, moose, bears, and nearly all large animals can attack.',\n",
       " \"Each year, dozens of visitors are injured because they didn't keep a proper distance. These animals are large, wild, and potentially dangerous, so give them their space.\",\n",
       " 'In addition, be aware that odors attract bears and other wildlife, so avoid carrying or cooking odorous foods and keep a clean camp.',\n",
       " 'Apia is the capital of Samoa. The town is on the island of Upolu and has a population of just under 40,000.',\n",
       " 'Apia was founded in the 1850s and has been the official capital of Samoa since 1959.',\n",
       " 'The harbor was the site of an infamous naval standoff in 1889 when seven ships from Germany, the US, and Britain refused to leave the harbor.',\n",
       " 'All the ships were sunk, except for one British cruiser. Nearly 200 American and German lives were lost.',\n",
       " 'During the struggle for independence organised by the Mau movement, a peaceful gathering in the town resulted in the killing of the paramount chief Tupua Tamasese Lealofi III.',\n",
       " \"There are many beaches, due to Auckland's straddling of two harbours. The most popular ones are in three areas.\",\n",
       " 'North Shore beaches (in North Harbour district) are on the Pacific Ocean and stretch from Long Bay in the north to Devonport in the south.',\n",
       " 'They are almost all sandy beaches with safe swimming, and most have shade provided by pohutukawa trees.',\n",
       " 'Tamaki Drive beaches are on the Waitemata Harbour, in the upmarket suburbs of Mission Bay and St Heliers in Central Auckland.',\n",
       " 'These are sometimes-crowded family beaches with a good range of shops lining the shore. Swimming is safe.',\n",
       " 'The main local beer is \\'Number One\\', it is not a complex beer, but pleasant and refreshing. The other local beer is called \"Manta\".',\n",
       " 'There are many French wines to be had, but the New Zealand and Australian wines might travel better.',\n",
       " 'The local tap water is perfectly safe to drink, but bottled water is easy to find if you are fearful.',\n",
       " \"For Australians, the idea of 'flat white' coffee is foreign. A short black is 'espresso', cappuccino comes heaped high with cream (not froth), and tea is served without milk.\",\n",
       " 'The hot chocolate is up to Belgian standards. Fruit juices are pricey but excellent.',\n",
       " 'Many trips to the reef are made all year around, and injuries due to any of these causes on the reef are rare.',\n",
       " 'Still, take advice from authorities, obey all signs, and pay close attention to safety warnings.',\n",
       " 'Box jellyfish occur near beaches and near river estuaries from October to April north of 1770. They can occasionally be found outside these times.',\n",
       " 'Sharks do exist, however they rarely attack humans. Most sharks are scared of humans and would swim away.',\n",
       " 'Saltwater Crocodiles do not actively live in the ocean, their primary habitat is in river estuaries north from Rockhampton.',\n",
       " 'Booking in advance gives the traveller peace of mind that they will have somewhere to sleep once they arrive at their destination.',\n",
       " 'Travel agents often have deals with specific hotels, although you may find it possible to book other forms of accommodation, like camping grounds, through a travel agent.',\n",
       " 'Travel agents usually offer packages that include breakfast, transportation arrangements to/from the airport or even combined flight and hotel packages.',\n",
       " 'They can also hold the reservation for you if you need time to think about the offer or procure other documents for your destination (e.g. visa).',\n",
       " 'Any amendments or requests though should be coursed through the travel agent first and not directly with the hotel.',\n",
       " 'For some festivals, the vast majority of the attendants to music festivals decide to camp on site, and most attendants consider it a vital part of the experience.',\n",
       " \"If you want to be close to the action you're going to have to get in early to get a camping site close to the music.\",\n",
       " 'Remember that even though music on the main stages may have finished, there may be sections of the festival that will keep playing music until late into the night.',\n",
       " 'Some festivals have special camping areas for families with young children.',\n",
       " 'If crossing the Northern Baltic in winter, check the cabin location, as going through ice causes quite horrible noise for those most affected.',\n",
       " 'Saint Petersburg cruises include time in town. Cruise passengers are exempted from visa requirements (check the terms).',\n",
       " 'Casinos typically make many efforts to maximize time and money spent by guests. Windows and clocks are usually absent, and exits can be hard to find.',\n",
       " 'They usually have special food, drink and entertainment offers, to keep guests in a good mood, and keep them at the premise.',\n",
       " 'Some venues offer alcoholic beverages on the house. However, drunkenness impairs judgement, and all good gamblers know the importance of staying sober.',\n",
       " \"Anyone who's going to drive at high latitudes or over mountain passes should consider the possibility of snow, ice, or freezing temperatures.\",\n",
       " 'On icy and snowy roadways, friction is low and you cannot drive as if you were on bare asphalt.',\n",
       " 'During blizzards, enough snow to get you stuck can fall in very little time.',\n",
       " 'Visibility may also be restricted by falling or blowing snow or by condensation or ice on vehicle windows.',\n",
       " 'On the other hand, icy and snowy conditions are normal in many countries, and traffic goes on mostly uninterrupted all year round.',\n",
       " 'Safaris are perhaps the greatest tourism draw in Africa and the highlight for many visitors.',\n",
       " 'The term safari in popular use refers to overland travel to view the stunning African wildlife, particularly on savanna.',\n",
       " 'Some animals, such as elephants and giraffes, tend to approach closely to cars and standard equipment will allow good viewing.',\n",
       " 'Lions, cheetahs and leopards are sometimes shy and you will see them better with binoculars.',\n",
       " 'A walking safari (also called a \"bush walk\", \"hiking safari\", or going \"footing\") consists of hiking, either for a few hours or several days.',\n",
       " 'The Paralympics will take place from 24 August to 5 September 2021. Some events will be held in other locations throughout Japan.',\n",
       " 'Tokyo will be the only Asian city to have hosted two summer Olympics, having hosted the games in 1964.',\n",
       " 'If you booked your flights and accommodation for 2020 before the postponement was announced, you may have a tricky situation.',\n",
       " \"Cancellation policies vary, but as of late March most coronavirus-based cancellation policies don't extend to July 2020, when the Olympics had been scheduled.\",\n",
       " \"It's expected that most event tickets will cost between ¥2,500 and ¥130,000, with typical tickets costing around ¥7,000.\",\n",
       " 'Ironing damp clothes can help them dry. Many hotels have an iron and ironing board available for loan, even if one is not present in the room.',\n",
       " \"If an iron isn't available, or if you don't fancy wearing ironed socks, then you can try using a hairdryer, if available.\",\n",
       " 'Be careful not to allow fabric to become too hot (which can cause shrinkage, or in extreme cases, scorch).',\n",
       " 'There are different ways of purifying water, some more effective against specific threats.',\n",
       " 'In some areas boiling water for a minute is enough, in others several minutes are needed.',\n",
       " 'Filters vary in effectiveness, and should you have a concern, then you should consider buying your water in a sealed bottle from a reputable company.',\n",
       " 'Travellers may encounter animal pests that they are not familiar with in their home regions.',\n",
       " 'Pests can spoil food, cause irritation, or in a worse case cause allergic reactions, spread venom, or transmit infections.',\n",
       " 'Infectious diseases themselves, or dangerous animals that can injure or kill people by force, do not usually qualify as pests.',\n",
       " 'Duty free shopping is the opportunity to buy goods exempted from taxes and excises at certain locations.',\n",
       " 'Travellers bound for countries with heavy taxation can sometimes save a considerable amount of money, especially on products such as alcoholic beverages and tobacco.',\n",
       " 'The stretch between Point Marion and Fairmont presents the most challenging driving conditions on the Buffalo-Pittsburgh Highway, passing frequently through isolated backwoods terrain.',\n",
       " \"If you're not used to driving on country roads, keep your wits about you: steep grades, narrow lanes, and sharp curves predominate.\",\n",
       " 'Posted speed limits are noticeably lower than in previous and subsequent sections — commonly 35-40 mph (56-64 km/h) — and strict obedience to them is even more important than otherwise.',\n",
       " 'Curiously, though, mobile phone service is much stronger here than along many other stretches of the route, e.g. the Pennsylvania Wilds.',\n",
       " 'German pastries are quite good, and in Bavaria, are quite rich and varied, similar to those of their southern neighbor, Austria.',\n",
       " 'Fruit pastries are common, with apples cooked into pastries year round, and cherries and plums making their appearances during the summer.',\n",
       " 'Many German baked goods also feature almonds, hazelnuts, and other tree nuts. Popular cakes often pair particularly well with a cup of strong coffee.',\n",
       " 'If you want some small though rich pastries, try what depending on region are called Berliner, Pfannkuchen or Krapfen.',\n",
       " 'A curry is a dish based on herbs and spices, together with either meat or vegetables.',\n",
       " 'A curry can be either \"dry\" or \"wet\" depending on the amount of liquid.',\n",
       " 'In inland regions of Northern India and Pakistan, yogurt is commonly used in curries; in Southern India and some other coastal regions of the subcontinent, coconut milk is commonly used.',\n",
       " 'With 17,000 islands to choose from, Indonesian food is an umbrella term covering a vast variety of regional cuisines found across the nation.',\n",
       " 'But, if used without further qualifiers, the term tends to mean the food originally from the central and eastern parts of the main island Java.',\n",
       " 'Now widely available throughout the archipelago, Javanese cuisine features an array of simply seasoned dishes, the predominant flavorings the Javanese favor being peanuts, chillies, sugar (especially Javanese coconut sugar) and various aromatic spices.',\n",
       " \"Stirrups are supports for the rider's feet that hang down on either side of the saddle.\",\n",
       " \"They provide greater stability for the rider but can have safety concerns due to the potential for a rider's feet to get stuck in them.\",\n",
       " 'If a rider is thrown from a horse but has a foot caught in the stirrup, they could be dragged if the horse runs away. To minimize this risk, a number of safety precautions can be taken.',\n",
       " 'First, most riders wear riding boots with a heel and a smooth, quite narrow, sole.',\n",
       " 'Next, some saddles, particularly English saddles, have safety bars that allow a stirrup leather to fall off the saddle if pulled backwards by a falling rider.',\n",
       " \"Cochamó Valley - Chile's premier climbing destination, known as the Yosemite of South America, with a variety of granite big walls and crags.\",\n",
       " 'Summits include breath-taking views from peaks. Climbers from all parts of the world are continually establishing new routes amongst its endless potential of walls.',\n",
       " 'Downhill snowsports, which include skiing and snowboarding, are popular sports involving sliding down snow-covered terrain with skis or a snowboard attached to your feet.',\n",
       " 'Skiing is a major travelling activity with many enthusiasts, occasionally known as \"ski bums,\" planning entire vacations around skiing at a particular location.',\n",
       " 'The idea of skiing is very old — cave paintings depicting skiers date back as far as 5000 BC!',\n",
       " 'Downhill skiing as a sport goes back to at least the 17th century, and in 1861 the first recreational ski club was opened by Norwegians in Australia.',\n",
       " 'Backpacking by ski: This activity is also called backcountry ski, ski touring or ski hiking.',\n",
       " 'It is related to but usually not involving alpine style ski touring or mountaineering, the latter ones done in steep terrain and requiring much stiffer skis and boots.',\n",
       " 'Think of the skiing route as of a similar hiking route.',\n",
       " 'In good conditions you will be able to cover somewhat greater distances than walking – but only very seldom you will get the speeds of cross country skiing without a heavy backpack in groomed tracks.',\n",
       " 'Europe is a continent that is relatively small but with many independent countries. Under normal circumstances, travelling through multiple countries would mean having to go through visa applications and passport control multiple times.',\n",
       " 'The Schengen zone, however, works somewhat like one country in this respect.',\n",
       " 'As long as you stay in this zone, you can generally cross borders without going through passport control checkpoints again.',\n",
       " 'Similarly, by having a Schengen visa, you do not need to apply for visas to each of the Schengen member countries separately, hence saving time, money and paperwork.',\n",
       " 'There is no universal definition for which manufactured items are antiques. Some tax agencies define goods older than 100 years as antiques.',\n",
       " 'The definition has geographic variations, where the age limit might be shorter in places such as North America than in Europe.',\n",
       " 'Handicraft products might be defined as antiques, though they are younger than similar mass-produced goods.',\n",
       " 'Reindeer husbandry is an important livelihood among the Sámi and the culture surrounding the trade is important also for many with other professions.',\n",
       " 'Even traditionally, though, not all Sámi have been involved in big scale reindeer husbandry, but lived from fishing, hunting and similar, having reindeer mostly as draft animals.',\n",
       " 'Today many Sámi work in modern trades. Tourism is an important income in Sápmi, the Sámi area.',\n",
       " 'Though it is widely used, especially among non-Romani, the word \"Gypsy\" is often considered offensive because of its associations with negative stereotypes and inaccurate perceptions of Romani people.',\n",
       " 'If the country you will be visiting becomes subject to a travel advisory, your travel health insurance or your trip cancellation insurance may be affected.',\n",
       " 'You may also wish to consult the advice of governments other than your own, but their advice is designed for their citizens.',\n",
       " 'As one example, American citizens in the Middle East might face different situations from Europeans or Arabs.',\n",
       " 'Advisories are merely a brief summary of the political situation in one country.',\n",
       " 'The views presented are often cursory, general and oversimplified compared to the more detailed information available elsewhere.',\n",
       " 'Severe weather is the generic term for any dangerous weather phenomenon with the potential to cause damage, serious social disruption, or loss of human life.',\n",
       " 'Severe weather can occur anywhere in the world, and there are different types of it, which can depend on geography, topography, and atmospheric conditions.',\n",
       " 'High winds, hail, excessive precipitation, and wildfires are forms and effects of severe weather, as are thunderstorms, tornadoes, waterspouts, and cyclones.',\n",
       " 'Regional and seasonal severe weather phenomena include blizzards, snowstorms, ice storms, and dust storms.',\n",
       " 'Travellers are strongly advised to be aware of any risk of severe weather affecting their area as they may affect any travel plans.',\n",
       " 'Anyone planning a visit to a country that could be considered a war zone should get professional training.',\n",
       " \"A search of the Internet for 'Hostile environment course' will probably provide the address of a local company.\",\n",
       " 'A course will normally cover all the issues discussed here in far greater detail, usually with practical experience.',\n",
       " 'A course will normally be from 2-5 days and will involve role play, a lot of first aid and sometimes weapons training.',\n",
       " 'Books and magazines dealing with wilderness survival are common, but publications dealing with war zones are few.',\n",
       " \"Voyagers planning sex reassignment surgery abroad must ensure they're carrying valid documents for the return trip.\",\n",
       " 'The willingness of governments to issue passports with gender not stated (X) or documents updated to match a desired name and gender varies.',\n",
       " 'Willingness of foreign governments to honour these documents is just as widely variable.',\n",
       " 'Searches at security checkpoints have also become far more intrusive in the post-September 11, 2001 era.',\n",
       " 'Pre-operative transgender people should not expect to pass through the scanners with their privacy and dignity intact.',\n",
       " 'Rip currents are the returning flow from waves breaking off the beach, often at a reef or similar.',\n",
       " 'Due to the underwater topology the return flow is concentrated at a few deeper sections, and a fast current to deep water may form there.',\n",
       " 'Most deaths happen as result of fatigue trying to swim back against the current, which may be impossible.',\n",
       " 'As soon as you get out of the current, swimming back is no more difficult than normally.',\n",
       " 'Try aiming somewhere where you are not caught again or, depending on your skills and on whether you have been noticed, you might want to wait for rescue.',\n",
       " \"Re-entry shock comes on sooner than culture shock (there's less of a honeymoon phase), lasts longer, and can be more severe.\",\n",
       " 'Travellers who had an easy time adjusting to the new culture sometimes have a particularly hard time readjusting to their native culture.',\n",
       " \"When returning home after living abroad, you've adapted to the new culture and lost some of your habits from your home culture.\",\n",
       " 'When you went abroad at first, people were probably patient and understanding, knowing that travellers in a new country need to adapt.',\n",
       " 'People may not anticipate that patience and understanding are also necessary for travellers returning home.',\n",
       " 'The pyramid sound and light show is one of the most interesting things in the area for kids.',\n",
       " 'You can see the pyramids in the dark and you can see them in silence before the show begins.',\n",
       " 'Usually you always here the sound of tourists and vendors. The story of the sound and light is just like a story book.',\n",
       " 'The Sphinx is set as the backdrop and the narrator of a long story.',\n",
       " 'The scenes are displayed on the pyramids and the different pyramids are lit up.',\n",
       " 'South Shetland Islands, discovered in 1819, are claimed by several nations and have the most bases, with sixteen active in 2020.',\n",
       " 'The archipelago lies 120 km north of the Peninsula. The largest is King George Island with the settlement of Villa Las Estrellas.',\n",
       " 'Others include Livingston Island, and Deception where the flooded caldera of a still-active volcano provides a spectacular natural harbour.',\n",
       " 'Ellsworth Land is the region south of the Peninsula, bounded by the Bellingshausen Sea.',\n",
       " 'The mountains of the Peninsula here merge into the plateau, then re-emerge to form the 360 km chain of the Ellsworth Mountains, bisected by the Minnesota Glacier.',\n",
       " \"The northern part or Sentinel Range has Antarctica's highest mountains, the Vinson Massif, peaking at 4892 m Mount Vinson.\",\n",
       " 'In remote locations, without cell phone coverage, a satellite phone may be your only option.',\n",
       " 'A satellite phone is not generally a replacement for a mobile phone, as you have to be outdoors with clear line of sight to the satellite to make a phone call.',\n",
       " 'The service is frequently used by shipping, including pleasure craft, as well as expeditions who have remote data and voice needs.',\n",
       " 'Your local telephone service provider should be able to give more information about connecting to this service.',\n",
       " 'An increasingly more popular option for those planning a gap-year is to travel and learn.',\n",
       " 'This is especially popular with school leavers, allowing them to take a year out before university, without compromising their education.',\n",
       " 'In many cases, enrolling on a gap-year course abroad can actually improve your chances of moving into higher education back in your home country.',\n",
       " 'Typically there will be a tuition fee to enroll in these educational programs.',\n",
       " 'Finland is a great boating destination. The \"Land of a thousand lakes\" has thousands of islands too, in the lakes and in the coastal archipelagos.',\n",
       " 'In the archipelagos and lakes you do not necessarily need a yacht.',\n",
       " 'Although the coastal archipelagos and the biggest lakes are indeed big enough for any yacht, smaller boats or even a kayak offer a different experience.',\n",
       " 'Boating is a national pastime in Finland, with a boat to every seven or eight people.',\n",
       " 'This is matched by Norway, Sweden and New Zealand, but otherwise quite unique (e.g. in the Netherlands the figure is one to forty).',\n",
       " 'Most of the distinct Baltic Cruises feature an extended stay in St. Petersburg, Russia.',\n",
       " 'This means you can visit the historic city for a couple of full days while returning and sleeping on the ship at night.',\n",
       " 'If you only go ashore using shipboard excursions you will not need a separate visa (as of 2009).',\n",
       " 'Some cruises feature Berlin, Germany in the brochures. As you can see from the map above Berlin is no where near the sea and a visit to the city is not included in the price of the cruise.',\n",
       " \"Travelling by plane can be a scary experience for people of all ages and backgrounds, particularly if they've not flown before or have experienced a traumatic event.\",\n",
       " 'It is not something to be ashamed of: it is no different from the personal fears and dislikes of other things that very many people have.',\n",
       " 'For some, understanding something about how aircraft work and what happens during a flight may help to overcome a fear which is based on the unknown or on not being in control.',\n",
       " 'Courier companies are well paid for delivering things quickly. Frequently, time is very important with business documents, merchandise or spare parts for an urgent repair.',\n",
       " 'On some routes, the larger companies have their own planes, but for other routes and smaller firms there was a problem.',\n",
       " 'If they sent things by air freight, on some routes it may have taken days to get through unloading and customs.',\n",
       " 'The only way to get it through faster was to send it as checked luggage. Airline regulations will not allow them to send luggage without a passenger, which is where you come in.',\n",
       " 'The obvious way of flying in first or business class is to fork out a thick wad of money for the privilege (or, better yet, get your company to do it for you).',\n",
       " 'However, this does not come cheap: as rough rules of thumb, you can expect to pay up to four times the normal economy fare for business, and eleven times for first class!',\n",
       " 'Generally speaking, there is no point in even looking for discounts for business or first-class seats on direct flights from A to B.',\n",
       " 'Airlines know well that there is a certain core group of flyers who are willing to pay top dollar for the privilege of getting somewhere fast and in comfort, and charge accordingly.',\n",
       " 'The capital of Moldova is Chişinău. The local language is Romanian, but Russian is widely used.',\n",
       " 'Moldova is a multi-ethnic republic that has suffered from ethnic conflict.',\n",
       " 'In 1994, this conflict led to the creation of the self-proclaimed Transnistria Republic in eastern Moldova, which has its own government and currency but is not recognised by any UN member country.',\n",
       " 'Economic links have been re-established between these two parts of Moldova despite the failure in political negotiations.',\n",
       " 'The major religion in Moldova is Orthodox Christian.',\n",
       " 'İzmir is the third largest city in Turkey with a population of around 3.7 million, the second biggest port after Istanbul, and a very good transport hub.',\n",
       " 'Once the ancient city of Smyrna, it is now a modern, developed, and busy commercial center, set around a huge bay and surrounded by mountains.',\n",
       " 'The broad boulevards, glass-fronted buildings and modern shopping centers are dotted with traditional red-tiled roofs, the 18th century market, and old mosques and churches, although the city has an atmosphere more of Mediterranean Europe than traditional Turkey.',\n",
       " 'The village of Haldarsvík offer views of the nearby island Eysturoy and has an unusual octagonal church.',\n",
       " 'In the churchyard, there are interesting marble sculptures of doves over some tombs.',\n",
       " \"It's worth half an hour to stroll about the intriguing village.\",\n",
       " 'To the north and within easy reach is the romantic and fascinating town of Sintra and which was made famous to foreigners after a glowing account of its splendours recorded by Lord Byron.',\n",
       " 'Scotturb Bus 403 travels regularly to Sintra, stopping at Cabo da Roca.',\n",
       " 'Also to the north visit the great Sanctuary of Our Lady of Fatima (Shrine), a place of worldwide famous Marian apparitions.',\n",
       " \"Please remember that you are essentially visiting a mass grave site, as well as a site that has an almost incalculable meaning to a significant portion of the world's population.\",\n",
       " 'There are still many men and women alive who survived their time here, and many more who had loved ones who were murdered or worked to death there, Jews and non-Jews alike.',\n",
       " 'Please treat the site with all of the dignity, solemnity and respect it deserves. Do not make jokes about the Holocaust or Nazis.',\n",
       " 'Do not deface the site by marking or scratching graffiti into structures.',\n",
       " \"Barcelona's official languages are Catalan and Spanish. About a half prefer to speak Catalan, a vast majority understands it, and virtually everyone knows Spanish.\",\n",
       " 'However, most signs are indicated only in Catalan because it is established by law as the first official language.',\n",
       " 'Yet, Spanish is also widely used in public transport and other facilities.',\n",
       " 'Regular announcements in the Metro are made only in Catalan, but unplanned disruptions are announced by an automated system in a wide variety of languages including Spanish, English, French, Arabic and Japanese.',\n",
       " 'Parisians have a reputation for being egocentric, rude and arrogant.',\n",
       " 'While this is often only an inaccurate stereotype, the best way to get along in Paris still is to be on your best behavior, acting like someone who is \"bien élevé\" (well brought up). It will make getting about considerably easier.',\n",
       " \"Parisians' abrupt exteriors will rapidly evaporate if you display some basic courtesies.\",\n",
       " 'The Plitvice Lakes national park is heavily forested, mainly with beech, spruce, and fir trees, and features a mixture of Alpine and Mediterranean vegetation.',\n",
       " 'It has a notably wide variety of plant communities, due to its range of microclimates, differing soils and varying levels of altitude.',\n",
       " 'The area is also home to an extremely wide variety of animal and bird species.',\n",
       " 'Rare fauna such as the European brown bear, wolf, eagle, owl, lynx, wild cat and capercaillie can be found there, along with many more common species',\n",
       " 'While visiting the monasteries, women are required to wear skirts covering the knees and have their shoulders covered, too.',\n",
       " \"Most of the monasteries do provide wraps for women who come unprepared, but if you bring your own, especially one with bright colors, you'll get a smile from the monk or nun at the entrance.\",\n",
       " 'Along the same line, men are required to wear trousers covering the knees.',\n",
       " \"This too can be borrowed from the stock at the entrance but that clothing isn't washed after every user so you may not feel comfortable wearing these skirts. One size fits all for men!\",\n",
       " 'Majorcan cuisine, like that of similar zones in the Mediterranean, is based on bread, vegetables and meat (specially pork), and uses olive oil throughout.',\n",
       " 'A simple popular dinner, especially during the summer, is the Pa amb Oli: Bread with olive oil, tomato, and any available condiments such as cheese, tunafish, etc.',\n",
       " 'All nouns, alongside the word Sie for you, always begin with a capital letter, even in the middle of a sentence.',\n",
       " 'This is an important way to distinguish between some verbs and objects.',\n",
       " 'It also arguably makes reading easier, though writing is somewhat complicated by the need to find out whether a verb or adjective is used in a substantivized form.',\n",
       " 'Pronunciation is relatively easy in Italian since most words are pronounced exactly how they are written',\n",
       " 'The main letters to watch out for are c and g, since their pronunciation varies based on the following vowel.',\n",
       " 'Also, make sure to pronounce r and rr differently: caro means dear, whereas carro means chariot.',\n",
       " 'Persian has a relatively easy and mostly regular grammar.',\n",
       " 'Therefore, reading this grammar primer would help you learn much about Persian grammar and understand phrases better.',\n",
       " 'Needless to say, if you know a Romance language, it will be easier for you to learn Portuguese.',\n",
       " 'However, people who know a little Spanish may hastily conclude that Portuguese is close enough that it need not be studied separately.',\n",
       " 'Pre-modern observatories are usually obsolete today, and remain as museums, or sites of education.',\n",
       " 'As light pollution in their heyday was not the kind of problem it is today, they are usually located in cities or at campuses, easier to reach than those built in modern times.',\n",
       " 'Most modern research telescopes are enormous facilities in remote areas with favorable atmospheric conditions.',\n",
       " 'Cherry blossom viewing, known as hanami, has been a part of Japanese culture since the 8th century.',\n",
       " 'The concept came from China where plum blossoms were the flower of choice.',\n",
       " 'In Japan, the first cherry blossom parties were hosted by the emperor only for himself and other members of the aristocracy around the Imperial Court.',\n",
       " 'Plants look their best when in a natural environment, so resist the temptation to remove even \"just one\" specimen.',\n",
       " 'If visiting a formally arranged garden, collecting \"specimens\" is also going to get you ejected, without discussion.',\n",
       " 'Singapore is generally an extremely safe place to be and very easy to navigate, and you can buy almost anything after arriving.',\n",
       " 'But being placed in the \"high tropics\" just a few degrees north of equator you will need to deal with both heat (always) and strong sun (when the sky is clear, more rarely).',\n",
       " 'There are also a few buses going north to Hebron, the traditional burial place of the Biblical patriarchs Abraham, Isaac, Jacob, and their wives.',\n",
       " 'Check that the bus you are thinking of taking goes into Hebron and not just to the nearby Jewish settlement of Kiryat Arba.',\n",
       " 'Inland waterways can be a good theme to base a holiday around.',\n",
       " 'For example visiting castles in the Loire Valley, the Rhine valley or taking a cruise to interesting cites on the Danube or boating along the Erie Canal.',\n",
       " 'They also define routes for popular hiking and cycling trails.',\n",
       " 'Christmas is one of the most important holidays of Christianity, and is celebrated as the birthday of Jesus.',\n",
       " 'Many of the traditions surrounding the holiday have been adopted also by non-believers in Christian countries and non-Christians around the world.',\n",
       " \"There's a tradition to pass the Easter night awake at some exposed point to see the sunrise.\",\n",
       " ...]"
      ]
     },
     "execution_count": 180,
     "metadata": {},
     "output_type": "execute_result"
    }
   ],
   "source": [
    "flores['lat'].tolist()"
   ]
  },
  {
   "cell_type": "code",
   "execution_count": 162,
   "metadata": {},
   "outputs": [
    {
     "name": "stdout",
     "output_type": "stream",
     "text": [
      "BLEU = 23.46 55.9/29.3/18.0/11.4 (BP = 0.975 ratio = 0.975 hyp_len = 24110 ref_len = 24721)\n",
      "chrF2++ = 45.71\n"
     ]
    }
   ],
   "source": [
    "import sacrebleu\n",
    "bleu_calc = sacrebleu.BLEU()\n",
    "chrf_calc = sacrebleu.CHRF(word_order=2)  # this metric is called ChrF++\n",
    "\n",
    "print(bleu_calc.corpus_score(flores['translated'].tolist(), [flores['lat'].tolist()]))\n",
    "print(chrf_calc.corpus_score(flores['translated'].tolist(), [flores['lat'].tolist()]))"
   ]
  },
  {
   "cell_type": "code",
   "execution_count": 179,
   "metadata": {},
   "outputs": [],
   "source": [
    "flores_train[['eng', 'run']].to_csv('flores-eng-kir.csv', sep='\\t', header=False, index=False)"
   ]
  },
  {
   "cell_type": "code",
   "execution_count": 170,
   "metadata": {},
   "outputs": [
    {
     "data": {
      "text/html": [
       "<div>\n",
       "<style scoped>\n",
       "    .dataframe tbody tr th:only-of-type {\n",
       "        vertical-align: middle;\n",
       "    }\n",
       "\n",
       "    .dataframe tbody tr th {\n",
       "        vertical-align: top;\n",
       "    }\n",
       "\n",
       "    .dataframe thead th {\n",
       "        text-align: right;\n",
       "    }\n",
       "</style>\n",
       "<table border=\"1\" class=\"dataframe\">\n",
       "  <thead>\n",
       "    <tr style=\"text-align: right;\">\n",
       "      <th></th>\n",
       "      <th>lat</th>\n",
       "      <th>run</th>\n",
       "      <th>translated</th>\n",
       "    </tr>\n",
       "  </thead>\n",
       "  <tbody>\n",
       "    <tr>\n",
       "      <th>0</th>\n",
       "      <td>\"We now have 4-month-old mice that are non-dia...</td>\n",
       "      <td>Yongeyeko ati: \"Ubu turafise imbeba y'amezi 4 ...</td>\n",
       "      <td>He added: \"We now have four-month-old mice who...</td>\n",
       "    </tr>\n",
       "    <tr>\n",
       "      <th>1</th>\n",
       "      <td>Dr. Ehud Ur, professor of medicine at Dalhousi...</td>\n",
       "      <td>Umuhinga Ehud Ur, umwigisha w'ivy'ubuganga kur...</td>\n",
       "      <td>Professor Ehud Ur, a professor of medicine at ...</td>\n",
       "    </tr>\n",
       "    <tr>\n",
       "      <th>2</th>\n",
       "      <td>Like some other experts, he is skeptical about...</td>\n",
       "      <td>Cokimwe n'abandi bahinga, arafise amakenga ku ...</td>\n",
       "      <td>Like other scientists, he is skeptical of the ...</td>\n",
       "    </tr>\n",
       "    <tr>\n",
       "      <th>3</th>\n",
       "      <td>On Monday, Sara Danius, permanent secretary of...</td>\n",
       "      <td>Ku wa mbere, Sara Danius, umunyamabanga ntayeg...</td>\n",
       "      <td>On Monday, Sara Danius, permanent secretary of...</td>\n",
       "    </tr>\n",
       "    <tr>\n",
       "      <th>4</th>\n",
       "      <td>Danius said, \"Right now we are doing nothing. ...</td>\n",
       "      <td>Danius yavuze ati: \"Ubu nta co turiko turakora...</td>\n",
       "      <td>Danius says: \"Now that we're doing nothing, I'...</td>\n",
       "    </tr>\n",
       "    <tr>\n",
       "      <th>...</th>\n",
       "      <td>...</td>\n",
       "      <td>...</td>\n",
       "      <td>...</td>\n",
       "    </tr>\n",
       "    <tr>\n",
       "      <th>1007</th>\n",
       "      <td>As the areas are sparsely populated, and light...</td>\n",
       "      <td>Kuko ivyo bice bibamwo abantu inkehwa, kandi n...</td>\n",
       "      <td>For this is a small part of the human family, ...</td>\n",
       "    </tr>\n",
       "    <tr>\n",
       "      <th>1008</th>\n",
       "      <td>Japanese work culture is more hierarchical and...</td>\n",
       "      <td>Akaranga mu kazi k'Abayapani karasumbasumbana ...</td>\n",
       "      <td>Japanese craftsmanship is more sophisticated a...</td>\n",
       "    </tr>\n",
       "    <tr>\n",
       "      <th>1009</th>\n",
       "      <td>Suits are standard business attire, and cowork...</td>\n",
       "      <td>Ikositimu niwo mwambaro w'akazi umenyerewe, ka...</td>\n",
       "      <td>Costumes are the most common work clothes, and...</td>\n",
       "    </tr>\n",
       "    <tr>\n",
       "      <th>1010</th>\n",
       "      <td>Workplace harmony is crucial, emphasizing grou...</td>\n",
       "      <td>Itunganywa ryiza ry'ikibanza c'akazi ni ngombw...</td>\n",
       "      <td>Good workplace planning is essential, celebrat...</td>\n",
       "    </tr>\n",
       "    <tr>\n",
       "      <th>1011</th>\n",
       "      <td>Workers must often get their superiors' approv...</td>\n",
       "      <td>Abakozi bategerezwa kenshi kuronka uruhusha rw...</td>\n",
       "      <td>Employees often have to obtain adult consent f...</td>\n",
       "    </tr>\n",
       "  </tbody>\n",
       "</table>\n",
       "<p>1012 rows × 3 columns</p>\n",
       "</div>"
      ],
      "text/plain": [
       "                                                    lat  \\\n",
       "0     \"We now have 4-month-old mice that are non-dia...   \n",
       "1     Dr. Ehud Ur, professor of medicine at Dalhousi...   \n",
       "2     Like some other experts, he is skeptical about...   \n",
       "3     On Monday, Sara Danius, permanent secretary of...   \n",
       "4     Danius said, \"Right now we are doing nothing. ...   \n",
       "...                                                 ...   \n",
       "1007  As the areas are sparsely populated, and light...   \n",
       "1008  Japanese work culture is more hierarchical and...   \n",
       "1009  Suits are standard business attire, and cowork...   \n",
       "1010  Workplace harmony is crucial, emphasizing grou...   \n",
       "1011  Workers must often get their superiors' approv...   \n",
       "\n",
       "                                                    run  \\\n",
       "0     Yongeyeko ati: \"Ubu turafise imbeba y'amezi 4 ...   \n",
       "1     Umuhinga Ehud Ur, umwigisha w'ivy'ubuganga kur...   \n",
       "2     Cokimwe n'abandi bahinga, arafise amakenga ku ...   \n",
       "3     Ku wa mbere, Sara Danius, umunyamabanga ntayeg...   \n",
       "4     Danius yavuze ati: \"Ubu nta co turiko turakora...   \n",
       "...                                                 ...   \n",
       "1007  Kuko ivyo bice bibamwo abantu inkehwa, kandi n...   \n",
       "1008  Akaranga mu kazi k'Abayapani karasumbasumbana ...   \n",
       "1009  Ikositimu niwo mwambaro w'akazi umenyerewe, ka...   \n",
       "1010  Itunganywa ryiza ry'ikibanza c'akazi ni ngombw...   \n",
       "1011  Abakozi bategerezwa kenshi kuronka uruhusha rw...   \n",
       "\n",
       "                                             translated  \n",
       "0     He added: \"We now have four-month-old mice who...  \n",
       "1     Professor Ehud Ur, a professor of medicine at ...  \n",
       "2     Like other scientists, he is skeptical of the ...  \n",
       "3     On Monday, Sara Danius, permanent secretary of...  \n",
       "4     Danius says: \"Now that we're doing nothing, I'...  \n",
       "...                                                 ...  \n",
       "1007  For this is a small part of the human family, ...  \n",
       "1008  Japanese craftsmanship is more sophisticated a...  \n",
       "1009  Costumes are the most common work clothes, and...  \n",
       "1010  Good workplace planning is essential, celebrat...  \n",
       "1011  Employees often have to obtain adult consent f...  \n",
       "\n",
       "[1012 rows x 3 columns]"
      ]
     },
     "execution_count": 170,
     "metadata": {},
     "output_type": "execute_result"
    }
   ],
   "source": [
    "flores"
   ]
  },
  {
   "cell_type": "code",
   "execution_count": null,
   "metadata": {},
   "outputs": [],
   "source": []
  }
 ],
 "metadata": {
  "kernelspec": {
   "display_name": "Python 3",
   "language": "python",
   "name": "python3"
  },
  "language_info": {
   "codemirror_mode": {
    "name": "ipython",
    "version": 3
   },
   "file_extension": ".py",
   "mimetype": "text/x-python",
   "name": "python",
   "nbconvert_exporter": "python",
   "pygments_lexer": "ipython3",
   "version": "3.10.12"
  }
 },
 "nbformat": 4,
 "nbformat_minor": 2
}
