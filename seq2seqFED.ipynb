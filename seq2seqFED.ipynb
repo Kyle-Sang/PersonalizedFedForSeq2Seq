{
 "cells": [
  {
   "cell_type": "code",
   "execution_count": null,
   "metadata": {
    "collapsed": false
   },
   "outputs": [],
   "source": [
    "# For tips on running notebooks in Google Colab, see\n",
    "# https://pytorch.org/tutorials/beginner/colab\n",
    "%matplotlib inline"
   ]
  },
  {
   "attachments": {},
   "cell_type": "markdown",
   "metadata": {},
   "source": [
    "NLP From Scratch: Translation with a Sequence to Sequence Network and Attention\n",
    "===============================================================================\n",
    "\n",
    "**Author**: [Sean Robertson](https://github.com/spro)\n",
    "\n",
    "This is the third and final tutorial on doing \\\"NLP From Scratch\\\",\n",
    "where we write our own classes and functions to preprocess the data to\n",
    "do our NLP modeling tasks. We hope after you complete this tutorial that\n",
    "you\\'ll proceed to learn how [torchtext]{.title-ref} can handle much of\n",
    "this preprocessing for you in the three tutorials immediately following\n",
    "this one.\n",
    "\n",
    "In this project we will be teaching a neural network to translate from\n",
    "French to English.\n",
    "\n",
    "``` {.sourceCode .sh}\n",
    "[KEY: > input, = target, < output]\n",
    "\n",
    "> il est en train de peindre un tableau .\n",
    "= he is painting a picture .\n",
    "< he is painting a picture .\n",
    "\n",
    "> pourquoi ne pas essayer ce vin delicieux ?\n",
    "= why not try that delicious wine ?\n",
    "< why not try that delicious wine ?\n",
    "\n",
    "> elle n est pas poete mais romanciere .\n",
    "= she is not a poet but a novelist .\n",
    "< she not not a poet but a novelist .\n",
    "\n",
    "> vous etes trop maigre .\n",
    "= you re too skinny .\n",
    "< you re all alone .\n",
    "```\n",
    "\n",
    "\\... to varying degrees of success.\n",
    "\n",
    "This is made possible by the simple but powerful idea of the [sequence\n",
    "to sequence network](https://arxiv.org/abs/1409.3215), in which two\n",
    "recurrent neural networks work together to transform one sequence to\n",
    "another. An encoder network condenses an input sequence into a vector,\n",
    "and a decoder network unfolds that vector into a new sequence.\n",
    "\n",
    "![](https://pytorch.org/tutorials/_static/img/seq-seq-images/seq2seq.png)\n",
    "\n",
    "To improve upon this model we\\'ll use an [attention\n",
    "mechanism](https://arxiv.org/abs/1409.0473), which lets the decoder\n",
    "learn to focus over a specific range of the input sequence.\n",
    "\n",
    "**Recommended Reading:**\n",
    "\n",
    "I assume you have at least installed PyTorch, know Python, and\n",
    "understand Tensors:\n",
    "\n",
    "-   <https://pytorch.org/> For installation instructions\n",
    "-   `/beginner/deep_learning_60min_blitz`{.interpreted-text role=\"doc\"}\n",
    "    to get started with PyTorch in general\n",
    "-   `/beginner/pytorch_with_examples`{.interpreted-text role=\"doc\"} for\n",
    "    a wide and deep overview\n",
    "-   `/beginner/former_torchies_tutorial`{.interpreted-text role=\"doc\"}\n",
    "    if you are former Lua Torch user\n",
    "\n",
    "It would also be useful to know about Sequence to Sequence networks and\n",
    "how they work:\n",
    "\n",
    "-   [Learning Phrase Representations using RNN Encoder-Decoder for\n",
    "    Statistical Machine Translation](https://arxiv.org/abs/1406.1078)\n",
    "-   [Sequence to Sequence Learning with Neural\n",
    "    Networks](https://arxiv.org/abs/1409.3215)\n",
    "-   [Neural Machine Translation by Jointly Learning to Align and\n",
    "    Translate](https://arxiv.org/abs/1409.0473)\n",
    "-   [A Neural Conversational Model](https://arxiv.org/abs/1506.05869)\n",
    "\n",
    "You will also find the previous tutorials on\n",
    "`/intermediate/char_rnn_classification_tutorial`{.interpreted-text\n",
    "role=\"doc\"} and\n",
    "`/intermediate/char_rnn_generation_tutorial`{.interpreted-text\n",
    "role=\"doc\"} helpful as those concepts are very similar to the Encoder\n",
    "and Decoder models, respectively.\n",
    "\n",
    "**Requirements**\n"
   ]
  },
  {
   "cell_type": "code",
   "execution_count": 1,
   "metadata": {
    "collapsed": false
   },
   "outputs": [
    {
     "name": "stderr",
     "output_type": "stream",
     "text": [
      "/usr/local/lib/python3.8/dist-packages/tqdm/auto.py:22: TqdmWarning: IProgress not found. Please update jupyter and ipywidgets. See https://ipywidgets.readthedocs.io/en/stable/user_install.html\n",
      "  from .autonotebook import tqdm as notebook_tqdm\n"
     ]
    }
   ],
   "source": [
    "from __future__ import unicode_literals, print_function, division\n",
    "from io import open\n",
    "import unicodedata\n",
    "import re\n",
    "import random\n",
    "\n",
    "import torch\n",
    "import torch.nn as nn\n",
    "from torch import optim\n",
    "import torch.nn.functional as F\n",
    "\n",
    "import numpy as np\n",
    "from torch.utils.data import TensorDataset, DataLoader, RandomSampler\n",
    "\n",
    "device = torch.device(\"cuda\" if torch.cuda.is_available() else \"cpu\")"
   ]
  },
  {
   "attachments": {},
   "cell_type": "markdown",
   "metadata": {},
   "source": [
    "Loading data files\n",
    "==================\n",
    "\n",
    "The data for this project is a set of many thousands of English to\n",
    "French translation pairs.\n",
    "\n",
    "[This question on Open Data Stack\n",
    "Exchange](https://opendata.stackexchange.com/questions/3888/dataset-of-sentences-translated-into-many-languages)\n",
    "pointed me to the open translation site <https://tatoeba.org/> which has\n",
    "downloads available at <https://tatoeba.org/eng/downloads> - and better\n",
    "yet, someone did the extra work of splitting language pairs into\n",
    "individual text files here: <https://www.manythings.org/anki/>\n",
    "\n",
    "The English to French pairs are too big to include in the repository, so\n",
    "download to `data/eng-fra.txt` before continuing. The file is a tab\n",
    "separated list of translation pairs:\n",
    "\n",
    "``` {.sourceCode .sh}\n",
    "I am cold.    J'ai froid.\n",
    "```\n",
    "\n",
    "<div style=\"background-color: #54c7ec; color: #fff; font-weight: 700; padding-left: 10px; padding-top: 5px; padding-bottom: 5px\"><strong>NOTE:</strong></div>\n",
    "<div style=\"background-color: #f3f4f7; padding-left: 10px; padding-top: 10px; padding-bottom: 10px; padding-right: 10px\">\n",
    "<p>Download the data from<a href=\"https://download.pytorch.org/tutorial/data.zip\">here</a>and extract it to the current directory.</p>\n",
    "</div>\n"
   ]
  },
  {
   "attachments": {},
   "cell_type": "markdown",
   "metadata": {},
   "source": [
    "Similar to the character encoding used in the character-level RNN\n",
    "tutorials, we will be representing each word in a language as a one-hot\n",
    "vector, or giant vector of zeros except for a single one (at the index\n",
    "of the word). Compared to the dozens of characters that might exist in a\n",
    "language, there are many many more words, so the encoding vector is much\n",
    "larger. We will however cheat a bit and trim the data to only use a few\n",
    "thousand words per language.\n",
    "\n",
    "![](https://pytorch.org/tutorials/_static/img/seq-seq-images/word-encoding.png)\n"
   ]
  },
  {
   "attachments": {},
   "cell_type": "markdown",
   "metadata": {},
   "source": [
    "We\\'ll need a unique index per word to use as the inputs and targets of\n",
    "the networks later. To keep track of all this we will use a helper class\n",
    "called `Lang` which has word → index (`word2index`) and index → word\n",
    "(`index2word`) dictionaries, as well as a count of each word\n",
    "`word2count` which will be used to replace rare words later.\n"
   ]
  },
  {
   "cell_type": "code",
   "execution_count": 2,
   "metadata": {
    "collapsed": false
   },
   "outputs": [],
   "source": [
    "SOS_token = 0\n",
    "EOS_token = 1\n",
    "\n",
    "class Lang:\n",
    "    def __init__(self, name):\n",
    "        self.name = name\n",
    "        self.word2index = {}\n",
    "        self.word2count = {}\n",
    "        self.index2word = {0: \"SOS\", 1: \"EOS\"}\n",
    "        self.n_words = 2  # Count SOS and EOS\n",
    "\n",
    "    def addSentence(self, sentence):\n",
    "        for word in sentence.split(' '):\n",
    "            self.addWord(word)\n",
    "\n",
    "    def addWord(self, word):\n",
    "        if word not in self.word2index:\n",
    "            self.word2index[word] = self.n_words\n",
    "            self.word2count[word] = 1\n",
    "            self.index2word[self.n_words] = word\n",
    "            self.n_words += 1\n",
    "        else:\n",
    "            self.word2count[word] += 1"
   ]
  },
  {
   "attachments": {},
   "cell_type": "markdown",
   "metadata": {},
   "source": [
    "The files are all in Unicode, to simplify we will turn Unicode\n",
    "characters to ASCII, make everything lowercase, and trim most\n",
    "punctuation.\n"
   ]
  },
  {
   "cell_type": "code",
   "execution_count": 3,
   "metadata": {
    "collapsed": false
   },
   "outputs": [],
   "source": [
    "# Turn a Unicode string to plain ASCII, thanks to\n",
    "# https://stackoverflow.com/a/518232/2809427\n",
    "def unicodeToAscii(s):\n",
    "    return ''.join(\n",
    "        c for c in unicodedata.normalize('NFD', s)\n",
    "        if unicodedata.category(c) != 'Mn'\n",
    "    )\n",
    "\n",
    "# Lowercase, trim, and remove non-letter characters\n",
    "def normalizeString(s):\n",
    "    s = unicodeToAscii(s.lower().strip())\n",
    "    s = re.sub(r\"([.!?])\", r\" \\1\", s)\n",
    "    s = re.sub(r\"[^a-zA-Z!?]+\", r\" \", s)\n",
    "    return s.strip()"
   ]
  },
  {
   "attachments": {},
   "cell_type": "markdown",
   "metadata": {},
   "source": [
    "To read the data file we will split the file into lines, and then split\n",
    "lines into pairs. The files are all English → Other Language, so if we\n",
    "want to translate from Other Language → English I added the `reverse`\n",
    "flag to reverse the pairs.\n"
   ]
  },
  {
   "cell_type": "code",
   "execution_count": 4,
   "metadata": {
    "collapsed": false
   },
   "outputs": [],
   "source": [
    "def readLangs(lang1, lang2, reverse=False):\n",
    "    print(\"Reading lines...\")\n",
    "\n",
    "    # Read the file and split into lines\n",
    "    lines = open('data/%s-%s.txt' % (lang1, lang2), encoding='utf-8').\\\n",
    "        read().strip().split('\\n')\n",
    "\n",
    "    # Split every line into pairs and normalize\n",
    "    pairs = [[normalizeString(s) for s in l.split('\\t')] for l in lines]\n",
    "\n",
    "    # Reverse pairs, make Lang instances\n",
    "    if reverse:\n",
    "        pairs = [list(reversed(p)) for p in pairs]\n",
    "        input_lang = Lang(lang2)\n",
    "        output_lang = Lang(lang1)\n",
    "    else:\n",
    "        input_lang = Lang(lang1)\n",
    "        output_lang = Lang(lang2)\n",
    "\n",
    "    return input_lang, output_lang, pairs"
   ]
  },
  {
   "attachments": {},
   "cell_type": "markdown",
   "metadata": {},
   "source": [
    "Since there are a *lot* of example sentences and we want to train\n",
    "something quickly, we\\'ll trim the data set to only relatively short and\n",
    "simple sentences. Here the maximum length is 10 words (that includes\n",
    "ending punctuation) and we\\'re filtering to sentences that translate to\n",
    "the form \\\"I am\\\" or \\\"He is\\\" etc. (accounting for apostrophes replaced\n",
    "earlier).\n"
   ]
  },
  {
   "cell_type": "code",
   "execution_count": 5,
   "metadata": {
    "collapsed": false
   },
   "outputs": [],
   "source": [
    "MAX_LENGTH = 10\n",
    "\n",
    "eng_prefixes = (\n",
    "    \"i am \", \"i m \",\n",
    "    \"he is\", \"he s \",\n",
    "    \"she is\", \"she s \",\n",
    "    \"you are\", \"you re \",\n",
    "    \"we are\", \"we re \",\n",
    "    \"they are\", \"they re \"\n",
    ")\n",
    "\n",
    "def filterPair(p):\n",
    "    return len(p[0].split(' ')) < MAX_LENGTH and \\\n",
    "        len(p[1].split(' ')) < MAX_LENGTH and \\\n",
    "        p[1].startswith(eng_prefixes)\n",
    "\n",
    "\n",
    "def filterPairs(pairs):\n",
    "    return [pair for pair in pairs if filterPair(pair)]"
   ]
  },
  {
   "attachments": {},
   "cell_type": "markdown",
   "metadata": {},
   "source": [
    "The full process for preparing the data is:\n",
    "\n",
    "-   Read text file and split into lines, split lines into pairs\n",
    "-   Normalize text, filter by length and content\n",
    "-   Make word lists from sentences in pairs\n"
   ]
  },
  {
   "cell_type": "code",
   "execution_count": 6,
   "metadata": {
    "collapsed": false
   },
   "outputs": [
    {
     "name": "stdout",
     "output_type": "stream",
     "text": [
      "Reading lines...\n",
      "Read 118121 sentence pairs\n",
      "Trimmed to 7865 sentence pairs\n",
      "Counting words...\n",
      "Counted words:\n",
      "spa 4027\n",
      "eng 2809\n",
      "['voy saliendo', 'i m leaving now']\n"
     ]
    }
   ],
   "source": [
    "def prepareData(lang1, lang2, reverse=False):\n",
    "    input_lang, output_lang, pairs = readLangs(lang1, lang2, reverse)\n",
    "    print(\"Read %s sentence pairs\" % len(pairs))\n",
    "    pairs = filterPairs(pairs)\n",
    "    print(\"Trimmed to %s sentence pairs\" % len(pairs))\n",
    "    print(\"Counting words...\")\n",
    "    for pair in pairs:\n",
    "        input_lang.addSentence(pair[0])\n",
    "        output_lang.addSentence(pair[1])\n",
    "    print(\"Counted words:\")\n",
    "    print(input_lang.name, input_lang.n_words)\n",
    "    print(output_lang.name, output_lang.n_words)\n",
    "    return input_lang, output_lang, pairs\n",
    "\n",
    "input_lang, output_lang, pairs = prepareData('eng', 'spa', True)\n",
    "print(random.choice(pairs))"
   ]
  },
  {
   "attachments": {},
   "cell_type": "markdown",
   "metadata": {},
   "source": [
    "The Seq2Seq Model\n",
    "=================\n",
    "\n",
    "A Recurrent Neural Network, or RNN, is a network that operates on a\n",
    "sequence and uses its own output as input for subsequent steps.\n",
    "\n",
    "A [Sequence to Sequence network](https://arxiv.org/abs/1409.3215), or\n",
    "seq2seq network, or [Encoder Decoder\n",
    "network](https://arxiv.org/pdf/1406.1078v3.pdf), is a model consisting\n",
    "of two RNNs called the encoder and decoder. The encoder reads an input\n",
    "sequence and outputs a single vector, and the decoder reads that vector\n",
    "to produce an output sequence.\n",
    "\n",
    "![](https://pytorch.org/tutorials/_static/img/seq-seq-images/seq2seq.png)\n",
    "\n",
    "Unlike sequence prediction with a single RNN, where every input\n",
    "corresponds to an output, the seq2seq model frees us from sequence\n",
    "length and order, which makes it ideal for translation between two\n",
    "languages.\n",
    "\n",
    "Consider the sentence `Je ne suis pas le chat noir` →\n",
    "`I am not the black cat`. Most of the words in the input sentence have a\n",
    "direct translation in the output sentence, but are in slightly different\n",
    "orders, e.g. `chat noir` and `black cat`. Because of the `ne/pas`\n",
    "construction there is also one more word in the input sentence. It would\n",
    "be difficult to produce a correct translation directly from the sequence\n",
    "of input words.\n",
    "\n",
    "With a seq2seq model the encoder creates a single vector which, in the\n",
    "ideal case, encodes the \\\"meaning\\\" of the input sequence into a single\n",
    "vector --- a single point in some N dimensional space of sentences.\n"
   ]
  },
  {
   "attachments": {},
   "cell_type": "markdown",
   "metadata": {},
   "source": [
    "The Encoder\n",
    "===========\n",
    "\n",
    "The encoder of a seq2seq network is a RNN that outputs some value for\n",
    "every word from the input sentence. For every input word the encoder\n",
    "outputs a vector and a hidden state, and uses the hidden state for the\n",
    "next input word.\n",
    "\n",
    "![](https://pytorch.org/tutorials/_static/img/seq-seq-images/encoder-network.png)\n"
   ]
  },
  {
   "cell_type": "code",
   "execution_count": 7,
   "metadata": {
    "collapsed": false
   },
   "outputs": [],
   "source": [
    "class EncoderRNN(nn.Module):\n",
    "    def __init__(self, input_size, hidden_size, dropout_p=0.1):\n",
    "        super(EncoderRNN, self).__init__()\n",
    "        self.hidden_size = hidden_size\n",
    "\n",
    "        self.embedding = nn.Embedding(input_size, hidden_size)\n",
    "        self.gru = nn.GRU(hidden_size, hidden_size, batch_first=True)\n",
    "        self.dropout = nn.Dropout(dropout_p)\n",
    "\n",
    "    def forward(self, input):\n",
    "        embedded = self.dropout(self.embedding(input))\n",
    "        output, hidden = self.gru(embedded)\n",
    "        return output, hidden"
   ]
  },
  {
   "attachments": {},
   "cell_type": "markdown",
   "metadata": {},
   "source": [
    "The Decoder\n",
    "===========\n",
    "\n",
    "The decoder is another RNN that takes the encoder output vector(s) and\n",
    "outputs a sequence of words to create the translation.\n"
   ]
  },
  {
   "attachments": {},
   "cell_type": "markdown",
   "metadata": {},
   "source": [
    "Simple Decoder\n",
    "==============\n",
    "\n",
    "In the simplest seq2seq decoder we use only last output of the encoder.\n",
    "This last output is sometimes called the *context vector* as it encodes\n",
    "context from the entire sequence. This context vector is used as the\n",
    "initial hidden state of the decoder.\n",
    "\n",
    "At every step of decoding, the decoder is given an input token and\n",
    "hidden state. The initial input token is the start-of-string `<SOS>`\n",
    "token, and the first hidden state is the context vector (the encoder\\'s\n",
    "last hidden state).\n",
    "\n",
    "![](https://pytorch.org/tutorials/_static/img/seq-seq-images/decoder-network.png)\n"
   ]
  },
  {
   "cell_type": "code",
   "execution_count": 8,
   "metadata": {
    "collapsed": false
   },
   "outputs": [],
   "source": [
    "class DecoderRNN(nn.Module):\n",
    "    def __init__(self, hidden_size, output_size):\n",
    "        super(DecoderRNN, self).__init__()\n",
    "        self.embedding = nn.Embedding(output_size, hidden_size)\n",
    "        self.gru = nn.GRU(hidden_size, hidden_size, batch_first=True)\n",
    "        self.out = nn.Linear(hidden_size, output_size)\n",
    "\n",
    "    def forward(self, encoder_outputs, encoder_hidden, target_tensor=None):\n",
    "        batch_size = encoder_outputs.size(0)\n",
    "        decoder_input = torch.empty(batch_size, 1, dtype=torch.long, device=device).fill_(SOS_token)\n",
    "        decoder_hidden = encoder_hidden\n",
    "        decoder_outputs = []\n",
    "\n",
    "        for i in range(MAX_LENGTH):\n",
    "            decoder_output, decoder_hidden  = self.forward_step(decoder_input, decoder_hidden)\n",
    "            decoder_outputs.append(decoder_output)\n",
    "\n",
    "            if target_tensor is not None:\n",
    "                # Teacher forcing: Feed the target as the next input\n",
    "                decoder_input = target_tensor[:, i].unsqueeze(1) # Teacher forcing\n",
    "            else:\n",
    "                # Without teacher forcing: use its own predictions as the next input\n",
    "                _, topi = decoder_output.topk(1)\n",
    "                decoder_input = topi.squeeze(-1).detach()  # detach from history as input\n",
    "\n",
    "        decoder_outputs = torch.cat(decoder_outputs, dim=1)\n",
    "        decoder_outputs = F.log_softmax(decoder_outputs, dim=-1)\n",
    "        return decoder_outputs, decoder_hidden, None # We return `None` for consistency in the training loop\n",
    "\n",
    "    def forward_step(self, input, hidden):\n",
    "        output = self.embedding(input)\n",
    "        output = F.relu(output)\n",
    "        output, hidden = self.gru(output, hidden)\n",
    "        output = self.out(output)\n",
    "        return output, hidden"
   ]
  },
  {
   "attachments": {},
   "cell_type": "markdown",
   "metadata": {},
   "source": [
    "I encourage you to train and observe the results of this model, but to\n",
    "save space we\\'ll be going straight for the gold and introducing the\n",
    "Attention Mechanism.\n"
   ]
  },
  {
   "attachments": {},
   "cell_type": "markdown",
   "metadata": {},
   "source": [
    "Attention Decoder\n",
    "=================\n",
    "\n",
    "If only the context vector is passed between the encoder and decoder,\n",
    "that single vector carries the burden of encoding the entire sentence.\n",
    "\n",
    "Attention allows the decoder network to \\\"focus\\\" on a different part of\n",
    "the encoder\\'s outputs for every step of the decoder\\'s own outputs.\n",
    "First we calculate a set of *attention weights*. These will be\n",
    "multiplied by the encoder output vectors to create a weighted\n",
    "combination. The result (called `attn_applied` in the code) should\n",
    "contain information about that specific part of the input sequence, and\n",
    "thus help the decoder choose the right output words.\n",
    "\n",
    "![](https://i.imgur.com/1152PYf.png)\n",
    "\n",
    "Calculating the attention weights is done with another feed-forward\n",
    "layer `attn`, using the decoder\\'s input and hidden state as inputs.\n",
    "Because there are sentences of all sizes in the training data, to\n",
    "actually create and train this layer we have to choose a maximum\n",
    "sentence length (input length, for encoder outputs) that it can apply\n",
    "to. Sentences of the maximum length will use all the attention weights,\n",
    "while shorter sentences will only use the first few.\n",
    "\n",
    "![](https://pytorch.org/tutorials/_static/img/seq-seq-images/attention-decoder-network.png)\n",
    "\n",
    "Bahdanau attention, also known as additive attention, is a commonly used\n",
    "attention mechanism in sequence-to-sequence models, particularly in\n",
    "neural machine translation tasks. It was introduced by Bahdanau et al.\n",
    "in their paper titled [Neural Machine Translation by Jointly Learning to\n",
    "Align and Translate](https://arxiv.org/pdf/1409.0473.pdf). This\n",
    "attention mechanism employs a learned alignment model to compute\n",
    "attention scores between the encoder and decoder hidden states. It\n",
    "utilizes a feed-forward neural network to calculate alignment scores.\n",
    "\n",
    "However, there are alternative attention mechanisms available, such as\n",
    "Luong attention, which computes attention scores by taking the dot\n",
    "product between the decoder hidden state and the encoder hidden states.\n",
    "It does not involve the non-linear transformation used in Bahdanau\n",
    "attention.\n",
    "\n",
    "In this tutorial, we will be using Bahdanau attention. However, it would\n",
    "be a valuable exercise to explore modifying the attention mechanism to\n",
    "use Luong attention.\n"
   ]
  },
  {
   "cell_type": "code",
   "execution_count": 9,
   "metadata": {
    "collapsed": false
   },
   "outputs": [],
   "source": [
    "class BahdanauAttention(nn.Module):\n",
    "    def __init__(self, hidden_size):\n",
    "        super(BahdanauAttention, self).__init__()\n",
    "        self.Wa = nn.Linear(hidden_size, hidden_size)\n",
    "        self.Ua = nn.Linear(hidden_size, hidden_size)\n",
    "        self.Va = nn.Linear(hidden_size, 1)\n",
    "\n",
    "    def forward(self, query, keys):\n",
    "        scores = self.Va(torch.tanh(self.Wa(query) + self.Ua(keys)))\n",
    "        scores = scores.squeeze(2).unsqueeze(1)\n",
    "\n",
    "        weights = F.softmax(scores, dim=-1)\n",
    "        context = torch.bmm(weights, keys)\n",
    "\n",
    "        return context, weights\n",
    "\n",
    "class AttnDecoderRNN(nn.Module):\n",
    "    def __init__(self, hidden_size, output_size, dropout_p=0.1):\n",
    "        super(AttnDecoderRNN, self).__init__()\n",
    "        self.embedding = nn.Embedding(output_size, hidden_size)\n",
    "        self.attention = BahdanauAttention(hidden_size)\n",
    "        self.gru = nn.GRU(2 * hidden_size, hidden_size, batch_first=True)\n",
    "        self.out = nn.Linear(hidden_size, output_size)\n",
    "        self.dropout = nn.Dropout(dropout_p)\n",
    "\n",
    "    def forward(self, encoder_outputs, encoder_hidden, target_tensor=None):\n",
    "        batch_size = encoder_outputs.size(0)\n",
    "        decoder_input = torch.empty(batch_size, 1, dtype=torch.long, device=device).fill_(SOS_token)\n",
    "        decoder_hidden = encoder_hidden\n",
    "        decoder_outputs = []\n",
    "        attentions = []\n",
    "\n",
    "        for i in range(MAX_LENGTH):\n",
    "            decoder_output, decoder_hidden, attn_weights = self.forward_step(\n",
    "                decoder_input, decoder_hidden, encoder_outputs\n",
    "            )\n",
    "            decoder_outputs.append(decoder_output)\n",
    "            attentions.append(attn_weights)\n",
    "\n",
    "            if target_tensor is not None:\n",
    "                # Teacher forcing: Feed the target as the next input\n",
    "                decoder_input = target_tensor[:, i].unsqueeze(1) # Teacher forcing\n",
    "            else:\n",
    "                # Without teacher forcing: use its own predictions as the next input\n",
    "                _, topi = decoder_output.topk(1)\n",
    "                decoder_input = topi.squeeze(-1).detach()  # detach from history as input\n",
    "\n",
    "        decoder_outputs = torch.cat(decoder_outputs, dim=1)\n",
    "        decoder_outputs = F.log_softmax(decoder_outputs, dim=-1)\n",
    "        attentions = torch.cat(attentions, dim=1)\n",
    "\n",
    "        return decoder_outputs, decoder_hidden, attentions\n",
    "\n",
    "\n",
    "    def forward_step(self, input, hidden, encoder_outputs):\n",
    "        embedded =  self.dropout(self.embedding(input))\n",
    "\n",
    "        query = hidden.permute(1, 0, 2)\n",
    "        context, attn_weights = self.attention(query, encoder_outputs)\n",
    "        input_gru = torch.cat((embedded, context), dim=2)\n",
    "\n",
    "        output, hidden = self.gru(input_gru, hidden)\n",
    "        output = self.out(output)\n",
    "\n",
    "        return output, hidden, attn_weights"
   ]
  },
  {
   "attachments": {},
   "cell_type": "markdown",
   "metadata": {},
   "source": [
    "<div style=\"background-color: #54c7ec; color: #fff; font-weight: 700; padding-left: 10px; padding-top: 5px; padding-bottom: 5px\"><strong>NOTE:</strong></div>\n",
    "<div style=\"background-color: #f3f4f7; padding-left: 10px; padding-top: 10px; padding-bottom: 10px; padding-right: 10px\">\n",
    "<p>There are other forms of attention that work around the lengthlimitation by using a relative position approach. Read about \"localattention\" in <a href=\"https://arxiv.org/abs/1508.04025\">Effective Approaches to Attention-based Neural MachineTranslation</a>.</p>\n",
    "</div>\n",
    "\n",
    "Training\n",
    "========\n",
    "\n",
    "Preparing Training Data\n",
    "-----------------------\n",
    "\n",
    "To train, for each pair we will need an input tensor (indexes of the\n",
    "words in the input sentence) and target tensor (indexes of the words in\n",
    "the target sentence). While creating these vectors we will append the\n",
    "EOS token to both sequences.\n"
   ]
  },
  {
   "cell_type": "code",
   "execution_count": 10,
   "metadata": {
    "collapsed": false
   },
   "outputs": [],
   "source": [
    "def indexesFromSentence(lang, sentence):\n",
    "    return [lang.word2index[word] for word in sentence.split(' ')]\n",
    "\n",
    "def tensorFromSentence(lang, sentence):\n",
    "    indexes = indexesFromSentence(lang, sentence)\n",
    "    indexes.append(EOS_token)\n",
    "    return torch.tensor(indexes, dtype=torch.long, device=device).view(1, -1)\n",
    "\n",
    "def tensorsFromPair(pair):\n",
    "    input_tensor = tensorFromSentence(input_lang, pair[0])\n",
    "    target_tensor = tensorFromSentence(output_lang, pair[1])\n",
    "    return (input_tensor, target_tensor)\n",
    "\n",
    "def get_dataloader(batch_size, language='spa'):\n",
    "    input_lang, output_lang, pairs = prepareData('eng', language, True)\n",
    "\n",
    "    n = len(pairs)\n",
    "    input_ids = np.zeros((n, MAX_LENGTH), dtype=np.int32)\n",
    "    target_ids = np.zeros((n, MAX_LENGTH), dtype=np.int32)\n",
    "\n",
    "    for idx, (inp, tgt) in enumerate(pairs):\n",
    "        inp_ids = indexesFromSentence(input_lang, inp)\n",
    "        tgt_ids = indexesFromSentence(output_lang, tgt)\n",
    "        inp_ids.append(EOS_token)\n",
    "        tgt_ids.append(EOS_token)\n",
    "        input_ids[idx, :len(inp_ids)] = inp_ids\n",
    "        target_ids[idx, :len(tgt_ids)] = tgt_ids\n",
    "\n",
    "    train_data = TensorDataset(torch.LongTensor(input_ids).to(device),\n",
    "                               torch.LongTensor(target_ids).to(device))\n",
    "\n",
    "    train_sampler = RandomSampler(train_data)\n",
    "    train_dataloader = DataLoader(train_data, sampler=train_sampler, batch_size=batch_size)\n",
    "    return input_lang, output_lang, train_dataloader"
   ]
  },
  {
   "attachments": {},
   "cell_type": "markdown",
   "metadata": {},
   "source": [
    "Training the Model\n",
    "==================\n",
    "\n",
    "To train we run the input sentence through the encoder, and keep track\n",
    "of every output and the latest hidden state. Then the decoder is given\n",
    "the `<SOS>` token as its first input, and the last hidden state of the\n",
    "encoder as its first hidden state.\n",
    "\n",
    "\\\"Teacher forcing\\\" is the concept of using the real target outputs as\n",
    "each next input, instead of using the decoder\\'s guess as the next\n",
    "input. Using teacher forcing causes it to converge faster but [when the\n",
    "trained network is exploited, it may exhibit\n",
    "instability](http://citeseerx.ist.psu.edu/viewdoc/download?doi=10.1.1.378.4095&rep=rep1&type=pdf).\n",
    "\n",
    "You can observe outputs of teacher-forced networks that read with\n",
    "coherent grammar but wander far from the correct translation\n",
    "-intuitively it has learned to represent the output grammar and can\n",
    "\\\"pick up\\\" the meaning once the teacher tells it the first few words,\n",
    "but it has not properly learned how to create the sentence from the\n",
    "translation in the first place.\n",
    "\n",
    "Because of the freedom PyTorch\\'s autograd gives us, we can randomly\n",
    "choose to use teacher forcing or not with a simple if statement. Turn\n",
    "`teacher_forcing_ratio` up to use more of it.\n"
   ]
  },
  {
   "cell_type": "code",
   "execution_count": 11,
   "metadata": {
    "collapsed": false
   },
   "outputs": [],
   "source": [
    "def train_epoch(dataloader, encoder, decoder, encoder_optimizer,\n",
    "          decoder_optimizer, criterion):\n",
    "\n",
    "    total_loss = 0\n",
    "    for data in dataloader:\n",
    "        input_tensor, target_tensor = data\n",
    "\n",
    "        encoder_optimizer.zero_grad()\n",
    "        decoder_optimizer.zero_grad()\n",
    "\n",
    "        encoder_outputs, encoder_hidden = encoder(input_tensor)\n",
    "        decoder_outputs, _, _ = decoder(encoder_outputs, encoder_hidden, target_tensor)\n",
    "\n",
    "        loss = criterion(\n",
    "            decoder_outputs.view(-1, decoder_outputs.size(-1)),\n",
    "            target_tensor.view(-1)\n",
    "        )\n",
    "        loss.backward()\n",
    "\n",
    "        encoder_optimizer.step()\n",
    "        decoder_optimizer.step()\n",
    "\n",
    "        total_loss += loss.item()\n",
    "\n",
    "    return total_loss / len(dataloader)"
   ]
  },
  {
   "attachments": {},
   "cell_type": "markdown",
   "metadata": {},
   "source": [
    "This is a helper function to print time elapsed and estimated time\n",
    "remaining given the current time and progress %.\n"
   ]
  },
  {
   "cell_type": "code",
   "execution_count": 12,
   "metadata": {
    "collapsed": false
   },
   "outputs": [],
   "source": [
    "import time\n",
    "import math\n",
    "\n",
    "def asMinutes(s):\n",
    "    m = math.floor(s / 60)\n",
    "    s -= m * 60\n",
    "    return '%dm %ds' % (m, s)\n",
    "\n",
    "def timeSince(since, percent):\n",
    "    now = time.time()\n",
    "    s = now - since\n",
    "    es = s / (percent)\n",
    "    rs = es - s\n",
    "    return '%s (- %s)' % (asMinutes(s), asMinutes(rs))"
   ]
  },
  {
   "cell_type": "code",
   "execution_count": 13,
   "metadata": {},
   "outputs": [],
   "source": [
    "class ClientUpdate(object):\n",
    "    def __init__(self, train_dataloader, learning_rate, epochs, sch_flag):\n",
    "        self.train_loader = train_dataloader\n",
    "        self.learning_rate = learning_rate\n",
    "        self.epochs = epochs\n",
    "        self.sch_flag = sch_flag\n",
    "\n",
    "    def train(self, encoder, decoder):\n",
    "\n",
    "        criterion = nn.CrossEntropyLoss()\n",
    "        # optimizer = torch.optim.SGD(model.parameters(), lr=self.learning_rate, momentum=0.95, weight_decay = 5e-4)\n",
    "        encoder_optimizer = optim.Adam(encoder.parameters(), lr=self.learning_rate)\n",
    "        decoder_optimizer = optim.Adam(decoder.parameters(), lr=self.learning_rate)\n",
    "        # if self.sch_flag == True:\n",
    "        #    scheduler = torch.optim.lr_scheduler.ReduceLROnPlateau(optimizer, mode='min', factor=0.5)\n",
    "        # my_lr_scheduler = torch.optim.lr_scheduler.StepLR(optimizer, step_size=1, gamma=0.99)\n",
    "        e_loss = []\n",
    "        for epoch in range(1, self.epochs + 1):\n",
    "            loss = train_epoch(self.train_loader, encoder, decoder, encoder_optimizer, decoder_optimizer, criterion)\n",
    "            e_loss.append(loss)\n",
    "\n",
    "            # print_loss_total += loss\n",
    "            # plot_loss_total += loss\n",
    "\n",
    "            # if epoch % print_every == 0:\n",
    "            #     print_loss_avg = print_loss_total / print_every\n",
    "            #     print_loss_total = 0\n",
    "            #     print('%s (%d %d%%) %.4f' % (timeSince(start, epoch / n_epochs),\n",
    "            #                                 epoch, epoch / n_epochs * 100, print_loss_avg))\n",
    "\n",
    "            # if epoch % plot_every == 0:\n",
    "            #     plot_loss_avg = plot_loss_total / plot_every\n",
    "            #     plot_losses.append(plot_loss_avg)\n",
    "            #     plot_loss_total = 0\n",
    "\n",
    "            total_loss = sum(e_loss) / len(e_loss)\n",
    "\n",
    "        return encoder.state_dict(), decoder.state_dict(), total_loss"
   ]
  },
  {
   "attachments": {},
   "cell_type": "markdown",
   "metadata": {},
   "source": [
    "The whole training process looks like this:\n",
    "\n",
    "-   Start a timer\n",
    "-   Initialize optimizers and criterion\n",
    "-   Create set of training pairs\n",
    "-   Start empty losses array for plotting\n",
    "\n",
    "Then we call `train` many times and occasionally print the progress (%\n",
    "of examples, time so far, estimated time) and average loss.\n"
   ]
  },
  {
   "cell_type": "code",
   "execution_count": 14,
   "metadata": {
    "collapsed": false
   },
   "outputs": [],
   "source": [
    "def train(train_dataloader, encoder, decoder, n_epochs, learning_rate=0.001,\n",
    "               print_every=100, plot_every=100):\n",
    "    start = time.time()\n",
    "    plot_losses = []\n",
    "    print_loss_total = 0  # Reset every print_every\n",
    "    plot_loss_total = 0  # Reset every plot_every\n",
    "\n",
    "    encoder_optimizer = optim.Adam(encoder.parameters(), lr=learning_rate)\n",
    "    decoder_optimizer = optim.Adam(decoder.parameters(), lr=learning_rate)\n",
    "    criterion = nn.NLLLoss()\n",
    "\n",
    "    for epoch in range(1, n_epochs + 1):\n",
    "        loss = train_epoch(train_dataloader, encoder, decoder, encoder_optimizer, decoder_optimizer, criterion)\n",
    "        print_loss_total += loss\n",
    "        plot_loss_total += loss\n",
    "\n",
    "        if epoch % print_every == 0:\n",
    "            print_loss_avg = print_loss_total / print_every\n",
    "            print_loss_total = 0\n",
    "            print('%s (%d %d%%) %.4f' % (timeSince(start, epoch / n_epochs),\n",
    "                                        epoch, epoch / n_epochs * 100, print_loss_avg))\n",
    "\n",
    "        if epoch % plot_every == 0:\n",
    "            plot_loss_avg = plot_loss_total / plot_every\n",
    "            plot_losses.append(plot_loss_avg)\n",
    "            plot_loss_total = 0\n",
    "\n",
    "    showPlot(plot_losses)"
   ]
  },
  {
   "attachments": {},
   "cell_type": "markdown",
   "metadata": {},
   "source": [
    "Plotting results\n",
    "================\n",
    "\n",
    "Plotting is done with matplotlib, using the array of loss values\n",
    "`plot_losses` saved while training.\n"
   ]
  },
  {
   "cell_type": "code",
   "execution_count": 15,
   "metadata": {
    "collapsed": false
   },
   "outputs": [],
   "source": [
    "import matplotlib.pyplot as plt\n",
    "plt.switch_backend('agg')\n",
    "import matplotlib.ticker as ticker\n",
    "import numpy as np\n",
    "\n",
    "def showPlot(points):\n",
    "    plt.figure()\n",
    "    fig, ax = plt.subplots()\n",
    "    # this locator puts ticks at regular intervals\n",
    "    loc = ticker.MultipleLocator(base=0.2)\n",
    "    ax.yaxis.set_major_locator(loc)\n",
    "    plt.plot(points)"
   ]
  },
  {
   "attachments": {},
   "cell_type": "markdown",
   "metadata": {},
   "source": [
    "Evaluation\n",
    "==========\n",
    "\n",
    "Evaluation is mostly the same as training, but there are no targets so\n",
    "we simply feed the decoder\\'s predictions back to itself for each step.\n",
    "Every time it predicts a word we add it to the output string, and if it\n",
    "predicts the EOS token we stop there. We also store the decoder\\'s\n",
    "attention outputs for display later.\n"
   ]
  },
  {
   "cell_type": "code",
   "execution_count": 16,
   "metadata": {
    "collapsed": false
   },
   "outputs": [],
   "source": [
    "def evaluate(encoder, decoder, sentence, input_lang, output_lang):\n",
    "    with torch.no_grad():\n",
    "        input_tensor = tensorFromSentence(input_lang, sentence)\n",
    "\n",
    "        encoder_outputs, encoder_hidden = encoder(input_tensor)\n",
    "        decoder_outputs, decoder_hidden, decoder_attn = decoder(encoder_outputs, encoder_hidden)\n",
    "\n",
    "        _, topi = decoder_outputs.topk(1)\n",
    "        decoded_ids = topi.squeeze()\n",
    "\n",
    "        decoded_words = []\n",
    "        for idx in decoded_ids:\n",
    "            if idx.item() == EOS_token:\n",
    "                decoded_words.append('<EOS>')\n",
    "                break\n",
    "            decoded_words.append(output_lang.index2word[idx.item()])\n",
    "    return decoded_words, decoder_attn"
   ]
  },
  {
   "attachments": {},
   "cell_type": "markdown",
   "metadata": {},
   "source": [
    "We can evaluate random sentences from the training set and print out the\n",
    "input, target, and output to make some subjective quality judgements:\n"
   ]
  },
  {
   "cell_type": "code",
   "execution_count": 127,
   "metadata": {
    "collapsed": false
   },
   "outputs": [],
   "source": [
    "from torchtext.data.metrics import bleu_score\n",
    "def evaluateBleu(encoder, decoder, input_lang, output_lang, n=10, verbose=False):\n",
    "    references = []\n",
    "    candidates = []\n",
    "\n",
    "    for _ in range(n):\n",
    "        pair = random.choice(pairs)\n",
    "        output_words, _ = evaluate(encoder, decoder, pair[0], input_lang, output_lang)\n",
    "        output_sentence = ' '.join(output_words).split(' ')\n",
    "        if verbose:\n",
    "            print('>', pair[0])\n",
    "            print('=', pair[1])\n",
    "            print('<', ' '.join(output_sentence))\n",
    "            print('')\n",
    "\n",
    "        # Store the reference and candidate sentences for BLEU calculation\n",
    "        references.append([pair[1].split(' ')])\n",
    "        candidates.append(output_sentence)\n",
    "\n",
    "    # Calculate the BLEU score\n",
    "    score = bleu_score(candidates, references)\n",
    "    return score"
   ]
  },
  {
   "attachments": {},
   "cell_type": "markdown",
   "metadata": {},
   "source": [
    "## Federated Learning"
   ]
  },
  {
   "cell_type": "code",
   "execution_count": 131,
   "metadata": {},
   "outputs": [],
   "source": [
    "import copy\n",
    "from tqdm import tqdm\n",
    "def training(encoders, decoders, rounds, lr, ds, C, K, E, cifar_data_test = None,\n",
    "             test_batch_size = None, classes_test = None, sch_flag = None):\n",
    "    \"\"\"\n",
    "    Function implements the Federated Averaging Algorithm from the FedAvg paper.\n",
    "    Specifically, this function is used for the server side training and weight update\n",
    "\n",
    "    Params:\n",
    "      - model:           PyTorch model to train\n",
    "      - rounds:          Number of communication rounds for the client update\n",
    "      - batch_size:      Batch size for client update training\n",
    "      - lr:              Learning rate used for client update training\n",
    "      - ds:              Dataset used for training\n",
    "      - data_dict:       Type of data partition used for training (IID or non-IID)\n",
    "      - C:               Fraction of clients randomly chosen to perform computation on each round\n",
    "      - K:               Total number of clients\n",
    "      - E:               Number of training passes each client makes over its local dataset per round\n",
    "      - tb_writer_name:  Directory name to save the tensorboard logs\n",
    "    Returns:\n",
    "      - model:           Trained model on the server\n",
    "    \"\"\"\n",
    "\n",
    "    # global model weights\n",
    "    global_encoder_weights = {key: value for key, value in encoders[0].state_dict().items() if 'embedding' not in key}\n",
    "    global_decoder_weights = {key: value for key, value in decoders[0].state_dict().items() if 'embedding' not in key and 'out' not in key}\n",
    "\n",
    "    # training loss\n",
    "    train_loss = []\n",
    "    test_loss = []\n",
    "    test_accuracy = []\n",
    "    best_accuracy = 0\n",
    "    # measure time\n",
    "    start = time.time()\n",
    "\n",
    "    for curr_round in range(1, rounds + 1):\n",
    "        w_encoder, w_decoder, local_loss = [], [], []\n",
    "        # Retrieve the number of clients participating in the current training\n",
    "        m = max(int(C * K), 1)\n",
    "        # Sample a subset of K clients according with the value defined before\n",
    "        S_t = np.random.choice(range(K), m, replace=False)\n",
    "        # For the selected clients start a local training\n",
    "        for k in tqdm(S_t):\n",
    "            # Compute a local update\n",
    "            local_update = ClientUpdate(train_dataloader=ds[k], learning_rate=lr, epochs=E,\n",
    "                                        sch_flag=sch_flag)\n",
    "            # Update means retrieve the values of the network weights\n",
    "            e_og = encoders[k].state_dict()\n",
    "            d_og = decoders[k].state_dict()\n",
    "            e_og.update(global_encoder_weights)\n",
    "            d_og.update(global_decoder_weights)\n",
    "            encoders[k].load_state_dict(e_og)\n",
    "            decoders[k].load_state_dict(d_og)\n",
    "            \n",
    "            encoder_weights, decoder_weights, loss = local_update.train(encoders[k], decoders[k])\n",
    "\n",
    "            w_encoder.append({key: value for key, value in copy.deepcopy(encoder_weights).items() if 'embedding' not in key})\n",
    "            w_decoder.append({key: value for key, value in copy.deepcopy(decoder_weights).items() if 'embedding' not in key and 'out' not in key})\n",
    "            local_loss.append(copy.deepcopy(loss))\n",
    "        # lr = 0.999*lr\n",
    "        # updating the global weights\n",
    "        weights_avg_e = copy.deepcopy(w_encoder[0])\n",
    "        for k in weights_avg_e.keys():\n",
    "            for i in range(1, len(w_encoder)):\n",
    "                weights_avg_e[k] += w_encoder[i][k]\n",
    "\n",
    "            weights_avg_e[k] = torch.div(weights_avg_e[k], len(w_encoder))\n",
    "\n",
    "        global_encoder_weights = weights_avg_e\n",
    "\n",
    "        weights_avg_d = copy.deepcopy(w_decoder[0])\n",
    "        for k in weights_avg_d.keys():\n",
    "            for i in range(1, len(w_decoder)):\n",
    "                weights_avg_d[k] += w_decoder[i][k]\n",
    "\n",
    "            weights_avg_d[k] = torch.div(weights_avg_d[k], len(w_decoder))\n",
    "\n",
    "        global_decoder_weights = weights_avg_d\n",
    "        \n",
    "\n",
    "        # if curr_round == 200:\n",
    "        #     lr = lr / 2\n",
    "        #     E = E - 1\n",
    "\n",
    "        # if curr_round == 300:\n",
    "        #     lr = lr / 2\n",
    "        #     E = E - 2\n",
    "\n",
    "        # if curr_round == 400:\n",
    "        #     lr = lr / 5\n",
    "        #     E = E - 3\n",
    "\n",
    "        # move the updated weights to our model state dict\n",
    "        # encoder.load_state_dict(global_encoder_weights)\n",
    "        # decoder.load_state_dict(global_decoder_weights)\n",
    "\n",
    "        # loss\n",
    "        loss_avg = sum(local_loss) / len(local_loss)\n",
    "        # print('Round: {}... \\tAverage Loss: {}'.format(curr_round, round(loss_avg, 3)), lr)\n",
    "        train_loss.append(loss_avg)\n",
    "\n",
    "        # t_accuracy, t_loss = testing(model, cifar_data_test, test_batch_size, criterion, num_classes, classes_test)\n",
    "        # test_accuracy.append(t_accuracy)\n",
    "        # test_loss.append(t_loss)\n",
    "\n",
    "        # if best_accuracy < t_accuracy:\n",
    "        #     best_accuracy = t_accuracy\n",
    "        # # torch.save(model.state_dict(), plt_title)\n",
    "        # print(curr_round, loss_avg, t_loss, test_accuracy[0], best_accuracy)\n",
    "        # # print('best_accuracy:', best_accuracy, '---Round:', curr_round, '---lr', lr, '----localEpocs--', E)\n",
    "        bleu = evaluateBleu(encoders[0], decoders[0], input_output_lang[0][0], input_output_lang[0][1])\n",
    "        print(f\"Round {curr_round} >> Loss: {loss_avg}, BLEU:{bleu}\")\n",
    "\n",
    "    end = time.time()\n",
    "    print(\"Training Done!\")\n",
    "    print(\"Total time taken to Train: {}\".format(end - start))\n",
    "\n",
    "    return global_encoder_weights, global_decoder_weights"
   ]
  },
  {
   "attachments": {},
   "cell_type": "markdown",
   "metadata": {},
   "source": [
    "Training and Evaluating\n",
    "=======================\n",
    "\n",
    "With all these helper functions in place (it looks like extra work, but\n",
    "it makes it easier to run multiple experiments) we can actually\n",
    "initialize a network and start training.\n",
    "\n",
    "Remember that the input sentences were heavily filtered. For this small\n",
    "dataset we can use relatively small networks of 256 hidden nodes and a\n",
    "single GRU layer. After about 40 minutes on a MacBook CPU we\\'ll get\n",
    "some reasonable results.\n",
    "\n",
    "<div style=\"background-color: #54c7ec; color: #fff; font-weight: 700; padding-left: 10px; padding-top: 5px; padding-bottom: 5px\"><strong>NOTE:</strong></div>\n",
    "<div style=\"background-color: #f3f4f7; padding-left: 10px; padding-top: 10px; padding-bottom: 10px; padding-right: 10px\">\n",
    "<p>If you run this notebook you can train, interrupt the kernel,evaluate, and continue training later. Comment out the lines where theencoder and decoder are initialized and run <code>trainIters</code> again.</p>\n",
    "</div>\n"
   ]
  },
  {
   "cell_type": "code",
   "execution_count": 19,
   "metadata": {},
   "outputs": [
    {
     "name": "stdout",
     "output_type": "stream",
     "text": [
      "Reading lines...\n",
      "Read 118121 sentence pairs\n",
      "Trimmed to 7865 sentence pairs\n",
      "Counting words...\n",
      "Counted words:\n",
      "spa 4027\n",
      "eng 2809\n"
     ]
    }
   ],
   "source": [
    "hidden_size = 128\n",
    "batch_size = 32\n",
    "input_lang, output_lang, train_dataloader = get_dataloader(batch_size, language='spa')"
   ]
  },
  {
   "cell_type": "code",
   "execution_count": 132,
   "metadata": {},
   "outputs": [
    {
     "name": "stdout",
     "output_type": "stream",
     "text": [
      "Reading lines...\n",
      "Read 118121 sentence pairs\n",
      "Trimmed to 7865 sentence pairs\n",
      "Counting words...\n",
      "Counted words:\n",
      "spa 4027\n",
      "eng 2809\n",
      "Reading lines...\n",
      "Read 135842 sentence pairs\n",
      "Trimmed to 11445 sentence pairs\n",
      "Counting words...\n",
      "Counted words:\n",
      "fra 4601\n",
      "eng 2991\n"
     ]
    }
   ],
   "source": [
    "data_dict = {}\n",
    "encoders = {}\n",
    "decoders = {}\n",
    "input_output_lang = {}\n",
    "K = 2\n",
    "langs = ['spa', 'fra']\n",
    "for i in range(K):\n",
    "    input_lang, output_lang, train_dataloader = get_dataloader(batch_size, language=langs[i])\n",
    "    data_dict[i] = train_dataloader\n",
    "    encoders[i] = EncoderRNN(input_lang.n_words, hidden_size).to(device)\n",
    "    decoders[i] = AttnDecoderRNN(hidden_size, output_lang.n_words).to(device)\n",
    "    input_output_lang[i] = (input_lang, output_lang)"
   ]
  },
  {
   "cell_type": "code",
   "execution_count": 115,
   "metadata": {},
   "outputs": [
    {
     "data": {
      "text/plain": [
       "{'attention.Wa.weight': tensor([[ 0.0028,  0.1289, -0.0854,  ...,  0.1292,  0.0138, -0.0411],\n",
       "         [ 0.0424, -0.0807,  0.0386,  ..., -0.1349, -0.0329,  0.0228],\n",
       "         [ 0.0049,  0.0587, -0.0847,  ...,  0.1040, -0.0161, -0.0710],\n",
       "         ...,\n",
       "         [-0.0861, -0.1002,  0.0146,  ..., -0.0316,  0.1175,  0.0589],\n",
       "         [ 0.1097,  0.1179, -0.0775,  ...,  0.0322, -0.1040, -0.0281],\n",
       "         [ 0.0393, -0.0732,  0.1160,  ..., -0.1458,  0.0287,  0.0583]],\n",
       "        device='cuda:0'),\n",
       " 'attention.Wa.bias': tensor([ 0.0289,  0.0213,  0.0299, -0.0652, -0.0777,  0.0528, -0.0882, -0.0590,\n",
       "          0.0925, -0.0817, -0.0781,  0.0088,  0.0469, -0.0901, -0.0825, -0.0392,\n",
       "          0.0552,  0.0412,  0.0735, -0.0791, -0.0657,  0.0313,  0.1014,  0.0897,\n",
       "          0.0961,  0.1087, -0.0479, -0.0792, -0.0358,  0.0220, -0.0612,  0.0944,\n",
       "          0.1075, -0.0172,  0.0397, -0.0053,  0.0671,  0.0617,  0.0123,  0.0109,\n",
       "         -0.0139, -0.0263,  0.0111, -0.0954, -0.0288,  0.0002, -0.0253,  0.0821,\n",
       "         -0.0006,  0.0442, -0.0242,  0.0314,  0.0304, -0.0803, -0.0050,  0.0058,\n",
       "          0.0405, -0.0521,  0.0037, -0.0392, -0.0782, -0.0661, -0.0921, -0.0082,\n",
       "         -0.0714,  0.0313,  0.0838,  0.0338,  0.1071,  0.0226,  0.0035,  0.0470,\n",
       "         -0.0664, -0.0756,  0.0047, -0.0594,  0.0657,  0.0039, -0.0146,  0.0937,\n",
       "         -0.0099, -0.0468,  0.0531,  0.0657, -0.0277, -0.0544, -0.0786,  0.0562,\n",
       "         -0.0579,  0.0015,  0.0188,  0.0891, -0.0166, -0.0651, -0.0672,  0.0499,\n",
       "          0.0144,  0.0263, -0.0557, -0.0232, -0.0849,  0.0410,  0.0241, -0.0015,\n",
       "         -0.0105, -0.0497, -0.0946, -0.0232,  0.0720,  0.0508, -0.0208,  0.0542,\n",
       "          0.0090,  0.0928,  0.0290, -0.0701, -0.0463,  0.0943, -0.0894,  0.0844,\n",
       "          0.0318, -0.0976,  0.0959,  0.0136,  0.0332,  0.1016, -0.0905,  0.0770],\n",
       "        device='cuda:0'),\n",
       " 'attention.Ua.weight': tensor([[ 0.0304,  0.0526,  0.0332,  ...,  0.0263, -0.0955, -0.0676],\n",
       "         [-0.0604, -0.0820,  0.0101,  ...,  0.0173,  0.0234,  0.0002],\n",
       "         [ 0.0582,  0.0973, -0.0705,  ..., -0.0509, -0.0368, -0.0871],\n",
       "         ...,\n",
       "         [-0.0196, -0.0512, -0.0668,  ..., -0.0363,  0.0267,  0.1010],\n",
       "         [ 0.0555,  0.0179, -0.0769,  ..., -0.0155, -0.0518, -0.0834],\n",
       "         [-0.0792,  0.0139, -0.0687,  ..., -0.0495,  0.1055,  0.0139]],\n",
       "        device='cuda:0'),\n",
       " 'attention.Ua.bias': tensor([ 0.0573,  0.0794,  0.0597, -0.0282, -0.0727,  0.0980, -0.0947, -0.0005,\n",
       "          0.0960, -0.0588,  0.0312, -0.0358,  0.0668,  0.0388, -0.0151, -0.0434,\n",
       "          0.0902,  0.0602, -0.0501, -0.0785, -0.0261, -0.0877, -0.0603,  0.0829,\n",
       "          0.1092, -0.0571, -0.0481, -0.0613, -0.0097, -0.0590, -0.0970,  0.0755,\n",
       "          0.0941,  0.0892, -0.0584,  0.0781, -0.0407,  0.0046,  0.0223,  0.1064,\n",
       "         -0.0395, -0.0770, -0.0489,  0.0116,  0.0071, -0.0185, -0.0223,  0.0483,\n",
       "          0.0367,  0.0261, -0.0232,  0.0594,  0.0095, -0.0431, -0.0129,  0.0120,\n",
       "         -0.0270, -0.0952,  0.0218, -0.0495, -0.0157,  0.0732, -0.0706, -0.0235,\n",
       "          0.0654, -0.0177, -0.0511,  0.0030,  0.0060,  0.0423, -0.0165,  0.0548,\n",
       "          0.0729,  0.0608, -0.0663,  0.0117, -0.0467, -0.0349, -0.0439,  0.0301,\n",
       "          0.0295,  0.0694,  0.0103,  0.0880,  0.0466, -0.0886, -0.0823,  0.0605,\n",
       "         -0.0634,  0.0540,  0.0160, -0.0374,  0.0526,  0.0239, -0.0457, -0.0421,\n",
       "          0.0508, -0.0193, -0.0132,  0.0401, -0.0210, -0.0783,  0.0016,  0.0479,\n",
       "          0.0850,  0.0320, -0.0993, -0.0468, -0.0272, -0.0552,  0.0463,  0.0074,\n",
       "          0.0154, -0.0216,  0.0135,  0.0608,  0.0533,  0.0264,  0.0495,  0.0836,\n",
       "         -0.0337, -0.0727, -0.0460,  0.0495, -0.0669,  0.0353,  0.0035, -0.0405],\n",
       "        device='cuda:0'),\n",
       " 'attention.Va.weight': tensor([[-0.0859,  0.0692, -0.0760, -0.0228, -0.0491,  0.0495, -0.0141, -0.0943,\n",
       "           0.0600, -0.0852,  0.0657,  0.0845,  0.0463, -0.0323, -0.0584, -0.0719,\n",
       "           0.0262,  0.1010, -0.0374, -0.0454,  0.0321, -0.0730,  0.0920,  0.0373,\n",
       "          -0.0380,  0.0915,  0.0488,  0.0638,  0.0716,  0.0999, -0.0723,  0.0224,\n",
       "           0.0633,  0.0487, -0.0580,  0.0508,  0.0604,  0.0476,  0.0444,  0.0796,\n",
       "           0.0908, -0.0521, -0.0408, -0.0355, -0.0550,  0.0533, -0.0615, -0.0460,\n",
       "           0.0108, -0.0657, -0.0604, -0.0876, -0.0663, -0.0447, -0.0914,  0.0580,\n",
       "           0.0488, -0.0416,  0.0409, -0.0306, -0.0310, -0.0208, -0.0388,  0.0678,\n",
       "           0.0703, -0.0716,  0.0378,  0.0519,  0.0746, -0.0418, -0.0310, -0.0788,\n",
       "           0.1042, -0.0392, -0.0243,  0.0256,  0.0153,  0.0435,  0.0391,  0.0771,\n",
       "          -0.0756,  0.0683,  0.0298,  0.0022,  0.0259, -0.0592, -0.0164,  0.0557,\n",
       "           0.0284,  0.0866, -0.0934,  0.0689,  0.0649, -0.0209, -0.0253,  0.0752,\n",
       "          -0.0313,  0.0578, -0.0560, -0.0920, -0.0742, -0.0345, -0.0680, -0.0202,\n",
       "          -0.0728, -0.0995, -0.0317, -0.0523, -0.0298, -0.0254, -0.0498, -0.0402,\n",
       "           0.0823,  0.0705, -0.0533, -0.0302,  0.1004,  0.0155,  0.0315,  0.0848,\n",
       "          -0.1025, -0.0354,  0.0361,  0.0432, -0.0371,  0.0628, -0.0193,  0.0061]],\n",
       "        device='cuda:0'),\n",
       " 'attention.Va.bias': tensor([-0.0505], device='cuda:0'),\n",
       " 'gru.weight_ih_l0': tensor([[-0.0289,  0.0505, -0.0830,  ...,  0.0154,  0.0592,  0.1004],\n",
       "         [ 0.0113, -0.0500, -0.0011,  ..., -0.0488,  0.0034,  0.0064],\n",
       "         [-0.0353, -0.0446,  0.0057,  ..., -0.0043,  0.0495,  0.0909],\n",
       "         ...,\n",
       "         [ 0.0936, -0.0425,  0.0361,  ...,  0.0358,  0.0769,  0.0844],\n",
       "         [ 0.0414,  0.0270, -0.0437,  ..., -0.0065,  0.0106,  0.0004],\n",
       "         [-0.0648, -0.0377,  0.0241,  ...,  0.0514,  0.0618, -0.0008]],\n",
       "        device='cuda:0'),\n",
       " 'gru.weight_hh_l0': tensor([[-0.0765, -0.0698, -0.0053,  ...,  0.0401,  0.1008,  0.0731],\n",
       "         [ 0.0735,  0.0035,  0.0771,  ..., -0.0332, -0.0083, -0.0481],\n",
       "         [ 0.0513, -0.0280, -0.0489,  ..., -0.0067, -0.0586,  0.0495],\n",
       "         ...,\n",
       "         [-0.0486, -0.0174, -0.0631,  ...,  0.1142, -0.0963, -0.0667],\n",
       "         [ 0.0404, -0.0286, -0.0385,  ..., -0.0503,  0.0641, -0.0038],\n",
       "         [-0.0865, -0.0938,  0.0219,  ..., -0.1383,  0.0309,  0.1378]],\n",
       "        device='cuda:0'),\n",
       " 'gru.bias_ih_l0': tensor([-0.0306,  0.0827,  0.0370, -0.0533,  0.0079, -0.0415,  0.0908, -0.0602,\n",
       "          0.0697,  0.0814,  0.0139, -0.0722,  0.0407,  0.0595,  0.0517, -0.0033,\n",
       "          0.0072, -0.0832,  0.0014, -0.0496,  0.0836, -0.0762,  0.0340,  0.0464,\n",
       "         -0.0829,  0.0700,  0.0456, -0.0020, -0.0696, -0.0485,  0.0683,  0.0023,\n",
       "          0.0983,  0.0556,  0.0680, -0.0633,  0.0987,  0.1061,  0.0044,  0.0314,\n",
       "          0.0944, -0.0781,  0.0611, -0.0562,  0.0377,  0.0112,  0.0771, -0.0466,\n",
       "          0.0986,  0.0609,  0.0256,  0.0752,  0.0995,  0.0949,  0.0423,  0.0618,\n",
       "         -0.0046, -0.0375,  0.0128,  0.0468,  0.0341,  0.0323, -0.0839, -0.0105,\n",
       "         -0.0130, -0.0407, -0.0055,  0.0704,  0.0357, -0.0451, -0.0035,  0.0119,\n",
       "          0.0575,  0.0614, -0.0467,  0.0931,  0.0730,  0.0657,  0.0486, -0.0086,\n",
       "          0.0498, -0.0123,  0.0629,  0.0782,  0.0367,  0.0269,  0.0329, -0.0439,\n",
       "          0.0393, -0.0194, -0.0474,  0.0405, -0.0529, -0.0626,  0.0755, -0.0347,\n",
       "         -0.0666,  0.0089, -0.0180, -0.1023,  0.0077,  0.0740,  0.0751, -0.0601,\n",
       "          0.0281,  0.0686,  0.0351,  0.0019,  0.0722,  0.0152,  0.0197,  0.0531,\n",
       "          0.0253, -0.0449, -0.0613, -0.0823,  0.0687, -0.0197,  0.0716, -0.0764,\n",
       "          0.0208, -0.0655, -0.0470, -0.0600, -0.0626,  0.0580,  0.0006,  0.0785,\n",
       "         -0.0356, -0.0477, -0.0866, -0.0486,  0.0395, -0.1004, -0.0406, -0.0290,\n",
       "         -0.0127,  0.0510,  0.0235, -0.1155, -0.0032, -0.0386,  0.0498,  0.0010,\n",
       "         -0.0053,  0.0045,  0.0216,  0.0586,  0.0146, -0.0917, -0.0306, -0.0046,\n",
       "         -0.0867,  0.0211, -0.0636, -0.0018, -0.0469, -0.0426, -0.0818,  0.0053,\n",
       "         -0.0065,  0.0618, -0.0432,  0.0553,  0.0662,  0.0283, -0.0592,  0.0408,\n",
       "          0.0414, -0.1148, -0.0012, -0.0374,  0.0372, -0.0196, -0.0064,  0.0603,\n",
       "          0.0318,  0.0348,  0.0503,  0.0450, -0.0118, -0.0537, -0.0826, -0.0290,\n",
       "          0.0687, -0.0008, -0.0984,  0.0675, -0.0596, -0.0705, -0.1107, -0.0923,\n",
       "         -0.0142, -0.0673, -0.1202, -0.0859, -0.0778, -0.0640, -0.0826, -0.0916,\n",
       "          0.0368, -0.0499,  0.0334, -0.0064,  0.0763,  0.0143,  0.0464,  0.0512,\n",
       "         -0.0882, -0.0641, -0.0475, -0.0087, -0.0269,  0.0629, -0.0920, -0.0162,\n",
       "          0.0645, -0.0392, -0.0630, -0.0005,  0.0499, -0.0292, -0.0314,  0.0062,\n",
       "         -0.0126, -0.0329, -0.0862, -0.0006, -0.0211,  0.0499, -0.0186,  0.0215,\n",
       "          0.0421, -0.0210,  0.0458,  0.0244, -0.0220, -0.0668, -0.0430, -0.0029,\n",
       "         -0.0404,  0.0474, -0.0130, -0.0388, -0.0064, -0.0534, -0.0402, -0.0471,\n",
       "          0.0103, -0.0456,  0.0498, -0.0513, -0.0307, -0.0093,  0.0480,  0.0524,\n",
       "         -0.0535, -0.0799,  0.0189, -0.0287, -0.0335, -0.0222, -0.0005, -0.0044,\n",
       "         -0.0499,  0.0892, -0.0270, -0.0456, -0.0164, -0.0543,  0.0341,  0.0507,\n",
       "         -0.0602,  0.0813,  0.0522,  0.0253, -0.0783, -0.0785,  0.0520,  0.0292,\n",
       "         -0.0730,  0.0273,  0.0345, -0.0273, -0.0610, -0.0210, -0.0475,  0.0098,\n",
       "          0.0173, -0.0589, -0.0365,  0.0518,  0.0685, -0.0625,  0.0394,  0.0379,\n",
       "         -0.0465,  0.0796, -0.0286,  0.0514,  0.0609,  0.0734,  0.0077, -0.0126,\n",
       "         -0.0136, -0.0688, -0.0196, -0.0534,  0.0203,  0.1049, -0.0410, -0.0341,\n",
       "          0.0422,  0.0616, -0.0880,  0.0763,  0.0090, -0.0189,  0.0760,  0.0744,\n",
       "         -0.1035,  0.0014, -0.0379, -0.0329, -0.0758,  0.0447, -0.0848, -0.0172,\n",
       "         -0.0749, -0.0231, -0.0523, -0.0256, -0.0623, -0.0098,  0.0495, -0.0447,\n",
       "          0.0791, -0.0603,  0.0665, -0.0238, -0.0397, -0.0727, -0.0274, -0.0261,\n",
       "          0.0373,  0.0571, -0.0316, -0.0238, -0.0211,  0.0304,  0.0816, -0.0536,\n",
       "          0.0415, -0.0924,  0.0029,  0.0376, -0.0659, -0.0566,  0.0302, -0.0616,\n",
       "         -0.0066,  0.0129, -0.0096,  0.0073,  0.1117, -0.0255, -0.0048,  0.0474,\n",
       "          0.0248, -0.0234, -0.0300, -0.0576,  0.0223,  0.0416,  0.0666,  0.0286,\n",
       "         -0.0084,  0.0419, -0.0145, -0.0521, -0.1028,  0.0347,  0.0040,  0.0463],\n",
       "        device='cuda:0'),\n",
       " 'gru.bias_hh_l0': tensor([ 0.0458, -0.0117,  0.0193, -0.0563, -0.0297, -0.0748,  0.0166,  0.0216,\n",
       "         -0.0603,  0.0697,  0.0532, -0.0503, -0.0240,  0.0654,  0.0602, -0.0269,\n",
       "          0.0512,  0.0654, -0.0029,  0.0377, -0.0269,  0.0243,  0.1126, -0.0455,\n",
       "         -0.0317,  0.0008,  0.0568, -0.0774,  0.0566, -0.0538,  0.0800,  0.0395,\n",
       "          0.0750,  0.0506,  0.0192,  0.0518, -0.0125, -0.0332,  0.0876,  0.0418,\n",
       "          0.0174, -0.0723,  0.0569,  0.0532, -0.0542, -0.0854,  0.0859,  0.0103,\n",
       "          0.0483, -0.0326,  0.0664,  0.0068, -0.0030,  0.0022, -0.0255,  0.0426,\n",
       "          0.0715, -0.0834,  0.1074, -0.0664,  0.0705, -0.0656, -0.0548,  0.0001,\n",
       "         -0.0329, -0.0397, -0.0277,  0.0949,  0.0183, -0.0150,  0.0795,  0.0656,\n",
       "          0.0711, -0.0914,  0.0519,  0.0016, -0.0771,  0.0409, -0.0069, -0.0260,\n",
       "          0.0787, -0.0591,  0.0345, -0.0903, -0.0008,  0.0878,  0.0030,  0.0067,\n",
       "         -0.0714,  0.1066, -0.0332,  0.0304,  0.1041, -0.0180,  0.0376, -0.0109,\n",
       "          0.0103,  0.0600,  0.0288, -0.0628,  0.0643,  0.0356,  0.0240,  0.1040,\n",
       "         -0.0065,  0.0644,  0.0309, -0.0106,  0.0463, -0.0202, -0.0144, -0.0448,\n",
       "          0.0091, -0.0805, -0.0432, -0.0663, -0.0257,  0.0676,  0.0347, -0.0129,\n",
       "         -0.0490,  0.0117,  0.0164,  0.0829,  0.0125,  0.0063, -0.0516,  0.0033,\n",
       "         -0.0269,  0.0055,  0.0686,  0.0036, -0.0534,  0.0525, -0.0470, -0.1205,\n",
       "          0.0324,  0.0131,  0.0437, -0.0476,  0.0183, -0.1107,  0.0554, -0.0874,\n",
       "          0.0275, -0.0897, -0.0362, -0.0867, -0.0197, -0.0460, -0.0900, -0.0729,\n",
       "         -0.1039, -0.0080,  0.0673,  0.0355, -0.0060,  0.0316, -0.0081,  0.0215,\n",
       "          0.0265,  0.0197, -0.0537, -0.0663, -0.0014, -0.0843, -0.0259,  0.0320,\n",
       "         -0.0253, -0.0540,  0.0082, -0.0422, -0.0444, -0.0433, -0.0234,  0.0409,\n",
       "         -0.0506,  0.0784,  0.0831,  0.0070,  0.0508, -0.0960, -0.0613, -0.0170,\n",
       "         -0.0788, -0.0333, -0.0943, -0.0215, -0.0141, -0.0859, -0.1184, -0.0743,\n",
       "          0.0482, -0.0416, -0.0895,  0.0550, -0.0868,  0.0340,  0.0849,  0.0562,\n",
       "          0.0902, -0.0126, -0.0175,  0.0086, -0.0639,  0.0018, -0.0318,  0.0301,\n",
       "         -0.0871, -0.0699, -0.0406,  0.0046,  0.0634,  0.0193, -0.0404,  0.0489,\n",
       "          0.0534, -0.0877,  0.0572, -0.0146, -0.0629, -0.0120,  0.0796,  0.0703,\n",
       "         -0.0817,  0.0411, -0.0944,  0.0343, -0.0638, -0.0996,  0.0136, -0.0692,\n",
       "          0.0206,  0.0247,  0.0325,  0.0134,  0.0236, -0.0541,  0.0752, -0.1183,\n",
       "         -0.0371, -0.1133,  0.0184,  0.0199, -0.0665,  0.0189, -0.0363,  0.0506,\n",
       "         -0.1207, -0.0006, -0.0366, -0.0555, -0.0482, -0.0674,  0.0135,  0.0227,\n",
       "         -0.0040, -0.0218,  0.0253, -0.0239, -0.0624,  0.0219, -0.0285,  0.0575,\n",
       "          0.1054, -0.0628, -0.0655, -0.0245,  0.0218, -0.0520,  0.0841,  0.0598,\n",
       "          0.0324, -0.0459, -0.0947,  0.0101, -0.0372,  0.1294, -0.0215,  0.0280,\n",
       "          0.0242,  0.0867, -0.0172, -0.0182,  0.0265,  0.0873, -0.0484, -0.1010,\n",
       "         -0.0645,  0.0058,  0.0569, -0.0068, -0.0674, -0.0850, -0.0784,  0.0667,\n",
       "         -0.0441, -0.0272, -0.0716, -0.0444,  0.0401, -0.0323, -0.0567, -0.0447,\n",
       "         -0.0469,  0.0678,  0.0499, -0.0017,  0.0515,  0.0758, -0.1256, -0.1044,\n",
       "          0.0603,  0.0849,  0.0518,  0.0288, -0.0216,  0.0068, -0.0750,  0.0086,\n",
       "         -0.0378,  0.0744, -0.1117, -0.0142, -0.0454, -0.1055,  0.0386, -0.0203,\n",
       "          0.0004,  0.0176,  0.0652,  0.0659, -0.1312,  0.0479,  0.0703,  0.0929,\n",
       "         -0.0490, -0.0112, -0.0445, -0.0567, -0.0141, -0.0878, -0.0393,  0.0076,\n",
       "         -0.0558,  0.0718, -0.0216, -0.0087, -0.0184, -0.1087, -0.0478,  0.0008,\n",
       "         -0.0532, -0.0117,  0.0557,  0.0154, -0.0113, -0.0656, -0.0259, -0.0026,\n",
       "         -0.0394,  0.0049,  0.0383,  0.0068,  0.0446,  0.0076,  0.0755,  0.0365,\n",
       "         -0.0352, -0.0557,  0.0351, -0.0291, -0.0144, -0.0625,  0.0725,  0.0163,\n",
       "         -0.0524, -0.0661, -0.0119,  0.0396, -0.0468,  0.0737, -0.0585,  0.0762],\n",
       "        device='cuda:0')}"
      ]
     },
     "execution_count": 115,
     "metadata": {},
     "output_type": "execute_result"
    }
   ],
   "source": [
    "st = {key: value for key, value in encoders[0].state_dict().items() if 'embedding' not in key}\n",
    "st2 = {key: value for key, value in decoders[0].state_dict().items() if 'embedding' not in key and 'out' not in key}\n",
    "st2"
   ]
  },
  {
   "cell_type": "code",
   "execution_count": 113,
   "metadata": {},
   "outputs": [
    {
     "data": {
      "text/plain": [
       "AttnDecoderRNN(\n",
       "  (embedding): Embedding(2991, 128)\n",
       "  (attention): BahdanauAttention(\n",
       "    (Wa): Linear(in_features=128, out_features=128, bias=True)\n",
       "    (Ua): Linear(in_features=128, out_features=128, bias=True)\n",
       "    (Va): Linear(in_features=128, out_features=1, bias=True)\n",
       "  )\n",
       "  (gru): GRU(256, 128, batch_first=True)\n",
       "  (out): Linear(in_features=128, out_features=2991, bias=True)\n",
       "  (dropout): Dropout(p=0.1, inplace=False)\n",
       ")"
      ]
     },
     "execution_count": 113,
     "metadata": {},
     "output_type": "execute_result"
    }
   ],
   "source": [
    "decoder"
   ]
  },
  {
   "cell_type": "code",
   "execution_count": 50,
   "metadata": {},
   "outputs": [],
   "source": [
    "encoders[1].state_dict().update(st)"
   ]
  },
  {
   "cell_type": "code",
   "execution_count": 61,
   "metadata": {},
   "outputs": [],
   "source": [
    "decoders[1].state_dict().update(st2)"
   ]
  },
  {
   "cell_type": "code",
   "execution_count": 59,
   "metadata": {},
   "outputs": [
    {
     "data": {
      "text/plain": [
       "2809"
      ]
     },
     "execution_count": 59,
     "metadata": {},
     "output_type": "execute_result"
    }
   ],
   "source": [
    "len(st2['out.weight'])"
   ]
  },
  {
   "cell_type": "code",
   "execution_count": 56,
   "metadata": {},
   "outputs": [
    {
     "name": "stdout",
     "output_type": "stream",
     "text": [
      "AttnDecoderRNN(\n",
      "  (embedding): Embedding(2809, 128)\n",
      "  (attention): BahdanauAttention(\n",
      "    (Wa): Linear(in_features=128, out_features=128, bias=True)\n",
      "    (Ua): Linear(in_features=128, out_features=128, bias=True)\n",
      "    (Va): Linear(in_features=128, out_features=1, bias=True)\n",
      "  )\n",
      "  (gru): GRU(256, 128, batch_first=True)\n",
      "  (out): Linear(in_features=128, out_features=2809, bias=True)\n",
      "  (dropout): Dropout(p=0.1, inplace=False)\n",
      ")\n"
     ]
    }
   ],
   "source": [
    "print(decoders[0])"
   ]
  },
  {
   "cell_type": "code",
   "execution_count": 82,
   "metadata": {},
   "outputs": [],
   "source": [
    "global_encoder_weights = {key: value for key, value in encoders[0].state_dict().items() if 'embedding' not in key}"
   ]
  },
  {
   "cell_type": "code",
   "execution_count": 101,
   "metadata": {},
   "outputs": [
    {
     "data": {
      "text/plain": [
       "<All keys matched successfully>"
      ]
     },
     "execution_count": 101,
     "metadata": {},
     "output_type": "execute_result"
    }
   ],
   "source": [
    "new = (encoders[0].state_dict())\n",
    "new.update(global_encoder_weights)\n",
    "encoders[0].load_state_dict(new)"
   ]
  },
  {
   "cell_type": "code",
   "execution_count": 55,
   "metadata": {},
   "outputs": [
    {
     "name": "stdout",
     "output_type": "stream",
     "text": [
      "AttnDecoderRNN(\n",
      "  (embedding): Embedding(2991, 128)\n",
      "  (attention): BahdanauAttention(\n",
      "    (Wa): Linear(in_features=128, out_features=128, bias=True)\n",
      "    (Ua): Linear(in_features=128, out_features=128, bias=True)\n",
      "    (Va): Linear(in_features=128, out_features=1, bias=True)\n",
      "  )\n",
      "  (gru): GRU(256, 128, batch_first=True)\n",
      "  (out): Linear(in_features=128, out_features=2991, bias=True)\n",
      "  (dropout): Dropout(p=0.1, inplace=False)\n",
      ")\n"
     ]
    }
   ],
   "source": [
    "print(decoders[1])"
   ]
  },
  {
   "cell_type": "code",
   "execution_count": 133,
   "metadata": {
    "collapsed": false
   },
   "outputs": [
    {
     "name": "stderr",
     "output_type": "stream",
     "text": [
      "100%|██████████| 2/2 [00:04<00:00,  2.18s/it]\n"
     ]
    },
    {
     "name": "stdout",
     "output_type": "stream",
     "text": [
      "Round 1 >> Loss: 2.683763378857754, BLEU:0.0\n"
     ]
    },
    {
     "name": "stderr",
     "output_type": "stream",
     "text": [
      "100%|██████████| 2/2 [00:04<00:00,  2.22s/it]\n"
     ]
    },
    {
     "name": "stdout",
     "output_type": "stream",
     "text": [
      "Round 2 >> Loss: 1.9128701819133416, BLEU:0.0\n"
     ]
    },
    {
     "name": "stderr",
     "output_type": "stream",
     "text": [
      "100%|██████████| 2/2 [00:04<00:00,  2.20s/it]\n"
     ]
    },
    {
     "name": "stdout",
     "output_type": "stream",
     "text": [
      "Round 3 >> Loss: 1.651489655480006, BLEU:0.09079792350530624\n"
     ]
    },
    {
     "name": "stderr",
     "output_type": "stream",
     "text": [
      "100%|██████████| 2/2 [00:04<00:00,  2.36s/it]\n"
     ]
    },
    {
     "name": "stdout",
     "output_type": "stream",
     "text": [
      "Round 4 >> Loss: 1.4809812564001306, BLEU:0.14641490578651428\n"
     ]
    },
    {
     "name": "stderr",
     "output_type": "stream",
     "text": [
      "100%|██████████| 2/2 [00:04<00:00,  2.40s/it]\n"
     ]
    },
    {
     "name": "stdout",
     "output_type": "stream",
     "text": [
      "Round 5 >> Loss: 1.3509313125925904, BLEU:0.18616071343421936\n"
     ]
    },
    {
     "name": "stderr",
     "output_type": "stream",
     "text": [
      "100%|██████████| 2/2 [00:04<00:00,  2.27s/it]\n"
     ]
    },
    {
     "name": "stdout",
     "output_type": "stream",
     "text": [
      "Round 6 >> Loss: 1.2425065000981896, BLEU:0.2723269760608673\n"
     ]
    },
    {
     "name": "stderr",
     "output_type": "stream",
     "text": [
      "100%|██████████| 2/2 [00:04<00:00,  2.27s/it]\n"
     ]
    },
    {
     "name": "stdout",
     "output_type": "stream",
     "text": [
      "Round 7 >> Loss: 1.1520150380989356, BLEU:0.0\n"
     ]
    },
    {
     "name": "stderr",
     "output_type": "stream",
     "text": [
      "100%|██████████| 2/2 [00:04<00:00,  2.26s/it]\n"
     ]
    },
    {
     "name": "stdout",
     "output_type": "stream",
     "text": [
      "Round 8 >> Loss: 1.0727315743107741, BLEU:0.19449825584888458\n"
     ]
    },
    {
     "name": "stderr",
     "output_type": "stream",
     "text": [
      "100%|██████████| 2/2 [00:04<00:00,  2.27s/it]\n"
     ]
    },
    {
     "name": "stdout",
     "output_type": "stream",
     "text": [
      "Round 9 >> Loss: 1.0023805326241781, BLEU:0.11833224445581436\n"
     ]
    },
    {
     "name": "stderr",
     "output_type": "stream",
     "text": [
      "100%|██████████| 2/2 [00:04<00:00,  2.19s/it]\n"
     ]
    },
    {
     "name": "stdout",
     "output_type": "stream",
     "text": [
      "Round 10 >> Loss: 0.9402925242353601, BLEU:0.2793966233730316\n"
     ]
    },
    {
     "name": "stderr",
     "output_type": "stream",
     "text": [
      "100%|██████████| 2/2 [00:04<00:00,  2.23s/it]\n"
     ]
    },
    {
     "name": "stdout",
     "output_type": "stream",
     "text": [
      "Round 11 >> Loss: 0.8867182738795758, BLEU:0.22884994745254517\n"
     ]
    },
    {
     "name": "stderr",
     "output_type": "stream",
     "text": [
      "100%|██████████| 2/2 [00:04<00:00,  2.26s/it]\n"
     ]
    },
    {
     "name": "stdout",
     "output_type": "stream",
     "text": [
      "Round 12 >> Loss: 0.8367632566246705, BLEU:0.3849247992038727\n"
     ]
    },
    {
     "name": "stderr",
     "output_type": "stream",
     "text": [
      "100%|██████████| 2/2 [00:04<00:00,  2.25s/it]\n"
     ]
    },
    {
     "name": "stdout",
     "output_type": "stream",
     "text": [
      "Round 13 >> Loss: 0.7903547296712956, BLEU:0.4406414330005646\n"
     ]
    },
    {
     "name": "stderr",
     "output_type": "stream",
     "text": [
      "100%|██████████| 2/2 [00:04<00:00,  2.25s/it]\n"
     ]
    },
    {
     "name": "stdout",
     "output_type": "stream",
     "text": [
      "Round 14 >> Loss: 0.7536809780571616, BLEU:0.3683950901031494\n"
     ]
    },
    {
     "name": "stderr",
     "output_type": "stream",
     "text": [
      "100%|██████████| 2/2 [00:04<00:00,  2.23s/it]\n"
     ]
    },
    {
     "name": "stdout",
     "output_type": "stream",
     "text": [
      "Round 15 >> Loss: 0.7187811981037407, BLEU:0.1697763055562973\n"
     ]
    },
    {
     "name": "stderr",
     "output_type": "stream",
     "text": [
      "100%|██████████| 2/2 [00:04<00:00,  2.23s/it]\n"
     ]
    },
    {
     "name": "stdout",
     "output_type": "stream",
     "text": [
      "Round 16 >> Loss: 0.6871188102480301, BLEU:0.0\n"
     ]
    },
    {
     "name": "stderr",
     "output_type": "stream",
     "text": [
      "100%|██████████| 2/2 [00:04<00:00,  2.26s/it]\n"
     ]
    },
    {
     "name": "stdout",
     "output_type": "stream",
     "text": [
      "Round 17 >> Loss: 0.6603047164420901, BLEU:0.19627466797828674\n"
     ]
    },
    {
     "name": "stderr",
     "output_type": "stream",
     "text": [
      "100%|██████████| 2/2 [00:04<00:00,  2.33s/it]\n"
     ]
    },
    {
     "name": "stdout",
     "output_type": "stream",
     "text": [
      "Round 18 >> Loss: 0.6368548210444474, BLEU:0.4274728000164032\n"
     ]
    },
    {
     "name": "stderr",
     "output_type": "stream",
     "text": [
      "100%|██████████| 2/2 [00:04<00:00,  2.30s/it]\n"
     ]
    },
    {
     "name": "stdout",
     "output_type": "stream",
     "text": [
      "Round 19 >> Loss: 0.6157729504649004, BLEU:0.21107736229896545\n"
     ]
    },
    {
     "name": "stderr",
     "output_type": "stream",
     "text": [
      "100%|██████████| 2/2 [00:04<00:00,  2.29s/it]\n"
     ]
    },
    {
     "name": "stdout",
     "output_type": "stream",
     "text": [
      "Round 20 >> Loss: 0.5949916711785452, BLEU:0.37970104813575745\n"
     ]
    },
    {
     "name": "stderr",
     "output_type": "stream",
     "text": [
      "100%|██████████| 2/2 [00:04<00:00,  2.28s/it]\n"
     ]
    },
    {
     "name": "stdout",
     "output_type": "stream",
     "text": [
      "Round 21 >> Loss: 0.5777704641703483, BLEU:0.34931042790412903\n"
     ]
    },
    {
     "name": "stderr",
     "output_type": "stream",
     "text": [
      "100%|██████████| 2/2 [00:04<00:00,  2.29s/it]\n"
     ]
    },
    {
     "name": "stdout",
     "output_type": "stream",
     "text": [
      "Round 22 >> Loss: 0.5626545444676739, BLEU:0.34940943121910095\n"
     ]
    },
    {
     "name": "stderr",
     "output_type": "stream",
     "text": [
      "100%|██████████| 2/2 [00:04<00:00,  2.26s/it]\n"
     ]
    },
    {
     "name": "stdout",
     "output_type": "stream",
     "text": [
      "Round 23 >> Loss: 0.5482422556394292, BLEU:0.300968736410141\n"
     ]
    },
    {
     "name": "stderr",
     "output_type": "stream",
     "text": [
      "100%|██████████| 2/2 [00:04<00:00,  2.27s/it]\n"
     ]
    },
    {
     "name": "stdout",
     "output_type": "stream",
     "text": [
      "Round 24 >> Loss: 0.5334918908341699, BLEU:0.336889386177063\n"
     ]
    },
    {
     "name": "stderr",
     "output_type": "stream",
     "text": [
      "100%|██████████| 2/2 [00:04<00:00,  2.27s/it]\n"
     ]
    },
    {
     "name": "stdout",
     "output_type": "stream",
     "text": [
      "Round 25 >> Loss: 0.5208858834415377, BLEU:0.46688857674598694\n"
     ]
    },
    {
     "name": "stderr",
     "output_type": "stream",
     "text": [
      "100%|██████████| 2/2 [00:04<00:00,  2.26s/it]\n"
     ]
    },
    {
     "name": "stdout",
     "output_type": "stream",
     "text": [
      "Round 26 >> Loss: 0.5093375570647747, BLEU:0.3649763762950897\n"
     ]
    },
    {
     "name": "stderr",
     "output_type": "stream",
     "text": [
      "100%|██████████| 2/2 [00:04<00:00,  2.28s/it]\n"
     ]
    },
    {
     "name": "stdout",
     "output_type": "stream",
     "text": [
      "Round 27 >> Loss: 0.4987813112640129, BLEU:0.3052367866039276\n"
     ]
    },
    {
     "name": "stderr",
     "output_type": "stream",
     "text": [
      "100%|██████████| 2/2 [00:04<00:00,  2.26s/it]\n"
     ]
    },
    {
     "name": "stdout",
     "output_type": "stream",
     "text": [
      "Round 28 >> Loss: 0.4874078544357489, BLEU:0.3658507168292999\n"
     ]
    },
    {
     "name": "stderr",
     "output_type": "stream",
     "text": [
      "100%|██████████| 2/2 [00:04<00:00,  2.27s/it]\n"
     ]
    },
    {
     "name": "stdout",
     "output_type": "stream",
     "text": [
      "Round 29 >> Loss: 0.47895126181988845, BLEU:0.24876539409160614\n"
     ]
    },
    {
     "name": "stderr",
     "output_type": "stream",
     "text": [
      "100%|██████████| 2/2 [00:04<00:00,  2.26s/it]\n"
     ]
    },
    {
     "name": "stdout",
     "output_type": "stream",
     "text": [
      "Round 30 >> Loss: 0.4688371408910267, BLEU:0.40561559796333313\n"
     ]
    },
    {
     "name": "stderr",
     "output_type": "stream",
     "text": [
      "100%|██████████| 2/2 [00:04<00:00,  2.29s/it]\n"
     ]
    },
    {
     "name": "stdout",
     "output_type": "stream",
     "text": [
      "Round 31 >> Loss: 0.4598008494480863, BLEU:0.36324572563171387\n"
     ]
    },
    {
     "name": "stderr",
     "output_type": "stream",
     "text": [
      "100%|██████████| 2/2 [00:04<00:00,  2.26s/it]\n"
     ]
    },
    {
     "name": "stdout",
     "output_type": "stream",
     "text": [
      "Round 32 >> Loss: 0.45150167337740293, BLEU:0.3443295359611511\n"
     ]
    },
    {
     "name": "stderr",
     "output_type": "stream",
     "text": [
      "100%|██████████| 2/2 [00:04<00:00,  2.29s/it]\n"
     ]
    },
    {
     "name": "stdout",
     "output_type": "stream",
     "text": [
      "Round 33 >> Loss: 0.44376427332479007, BLEU:0.33127886056900024\n"
     ]
    },
    {
     "name": "stderr",
     "output_type": "stream",
     "text": [
      "100%|██████████| 2/2 [00:04<00:00,  2.30s/it]\n"
     ]
    },
    {
     "name": "stdout",
     "output_type": "stream",
     "text": [
      "Round 34 >> Loss: 0.43452048362118323, BLEU:0.517163872718811\n"
     ]
    },
    {
     "name": "stderr",
     "output_type": "stream",
     "text": [
      "100%|██████████| 2/2 [00:04<00:00,  2.29s/it]\n"
     ]
    },
    {
     "name": "stdout",
     "output_type": "stream",
     "text": [
      "Round 35 >> Loss: 0.42853063398524366, BLEU:0.41165608167648315\n"
     ]
    },
    {
     "name": "stderr",
     "output_type": "stream",
     "text": [
      "100%|██████████| 2/2 [00:04<00:00,  2.28s/it]\n"
     ]
    },
    {
     "name": "stdout",
     "output_type": "stream",
     "text": [
      "Round 36 >> Loss: 0.42268582219474105, BLEU:0.5108720064163208\n"
     ]
    },
    {
     "name": "stderr",
     "output_type": "stream",
     "text": [
      "100%|██████████| 2/2 [00:04<00:00,  2.30s/it]\n"
     ]
    },
    {
     "name": "stdout",
     "output_type": "stream",
     "text": [
      "Round 37 >> Loss: 0.41592876202811657, BLEU:0.444040983915329\n"
     ]
    },
    {
     "name": "stderr",
     "output_type": "stream",
     "text": [
      "100%|██████████| 2/2 [00:04<00:00,  2.31s/it]\n"
     ]
    },
    {
     "name": "stdout",
     "output_type": "stream",
     "text": [
      "Round 38 >> Loss: 0.4097012082055511, BLEU:0.4894721508026123\n"
     ]
    },
    {
     "name": "stderr",
     "output_type": "stream",
     "text": [
      "100%|██████████| 2/2 [00:04<00:00,  2.27s/it]\n"
     ]
    },
    {
     "name": "stdout",
     "output_type": "stream",
     "text": [
      "Round 39 >> Loss: 0.40490615463741564, BLEU:0.5971039533615112\n"
     ]
    },
    {
     "name": "stderr",
     "output_type": "stream",
     "text": [
      "100%|██████████| 2/2 [00:04<00:00,  2.25s/it]\n"
     ]
    },
    {
     "name": "stdout",
     "output_type": "stream",
     "text": [
      "Round 40 >> Loss: 0.40050500647880216, BLEU:0.3084618151187897\n"
     ]
    },
    {
     "name": "stderr",
     "output_type": "stream",
     "text": [
      "100%|██████████| 2/2 [00:04<00:00,  2.24s/it]\n"
     ]
    },
    {
     "name": "stdout",
     "output_type": "stream",
     "text": [
      "Round 41 >> Loss: 0.39385569876235604, BLEU:0.2731691896915436\n"
     ]
    },
    {
     "name": "stderr",
     "output_type": "stream",
     "text": [
      "100%|██████████| 2/2 [00:04<00:00,  2.24s/it]\n"
     ]
    },
    {
     "name": "stdout",
     "output_type": "stream",
     "text": [
      "Round 42 >> Loss: 0.38827461066844515, BLEU:0.5181620717048645\n"
     ]
    },
    {
     "name": "stderr",
     "output_type": "stream",
     "text": [
      "100%|██████████| 2/2 [00:04<00:00,  2.36s/it]\n"
     ]
    },
    {
     "name": "stdout",
     "output_type": "stream",
     "text": [
      "Round 43 >> Loss: 0.3850205119145277, BLEU:0.3983238935470581\n"
     ]
    },
    {
     "name": "stderr",
     "output_type": "stream",
     "text": [
      "100%|██████████| 2/2 [00:04<00:00,  2.32s/it]\n"
     ]
    },
    {
     "name": "stdout",
     "output_type": "stream",
     "text": [
      "Round 44 >> Loss: 0.3791739704607584, BLEU:0.6181137561798096\n"
     ]
    },
    {
     "name": "stderr",
     "output_type": "stream",
     "text": [
      "100%|██████████| 2/2 [00:04<00:00,  2.24s/it]\n"
     ]
    },
    {
     "name": "stdout",
     "output_type": "stream",
     "text": [
      "Round 45 >> Loss: 0.37582020235270375, BLEU:0.5641523599624634\n"
     ]
    },
    {
     "name": "stderr",
     "output_type": "stream",
     "text": [
      "100%|██████████| 2/2 [00:04<00:00,  2.25s/it]\n"
     ]
    },
    {
     "name": "stdout",
     "output_type": "stream",
     "text": [
      "Round 46 >> Loss: 0.37103718149541276, BLEU:0.5346747636795044\n"
     ]
    },
    {
     "name": "stderr",
     "output_type": "stream",
     "text": [
      "100%|██████████| 2/2 [00:04<00:00,  2.23s/it]\n"
     ]
    },
    {
     "name": "stdout",
     "output_type": "stream",
     "text": [
      "Round 47 >> Loss: 0.3660577882632695, BLEU:0.4649881422519684\n"
     ]
    },
    {
     "name": "stderr",
     "output_type": "stream",
     "text": [
      "100%|██████████| 2/2 [00:04<00:00,  2.24s/it]\n"
     ]
    },
    {
     "name": "stdout",
     "output_type": "stream",
     "text": [
      "Round 48 >> Loss: 0.36172203742872566, BLEU:0.5150338411331177\n"
     ]
    },
    {
     "name": "stderr",
     "output_type": "stream",
     "text": [
      "100%|██████████| 2/2 [00:04<00:00,  2.23s/it]\n"
     ]
    },
    {
     "name": "stdout",
     "output_type": "stream",
     "text": [
      "Round 49 >> Loss: 0.35918051539777507, BLEU:0.6610804200172424\n"
     ]
    },
    {
     "name": "stderr",
     "output_type": "stream",
     "text": [
      "100%|██████████| 2/2 [00:04<00:00,  2.25s/it]\n"
     ]
    },
    {
     "name": "stdout",
     "output_type": "stream",
     "text": [
      "Round 50 >> Loss: 0.3548583222779271, BLEU:0.3555314540863037\n"
     ]
    },
    {
     "name": "stderr",
     "output_type": "stream",
     "text": [
      "100%|██████████| 2/2 [00:04<00:00,  2.31s/it]\n"
     ]
    },
    {
     "name": "stdout",
     "output_type": "stream",
     "text": [
      "Round 51 >> Loss: 0.34993063221151466, BLEU:0.566992461681366\n"
     ]
    },
    {
     "name": "stderr",
     "output_type": "stream",
     "text": [
      "100%|██████████| 2/2 [00:04<00:00,  2.35s/it]\n"
     ]
    },
    {
     "name": "stdout",
     "output_type": "stream",
     "text": [
      "Round 52 >> Loss: 0.346346203254269, BLEU:0.6449902057647705\n"
     ]
    },
    {
     "name": "stderr",
     "output_type": "stream",
     "text": [
      "  0%|          | 0/2 [00:02<?, ?it/s]\n"
     ]
    },
    {
     "ename": "KeyboardInterrupt",
     "evalue": "",
     "output_type": "error",
     "traceback": [
      "\u001b[0;31m---------------------------------------------------------------------------\u001b[0m",
      "\u001b[0;31mKeyboardInterrupt\u001b[0m                         Traceback (most recent call last)",
      "Cell \u001b[0;32mIn[133], line 6\u001b[0m\n\u001b[1;32m      2\u001b[0m decoder \u001b[39m=\u001b[39m AttnDecoderRNN(hidden_size, output_lang\u001b[39m.\u001b[39mn_words)\u001b[39m.\u001b[39mto(device)\n\u001b[1;32m      4\u001b[0m \u001b[39m# train(train_dataloader, encoder, decoder, 80, print_every=5, plot_every=5)\u001b[39;00m\n\u001b[0;32m----> 6\u001b[0m training(encoders, decoders, \u001b[39m100\u001b[39;49m, lr\u001b[39m=\u001b[39;49m\u001b[39m0.001\u001b[39;49m, ds\u001b[39m=\u001b[39;49mdata_dict, C\u001b[39m=\u001b[39;49m\u001b[39m1.0\u001b[39;49m, K\u001b[39m=\u001b[39;49m\u001b[39m2\u001b[39;49m, E\u001b[39m=\u001b[39;49m\u001b[39m1\u001b[39;49m)\n",
      "Cell \u001b[0;32mIn[131], line 55\u001b[0m, in \u001b[0;36mtraining\u001b[0;34m(encoders, decoders, rounds, lr, ds, C, K, E, cifar_data_test, test_batch_size, classes_test, sch_flag)\u001b[0m\n\u001b[1;32m     52\u001b[0m encoders[k]\u001b[39m.\u001b[39mload_state_dict(e_og)\n\u001b[1;32m     53\u001b[0m decoders[k]\u001b[39m.\u001b[39mload_state_dict(d_og)\n\u001b[0;32m---> 55\u001b[0m encoder_weights, decoder_weights, loss \u001b[39m=\u001b[39m local_update\u001b[39m.\u001b[39;49mtrain(encoders[k], decoders[k])\n\u001b[1;32m     57\u001b[0m w_encoder\u001b[39m.\u001b[39mappend({key: value \u001b[39mfor\u001b[39;00m key, value \u001b[39min\u001b[39;00m copy\u001b[39m.\u001b[39mdeepcopy(encoder_weights)\u001b[39m.\u001b[39mitems() \u001b[39mif\u001b[39;00m \u001b[39m'\u001b[39m\u001b[39membedding\u001b[39m\u001b[39m'\u001b[39m \u001b[39mnot\u001b[39;00m \u001b[39min\u001b[39;00m key})\n\u001b[1;32m     58\u001b[0m w_decoder\u001b[39m.\u001b[39mappend({key: value \u001b[39mfor\u001b[39;00m key, value \u001b[39min\u001b[39;00m copy\u001b[39m.\u001b[39mdeepcopy(decoder_weights)\u001b[39m.\u001b[39mitems() \u001b[39mif\u001b[39;00m \u001b[39m'\u001b[39m\u001b[39membedding\u001b[39m\u001b[39m'\u001b[39m \u001b[39mnot\u001b[39;00m \u001b[39min\u001b[39;00m key \u001b[39mand\u001b[39;00m \u001b[39m'\u001b[39m\u001b[39mout\u001b[39m\u001b[39m'\u001b[39m \u001b[39mnot\u001b[39;00m \u001b[39min\u001b[39;00m key})\n",
      "Cell \u001b[0;32mIn[13], line 19\u001b[0m, in \u001b[0;36mClientUpdate.train\u001b[0;34m(self, encoder, decoder)\u001b[0m\n\u001b[1;32m     17\u001b[0m e_loss \u001b[39m=\u001b[39m []\n\u001b[1;32m     18\u001b[0m \u001b[39mfor\u001b[39;00m epoch \u001b[39min\u001b[39;00m \u001b[39mrange\u001b[39m(\u001b[39m1\u001b[39m, \u001b[39mself\u001b[39m\u001b[39m.\u001b[39mepochs \u001b[39m+\u001b[39m \u001b[39m1\u001b[39m):\n\u001b[0;32m---> 19\u001b[0m     loss \u001b[39m=\u001b[39m train_epoch(\u001b[39mself\u001b[39;49m\u001b[39m.\u001b[39;49mtrain_loader, encoder, decoder, encoder_optimizer, decoder_optimizer, criterion)\n\u001b[1;32m     20\u001b[0m     e_loss\u001b[39m.\u001b[39mappend(loss)\n\u001b[1;32m     22\u001b[0m     \u001b[39m# print_loss_total += loss\u001b[39;00m\n\u001b[1;32m     23\u001b[0m     \u001b[39m# plot_loss_total += loss\u001b[39;00m\n\u001b[1;32m     24\u001b[0m \n\u001b[0;32m   (...)\u001b[0m\n\u001b[1;32m     33\u001b[0m     \u001b[39m#     plot_losses.append(plot_loss_avg)\u001b[39;00m\n\u001b[1;32m     34\u001b[0m     \u001b[39m#     plot_loss_total = 0\u001b[39;00m\n",
      "Cell \u001b[0;32mIn[11], line 18\u001b[0m, in \u001b[0;36mtrain_epoch\u001b[0;34m(dataloader, encoder, decoder, encoder_optimizer, decoder_optimizer, criterion)\u001b[0m\n\u001b[1;32m     12\u001b[0m decoder_outputs, _, _ \u001b[39m=\u001b[39m decoder(encoder_outputs, encoder_hidden, target_tensor)\n\u001b[1;32m     14\u001b[0m loss \u001b[39m=\u001b[39m criterion(\n\u001b[1;32m     15\u001b[0m     decoder_outputs\u001b[39m.\u001b[39mview(\u001b[39m-\u001b[39m\u001b[39m1\u001b[39m, decoder_outputs\u001b[39m.\u001b[39msize(\u001b[39m-\u001b[39m\u001b[39m1\u001b[39m)),\n\u001b[1;32m     16\u001b[0m     target_tensor\u001b[39m.\u001b[39mview(\u001b[39m-\u001b[39m\u001b[39m1\u001b[39m)\n\u001b[1;32m     17\u001b[0m )\n\u001b[0;32m---> 18\u001b[0m loss\u001b[39m.\u001b[39;49mbackward()\n\u001b[1;32m     20\u001b[0m encoder_optimizer\u001b[39m.\u001b[39mstep()\n\u001b[1;32m     21\u001b[0m decoder_optimizer\u001b[39m.\u001b[39mstep()\n",
      "File \u001b[0;32m/usr/local/lib/python3.8/dist-packages/torch/_tensor.py:484\u001b[0m, in \u001b[0;36mTensor.backward\u001b[0;34m(self, gradient, retain_graph, create_graph, inputs)\u001b[0m\n\u001b[1;32m    474\u001b[0m \u001b[39mif\u001b[39;00m has_torch_function_unary(\u001b[39mself\u001b[39m):\n\u001b[1;32m    475\u001b[0m     \u001b[39mreturn\u001b[39;00m handle_torch_function(\n\u001b[1;32m    476\u001b[0m         Tensor\u001b[39m.\u001b[39mbackward,\n\u001b[1;32m    477\u001b[0m         (\u001b[39mself\u001b[39m,),\n\u001b[0;32m   (...)\u001b[0m\n\u001b[1;32m    482\u001b[0m         inputs\u001b[39m=\u001b[39minputs,\n\u001b[1;32m    483\u001b[0m     )\n\u001b[0;32m--> 484\u001b[0m torch\u001b[39m.\u001b[39;49mautograd\u001b[39m.\u001b[39;49mbackward(\n\u001b[1;32m    485\u001b[0m     \u001b[39mself\u001b[39;49m, gradient, retain_graph, create_graph, inputs\u001b[39m=\u001b[39;49minputs\n\u001b[1;32m    486\u001b[0m )\n",
      "File \u001b[0;32m/usr/local/lib/python3.8/dist-packages/torch/autograd/__init__.py:197\u001b[0m, in \u001b[0;36mbackward\u001b[0;34m(tensors, grad_tensors, retain_graph, create_graph, grad_variables, inputs)\u001b[0m\n\u001b[1;32m    192\u001b[0m     retain_graph \u001b[39m=\u001b[39m create_graph\n\u001b[1;32m    194\u001b[0m \u001b[39m# The reason we repeat same the comment below is that\u001b[39;00m\n\u001b[1;32m    195\u001b[0m \u001b[39m# some Python versions print out the first line of a multi-line function\u001b[39;00m\n\u001b[1;32m    196\u001b[0m \u001b[39m# calls in the traceback and some print out the last line\u001b[39;00m\n\u001b[0;32m--> 197\u001b[0m Variable\u001b[39m.\u001b[39;49m_execution_engine\u001b[39m.\u001b[39;49mrun_backward(  \u001b[39m# Calls into the C++ engine to run the backward pass\u001b[39;49;00m\n\u001b[1;32m    198\u001b[0m     tensors, grad_tensors_, retain_graph, create_graph, inputs,\n\u001b[1;32m    199\u001b[0m     allow_unreachable\u001b[39m=\u001b[39;49m\u001b[39mTrue\u001b[39;49;00m, accumulate_grad\u001b[39m=\u001b[39;49m\u001b[39mTrue\u001b[39;49;00m)\n",
      "\u001b[0;31mKeyboardInterrupt\u001b[0m: "
     ]
    }
   ],
   "source": [
    "encoder = EncoderRNN(input_lang.n_words, hidden_size).to(device)\n",
    "decoder = AttnDecoderRNN(hidden_size, output_lang.n_words).to(device)\n",
    "\n",
    "# train(train_dataloader, encoder, decoder, 80, print_every=5, plot_every=5)\n",
    "\n",
    "training(encoders, decoders, 100, lr=0.001, ds=data_dict, C=1.0, K=2, E=1)"
   ]
  },
  {
   "cell_type": "code",
   "execution_count": 36,
   "metadata": {},
   "outputs": [
    {
     "data": {
      "text/plain": [
       "OrderedDict([('embedding.weight',\n",
       "              tensor([[ 0.6466,  1.8186,  1.0813,  ..., -0.0277, -0.4194,  0.2395],\n",
       "                      [-0.9277,  1.4785, -0.9440,  ..., -1.2854, -0.2129, -0.3566],\n",
       "                      [ 1.1096, -0.9510,  0.0779,  ...,  1.1282, -1.2686,  1.1216],\n",
       "                      ...,\n",
       "                      [-1.5771, -0.7024,  1.6067,  ..., -0.8075,  0.2345,  0.2430],\n",
       "                      [ 0.5746, -0.1243, -0.8105,  ..., -0.2847, -0.9495,  1.1828],\n",
       "                      [ 0.3121,  0.0468,  1.4825,  ..., -0.1917,  0.5075,  1.5629]],\n",
       "                     device='cuda:0')),\n",
       "             ('gru.weight_ih_l0',\n",
       "              tensor([[-0.0105,  0.0078,  0.0584,  ..., -0.1319,  0.1170, -0.1628],\n",
       "                      [ 0.3100,  0.0921,  0.0872,  ...,  0.1163, -0.1679,  0.1046],\n",
       "                      [ 0.3307,  0.2486,  0.1821,  ..., -0.0432,  0.0993,  0.2848],\n",
       "                      ...,\n",
       "                      [ 0.1343, -0.1857,  0.0869,  ...,  0.0030, -0.0081, -0.2599],\n",
       "                      [ 0.1853, -0.2180, -0.1109,  ...,  0.1326, -0.0580,  0.2080],\n",
       "                      [ 0.1941,  0.0185, -0.0630,  ..., -0.0366,  0.1022,  0.0145]],\n",
       "                     device='cuda:0')),\n",
       "             ('gru.weight_hh_l0',\n",
       "              tensor([[ 0.0564,  0.1464, -0.0105,  ..., -0.0931,  0.0230,  0.0437],\n",
       "                      [-0.0584, -0.3493, -0.0583,  ..., -0.1078,  0.2459,  0.1004],\n",
       "                      [-0.1159,  0.0077, -0.2450,  ..., -0.0443, -0.0631, -0.0558],\n",
       "                      ...,\n",
       "                      [-0.0518,  0.3032, -0.2043,  ...,  0.0998,  0.1014, -0.1101],\n",
       "                      [-0.0268,  0.0754,  0.1791,  ...,  0.1787,  0.2789, -0.0924],\n",
       "                      [ 0.0927, -0.3095,  0.0610,  ...,  0.1670,  0.2220,  0.8482]],\n",
       "                     device='cuda:0')),\n",
       "             ('gru.bias_ih_l0',\n",
       "              tensor([ 1.9128e-03,  1.7830e-01, -1.2118e-01,  3.9549e-02, -3.3614e-02,\n",
       "                       3.9624e-02,  2.4874e-02,  1.1043e-01, -9.7505e-02, -6.4751e-02,\n",
       "                       4.6822e-02, -4.2622e-02, -7.9498e-02,  8.5619e-02,  4.2928e-02,\n",
       "                      -7.6083e-02, -1.4037e-01,  4.2204e-02,  2.6341e-02, -2.6196e-02,\n",
       "                       7.8918e-02,  2.5375e-01, -7.1765e-02, -1.5577e-01,  1.7801e-01,\n",
       "                       2.1451e-01, -6.1807e-03,  2.8121e-02,  1.3903e-01,  1.3649e-01,\n",
       "                       1.8030e-02, -7.2121e-02,  1.2692e-01, -5.5759e-02, -5.0817e-02,\n",
       "                      -4.0110e-02, -1.3246e-01, -1.2197e-01, -5.3482e-02,  1.7520e-01,\n",
       "                      -1.0602e-01, -9.5179e-02,  1.8351e-01, -7.3806e-02,  5.1173e-01,\n",
       "                      -2.3097e-02,  2.5803e-01, -3.7655e-02,  7.3247e-02,  1.0964e-01,\n",
       "                      -1.9591e-02,  2.3584e-01,  2.5988e-01,  8.1342e-02,  1.9006e-01,\n",
       "                       4.1143e-02,  9.6101e-02,  4.0505e-01, -2.0838e-03,  3.8790e-02,\n",
       "                      -4.2241e-02, -1.3692e-01,  1.4629e-01,  1.1967e-01,  1.9042e-01,\n",
       "                       1.2714e-01,  3.2125e-01,  1.0785e-02,  4.1963e-03, -1.4355e-01,\n",
       "                       6.0328e-02, -1.0421e-01, -5.5088e-02, -5.1795e-03, -9.2884e-02,\n",
       "                      -2.5132e-02,  5.5336e-02,  5.3237e-02, -5.3758e-02, -1.0774e-01,\n",
       "                      -3.1738e-02,  1.1333e-01, -9.0851e-02, -7.5577e-03,  1.1719e-01,\n",
       "                      -3.9915e-02, -1.3009e-01,  1.5456e-01, -1.2498e-01, -8.4042e-02,\n",
       "                       6.9609e-02, -2.0050e-01,  1.1489e-01, -7.3387e-02, -1.3502e-02,\n",
       "                      -1.9850e-02, -1.8178e-01,  2.8106e-01,  4.8350e-02,  4.1314e-02,\n",
       "                       1.4585e-01,  2.0186e-03,  2.4837e-02, -1.6339e-01,  1.5272e-02,\n",
       "                      -5.1769e-02,  1.5323e-01, -9.4748e-02,  1.3001e-02, -1.2094e-02,\n",
       "                       1.2789e-01,  2.8760e-02,  2.8154e-02,  3.9570e-01,  5.6564e-02,\n",
       "                       1.3203e-01,  7.0139e-02,  2.9501e-01,  4.8701e-02, -3.6172e-02,\n",
       "                      -1.1799e-01,  1.9409e-01,  6.6986e-03, -7.3537e-02, -4.5527e-02,\n",
       "                      -3.4642e-02,  1.8325e-01,  3.5170e-01, -1.2261e-01, -1.3522e-01,\n",
       "                      -4.1148e-01, -5.6832e-02, -4.3159e-01, -3.5159e-01, -2.0540e-01,\n",
       "                      -1.5960e-01, -9.5125e-02, -2.4204e-01, -1.3952e-01, -1.4368e-01,\n",
       "                      -1.7758e-01, -5.9931e-02, -2.6110e-01, -1.2945e-01, -2.3632e-01,\n",
       "                      -2.8560e-01, -3.1096e-01, -9.3127e-02, -1.5135e-01, -1.3032e-01,\n",
       "                      -2.7040e-01, -3.0761e-01, -2.4365e-01, -8.0113e-02, -1.2056e-01,\n",
       "                      -1.4893e-01, -2.7126e-01, -2.7434e-01, -1.0329e-01, -2.0616e-01,\n",
       "                      -3.8077e-01, -1.8653e-01,  5.6109e-02, -3.4682e-01, -5.3255e-02,\n",
       "                      -2.2158e-01, -2.3040e-01, -1.3832e-01, -2.2447e-01, -1.5893e-01,\n",
       "                      -3.9038e-01, -1.3069e-01, -2.8128e-01, -1.8035e-03, -3.6206e-01,\n",
       "                       3.9634e-02, -1.5030e-01, -2.8459e-01,  8.9574e-02,  1.5971e-01,\n",
       "                      -3.4369e-01, -2.7567e-01, -2.6649e-01, -3.9110e-01, -3.0478e-01,\n",
       "                      -5.5004e-02, -2.8137e-01, -1.6349e-01, -2.6946e-01, -3.7556e-01,\n",
       "                      -1.3848e-01, -3.0955e-01, -6.9508e-02, -2.4010e-01, -5.2796e-02,\n",
       "                       2.8633e-02, -2.1992e-01, -1.9865e-01, -3.1864e-01, -1.3760e-01,\n",
       "                      -2.1644e-01, -4.1596e-01, -1.6607e-01, -5.4992e-02, -6.0730e-02,\n",
       "                      -1.7130e-01, -8.0586e-03, -8.5039e-02, -2.7080e-01, -7.9744e-02,\n",
       "                      -1.4850e-01, -2.1633e-01, -1.9056e-01, -2.5729e-01, -1.0517e-01,\n",
       "                      -2.0913e-01, -1.8123e-02,  1.1038e-01, -1.8486e-01, -1.2059e-01,\n",
       "                      -2.3653e-01, -7.6416e-02, -6.4456e-02, -1.6138e-01, -2.0747e-01,\n",
       "                       6.5794e-05, -1.7825e-01, -2.0103e-01, -2.2794e-01, -2.4914e-01,\n",
       "                      -1.7237e-01, -2.5336e-01, -1.3682e-01, -2.2759e-01, -1.1891e-01,\n",
       "                      -1.6903e-01, -2.3866e-01, -1.7826e-01,  2.1959e-02, -1.2545e-01,\n",
       "                       2.2435e-03, -1.0726e-01, -1.9099e-01, -2.7757e-01, -1.6516e-01,\n",
       "                      -5.5066e-02, -1.8890e-01, -2.1131e-01, -3.5628e-01, -1.1091e-01,\n",
       "                       1.0242e-01, -1.5985e-01, -1.4653e-01, -1.1911e-01, -4.9784e-02,\n",
       "                      -1.0766e-01,  1.5100e-01, -3.9042e-01,  1.5800e-01,  4.7239e-02,\n",
       "                       1.3061e-01,  1.7811e-01, -1.9351e-01, -2.0859e-01,  1.3426e-01,\n",
       "                       5.9141e-02,  1.3180e-01, -7.4450e-02,  9.5565e-02, -2.1328e-01,\n",
       "                       2.7832e-02, -5.0259e-02,  9.4005e-02,  4.6085e-02,  2.4890e-02,\n",
       "                      -1.0213e-01, -1.2093e-01,  3.2596e-01,  3.1422e-01,  1.9806e-01,\n",
       "                      -1.7962e-01,  4.2245e-01,  9.8588e-03,  1.3014e-01,  5.3326e-02,\n",
       "                      -1.2795e-01,  5.6411e-02, -2.1206e-01, -2.2478e-01,  7.2418e-03,\n",
       "                       1.1795e-01, -4.7675e-02, -1.2758e-01, -7.7443e-02,  1.2145e-01,\n",
       "                       9.3479e-02, -8.8689e-02,  1.3041e-01, -3.7977e-02,  8.3131e-02,\n",
       "                      -1.5163e-01,  9.7115e-02,  1.7268e-01, -1.4874e-01, -2.2331e-01,\n",
       "                       6.9012e-02, -2.0198e-01,  1.4982e-01,  1.3277e-01,  1.1305e-01,\n",
       "                      -4.8334e-02, -2.3813e-02,  2.5372e-01, -2.6531e-01,  3.2229e-01,\n",
       "                      -7.7105e-02, -1.1627e-01,  7.7168e-02,  2.4278e-01, -2.7390e-01,\n",
       "                      -6.0888e-02, -1.3445e-01,  2.3486e-01,  3.1692e-01, -5.8107e-02,\n",
       "                       1.3557e-02,  1.0507e-01, -1.3603e-01,  1.7592e-01, -9.3306e-02,\n",
       "                       7.8325e-02,  1.4508e-01, -3.8169e-03,  1.9600e-01,  1.1662e-01,\n",
       "                       1.0846e-01,  4.1141e-02, -2.3557e-01, -4.4900e-02,  8.9074e-02,\n",
       "                       1.0689e-01,  1.1073e-01, -6.1773e-02, -2.6820e-01, -1.2022e-01,\n",
       "                       8.5058e-02,  3.2686e-02, -5.2140e-02,  1.8547e-01,  5.6824e-02,\n",
       "                      -7.3044e-02,  8.7452e-02,  7.9899e-02, -1.4511e-01,  1.3265e-01,\n",
       "                       1.0321e-01, -7.0537e-02,  2.5044e-01,  4.6808e-02,  1.1280e-01,\n",
       "                      -4.0963e-02, -2.8385e-01, -1.1399e-01, -1.5671e-01, -1.4879e-01,\n",
       "                       3.9021e-02, -3.4802e-01,  2.9537e-01,  1.0383e-02,  2.3564e-01,\n",
       "                      -1.5421e-01, -1.2572e-01, -8.9865e-02,  2.9442e-01, -5.9388e-02,\n",
       "                       2.7404e-01, -1.5295e-01, -5.2556e-03,  2.4237e-02,  3.1315e-02,\n",
       "                      -1.9706e-01, -6.6130e-02,  3.2326e-01,  2.2657e-01], device='cuda:0')),\n",
       "             ('gru.bias_hh_l0',\n",
       "              tensor([-4.1186e-03,  1.3956e-01, -2.1871e-01,  5.9963e-02,  8.7012e-02,\n",
       "                       2.5496e-02,  1.4382e-01,  2.0642e-01, -5.2024e-02, -1.3588e-01,\n",
       "                      -1.0005e-01,  6.4130e-02, -1.3056e-01,  7.5607e-02,  8.5310e-02,\n",
       "                      -4.5569e-04, -1.1475e-03,  4.8460e-02, -4.3416e-02, -7.3194e-02,\n",
       "                       2.5447e-02,  2.2335e-01,  2.7797e-02, -1.6919e-03,  2.5815e-01,\n",
       "                       2.0834e-01, -3.5422e-02,  1.6434e-02,  8.7466e-02,  4.8990e-02,\n",
       "                      -1.3672e-01,  9.3134e-02,  3.3819e-02, -1.6487e-01, -8.2335e-02,\n",
       "                      -1.3905e-01, -7.8855e-02, -1.7163e-01,  6.0688e-02,  2.6556e-01,\n",
       "                      -2.4326e-01, -1.0553e-01,  1.8163e-01, -7.8948e-03,  4.9131e-01,\n",
       "                      -6.5093e-03,  3.2378e-01,  2.2953e-02,  3.7280e-02,  7.1085e-02,\n",
       "                      -2.4131e-02,  2.1376e-01,  2.4039e-01,  1.0037e-01,  1.8841e-01,\n",
       "                       5.4965e-02,  1.5001e-01,  4.4312e-01,  3.9866e-02,  4.9967e-02,\n",
       "                       9.9175e-02, -1.9583e-01,  4.2623e-02,  1.7294e-01,  6.8238e-02,\n",
       "                       1.7933e-01,  4.0916e-01,  2.7609e-03,  7.5998e-03, -1.0217e-01,\n",
       "                      -4.5322e-02, -8.0922e-02, -1.0071e-01,  5.8139e-02, -1.6081e-01,\n",
       "                      -6.7156e-02,  1.3664e-01,  4.0371e-02, -1.3104e-01, -7.8073e-02,\n",
       "                       7.8498e-02,  4.5093e-02, -1.0725e-01, -1.0595e-01,  6.0255e-02,\n",
       "                      -1.1822e-01, -1.7524e-02,  2.2533e-01, -2.8192e-01, -1.2604e-01,\n",
       "                       3.4413e-03, -1.8364e-01,  8.6920e-02, -6.7161e-02, -9.2926e-02,\n",
       "                      -5.3052e-02, -9.6812e-02,  2.2321e-01,  1.3343e-02, -2.0790e-02,\n",
       "                       9.7651e-02, -4.7750e-02, -6.5638e-02, -1.2042e-01, -6.1546e-02,\n",
       "                       2.3142e-02,  1.6182e-01, -1.5383e-01, -7.7997e-02,  8.6305e-02,\n",
       "                       2.0101e-01,  4.7857e-02,  3.1228e-02,  3.4953e-01,  3.1173e-02,\n",
       "                       2.7925e-02,  8.4146e-02,  2.9996e-01,  1.8056e-01,  6.4671e-02,\n",
       "                      -1.9648e-01,  7.5337e-02,  9.3292e-02, -5.7113e-02, -1.2081e-01,\n",
       "                      -4.9187e-02,  1.8755e-01,  3.6735e-01, -1.2407e-01, -1.9646e-02,\n",
       "                      -2.9409e-01, -1.2846e-01, -4.0883e-01, -1.8743e-01, -1.3579e-01,\n",
       "                      -1.2431e-01, -1.7715e-01, -1.4671e-01, -1.6923e-01, -2.5693e-01,\n",
       "                      -1.8484e-01,  6.4838e-02, -1.8010e-01, -8.0187e-02, -3.0157e-01,\n",
       "                      -1.8904e-01, -3.5420e-01, -2.0609e-01, -1.9241e-01, -9.3366e-02,\n",
       "                      -2.0618e-01, -2.1492e-01, -1.3286e-01, -1.7802e-01, -2.3462e-01,\n",
       "                      -2.4465e-01, -4.2656e-01, -2.1671e-01, -1.1017e-01, -2.6850e-01,\n",
       "                      -2.6871e-01, -1.7419e-01,  5.6961e-02, -2.9810e-01, -1.5371e-01,\n",
       "                      -2.2182e-01, -1.9702e-01, -1.3829e-01, -3.0661e-01, -1.7619e-01,\n",
       "                      -3.5053e-01, -1.2400e-01, -3.0852e-01, -6.1288e-02, -3.0053e-01,\n",
       "                      -2.3055e-02, -5.9466e-02, -1.7754e-01,  2.2582e-02,  1.8274e-01,\n",
       "                      -2.9750e-01, -3.4222e-01, -2.0080e-01, -4.6859e-01, -2.6264e-01,\n",
       "                      -1.2541e-01, -3.1166e-01, -1.0134e-01, -2.8119e-01, -3.7743e-01,\n",
       "                      -1.9401e-01, -3.9130e-01, -8.6268e-02, -2.0127e-01, -1.6219e-01,\n",
       "                      -3.5690e-02, -1.5301e-01, -2.3400e-01, -3.4107e-01, -2.1978e-01,\n",
       "                      -1.8281e-01, -3.4779e-01, -1.9571e-01, -1.7280e-01, -3.3173e-02,\n",
       "                      -1.4326e-01,  8.7284e-02, -9.2136e-02, -3.1986e-01, -1.3178e-01,\n",
       "                      -4.9589e-02, -2.6755e-01, -2.4647e-01, -1.7235e-01, -1.5543e-01,\n",
       "                      -1.9083e-01, -1.4469e-02, -3.3960e-02, -2.3446e-01, -1.9597e-01,\n",
       "                      -7.8102e-02, -3.5817e-02,  1.1282e-02, -2.4413e-01, -2.1070e-01,\n",
       "                      -1.2912e-01, -1.3779e-01, -2.5789e-01, -2.3485e-01, -2.1671e-01,\n",
       "                      -7.3750e-02, -2.3865e-01, -9.7846e-02, -2.0982e-01, -6.6096e-02,\n",
       "                      -2.1439e-01, -2.3097e-01, -2.1571e-01, -3.7436e-02, -2.5949e-01,\n",
       "                      -3.7584e-02, -1.3563e-01, -2.5567e-01, -2.7884e-01, -1.2732e-01,\n",
       "                      -6.1875e-02, -2.9465e-01, -3.0983e-01, -4.2550e-01, -1.2211e-01,\n",
       "                       6.3149e-02, -1.6969e-01, -7.7755e-02, -1.2076e-01, -1.0293e-01,\n",
       "                      -6.2936e-02,  1.3796e-01, -2.8817e-01,  8.5645e-02,  8.0918e-02,\n",
       "                      -1.6512e-02,  3.8252e-01, -3.0110e-02, -3.9588e-01, -6.9202e-02,\n",
       "                       2.6876e-03,  2.2547e-01, -1.2677e-01, -1.0553e-01, -2.0445e-01,\n",
       "                       1.0641e-02,  4.0264e-02,  4.7282e-02, -1.6620e-01,  1.1781e-01,\n",
       "                      -1.6241e-01, -1.2820e-01,  2.4598e-01,  1.5629e-01, -6.5956e-02,\n",
       "                      -6.7430e-02,  2.8721e-01,  1.8501e-02,  5.0996e-02,  3.4860e-02,\n",
       "                      -1.4260e-01,  3.7713e-02, -7.6925e-02, -2.6018e-01, -3.6270e-02,\n",
       "                      -4.7524e-03, -1.0408e-01,  3.0072e-02, -4.4317e-02,  1.1606e-01,\n",
       "                      -1.0924e-03, -2.9433e-02,  1.1341e-01, -2.0738e-01,  2.3264e-01,\n",
       "                      -2.8157e-01,  2.9922e-02,  1.3253e-01, -1.5183e-01, -2.8050e-01,\n",
       "                       1.1308e-03, -1.7386e-01,  2.7631e-01,  2.2277e-01,  1.5088e-01,\n",
       "                      -4.5727e-02, -7.9508e-03,  8.7387e-02, -1.8146e-01,  2.6118e-01,\n",
       "                       2.4021e-02, -2.4612e-01,  1.1679e-01,  3.5331e-01, -2.1079e-01,\n",
       "                      -1.9296e-01, -1.4629e-01,  9.3521e-02,  2.5553e-01,  1.1206e-01,\n",
       "                       1.7396e-01,  7.9520e-02, -8.3295e-02,  2.7897e-02, -1.8615e-01,\n",
       "                      -6.6617e-03,  8.0530e-02,  3.7988e-02,  2.5713e-01,  2.4720e-03,\n",
       "                       2.5579e-01, -2.3730e-01, -3.7709e-01,  7.9857e-02,  7.4289e-02,\n",
       "                      -9.0218e-02,  1.0232e-01, -1.9127e-01, -2.6328e-01,  1.6113e-03,\n",
       "                       1.6906e-01, -1.1135e-02, -7.3131e-02,  1.5035e-01, -6.1673e-02,\n",
       "                       8.1461e-03,  1.7656e-01,  1.1277e-01, -2.4581e-01,  2.0163e-01,\n",
       "                       1.5674e-01, -2.4109e-01,  1.5464e-01,  4.8545e-02, -4.9927e-02,\n",
       "                      -3.9294e-02, -1.7450e-01, -1.2241e-01, -4.4544e-02, -2.8687e-02,\n",
       "                      -2.4957e-02, -3.8421e-01,  3.6217e-01, -4.9825e-02,  2.2030e-01,\n",
       "                      -8.4624e-02, -1.0176e-01,  8.7599e-02,  3.5077e-01, -5.4677e-02,\n",
       "                       9.4332e-02, -9.7114e-02, -1.2812e-01, -4.8159e-02, -1.1113e-01,\n",
       "                      -4.3395e-02, -1.4672e-01,  3.8279e-01,  1.6454e-01], device='cuda:0'))])"
      ]
     },
     "execution_count": 36,
     "metadata": {},
     "output_type": "execute_result"
    }
   ],
   "source": [
    "encoder.state_dict()"
   ]
  },
  {
   "cell_type": "code",
   "execution_count": 35,
   "metadata": {},
   "outputs": [
    {
     "name": "stdout",
     "output_type": "stream",
     "text": [
      "AttnDecoderRNN(\n",
      "  (embedding): Embedding(2809, 128)\n",
      "  (attention): BahdanauAttention(\n",
      "    (Wa): Linear(in_features=128, out_features=128, bias=True)\n",
      "    (Ua): Linear(in_features=128, out_features=128, bias=True)\n",
      "    (Va): Linear(in_features=128, out_features=1, bias=True)\n",
      "  )\n",
      "  (gru): GRU(256, 128, batch_first=True)\n",
      "  (out): Linear(in_features=128, out_features=2809, bias=True)\n",
      "  (dropout): Dropout(p=0.1, inplace=False)\n",
      ")\n"
     ]
    }
   ],
   "source": [
    "print(decoder)"
   ]
  },
  {
   "attachments": {},
   "cell_type": "markdown",
   "metadata": {},
   "source": [
    "Set dropout layers to `eval` mode\n"
   ]
  },
  {
   "cell_type": "code",
   "execution_count": 34,
   "metadata": {
    "collapsed": false
   },
   "outputs": [
    {
     "data": {
      "text/plain": [
       "0.7012043595314026"
      ]
     },
     "execution_count": 34,
     "metadata": {},
     "output_type": "execute_result"
    }
   ],
   "source": [
    "encoder.eval()\n",
    "decoder.eval()\n",
    "evaluateBleu(encoder, decoder)"
   ]
  },
  {
   "attachments": {},
   "cell_type": "markdown",
   "metadata": {},
   "source": [
    "Visualizing Attention\n",
    "=====================\n",
    "\n",
    "A useful property of the attention mechanism is its highly interpretable\n",
    "outputs. Because it is used to weight specific encoder outputs of the\n",
    "input sequence, we can imagine looking where the network is focused most\n",
    "at each time step.\n",
    "\n",
    "You could simply run `plt.matshow(attentions)` to see attention output\n",
    "displayed as a matrix. For a better viewing experience we will do the\n",
    "extra work of adding axes and labels:\n"
   ]
  },
  {
   "cell_type": "code",
   "execution_count": 22,
   "metadata": {
    "collapsed": false
   },
   "outputs": [
    {
     "name": "stdout",
     "output_type": "stream",
     "text": [
      "input = il n est pas aussi grand que son pere\n",
      "output = he is not as tall as his father <EOS>\n",
      "input = je suis trop fatigue pour conduire\n",
      "output = i m too tired to drive drive <EOS>\n",
      "input = je suis desole si c est une question idiote\n",
      "output = i m sorry if this is a stupid question <EOS>\n",
      "input = je suis reellement fiere de vous\n",
      "output = i m really proud of you are <EOS>\n"
     ]
    },
    {
     "name": "stderr",
     "output_type": "stream",
     "text": [
      "/tmp/ipykernel_4743/1690937169.py:8: UserWarning: FixedFormatter should only be used together with FixedLocator\n",
      "  ax.set_xticklabels([''] + input_sentence.split(' ') +\n",
      "/tmp/ipykernel_4743/1690937169.py:10: UserWarning: FixedFormatter should only be used together with FixedLocator\n",
      "  ax.set_yticklabels([''] + output_words)\n",
      "/tmp/ipykernel_4743/1690937169.py:16: UserWarning: Matplotlib is currently using agg, which is a non-GUI backend, so cannot show the figure.\n",
      "  plt.show()\n"
     ]
    }
   ],
   "source": [
    "def showAttention(input_sentence, output_words, attentions):\n",
    "    fig = plt.figure()\n",
    "    ax = fig.add_subplot(111)\n",
    "    cax = ax.matshow(attentions.cpu().numpy(), cmap='bone')\n",
    "    fig.colorbar(cax)\n",
    "\n",
    "    # Set up axes\n",
    "    ax.set_xticklabels([''] + input_sentence.split(' ') +\n",
    "                       ['<EOS>'], rotation=90)\n",
    "    ax.set_yticklabels([''] + output_words)\n",
    "\n",
    "    # Show label at every tick\n",
    "    ax.xaxis.set_major_locator(ticker.MultipleLocator(1))\n",
    "    ax.yaxis.set_major_locator(ticker.MultipleLocator(1))\n",
    "\n",
    "    plt.show()\n",
    "\n",
    "\n",
    "def evaluateAndShowAttention(input_sentence):\n",
    "    output_words, attentions = evaluate(encoder, decoder, input_sentence, input_lang, output_lang)\n",
    "    print('input =', input_sentence)\n",
    "    print('output =', ' '.join(output_words))\n",
    "    showAttention(input_sentence, output_words, attentions[0, :len(output_words), :])\n",
    "\n",
    "\n",
    "evaluateAndShowAttention('il n est pas aussi grand que son pere')\n",
    "\n",
    "evaluateAndShowAttention('je suis trop fatigue pour conduire')\n",
    "\n",
    "evaluateAndShowAttention('je suis desole si c est une question idiote')\n",
    "\n",
    "evaluateAndShowAttention('je suis reellement fiere de vous')"
   ]
  },
  {
   "attachments": {},
   "cell_type": "markdown",
   "metadata": {},
   "source": [
    "Exercises\n",
    "=========\n",
    "\n",
    "-   Try with a different dataset\n",
    "    -   Another language pair\n",
    "    -   Human → Machine (e.g. IOT commands)\n",
    "    -   Chat → Response\n",
    "    -   Question → Answer\n",
    "-   Replace the embeddings with pretrained word embeddings such as\n",
    "    `word2vec` or `GloVe`\n",
    "-   Try with more layers, more hidden units, and more sentences. Compare\n",
    "    the training time and results.\n",
    "-   If you use a translation file where pairs have two of the same\n",
    "    phrase (`I am test \\t I am test`), you can use this as an\n",
    "    autoencoder. Try this:\n",
    "    -   Train as an autoencoder\n",
    "    -   Save only the Encoder network\n",
    "    -   Train a new Decoder for translation from there\n"
   ]
  }
 ],
 "metadata": {
  "kernelspec": {
   "display_name": "Python 3 (ipykernel)",
   "language": "python",
   "name": "python3"
  },
  "language_info": {
   "codemirror_mode": {
    "name": "ipython",
    "version": 3
   },
   "file_extension": ".py",
   "mimetype": "text/x-python",
   "name": "python",
   "nbconvert_exporter": "python",
   "pygments_lexer": "ipython3",
   "version": "3.8.10"
  }
 },
 "nbformat": 4,
 "nbformat_minor": 0
}
