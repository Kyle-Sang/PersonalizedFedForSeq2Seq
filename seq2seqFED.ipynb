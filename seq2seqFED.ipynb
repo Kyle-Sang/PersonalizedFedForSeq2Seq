{
 "cells": [
  {
   "cell_type": "code",
   "execution_count": 1,
   "metadata": {
    "collapsed": false
   },
   "outputs": [],
   "source": [
    "# For tips on running notebooks in Google Colab, see\n",
    "# https://pytorch.org/tutorials/beginner/colab\n",
    "%matplotlib inline"
   ]
  },
  {
   "attachments": {},
   "cell_type": "markdown",
   "metadata": {},
   "source": [
    "NLP From Scratch: Translation with a Sequence to Sequence Network and Attention\n",
    "===============================================================================\n",
    "\n",
    "**Author**: [Sean Robertson](https://github.com/spro)\n",
    "\n",
    "This is the third and final tutorial on doing \\\"NLP From Scratch\\\",\n",
    "where we write our own classes and functions to preprocess the data to\n",
    "do our NLP modeling tasks. We hope after you complete this tutorial that\n",
    "you\\'ll proceed to learn how [torchtext]{.title-ref} can handle much of\n",
    "this preprocessing for you in the three tutorials immediately following\n",
    "this one.\n",
    "\n",
    "In this project we will be teaching a neural network to translate from\n",
    "French to English.\n",
    "\n",
    "``` {.sourceCode .sh}\n",
    "[KEY: > input, = target, < output]\n",
    "\n",
    "> il est en train de peindre un tableau .\n",
    "= he is painting a picture .\n",
    "< he is painting a picture .\n",
    "\n",
    "> pourquoi ne pas essayer ce vin delicieux ?\n",
    "= why not try that delicious wine ?\n",
    "< why not try that delicious wine ?\n",
    "\n",
    "> elle n est pas poete mais romanciere .\n",
    "= she is not a poet but a novelist .\n",
    "< she not not a poet but a novelist .\n",
    "\n",
    "> vous etes trop maigre .\n",
    "= you re too skinny .\n",
    "< you re all alone .\n",
    "```\n",
    "\n",
    "\\... to varying degrees of success.\n",
    "\n",
    "This is made possible by the simple but powerful idea of the [sequence\n",
    "to sequence network](https://arxiv.org/abs/1409.3215), in which two\n",
    "recurrent neural networks work together to transform one sequence to\n",
    "another. An encoder network condenses an input sequence into a vector,\n",
    "and a decoder network unfolds that vector into a new sequence.\n",
    "\n",
    "![](https://pytorch.org/tutorials/_static/img/seq-seq-images/seq2seq.png)\n",
    "\n",
    "To improve upon this model we\\'ll use an [attention\n",
    "mechanism](https://arxiv.org/abs/1409.0473), which lets the decoder\n",
    "learn to focus over a specific range of the input sequence.\n",
    "\n",
    "**Recommended Reading:**\n",
    "\n",
    "I assume you have at least installed PyTorch, know Python, and\n",
    "understand Tensors:\n",
    "\n",
    "-   <https://pytorch.org/> For installation instructions\n",
    "-   `/beginner/deep_learning_60min_blitz`{.interpreted-text role=\"doc\"}\n",
    "    to get started with PyTorch in general\n",
    "-   `/beginner/pytorch_with_examples`{.interpreted-text role=\"doc\"} for\n",
    "    a wide and deep overview\n",
    "-   `/beginner/former_torchies_tutorial`{.interpreted-text role=\"doc\"}\n",
    "    if you are former Lua Torch user\n",
    "\n",
    "It would also be useful to know about Sequence to Sequence networks and\n",
    "how they work:\n",
    "\n",
    "-   [Learning Phrase Representations using RNN Encoder-Decoder for\n",
    "    Statistical Machine Translation](https://arxiv.org/abs/1406.1078)\n",
    "-   [Sequence to Sequence Learning with Neural\n",
    "    Networks](https://arxiv.org/abs/1409.3215)\n",
    "-   [Neural Machine Translation by Jointly Learning to Align and\n",
    "    Translate](https://arxiv.org/abs/1409.0473)\n",
    "-   [A Neural Conversational Model](https://arxiv.org/abs/1506.05869)\n",
    "\n",
    "You will also find the previous tutorials on\n",
    "`/intermediate/char_rnn_classification_tutorial`{.interpreted-text\n",
    "role=\"doc\"} and\n",
    "`/intermediate/char_rnn_generation_tutorial`{.interpreted-text\n",
    "role=\"doc\"} helpful as those concepts are very similar to the Encoder\n",
    "and Decoder models, respectively.\n",
    "\n",
    "**Requirements**\n"
   ]
  },
  {
   "cell_type": "code",
   "execution_count": 33,
   "metadata": {
    "collapsed": false
   },
   "outputs": [],
   "source": [
    "from __future__ import unicode_literals, print_function, division\n",
    "from io import open\n",
    "import unicodedata\n",
    "import re\n",
    "import random\n",
    "\n",
    "import torch\n",
    "import torch.nn as nn\n",
    "from torch import optim\n",
    "import torch.nn.functional as F\n",
    "\n",
    "import numpy as np\n",
    "from torch.utils.data import TensorDataset, DataLoader, RandomSampler\n",
    "\n",
    "device = torch.device(\"cuda\" if torch.cuda.is_available() else \"cpu\")"
   ]
  },
  {
   "attachments": {},
   "cell_type": "markdown",
   "metadata": {},
   "source": [
    "Loading data files\n",
    "==================\n",
    "\n",
    "The data for this project is a set of many thousands of English to\n",
    "French translation pairs.\n",
    "\n",
    "[This question on Open Data Stack\n",
    "Exchange](https://opendata.stackexchange.com/questions/3888/dataset-of-sentences-translated-into-many-languages)\n",
    "pointed me to the open translation site <https://tatoeba.org/> which has\n",
    "downloads available at <https://tatoeba.org/eng/downloads> - and better\n",
    "yet, someone did the extra work of splitting language pairs into\n",
    "individual text files here: <https://www.manythings.org/anki/>\n",
    "\n",
    "The English to French pairs are too big to include in the repository, so\n",
    "download to `data/eng-fra.txt` before continuing. The file is a tab\n",
    "separated list of translation pairs:\n",
    "\n",
    "``` {.sourceCode .sh}\n",
    "I am cold.    J'ai froid.\n",
    "```\n",
    "\n",
    "<div style=\"background-color: #54c7ec; color: #fff; font-weight: 700; padding-left: 10px; padding-top: 5px; padding-bottom: 5px\"><strong>NOTE:</strong></div>\n",
    "<div style=\"background-color: #f3f4f7; padding-left: 10px; padding-top: 10px; padding-bottom: 10px; padding-right: 10px\">\n",
    "<p>Download the data from<a href=\"https://download.pytorch.org/tutorial/data.zip\">here</a>and extract it to the current directory.</p>\n",
    "</div>\n"
   ]
  },
  {
   "attachments": {},
   "cell_type": "markdown",
   "metadata": {},
   "source": [
    "Similar to the character encoding used in the character-level RNN\n",
    "tutorials, we will be representing each word in a language as a one-hot\n",
    "vector, or giant vector of zeros except for a single one (at the index\n",
    "of the word). Compared to the dozens of characters that might exist in a\n",
    "language, there are many many more words, so the encoding vector is much\n",
    "larger. We will however cheat a bit and trim the data to only use a few\n",
    "thousand words per language.\n",
    "\n",
    "![](https://pytorch.org/tutorials/_static/img/seq-seq-images/word-encoding.png)\n"
   ]
  },
  {
   "attachments": {},
   "cell_type": "markdown",
   "metadata": {},
   "source": [
    "We\\'ll need a unique index per word to use as the inputs and targets of\n",
    "the networks later. To keep track of all this we will use a helper class\n",
    "called `Lang` which has word → index (`word2index`) and index → word\n",
    "(`index2word`) dictionaries, as well as a count of each word\n",
    "`word2count` which will be used to replace rare words later.\n"
   ]
  },
  {
   "cell_type": "code",
   "execution_count": 34,
   "metadata": {
    "collapsed": false
   },
   "outputs": [],
   "source": [
    "SOS_token = 0\n",
    "EOS_token = 1\n",
    "\n",
    "class Lang:\n",
    "    def __init__(self, name):\n",
    "        self.name = name\n",
    "        self.word2index = {}\n",
    "        self.word2count = {}\n",
    "        self.index2word = {0: \"SOS\", 1: \"EOS\"}\n",
    "        self.n_words = 2  # Count SOS and EOS\n",
    "\n",
    "    def addSentence(self, sentence):\n",
    "        for word in sentence.split(' '):\n",
    "            self.addWord(word)\n",
    "\n",
    "    def addWord(self, word):\n",
    "        if word not in self.word2index:\n",
    "            self.word2index[word] = self.n_words\n",
    "            self.word2count[word] = 1\n",
    "            self.index2word[self.n_words] = word\n",
    "            self.n_words += 1\n",
    "        else:\n",
    "            self.word2count[word] += 1"
   ]
  },
  {
   "attachments": {},
   "cell_type": "markdown",
   "metadata": {},
   "source": [
    "The files are all in Unicode, to simplify we will turn Unicode\n",
    "characters to ASCII, make everything lowercase, and trim most\n",
    "punctuation.\n"
   ]
  },
  {
   "cell_type": "code",
   "execution_count": 35,
   "metadata": {
    "collapsed": false
   },
   "outputs": [],
   "source": [
    "# Turn a Unicode string to plain ASCII, thanks to\n",
    "# https://stackoverflow.com/a/518232/2809427\n",
    "def unicodeToAscii(s):\n",
    "    return ''.join(\n",
    "        c for c in unicodedata.normalize('NFD', s)\n",
    "        if unicodedata.category(c) != 'Mn'\n",
    "    )\n",
    "\n",
    "# Lowercase, trim, and remove non-letter characters\n",
    "def normalizeString(s):\n",
    "    s = unicodeToAscii(s.lower().strip())\n",
    "    s = re.sub(r\"([.!?])\", r\" \\1\", s)\n",
    "    s = re.sub(r\"[^a-zA-Z!?]+\", r\" \", s)\n",
    "    return s.strip()"
   ]
  },
  {
   "attachments": {},
   "cell_type": "markdown",
   "metadata": {},
   "source": [
    "To read the data file we will split the file into lines, and then split\n",
    "lines into pairs. The files are all English → Other Language, so if we\n",
    "want to translate from Other Language → English I added the `reverse`\n",
    "flag to reverse the pairs.\n"
   ]
  },
  {
   "cell_type": "code",
   "execution_count": 36,
   "metadata": {
    "collapsed": false
   },
   "outputs": [],
   "source": [
    "def readLangs(lang1, lang2, reverse=False):\n",
    "    print(\"Reading lines...\")\n",
    "\n",
    "    # Read the file and split into lines\n",
    "    lines = open('data/%s-%s.txt' % (lang1, lang2), encoding='utf-8').\\\n",
    "        read().strip().split('\\n')\n",
    "\n",
    "    # Split every line into pairs and normalize\n",
    "    pairs = [[normalizeString(s) for s in l.split('\\t')] for l in lines]\n",
    "\n",
    "    # Reverse pairs, make Lang instances\n",
    "    if reverse:\n",
    "        pairs = [list(reversed(p)) for p in pairs]\n",
    "        input_lang = Lang(lang2)\n",
    "        output_lang = Lang(lang1)\n",
    "    else:\n",
    "        input_lang = Lang(lang1)\n",
    "        output_lang = Lang(lang2)\n",
    "\n",
    "    return input_lang, output_lang, pairs"
   ]
  },
  {
   "attachments": {},
   "cell_type": "markdown",
   "metadata": {},
   "source": [
    "Since there are a *lot* of example sentences and we want to train\n",
    "something quickly, we\\'ll trim the data set to only relatively short and\n",
    "simple sentences. Here the maximum length is 10 words (that includes\n",
    "ending punctuation) and we\\'re filtering to sentences that translate to\n",
    "the form \\\"I am\\\" or \\\"He is\\\" etc. (accounting for apostrophes replaced\n",
    "earlier).\n"
   ]
  },
  {
   "cell_type": "code",
   "execution_count": 191,
   "metadata": {
    "collapsed": false
   },
   "outputs": [],
   "source": [
    "MAX_LENGTH = 20\n",
    "\n",
    "eng_prefixes = (\n",
    "    \"i am \", \"i m \",\n",
    "    \"he is\", \"he s \",\n",
    "    \"she is\", \"she s \",\n",
    "    \"you are\", \"you re \",\n",
    "    \"we are\", \"we re \",\n",
    "    \"they are\", \"they re \"\n",
    ")\n",
    "\n",
    "def filterPair(p):\n",
    "    return len(p[0].split(' ')) < MAX_LENGTH and \\\n",
    "        len(p[1].split(' ')) < MAX_LENGTH # and \\\n",
    "        # p[1].startswith(eng_prefixes)\n",
    "\n",
    "\n",
    "def filterPairs(pairs):\n",
    "    return [pair for pair in pairs if filterPair(pair)]"
   ]
  },
  {
   "attachments": {},
   "cell_type": "markdown",
   "metadata": {},
   "source": [
    "The full process for preparing the data is:\n",
    "\n",
    "-   Read text file and split into lines, split lines into pairs\n",
    "-   Normalize text, filter by length and content\n",
    "-   Make word lists from sentences in pairs\n"
   ]
  },
  {
   "cell_type": "code",
   "execution_count": 192,
   "metadata": {
    "collapsed": false
   },
   "outputs": [
    {
     "name": "stdout",
     "output_type": "stream",
     "text": [
      "Reading lines...\n",
      "Read 55667 sentence pairs\n",
      "Trimmed to 46273 sentence pairs\n",
      "Counting words...\n",
      "Counted words:\n",
      "kin 85444\n",
      "eng 17896\n",
      "['allah aravuga genda uzagukurikira byukuri umuriro jahanama uzaba gihembo cyanyu mwese igihembo gikwiye', 'allah hell recompense ample recompense']\n"
     ]
    }
   ],
   "source": [
    "def prepareData(lang1, lang2, reverse=False):\n",
    "    input_lang, output_lang, pairs = readLangs(lang1, lang2, reverse)\n",
    "    print(\"Read %s sentence pairs\" % len(pairs))\n",
    "    pairs = filterPairs(pairs)\n",
    "    print(\"Trimmed to %s sentence pairs\" % len(pairs))\n",
    "    print(\"Counting words...\")\n",
    "    for pair in pairs:\n",
    "        input_lang.addSentence(pair[0])\n",
    "        output_lang.addSentence(pair[1])\n",
    "    print(\"Counted words:\")\n",
    "    print(input_lang.name, input_lang.n_words)\n",
    "    print(output_lang.name, output_lang.n_words)\n",
    "    return input_lang, output_lang, pairs\n",
    "\n",
    "input_lang, output_lang, pairs = prepareData('eng', 'kin', True)\n",
    "print(random.choice(pairs))"
   ]
  },
  {
   "attachments": {},
   "cell_type": "markdown",
   "metadata": {},
   "source": [
    "The Seq2Seq Model\n",
    "=================\n",
    "\n",
    "A Recurrent Neural Network, or RNN, is a network that operates on a\n",
    "sequence and uses its own output as input for subsequent steps.\n",
    "\n",
    "A [Sequence to Sequence network](https://arxiv.org/abs/1409.3215), or\n",
    "seq2seq network, or [Encoder Decoder\n",
    "network](https://arxiv.org/pdf/1406.1078v3.pdf), is a model consisting\n",
    "of two RNNs called the encoder and decoder. The encoder reads an input\n",
    "sequence and outputs a single vector, and the decoder reads that vector\n",
    "to produce an output sequence.\n",
    "\n",
    "![](https://pytorch.org/tutorials/_static/img/seq-seq-images/seq2seq.png)\n",
    "\n",
    "Unlike sequence prediction with a single RNN, where every input\n",
    "corresponds to an output, the seq2seq model frees us from sequence\n",
    "length and order, which makes it ideal for translation between two\n",
    "languages.\n",
    "\n",
    "Consider the sentence `Je ne suis pas le chat noir` →\n",
    "`I am not the black cat`. Most of the words in the input sentence have a\n",
    "direct translation in the output sentence, but are in slightly different\n",
    "orders, e.g. `chat noir` and `black cat`. Because of the `ne/pas`\n",
    "construction there is also one more word in the input sentence. It would\n",
    "be difficult to produce a correct translation directly from the sequence\n",
    "of input words.\n",
    "\n",
    "With a seq2seq model the encoder creates a single vector which, in the\n",
    "ideal case, encodes the \\\"meaning\\\" of the input sequence into a single\n",
    "vector --- a single point in some N dimensional space of sentences.\n"
   ]
  },
  {
   "attachments": {},
   "cell_type": "markdown",
   "metadata": {},
   "source": [
    "The Encoder\n",
    "===========\n",
    "\n",
    "The encoder of a seq2seq network is a RNN that outputs some value for\n",
    "every word from the input sentence. For every input word the encoder\n",
    "outputs a vector and a hidden state, and uses the hidden state for the\n",
    "next input word.\n",
    "\n",
    "![](https://pytorch.org/tutorials/_static/img/seq-seq-images/encoder-network.png)\n"
   ]
  },
  {
   "cell_type": "code",
   "execution_count": 193,
   "metadata": {
    "collapsed": false
   },
   "outputs": [],
   "source": [
    "class EncoderRNN(nn.Module):\n",
    "    def __init__(self, input_size, hidden_size, dropout_p=0.1):\n",
    "        super(EncoderRNN, self).__init__()\n",
    "        self.hidden_size = hidden_size\n",
    "\n",
    "        self.embedding = nn.Embedding(input_size, hidden_size)\n",
    "        self.gru = nn.GRU(hidden_size, hidden_size, batch_first=True)\n",
    "        self.dropout = nn.Dropout(dropout_p)\n",
    "\n",
    "    def forward(self, input):\n",
    "        embedded = self.dropout(self.embedding(input))\n",
    "        output, hidden = self.gru(embedded)\n",
    "        return output, hidden"
   ]
  },
  {
   "attachments": {},
   "cell_type": "markdown",
   "metadata": {},
   "source": [
    "The Decoder\n",
    "===========\n",
    "\n",
    "The decoder is another RNN that takes the encoder output vector(s) and\n",
    "outputs a sequence of words to create the translation.\n"
   ]
  },
  {
   "attachments": {},
   "cell_type": "markdown",
   "metadata": {},
   "source": [
    "Simple Decoder\n",
    "==============\n",
    "\n",
    "In the simplest seq2seq decoder we use only last output of the encoder.\n",
    "This last output is sometimes called the *context vector* as it encodes\n",
    "context from the entire sequence. This context vector is used as the\n",
    "initial hidden state of the decoder.\n",
    "\n",
    "At every step of decoding, the decoder is given an input token and\n",
    "hidden state. The initial input token is the start-of-string `<SOS>`\n",
    "token, and the first hidden state is the context vector (the encoder\\'s\n",
    "last hidden state).\n",
    "\n",
    "![](https://pytorch.org/tutorials/_static/img/seq-seq-images/decoder-network.png)\n"
   ]
  },
  {
   "cell_type": "code",
   "execution_count": 194,
   "metadata": {
    "collapsed": false
   },
   "outputs": [],
   "source": [
    "class DecoderRNN(nn.Module):\n",
    "    def __init__(self, hidden_size, output_size):\n",
    "        super(DecoderRNN, self).__init__()\n",
    "        self.embedding = nn.Embedding(output_size, hidden_size)\n",
    "        self.gru = nn.GRU(hidden_size, hidden_size, batch_first=True)\n",
    "        self.out = nn.Linear(hidden_size, output_size)\n",
    "\n",
    "    def forward(self, encoder_outputs, encoder_hidden, target_tensor=None):\n",
    "        batch_size = encoder_outputs.size(0)\n",
    "        decoder_input = torch.empty(batch_size, 1, dtype=torch.long, device=device).fill_(SOS_token)\n",
    "        decoder_hidden = encoder_hidden\n",
    "        decoder_outputs = []\n",
    "\n",
    "        for i in range(MAX_LENGTH):\n",
    "            decoder_output, decoder_hidden  = self.forward_step(decoder_input, decoder_hidden)\n",
    "            decoder_outputs.append(decoder_output)\n",
    "\n",
    "            if target_tensor is not None:\n",
    "                # Teacher forcing: Feed the target as the next input\n",
    "                decoder_input = target_tensor[:, i].unsqueeze(1) # Teacher forcing\n",
    "            else:\n",
    "                # Without teacher forcing: use its own predictions as the next input\n",
    "                _, topi = decoder_output.topk(1)\n",
    "                decoder_input = topi.squeeze(-1).detach()  # detach from history as input\n",
    "\n",
    "        decoder_outputs = torch.cat(decoder_outputs, dim=1)\n",
    "        decoder_outputs = F.log_softmax(decoder_outputs, dim=-1)\n",
    "        return decoder_outputs, decoder_hidden, None # We return `None` for consistency in the training loop\n",
    "\n",
    "    def forward_step(self, input, hidden):\n",
    "        output = self.embedding(input)\n",
    "        output = F.relu(output)\n",
    "        output, hidden = self.gru(output, hidden)\n",
    "        output = self.out(output)\n",
    "        return output, hidden"
   ]
  },
  {
   "attachments": {},
   "cell_type": "markdown",
   "metadata": {},
   "source": [
    "I encourage you to train and observe the results of this model, but to\n",
    "save space we\\'ll be going straight for the gold and introducing the\n",
    "Attention Mechanism.\n"
   ]
  },
  {
   "attachments": {},
   "cell_type": "markdown",
   "metadata": {},
   "source": [
    "Attention Decoder\n",
    "=================\n",
    "\n",
    "If only the context vector is passed between the encoder and decoder,\n",
    "that single vector carries the burden of encoding the entire sentence.\n",
    "\n",
    "Attention allows the decoder network to \\\"focus\\\" on a different part of\n",
    "the encoder\\'s outputs for every step of the decoder\\'s own outputs.\n",
    "First we calculate a set of *attention weights*. These will be\n",
    "multiplied by the encoder output vectors to create a weighted\n",
    "combination. The result (called `attn_applied` in the code) should\n",
    "contain information about that specific part of the input sequence, and\n",
    "thus help the decoder choose the right output words.\n",
    "\n",
    "![](https://i.imgur.com/1152PYf.png)\n",
    "\n",
    "Calculating the attention weights is done with another feed-forward\n",
    "layer `attn`, using the decoder\\'s input and hidden state as inputs.\n",
    "Because there are sentences of all sizes in the training data, to\n",
    "actually create and train this layer we have to choose a maximum\n",
    "sentence length (input length, for encoder outputs) that it can apply\n",
    "to. Sentences of the maximum length will use all the attention weights,\n",
    "while shorter sentences will only use the first few.\n",
    "\n",
    "![](https://pytorch.org/tutorials/_static/img/seq-seq-images/attention-decoder-network.png)\n",
    "\n",
    "Bahdanau attention, also known as additive attention, is a commonly used\n",
    "attention mechanism in sequence-to-sequence models, particularly in\n",
    "neural machine translation tasks. It was introduced by Bahdanau et al.\n",
    "in their paper titled [Neural Machine Translation by Jointly Learning to\n",
    "Align and Translate](https://arxiv.org/pdf/1409.0473.pdf). This\n",
    "attention mechanism employs a learned alignment model to compute\n",
    "attention scores between the encoder and decoder hidden states. It\n",
    "utilizes a feed-forward neural network to calculate alignment scores.\n",
    "\n",
    "However, there are alternative attention mechanisms available, such as\n",
    "Luong attention, which computes attention scores by taking the dot\n",
    "product between the decoder hidden state and the encoder hidden states.\n",
    "It does not involve the non-linear transformation used in Bahdanau\n",
    "attention.\n",
    "\n",
    "In this tutorial, we will be using Bahdanau attention. However, it would\n",
    "be a valuable exercise to explore modifying the attention mechanism to\n",
    "use Luong attention.\n"
   ]
  },
  {
   "cell_type": "code",
   "execution_count": 195,
   "metadata": {
    "collapsed": false
   },
   "outputs": [],
   "source": [
    "class BahdanauAttention(nn.Module):\n",
    "    def __init__(self, hidden_size):\n",
    "        super(BahdanauAttention, self).__init__()\n",
    "        self.Wa = nn.Linear(hidden_size, hidden_size)\n",
    "        self.Ua = nn.Linear(hidden_size, hidden_size)\n",
    "        self.Va = nn.Linear(hidden_size, 1)\n",
    "\n",
    "    def forward(self, query, keys):\n",
    "        scores = self.Va(torch.tanh(self.Wa(query) + self.Ua(keys)))\n",
    "        scores = scores.squeeze(2).unsqueeze(1)\n",
    "\n",
    "        weights = F.softmax(scores, dim=-1)\n",
    "        context = torch.bmm(weights, keys)\n",
    "\n",
    "        return context, weights\n",
    "\n",
    "class AttnDecoderRNN(nn.Module):\n",
    "    def __init__(self, hidden_size, output_size, dropout_p=0.1):\n",
    "        super(AttnDecoderRNN, self).__init__()\n",
    "        self.embedding = nn.Embedding(output_size, hidden_size)\n",
    "        self.attention = BahdanauAttention(hidden_size)\n",
    "        self.gru = nn.GRU(2 * hidden_size, hidden_size, batch_first=True)\n",
    "        self.out = nn.Linear(hidden_size, output_size)\n",
    "        self.dropout = nn.Dropout(dropout_p)\n",
    "\n",
    "    def forward(self, encoder_outputs, encoder_hidden, target_tensor=None):\n",
    "        batch_size = encoder_outputs.size(0)\n",
    "        decoder_input = torch.empty(batch_size, 1, dtype=torch.long, device=device).fill_(SOS_token)\n",
    "        decoder_hidden = encoder_hidden\n",
    "        decoder_outputs = []\n",
    "        attentions = []\n",
    "\n",
    "        for i in range(MAX_LENGTH):\n",
    "            decoder_output, decoder_hidden, attn_weights = self.forward_step(\n",
    "                decoder_input, decoder_hidden, encoder_outputs\n",
    "            )\n",
    "            decoder_outputs.append(decoder_output)\n",
    "            attentions.append(attn_weights)\n",
    "\n",
    "            if target_tensor is not None:\n",
    "                # Teacher forcing: Feed the target as the next input\n",
    "                decoder_input = target_tensor[:, i].unsqueeze(1) # Teacher forcing\n",
    "            else:\n",
    "                # Without teacher forcing: use its own predictions as the next input\n",
    "                _, topi = decoder_output.topk(1)\n",
    "                decoder_input = topi.squeeze(-1).detach()  # detach from history as input\n",
    "\n",
    "        decoder_outputs = torch.cat(decoder_outputs, dim=1)\n",
    "        decoder_outputs = F.log_softmax(decoder_outputs, dim=-1)\n",
    "        attentions = torch.cat(attentions, dim=1)\n",
    "\n",
    "        return decoder_outputs, decoder_hidden, attentions\n",
    "\n",
    "\n",
    "    def forward_step(self, input, hidden, encoder_outputs):\n",
    "        embedded =  self.dropout(self.embedding(input))\n",
    "\n",
    "        query = hidden.permute(1, 0, 2)\n",
    "        context, attn_weights = self.attention(query, encoder_outputs)\n",
    "        input_gru = torch.cat((embedded, context), dim=2)\n",
    "\n",
    "        output, hidden = self.gru(input_gru, hidden)\n",
    "        output = self.out(output)\n",
    "\n",
    "        return output, hidden, attn_weights"
   ]
  },
  {
   "attachments": {},
   "cell_type": "markdown",
   "metadata": {},
   "source": [
    "<div style=\"background-color: #54c7ec; color: #fff; font-weight: 700; padding-left: 10px; padding-top: 5px; padding-bottom: 5px\"><strong>NOTE:</strong></div>\n",
    "<div style=\"background-color: #f3f4f7; padding-left: 10px; padding-top: 10px; padding-bottom: 10px; padding-right: 10px\">\n",
    "<p>There are other forms of attention that work around the lengthlimitation by using a relative position approach. Read about \"localattention\" in <a href=\"https://arxiv.org/abs/1508.04025\">Effective Approaches to Attention-based Neural MachineTranslation</a>.</p>\n",
    "</div>\n",
    "\n",
    "Training\n",
    "========\n",
    "\n",
    "Preparing Training Data\n",
    "-----------------------\n",
    "\n",
    "To train, for each pair we will need an input tensor (indexes of the\n",
    "words in the input sentence) and target tensor (indexes of the words in\n",
    "the target sentence). While creating these vectors we will append the\n",
    "EOS token to both sequences.\n"
   ]
  },
  {
   "cell_type": "code",
   "execution_count": 196,
   "metadata": {
    "collapsed": false
   },
   "outputs": [],
   "source": [
    "def indexesFromSentence(lang, sentence):\n",
    "    return [lang.word2index[word] for word in sentence.split(' ')]\n",
    "\n",
    "def tensorFromSentence(lang, sentence):\n",
    "    indexes = indexesFromSentence(lang, sentence)\n",
    "    indexes.append(EOS_token)\n",
    "    return torch.tensor(indexes, dtype=torch.long, device=device).view(1, -1)\n",
    "\n",
    "def tensorsFromPair(pair):\n",
    "    input_tensor = tensorFromSentence(input_lang, pair[0])\n",
    "    target_tensor = tensorFromSentence(output_lang, pair[1])\n",
    "    return (input_tensor, target_tensor)\n",
    "\n",
    "def get_dataloader(batch_size, language='spa'):\n",
    "    input_lang, output_lang, pairs = prepareData('eng', language, True)\n",
    "\n",
    "    n = len(pairs)\n",
    "    input_ids = np.zeros((n, MAX_LENGTH), dtype=np.int32)\n",
    "    target_ids = np.zeros((n, MAX_LENGTH), dtype=np.int32)\n",
    "\n",
    "    for idx, (inp, tgt) in enumerate(pairs):\n",
    "        inp_ids = indexesFromSentence(input_lang, inp)\n",
    "        tgt_ids = indexesFromSentence(output_lang, tgt)\n",
    "        inp_ids.append(EOS_token)\n",
    "        tgt_ids.append(EOS_token)\n",
    "        input_ids[idx, :len(inp_ids)] = inp_ids\n",
    "        target_ids[idx, :len(tgt_ids)] = tgt_ids\n",
    "\n",
    "    indices_tensor = torch.arange(n)\n",
    "\n",
    "    train_data = TensorDataset(torch.LongTensor(input_ids).to(device),\n",
    "                               torch.LongTensor(target_ids).to(device),\n",
    "                               indices_tensor.to(device))\n",
    "\n",
    "    train_sampler = RandomSampler(train_data)\n",
    "    train_dataloader = DataLoader(train_data, sampler=train_sampler, batch_size=batch_size)\n",
    "    return input_lang, output_lang, train_dataloader, pairs"
   ]
  },
  {
   "attachments": {},
   "cell_type": "markdown",
   "metadata": {},
   "source": [
    "Training the Model\n",
    "==================\n",
    "\n",
    "To train we run the input sentence through the encoder, and keep track\n",
    "of every output and the latest hidden state. Then the decoder is given\n",
    "the `<SOS>` token as its first input, and the last hidden state of the\n",
    "encoder as its first hidden state.\n",
    "\n",
    "\\\"Teacher forcing\\\" is the concept of using the real target outputs as\n",
    "each next input, instead of using the decoder\\'s guess as the next\n",
    "input. Using teacher forcing causes it to converge faster but [when the\n",
    "trained network is exploited, it may exhibit\n",
    "instability](http://citeseerx.ist.psu.edu/viewdoc/download?doi=10.1.1.378.4095&rep=rep1&type=pdf).\n",
    "\n",
    "You can observe outputs of teacher-forced networks that read with\n",
    "coherent grammar but wander far from the correct translation\n",
    "-intuitively it has learned to represent the output grammar and can\n",
    "\\\"pick up\\\" the meaning once the teacher tells it the first few words,\n",
    "but it has not properly learned how to create the sentence from the\n",
    "translation in the first place.\n",
    "\n",
    "Because of the freedom PyTorch\\'s autograd gives us, we can randomly\n",
    "choose to use teacher forcing or not with a simple if statement. Turn\n",
    "`teacher_forcing_ratio` up to use more of it.\n"
   ]
  },
  {
   "cell_type": "code",
   "execution_count": 197,
   "metadata": {
    "collapsed": false
   },
   "outputs": [],
   "source": [
    "def train_epoch(dataloader, encoder, decoder, encoder_optimizer,\n",
    "          decoder_optimizer, criterion):\n",
    "\n",
    "    total_loss = 0\n",
    "    for data in dataloader:\n",
    "        input_tensor, target_tensor, _ = data\n",
    "\n",
    "        encoder_optimizer.zero_grad()\n",
    "        decoder_optimizer.zero_grad()\n",
    "\n",
    "        encoder_outputs, encoder_hidden = encoder(input_tensor)\n",
    "        decoder_outputs, _, _ = decoder(encoder_outputs, encoder_hidden, target_tensor)\n",
    "\n",
    "        loss = criterion(\n",
    "            decoder_outputs.view(-1, decoder_outputs.size(-1)),\n",
    "            target_tensor.view(-1)\n",
    "        )\n",
    "        loss.backward()\n",
    "\n",
    "        encoder_optimizer.step()\n",
    "        decoder_optimizer.step()\n",
    "\n",
    "        total_loss += loss.item()\n",
    "\n",
    "    return total_loss / len(dataloader)"
   ]
  },
  {
   "attachments": {},
   "cell_type": "markdown",
   "metadata": {},
   "source": [
    "This is a helper function to print time elapsed and estimated time\n",
    "remaining given the current time and progress %.\n"
   ]
  },
  {
   "cell_type": "code",
   "execution_count": 198,
   "metadata": {
    "collapsed": false
   },
   "outputs": [],
   "source": [
    "import time\n",
    "import math\n",
    "\n",
    "def asMinutes(s):\n",
    "    m = math.floor(s / 60)\n",
    "    s -= m * 60\n",
    "    return '%dm %ds' % (m, s)\n",
    "\n",
    "def timeSince(since, percent):\n",
    "    now = time.time()\n",
    "    s = now - since\n",
    "    es = s / (percent)\n",
    "    rs = es - s\n",
    "    return '%s (- %s)' % (asMinutes(s), asMinutes(rs))"
   ]
  },
  {
   "cell_type": "code",
   "execution_count": 199,
   "metadata": {},
   "outputs": [],
   "source": [
    "class ClientUpdate(object):\n",
    "    def __init__(self, train_dataloader, learning_rate, epochs, sch_flag):\n",
    "        self.train_loader = train_dataloader\n",
    "        self.learning_rate = learning_rate\n",
    "        self.epochs = epochs\n",
    "        self.sch_flag = sch_flag\n",
    "\n",
    "    def train(self, encoder, decoder):\n",
    "\n",
    "        criterion = nn.CrossEntropyLoss()\n",
    "        # optimizer = torch.optim.SGD(model.parameters(), lr=self.learning_rate, momentum=0.95, weight_decay = 5e-4)\n",
    "        encoder_optimizer = optim.Adam(encoder.parameters(), lr=self.learning_rate)\n",
    "        decoder_optimizer = optim.Adam(decoder.parameters(), lr=self.learning_rate)\n",
    "        # if self.sch_flag == True:\n",
    "        #    scheduler = torch.optim.lr_scheduler.ReduceLROnPlateau(optimizer, mode='min', factor=0.5)\n",
    "        # my_lr_scheduler = torch.optim.lr_scheduler.StepLR(optimizer, step_size=1, gamma=0.99)\n",
    "        e_loss = []\n",
    "        for epoch in range(1, self.epochs + 1):\n",
    "            loss = train_epoch(self.train_loader, encoder, decoder, encoder_optimizer, decoder_optimizer, criterion)\n",
    "            e_loss.append(loss)\n",
    "\n",
    "            # print_loss_total += loss\n",
    "            # plot_loss_total += loss\n",
    "\n",
    "            # if epoch % print_every == 0:\n",
    "            #     print_loss_avg = print_loss_total / print_every\n",
    "            #     print_loss_total = 0\n",
    "            #     print('%s (%d %d%%) %.4f' % (timeSince(start, epoch / n_epochs),\n",
    "            #                                 epoch, epoch / n_epochs * 100, print_loss_avg))\n",
    "\n",
    "            # if epoch % plot_every == 0:\n",
    "            #     plot_loss_avg = plot_loss_total / plot_every\n",
    "            #     plot_losses.append(plot_loss_avg)\n",
    "            #     plot_loss_total = 0\n",
    "\n",
    "            total_loss = sum(e_loss) / len(e_loss)\n",
    "\n",
    "        return encoder.state_dict(), decoder.state_dict(), total_loss, torch.tensor(len(self.train_loader.sampler))"
   ]
  },
  {
   "attachments": {},
   "cell_type": "markdown",
   "metadata": {},
   "source": [
    "The whole training process looks like this:\n",
    "\n",
    "-   Start a timer\n",
    "-   Initialize optimizers and criterion\n",
    "-   Create set of training pairs\n",
    "-   Start empty losses array for plotting\n",
    "\n",
    "Then we call `train` many times and occasionally print the progress (%\n",
    "of examples, time so far, estimated time) and average loss.\n"
   ]
  },
  {
   "cell_type": "code",
   "execution_count": 200,
   "metadata": {},
   "outputs": [],
   "source": [
    "from torchtext.data.metrics import bleu_score\n",
    "def evaluateBleu(encoder, decoder, input_lang, output_lang, pairs, n=10, verbose=False):\n",
    "    references = []\n",
    "    candidates = []\n",
    "\n",
    "    numbers = random.sample(range(len(pairs)), n)\n",
    "\n",
    "    for num in numbers:\n",
    "        pair = pairs[num]\n",
    "        output_words, _ = evaluate(encoder, decoder, pair[0], input_lang, output_lang)\n",
    "        output_sentence = ' '.join(output_words).split(' ')\n",
    "        if verbose:\n",
    "            print('>', pair[0])\n",
    "            print('=', pair[1])\n",
    "            print('<', ' '.join(output_sentence))\n",
    "            print('')\n",
    "\n",
    "        # Store the reference and candidate sentences for BLEU calculation\n",
    "        references.append([pair[1].split(' ')])\n",
    "        candidates.append(output_sentence)\n",
    "\n",
    "    # Calculate the BLEU score\n",
    "    score = bleu_score(candidates, references)\n",
    "    return score"
   ]
  },
  {
   "cell_type": "code",
   "execution_count": 201,
   "metadata": {
    "collapsed": false
   },
   "outputs": [],
   "source": [
    "import csv\n",
    "def train(train_dataloader, encoder, decoder, n_epochs, input, output, pairs, test_pairs=None, filename=None, learning_rate=0.001,\n",
    "               print_every=100, plot_every=100):\n",
    "    start = time.time()\n",
    "    plot_losses = []\n",
    "    print_loss_total = 0  # Reset every print_every\n",
    "    plot_loss_total = 0  # Reset every plot_every\n",
    "    best_bleu = 0\n",
    "    best_test_bleu = 0\n",
    "\n",
    "    encoder_optimizer = optim.Adam(encoder.parameters(), lr=learning_rate)\n",
    "    decoder_optimizer = optim.Adam(decoder.parameters(), lr=learning_rate)\n",
    "    criterion = nn.NLLLoss()\n",
    "\n",
    "    for epoch in range(1, n_epochs + 1):\n",
    "        loss = train_epoch(train_dataloader, encoder, decoder, encoder_optimizer, decoder_optimizer, criterion)\n",
    "        print_loss_total += loss\n",
    "        plot_loss_total += loss\n",
    "\n",
    "        bleu = evaluateBleu(encoder, decoder, input, output, pairs, n=50)\n",
    "        if test_pairs is not None:\n",
    "            test_bleu = evaluateBleu(encoder, decoder, input, output, test_pairs, n=len(test_pairs))\n",
    "        else:\n",
    "            test_bleu = 0\n",
    "\n",
    "        if best_bleu < bleu:\n",
    "            best_bleu = bleu\n",
    "        \n",
    "        if best_test_bleu < test_bleu:\n",
    "            best_test_bleu = test_bleu\n",
    "\n",
    "        if epoch % print_every == 0:\n",
    "            print_loss_avg = print_loss_total / print_every\n",
    "            print_loss_total = 0\n",
    "            print(f'Epoch {epoch} >> Loss: {print_loss_avg}, Bleu: {bleu}, Test Bleu: {test_bleu}, Best:({best_bleu}/{best_test_bleu})')\n",
    "\n",
    "        if epoch % plot_every == 0:\n",
    "            plot_loss_avg = plot_loss_total / plot_every\n",
    "            plot_losses.append(plot_loss_avg)\n",
    "            plot_loss_total = 0\n",
    "\n",
    "\n",
    "        if filename is not None:\n",
    "            with open(filename, 'a') as f:\n",
    "                # create the csv writer\n",
    "                writer = csv.writer(f)\n",
    "\n",
    "                # write a row to the csv file\n",
    "                writer.writerow([epoch, loss, bleu, best_bleu, test_bleu, best_test_bleu])\n",
    "\n",
    "    showPlot(plot_losses)"
   ]
  },
  {
   "attachments": {},
   "cell_type": "markdown",
   "metadata": {},
   "source": [
    "Plotting results\n",
    "================\n",
    "\n",
    "Plotting is done with matplotlib, using the array of loss values\n",
    "`plot_losses` saved while training.\n"
   ]
  },
  {
   "cell_type": "code",
   "execution_count": 202,
   "metadata": {
    "collapsed": false
   },
   "outputs": [],
   "source": [
    "import matplotlib.pyplot as plt\n",
    "plt.switch_backend('agg')\n",
    "import matplotlib.ticker as ticker\n",
    "import numpy as np\n",
    "\n",
    "def showPlot(points):\n",
    "    plt.figure()\n",
    "    fig, ax = plt.subplots()\n",
    "    # this locator puts ticks at regular intervals\n",
    "    loc = ticker.MultipleLocator(base=0.2)\n",
    "    ax.yaxis.set_major_locator(loc)\n",
    "    plt.plot(points)"
   ]
  },
  {
   "attachments": {},
   "cell_type": "markdown",
   "metadata": {},
   "source": [
    "Evaluation\n",
    "==========\n",
    "\n",
    "Evaluation is mostly the same as training, but there are no targets so\n",
    "we simply feed the decoder\\'s predictions back to itself for each step.\n",
    "Every time it predicts a word we add it to the output string, and if it\n",
    "predicts the EOS token we stop there. We also store the decoder\\'s\n",
    "attention outputs for display later.\n"
   ]
  },
  {
   "cell_type": "code",
   "execution_count": 203,
   "metadata": {
    "collapsed": false
   },
   "outputs": [],
   "source": [
    "def evaluate(encoder, decoder, sentence, input_lang, output_lang):\n",
    "    with torch.no_grad():\n",
    "        input_tensor = tensorFromSentence(input_lang, sentence)\n",
    "\n",
    "        encoder_outputs, encoder_hidden = encoder(input_tensor)\n",
    "        decoder_outputs, decoder_hidden, decoder_attn = decoder(encoder_outputs, encoder_hidden)\n",
    "\n",
    "        _, topi = decoder_outputs.topk(1)\n",
    "        decoded_ids = topi.squeeze()\n",
    "\n",
    "        decoded_words = []\n",
    "        for idx in decoded_ids:\n",
    "            if idx.item() == EOS_token:\n",
    "                decoded_words.append('<EOS>')\n",
    "                break\n",
    "            decoded_words.append(output_lang.index2word[idx.item()])\n",
    "    return decoded_words, decoder_attn"
   ]
  },
  {
   "attachments": {},
   "cell_type": "markdown",
   "metadata": {},
   "source": [
    "We can evaluate random sentences from the training set and print out the\n",
    "input, target, and output to make some subjective quality judgements:\n"
   ]
  },
  {
   "cell_type": "code",
   "execution_count": 219,
   "metadata": {},
   "outputs": [],
   "source": [
    "def evaluateMultipleBleu(encoders, decoders, input_output_langs, n=10):\n",
    "    bleu_sum = 0\n",
    "    bleu_test_sum = 0\n",
    "    lang_length = len(encoders)\n",
    "    bleus = []\n",
    "    test_bleus = []\n",
    "    for i in range(lang_length):\n",
    "        bleu = evaluateBleu(encoders[i], decoders[i], input_output_langs[i][0], input_output_langs[i][1], input_output_langs[i][2], n=n)\n",
    "        bleu_sum += bleu\n",
    "        bleus.append(bleu)\n",
    "    for i in range(lang_length):\n",
    "        test_bleu = evaluateBleu(encoders[i], decoders[i], input_output_langs[i][0], input_output_langs[i][1], input_output_langs[i][3], n=n)\n",
    "        bleu_test_sum += test_bleu\n",
    "        test_bleus.append(test_bleu)\n",
    "    return (bleu_sum / lang_length), (bleu_test_sum / lang_length), bleus, test_bleus\n",
    "        "
   ]
  },
  {
   "attachments": {},
   "cell_type": "markdown",
   "metadata": {},
   "source": [
    "## Federated Learning"
   ]
  },
  {
   "cell_type": "code",
   "execution_count": 229,
   "metadata": {},
   "outputs": [],
   "source": [
    "import copy\n",
    "from tqdm import tqdm\n",
    "import csv\n",
    "\n",
    "def training(encoders, decoders, input_output_lang, rounds, lr, ds, C, K, E, filename=None, batch_size=None, hidden_size=None, cifar_data_test = None,\n",
    "             test_batch_size = None, classes_test = None, sch_flag = None, weighting=False, lexical_weights=None):\n",
    "    \"\"\"\n",
    "    Function implements the Federated Averaging Algorithm from the FedAvg paper.\n",
    "    Specifically, this function is used for the server side training and weight update\n",
    "\n",
    "    Params:\n",
    "      - model:           PyTorch model to train\n",
    "      - rounds:          Number of communication rounds for the client update\n",
    "      - batch_size:      Batch size for client update training\n",
    "      - lr:              Learning rate used for client update training\n",
    "      - ds:              Dataset used for training\n",
    "      - data_dict:       Type of data partition used for training (IID or non-IID)\n",
    "      - C:               Fraction of clients randomly chosen to perform computation on each round\n",
    "      - K:               Total number of clients\n",
    "      - E:               Number of training passes each client makes over its local dataset per round\n",
    "      - tb_writer_name:  Directory name to save the tensorboard logs\n",
    "    Returns:\n",
    "      - model:           Trained model on the server\n",
    "    \"\"\"\n",
    "\n",
    "    # global model weights\n",
    "    global_encoder_weights = {key: value for key, value in encoders[0].state_dict().items() if 'embedding' not in key}\n",
    "    global_decoder_weights = {key: value for key, value in decoders[0].state_dict().items() if 'embedding' not in key and 'out' not in key}\n",
    "\n",
    "    # training loss\n",
    "    train_loss = []\n",
    "    test_loss = []\n",
    "    test_accuracy = []\n",
    "    best_bleu = 0\n",
    "    best_test_bleu = 0\n",
    "    # measure time\n",
    "    start = time.time()\n",
    "\n",
    "    lex_weighting = False\n",
    "    if lexical_weights is not None:\n",
    "        lex_weighting = True\n",
    "\n",
    "    if filename is not None:\n",
    "            with open(filename, 'a') as f:\n",
    "                # create the csv writer\n",
    "                writer = csv.writer(f)\n",
    "\n",
    "                # write a row to the csv file\n",
    "                writer.writerow(['Rounds', 'Learning Rate', 'Client Fraction', 'Client Number', 'Local Epochs', 'Batch Size', 'Hidden Size', 'Weighting', 'Lexical Weighting'])\n",
    "                writer.writerow([rounds, lr, C, K, E, batch_size, hidden_size, weighting, lex_weighting])\n",
    "\n",
    "    for curr_round in range(1, rounds + 1):\n",
    "        w_encoder, w_decoder, local_loss, num_pairs, round_lex_weight = [], [], [], [], []\n",
    "        # Retrieve the number of clients participating in the current training\n",
    "        m = max(int(C * K), 1)\n",
    "        # Sample a subset of K clients according with the value defined before\n",
    "        S_t = np.random.choice(range(K), m, replace=False)\n",
    "        # For the selected clients start a local training\n",
    "        for k in tqdm(S_t):\n",
    "            # Compute a local update\n",
    "            local_update = ClientUpdate(train_dataloader=ds[k], learning_rate=lr, epochs=E,\n",
    "                                        sch_flag=sch_flag)\n",
    "            # Update means retrieve the values of the network weights\n",
    "            \n",
    "            e_og = encoders[k].state_dict()\n",
    "            d_og = decoders[k].state_dict()\n",
    "            e_og.update(global_encoder_weights)\n",
    "            d_og.update(global_decoder_weights)\n",
    "            encoders[k].load_state_dict(e_og)\n",
    "            decoders[k].load_state_dict(d_og)\n",
    "            \n",
    "            encoder_weights, decoder_weights, loss, num = local_update.train(encoders[k], decoders[k])\n",
    "\n",
    "            w_encoder.append({key: value for key, value in copy.deepcopy(encoder_weights).items() if 'embedding' not in key})\n",
    "            w_decoder.append({key: value for key, value in copy.deepcopy(decoder_weights).items() if 'embedding' not in key and 'out' not in key})\n",
    "            local_loss.append(copy.deepcopy(loss))\n",
    "            num_pairs.append(num)\n",
    "            if lex_weighting:\n",
    "                round_lex_weight.append(lexical_weights[k])\n",
    "        # lr = 0.999*lr\n",
    "        # updating the global weights\n",
    "        weights_avg_e = copy.deepcopy(w_encoder[0])\n",
    "\n",
    "        weights_sum = sum(num_pairs)\n",
    "        client_weights = [weight / weights_sum for weight in num_pairs]\n",
    "        if lex_weighting:\n",
    "            new_weights = [100 - weight for weight in round_lex_weight]\n",
    "            sum_lex = sum(round_lex_weight)\n",
    "            if weighting:\n",
    "                client_weights = [(weight + lex_weight) / 2 for lex_weight, weight in zip(new_weights, client_weights)]\n",
    "            else:\n",
    "                client_weights = [weight / sum_lex for weight in new_weights]\n",
    "\n",
    "\n",
    "        for k in weights_avg_e.keys():\n",
    "            if weighting or lex_weighting:\n",
    "                weights_avg_e[k] *= client_weights[0]\n",
    "                for i in range(1, len(w_encoder)):\n",
    "                    weights_avg_e[k] += w_encoder[i][k] * client_weights[i]\n",
    "                \n",
    "            else:\n",
    "                for i in range(1, len(w_encoder)):\n",
    "                    weights_avg_e[k] += w_encoder[i][k]\n",
    "                \n",
    "                weights_avg_e[k] = torch.div(weights_avg_e[k], len(w_encoder))\n",
    "\n",
    "        global_encoder_weights = weights_avg_e\n",
    "\n",
    "        weights_avg_d = copy.deepcopy(w_decoder[0])\n",
    "        for k in weights_avg_d.keys():\n",
    "            if weighting:\n",
    "                weights_avg_d[k] *= client_weights[0]\n",
    "                for i in range(1, len(w_decoder)):\n",
    "                    weights_avg_d[k] += w_decoder[i][k] * client_weights[i]\n",
    "                \n",
    "            else:\n",
    "                for i in range(1, len(w_decoder)):\n",
    "                    weights_avg_d[k] += w_decoder[i][k]\n",
    "\n",
    "                weights_avg_d[k] = torch.div(weights_avg_d[k], len(w_decoder))\n",
    "\n",
    "        global_decoder_weights = weights_avg_d\n",
    "        \n",
    "\n",
    "        # if curr_round == 200:\n",
    "        #     lr = lr / 2\n",
    "        #     E = E - 1\n",
    "\n",
    "        # if curr_round == 300:\n",
    "        #     lr = lr / 2\n",
    "        #     E = E - 2\n",
    "\n",
    "        # if curr_round == 400:\n",
    "        #     lr = lr / 5\n",
    "        #     E = E - 3\n",
    "\n",
    "        # move the updated weights to our model state dict\n",
    "        # encoder.load_state_dict(global_encoder_weights)\n",
    "        # decoder.load_state_dict(global_decoder_weights)\n",
    "\n",
    "        # loss\n",
    "        loss_avg = sum(local_loss) / len(local_loss)\n",
    "        # print('Round: {}... \\tAverage Loss: {}'.format(curr_round, round(loss_avg, 3)), lr)\n",
    "        train_loss.append(loss_avg)\n",
    "\n",
    "        # t_accuracy, t_loss = testing(model, cifar_data_test, test_batch_size, criterion, num_classes, classes_test)\n",
    "        # test_accuracy.append(t_accuracy)\n",
    "        # test_loss.append(t_loss)\n",
    "\n",
    "        # if best_accuracy < t_accuracy:\n",
    "        #     best_accuracy = t_accuracy\n",
    "        # # torch.save(model.state_dict(), plt_title)\n",
    "        # print(curr_round, loss_avg, t_loss, test_accuracy[0], best_accuracy)\n",
    "        # # print('best_accuracy:', best_accuracy, '---Round:', curr_round, '---lr', lr, '----localEpocs--', E)\n",
    "        bleu, test_bleu, bleu_list, test_bleu_list = evaluateMultipleBleu(encoders, decoders, input_output_lang, n=200)\n",
    "\n",
    "        if best_bleu < bleu:\n",
    "            best_bleu = bleu\n",
    "        if best_test_bleu < test_bleu:\n",
    "            best_test_bleu = test_bleu\n",
    "\n",
    "        if filename is not None:\n",
    "            with open(filename, 'a') as f:\n",
    "                # create the csv writer\n",
    "                writer = csv.writer(f)\n",
    "\n",
    "                # write a row to the csv file\n",
    "                writer.writerow([curr_round, loss_avg, bleu, best_bleu, test_bleu, best_test_bleu, str(bleu_list), str(test_bleu_list)])\n",
    "        print(f\"Round {curr_round} >> Loss: {loss_avg}, BLEU:{bleu}, TEST:{test_bleu}, LISTS:({str(bleu_list)}/{str(test_bleu_list)})\")\n",
    "\n",
    "    end = time.time()\n",
    "    print(\"Training Done!\")\n",
    "    print(\"Total time taken to Train: {}\".format(end - start))\n",
    "\n",
    "    return global_encoder_weights, global_decoder_weights"
   ]
  },
  {
   "cell_type": "code",
   "execution_count": 230,
   "metadata": {},
   "outputs": [],
   "source": [
    "from torch.utils.data import DataLoader, SubsetRandomSampler\n",
    "\n",
    "def split_dataloader(dataloader, train_fraction=0.75):\n",
    "    # Total number of samples in the dataloader\n",
    "    dataset_size = len(dataloader.dataset)\n",
    "    \n",
    "    # Indices of all elements in the dataset\n",
    "    indices = list(range(dataset_size))\n",
    "    \n",
    "    # Shuffle indices\n",
    "    np.random.shuffle(indices)\n",
    "    \n",
    "    # Determine the split point\n",
    "    split = int(np.floor(train_fraction * dataset_size))\n",
    "    \n",
    "    # Create training and test samplers\n",
    "    train_indices, test_indices = indices[:split], indices[split:]\n",
    "    train_sampler = SubsetRandomSampler(train_indices)\n",
    "    test_sampler = SubsetRandomSampler(test_indices)\n",
    "    \n",
    "    # Create training and test dataloaders\n",
    "    train_loader = DataLoader(dataloader.dataset, batch_size=dataloader.batch_size, \n",
    "                              sampler=train_sampler, drop_last=True)\n",
    "    test_loader = DataLoader(dataloader.dataset, batch_size=dataloader.batch_size, \n",
    "                             sampler=test_sampler, drop_last=True)\n",
    "    \n",
    "    return train_loader, test_loader"
   ]
  },
  {
   "cell_type": "code",
   "execution_count": 231,
   "metadata": {},
   "outputs": [],
   "source": [
    "def get_pair_index(dataloader):\n",
    "    shuffled_indices = []\n",
    "    for _, _, indices in dataloader:\n",
    "        shuffled_indices.extend(indices.tolist())\n",
    "    return shuffled_indices"
   ]
  },
  {
   "attachments": {},
   "cell_type": "markdown",
   "metadata": {},
   "source": [
    "Training and Evaluating\n",
    "=======================\n",
    "\n",
    "With all these helper functions in place (it looks like extra work, but\n",
    "it makes it easier to run multiple experiments) we can actually\n",
    "initialize a network and start training.\n",
    "\n",
    "Remember that the input sentences were heavily filtered. For this small\n",
    "dataset we can use relatively small networks of 256 hidden nodes and a\n",
    "single GRU layer. After about 40 minutes on a MacBook CPU we\\'ll get\n",
    "some reasonable results.\n",
    "\n",
    "<div style=\"background-color: #54c7ec; color: #fff; font-weight: 700; padding-left: 10px; padding-top: 5px; padding-bottom: 5px\"><strong>NOTE:</strong></div>\n",
    "<div style=\"background-color: #f3f4f7; padding-left: 10px; padding-top: 10px; padding-bottom: 10px; padding-right: 10px\">\n",
    "<p>If you run this notebook you can train, interrupt the kernel,evaluate, and continue training later. Comment out the lines where theencoder and decoder are initialized and run <code>trainIters</code> again.</p>\n",
    "</div>\n"
   ]
  },
  {
   "cell_type": "code",
   "execution_count": 232,
   "metadata": {},
   "outputs": [],
   "source": [
    "hidden_size = 128\n",
    "batch_size = 32\n",
    "# input_lang, output_lang, train_dataloader = get_dataloader(batch_size, language='spa')"
   ]
  },
  {
   "cell_type": "code",
   "execution_count": 233,
   "metadata": {},
   "outputs": [
    {
     "name": "stdout",
     "output_type": "stream",
     "text": [
      "Reading lines...\n",
      "Read 82370 sentence pairs\n",
      "Trimmed to 73395 sentence pairs\n",
      "Counting words...\n",
      "Counted words:\n",
      "bem 56591\n",
      "eng 11242\n",
      "Reading lines...\n",
      "Read 55667 sentence pairs\n",
      "Trimmed to 46273 sentence pairs\n",
      "Counting words...\n",
      "Counted words:\n",
      "kin 85444\n",
      "eng 17896\n",
      "Reading lines...\n",
      "Read 15022 sentence pairs\n",
      "Trimmed to 14944 sentence pairs\n",
      "Counting words...\n",
      "Counted words:\n",
      "lug 15464\n",
      "eng 7712\n"
     ]
    }
   ],
   "source": [
    "data_dict = {}\n",
    "encoders = {}\n",
    "decoders = {}\n",
    "lexical_weight_dict = {}\n",
    "input_output_lang = {}\n",
    "langs = ['bem', 'kin', 'lug']\n",
    "langs = sorted(langs)\n",
    "weights = [42, 6, 43] # This needs to line up with the sorted langs\n",
    "K = len(langs)\n",
    "for i in range(K):\n",
    "    input_lang, output_lang, train_dataloader, pair = get_dataloader(batch_size, language=langs[i])\n",
    "    train_dataloader, test_dataloader = split_dataloader(train_dataloader)\n",
    "    train_idx = get_pair_index(train_dataloader)\n",
    "    test_idx = get_pair_index(test_dataloader)\n",
    "\n",
    "    train_pairs = [pair[i] for i in train_idx]\n",
    "    test_pairs = [pair[i] for i in test_idx]\n",
    "\n",
    "    data_dict[i] = train_dataloader\n",
    "    encoders[i] = EncoderRNN(input_lang.n_words, hidden_size).to(device)\n",
    "    decoders[i] = AttnDecoderRNN(hidden_size, output_lang.n_words).to(device)\n",
    "    input_output_lang[i] = (input_lang, output_lang, train_pairs, test_pairs)\n",
    "    lexical_weight_dict[i] = weights[i]"
   ]
  },
  {
   "cell_type": "code",
   "execution_count": 234,
   "metadata": {},
   "outputs": [],
   "source": [
    "# st = {key: value for key, value in encoders[0].state_dict().items() if 'embedding' not in key}\n",
    "# st2 = {key: value for key, value in decoders[0].state_dict().items() if 'embedding' not in key and 'out' not in key}\n",
    "# encoders[1].state_dict().update(st)\n",
    "# decoders[1].state_dict().update(st2)\n",
    "# new = (encoders[0].state_dict())\n",
    "# new.update(global_encoder_weights)\n",
    "# encoders[0].load_state_dict(new)"
   ]
  },
  {
   "cell_type": "code",
   "execution_count": 235,
   "metadata": {
    "collapsed": false
   },
   "outputs": [],
   "source": [
    "import os\n",
    "# train(train_dataloader, encoder, decoder, 80, print_every=5, plot_every=5)\n",
    "\n",
    "filename=None\n",
    "save = True\n",
    "if save:\n",
    "    num = 1\n",
    "    filename = f\"GLOBAL|{'_'.join(langs)}||{num}.csv\"\n",
    "    while os.path.isfile(filename):\n",
    "        print('Name is taken...trying again...')\n",
    "        num += 1\n",
    "        filename = f\"GLOBAL|{'_'.join(langs)}||{num}.csv\""
   ]
  },
  {
   "cell_type": "code",
   "execution_count": 236,
   "metadata": {},
   "outputs": [
    {
     "name": "stderr",
     "output_type": "stream",
     "text": [
      "100%|██████████| 3/3 [00:54<00:00, 18.25s/it]\n"
     ]
    },
    {
     "name": "stdout",
     "output_type": "stream",
     "text": [
      "Round 1 >> Loss: 2.925910965425371, BLEU:0.010990042818962452, TEST:0.010461786948338943, LISTS:([0.032970128456887356, 0.0, 0.0]/[0.03138536084501683, 0.0, 0.0])\n"
     ]
    },
    {
     "name": "stderr",
     "output_type": "stream",
     "text": [
      "100%|██████████| 3/3 [00:56<00:00, 18.81s/it]\n"
     ]
    },
    {
     "name": "stdout",
     "output_type": "stream",
     "text": [
      "Round 2 >> Loss: 2.4788278722599433, BLEU:0.0213325892885526, TEST:0.022975381489283866, LISTS:([0.0639977678656578, 0.0, 0.0]/[0.0689261444678516, 0.0, 0.0])\n"
     ]
    },
    {
     "name": "stderr",
     "output_type": "stream",
     "text": [
      "100%|██████████| 3/3 [00:56<00:00, 18.85s/it]\n"
     ]
    },
    {
     "name": "stdout",
     "output_type": "stream",
     "text": [
      "Round 3 >> Loss: 2.3010775896597484, BLEU:0.028875514244039852, TEST:0.03601970927168926, LISTS:([0.07656380534172058, 0.0, 0.01006273739039898]/[0.09632771462202072, 0.0, 0.011731413193047047])\n"
     ]
    },
    {
     "name": "stderr",
     "output_type": "stream",
     "text": [
      "100%|██████████| 3/3 [00:55<00:00, 18.55s/it]\n"
     ]
    },
    {
     "name": "stdout",
     "output_type": "stream",
     "text": [
      "Round 4 >> Loss: 2.1766672075431974, BLEU:0.03687434457242489, TEST:0.04214989105284964, LISTS:([0.09210347384214401, 0.0, 0.018519559875130653]/[0.10649825325372086, 0.0, 0.01995141990482807])\n"
     ]
    },
    {
     "name": "stderr",
     "output_type": "stream",
     "text": [
      "100%|██████████| 3/3 [00:53<00:00, 17.83s/it]\n"
     ]
    },
    {
     "name": "stdout",
     "output_type": "stream",
     "text": [
      "Round 5 >> Loss: 2.079641148221327, BLEU:0.0420869896544638, TEST:0.042738813596467175, LISTS:([0.09669919415820323, 0.010257508605718613, 0.019304266199469566]/[0.10380692780017853, 0.009727018885314465, 0.014682494103908539])\n"
     ]
    },
    {
     "name": "stderr",
     "output_type": "stream",
     "text": [
      "100%|██████████| 3/3 [00:57<00:00, 19.03s/it]\n"
     ]
    },
    {
     "name": "stdout",
     "output_type": "stream",
     "text": [
      "Round 6 >> Loss: 1.9999733979844223, BLEU:0.044923641530521106, TEST:0.03906110780548002, LISTS:([0.10419583729758079, 0.01261289045214653, 0.017962196841835976]/[0.09114065433624226, 0.010937899351119995, 0.015104769729077816])\n"
     ]
    },
    {
     "name": "stderr",
     "output_type": "stream",
     "text": [
      "100%|██████████| 3/3 [00:54<00:00, 18.28s/it]\n"
     ]
    },
    {
     "name": "stdout",
     "output_type": "stream",
     "text": [
      "Round 7 >> Loss: 1.9312137368204152, BLEU:0.05800414189531839, TEST:0.043638796269310685, LISTS:([0.11271138801677336, 0.017312146723270416, 0.04398889094591141]/[0.10514328080240837, 0.0, 0.02577310800552368])\n"
     ]
    },
    {
     "name": "stderr",
     "output_type": "stream",
     "text": [
      "100%|██████████| 3/3 [00:57<00:00, 19.12s/it]\n"
     ]
    },
    {
     "name": "stdout",
     "output_type": "stream",
     "text": [
      "Round 8 >> Loss: 1.8712997741262025, BLEU:0.06156902620303171, TEST:0.05343624177771228, LISTS:([0.11357322287879996, 0.029077883809804916, 0.042055971920490265]/[0.11520695792726925, 0.018377603963017464, 0.026724163442850113])\n"
     ]
    },
    {
     "name": "stderr",
     "output_type": "stream",
     "text": [
      "100%|██████████| 3/3 [00:56<00:00, 18.74s/it]\n"
     ]
    },
    {
     "name": "stdout",
     "output_type": "stream",
     "text": [
      "Round 9 >> Loss: 1.8174219462916128, BLEU:0.06814063254224687, TEST:0.05393614096655199, LISTS:([0.14270667845688548, 0.025628186762332916, 0.0360870324075222]/[0.11963264378052203, 0.017511816695332527, 0.024663962423801422])\n"
     ]
    },
    {
     "name": "stderr",
     "output_type": "stream",
     "text": [
      "100%|██████████| 3/3 [00:58<00:00, 19.44s/it]\n"
     ]
    },
    {
     "name": "stdout",
     "output_type": "stream",
     "text": [
      "Round 10 >> Loss: 1.770207187740884, BLEU:0.06200739074145733, TEST:0.055956201940381055, LISTS:([0.11311363476201827, 0.02890641801059246, 0.044002119451761246]/[0.12557020690919019, 0.0, 0.04229839891195297])\n"
     ]
    },
    {
     "name": "stderr",
     "output_type": "stream",
     "text": [
      "100%|██████████| 3/3 [01:00<00:00, 20.10s/it]\n"
     ]
    },
    {
     "name": "stdout",
     "output_type": "stream",
     "text": [
      "Round 11 >> Loss: 1.7268755157608255, BLEU:0.07402475028336215, TEST:0.05831633893220711, LISTS:([0.1514443635672381, 0.02340260148048401, 0.04722728580236435]/[0.12114839107004072, 0.02234201692044735, 0.03145860880613327])\n"
     ]
    },
    {
     "name": "stderr",
     "output_type": "stream",
     "text": [
      "100%|██████████| 3/3 [00:54<00:00, 18.28s/it]\n"
     ]
    },
    {
     "name": "stdout",
     "output_type": "stream",
     "text": [
      "Round 12 >> Loss: 1.6880790287038783, BLEU:0.06831127780280562, TEST:0.053734113384126446, LISTS:([0.1253128350556508, 0.04972014203667641, 0.02990085631608963]/[0.11220039310705308, 0.012928884476423264, 0.03607306256890297])\n"
     ]
    },
    {
     "name": "stderr",
     "output_type": "stream",
     "text": [
      "100%|██████████| 3/3 [00:53<00:00, 17.84s/it]\n"
     ]
    },
    {
     "name": "stdout",
     "output_type": "stream",
     "text": [
      "Round 13 >> Loss: 1.652673211098027, BLEU:0.07066783625038082, TEST:0.04232997833664004, LISTS:([0.12501377442930983, 0.03198843449354172, 0.05500129982829094]/[0.08902170178219034, 0.015705890953540802, 0.022262342274188995])\n"
     ]
    },
    {
     "name": "stderr",
     "output_type": "stream",
     "text": [
      "100%|██████████| 3/3 [00:54<00:00, 18.15s/it]\n"
     ]
    },
    {
     "name": "stdout",
     "output_type": "stream",
     "text": [
      "Round 14 >> Loss: 1.6201331216276829, BLEU:0.08528045423812351, TEST:0.0592260091973964, LISTS:([0.14851429635246638, 0.043487466871738434, 0.06383959949016571]/[0.1303664040114354, 0.01201349962502718, 0.035298123955726624])\n"
     ]
    },
    {
     "name": "stderr",
     "output_type": "stream",
     "text": [
      " 67%|██████▋   | 2/3 [00:50<00:24, 24.33s/it]"
     ]
    }
   ],
   "source": [
    "meta_encoder_weights, meta_decoder_weights = training(encoders, decoders, input_output_lang, 200,\n",
    "                                                    lr=0.001, ds=data_dict, C=1.0, K=K, E=1,\n",
    "                                                    filename=filename, batch_size=batch_size, hidden_size=hidden_size,\n",
    "                                                    weighting=False, lexical_weights=None)"
   ]
  },
  {
   "cell_type": "code",
   "execution_count": null,
   "metadata": {},
   "outputs": [],
   "source": [
    "bleu_test_sum = 0\n",
    "lang_length = len(encoders)\n",
    "test_bleus = []\n",
    "\n",
    "for i in range(lang_length):\n",
    "    test_bleu = evaluateBleu(encoders[i], decoders[i], input_output_lang[i][0], input_output_lang[i][1], input_output_lang[i][3], n=len(input_output_lang[i][3]))\n",
    "    bleu_test_sum += test_bleu\n",
    "    test_bleus.append(test_bleu)\n",
    "test_bleu = test_bleu / lang_length\n",
    "\n",
    "if filename is not None:\n",
    "    with open(filename, 'a') as f:\n",
    "        # create the csv writer\n",
    "        writer = csv.writer(f)\n",
    "\n",
    "        # write a row to the csv file\n",
    "        writer.writerow([test_bleu, str(test_bleus)])"
   ]
  },
  {
   "cell_type": "code",
   "execution_count": null,
   "metadata": {},
   "outputs": [],
   "source": [
    "input_lang, output_lang, train_dataloader, pairs = get_dataloader(batch_size, language='kir_test')\n",
    "\n",
    "encoder = EncoderRNN(input_lang.n_words, hidden_size).to(device)\n",
    "decoder = AttnDecoderRNN(hidden_size, output_lang.n_words).to(device)\n",
    "\n",
    "e_og = encoder.state_dict()\n",
    "d_og = decoder.state_dict()\n",
    "e_og.update(meta_encoder_weights)\n",
    "d_og.update(meta_decoder_weights)\n",
    "encoder.load_state_dict(e_og)\n",
    "decoder.load_state_dict(d_og)\n",
    "\n",
    "evaluateBleu(encoder, decoder, input_lang, output_lang, pairs, n=50)"
   ]
  },
  {
   "cell_type": "code",
   "execution_count": null,
   "metadata": {},
   "outputs": [],
   "source": [
    "filename=None\n",
    "save = True\n",
    "if save:\n",
    "    num = 1\n",
    "    filename = f\"FT|{'_'.join(langs)}||{num}.csv\"\n",
    "    while os.path.isfile(filename):\n",
    "        print('Name is taken...trying again...')\n",
    "        num += 1\n",
    "        filename = f\"FT|{'_'.join(langs)}||{num}.csv\""
   ]
  },
  {
   "cell_type": "code",
   "execution_count": null,
   "metadata": {},
   "outputs": [],
   "source": [
    "meta_encoder_weights, meta_decoder_weights = training(encoders, decoders, input_output_lang, 10,\n",
    "                                                    lr=0.001, ds=data_dict, C=1.0, K=K, E=1,\n",
    "                                                    filename=filename, batch_size=batch_size, hidden_size=hidden_size,\n",
    "                                                    weighting=False, lexical_weights=None)"
   ]
  },
  {
   "cell_type": "code",
   "execution_count": 80,
   "metadata": {},
   "outputs": [
    {
     "name": "stdout",
     "output_type": "stream",
     "text": [
      "Reading lines...\n",
      "Read 7376 sentence pairs\n",
      "Trimmed to 215 sentence pairs\n",
      "Counting words...\n",
      "Counted words:\n",
      "kir_test 677\n",
      "eng 575\n"
     ]
    },
    {
     "data": {
      "text/plain": [
       "0.0"
      ]
     },
     "execution_count": 80,
     "metadata": {},
     "output_type": "execute_result"
    }
   ],
   "source": [
    "input_lang, output_lang, train_dataloader, pairs = get_dataloader(batch_size, language='kir_test')\n",
    "\n",
    "encoder = EncoderRNN(input_lang.n_words, hidden_size).to(device)\n",
    "decoder = AttnDecoderRNN(hidden_size, output_lang.n_words).to(device)\n",
    "\n",
    "e_og = encoder.state_dict()\n",
    "d_og = decoder.state_dict()\n",
    "e_og.update(meta_encoder_weights)\n",
    "d_og.update(meta_decoder_weights)\n",
    "encoder.load_state_dict(e_og)\n",
    "decoder.load_state_dict(d_og)\n",
    "\n",
    "evaluateBleu(encoder, decoder, input_lang, output_lang, pairs, n=50)"
   ]
  },
  {
   "cell_type": "code",
   "execution_count": 68,
   "metadata": {},
   "outputs": [],
   "source": [
    "import torch\n",
    "from torch.utils.data import DataLoader, Subset\n",
    "\n",
    "def limited_data_loader(original_dataloader, num_samples, random=True):\n",
    "    # Get the original dataset from the DataLoader\n",
    "    dataset = original_dataloader.dataset\n",
    "    \n",
    "    # Ensure the original dataset is larger than the requested number of samples\n",
    "    assert len(dataset) >= num_samples, \"The original dataset has fewer samples than requested\"\n",
    "    \n",
    "    # Create a Subset of the original dataset limited to the first num_samples elements\n",
    "    if random:\n",
    "        indices = np.random.choice(len(dataset), num_samples, replace=False)\n",
    "    else:\n",
    "        indices = range(num_samples)\n",
    "\n",
    "    subset = Subset(dataset, indices)\n",
    "    \n",
    "    # Create a new DataLoader from this subset with the same parameters as the original DataLoader\n",
    "    new_dataloader = DataLoader(subset, batch_size=original_dataloader.batch_size, shuffle=False, num_workers=original_dataloader.num_workers)\n",
    "    \n",
    "    return new_dataloader\n"
   ]
  },
  {
   "cell_type": "code",
   "execution_count": 150,
   "metadata": {},
   "outputs": [],
   "source": [
    "def personalize(lang, rounds, encoder_weights=None, decoder_weights=None, sample=None, save=False):\n",
    "    input_lang, output_lang, train_dataloader, pairs = get_dataloader(batch_size, language=lang)\n",
    "\n",
    "    encoder = EncoderRNN(input_lang.n_words, hidden_size).to(device)\n",
    "    decoder = AttnDecoderRNN(hidden_size, output_lang.n_words).to(device)\n",
    "\n",
    "    is_FL = 'false'\n",
    "\n",
    "    if encoder_weights is not None:\n",
    "        e_og = encoder.state_dict()\n",
    "        d_og = decoder.state_dict()\n",
    "        e_og.update(encoder_weights)\n",
    "        d_og.update(decoder_weights)\n",
    "        encoder.load_state_dict(e_og)\n",
    "        decoder.load_state_dict(d_og)\n",
    "        is_FL = 'true'\n",
    "\n",
    "    train_dataloader, test_dataloader = split_dataloader(train_dataloader)\n",
    "    train_idx = get_pair_index(train_dataloader)\n",
    "    test_idx = get_pair_index(test_dataloader)\n",
    "\n",
    "    train_pairs = [pairs[i] for i in train_idx]\n",
    "    test_pairs = [pairs[i] for i in test_idx]\n",
    "    \n",
    "    if sample is None:\n",
    "        sample = 'full'\n",
    "    else:\n",
    "        train_dataloader = limited_data_loader(train_dataloader, sample)\n",
    "\n",
    "    filename=None\n",
    "    if save:\n",
    "        num = 1\n",
    "        filename = f\"P|{lang}_{sample}-shot_FL-{is_FL}_epoch{rounds}||{num}.csv\"\n",
    "        while os.path.isfile(filename):\n",
    "            print('Name is taken...trying again...')\n",
    "            num += 1\n",
    "            filename = f\"P|{lang}_{sample}-shot_FL-{is_FL}_epoch{rounds}||{num}.csv\"\n",
    "    train(train_dataloader, encoder, decoder, rounds, print_every=5, plot_every=5, filename=filename, input=input_lang, output=output_lang, pairs=train_pairs, test_pairs=test_pairs)\n",
    "    return encoder, decoder, test_pairs"
   ]
  },
  {
   "cell_type": "code",
   "execution_count": 120,
   "metadata": {},
   "outputs": [
    {
     "data": {
      "text/plain": [
       "list"
      ]
     },
     "execution_count": 120,
     "metadata": {},
     "output_type": "execute_result"
    }
   ],
   "source": [
    "type(pairs)"
   ]
  },
  {
   "cell_type": "code",
   "execution_count": 147,
   "metadata": {},
   "outputs": [
    {
     "name": "stdout",
     "output_type": "stream",
     "text": [
      "Reading lines...\n",
      "Read 29506 sentence pairs\n",
      "Trimmed to 872 sentence pairs\n",
      "Counting words...\n",
      "Counted words:\n",
      "kir_everything 1954\n",
      "eng 1566\n"
     ]
    }
   ],
   "source": [
    "input_lang, output_lang, train_dataloader, pairs = get_dataloader(batch_size, language='kir')"
   ]
  },
  {
   "cell_type": "code",
   "execution_count": 155,
   "metadata": {},
   "outputs": [
    {
     "name": "stdout",
     "output_type": "stream",
     "text": [
      "Reading lines...\n",
      "Read 29506 sentence pairs\n",
      "Trimmed to 872 sentence pairs\n",
      "Counting words...\n",
      "Counted words:\n",
      "kir_everything 1954\n",
      "eng 1566\n",
      "Reading lines...\n",
      "Read 29506 sentence pairs\n",
      "Trimmed to 872 sentence pairs\n",
      "Counting words...\n",
      "Counted words:\n",
      "kir_everything 1954\n",
      "eng 1566\n",
      "872\n",
      "872\n",
      "Epoch 5 >> Loss: 4.474092929363251, Bleu: 0.0463734663010137, Test Bleu: 0.04712499678134918, Best:(0.0463734663010137/0.04712499678134918)\n",
      "Epoch 10 >> Loss: 3.1621861004829404, Bleu: 0.13663792610168457, Test Bleu: 0.14454065263271332, Best:(0.13663792610168457/0.14454065263271332)\n",
      "Epoch 15 >> Loss: 2.5537707626819612, Bleu: 0.16093836593821695, Test Bleu: 0.17097923159599304, Best:(0.16093836593821695/0.17978672683238983)\n",
      "Epoch 20 >> Loss: 2.034149820804596, Bleu: 0.16836653649806976, Test Bleu: 0.1845623254776001, Best:(0.19538362324237823/0.1884215921163559)\n",
      "Epoch 25 >> Loss: 1.5993594861030576, Bleu: 0.21814338862895966, Test Bleu: 0.17361392080783844, Best:(0.22561093564045295/0.2077210247516632)\n",
      "Epoch 30 >> Loss: 1.2328468668460846, Bleu: 0.2757342457771301, Test Bleu: 0.19537392258644104, Best:(0.32377371191978455/0.2077210247516632)\n",
      "Epoch 35 >> Loss: 0.9397243785858155, Bleu: 0.31579601764678955, Test Bleu: 0.1816520243883133, Best:(0.3416964113712311/0.2077210247516632)\n",
      "Epoch 40 >> Loss: 0.7130254179239273, Bleu: 0.34699758887290955, Test Bleu: 0.18265056610107422, Best:(0.42657479643821716/0.2077210247516632)\n",
      "Epoch 45 >> Loss: 0.5444308757781983, Bleu: 0.37585553526878357, Test Bleu: 0.1860954761505127, Best:(0.43285703659057617/0.2077210247516632)\n",
      "Epoch 50 >> Loss: 0.4137913276255131, Bleu: 0.5157154202461243, Test Bleu: 0.1844041496515274, Best:(0.5157154202461243/0.2077210247516632)\n",
      "Epoch 55 >> Loss: 0.3221773800253868, Bleu: 0.475895494222641, Test Bleu: 0.18178363144397736, Best:(0.5516558885574341/0.2077210247516632)\n",
      "Epoch 60 >> Loss: 0.2516386547684669, Bleu: 0.4488197863101959, Test Bleu: 0.17990848422050476, Best:(0.601280152797699/0.2077210247516632)\n",
      "Epoch 65 >> Loss: 0.2012736150622368, Bleu: 0.538918673992157, Test Bleu: 0.20101013779640198, Best:(0.601280152797699/0.2077210247516632)\n",
      "Epoch 70 >> Loss: 0.1613700880110264, Bleu: 0.5273770689964294, Test Bleu: 0.17725643515586853, Best:(0.604235053062439/0.2077210247516632)\n",
      "Epoch 75 >> Loss: 0.13299250304698945, Bleu: 0.5999690890312195, Test Bleu: 0.17387674748897552, Best:(0.6741074323654175/0.2077210247516632)\n",
      "Epoch 80 >> Loss: 0.11051766723394393, Bleu: 0.6480957269668579, Test Bleu: 0.17884637415409088, Best:(0.6741074323654175/0.2077210247516632)\n",
      "Epoch 85 >> Loss: 0.09437828004360199, Bleu: 0.6119183897972107, Test Bleu: 0.18746629357337952, Best:(0.6741074323654175/0.2077210247516632)\n",
      "Epoch 90 >> Loss: 0.08064064819365739, Bleu: 0.6300026178359985, Test Bleu: 0.17830033600330353, Best:(0.7060272693634033/0.2077210247516632)\n",
      "Epoch 95 >> Loss: 0.07004325665533542, Bleu: 0.6775833964347839, Test Bleu: 0.1790357232093811, Best:(0.7060272693634033/0.2077210247516632)\n",
      "Epoch 100 >> Loss: 0.06320473346859216, Bleu: 0.6122790575027466, Test Bleu: 0.17333351075649261, Best:(0.7359628081321716/0.2077210247516632)\n"
     ]
    },
    {
     "data": {
      "text/plain": [
       "0.18409599363803864"
      ]
     },
     "execution_count": 155,
     "metadata": {},
     "output_type": "execute_result"
    }
   ],
   "source": [
    "input_lang, output_lang, train_dataloader, pairs = get_dataloader(batch_size, language='kir')\n",
    "encoder, decoder, test_pairs = personalize('kir', 100, save=False, encoder_weights=meta_encoder_weights, decoder_weights=meta_decoder_weights, sample=None)\n",
    "evaluateBleu(encoder, decoder, input_lang, output_lang, test_pairs, n=len(test_pairs))"
   ]
  },
  {
   "cell_type": "code",
   "execution_count": 126,
   "metadata": {},
   "outputs": [
    {
     "name": "stdout",
     "output_type": "stream",
     "text": [
      "Reading lines...\n",
      "Read 29506 sentence pairs\n",
      "Trimmed to 872 sentence pairs\n",
      "Counting words...\n",
      "Counted words:\n",
      "kir_everything 1954\n",
      "eng 1566\n",
      "0m 1s (- 0m 21s) (5 5%) 4.4232 0.0652\n",
      "0m 2s (- 0m 20s) (10 10%) 2.9900 0.0760\n",
      "0m 3s (- 0m 19s) (15 15%) 2.4045 0.0840\n",
      "0m 4s (- 0m 18s) (20 20%) 1.9151 0.1541\n",
      "0m 5s (- 0m 17s) (25 25%) 1.4991 0.1448\n",
      "0m 6s (- 0m 16s) (30 30%) 1.1593 0.1998\n",
      "0m 8s (- 0m 14s) (35 35%) 0.8788 0.3312\n",
      "0m 9s (- 0m 13s) (40 40%) 0.6710 0.3086\n",
      "0m 10s (- 0m 12s) (45 45%) 0.5120 0.3802\n",
      "0m 11s (- 0m 11s) (50 50%) 0.3953 0.3876\n",
      "0m 12s (- 0m 10s) (55 55%) 0.3074 0.4762\n",
      "0m 13s (- 0m 9s) (60 60%) 0.2425 0.5622\n",
      "0m 14s (- 0m 8s) (65 65%) 0.1914 0.5611\n",
      "0m 16s (- 0m 6s) (70 70%) 0.1565 0.5054\n",
      "0m 17s (- 0m 5s) (75 75%) 0.1299 0.5911\n",
      "0m 18s (- 0m 4s) (80 80%) 0.1074 0.5503\n",
      "0m 19s (- 0m 3s) (85 85%) 0.0923 0.4716\n",
      "0m 21s (- 0m 2s) (90 90%) 0.0801 0.5922\n",
      "0m 22s (- 0m 1s) (95 95%) 0.0699 0.5234\n",
      "0m 23s (- 0m 0s) (100 100%) 0.0612 0.5323\n"
     ]
    },
    {
     "name": "stderr",
     "output_type": "stream",
     "text": [
      "/tmp/ipykernel_4638/669893394.py:7: RuntimeWarning: More than 20 figures have been opened. Figures created through the pyplot interface (`matplotlib.pyplot.figure`) are retained until explicitly closed and may consume too much memory. (To control this warning, see the rcParam `figure.max_open_warning`). Consider using `matplotlib.pyplot.close()`.\n",
      "  plt.figure()\n"
     ]
    }
   ],
   "source": [
    "bleus = []\n",
    "input_lang, output_lang, train_dataloader, pairs = get_dataloader(batch_size, language='kir')\n",
    "for i in [10, 100, 1000, None]:\n",
    "    encoder, decoder, test_pairs = personalize('kir', 100, save=True, encoder_weights=meta_encoder_weights, decoder_weights=meta_decoder_weights, sample=i)\n",
    "    bleus.append(evaluateBleu(encoder, decoder, input_lang, output_lang, test_pairs, n=len(test_pairs)))"
   ]
  },
  {
   "cell_type": "code",
   "execution_count": 137,
   "metadata": {},
   "outputs": [
    {
     "name": "stdout",
     "output_type": "stream",
     "text": [
      "Reading lines...\n",
      "Read 29506 sentence pairs\n",
      "Trimmed to 872 sentence pairs\n",
      "Counting words...\n",
      "Counted words:\n",
      "kir_everything 1954\n",
      "eng 1566\n"
     ]
    },
    {
     "data": {
      "text/plain": [
       "0.13887140154838562"
      ]
     },
     "execution_count": 137,
     "metadata": {},
     "output_type": "execute_result"
    }
   ],
   "source": []
  },
  {
   "cell_type": "code",
   "execution_count": 130,
   "metadata": {},
   "outputs": [
    {
     "data": {
      "text/plain": [
       "192"
      ]
     },
     "execution_count": 130,
     "metadata": {},
     "output_type": "execute_result"
    }
   ],
   "source": [
    "len(test_pairs)"
   ]
  },
  {
   "cell_type": "code",
   "execution_count": 54,
   "metadata": {},
   "outputs": [
    {
     "name": "stdout",
     "output_type": "stream",
     "text": [
      "Reading lines...\n",
      "Read 1375 sentence pairs\n",
      "Trimmed to 90 sentence pairs\n",
      "Counting words...\n",
      "Counted words:\n",
      "cat 213\n",
      "eng 176\n",
      "0m 0s (- 0m 7s) (5 5%) 3.9873\n",
      "0m 0s (- 0m 6s) (10 10%) 2.6431\n",
      "0m 1s (- 0m 6s) (15 15%) 2.1026\n",
      "0m 1s (- 0m 6s) (20 20%) 1.7559\n",
      "0m 1s (- 0m 5s) (25 25%) 1.4590\n",
      "0m 2s (- 0m 5s) (30 30%) 1.2076\n",
      "0m 2s (- 0m 4s) (35 35%) 0.9888\n",
      "0m 3s (- 0m 4s) (40 40%) 0.8012\n",
      "0m 3s (- 0m 4s) (45 45%) 0.6408\n",
      "0m 3s (- 0m 3s) (50 50%) 0.5096\n",
      "0m 4s (- 0m 3s) (55 55%) 0.4079\n",
      "0m 4s (- 0m 3s) (60 60%) 0.3207\n",
      "0m 4s (- 0m 2s) (65 65%) 0.2568\n",
      "0m 5s (- 0m 2s) (70 70%) 0.2096\n",
      "0m 5s (- 0m 1s) (75 75%) 0.1744\n",
      "0m 6s (- 0m 1s) (80 80%) 0.1451\n",
      "0m 6s (- 0m 1s) (85 85%) 0.1231\n",
      "0m 6s (- 0m 0s) (90 90%) 0.1075\n",
      "0m 7s (- 0m 0s) (95 95%) 0.0930\n",
      "0m 7s (- 0m 0s) (100 100%) 0.0823\n",
      "Reading lines...\n",
      "Read 1375 sentence pairs\n",
      "Trimmed to 90 sentence pairs\n",
      "Counting words...\n",
      "Counted words:\n",
      "cat 213\n",
      "eng 176\n",
      "Name is taken...trying again...\n",
      "0m 0s (- 0m 7s) (5 5%) 3.9118\n",
      "0m 0s (- 0m 6s) (10 10%) 2.6210\n",
      "0m 1s (- 0m 6s) (15 15%) 2.0715\n",
      "0m 1s (- 0m 6s) (20 20%) 1.7054\n",
      "0m 1s (- 0m 5s) (25 25%) 1.4053\n",
      "0m 2s (- 0m 5s) (30 30%) 1.1486\n",
      "0m 2s (- 0m 4s) (35 35%) 0.9316\n",
      "0m 3s (- 0m 4s) (40 40%) 0.7400\n",
      "0m 3s (- 0m 4s) (45 45%) 0.5835\n",
      "0m 3s (- 0m 3s) (50 50%) 0.4590\n",
      "0m 4s (- 0m 3s) (55 55%) 0.3600\n",
      "0m 4s (- 0m 3s) (60 60%) 0.2861\n",
      "0m 4s (- 0m 2s) (65 65%) 0.2296\n",
      "0m 5s (- 0m 2s) (70 70%) 0.1875\n",
      "0m 5s (- 0m 1s) (75 75%) 0.1570\n",
      "0m 6s (- 0m 1s) (80 80%) 0.1303\n",
      "0m 6s (- 0m 1s) (85 85%) 0.1121\n",
      "0m 6s (- 0m 0s) (90 90%) 0.0963\n",
      "0m 7s (- 0m 0s) (95 95%) 0.0861\n",
      "0m 7s (- 0m 0s) (100 100%) 0.0757\n",
      "Reading lines...\n",
      "Read 1375 sentence pairs\n",
      "Trimmed to 90 sentence pairs\n",
      "Counting words...\n",
      "Counted words:\n",
      "cat 213\n",
      "eng 176\n",
      "Name is taken...trying again...\n",
      "Name is taken...trying again...\n",
      "0m 0s (- 0m 7s) (5 5%) 3.8163\n",
      "0m 0s (- 0m 6s) (10 10%) 2.6040\n",
      "0m 1s (- 0m 6s) (15 15%) 2.0798\n",
      "0m 1s (- 0m 5s) (20 20%) 1.7182\n",
      "0m 1s (- 0m 5s) (25 25%) 1.4294\n",
      "0m 2s (- 0m 5s) (30 30%) 1.1695\n",
      "0m 2s (- 0m 4s) (35 35%) 0.9529\n",
      "0m 2s (- 0m 4s) (40 40%) 0.7675\n",
      "0m 3s (- 0m 4s) (45 45%) 0.6043\n",
      "0m 3s (- 0m 3s) (50 50%) 0.4727\n",
      "0m 4s (- 0m 3s) (55 55%) 0.3723\n",
      "0m 4s (- 0m 2s) (60 60%) 0.2902\n",
      "0m 4s (- 0m 2s) (65 65%) 0.2340\n",
      "0m 5s (- 0m 2s) (70 70%) 0.1907\n",
      "0m 5s (- 0m 1s) (75 75%) 0.1581\n",
      "0m 5s (- 0m 1s) (80 80%) 0.1307\n",
      "0m 6s (- 0m 1s) (85 85%) 0.1101\n",
      "0m 6s (- 0m 0s) (90 90%) 0.0957\n",
      "0m 7s (- 0m 0s) (95 95%) 0.0843\n",
      "0m 7s (- 0m 0s) (100 100%) 0.0737\n"
     ]
    }
   ],
   "source": [
    "for i in range(3):\n",
    "    personalize('cat', 100, save=True, encoder_weights=meta_encoder_weights, decoder_weights=meta_decoder_weights, sample=None)"
   ]
  },
  {
   "cell_type": "code",
   "execution_count": null,
   "metadata": {},
   "outputs": [],
   "source": []
  }
 ],
 "metadata": {
  "kernelspec": {
   "display_name": "Python 3 (ipykernel)",
   "language": "python",
   "name": "python3"
  },
  "language_info": {
   "codemirror_mode": {
    "name": "ipython",
    "version": 3
   },
   "file_extension": ".py",
   "mimetype": "text/x-python",
   "name": "python",
   "nbconvert_exporter": "python",
   "pygments_lexer": "ipython3",
   "version": "3.10.12"
  }
 },
 "nbformat": 4,
 "nbformat_minor": 0
}
