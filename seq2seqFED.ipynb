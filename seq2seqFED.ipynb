{
 "cells": [
  {
   "cell_type": "code",
   "execution_count": 1,
   "metadata": {
    "collapsed": false
   },
   "outputs": [],
   "source": [
    "# For tips on running notebooks in Google Colab, see\n",
    "# https://pytorch.org/tutorials/beginner/colab\n",
    "%matplotlib inline"
   ]
  },
  {
   "attachments": {},
   "cell_type": "markdown",
   "metadata": {},
   "source": [
    "NLP From Scratch: Translation with a Sequence to Sequence Network and Attention\n",
    "===============================================================================\n",
    "\n",
    "**Author**: [Sean Robertson](https://github.com/spro)\n",
    "\n",
    "This is the third and final tutorial on doing \\\"NLP From Scratch\\\",\n",
    "where we write our own classes and functions to preprocess the data to\n",
    "do our NLP modeling tasks. We hope after you complete this tutorial that\n",
    "you\\'ll proceed to learn how [torchtext]{.title-ref} can handle much of\n",
    "this preprocessing for you in the three tutorials immediately following\n",
    "this one.\n",
    "\n",
    "In this project we will be teaching a neural network to translate from\n",
    "French to English.\n",
    "\n",
    "``` {.sourceCode .sh}\n",
    "[KEY: > input, = target, < output]\n",
    "\n",
    "> il est en train de peindre un tableau .\n",
    "= he is painting a picture .\n",
    "< he is painting a picture .\n",
    "\n",
    "> pourquoi ne pas essayer ce vin delicieux ?\n",
    "= why not try that delicious wine ?\n",
    "< why not try that delicious wine ?\n",
    "\n",
    "> elle n est pas poete mais romanciere .\n",
    "= she is not a poet but a novelist .\n",
    "< she not not a poet but a novelist .\n",
    "\n",
    "> vous etes trop maigre .\n",
    "= you re too skinny .\n",
    "< you re all alone .\n",
    "```\n",
    "\n",
    "\\... to varying degrees of success.\n",
    "\n",
    "This is made possible by the simple but powerful idea of the [sequence\n",
    "to sequence network](https://arxiv.org/abs/1409.3215), in which two\n",
    "recurrent neural networks work together to transform one sequence to\n",
    "another. An encoder network condenses an input sequence into a vector,\n",
    "and a decoder network unfolds that vector into a new sequence.\n",
    "\n",
    "![](https://pytorch.org/tutorials/_static/img/seq-seq-images/seq2seq.png)\n",
    "\n",
    "To improve upon this model we\\'ll use an [attention\n",
    "mechanism](https://arxiv.org/abs/1409.0473), which lets the decoder\n",
    "learn to focus over a specific range of the input sequence.\n",
    "\n",
    "**Recommended Reading:**\n",
    "\n",
    "I assume you have at least installed PyTorch, know Python, and\n",
    "understand Tensors:\n",
    "\n",
    "-   <https://pytorch.org/> For installation instructions\n",
    "-   `/beginner/deep_learning_60min_blitz`{.interpreted-text role=\"doc\"}\n",
    "    to get started with PyTorch in general\n",
    "-   `/beginner/pytorch_with_examples`{.interpreted-text role=\"doc\"} for\n",
    "    a wide and deep overview\n",
    "-   `/beginner/former_torchies_tutorial`{.interpreted-text role=\"doc\"}\n",
    "    if you are former Lua Torch user\n",
    "\n",
    "It would also be useful to know about Sequence to Sequence networks and\n",
    "how they work:\n",
    "\n",
    "-   [Learning Phrase Representations using RNN Encoder-Decoder for\n",
    "    Statistical Machine Translation](https://arxiv.org/abs/1406.1078)\n",
    "-   [Sequence to Sequence Learning with Neural\n",
    "    Networks](https://arxiv.org/abs/1409.3215)\n",
    "-   [Neural Machine Translation by Jointly Learning to Align and\n",
    "    Translate](https://arxiv.org/abs/1409.0473)\n",
    "-   [A Neural Conversational Model](https://arxiv.org/abs/1506.05869)\n",
    "\n",
    "You will also find the previous tutorials on\n",
    "`/intermediate/char_rnn_classification_tutorial`{.interpreted-text\n",
    "role=\"doc\"} and\n",
    "`/intermediate/char_rnn_generation_tutorial`{.interpreted-text\n",
    "role=\"doc\"} helpful as those concepts are very similar to the Encoder\n",
    "and Decoder models, respectively.\n",
    "\n",
    "**Requirements**\n"
   ]
  },
  {
   "cell_type": "code",
   "execution_count": 33,
   "metadata": {
    "collapsed": false
   },
   "outputs": [],
   "source": [
    "from __future__ import unicode_literals, print_function, division\n",
    "from io import open\n",
    "import unicodedata\n",
    "import re\n",
    "import random\n",
    "\n",
    "import torch\n",
    "import torch.nn as nn\n",
    "from torch import optim\n",
    "import torch.nn.functional as F\n",
    "\n",
    "import numpy as np\n",
    "from torch.utils.data import TensorDataset, DataLoader, RandomSampler\n",
    "\n",
    "device = torch.device(\"cuda\" if torch.cuda.is_available() else \"cpu\")"
   ]
  },
  {
   "attachments": {},
   "cell_type": "markdown",
   "metadata": {},
   "source": [
    "Loading data files\n",
    "==================\n",
    "\n",
    "The data for this project is a set of many thousands of English to\n",
    "French translation pairs.\n",
    "\n",
    "[This question on Open Data Stack\n",
    "Exchange](https://opendata.stackexchange.com/questions/3888/dataset-of-sentences-translated-into-many-languages)\n",
    "pointed me to the open translation site <https://tatoeba.org/> which has\n",
    "downloads available at <https://tatoeba.org/eng/downloads> - and better\n",
    "yet, someone did the extra work of splitting language pairs into\n",
    "individual text files here: <https://www.manythings.org/anki/>\n",
    "\n",
    "The English to French pairs are too big to include in the repository, so\n",
    "download to `data/eng-fra.txt` before continuing. The file is a tab\n",
    "separated list of translation pairs:\n",
    "\n",
    "``` {.sourceCode .sh}\n",
    "I am cold.    J'ai froid.\n",
    "```\n",
    "\n",
    "<div style=\"background-color: #54c7ec; color: #fff; font-weight: 700; padding-left: 10px; padding-top: 5px; padding-bottom: 5px\"><strong>NOTE:</strong></div>\n",
    "<div style=\"background-color: #f3f4f7; padding-left: 10px; padding-top: 10px; padding-bottom: 10px; padding-right: 10px\">\n",
    "<p>Download the data from<a href=\"https://download.pytorch.org/tutorial/data.zip\">here</a>and extract it to the current directory.</p>\n",
    "</div>\n"
   ]
  },
  {
   "attachments": {},
   "cell_type": "markdown",
   "metadata": {},
   "source": [
    "Similar to the character encoding used in the character-level RNN\n",
    "tutorials, we will be representing each word in a language as a one-hot\n",
    "vector, or giant vector of zeros except for a single one (at the index\n",
    "of the word). Compared to the dozens of characters that might exist in a\n",
    "language, there are many many more words, so the encoding vector is much\n",
    "larger. We will however cheat a bit and trim the data to only use a few\n",
    "thousand words per language.\n",
    "\n",
    "![](https://pytorch.org/tutorials/_static/img/seq-seq-images/word-encoding.png)\n"
   ]
  },
  {
   "attachments": {},
   "cell_type": "markdown",
   "metadata": {},
   "source": [
    "We\\'ll need a unique index per word to use as the inputs and targets of\n",
    "the networks later. To keep track of all this we will use a helper class\n",
    "called `Lang` which has word → index (`word2index`) and index → word\n",
    "(`index2word`) dictionaries, as well as a count of each word\n",
    "`word2count` which will be used to replace rare words later.\n"
   ]
  },
  {
   "cell_type": "code",
   "execution_count": 34,
   "metadata": {
    "collapsed": false
   },
   "outputs": [],
   "source": [
    "SOS_token = 0\n",
    "EOS_token = 1\n",
    "\n",
    "class Lang:\n",
    "    def __init__(self, name):\n",
    "        self.name = name\n",
    "        self.word2index = {}\n",
    "        self.word2count = {}\n",
    "        self.index2word = {0: \"SOS\", 1: \"EOS\"}\n",
    "        self.n_words = 2  # Count SOS and EOS\n",
    "\n",
    "    def addSentence(self, sentence):\n",
    "        for word in sentence.split(' '):\n",
    "            self.addWord(word)\n",
    "\n",
    "    def addWord(self, word):\n",
    "        if word not in self.word2index:\n",
    "            self.word2index[word] = self.n_words\n",
    "            self.word2count[word] = 1\n",
    "            self.index2word[self.n_words] = word\n",
    "            self.n_words += 1\n",
    "        else:\n",
    "            self.word2count[word] += 1"
   ]
  },
  {
   "attachments": {},
   "cell_type": "markdown",
   "metadata": {},
   "source": [
    "The files are all in Unicode, to simplify we will turn Unicode\n",
    "characters to ASCII, make everything lowercase, and trim most\n",
    "punctuation.\n"
   ]
  },
  {
   "cell_type": "code",
   "execution_count": 35,
   "metadata": {
    "collapsed": false
   },
   "outputs": [],
   "source": [
    "# Turn a Unicode string to plain ASCII, thanks to\n",
    "# https://stackoverflow.com/a/518232/2809427\n",
    "def unicodeToAscii(s):\n",
    "    return ''.join(\n",
    "        c for c in unicodedata.normalize('NFD', s)\n",
    "        if unicodedata.category(c) != 'Mn'\n",
    "    )\n",
    "\n",
    "# Lowercase, trim, and remove non-letter characters\n",
    "def normalizeString(s):\n",
    "    s = unicodeToAscii(s.lower().strip())\n",
    "    s = re.sub(r\"([.!?])\", r\" \\1\", s)\n",
    "    s = re.sub(r\"[^a-zA-Z!?]+\", r\" \", s)\n",
    "    return s.strip()"
   ]
  },
  {
   "attachments": {},
   "cell_type": "markdown",
   "metadata": {},
   "source": [
    "To read the data file we will split the file into lines, and then split\n",
    "lines into pairs. The files are all English → Other Language, so if we\n",
    "want to translate from Other Language → English I added the `reverse`\n",
    "flag to reverse the pairs.\n"
   ]
  },
  {
   "cell_type": "code",
   "execution_count": 36,
   "metadata": {
    "collapsed": false
   },
   "outputs": [],
   "source": [
    "def readLangs(lang1, lang2, reverse=False):\n",
    "    print(\"Reading lines...\")\n",
    "\n",
    "    # Read the file and split into lines\n",
    "    lines = open('data/%s-%s.txt' % (lang1, lang2), encoding='utf-8').\\\n",
    "        read().strip().split('\\n')\n",
    "\n",
    "    # Split every line into pairs and normalize\n",
    "    pairs = [[normalizeString(s) for s in l.split('\\t')] for l in lines]\n",
    "\n",
    "    # Reverse pairs, make Lang instances\n",
    "    if reverse:\n",
    "        pairs = [list(reversed(p)) for p in pairs]\n",
    "        input_lang = Lang(lang2)\n",
    "        output_lang = Lang(lang1)\n",
    "    else:\n",
    "        input_lang = Lang(lang1)\n",
    "        output_lang = Lang(lang2)\n",
    "\n",
    "    return input_lang, output_lang, pairs"
   ]
  },
  {
   "attachments": {},
   "cell_type": "markdown",
   "metadata": {},
   "source": [
    "Since there are a *lot* of example sentences and we want to train\n",
    "something quickly, we\\'ll trim the data set to only relatively short and\n",
    "simple sentences. Here the maximum length is 10 words (that includes\n",
    "ending punctuation) and we\\'re filtering to sentences that translate to\n",
    "the form \\\"I am\\\" or \\\"He is\\\" etc. (accounting for apostrophes replaced\n",
    "earlier).\n"
   ]
  },
  {
   "cell_type": "code",
   "execution_count": 269,
   "metadata": {
    "collapsed": false
   },
   "outputs": [],
   "source": [
    "MAX_LENGTH = 10\n",
    "\n",
    "eng_prefixes = (\n",
    "    \"i am \", \"i m \",\n",
    "    \"he is\", \"he s \",\n",
    "    \"she is\", \"she s \",\n",
    "    \"you are\", \"you re \",\n",
    "    \"we are\", \"we re \",\n",
    "    \"they are\", \"they re \"\n",
    ")\n",
    "\n",
    "def filterPair(p):\n",
    "    return len(p[0].split(' ')) < MAX_LENGTH and \\\n",
    "        len(p[1].split(' ')) < MAX_LENGTH # and \\\n",
    "        # p[1].startswith(eng_prefixes)\n",
    "\n",
    "\n",
    "def filterPairs(pairs):\n",
    "    return [pair for pair in pairs if filterPair(pair)]"
   ]
  },
  {
   "attachments": {},
   "cell_type": "markdown",
   "metadata": {},
   "source": [
    "The full process for preparing the data is:\n",
    "\n",
    "-   Read text file and split into lines, split lines into pairs\n",
    "-   Normalize text, filter by length and content\n",
    "-   Make word lists from sentences in pairs\n"
   ]
  },
  {
   "cell_type": "code",
   "execution_count": 270,
   "metadata": {
    "collapsed": false
   },
   "outputs": [
    {
     "name": "stdout",
     "output_type": "stream",
     "text": [
      "Reading lines...\n",
      "Read 55667 sentence pairs\n",
      "Trimmed to 19616 sentence pairs\n",
      "Counting words...\n",
      "Counted words:\n",
      "kin 36940\n",
      "eng 11235\n",
      "['nimitamirizo nimikufi maguru nimyeko nimikondo yamadahano nimpigi', 'bonnets ornaments legs headbands tablets earrings']\n"
     ]
    }
   ],
   "source": [
    "def prepareData(lang1, lang2, reverse=False):\n",
    "    input_lang, output_lang, pairs = readLangs(lang1, lang2, reverse)\n",
    "    print(\"Read %s sentence pairs\" % len(pairs))\n",
    "    pairs = filterPairs(pairs)\n",
    "    print(\"Trimmed to %s sentence pairs\" % len(pairs))\n",
    "    print(\"Counting words...\")\n",
    "    for pair in pairs:\n",
    "        input_lang.addSentence(pair[0])\n",
    "        output_lang.addSentence(pair[1])\n",
    "    print(\"Counted words:\")\n",
    "    print(input_lang.name, input_lang.n_words)\n",
    "    print(output_lang.name, output_lang.n_words)\n",
    "    return input_lang, output_lang, pairs\n",
    "\n",
    "input_lang, output_lang, pairs = prepareData('eng', 'kin', True)\n",
    "print(random.choice(pairs))"
   ]
  },
  {
   "attachments": {},
   "cell_type": "markdown",
   "metadata": {},
   "source": [
    "The Seq2Seq Model\n",
    "=================\n",
    "\n",
    "A Recurrent Neural Network, or RNN, is a network that operates on a\n",
    "sequence and uses its own output as input for subsequent steps.\n",
    "\n",
    "A [Sequence to Sequence network](https://arxiv.org/abs/1409.3215), or\n",
    "seq2seq network, or [Encoder Decoder\n",
    "network](https://arxiv.org/pdf/1406.1078v3.pdf), is a model consisting\n",
    "of two RNNs called the encoder and decoder. The encoder reads an input\n",
    "sequence and outputs a single vector, and the decoder reads that vector\n",
    "to produce an output sequence.\n",
    "\n",
    "![](https://pytorch.org/tutorials/_static/img/seq-seq-images/seq2seq.png)\n",
    "\n",
    "Unlike sequence prediction with a single RNN, where every input\n",
    "corresponds to an output, the seq2seq model frees us from sequence\n",
    "length and order, which makes it ideal for translation between two\n",
    "languages.\n",
    "\n",
    "Consider the sentence `Je ne suis pas le chat noir` →\n",
    "`I am not the black cat`. Most of the words in the input sentence have a\n",
    "direct translation in the output sentence, but are in slightly different\n",
    "orders, e.g. `chat noir` and `black cat`. Because of the `ne/pas`\n",
    "construction there is also one more word in the input sentence. It would\n",
    "be difficult to produce a correct translation directly from the sequence\n",
    "of input words.\n",
    "\n",
    "With a seq2seq model the encoder creates a single vector which, in the\n",
    "ideal case, encodes the \\\"meaning\\\" of the input sequence into a single\n",
    "vector --- a single point in some N dimensional space of sentences.\n"
   ]
  },
  {
   "attachments": {},
   "cell_type": "markdown",
   "metadata": {},
   "source": [
    "The Encoder\n",
    "===========\n",
    "\n",
    "The encoder of a seq2seq network is a RNN that outputs some value for\n",
    "every word from the input sentence. For every input word the encoder\n",
    "outputs a vector and a hidden state, and uses the hidden state for the\n",
    "next input word.\n",
    "\n",
    "![](https://pytorch.org/tutorials/_static/img/seq-seq-images/encoder-network.png)\n"
   ]
  },
  {
   "cell_type": "code",
   "execution_count": 271,
   "metadata": {
    "collapsed": false
   },
   "outputs": [],
   "source": [
    "class EncoderRNN(nn.Module):\n",
    "    def __init__(self, input_size, hidden_size, dropout_p=0.1):\n",
    "        super(EncoderRNN, self).__init__()\n",
    "        self.hidden_size = hidden_size\n",
    "\n",
    "        self.embedding = nn.Embedding(input_size, hidden_size)\n",
    "        self.gru = nn.GRU(hidden_size, hidden_size, batch_first=True)\n",
    "        self.dropout = nn.Dropout(dropout_p)\n",
    "\n",
    "    def forward(self, input):\n",
    "        embedded = self.dropout(self.embedding(input))\n",
    "        output, hidden = self.gru(embedded)\n",
    "        return output, hidden"
   ]
  },
  {
   "attachments": {},
   "cell_type": "markdown",
   "metadata": {},
   "source": [
    "The Decoder\n",
    "===========\n",
    "\n",
    "The decoder is another RNN that takes the encoder output vector(s) and\n",
    "outputs a sequence of words to create the translation.\n"
   ]
  },
  {
   "attachments": {},
   "cell_type": "markdown",
   "metadata": {},
   "source": [
    "Simple Decoder\n",
    "==============\n",
    "\n",
    "In the simplest seq2seq decoder we use only last output of the encoder.\n",
    "This last output is sometimes called the *context vector* as it encodes\n",
    "context from the entire sequence. This context vector is used as the\n",
    "initial hidden state of the decoder.\n",
    "\n",
    "At every step of decoding, the decoder is given an input token and\n",
    "hidden state. The initial input token is the start-of-string `<SOS>`\n",
    "token, and the first hidden state is the context vector (the encoder\\'s\n",
    "last hidden state).\n",
    "\n",
    "![](https://pytorch.org/tutorials/_static/img/seq-seq-images/decoder-network.png)\n"
   ]
  },
  {
   "cell_type": "code",
   "execution_count": 272,
   "metadata": {
    "collapsed": false
   },
   "outputs": [],
   "source": [
    "class DecoderRNN(nn.Module):\n",
    "    def __init__(self, hidden_size, output_size):\n",
    "        super(DecoderRNN, self).__init__()\n",
    "        self.embedding = nn.Embedding(output_size, hidden_size)\n",
    "        self.gru = nn.GRU(hidden_size, hidden_size, batch_first=True)\n",
    "        self.out = nn.Linear(hidden_size, output_size)\n",
    "\n",
    "    def forward(self, encoder_outputs, encoder_hidden, target_tensor=None):\n",
    "        batch_size = encoder_outputs.size(0)\n",
    "        decoder_input = torch.empty(batch_size, 1, dtype=torch.long, device=device).fill_(SOS_token)\n",
    "        decoder_hidden = encoder_hidden\n",
    "        decoder_outputs = []\n",
    "\n",
    "        for i in range(MAX_LENGTH):\n",
    "            decoder_output, decoder_hidden  = self.forward_step(decoder_input, decoder_hidden)\n",
    "            decoder_outputs.append(decoder_output)\n",
    "\n",
    "            if target_tensor is not None:\n",
    "                # Teacher forcing: Feed the target as the next input\n",
    "                decoder_input = target_tensor[:, i].unsqueeze(1) # Teacher forcing\n",
    "            else:\n",
    "                # Without teacher forcing: use its own predictions as the next input\n",
    "                _, topi = decoder_output.topk(1)\n",
    "                decoder_input = topi.squeeze(-1).detach()  # detach from history as input\n",
    "\n",
    "        decoder_outputs = torch.cat(decoder_outputs, dim=1)\n",
    "        decoder_outputs = F.log_softmax(decoder_outputs, dim=-1)\n",
    "        return decoder_outputs, decoder_hidden, None # We return `None` for consistency in the training loop\n",
    "\n",
    "    def forward_step(self, input, hidden):\n",
    "        output = self.embedding(input)\n",
    "        output = F.relu(output)\n",
    "        output, hidden = self.gru(output, hidden)\n",
    "        output = self.out(output)\n",
    "        return output, hidden"
   ]
  },
  {
   "attachments": {},
   "cell_type": "markdown",
   "metadata": {},
   "source": [
    "I encourage you to train and observe the results of this model, but to\n",
    "save space we\\'ll be going straight for the gold and introducing the\n",
    "Attention Mechanism.\n"
   ]
  },
  {
   "attachments": {},
   "cell_type": "markdown",
   "metadata": {},
   "source": [
    "Attention Decoder\n",
    "=================\n",
    "\n",
    "If only the context vector is passed between the encoder and decoder,\n",
    "that single vector carries the burden of encoding the entire sentence.\n",
    "\n",
    "Attention allows the decoder network to \\\"focus\\\" on a different part of\n",
    "the encoder\\'s outputs for every step of the decoder\\'s own outputs.\n",
    "First we calculate a set of *attention weights*. These will be\n",
    "multiplied by the encoder output vectors to create a weighted\n",
    "combination. The result (called `attn_applied` in the code) should\n",
    "contain information about that specific part of the input sequence, and\n",
    "thus help the decoder choose the right output words.\n",
    "\n",
    "![](https://i.imgur.com/1152PYf.png)\n",
    "\n",
    "Calculating the attention weights is done with another feed-forward\n",
    "layer `attn`, using the decoder\\'s input and hidden state as inputs.\n",
    "Because there are sentences of all sizes in the training data, to\n",
    "actually create and train this layer we have to choose a maximum\n",
    "sentence length (input length, for encoder outputs) that it can apply\n",
    "to. Sentences of the maximum length will use all the attention weights,\n",
    "while shorter sentences will only use the first few.\n",
    "\n",
    "![](https://pytorch.org/tutorials/_static/img/seq-seq-images/attention-decoder-network.png)\n",
    "\n",
    "Bahdanau attention, also known as additive attention, is a commonly used\n",
    "attention mechanism in sequence-to-sequence models, particularly in\n",
    "neural machine translation tasks. It was introduced by Bahdanau et al.\n",
    "in their paper titled [Neural Machine Translation by Jointly Learning to\n",
    "Align and Translate](https://arxiv.org/pdf/1409.0473.pdf). This\n",
    "attention mechanism employs a learned alignment model to compute\n",
    "attention scores between the encoder and decoder hidden states. It\n",
    "utilizes a feed-forward neural network to calculate alignment scores.\n",
    "\n",
    "However, there are alternative attention mechanisms available, such as\n",
    "Luong attention, which computes attention scores by taking the dot\n",
    "product between the decoder hidden state and the encoder hidden states.\n",
    "It does not involve the non-linear transformation used in Bahdanau\n",
    "attention.\n",
    "\n",
    "In this tutorial, we will be using Bahdanau attention. However, it would\n",
    "be a valuable exercise to explore modifying the attention mechanism to\n",
    "use Luong attention.\n"
   ]
  },
  {
   "cell_type": "code",
   "execution_count": 273,
   "metadata": {
    "collapsed": false
   },
   "outputs": [],
   "source": [
    "class BahdanauAttention(nn.Module):\n",
    "    def __init__(self, hidden_size):\n",
    "        super(BahdanauAttention, self).__init__()\n",
    "        self.Wa = nn.Linear(hidden_size, hidden_size)\n",
    "        self.Ua = nn.Linear(hidden_size, hidden_size)\n",
    "        self.Va = nn.Linear(hidden_size, 1)\n",
    "\n",
    "    def forward(self, query, keys):\n",
    "        scores = self.Va(torch.tanh(self.Wa(query) + self.Ua(keys)))\n",
    "        scores = scores.squeeze(2).unsqueeze(1)\n",
    "\n",
    "        weights = F.softmax(scores, dim=-1)\n",
    "        context = torch.bmm(weights, keys)\n",
    "\n",
    "        return context, weights\n",
    "\n",
    "class AttnDecoderRNN(nn.Module):\n",
    "    def __init__(self, hidden_size, output_size, dropout_p=0.1):\n",
    "        super(AttnDecoderRNN, self).__init__()\n",
    "        self.embedding = nn.Embedding(output_size, hidden_size)\n",
    "        self.attention = BahdanauAttention(hidden_size)\n",
    "        self.gru = nn.GRU(2 * hidden_size, hidden_size, batch_first=True)\n",
    "        self.out = nn.Linear(hidden_size, output_size)\n",
    "        self.dropout = nn.Dropout(dropout_p)\n",
    "\n",
    "    def forward(self, encoder_outputs, encoder_hidden, target_tensor=None):\n",
    "        batch_size = encoder_outputs.size(0)\n",
    "        decoder_input = torch.empty(batch_size, 1, dtype=torch.long, device=device).fill_(SOS_token)\n",
    "        decoder_hidden = encoder_hidden\n",
    "        decoder_outputs = []\n",
    "        attentions = []\n",
    "\n",
    "        for i in range(MAX_LENGTH):\n",
    "            decoder_output, decoder_hidden, attn_weights = self.forward_step(\n",
    "                decoder_input, decoder_hidden, encoder_outputs\n",
    "            )\n",
    "            decoder_outputs.append(decoder_output)\n",
    "            attentions.append(attn_weights)\n",
    "\n",
    "            if target_tensor is not None:\n",
    "                # Teacher forcing: Feed the target as the next input\n",
    "                decoder_input = target_tensor[:, i].unsqueeze(1) # Teacher forcing\n",
    "            else:\n",
    "                # Without teacher forcing: use its own predictions as the next input\n",
    "                _, topi = decoder_output.topk(1)\n",
    "                decoder_input = topi.squeeze(-1).detach()  # detach from history as input\n",
    "\n",
    "        decoder_outputs = torch.cat(decoder_outputs, dim=1)\n",
    "        decoder_outputs = F.log_softmax(decoder_outputs, dim=-1)\n",
    "        attentions = torch.cat(attentions, dim=1)\n",
    "\n",
    "        return decoder_outputs, decoder_hidden, attentions\n",
    "\n",
    "\n",
    "    def forward_step(self, input, hidden, encoder_outputs):\n",
    "        embedded =  self.dropout(self.embedding(input))\n",
    "\n",
    "        query = hidden.permute(1, 0, 2)\n",
    "        context, attn_weights = self.attention(query, encoder_outputs)\n",
    "        input_gru = torch.cat((embedded, context), dim=2)\n",
    "\n",
    "        output, hidden = self.gru(input_gru, hidden)\n",
    "        output = self.out(output)\n",
    "\n",
    "        return output, hidden, attn_weights"
   ]
  },
  {
   "attachments": {},
   "cell_type": "markdown",
   "metadata": {},
   "source": [
    "<div style=\"background-color: #54c7ec; color: #fff; font-weight: 700; padding-left: 10px; padding-top: 5px; padding-bottom: 5px\"><strong>NOTE:</strong></div>\n",
    "<div style=\"background-color: #f3f4f7; padding-left: 10px; padding-top: 10px; padding-bottom: 10px; padding-right: 10px\">\n",
    "<p>There are other forms of attention that work around the lengthlimitation by using a relative position approach. Read about \"localattention\" in <a href=\"https://arxiv.org/abs/1508.04025\">Effective Approaches to Attention-based Neural MachineTranslation</a>.</p>\n",
    "</div>\n",
    "\n",
    "Training\n",
    "========\n",
    "\n",
    "Preparing Training Data\n",
    "-----------------------\n",
    "\n",
    "To train, for each pair we will need an input tensor (indexes of the\n",
    "words in the input sentence) and target tensor (indexes of the words in\n",
    "the target sentence). While creating these vectors we will append the\n",
    "EOS token to both sequences.\n"
   ]
  },
  {
   "cell_type": "code",
   "execution_count": 274,
   "metadata": {
    "collapsed": false
   },
   "outputs": [],
   "source": [
    "def indexesFromSentence(lang, sentence):\n",
    "    return [lang.word2index[word] for word in sentence.split(' ')]\n",
    "\n",
    "def tensorFromSentence(lang, sentence):\n",
    "    indexes = indexesFromSentence(lang, sentence)\n",
    "    indexes.append(EOS_token)\n",
    "    return torch.tensor(indexes, dtype=torch.long, device=device).view(1, -1)\n",
    "\n",
    "def tensorsFromPair(pair):\n",
    "    input_tensor = tensorFromSentence(input_lang, pair[0])\n",
    "    target_tensor = tensorFromSentence(output_lang, pair[1])\n",
    "    return (input_tensor, target_tensor)\n",
    "\n",
    "def get_dataloader(batch_size, language='spa'):\n",
    "    input_lang, output_lang, pairs = prepareData('eng', language, True)\n",
    "\n",
    "    n = len(pairs)\n",
    "    input_ids = np.zeros((n, MAX_LENGTH), dtype=np.int32)\n",
    "    target_ids = np.zeros((n, MAX_LENGTH), dtype=np.int32)\n",
    "\n",
    "    for idx, (inp, tgt) in enumerate(pairs):\n",
    "        inp_ids = indexesFromSentence(input_lang, inp)\n",
    "        tgt_ids = indexesFromSentence(output_lang, tgt)\n",
    "        inp_ids.append(EOS_token)\n",
    "        tgt_ids.append(EOS_token)\n",
    "        input_ids[idx, :len(inp_ids)] = inp_ids\n",
    "        target_ids[idx, :len(tgt_ids)] = tgt_ids\n",
    "\n",
    "    indices_tensor = torch.arange(n)\n",
    "\n",
    "    train_data = TensorDataset(torch.LongTensor(input_ids).to(device),\n",
    "                               torch.LongTensor(target_ids).to(device),\n",
    "                               indices_tensor.to(device))\n",
    "\n",
    "    train_sampler = RandomSampler(train_data)\n",
    "    train_dataloader = DataLoader(train_data, sampler=train_sampler, batch_size=batch_size)\n",
    "    return input_lang, output_lang, train_dataloader, pairs"
   ]
  },
  {
   "attachments": {},
   "cell_type": "markdown",
   "metadata": {},
   "source": [
    "Training the Model\n",
    "==================\n",
    "\n",
    "To train we run the input sentence through the encoder, and keep track\n",
    "of every output and the latest hidden state. Then the decoder is given\n",
    "the `<SOS>` token as its first input, and the last hidden state of the\n",
    "encoder as its first hidden state.\n",
    "\n",
    "\\\"Teacher forcing\\\" is the concept of using the real target outputs as\n",
    "each next input, instead of using the decoder\\'s guess as the next\n",
    "input. Using teacher forcing causes it to converge faster but [when the\n",
    "trained network is exploited, it may exhibit\n",
    "instability](http://citeseerx.ist.psu.edu/viewdoc/download?doi=10.1.1.378.4095&rep=rep1&type=pdf).\n",
    "\n",
    "You can observe outputs of teacher-forced networks that read with\n",
    "coherent grammar but wander far from the correct translation\n",
    "-intuitively it has learned to represent the output grammar and can\n",
    "\\\"pick up\\\" the meaning once the teacher tells it the first few words,\n",
    "but it has not properly learned how to create the sentence from the\n",
    "translation in the first place.\n",
    "\n",
    "Because of the freedom PyTorch\\'s autograd gives us, we can randomly\n",
    "choose to use teacher forcing or not with a simple if statement. Turn\n",
    "`teacher_forcing_ratio` up to use more of it.\n"
   ]
  },
  {
   "cell_type": "code",
   "execution_count": 275,
   "metadata": {
    "collapsed": false
   },
   "outputs": [],
   "source": [
    "def train_epoch(dataloader, encoder, decoder, encoder_optimizer,\n",
    "          decoder_optimizer, criterion):\n",
    "\n",
    "    total_loss = 0\n",
    "    for data in dataloader:\n",
    "        input_tensor, target_tensor, _ = data\n",
    "\n",
    "        encoder_optimizer.zero_grad()\n",
    "        decoder_optimizer.zero_grad()\n",
    "\n",
    "        encoder_outputs, encoder_hidden = encoder(input_tensor)\n",
    "        decoder_outputs, _, _ = decoder(encoder_outputs, encoder_hidden, target_tensor)\n",
    "\n",
    "        loss = criterion(\n",
    "            decoder_outputs.view(-1, decoder_outputs.size(-1)),\n",
    "            target_tensor.view(-1)\n",
    "        )\n",
    "        loss.backward()\n",
    "\n",
    "        encoder_optimizer.step()\n",
    "        decoder_optimizer.step()\n",
    "\n",
    "        total_loss += loss.item()\n",
    "\n",
    "    return total_loss / len(dataloader)"
   ]
  },
  {
   "attachments": {},
   "cell_type": "markdown",
   "metadata": {},
   "source": [
    "This is a helper function to print time elapsed and estimated time\n",
    "remaining given the current time and progress %.\n"
   ]
  },
  {
   "cell_type": "code",
   "execution_count": 276,
   "metadata": {
    "collapsed": false
   },
   "outputs": [],
   "source": [
    "import time\n",
    "import math\n",
    "\n",
    "def asMinutes(s):\n",
    "    m = math.floor(s / 60)\n",
    "    s -= m * 60\n",
    "    return '%dm %ds' % (m, s)\n",
    "\n",
    "def timeSince(since, percent):\n",
    "    now = time.time()\n",
    "    s = now - since\n",
    "    es = s / (percent)\n",
    "    rs = es - s\n",
    "    return '%s (- %s)' % (asMinutes(s), asMinutes(rs))"
   ]
  },
  {
   "cell_type": "code",
   "execution_count": 277,
   "metadata": {},
   "outputs": [],
   "source": [
    "class ClientUpdate(object):\n",
    "    def __init__(self, train_dataloader, learning_rate, epochs, sch_flag):\n",
    "        self.train_loader = train_dataloader\n",
    "        self.learning_rate = learning_rate\n",
    "        self.epochs = epochs\n",
    "        self.sch_flag = sch_flag\n",
    "\n",
    "    def train(self, encoder, decoder):\n",
    "\n",
    "        criterion = nn.CrossEntropyLoss()\n",
    "        # optimizer = torch.optim.SGD(model.parameters(), lr=self.learning_rate, momentum=0.95, weight_decay = 5e-4)\n",
    "        encoder_optimizer = optim.Adam(encoder.parameters(), lr=self.learning_rate)\n",
    "        decoder_optimizer = optim.Adam(decoder.parameters(), lr=self.learning_rate)\n",
    "        # if self.sch_flag == True:\n",
    "        #    scheduler = torch.optim.lr_scheduler.ReduceLROnPlateau(optimizer, mode='min', factor=0.5)\n",
    "        # my_lr_scheduler = torch.optim.lr_scheduler.StepLR(optimizer, step_size=1, gamma=0.99)\n",
    "        e_loss = []\n",
    "        for epoch in range(1, self.epochs + 1):\n",
    "            loss = train_epoch(self.train_loader, encoder, decoder, encoder_optimizer, decoder_optimizer, criterion)\n",
    "            e_loss.append(loss)\n",
    "\n",
    "            # print_loss_total += loss\n",
    "            # plot_loss_total += loss\n",
    "\n",
    "            # if epoch % print_every == 0:\n",
    "            #     print_loss_avg = print_loss_total / print_every\n",
    "            #     print_loss_total = 0\n",
    "            #     print('%s (%d %d%%) %.4f' % (timeSince(start, epoch / n_epochs),\n",
    "            #                                 epoch, epoch / n_epochs * 100, print_loss_avg))\n",
    "\n",
    "            # if epoch % plot_every == 0:\n",
    "            #     plot_loss_avg = plot_loss_total / plot_every\n",
    "            #     plot_losses.append(plot_loss_avg)\n",
    "            #     plot_loss_total = 0\n",
    "\n",
    "            total_loss = sum(e_loss) / len(e_loss)\n",
    "\n",
    "        return encoder.state_dict(), decoder.state_dict(), total_loss, torch.tensor(len(self.train_loader.sampler))"
   ]
  },
  {
   "attachments": {},
   "cell_type": "markdown",
   "metadata": {},
   "source": [
    "The whole training process looks like this:\n",
    "\n",
    "-   Start a timer\n",
    "-   Initialize optimizers and criterion\n",
    "-   Create set of training pairs\n",
    "-   Start empty losses array for plotting\n",
    "\n",
    "Then we call `train` many times and occasionally print the progress (%\n",
    "of examples, time so far, estimated time) and average loss.\n"
   ]
  },
  {
   "cell_type": "code",
   "execution_count": 278,
   "metadata": {},
   "outputs": [],
   "source": [
    "from torchtext.data.metrics import bleu_score\n",
    "def evaluateBleu(encoder, decoder, input_lang, output_lang, pairs, n=10, verbose=False):\n",
    "    references = []\n",
    "    candidates = []\n",
    "\n",
    "    numbers = random.sample(range(len(pairs)), n)\n",
    "\n",
    "    for num in numbers:\n",
    "        pair = pairs[num]\n",
    "        output_words, _ = evaluate(encoder, decoder, pair[0], input_lang, output_lang)\n",
    "        output_sentence = ' '.join(output_words).split(' ')\n",
    "        if verbose:\n",
    "            print('>', pair[0])\n",
    "            print('=', pair[1])\n",
    "            print('<', ' '.join(output_sentence))\n",
    "            print('')\n",
    "\n",
    "        # Store the reference and candidate sentences for BLEU calculation\n",
    "        references.append([pair[1].split(' ')])\n",
    "        candidates.append(output_sentence)\n",
    "\n",
    "    # Calculate the BLEU score\n",
    "    score = bleu_score(candidates, references)\n",
    "    return score"
   ]
  },
  {
   "cell_type": "code",
   "execution_count": 279,
   "metadata": {
    "collapsed": false
   },
   "outputs": [],
   "source": [
    "import csv\n",
    "def train(train_dataloader, encoder, decoder, n_epochs, input, output, pairs, test_pairs=None, filename=None, learning_rate=0.001,\n",
    "               print_every=100, plot_every=100):\n",
    "    start = time.time()\n",
    "    plot_losses = []\n",
    "    print_loss_total = 0  # Reset every print_every\n",
    "    plot_loss_total = 0  # Reset every plot_every\n",
    "    best_bleu = 0\n",
    "    best_test_bleu = 0\n",
    "\n",
    "    encoder_optimizer = optim.Adam(encoder.parameters(), lr=learning_rate)\n",
    "    decoder_optimizer = optim.Adam(decoder.parameters(), lr=learning_rate)\n",
    "    criterion = nn.NLLLoss()\n",
    "\n",
    "    for epoch in range(1, n_epochs + 1):\n",
    "        loss = train_epoch(train_dataloader, encoder, decoder, encoder_optimizer, decoder_optimizer, criterion)\n",
    "        print_loss_total += loss\n",
    "        plot_loss_total += loss\n",
    "\n",
    "        bleu = evaluateBleu(encoder, decoder, input, output, pairs, n=200)\n",
    "        if test_pairs is not None:\n",
    "            test_bleu = evaluateBleu(encoder, decoder, input, output, test_pairs, n=min(200,len(test_pairs)))\n",
    "        else:\n",
    "            test_bleu = 0\n",
    "\n",
    "        if best_bleu < bleu:\n",
    "            best_bleu = bleu\n",
    "        \n",
    "        if best_test_bleu < test_bleu:\n",
    "            best_test_bleu = test_bleu\n",
    "\n",
    "        if epoch % print_every == 0:\n",
    "            print_loss_avg = print_loss_total / print_every\n",
    "            print_loss_total = 0\n",
    "            print(f'Epoch {epoch} >> Loss: {print_loss_avg}, Bleu: {bleu}, Test Bleu: {test_bleu}, Best:({best_bleu}/{best_test_bleu})')\n",
    "\n",
    "        if epoch % plot_every == 0:\n",
    "            plot_loss_avg = plot_loss_total / plot_every\n",
    "            plot_losses.append(plot_loss_avg)\n",
    "            plot_loss_total = 0\n",
    "\n",
    "\n",
    "        if filename is not None:\n",
    "            with open(filename, 'a') as f:\n",
    "                # create the csv writer\n",
    "                writer = csv.writer(f)\n",
    "\n",
    "                # write a row to the csv file\n",
    "                writer.writerow([epoch, loss, bleu, best_bleu, test_bleu, best_test_bleu])\n",
    "\n",
    "    showPlot(plot_losses)"
   ]
  },
  {
   "attachments": {},
   "cell_type": "markdown",
   "metadata": {},
   "source": [
    "Plotting results\n",
    "================\n",
    "\n",
    "Plotting is done with matplotlib, using the array of loss values\n",
    "`plot_losses` saved while training.\n"
   ]
  },
  {
   "cell_type": "code",
   "execution_count": 280,
   "metadata": {
    "collapsed": false
   },
   "outputs": [],
   "source": [
    "import matplotlib.pyplot as plt\n",
    "plt.switch_backend('agg')\n",
    "import matplotlib.ticker as ticker\n",
    "import numpy as np\n",
    "\n",
    "def showPlot(points):\n",
    "    plt.figure()\n",
    "    fig, ax = plt.subplots()\n",
    "    # this locator puts ticks at regular intervals\n",
    "    loc = ticker.MultipleLocator(base=0.2)\n",
    "    ax.yaxis.set_major_locator(loc)\n",
    "    plt.plot(points)"
   ]
  },
  {
   "attachments": {},
   "cell_type": "markdown",
   "metadata": {},
   "source": [
    "Evaluation\n",
    "==========\n",
    "\n",
    "Evaluation is mostly the same as training, but there are no targets so\n",
    "we simply feed the decoder\\'s predictions back to itself for each step.\n",
    "Every time it predicts a word we add it to the output string, and if it\n",
    "predicts the EOS token we stop there. We also store the decoder\\'s\n",
    "attention outputs for display later.\n"
   ]
  },
  {
   "cell_type": "code",
   "execution_count": 281,
   "metadata": {
    "collapsed": false
   },
   "outputs": [],
   "source": [
    "def evaluate(encoder, decoder, sentence, input_lang, output_lang):\n",
    "    with torch.no_grad():\n",
    "        input_tensor = tensorFromSentence(input_lang, sentence)\n",
    "\n",
    "        encoder_outputs, encoder_hidden = encoder(input_tensor)\n",
    "        decoder_outputs, decoder_hidden, decoder_attn = decoder(encoder_outputs, encoder_hidden)\n",
    "\n",
    "        _, topi = decoder_outputs.topk(1)\n",
    "        decoded_ids = topi.squeeze()\n",
    "\n",
    "        decoded_words = []\n",
    "        for idx in decoded_ids:\n",
    "            if idx.item() == EOS_token:\n",
    "                decoded_words.append('<EOS>')\n",
    "                break\n",
    "            decoded_words.append(output_lang.index2word[idx.item()])\n",
    "    return decoded_words, decoder_attn"
   ]
  },
  {
   "attachments": {},
   "cell_type": "markdown",
   "metadata": {},
   "source": [
    "We can evaluate random sentences from the training set and print out the\n",
    "input, target, and output to make some subjective quality judgements:\n"
   ]
  },
  {
   "cell_type": "code",
   "execution_count": 282,
   "metadata": {},
   "outputs": [],
   "source": [
    "def evaluateMultipleBleu(encoders, decoders, input_output_langs, n=10):\n",
    "    bleu_sum = 0\n",
    "    bleu_test_sum = 0\n",
    "    lang_length = len(encoders)\n",
    "    bleus = []\n",
    "    test_bleus = []\n",
    "    for i in range(lang_length):\n",
    "        bleu = evaluateBleu(encoders[i], decoders[i], input_output_langs[i][0], input_output_langs[i][1], input_output_langs[i][2], n=n)\n",
    "        bleu_sum += bleu\n",
    "        bleus.append(bleu)\n",
    "    for i in range(lang_length):\n",
    "        test_bleu = evaluateBleu(encoders[i], decoders[i], input_output_langs[i][0], input_output_langs[i][1], input_output_langs[i][3], n=n)\n",
    "        bleu_test_sum += test_bleu\n",
    "        test_bleus.append(test_bleu)\n",
    "    return (bleu_sum / lang_length), (bleu_test_sum / lang_length), bleus, test_bleus\n",
    "        "
   ]
  },
  {
   "attachments": {},
   "cell_type": "markdown",
   "metadata": {},
   "source": [
    "## Federated Learning"
   ]
  },
  {
   "cell_type": "code",
   "execution_count": 329,
   "metadata": {},
   "outputs": [],
   "source": [
    "import copy\n",
    "from tqdm import tqdm\n",
    "import csv\n",
    "\n",
    "def training(encoders, decoders, input_output_lang, rounds, lr, ds, C, K, E, filename=None, batch_size=None, hidden_size=None, cifar_data_test = None,\n",
    "             test_batch_size = None, classes_test = None, sch_flag = None, weighting=False, lexical_weights=None):\n",
    "    \"\"\"\n",
    "    Function implements the Federated Averaging Algorithm from the FedAvg paper.\n",
    "    Specifically, this function is used for the server side training and weight update\n",
    "\n",
    "    Params:\n",
    "      - model:           PyTorch model to train\n",
    "      - rounds:          Number of communication rounds for the client update\n",
    "      - batch_size:      Batch size for client update training\n",
    "      - lr:              Learning rate used for client update training\n",
    "      - ds:              Dataset used for training\n",
    "      - data_dict:       Type of data partition used for training (IID or non-IID)\n",
    "      - C:               Fraction of clients randomly chosen to perform computation on each round\n",
    "      - K:               Total number of clients\n",
    "      - E:               Number of training passes each client makes over its local dataset per round\n",
    "      - tb_writer_name:  Directory name to save the tensorboard logs\n",
    "    Returns:\n",
    "      - model:           Trained model on the server\n",
    "    \"\"\"\n",
    "\n",
    "    # global model weights\n",
    "    global_encoder_weights = {key: value for key, value in encoders[0].state_dict().items() if 'embedding' not in key}\n",
    "    global_decoder_weights = {key: value for key, value in decoders[0].state_dict().items() if 'embedding' not in key and 'out' not in key}\n",
    "\n",
    "    # training loss\n",
    "    train_loss = []\n",
    "    test_loss = []\n",
    "    test_accuracy = []\n",
    "    best_bleu = 0\n",
    "    best_test_bleu = 0\n",
    "    # measure time\n",
    "    start = time.time()\n",
    "\n",
    "    lex_weighting = False\n",
    "    if lexical_weights is not None:\n",
    "        lex_weighting = True\n",
    "\n",
    "    if filename is not None:\n",
    "            with open(filename, 'a') as f:\n",
    "                # create the csv writer\n",
    "                writer = csv.writer(f)\n",
    "\n",
    "                # write a row to the csv file\n",
    "                writer.writerow(['Rounds', 'Learning Rate', 'Client Fraction', 'Client Number', 'Local Epochs', 'Batch Size', 'Hidden Size', 'Weighting', 'Lexical Weighting'])\n",
    "                writer.writerow([rounds, lr, C, K, E, batch_size, hidden_size, weighting, lex_weighting])\n",
    "\n",
    "    for curr_round in range(1, rounds + 1):\n",
    "        w_encoder, w_decoder, local_loss, num_pairs, round_lex_weight = [], [], [], [], []\n",
    "        # Retrieve the number of clients participating in the current training\n",
    "        m = max(int(C * K), 1)\n",
    "        # Sample a subset of K clients according with the value defined before\n",
    "        S_t = np.random.choice(range(K), m, replace=False)\n",
    "        # For the selected clients start a local training\n",
    "        for k in tqdm(S_t):\n",
    "            # Compute a local update\n",
    "            local_update = ClientUpdate(train_dataloader=ds[k], learning_rate=lr, epochs=E,\n",
    "                                        sch_flag=sch_flag)\n",
    "            # Update means retrieve the values of the network weights\n",
    "            \n",
    "            e_og = encoders[k].state_dict()\n",
    "            d_og = decoders[k].state_dict()\n",
    "            e_og.update(global_encoder_weights)\n",
    "            d_og.update(global_decoder_weights)\n",
    "            encoders[k].load_state_dict(e_og)\n",
    "            decoders[k].load_state_dict(d_og)\n",
    "            \n",
    "            encoder_weights, decoder_weights, loss, num = local_update.train(encoders[k], decoders[k])\n",
    "\n",
    "            w_encoder.append({key: value for key, value in copy.deepcopy(encoder_weights).items() if 'embedding' not in key})\n",
    "            w_decoder.append({key: value for key, value in copy.deepcopy(decoder_weights).items() if 'embedding' not in key and 'out' not in key})\n",
    "            local_loss.append(copy.deepcopy(loss))\n",
    "            num_pairs.append(num)\n",
    "            if lex_weighting:\n",
    "                round_lex_weight.append(lexical_weights[k])\n",
    "        # lr = 0.999*lr\n",
    "        # updating the global weights\n",
    "        weights_avg_e = copy.deepcopy(w_encoder[0])\n",
    "\n",
    "        weights_sum = sum(num_pairs)\n",
    "        client_weights = [weight / weights_sum for weight in num_pairs]\n",
    "        if lex_weighting:\n",
    "            new_weights = [100 - weight for weight in round_lex_weight]\n",
    "            sum_lex = sum(new_weights)\n",
    "            if weighting:\n",
    "                client_weights = [(weight + lex_weight) / 2 for lex_weight, weight in zip(new_weights, client_weights)]\n",
    "            else:\n",
    "                client_weights = [weight / sum_lex for weight in new_weights]\n",
    "        \n",
    "        print(client_weights)\n",
    "\n",
    "\n",
    "        for k in weights_avg_e.keys():\n",
    "            if weighting or lex_weighting:\n",
    "                weights_avg_e[k] *= client_weights[0]\n",
    "                for i in range(1, len(w_encoder)):\n",
    "                    weights_avg_e[k] += w_encoder[i][k] * client_weights[i]\n",
    "                \n",
    "            else:\n",
    "                for i in range(1, len(w_encoder)):\n",
    "                    weights_avg_e[k] += w_encoder[i][k]\n",
    "                \n",
    "                weights_avg_e[k] = torch.div(weights_avg_e[k], len(w_encoder))\n",
    "\n",
    "        global_encoder_weights = weights_avg_e\n",
    "\n",
    "        weights_avg_d = copy.deepcopy(w_decoder[0])\n",
    "        for k in weights_avg_d.keys():\n",
    "            if weighting:\n",
    "                weights_avg_d[k] *= client_weights[0]\n",
    "                for i in range(1, len(w_decoder)):\n",
    "                    weights_avg_d[k] += w_decoder[i][k] * client_weights[i]\n",
    "                \n",
    "            else:\n",
    "                for i in range(1, len(w_decoder)):\n",
    "                    weights_avg_d[k] += w_decoder[i][k]\n",
    "\n",
    "                weights_avg_d[k] = torch.div(weights_avg_d[k], len(w_decoder))\n",
    "\n",
    "        global_decoder_weights = weights_avg_d\n",
    "        \n",
    "\n",
    "        # if curr_round == 200:\n",
    "        #     lr = lr / 2\n",
    "        #     E = E - 1\n",
    "\n",
    "        # if curr_round == 300:\n",
    "        #     lr = lr / 2\n",
    "        #     E = E - 2\n",
    "\n",
    "        # if curr_round == 400:\n",
    "        #     lr = lr / 5\n",
    "        #     E = E - 3\n",
    "\n",
    "        # move the updated weights to our model state dict\n",
    "        # encoder.load_state_dict(global_encoder_weights)\n",
    "        # decoder.load_state_dict(global_decoder_weights)\n",
    "\n",
    "        # loss\n",
    "        loss_avg = sum(local_loss) / len(local_loss)\n",
    "        # print('Round: {}... \\tAverage Loss: {}'.format(curr_round, round(loss_avg, 3)), lr)\n",
    "        train_loss.append(loss_avg)\n",
    "\n",
    "        # t_accuracy, t_loss = testing(model, cifar_data_test, test_batch_size, criterion, num_classes, classes_test)\n",
    "        # test_accuracy.append(t_accuracy)\n",
    "        # test_loss.append(t_loss)\n",
    "\n",
    "        # if best_accuracy < t_accuracy:\n",
    "        #     best_accuracy = t_accuracy\n",
    "        # # torch.save(model.state_dict(), plt_title)\n",
    "        # print(curr_round, loss_avg, t_loss, test_accuracy[0], best_accuracy)\n",
    "        # # print('best_accuracy:', best_accuracy, '---Round:', curr_round, '---lr', lr, '----localEpocs--', E)\n",
    "        bleu, test_bleu, bleu_list, test_bleu_list = evaluateMultipleBleu(encoders, decoders, input_output_lang, n=200)\n",
    "\n",
    "        if best_bleu < bleu:\n",
    "            best_bleu = bleu\n",
    "        if best_test_bleu < test_bleu:\n",
    "            best_test_bleu = test_bleu\n",
    "\n",
    "        if filename is not None:\n",
    "            with open(filename, 'a') as f:\n",
    "                # create the csv writer\n",
    "                writer = csv.writer(f)\n",
    "\n",
    "                # write a row to the csv file\n",
    "                writer.writerow([curr_round, loss_avg, bleu, best_bleu, test_bleu, best_test_bleu, str(bleu_list), str(test_bleu_list)])\n",
    "        print(f\"Round {curr_round} >> Loss: {loss_avg}, BLEU:{bleu}, TEST:{test_bleu}, LISTS:({str(bleu_list)}/{str(test_bleu_list)})\")\n",
    "\n",
    "    end = time.time()\n",
    "    print(\"Training Done!\")\n",
    "    print(\"Total time taken to Train: {}\".format(end - start))\n",
    "\n",
    "    return global_encoder_weights, global_decoder_weights"
   ]
  },
  {
   "cell_type": "code",
   "execution_count": 285,
   "metadata": {},
   "outputs": [],
   "source": [
    "from torch.utils.data import DataLoader, SubsetRandomSampler\n",
    "\n",
    "def split_dataloader(dataloader, train_fraction=0.75):\n",
    "    # Total number of samples in the dataloader\n",
    "    dataset_size = len(dataloader.dataset)\n",
    "    \n",
    "    # Indices of all elements in the dataset\n",
    "    indices = list(range(dataset_size))\n",
    "    \n",
    "    # Shuffle indices\n",
    "    np.random.shuffle(indices)\n",
    "    \n",
    "    # Determine the split point\n",
    "    split = int(np.floor(train_fraction * dataset_size))\n",
    "    \n",
    "    # Create training and test samplers\n",
    "    train_indices, test_indices = indices[:split], indices[split:]\n",
    "    train_sampler = SubsetRandomSampler(train_indices)\n",
    "    test_sampler = SubsetRandomSampler(test_indices)\n",
    "    \n",
    "    # Create training and test dataloaders\n",
    "    train_loader = DataLoader(dataloader.dataset, batch_size=dataloader.batch_size, \n",
    "                              sampler=train_sampler, drop_last=True)\n",
    "    test_loader = DataLoader(dataloader.dataset, batch_size=dataloader.batch_size, \n",
    "                             sampler=test_sampler, drop_last=True)\n",
    "    \n",
    "    return train_loader, test_loader"
   ]
  },
  {
   "cell_type": "code",
   "execution_count": 286,
   "metadata": {},
   "outputs": [],
   "source": [
    "def get_pair_index(dataloader):\n",
    "    shuffled_indices = []\n",
    "    for _, _, indices in dataloader:\n",
    "        shuffled_indices.extend(indices.tolist())\n",
    "    return shuffled_indices"
   ]
  },
  {
   "attachments": {},
   "cell_type": "markdown",
   "metadata": {},
   "source": [
    "Training and Evaluating\n",
    "=======================\n",
    "\n",
    "With all these helper functions in place (it looks like extra work, but\n",
    "it makes it easier to run multiple experiments) we can actually\n",
    "initialize a network and start training.\n",
    "\n",
    "Remember that the input sentences were heavily filtered. For this small\n",
    "dataset we can use relatively small networks of 256 hidden nodes and a\n",
    "single GRU layer. After about 40 minutes on a MacBook CPU we\\'ll get\n",
    "some reasonable results.\n",
    "\n",
    "<div style=\"background-color: #54c7ec; color: #fff; font-weight: 700; padding-left: 10px; padding-top: 5px; padding-bottom: 5px\"><strong>NOTE:</strong></div>\n",
    "<div style=\"background-color: #f3f4f7; padding-left: 10px; padding-top: 10px; padding-bottom: 10px; padding-right: 10px\">\n",
    "<p>If you run this notebook you can train, interrupt the kernel,evaluate, and continue training later. Comment out the lines where theencoder and decoder are initialized and run <code>trainIters</code> again.</p>\n",
    "</div>\n"
   ]
  },
  {
   "cell_type": "code",
   "execution_count": 287,
   "metadata": {},
   "outputs": [],
   "source": [
    "hidden_size = 128\n",
    "batch_size = 32\n",
    "# input_lang, output_lang, train_dataloader = get_dataloader(batch_size, language='spa')"
   ]
  },
  {
   "cell_type": "code",
   "execution_count": 350,
   "metadata": {},
   "outputs": [
    {
     "name": "stdout",
     "output_type": "stream",
     "text": [
      "Reading lines...\n",
      "Read 82370 sentence pairs\n",
      "Trimmed to 25719 sentence pairs\n",
      "Counting words...\n",
      "Counted words:\n",
      "bem 19481\n",
      "eng 5092\n",
      "Reading lines...\n",
      "Read 15022 sentence pairs\n",
      "Trimmed to 8447 sentence pairs\n",
      "Counting words...\n",
      "Counted words:\n",
      "lug 9684\n",
      "eng 5677\n"
     ]
    }
   ],
   "source": [
    "data_dict = {}\n",
    "encoders = {}\n",
    "decoders = {}\n",
    "lexical_weight_dict = {}\n",
    "input_output_lang = {}\n",
    "langs = ['bem', 'lug']\n",
    "langs = sorted(langs)\n",
    "weights = [42, 6, 43] # This needs to line up with the sorted langs\n",
    "K = len(langs)\n",
    "for i in range(K):\n",
    "    input_lang, output_lang, train_dataloader, pair = get_dataloader(batch_size, language=langs[i])\n",
    "    train_dataloader, test_dataloader = split_dataloader(train_dataloader)\n",
    "    train_idx = get_pair_index(train_dataloader)\n",
    "    test_idx = get_pair_index(test_dataloader)\n",
    "\n",
    "    train_pairs = [pair[i] for i in train_idx]\n",
    "    test_pairs = [pair[i] for i in test_idx]\n",
    "\n",
    "    data_dict[i] = train_dataloader\n",
    "    encoders[i] = EncoderRNN(input_lang.n_words, hidden_size).to(device)\n",
    "    decoders[i] = AttnDecoderRNN(hidden_size, output_lang.n_words).to(device)\n",
    "    input_output_lang[i] = (input_lang, output_lang, train_pairs, test_pairs)\n",
    "    lexical_weight_dict[i] = weights[i]"
   ]
  },
  {
   "cell_type": "code",
   "execution_count": 351,
   "metadata": {},
   "outputs": [],
   "source": [
    "# st = {key: value for key, value in encoders[0].state_dict().items() if 'embedding' not in key}\n",
    "# st2 = {key: value for key, value in decoders[0].state_dict().items() if 'embedding' not in key and 'out' not in key}\n",
    "# encoders[1].state_dict().update(st)\n",
    "# decoders[1].state_dict().update(st2)\n",
    "# new = (encoders[0].state_dict())\n",
    "# new.update(global_encoder_weights)\n",
    "# encoders[0].load_state_dict(new)"
   ]
  },
  {
   "cell_type": "code",
   "execution_count": 352,
   "metadata": {
    "collapsed": false
   },
   "outputs": [],
   "source": [
    "import os\n",
    "# train(train_dataloader, encoder, decoder, 80, print_every=5, plot_every=5)\n",
    "\n",
    "filename=None\n",
    "save = True\n",
    "if save:\n",
    "    num = 1\n",
    "    filename = f\"GLOBAL|{'_'.join(langs)}||{num}.csv\"\n",
    "    while os.path.isfile(filename):\n",
    "        print('Name is taken...trying again...')\n",
    "        num += 1\n",
    "        filename = f\"GLOBAL|{'_'.join(langs)}||{num}.csv\""
   ]
  },
  {
   "cell_type": "code",
   "execution_count": 353,
   "metadata": {},
   "outputs": [
    {
     "name": "stderr",
     "output_type": "stream",
     "text": [
      "100%|██████████| 2/2 [00:06<00:00,  3.23s/it]\n"
     ]
    },
    {
     "name": "stdout",
     "output_type": "stream",
     "text": [
      "[0.3815789473684211, 0.618421052631579]\n",
      "Round 1 >> Loss: 4.343097251359252, BLEU:0.021176228299736977, TEST:0.013464801013469696, LISTS:([0.04235245659947395, 0.0]/[0.026929602026939392, 0.0])\n"
     ]
    },
    {
     "name": "stderr",
     "output_type": "stream",
     "text": [
      "100%|██████████| 2/2 [00:06<00:00,  3.28s/it]\n"
     ]
    },
    {
     "name": "stdout",
     "output_type": "stream",
     "text": [
      "[0.618421052631579, 0.3815789473684211]\n",
      "Round 2 >> Loss: 3.5707763056812403, BLEU:0.033485472202301025, TEST:0.023997509852051735, LISTS:([0.06697094440460205, 0.0]/[0.04799501970410347, 0.0])\n"
     ]
    },
    {
     "name": "stderr",
     "output_type": "stream",
     "text": [
      "100%|██████████| 2/2 [00:06<00:00,  3.23s/it]\n"
     ]
    },
    {
     "name": "stdout",
     "output_type": "stream",
     "text": [
      "[0.3815789473684211, 0.618421052631579]\n",
      "Round 3 >> Loss: 3.293028294549096, BLEU:0.04090512916445732, TEST:0.036875370889902115, LISTS:([0.08181025832891464, 0.0]/[0.07375074177980423, 0.0])\n"
     ]
    },
    {
     "name": "stderr",
     "output_type": "stream",
     "text": [
      "100%|██████████| 2/2 [00:06<00:00,  3.31s/it]\n"
     ]
    },
    {
     "name": "stdout",
     "output_type": "stream",
     "text": [
      "[0.3815789473684211, 0.618421052631579]\n",
      "Round 4 >> Loss: 3.103373092171301, BLEU:0.05183522403240204, TEST:0.04308215528726578, LISTS:([0.10367044806480408, 0.0]/[0.08616431057453156, 0.0])\n"
     ]
    },
    {
     "name": "stderr",
     "output_type": "stream",
     "text": [
      "100%|██████████| 2/2 [00:06<00:00,  3.15s/it]\n"
     ]
    },
    {
     "name": "stdout",
     "output_type": "stream",
     "text": [
      "[0.618421052631579, 0.3815789473684211]\n",
      "Round 5 >> Loss: 2.952593561584621, BLEU:0.05887356959283352, TEST:0.05211681127548218, LISTS:([0.09845125675201416, 0.019295882433652878]/[0.10423362255096436, 0.0])\n"
     ]
    },
    {
     "name": "stderr",
     "output_type": "stream",
     "text": [
      "100%|██████████| 2/2 [00:06<00:00,  3.12s/it]\n"
     ]
    },
    {
     "name": "stdout",
     "output_type": "stream",
     "text": [
      "[0.618421052631579, 0.3815789473684211]\n",
      "Round 6 >> Loss: 2.824848449446611, BLEU:0.08193971496075392, TEST:0.057598114013671875, LISTS:([0.1421922743320465, 0.021687155589461327]/[0.11519622802734375, 0.0])\n"
     ]
    },
    {
     "name": "stderr",
     "output_type": "stream",
     "text": [
      "100%|██████████| 2/2 [00:06<00:00,  3.18s/it]\n"
     ]
    },
    {
     "name": "stdout",
     "output_type": "stream",
     "text": [
      "[0.618421052631579, 0.3815789473684211]\n",
      "Round 7 >> Loss: 2.7124183748241526, BLEU:0.07565203122794628, TEST:0.06566745601594448, LISTS:([0.12244129180908203, 0.02886277064681053]/[0.11432047933340073, 0.017014432698488235])\n"
     ]
    },
    {
     "name": "stderr",
     "output_type": "stream",
     "text": [
      "100%|██████████| 2/2 [00:06<00:00,  3.15s/it]\n"
     ]
    },
    {
     "name": "stdout",
     "output_type": "stream",
     "text": [
      "[0.618421052631579, 0.3815789473684211]\n",
      "Round 8 >> Loss: 2.6113607741555978, BLEU:0.0774533711373806, TEST:0.07091240026056767, LISTS:([0.14131349325180054, 0.013593249022960663]/[0.12008774280548096, 0.021737057715654373])\n"
     ]
    },
    {
     "name": "stderr",
     "output_type": "stream",
     "text": [
      "100%|██████████| 2/2 [00:06<00:00,  3.25s/it]\n"
     ]
    },
    {
     "name": "stdout",
     "output_type": "stream",
     "text": [
      "[0.3815789473684211, 0.618421052631579]\n",
      "Round 9 >> Loss: 2.5199026138920777, BLEU:0.07801736053079367, TEST:0.07006978895515203, LISTS:([0.12545324862003326, 0.03058147244155407]/[0.11858942359685898, 0.02155015431344509])\n"
     ]
    },
    {
     "name": "stderr",
     "output_type": "stream",
     "text": [
      "100%|██████████| 2/2 [00:06<00:00,  3.25s/it]\n"
     ]
    },
    {
     "name": "stdout",
     "output_type": "stream",
     "text": [
      "[0.3815789473684211, 0.618421052631579]\n",
      "Round 10 >> Loss: 2.435549173396999, BLEU:0.1016357708722353, TEST:0.08503171801567078, LISTS:([0.16532002389431, 0.0379515178501606]/[0.1545233428478241, 0.015540093183517456])\n"
     ]
    },
    {
     "name": "stderr",
     "output_type": "stream",
     "text": [
      "100%|██████████| 2/2 [00:06<00:00,  3.24s/it]\n"
     ]
    },
    {
     "name": "stdout",
     "output_type": "stream",
     "text": [
      "[0.3815789473684211, 0.618421052631579]\n",
      "Round 11 >> Loss: 2.3585031550500553, BLEU:0.10496190190315247, TEST:0.08784248866140842, LISTS:([0.17347893118858337, 0.03644487261772156]/[0.13991741836071014, 0.035767558962106705])\n"
     ]
    },
    {
     "name": "stderr",
     "output_type": "stream",
     "text": [
      "100%|██████████| 2/2 [00:06<00:00,  3.14s/it]\n"
     ]
    },
    {
     "name": "stdout",
     "output_type": "stream",
     "text": [
      "[0.3815789473684211, 0.618421052631579]\n",
      "Round 12 >> Loss: 2.2877573193718854, BLEU:0.10026083141565323, TEST:0.05811619386076927, LISTS:([0.16841992735862732, 0.03210173547267914]/[0.11623238772153854, 0.0])\n"
     ]
    },
    {
     "name": "stderr",
     "output_type": "stream",
     "text": [
      "100%|██████████| 2/2 [00:06<00:00,  3.17s/it]\n"
     ]
    },
    {
     "name": "stdout",
     "output_type": "stream",
     "text": [
      "[0.618421052631579, 0.3815789473684211]\n",
      "Round 13 >> Loss: 2.220316835940824, BLEU:0.10703580640256405, TEST:0.08468159660696983, LISTS:([0.1745128333568573, 0.0395587794482708]/[0.14817914366722107, 0.021184049546718597])\n"
     ]
    },
    {
     "name": "stderr",
     "output_type": "stream",
     "text": [
      "100%|██████████| 2/2 [00:06<00:00,  3.30s/it]\n"
     ]
    },
    {
     "name": "stdout",
     "output_type": "stream",
     "text": [
      "[0.618421052631579, 0.3815789473684211]\n",
      "Round 14 >> Loss: 2.1603951662844696, BLEU:0.11058367229998112, TEST:0.07165591977536678, LISTS:([0.17664499580860138, 0.044522348791360855]/[0.10908039659261703, 0.03423144295811653])\n"
     ]
    },
    {
     "name": "stderr",
     "output_type": "stream",
     "text": [
      "100%|██████████| 2/2 [00:06<00:00,  3.09s/it]\n"
     ]
    },
    {
     "name": "stdout",
     "output_type": "stream",
     "text": [
      "[0.618421052631579, 0.3815789473684211]\n",
      "Round 15 >> Loss: 2.1023242993902787, BLEU:0.12905273586511612, TEST:0.080460574477911, LISTS:([0.20900271832942963, 0.04910275340080261]/[0.13616959750652313, 0.02475155144929886])\n"
     ]
    },
    {
     "name": "stderr",
     "output_type": "stream",
     "text": [
      "100%|██████████| 2/2 [00:06<00:00,  3.12s/it]\n"
     ]
    },
    {
     "name": "stdout",
     "output_type": "stream",
     "text": [
      "[0.618421052631579, 0.3815789473684211]\n",
      "Round 16 >> Loss: 2.0519109075181245, BLEU:0.1295415572822094, TEST:0.06993655022233725, LISTS:([0.1906774789094925, 0.0684056356549263]/[0.11691306531429291, 0.022960035130381584])\n"
     ]
    },
    {
     "name": "stderr",
     "output_type": "stream",
     "text": [
      "100%|██████████| 2/2 [00:06<00:00,  3.10s/it]\n"
     ]
    },
    {
     "name": "stdout",
     "output_type": "stream",
     "text": [
      "[0.618421052631579, 0.3815789473684211]\n",
      "Round 17 >> Loss: 2.000934045435954, BLEU:0.125953521579504, TEST:0.08842039853334427, LISTS:([0.19819331169128418, 0.053713731467723846]/[0.14226438105106354, 0.034576416015625])\n"
     ]
    },
    {
     "name": "stderr",
     "output_type": "stream",
     "text": [
      "100%|██████████| 2/2 [00:06<00:00,  3.08s/it]\n"
     ]
    },
    {
     "name": "stdout",
     "output_type": "stream",
     "text": [
      "[0.618421052631579, 0.3815789473684211]\n",
      "Round 18 >> Loss: 1.956892071678582, BLEU:0.14214494451880455, TEST:0.07699845731258392, LISTS:([0.2215053141117096, 0.0627845749258995]/[0.12730619311332703, 0.02669072151184082])\n"
     ]
    },
    {
     "name": "stderr",
     "output_type": "stream",
     "text": [
      "100%|██████████| 2/2 [00:06<00:00,  3.08s/it]\n"
     ]
    },
    {
     "name": "stdout",
     "output_type": "stream",
     "text": [
      "[0.618421052631579, 0.3815789473684211]\n",
      "Round 19 >> Loss: 1.9145987423163437, BLEU:0.14385291934013367, TEST:0.09529683738946915, LISTS:([0.22221975028514862, 0.06548608839511871]/[0.14496958255767822, 0.04562409222126007])\n"
     ]
    },
    {
     "name": "stderr",
     "output_type": "stream",
     "text": [
      "100%|██████████| 2/2 [00:06<00:00,  3.09s/it]\n"
     ]
    },
    {
     "name": "stdout",
     "output_type": "stream",
     "text": [
      "[0.618421052631579, 0.3815789473684211]\n",
      "Round 20 >> Loss: 1.8719252371640966, BLEU:0.15944072976708412, TEST:0.0815967470407486, LISTS:([0.2439306378364563, 0.07495082169771194]/[0.12903833389282227, 0.03415516018867493])\n"
     ]
    },
    {
     "name": "stderr",
     "output_type": "stream",
     "text": [
      "100%|██████████| 2/2 [00:06<00:00,  3.07s/it]\n"
     ]
    },
    {
     "name": "stdout",
     "output_type": "stream",
     "text": [
      "[0.3815789473684211, 0.618421052631579]\n",
      "Round 21 >> Loss: 1.8304837959633793, BLEU:0.1662008799612522, TEST:0.08386204019188881, LISTS:([0.24296312034130096, 0.08943863958120346]/[0.1377829611301422, 0.029941119253635406])\n"
     ]
    },
    {
     "name": "stderr",
     "output_type": "stream",
     "text": [
      "100%|██████████| 2/2 [00:06<00:00,  3.06s/it]\n"
     ]
    },
    {
     "name": "stdout",
     "output_type": "stream",
     "text": [
      "[0.618421052631579, 0.3815789473684211]\n",
      "Round 22 >> Loss: 1.7981771533606068, BLEU:0.14929116144776344, TEST:0.09719404950737953, LISTS:([0.21722325682640076, 0.08135906606912613]/[0.1613582968711853, 0.03302980214357376])\n"
     ]
    },
    {
     "name": "stderr",
     "output_type": "stream",
     "text": [
      "100%|██████████| 2/2 [00:06<00:00,  3.14s/it]\n"
     ]
    },
    {
     "name": "stdout",
     "output_type": "stream",
     "text": [
      "[0.618421052631579, 0.3815789473684211]\n",
      "Round 23 >> Loss: 1.7614377337279428, BLEU:0.16248482465744019, TEST:0.07486607413738966, LISTS:([0.22430001199245453, 0.10066963732242584]/[0.13071422278881073, 0.01901792548596859])\n"
     ]
    },
    {
     "name": "stderr",
     "output_type": "stream",
     "text": [
      "100%|██████████| 2/2 [00:06<00:00,  3.31s/it]\n"
     ]
    },
    {
     "name": "stdout",
     "output_type": "stream",
     "text": [
      "[0.3815789473684211, 0.618421052631579]\n",
      "Round 24 >> Loss: 1.729007059464574, BLEU:0.18975355848670006, TEST:0.10040074214339256, LISTS:([0.27903687953948975, 0.10047023743391037]/[0.15032877027988434, 0.05047271400690079])\n"
     ]
    },
    {
     "name": "stderr",
     "output_type": "stream",
     "text": [
      "100%|██████████| 2/2 [00:06<00:00,  3.17s/it]\n"
     ]
    },
    {
     "name": "stdout",
     "output_type": "stream",
     "text": [
      "[0.618421052631579, 0.3815789473684211]\n",
      "Round 25 >> Loss: 1.696980885450031, BLEU:0.15888582915067673, TEST:0.09554164484143257, LISTS:([0.21807870268821716, 0.09969295561313629]/[0.14254096150398254, 0.0485423281788826])\n"
     ]
    },
    {
     "name": "stderr",
     "output_type": "stream",
     "text": [
      "100%|██████████| 2/2 [00:06<00:00,  3.19s/it]\n"
     ]
    },
    {
     "name": "stdout",
     "output_type": "stream",
     "text": [
      "[0.3815789473684211, 0.618421052631579]\n",
      "Round 26 >> Loss: 1.6676560568057024, BLEU:0.16631123051047325, TEST:0.09722070209681988, LISTS:([0.2364514321088791, 0.09617102891206741]/[0.15795482695102692, 0.03648657724261284])\n"
     ]
    },
    {
     "name": "stderr",
     "output_type": "stream",
     "text": [
      "100%|██████████| 2/2 [00:06<00:00,  3.23s/it]\n"
     ]
    },
    {
     "name": "stdout",
     "output_type": "stream",
     "text": [
      "[0.3815789473684211, 0.618421052631579]\n",
      "Round 27 >> Loss: 1.6374376861386626, BLEU:0.19212502241134644, TEST:0.08491387590765953, LISTS:([0.29048261046409607, 0.0937674343585968]/[0.1345166563987732, 0.03531109541654587])\n"
     ]
    },
    {
     "name": "stderr",
     "output_type": "stream",
     "text": [
      "100%|██████████| 2/2 [00:06<00:00,  3.25s/it]\n"
     ]
    },
    {
     "name": "stdout",
     "output_type": "stream",
     "text": [
      "[0.618421052631579, 0.3815789473684211]\n",
      "Round 28 >> Loss: 1.6101949437534229, BLEU:0.17998725920915604, TEST:0.08607551641762257, LISTS:([0.264370858669281, 0.09560365974903107]/[0.14683835208415985, 0.02531268075108528])\n"
     ]
    },
    {
     "name": "stderr",
     "output_type": "stream",
     "text": [
      "100%|██████████| 2/2 [00:06<00:00,  3.20s/it]\n"
     ]
    },
    {
     "name": "stdout",
     "output_type": "stream",
     "text": [
      "[0.3815789473684211, 0.618421052631579]\n",
      "Round 29 >> Loss: 1.5859985184595713, BLEU:0.18136118352413177, TEST:0.09026193805038929, LISTS:([0.25865742564201355, 0.10406494140625]/[0.15147580206394196, 0.029048074036836624])\n"
     ]
    },
    {
     "name": "stderr",
     "output_type": "stream",
     "text": [
      "100%|██████████| 2/2 [00:06<00:00,  3.19s/it]\n"
     ]
    },
    {
     "name": "stdout",
     "output_type": "stream",
     "text": [
      "[0.3815789473684211, 0.618421052631579]\n",
      "Round 30 >> Loss: 1.5622130492455697, BLEU:0.20606575533747673, TEST:0.08339210133999586, LISTS:([0.2907085716724396, 0.12142293900251389]/[0.13561683893203735, 0.03116736374795437])\n"
     ]
    },
    {
     "name": "stderr",
     "output_type": "stream",
     "text": [
      "100%|██████████| 2/2 [00:06<00:00,  3.10s/it]\n"
     ]
    },
    {
     "name": "stdout",
     "output_type": "stream",
     "text": [
      "[0.3815789473684211, 0.618421052631579]\n",
      "Round 31 >> Loss: 1.536818419989662, BLEU:0.17715561762452126, TEST:0.11208565905690193, LISTS:([0.2552092373371124, 0.09910199791193008]/[0.18470054864883423, 0.039470769464969635])\n"
     ]
    },
    {
     "name": "stderr",
     "output_type": "stream",
     "text": [
      "100%|██████████| 2/2 [00:06<00:00,  3.24s/it]\n"
     ]
    },
    {
     "name": "stdout",
     "output_type": "stream",
     "text": [
      "[0.3815789473684211, 0.618421052631579]\n",
      "Round 32 >> Loss: 1.5165459320728423, BLEU:0.18912241235375404, TEST:0.09000839665532112, LISTS:([0.27015015482902527, 0.10809466987848282]/[0.14347149431705475, 0.036545298993587494])\n"
     ]
    },
    {
     "name": "stderr",
     "output_type": "stream",
     "text": [
      "100%|██████████| 2/2 [00:06<00:00,  3.18s/it]\n"
     ]
    },
    {
     "name": "stdout",
     "output_type": "stream",
     "text": [
      "[0.3815789473684211, 0.618421052631579]\n",
      "Round 33 >> Loss: 1.4959121340256605, BLEU:0.20829028636217117, TEST:0.08996413368731737, LISTS:([0.28079134225845337, 0.13578923046588898]/[0.15437568724155426, 0.025552580133080482])\n"
     ]
    },
    {
     "name": "stderr",
     "output_type": "stream",
     "text": [
      "100%|██████████| 2/2 [00:06<00:00,  3.05s/it]\n"
     ]
    },
    {
     "name": "stdout",
     "output_type": "stream",
     "text": [
      "[0.618421052631579, 0.3815789473684211]\n",
      "Round 34 >> Loss: 1.4772587343910937, BLEU:0.17876749485731125, TEST:0.0984511487185955, LISTS:([0.245919868350029, 0.1116151213645935]/[0.15785229206085205, 0.03905000537633896])\n"
     ]
    },
    {
     "name": "stderr",
     "output_type": "stream",
     "text": [
      "100%|██████████| 2/2 [00:06<00:00,  3.02s/it]\n"
     ]
    },
    {
     "name": "stdout",
     "output_type": "stream",
     "text": [
      "[0.618421052631579, 0.3815789473684211]\n",
      "Round 35 >> Loss: 1.455828295396374, BLEU:0.2078082151710987, TEST:0.07972117699682713, LISTS:([0.3014487326145172, 0.1141676977276802]/[0.1266152262687683, 0.03282712772488594])\n"
     ]
    },
    {
     "name": "stderr",
     "output_type": "stream",
     "text": [
      "100%|██████████| 2/2 [00:06<00:00,  3.05s/it]\n"
     ]
    },
    {
     "name": "stdout",
     "output_type": "stream",
     "text": [
      "[0.618421052631579, 0.3815789473684211]\n",
      "Round 36 >> Loss: 1.4357435512982897, BLEU:0.19985899329185486, TEST:0.08909138292074203, LISTS:([0.2722143828868866, 0.12750360369682312]/[0.13792811334133148, 0.04025465250015259])\n"
     ]
    },
    {
     "name": "stderr",
     "output_type": "stream",
     "text": [
      "100%|██████████| 2/2 [00:06<00:00,  3.08s/it]\n"
     ]
    },
    {
     "name": "stdout",
     "output_type": "stream",
     "text": [
      "[0.3815789473684211, 0.618421052631579]\n",
      "Round 37 >> Loss: 1.4193880416237148, BLEU:0.19351812079548836, TEST:0.0918720904737711, LISTS:([0.2701582610607147, 0.116877980530262]/[0.14442144334316254, 0.039322737604379654])\n"
     ]
    },
    {
     "name": "stderr",
     "output_type": "stream",
     "text": [
      "100%|██████████| 2/2 [00:06<00:00,  3.04s/it]\n"
     ]
    },
    {
     "name": "stdout",
     "output_type": "stream",
     "text": [
      "[0.3815789473684211, 0.618421052631579]\n",
      "Round 38 >> Loss: 1.4006985107678869, BLEU:0.2073148712515831, TEST:0.074084403924644, LISTS:([0.28937628865242004, 0.12525345385074615]/[0.12577979266643524, 0.022389015182852745])\n"
     ]
    },
    {
     "name": "stderr",
     "output_type": "stream",
     "text": [
      "100%|██████████| 2/2 [00:06<00:00,  3.05s/it]\n"
     ]
    },
    {
     "name": "stdout",
     "output_type": "stream",
     "text": [
      "[0.618421052631579, 0.3815789473684211]\n",
      "Round 39 >> Loss: 1.383008488316575, BLEU:0.21115215867757797, TEST:0.07412564195692539, LISTS:([0.2812136113643646, 0.14109070599079132]/[0.1047825813293457, 0.04346870258450508])\n"
     ]
    },
    {
     "name": "stderr",
     "output_type": "stream",
     "text": [
      "100%|██████████| 2/2 [00:06<00:00,  3.04s/it]\n"
     ]
    },
    {
     "name": "stdout",
     "output_type": "stream",
     "text": [
      "[0.618421052631579, 0.3815789473684211]\n",
      "Round 40 >> Loss: 1.3673892404055386, BLEU:0.21239232271909714, TEST:0.07825274392962456, LISTS:([0.28083470463752747, 0.1439499408006668]/[0.12070538848638535, 0.03580009937286377])\n"
     ]
    },
    {
     "name": "stderr",
     "output_type": "stream",
     "text": [
      "100%|██████████| 2/2 [00:06<00:00,  3.13s/it]\n"
     ]
    },
    {
     "name": "stdout",
     "output_type": "stream",
     "text": [
      "[0.3815789473684211, 0.618421052631579]\n",
      "Round 41 >> Loss: 1.3506569882939412, BLEU:0.23457635194063187, TEST:0.08894842490553856, LISTS:([0.29348519444465637, 0.17566750943660736]/[0.12886200845241547, 0.04903484135866165])\n"
     ]
    },
    {
     "name": "stderr",
     "output_type": "stream",
     "text": [
      "100%|██████████| 2/2 [00:06<00:00,  3.12s/it]\n"
     ]
    },
    {
     "name": "stdout",
     "output_type": "stream",
     "text": [
      "[0.3815789473684211, 0.618421052631579]\n",
      "Round 42 >> Loss: 1.3384701595003614, BLEU:0.22421835362911224, TEST:0.0752327349036932, LISTS:([0.2959475815296173, 0.15248912572860718]/[0.1240425631403923, 0.026422906666994095])\n"
     ]
    },
    {
     "name": "stderr",
     "output_type": "stream",
     "text": [
      "100%|██████████| 2/2 [00:06<00:00,  3.24s/it]\n"
     ]
    },
    {
     "name": "stdout",
     "output_type": "stream",
     "text": [
      "[0.3815789473684211, 0.618421052631579]\n",
      "Round 43 >> Loss: 1.3216926309994237, BLEU:0.2410154864192009, TEST:0.0962936021387577, LISTS:([0.3373395502567291, 0.14469142258167267]/[0.14676471054553986, 0.045822493731975555])\n"
     ]
    },
    {
     "name": "stderr",
     "output_type": "stream",
     "text": [
      "100%|██████████| 2/2 [00:06<00:00,  3.20s/it]\n"
     ]
    },
    {
     "name": "stdout",
     "output_type": "stream",
     "text": [
      "[0.3815789473684211, 0.618421052631579]\n",
      "Round 44 >> Loss: 1.3084589032051723, BLEU:0.23074309527873993, TEST:0.09181014075875282, LISTS:([0.306960791349411, 0.15452539920806885]/[0.1392146497964859, 0.044405631721019745])\n"
     ]
    },
    {
     "name": "stderr",
     "output_type": "stream",
     "text": [
      "100%|██████████| 2/2 [00:06<00:00,  3.19s/it]\n"
     ]
    },
    {
     "name": "stdout",
     "output_type": "stream",
     "text": [
      "[0.618421052631579, 0.3815789473684211]\n",
      "Round 45 >> Loss: 1.2904310248685245, BLEU:0.23166276514530182, TEST:0.08839746378362179, LISTS:([0.3103080987930298, 0.15301743149757385]/[0.14685560762882233, 0.02993931993842125])\n"
     ]
    },
    {
     "name": "stderr",
     "output_type": "stream",
     "text": [
      "100%|██████████| 2/2 [00:06<00:00,  3.20s/it]\n"
     ]
    },
    {
     "name": "stdout",
     "output_type": "stream",
     "text": [
      "[0.618421052631579, 0.3815789473684211]\n",
      "Round 46 >> Loss: 1.276422150146208, BLEU:0.23381546884775162, TEST:0.08912674337625504, LISTS:([0.3052852749824524, 0.16234566271305084]/[0.1311625987291336, 0.047090888023376465])\n"
     ]
    },
    {
     "name": "stderr",
     "output_type": "stream",
     "text": [
      "100%|██████████| 2/2 [00:06<00:00,  3.23s/it]\n"
     ]
    },
    {
     "name": "stdout",
     "output_type": "stream",
     "text": [
      "[0.618421052631579, 0.3815789473684211]\n",
      "Round 47 >> Loss: 1.2601951847741328, BLEU:0.2716400623321533, TEST:0.09370690584182739, LISTS:([0.3499854505062103, 0.1932946741580963]/[0.12746737897396088, 0.05994643270969391])\n"
     ]
    },
    {
     "name": "stderr",
     "output_type": "stream",
     "text": [
      "100%|██████████| 2/2 [00:06<00:00,  3.08s/it]\n"
     ]
    },
    {
     "name": "stdout",
     "output_type": "stream",
     "text": [
      "[0.3815789473684211, 0.618421052631579]\n",
      "Round 48 >> Loss: 1.2455019778298502, BLEU:0.2507389560341835, TEST:0.0843404596671462, LISTS:([0.3047976493835449, 0.19668026268482208]/[0.14650408923625946, 0.02217683009803295])\n"
     ]
    },
    {
     "name": "stderr",
     "output_type": "stream",
     "text": [
      "100%|██████████| 2/2 [00:06<00:00,  3.28s/it]\n"
     ]
    },
    {
     "name": "stdout",
     "output_type": "stream",
     "text": [
      "[0.3815789473684211, 0.618421052631579]\n",
      "Round 49 >> Loss: 1.2319023297603293, BLEU:0.29035885632038116, TEST:0.09138898551464081, LISTS:([0.39226967096328735, 0.18844804167747498]/[0.1459648311138153, 0.03681313991546631])\n"
     ]
    },
    {
     "name": "stderr",
     "output_type": "stream",
     "text": [
      "100%|██████████| 2/2 [00:06<00:00,  3.18s/it]\n"
     ]
    },
    {
     "name": "stdout",
     "output_type": "stream",
     "text": [
      "[0.3815789473684211, 0.618421052631579]\n",
      "Round 50 >> Loss: 1.218784000059685, BLEU:0.29785340279340744, TEST:0.08431779127568007, LISTS:([0.38988062739372253, 0.20582617819309235]/[0.1400900036096573, 0.028545578941702843])\n"
     ]
    },
    {
     "name": "stderr",
     "output_type": "stream",
     "text": [
      "100%|██████████| 2/2 [00:06<00:00,  3.19s/it]\n"
     ]
    },
    {
     "name": "stdout",
     "output_type": "stream",
     "text": [
      "[0.618421052631579, 0.3815789473684211]\n",
      "Round 51 >> Loss: 1.2063248619328657, BLEU:0.28464192152023315, TEST:0.08994272351264954, LISTS:([0.39437058568000793, 0.17491325736045837]/[0.13621403276920319, 0.043671414256095886])\n"
     ]
    },
    {
     "name": "stderr",
     "output_type": "stream",
     "text": [
      "100%|██████████| 2/2 [00:06<00:00,  3.18s/it]\n"
     ]
    },
    {
     "name": "stdout",
     "output_type": "stream",
     "text": [
      "[0.3815789473684211, 0.618421052631579]\n",
      "Round 52 >> Loss: 1.193029054813467, BLEU:0.2624109536409378, TEST:0.1101628951728344, LISTS:([0.3358621895313263, 0.18895971775054932]/[0.1727001965045929, 0.0476255938410759])\n"
     ]
    },
    {
     "name": "stderr",
     "output_type": "stream",
     "text": [
      "100%|██████████| 2/2 [00:06<00:00,  3.21s/it]\n"
     ]
    },
    {
     "name": "stdout",
     "output_type": "stream",
     "text": [
      "[0.618421052631579, 0.3815789473684211]\n",
      "Round 53 >> Loss: 1.182603603797769, BLEU:0.30234747380018234, TEST:0.08171419240534306, LISTS:([0.37184223532676697, 0.23285271227359772]/[0.13190405070781708, 0.031524334102869034])\n"
     ]
    },
    {
     "name": "stderr",
     "output_type": "stream",
     "text": [
      "100%|██████████| 2/2 [00:06<00:00,  3.24s/it]\n"
     ]
    },
    {
     "name": "stdout",
     "output_type": "stream",
     "text": [
      "[0.3815789473684211, 0.618421052631579]\n",
      "Round 54 >> Loss: 1.1675777174712718, BLEU:0.2676905319094658, TEST:0.09593021869659424, LISTS:([0.3684871196746826, 0.16689394414424896]/[0.15045225620269775, 0.04140818119049072])\n"
     ]
    },
    {
     "name": "stderr",
     "output_type": "stream",
     "text": [
      "100%|██████████| 2/2 [00:06<00:00,  3.05s/it]\n"
     ]
    },
    {
     "name": "stdout",
     "output_type": "stream",
     "text": [
      "[0.618421052631579, 0.3815789473684211]\n",
      "Round 55 >> Loss: 1.1562086717523132, BLEU:0.2817109525203705, TEST:0.0952602494508028, LISTS:([0.3674085736274719, 0.19601333141326904]/[0.1531224548816681, 0.037398044019937515])\n"
     ]
    },
    {
     "name": "stderr",
     "output_type": "stream",
     "text": [
      "100%|██████████| 2/2 [00:06<00:00,  3.06s/it]\n"
     ]
    },
    {
     "name": "stdout",
     "output_type": "stream",
     "text": [
      "[0.3815789473684211, 0.618421052631579]\n",
      "Round 56 >> Loss: 1.1430897573370844, BLEU:0.29636604338884354, TEST:0.0901443175971508, LISTS:([0.4026205539703369, 0.19011153280735016]/[0.14270725846290588, 0.03758137673139572])\n"
     ]
    },
    {
     "name": "stderr",
     "output_type": "stream",
     "text": [
      "100%|██████████| 2/2 [00:06<00:00,  3.32s/it]\n"
     ]
    },
    {
     "name": "stdout",
     "output_type": "stream",
     "text": [
      "[0.3815789473684211, 0.618421052631579]\n",
      "Round 57 >> Loss: 1.1312042812226077, BLEU:0.28682392835617065, TEST:0.07495423778891563, LISTS:([0.355253666639328, 0.2183941900730133]/[0.10768551379442215, 0.04222296178340912])\n"
     ]
    },
    {
     "name": "stderr",
     "output_type": "stream",
     "text": [
      "100%|██████████| 2/2 [00:06<00:00,  3.20s/it]\n"
     ]
    },
    {
     "name": "stdout",
     "output_type": "stream",
     "text": [
      "[0.618421052631579, 0.3815789473684211]\n",
      "Round 58 >> Loss: 1.1233674341220516, BLEU:0.2694035544991493, TEST:0.10431616567075253, LISTS:([0.34284308552742004, 0.1959640234708786]/[0.157461479306221, 0.05117085203528404])\n"
     ]
    },
    {
     "name": "stderr",
     "output_type": "stream",
     "text": [
      "100%|██████████| 2/2 [00:06<00:00,  3.20s/it]\n"
     ]
    },
    {
     "name": "stdout",
     "output_type": "stream",
     "text": [
      "[0.618421052631579, 0.3815789473684211]\n",
      "Round 59 >> Loss: 1.1093282042832684, BLEU:0.2882780060172081, TEST:0.09403305314481258, LISTS:([0.3738515079021454, 0.2027045041322708]/[0.14634791016578674, 0.041718196123838425])\n"
     ]
    },
    {
     "name": "stderr",
     "output_type": "stream",
     "text": [
      "100%|██████████| 2/2 [00:06<00:00,  3.19s/it]\n"
     ]
    },
    {
     "name": "stdout",
     "output_type": "stream",
     "text": [
      "[0.618421052631579, 0.3815789473684211]\n",
      "Round 60 >> Loss: 1.0996873256433566, BLEU:0.30527154356241226, TEST:0.08267189003527164, LISTS:([0.40142953395843506, 0.20911355316638947]/[0.12522251904010773, 0.04012126103043556])\n"
     ]
    },
    {
     "name": "stderr",
     "output_type": "stream",
     "text": [
      "100%|██████████| 2/2 [00:06<00:00,  3.18s/it]\n"
     ]
    },
    {
     "name": "stdout",
     "output_type": "stream",
     "text": [
      "[0.3815789473684211, 0.618421052631579]\n",
      "Round 61 >> Loss: 1.0867729161501298, BLEU:0.296248160302639, TEST:0.09399023093283176, LISTS:([0.36960911750793457, 0.22288720309734344]/[0.15121233463287354, 0.03676812723278999])\n"
     ]
    },
    {
     "name": "stderr",
     "output_type": "stream",
     "text": [
      "100%|██████████| 2/2 [00:06<00:00,  3.19s/it]\n"
     ]
    },
    {
     "name": "stdout",
     "output_type": "stream",
     "text": [
      "[0.3815789473684211, 0.618421052631579]\n",
      "Round 62 >> Loss: 1.0788356611475591, BLEU:0.31221184879541397, TEST:0.08834953978657722, LISTS:([0.42250964045524597, 0.20191405713558197]/[0.13977859914302826, 0.03692048043012619])\n"
     ]
    },
    {
     "name": "stderr",
     "output_type": "stream",
     "text": [
      "100%|██████████| 2/2 [00:06<00:00,  3.23s/it]\n"
     ]
    },
    {
     "name": "stdout",
     "output_type": "stream",
     "text": [
      "[0.3815789473684211, 0.618421052631579]\n",
      "Round 63 >> Loss: 1.0694507586948636, BLEU:0.31228237599134445, TEST:0.09232834540307522, LISTS:([0.3991823196411133, 0.22538243234157562]/[0.133587047457695, 0.05106964334845543])\n"
     ]
    },
    {
     "name": "stderr",
     "output_type": "stream",
     "text": [
      "100%|██████████| 2/2 [00:06<00:00,  3.21s/it]\n"
     ]
    },
    {
     "name": "stdout",
     "output_type": "stream",
     "text": [
      "[0.618421052631579, 0.3815789473684211]\n",
      "Round 64 >> Loss: 1.059900840224097, BLEU:0.3139556795358658, TEST:0.10204030014574528, LISTS:([0.4200778603553772, 0.20783349871635437]/[0.14468792080879211, 0.05939267948269844])\n"
     ]
    },
    {
     "name": "stderr",
     "output_type": "stream",
     "text": [
      "100%|██████████| 2/2 [00:06<00:00,  3.21s/it]\n"
     ]
    },
    {
     "name": "stdout",
     "output_type": "stream",
     "text": [
      "[0.618421052631579, 0.3815789473684211]\n",
      "Round 65 >> Loss: 1.049391373056513, BLEU:0.31528086215257645, TEST:0.1034064032137394, LISTS:([0.41257038712501526, 0.21799133718013763]/[0.15625928342342377, 0.05055352300405502])\n"
     ]
    },
    {
     "name": "stderr",
     "output_type": "stream",
     "text": [
      "100%|██████████| 2/2 [00:06<00:00,  3.27s/it]\n"
     ]
    },
    {
     "name": "stdout",
     "output_type": "stream",
     "text": [
      "[0.3815789473684211, 0.618421052631579]\n",
      "Round 66 >> Loss: 1.0417396997676747, BLEU:0.31566987931728363, TEST:0.09870484843850136, LISTS:([0.38515686988830566, 0.2461828887462616]/[0.15190035104751587, 0.04550934582948685])\n"
     ]
    },
    {
     "name": "stderr",
     "output_type": "stream",
     "text": [
      "100%|██████████| 2/2 [00:06<00:00,  3.20s/it]\n"
     ]
    },
    {
     "name": "stdout",
     "output_type": "stream",
     "text": [
      "[0.618421052631579, 0.3815789473684211]\n",
      "Round 67 >> Loss: 1.0294106532134706, BLEU:0.3308332785964012, TEST:0.08707277476787567, LISTS:([0.4189020097255707, 0.24276454746723175]/[0.1293184459209442, 0.04482710361480713])\n"
     ]
    },
    {
     "name": "stderr",
     "output_type": "stream",
     "text": [
      "100%|██████████| 2/2 [00:06<00:00,  3.21s/it]\n"
     ]
    },
    {
     "name": "stdout",
     "output_type": "stream",
     "text": [
      "[0.3815789473684211, 0.618421052631579]\n",
      "Round 68 >> Loss: 1.020800575951593, BLEU:0.3096470460295677, TEST:0.08746560662984848, LISTS:([0.39302974939346313, 0.2262643426656723]/[0.12440501898527145, 0.05052619427442551])\n"
     ]
    },
    {
     "name": "stderr",
     "output_type": "stream",
     "text": [
      "100%|██████████| 2/2 [00:06<00:00,  3.07s/it]\n"
     ]
    },
    {
     "name": "stdout",
     "output_type": "stream",
     "text": [
      "[0.618421052631579, 0.3815789473684211]\n",
      "Round 69 >> Loss: 1.0124096650232117, BLEU:0.3234450966119766, TEST:0.08006071113049984, LISTS:([0.4048159718513489, 0.24207422137260437]/[0.12715792655944824, 0.03296349570155144])\n"
     ]
    },
    {
     "name": "stderr",
     "output_type": "stream",
     "text": [
      "100%|██████████| 2/2 [00:06<00:00,  3.03s/it]\n"
     ]
    },
    {
     "name": "stdout",
     "output_type": "stream",
     "text": [
      "[0.618421052631579, 0.3815789473684211]\n",
      "Round 70 >> Loss: 1.0082391543214881, BLEU:0.3364744186401367, TEST:0.07389569282531738, LISTS:([0.4225499927997589, 0.2503988444805145]/[0.11596867442131042, 0.03182271122932434])\n"
     ]
    },
    {
     "name": "stderr",
     "output_type": "stream",
     "text": [
      "100%|██████████| 2/2 [00:06<00:00,  3.03s/it]\n"
     ]
    },
    {
     "name": "stdout",
     "output_type": "stream",
     "text": [
      "[0.618421052631579, 0.3815789473684211]\n",
      "Round 71 >> Loss: 0.9972725514111618, BLEU:0.3589634895324707, TEST:0.0941278375685215, LISTS:([0.4268398880958557, 0.2910870909690857]/[0.14650486409664154, 0.04175081104040146])\n"
     ]
    },
    {
     "name": "stderr",
     "output_type": "stream",
     "text": [
      "100%|██████████| 2/2 [00:06<00:00,  3.05s/it]\n"
     ]
    },
    {
     "name": "stdout",
     "output_type": "stream",
     "text": [
      "[0.3815789473684211, 0.618421052631579]\n",
      "Round 72 >> Loss: 0.9912294446837762, BLEU:0.32565364241600037, TEST:0.08362657018005848, LISTS:([0.3849329352378845, 0.2663743495941162]/[0.11742643266916275, 0.04982670769095421])\n"
     ]
    },
    {
     "name": "stderr",
     "output_type": "stream",
     "text": [
      "100%|██████████| 2/2 [00:06<00:00,  3.06s/it]\n"
     ]
    },
    {
     "name": "stdout",
     "output_type": "stream",
     "text": [
      "[0.3815789473684211, 0.618421052631579]\n",
      "Round 73 >> Loss: 0.9815329499925314, BLEU:0.31585854291915894, TEST:0.07262781448662281, LISTS:([0.40547308325767517, 0.2262440025806427]/[0.10723850876092911, 0.03801712021231651])\n"
     ]
    },
    {
     "name": "stderr",
     "output_type": "stream",
     "text": [
      "100%|██████████| 2/2 [00:06<00:00,  3.24s/it]\n"
     ]
    },
    {
     "name": "stdout",
     "output_type": "stream",
     "text": [
      "[0.3815789473684211, 0.618421052631579]\n",
      "Round 74 >> Loss: 0.9738441277046253, BLEU:0.3309946209192276, TEST:0.0873128455132246, LISTS:([0.3954627513885498, 0.2665264904499054]/[0.12801885604858398, 0.04660683497786522])\n"
     ]
    },
    {
     "name": "stderr",
     "output_type": "stream",
     "text": [
      "100%|██████████| 2/2 [00:06<00:00,  3.19s/it]\n"
     ]
    },
    {
     "name": "stdout",
     "output_type": "stream",
     "text": [
      "[0.618421052631579, 0.3815789473684211]\n",
      "Round 75 >> Loss: 0.9665530934336284, BLEU:0.3457278907299042, TEST:0.08697001449763775, LISTS:([0.4238207936286926, 0.2676349878311157]/[0.131738543510437, 0.042201485484838486])\n"
     ]
    },
    {
     "name": "stderr",
     "output_type": "stream",
     "text": [
      "100%|██████████| 2/2 [00:06<00:00,  3.18s/it]\n"
     ]
    },
    {
     "name": "stdout",
     "output_type": "stream",
     "text": [
      "[0.3815789473684211, 0.618421052631579]\n",
      "Round 76 >> Loss: 0.9573021991743843, BLEU:0.34812159836292267, TEST:0.08571306057274342, LISTS:([0.44517990946769714, 0.2510632872581482]/[0.1323295384645462, 0.03909658268094063])\n"
     ]
    },
    {
     "name": "stderr",
     "output_type": "stream",
     "text": [
      "100%|██████████| 2/2 [00:06<00:00,  3.22s/it]\n"
     ]
    },
    {
     "name": "stdout",
     "output_type": "stream",
     "text": [
      "[0.618421052631579, 0.3815789473684211]\n",
      "Round 77 >> Loss: 0.9496347615791698, BLEU:0.3488181233406067, TEST:0.07623094134032726, LISTS:([0.4455779790878296, 0.2520582675933838]/[0.10393957048654556, 0.04852231219410896])\n"
     ]
    },
    {
     "name": "stderr",
     "output_type": "stream",
     "text": [
      "100%|██████████| 2/2 [00:06<00:00,  3.21s/it]\n"
     ]
    },
    {
     "name": "stdout",
     "output_type": "stream",
     "text": [
      "[0.618421052631579, 0.3815789473684211]\n",
      "Round 78 >> Loss: 0.9427216296993339, BLEU:0.3453654497861862, TEST:0.09937118366360664, LISTS:([0.41309502720832825, 0.2776358723640442]/[0.14163681864738464, 0.057105548679828644])\n"
     ]
    },
    {
     "name": "stderr",
     "output_type": "stream",
     "text": [
      "100%|██████████| 2/2 [00:06<00:00,  3.06s/it]\n"
     ]
    },
    {
     "name": "stdout",
     "output_type": "stream",
     "text": [
      "[0.3815789473684211, 0.618421052631579]\n",
      "Round 79 >> Loss: 0.9362279468823497, BLEU:0.37463437020778656, TEST:0.08753779530525208, LISTS:([0.4605652391910553, 0.2887035012245178]/[0.13395951688289642, 0.04111607372760773])\n"
     ]
    },
    {
     "name": "stderr",
     "output_type": "stream",
     "text": [
      "100%|██████████| 2/2 [00:06<00:00,  3.03s/it]\n"
     ]
    },
    {
     "name": "stdout",
     "output_type": "stream",
     "text": [
      "[0.3815789473684211, 0.618421052631579]\n",
      "Round 80 >> Loss: 0.9304172706230174, BLEU:0.3425976485013962, TEST:0.08507097698748112, LISTS:([0.3927949070930481, 0.29240038990974426]/[0.12844815850257874, 0.0416937954723835])\n"
     ]
    },
    {
     "name": "stderr",
     "output_type": "stream",
     "text": [
      "100%|██████████| 2/2 [00:06<00:00,  3.19s/it]\n"
     ]
    },
    {
     "name": "stdout",
     "output_type": "stream",
     "text": [
      "[0.3815789473684211, 0.618421052631579]\n",
      "Round 81 >> Loss: 0.9236546465457174, BLEU:0.3860499709844589, TEST:0.09667994827032089, LISTS:([0.4663340151309967, 0.30576592683792114]/[0.14344577491283417, 0.04991412162780762])\n"
     ]
    },
    {
     "name": "stderr",
     "output_type": "stream",
     "text": [
      "100%|██████████| 2/2 [00:06<00:00,  3.11s/it]\n"
     ]
    },
    {
     "name": "stdout",
     "output_type": "stream",
     "text": [
      "[0.3815789473684211, 0.618421052631579]\n",
      "Round 82 >> Loss: 0.9168563795579097, BLEU:0.3794591724872589, TEST:0.0939312744885683, LISTS:([0.45972442626953125, 0.2991939187049866]/[0.13599294424057007, 0.051869604736566544])\n"
     ]
    },
    {
     "name": "stderr",
     "output_type": "stream",
     "text": [
      "100%|██████████| 2/2 [00:06<00:00,  3.17s/it]\n"
     ]
    },
    {
     "name": "stdout",
     "output_type": "stream",
     "text": [
      "[0.3815789473684211, 0.618421052631579]\n",
      "Round 83 >> Loss: 0.9084489641782013, BLEU:0.3676440268754959, TEST:0.09036777913570404, LISTS:([0.4255102276802063, 0.3097778260707855]/[0.13349446654319763, 0.04724109172821045])\n"
     ]
    },
    {
     "name": "stderr",
     "output_type": "stream",
     "text": [
      "100%|██████████| 2/2 [00:06<00:00,  3.27s/it]\n"
     ]
    },
    {
     "name": "stdout",
     "output_type": "stream",
     "text": [
      "[0.618421052631579, 0.3815789473684211]\n",
      "Round 84 >> Loss: 0.9050816169844584, BLEU:0.3614310026168823, TEST:0.09344825893640518, LISTS:([0.44259169697761536, 0.2802703082561493]/[0.146048441529274, 0.04084807634353638])\n"
     ]
    },
    {
     "name": "stderr",
     "output_type": "stream",
     "text": [
      "100%|██████████| 2/2 [00:06<00:00,  3.21s/it]\n"
     ]
    },
    {
     "name": "stdout",
     "output_type": "stream",
     "text": [
      "[0.618421052631579, 0.3815789473684211]\n",
      "Round 85 >> Loss: 0.8968070625977649, BLEU:0.38409946858882904, TEST:0.088288938626647, LISTS:([0.474331796169281, 0.2938671410083771]/[0.12334169447422028, 0.053236182779073715])\n"
     ]
    },
    {
     "name": "stderr",
     "output_type": "stream",
     "text": [
      "100%|██████████| 2/2 [00:06<00:00,  3.19s/it]\n"
     ]
    },
    {
     "name": "stdout",
     "output_type": "stream",
     "text": [
      "[0.618421052631579, 0.3815789473684211]\n",
      "Round 86 >> Loss: 0.8869695852272982, BLEU:0.3657039850950241, TEST:0.07917842827737331, LISTS:([0.4507903754711151, 0.2806175947189331]/[0.13001832365989685, 0.028338532894849777])\n"
     ]
    },
    {
     "name": "stderr",
     "output_type": "stream",
     "text": [
      "100%|██████████| 2/2 [00:06<00:00,  3.19s/it]\n"
     ]
    },
    {
     "name": "stdout",
     "output_type": "stream",
     "text": [
      "[0.3815789473684211, 0.618421052631579]\n",
      "Round 87 >> Loss: 0.8823363745467069, BLEU:0.36687031388282776, TEST:0.09335781261324883, LISTS:([0.4353581666946411, 0.2983824610710144]/[0.14055722951889038, 0.04615839570760727])\n"
     ]
    },
    {
     "name": "stderr",
     "output_type": "stream",
     "text": [
      "100%|██████████| 2/2 [00:06<00:00,  3.21s/it]\n"
     ]
    },
    {
     "name": "stdout",
     "output_type": "stream",
     "text": [
      "[0.618421052631579, 0.3815789473684211]\n",
      "Round 88 >> Loss: 0.8753819148752254, BLEU:0.3652491867542267, TEST:0.07522692531347275, LISTS:([0.4363769292831421, 0.2941214442253113]/[0.11173278093338013, 0.03872106969356537])\n"
     ]
    },
    {
     "name": "stderr",
     "output_type": "stream",
     "text": [
      "100%|██████████| 2/2 [00:06<00:00,  3.06s/it]\n"
     ]
    },
    {
     "name": "stdout",
     "output_type": "stream",
     "text": [
      "[0.3815789473684211, 0.618421052631579]\n",
      "Round 89 >> Loss: 0.8690903717142929, BLEU:0.3575824499130249, TEST:0.09163561090826988, LISTS:([0.4739067256450653, 0.2412581741809845]/[0.1256791204214096, 0.05759210139513016])\n"
     ]
    },
    {
     "name": "stderr",
     "output_type": "stream",
     "text": [
      "100%|██████████| 2/2 [00:06<00:00,  3.04s/it]\n"
     ]
    },
    {
     "name": "stdout",
     "output_type": "stream",
     "text": [
      "[0.3815789473684211, 0.618421052631579]\n",
      "Round 90 >> Loss: 0.865818568003114, BLEU:0.3880513310432434, TEST:0.08174254186451435, LISTS:([0.4612731635570526, 0.3148294985294342]/[0.11265766620635986, 0.05082741752266884])\n"
     ]
    },
    {
     "name": "stderr",
     "output_type": "stream",
     "text": [
      "100%|██████████| 2/2 [00:06<00:00,  3.20s/it]\n"
     ]
    },
    {
     "name": "stdout",
     "output_type": "stream",
     "text": [
      "[0.3815789473684211, 0.618421052631579]\n",
      "Round 91 >> Loss: 0.8581736017621858, BLEU:0.38774895668029785, TEST:0.09332731179893017, LISTS:([0.47756442427635193, 0.2979334890842438]/[0.14914600551128387, 0.03750861808657646])\n"
     ]
    },
    {
     "name": "stderr",
     "output_type": "stream",
     "text": [
      "100%|██████████| 2/2 [00:06<00:00,  3.29s/it]\n"
     ]
    },
    {
     "name": "stdout",
     "output_type": "stream",
     "text": [
      "[0.618421052631579, 0.3815789473684211]\n",
      "Round 92 >> Loss: 0.8527249172724439, BLEU:0.408714696764946, TEST:0.1006751749664545, LISTS:([0.4924372732639313, 0.3249921202659607]/[0.1508893072605133, 0.050461042672395706])\n"
     ]
    },
    {
     "name": "stderr",
     "output_type": "stream",
     "text": [
      "100%|██████████| 2/2 [00:06<00:00,  3.27s/it]\n"
     ]
    },
    {
     "name": "stdout",
     "output_type": "stream",
     "text": [
      "[0.3815789473684211, 0.618421052631579]\n",
      "Round 93 >> Loss: 0.8452766532806864, BLEU:0.3803450018167496, TEST:0.07810800150036812, LISTS:([0.425677090883255, 0.33501291275024414]/[0.1201305016875267, 0.036085501313209534])\n"
     ]
    },
    {
     "name": "stderr",
     "output_type": "stream",
     "text": [
      "100%|██████████| 2/2 [00:06<00:00,  3.06s/it]\n"
     ]
    },
    {
     "name": "stdout",
     "output_type": "stream",
     "text": [
      "[0.3815789473684211, 0.618421052631579]\n",
      "Round 94 >> Loss: 0.8407129779113015, BLEU:0.4110480099916458, TEST:0.09083465673029423, LISTS:([0.45768803358078003, 0.3644079864025116]/[0.14801889657974243, 0.033650416880846024])\n"
     ]
    },
    {
     "name": "stderr",
     "output_type": "stream",
     "text": [
      "100%|██████████| 2/2 [00:06<00:00,  3.03s/it]\n"
     ]
    },
    {
     "name": "stdout",
     "output_type": "stream",
     "text": [
      "[0.3815789473684211, 0.618421052631579]\n",
      "Round 95 >> Loss: 0.8349290970930712, BLEU:0.4093077927827835, TEST:0.08456935174763203, LISTS:([0.4996349811553955, 0.3189806044101715]/[0.13199207186698914, 0.03714663162827492])\n"
     ]
    },
    {
     "name": "stderr",
     "output_type": "stream",
     "text": [
      "100%|██████████| 2/2 [00:06<00:00,  3.08s/it]\n"
     ]
    },
    {
     "name": "stdout",
     "output_type": "stream",
     "text": [
      "[0.3815789473684211, 0.618421052631579]\n",
      "Round 96 >> Loss: 0.8271037622932421, BLEU:0.41252318024635315, TEST:0.09412031807005405, LISTS:([0.5417197346687317, 0.2833266258239746]/[0.14267165958881378, 0.04556897655129433])\n"
     ]
    },
    {
     "name": "stderr",
     "output_type": "stream",
     "text": [
      "100%|██████████| 2/2 [00:06<00:00,  3.11s/it]\n"
     ]
    },
    {
     "name": "stdout",
     "output_type": "stream",
     "text": [
      "[0.3815789473684211, 0.618421052631579]\n",
      "Round 97 >> Loss: 0.8226983725063668, BLEU:0.3821834772825241, TEST:0.0905977115035057, LISTS:([0.4918484687805176, 0.27251848578453064]/[0.13342159986495972, 0.0477738231420517])\n"
     ]
    },
    {
     "name": "stderr",
     "output_type": "stream",
     "text": [
      "100%|██████████| 2/2 [00:06<00:00,  3.21s/it]\n"
     ]
    },
    {
     "name": "stdout",
     "output_type": "stream",
     "text": [
      "[0.3815789473684211, 0.618421052631579]\n",
      "Round 98 >> Loss: 0.8173417046125606, BLEU:0.39483895897865295, TEST:0.08776485174894333, LISTS:([0.4673314094543457, 0.3223465085029602]/[0.1410055160522461, 0.034524187445640564])\n"
     ]
    },
    {
     "name": "stderr",
     "output_type": "stream",
     "text": [
      "100%|██████████| 2/2 [00:06<00:00,  3.18s/it]\n"
     ]
    },
    {
     "name": "stdout",
     "output_type": "stream",
     "text": [
      "[0.3815789473684211, 0.618421052631579]\n",
      "Round 99 >> Loss: 0.812706820751477, BLEU:0.38206808269023895, TEST:0.08904542215168476, LISTS:([0.47523123025894165, 0.28890493512153625]/[0.13170701265335083, 0.04638383165001869])\n"
     ]
    },
    {
     "name": "stderr",
     "output_type": "stream",
     "text": [
      "100%|██████████| 2/2 [00:06<00:00,  3.32s/it]\n"
     ]
    },
    {
     "name": "stdout",
     "output_type": "stream",
     "text": [
      "[0.618421052631579, 0.3815789473684211]\n",
      "Round 100 >> Loss: 0.8068220048161145, BLEU:0.3922789394855499, TEST:0.09077795036137104, LISTS:([0.4540179669857025, 0.33053991198539734]/[0.12720641493797302, 0.05434948578476906])\n"
     ]
    },
    {
     "name": "stderr",
     "output_type": "stream",
     "text": [
      "100%|██████████| 2/2 [00:06<00:00,  3.17s/it]\n"
     ]
    },
    {
     "name": "stdout",
     "output_type": "stream",
     "text": [
      "[0.618421052631579, 0.3815789473684211]\n",
      "Round 101 >> Loss: 0.8023983255266954, BLEU:0.4148905724287033, TEST:0.09605539590120316, LISTS:([0.5253580808639526, 0.304423063993454]/[0.12879978120326996, 0.06331101059913635])\n"
     ]
    },
    {
     "name": "stderr",
     "output_type": "stream",
     "text": [
      "100%|██████████| 2/2 [00:06<00:00,  3.04s/it]\n"
     ]
    },
    {
     "name": "stdout",
     "output_type": "stream",
     "text": [
      "[0.3815789473684211, 0.618421052631579]\n",
      "Round 102 >> Loss: 0.7946403574806058, BLEU:0.44342754781246185, TEST:0.0823378637433052, LISTS:([0.5275440216064453, 0.3593110740184784]/[0.12304248660802841, 0.041633240878582])\n"
     ]
    },
    {
     "name": "stderr",
     "output_type": "stream",
     "text": [
      "100%|██████████| 2/2 [00:06<00:00,  3.05s/it]\n"
     ]
    },
    {
     "name": "stdout",
     "output_type": "stream",
     "text": [
      "[0.3815789473684211, 0.618421052631579]\n",
      "Round 103 >> Loss: 0.7896604261801602, BLEU:0.4300016760826111, TEST:0.09788440354168415, LISTS:([0.5011101961135864, 0.35889315605163574]/[0.1483789086341858, 0.04738989844918251])\n"
     ]
    },
    {
     "name": "stderr",
     "output_type": "stream",
     "text": [
      "100%|██████████| 2/2 [00:06<00:00,  3.07s/it]\n"
     ]
    },
    {
     "name": "stdout",
     "output_type": "stream",
     "text": [
      "[0.3815789473684211, 0.618421052631579]\n",
      "Round 104 >> Loss: 0.7877110109936387, BLEU:0.40846215188503265, TEST:0.09610375575721264, LISTS:([0.49316245317459106, 0.32376185059547424]/[0.14617416262626648, 0.0460333488881588])\n"
     ]
    },
    {
     "name": "stderr",
     "output_type": "stream",
     "text": [
      "100%|██████████| 2/2 [00:06<00:00,  3.19s/it]\n"
     ]
    },
    {
     "name": "stdout",
     "output_type": "stream",
     "text": [
      "[0.618421052631579, 0.3815789473684211]\n",
      "Round 105 >> Loss: 0.7810368408693428, BLEU:0.4174952656030655, TEST:0.08039867505431175, LISTS:([0.5201507806777954, 0.31483975052833557]/[0.11423996090888977, 0.046557389199733734])\n"
     ]
    },
    {
     "name": "stderr",
     "output_type": "stream",
     "text": [
      "100%|██████████| 2/2 [00:06<00:00,  3.19s/it]\n"
     ]
    },
    {
     "name": "stdout",
     "output_type": "stream",
     "text": [
      "[0.3815789473684211, 0.618421052631579]\n",
      "Round 106 >> Loss: 0.776423789797391, BLEU:0.4105549156665802, TEST:0.08276091516017914, LISTS:([0.4979325532913208, 0.3231772780418396]/[0.1260027289390564, 0.03951910138130188])\n"
     ]
    },
    {
     "name": "stderr",
     "output_type": "stream",
     "text": [
      "100%|██████████| 2/2 [00:06<00:00,  3.20s/it]\n"
     ]
    },
    {
     "name": "stdout",
     "output_type": "stream",
     "text": [
      "[0.618421052631579, 0.3815789473684211]\n",
      "Round 107 >> Loss: 0.7711634092687664, BLEU:0.4435324966907501, TEST:0.08215616643428802, LISTS:([0.5568130016326904, 0.3302519917488098]/[0.1302967220544815, 0.03401561081409454])\n"
     ]
    },
    {
     "name": "stderr",
     "output_type": "stream",
     "text": [
      "100%|██████████| 2/2 [00:06<00:00,  3.33s/it]\n"
     ]
    },
    {
     "name": "stdout",
     "output_type": "stream",
     "text": [
      "[0.3815789473684211, 0.618421052631579]\n",
      "Round 108 >> Loss: 0.7684958217510408, BLEU:0.4319339394569397, TEST:0.08343328721821308, LISTS:([0.5190208554267883, 0.34484702348709106]/[0.1110992357134819, 0.05576733872294426])\n"
     ]
    },
    {
     "name": "stderr",
     "output_type": "stream",
     "text": [
      "100%|██████████| 2/2 [00:06<00:00,  3.24s/it]\n"
     ]
    },
    {
     "name": "stdout",
     "output_type": "stream",
     "text": [
      "[0.3815789473684211, 0.618421052631579]\n",
      "Round 109 >> Loss: 0.7645006812921704, BLEU:0.4247392863035202, TEST:0.07887584902346134, LISTS:([0.5250442028045654, 0.324434369802475]/[0.12180991470813751, 0.03594178333878517])\n"
     ]
    },
    {
     "name": "stderr",
     "output_type": "stream",
     "text": [
      "100%|██████████| 2/2 [00:06<00:00,  3.23s/it]\n"
     ]
    },
    {
     "name": "stdout",
     "output_type": "stream",
     "text": [
      "[0.3815789473684211, 0.618421052631579]\n",
      "Round 110 >> Loss: 0.7601402737290727, BLEU:0.417440801858902, TEST:0.09536030516028404, LISTS:([0.5307832956314087, 0.30409830808639526]/[0.15152406692504883, 0.03919654339551926])\n"
     ]
    },
    {
     "name": "stderr",
     "output_type": "stream",
     "text": [
      "100%|██████████| 2/2 [00:06<00:00,  3.25s/it]\n"
     ]
    },
    {
     "name": "stdout",
     "output_type": "stream",
     "text": [
      "[0.3815789473684211, 0.618421052631579]\n",
      "Round 111 >> Loss: 0.7569883971615933, BLEU:0.46523910760879517, TEST:0.09647968225181103, LISTS:([0.5901868939399719, 0.3402913212776184]/[0.13623133301734924, 0.05672803148627281])\n"
     ]
    },
    {
     "name": "stderr",
     "output_type": "stream",
     "text": [
      "100%|██████████| 2/2 [00:06<00:00,  3.23s/it]\n"
     ]
    },
    {
     "name": "stdout",
     "output_type": "stream",
     "text": [
      "[0.618421052631579, 0.3815789473684211]\n",
      "Round 112 >> Loss: 0.7506510488308733, BLEU:0.4481707215309143, TEST:0.08102604560554028, LISTS:([0.5209581851959229, 0.37538325786590576]/[0.11659945547580719, 0.04545263573527336])\n"
     ]
    },
    {
     "name": "stderr",
     "output_type": "stream",
     "text": [
      "100%|██████████| 2/2 [00:06<00:00,  3.19s/it]\n"
     ]
    },
    {
     "name": "stdout",
     "output_type": "stream",
     "text": [
      "[0.618421052631579, 0.3815789473684211]\n",
      "Round 113 >> Loss: 0.7445912018328725, BLEU:0.4179944097995758, TEST:0.08991709537804127, LISTS:([0.5255419611930847, 0.3104468584060669]/[0.12752790749073029, 0.05230628326535225])\n"
     ]
    },
    {
     "name": "stderr",
     "output_type": "stream",
     "text": [
      "100%|██████████| 2/2 [00:06<00:00,  3.24s/it]\n"
     ]
    },
    {
     "name": "stdout",
     "output_type": "stream",
     "text": [
      "[0.3815789473684211, 0.618421052631579]\n",
      "Round 114 >> Loss: 0.7400342553626188, BLEU:0.44797752797603607, TEST:0.09269662387669086, LISTS:([0.5324773788452148, 0.3634776771068573]/[0.13903923332691193, 0.0463540144264698])\n"
     ]
    },
    {
     "name": "stderr",
     "output_type": "stream",
     "text": [
      "100%|██████████| 2/2 [00:06<00:00,  3.12s/it]\n"
     ]
    },
    {
     "name": "stdout",
     "output_type": "stream",
     "text": [
      "[0.618421052631579, 0.3815789473684211]\n",
      "Round 115 >> Loss: 0.7360852210320976, BLEU:0.4302058815956116, TEST:0.09110399708151817, LISTS:([0.4972805678844452, 0.36313119530677795]/[0.13591982424259186, 0.04628816992044449])\n"
     ]
    },
    {
     "name": "stderr",
     "output_type": "stream",
     "text": [
      "100%|██████████| 2/2 [00:06<00:00,  3.27s/it]\n"
     ]
    },
    {
     "name": "stdout",
     "output_type": "stream",
     "text": [
      "[0.3815789473684211, 0.618421052631579]\n",
      "Round 116 >> Loss: 0.7322301755062908, BLEU:0.4285956025123596, TEST:0.07042285799980164, LISTS:([0.5281575322151184, 0.32903367280960083]/[0.11394313722848892, 0.02690257877111435])\n"
     ]
    },
    {
     "name": "stderr",
     "output_type": "stream",
     "text": [
      "100%|██████████| 2/2 [00:06<00:00,  3.24s/it]\n"
     ]
    },
    {
     "name": "stdout",
     "output_type": "stream",
     "text": [
      "[0.3815789473684211, 0.618421052631579]\n",
      "Round 117 >> Loss: 0.7267001511914422, BLEU:0.421539768576622, TEST:0.08001317456364632, LISTS:([0.5111128687858582, 0.33196666836738586]/[0.11989741772413254, 0.040128931403160095])\n"
     ]
    },
    {
     "name": "stderr",
     "output_type": "stream",
     "text": [
      "100%|██████████| 2/2 [00:06<00:00,  3.20s/it]\n"
     ]
    },
    {
     "name": "stdout",
     "output_type": "stream",
     "text": [
      "[0.618421052631579, 0.3815789473684211]\n",
      "Round 118 >> Loss: 0.7249236290720852, BLEU:0.45874810218811035, TEST:0.09142011776566505, LISTS:([0.5371933579444885, 0.3803028464317322]/[0.14175371825695038, 0.04108651727437973])\n"
     ]
    },
    {
     "name": "stderr",
     "output_type": "stream",
     "text": [
      "100%|██████████| 2/2 [00:06<00:00,  3.24s/it]\n"
     ]
    },
    {
     "name": "stdout",
     "output_type": "stream",
     "text": [
      "[0.3815789473684211, 0.618421052631579]\n",
      "Round 119 >> Loss: 0.7185113011220324, BLEU:0.4432076960802078, TEST:0.08639218285679817, LISTS:([0.5249722003936768, 0.3614431917667389]/[0.13331545889377594, 0.039468906819820404])\n"
     ]
    },
    {
     "name": "stderr",
     "output_type": "stream",
     "text": [
      "100%|██████████| 2/2 [00:06<00:00,  3.11s/it]\n"
     ]
    },
    {
     "name": "stdout",
     "output_type": "stream",
     "text": [
      "[0.3815789473684211, 0.618421052631579]\n",
      "Round 120 >> Loss: 0.7137989116622812, BLEU:0.4244290590286255, TEST:0.08792613632977009, LISTS:([0.5104917883872986, 0.3383663296699524]/[0.11613906174898148, 0.0597132109105587])\n"
     ]
    },
    {
     "name": "stderr",
     "output_type": "stream",
     "text": [
      "100%|██████████| 2/2 [00:06<00:00,  3.12s/it]\n"
     ]
    },
    {
     "name": "stdout",
     "output_type": "stream",
     "text": [
      "[0.3815789473684211, 0.618421052631579]\n",
      "Round 121 >> Loss: 0.7097579127386706, BLEU:0.43876731395721436, TEST:0.06597343925386667, LISTS:([0.5280925035476685, 0.34944212436676025]/[0.10216052085161209, 0.029786357656121254])\n"
     ]
    },
    {
     "name": "stderr",
     "output_type": "stream",
     "text": [
      "100%|██████████| 2/2 [00:06<00:00,  3.08s/it]\n"
     ]
    },
    {
     "name": "stdout",
     "output_type": "stream",
     "text": [
      "[0.3815789473684211, 0.618421052631579]\n",
      "Round 122 >> Loss: 0.7046592057191399, BLEU:0.4217582195997238, TEST:0.07502810098230839, LISTS:([0.5436587929725647, 0.29985764622688293]/[0.12061450630426407, 0.029441695660352707])\n"
     ]
    },
    {
     "name": "stderr",
     "output_type": "stream",
     "text": [
      "100%|██████████| 2/2 [00:06<00:00,  3.19s/it]\n"
     ]
    },
    {
     "name": "stdout",
     "output_type": "stream",
     "text": [
      "[0.618421052631579, 0.3815789473684211]\n",
      "Round 123 >> Loss: 0.6998515494416839, BLEU:0.4554499238729477, TEST:0.08720136992633343, LISTS:([0.5553156733512878, 0.35558417439460754]/[0.1331285685300827, 0.04127417132258415])\n"
     ]
    },
    {
     "name": "stderr",
     "output_type": "stream",
     "text": [
      "100%|██████████| 2/2 [00:06<00:00,  3.19s/it]\n"
     ]
    },
    {
     "name": "stdout",
     "output_type": "stream",
     "text": [
      "[0.618421052631579, 0.3815789473684211]\n",
      "Round 124 >> Loss: 0.6953039050087407, BLEU:0.4544587582349777, TEST:0.08589283190667629, LISTS:([0.5440686941146851, 0.3648488223552704]/[0.13699786365032196, 0.034787800163030624])\n"
     ]
    },
    {
     "name": "stderr",
     "output_type": "stream",
     "text": [
      "100%|██████████| 2/2 [00:06<00:00,  3.25s/it]\n"
     ]
    },
    {
     "name": "stdout",
     "output_type": "stream",
     "text": [
      "[0.618421052631579, 0.3815789473684211]\n",
      "Round 125 >> Loss: 0.690990922976675, BLEU:0.44108255207538605, TEST:0.09041242860257626, LISTS:([0.5141927599906921, 0.36797234416007996]/[0.14395862817764282, 0.03686622902750969])\n"
     ]
    },
    {
     "name": "stderr",
     "output_type": "stream",
     "text": [
      "100%|██████████| 2/2 [00:06<00:00,  3.40s/it]\n"
     ]
    },
    {
     "name": "stdout",
     "output_type": "stream",
     "text": [
      "[0.618421052631579, 0.3815789473684211]\n",
      "Round 126 >> Loss: 0.6869777353834756, BLEU:0.44692230224609375, TEST:0.09446117654442787, LISTS:([0.5279614329338074, 0.3658831715583801]/[0.13590890169143677, 0.053013451397418976])\n"
     ]
    },
    {
     "name": "stderr",
     "output_type": "stream",
     "text": [
      "100%|██████████| 2/2 [00:06<00:00,  3.14s/it]\n"
     ]
    },
    {
     "name": "stdout",
     "output_type": "stream",
     "text": [
      "[0.3815789473684211, 0.618421052631579]\n",
      "Round 127 >> Loss: 0.6831434118896504, BLEU:0.44463953375816345, TEST:0.0806756466627121, LISTS:([0.5320301651954651, 0.3572489023208618]/[0.13214033842086792, 0.029210954904556274])\n"
     ]
    },
    {
     "name": "stderr",
     "output_type": "stream",
     "text": [
      "100%|██████████| 2/2 [00:06<00:00,  3.18s/it]\n"
     ]
    },
    {
     "name": "stdout",
     "output_type": "stream",
     "text": [
      "[0.3815789473684211, 0.618421052631579]\n",
      "Round 128 >> Loss: 0.681035963245725, BLEU:0.4663787931203842, TEST:0.09670570492744446, LISTS:([0.5606326460838318, 0.37212494015693665]/[0.12676453590393066, 0.06664687395095825])\n"
     ]
    },
    {
     "name": "stderr",
     "output_type": "stream",
     "text": [
      "100%|██████████| 2/2 [00:06<00:00,  3.05s/it]\n"
     ]
    },
    {
     "name": "stdout",
     "output_type": "stream",
     "text": [
      "[0.3815789473684211, 0.618421052631579]\n",
      "Round 129 >> Loss: 0.6755099173678656, BLEU:0.4620849937200546, TEST:0.0942932590842247, LISTS:([0.5381025075912476, 0.3860674798488617]/[0.11792144924402237, 0.07066506892442703])\n"
     ]
    },
    {
     "name": "stderr",
     "output_type": "stream",
     "text": [
      "100%|██████████| 2/2 [00:06<00:00,  3.26s/it]\n"
     ]
    },
    {
     "name": "stdout",
     "output_type": "stream",
     "text": [
      "[0.618421052631579, 0.3815789473684211]\n",
      "Round 130 >> Loss: 0.6729225921199031, BLEU:0.4822056293487549, TEST:0.08510487899184227, LISTS:([0.5720080733299255, 0.39240318536758423]/[0.12387947738170624, 0.0463302806019783])\n"
     ]
    },
    {
     "name": "stderr",
     "output_type": "stream",
     "text": [
      "100%|██████████| 2/2 [00:06<00:00,  3.19s/it]\n"
     ]
    },
    {
     "name": "stdout",
     "output_type": "stream",
     "text": [
      "[0.618421052631579, 0.3815789473684211]\n",
      "Round 131 >> Loss: 0.6698683535684479, BLEU:0.46204662322998047, TEST:0.09504783898591995, LISTS:([0.5697379112243652, 0.3543553352355957]/[0.1373157799243927, 0.052779898047447205])\n"
     ]
    },
    {
     "name": "stderr",
     "output_type": "stream",
     "text": [
      "100%|██████████| 2/2 [00:06<00:00,  3.03s/it]\n"
     ]
    },
    {
     "name": "stdout",
     "output_type": "stream",
     "text": [
      "[0.3815789473684211, 0.618421052631579]\n",
      "Round 132 >> Loss: 0.6638957712089585, BLEU:0.45159855484962463, TEST:0.08699969947338104, LISTS:([0.5414764881134033, 0.36172062158584595]/[0.11923471838235855, 0.054764680564403534])\n"
     ]
    },
    {
     "name": "stderr",
     "output_type": "stream",
     "text": [
      "100%|██████████| 2/2 [00:06<00:00,  3.17s/it]\n"
     ]
    },
    {
     "name": "stdout",
     "output_type": "stream",
     "text": [
      "[0.618421052631579, 0.3815789473684211]\n",
      "Round 133 >> Loss: 0.6573467500972605, BLEU:0.45396342873573303, TEST:0.07687463611364365, LISTS:([0.5386252403259277, 0.36930161714553833]/[0.12224600464105606, 0.03150326758623123])\n"
     ]
    },
    {
     "name": "stderr",
     "output_type": "stream",
     "text": [
      "100%|██████████| 2/2 [00:06<00:00,  3.22s/it]\n"
     ]
    },
    {
     "name": "stdout",
     "output_type": "stream",
     "text": [
      "[0.3815789473684211, 0.618421052631579]\n",
      "Round 134 >> Loss: 0.6543842714435946, BLEU:0.4953131079673767, TEST:0.08782047405838966, LISTS:([0.6141170859336853, 0.3765091300010681]/[0.13088573515415192, 0.04475521296262741])\n"
     ]
    },
    {
     "name": "stderr",
     "output_type": "stream",
     "text": [
      "100%|██████████| 2/2 [00:06<00:00,  3.16s/it]\n"
     ]
    },
    {
     "name": "stdout",
     "output_type": "stream",
     "text": [
      "[0.618421052631579, 0.3815789473684211]\n",
      "Round 135 >> Loss: 0.6497618995860961, BLEU:0.4533669799566269, TEST:0.09095214307308197, LISTS:([0.5068936347961426, 0.3998403251171112]/[0.15116305649280548, 0.03074122965335846])\n"
     ]
    },
    {
     "name": "stderr",
     "output_type": "stream",
     "text": [
      "100%|██████████| 2/2 [00:06<00:00,  3.18s/it]\n"
     ]
    },
    {
     "name": "stdout",
     "output_type": "stream",
     "text": [
      "[0.618421052631579, 0.3815789473684211]\n",
      "Round 136 >> Loss: 0.6467148187178454, BLEU:0.47368861734867096, TEST:0.08920136652886868, LISTS:([0.5557001233100891, 0.3916771113872528]/[0.11933852732181549, 0.05906420573592186])\n"
     ]
    },
    {
     "name": "stderr",
     "output_type": "stream",
     "text": [
      "100%|██████████| 2/2 [00:06<00:00,  3.18s/it]\n"
     ]
    },
    {
     "name": "stdout",
     "output_type": "stream",
     "text": [
      "[0.618421052631579, 0.3815789473684211]\n",
      "Round 137 >> Loss: 0.6458478942061132, BLEU:0.48974570631980896, TEST:0.08866124413907528, LISTS:([0.5946264266967773, 0.3848649859428406]/[0.1422300487756729, 0.035092439502477646])\n"
     ]
    },
    {
     "name": "stderr",
     "output_type": "stream",
     "text": [
      "100%|██████████| 2/2 [00:06<00:00,  3.22s/it]\n"
     ]
    },
    {
     "name": "stdout",
     "output_type": "stream",
     "text": [
      "[0.3815789473684211, 0.618421052631579]\n",
      "Round 138 >> Loss: 0.6414932996165736, BLEU:0.4751265197992325, TEST:0.0966396126896143, LISTS:([0.5789140462875366, 0.37133899331092834]/[0.1444607824087143, 0.0488184429705143])\n"
     ]
    },
    {
     "name": "stderr",
     "output_type": "stream",
     "text": [
      "100%|██████████| 2/2 [00:06<00:00,  3.22s/it]\n"
     ]
    },
    {
     "name": "stdout",
     "output_type": "stream",
     "text": [
      "[0.618421052631579, 0.3815789473684211]\n",
      "Round 139 >> Loss: 0.6360297727663834, BLEU:0.46849116683006287, TEST:0.10027637705206871, LISTS:([0.5651965141296387, 0.37178581953048706]/[0.1299334466457367, 0.07061930745840073])\n"
     ]
    },
    {
     "name": "stderr",
     "output_type": "stream",
     "text": [
      "100%|██████████| 2/2 [00:06<00:00,  3.15s/it]\n"
     ]
    },
    {
     "name": "stdout",
     "output_type": "stream",
     "text": [
      "[0.618421052631579, 0.3815789473684211]\n",
      "Round 140 >> Loss: 0.6326841658120527, BLEU:0.4834947735071182, TEST:0.09827645495533943, LISTS:([0.5957800149917603, 0.3712095320224762]/[0.14026427268981934, 0.05628863722085953])\n"
     ]
    },
    {
     "name": "stderr",
     "output_type": "stream",
     "text": [
      "100%|██████████| 2/2 [00:06<00:00,  3.06s/it]\n"
     ]
    },
    {
     "name": "stdout",
     "output_type": "stream",
     "text": [
      "[0.618421052631579, 0.3815789473684211]\n",
      "Round 141 >> Loss: 0.6282143365612308, BLEU:0.4719507545232773, TEST:0.10106118768453598, LISTS:([0.5757473111152649, 0.3681541979312897]/[0.13954459130764008, 0.06257778406143188])\n"
     ]
    },
    {
     "name": "stderr",
     "output_type": "stream",
     "text": [
      "100%|██████████| 2/2 [00:06<00:00,  3.08s/it]\n"
     ]
    },
    {
     "name": "stdout",
     "output_type": "stream",
     "text": [
      "[0.3815789473684211, 0.618421052631579]\n",
      "Round 142 >> Loss: 0.6252017776935916, BLEU:0.46773213148117065, TEST:0.09840543754398823, LISTS:([0.5576539039611816, 0.37781035900115967]/[0.1562669575214386, 0.04054391756653786])\n"
     ]
    },
    {
     "name": "stderr",
     "output_type": "stream",
     "text": [
      "100%|██████████| 2/2 [00:06<00:00,  3.13s/it]\n"
     ]
    },
    {
     "name": "stdout",
     "output_type": "stream",
     "text": [
      "[0.3815789473684211, 0.618421052631579]\n",
      "Round 143 >> Loss: 0.6225083991864454, BLEU:0.48476460576057434, TEST:0.08254450000822544, LISTS:([0.5424360036849976, 0.4270932078361511]/[0.1228284016251564, 0.04226059839129448])\n"
     ]
    },
    {
     "name": "stderr",
     "output_type": "stream",
     "text": [
      "100%|██████████| 2/2 [00:06<00:00,  3.06s/it]\n"
     ]
    },
    {
     "name": "stdout",
     "output_type": "stream",
     "text": [
      "[0.3815789473684211, 0.618421052631579]\n",
      "Round 144 >> Loss: 0.620045189930035, BLEU:0.47996242344379425, TEST:0.07756699994206429, LISTS:([0.5942155718803406, 0.3657092750072479]/[0.12386131286621094, 0.03127268701791763])\n"
     ]
    },
    {
     "name": "stderr",
     "output_type": "stream",
     "text": [
      "100%|██████████| 2/2 [00:06<00:00,  3.07s/it]\n"
     ]
    },
    {
     "name": "stdout",
     "output_type": "stream",
     "text": [
      "[0.618421052631579, 0.3815789473684211]\n",
      "Round 145 >> Loss: 0.6148426435895165, BLEU:0.49633821845054626, TEST:0.09619487822055817, LISTS:([0.6185773611068726, 0.37409907579421997]/[0.13282297551631927, 0.05956678092479706])\n"
     ]
    },
    {
     "name": "stderr",
     "output_type": "stream",
     "text": [
      "100%|██████████| 2/2 [00:06<00:00,  3.08s/it]\n"
     ]
    },
    {
     "name": "stdout",
     "output_type": "stream",
     "text": [
      "[0.3815789473684211, 0.618421052631579]\n",
      "Round 146 >> Loss: 0.6114487383084737, BLEU:0.4610539823770523, TEST:0.09188627451658249, LISTS:([0.5752213597297668, 0.34688660502433777]/[0.1336168348789215, 0.05015571415424347])\n"
     ]
    },
    {
     "name": "stderr",
     "output_type": "stream",
     "text": [
      "100%|██████████| 2/2 [00:06<00:00,  3.14s/it]\n"
     ]
    },
    {
     "name": "stdout",
     "output_type": "stream",
     "text": [
      "[0.3815789473684211, 0.618421052631579]\n",
      "Round 147 >> Loss: 0.6090536252971095, BLEU:0.4809572100639343, TEST:0.07981278002262115, LISTS:([0.5811745524406433, 0.38073986768722534]/[0.11764829605817795, 0.04197726398706436])\n"
     ]
    },
    {
     "name": "stderr",
     "output_type": "stream",
     "text": [
      "100%|██████████| 2/2 [00:06<00:00,  3.08s/it]\n"
     ]
    },
    {
     "name": "stdout",
     "output_type": "stream",
     "text": [
      "[0.618421052631579, 0.3815789473684211]\n",
      "Round 148 >> Loss: 0.6065751986074036, BLEU:0.5302848964929581, TEST:0.09090909361839294, LISTS:([0.6195722222328186, 0.44099757075309753]/[0.1401568055152893, 0.04166138172149658])\n"
     ]
    },
    {
     "name": "stderr",
     "output_type": "stream",
     "text": [
      "100%|██████████| 2/2 [00:06<00:00,  3.10s/it]\n"
     ]
    },
    {
     "name": "stdout",
     "output_type": "stream",
     "text": [
      "[0.618421052631579, 0.3815789473684211]\n",
      "Round 149 >> Loss: 0.6026658462772472, BLEU:0.45756684243679047, TEST:0.08876714296638966, LISTS:([0.5674677491188049, 0.347665935754776]/[0.12255296856164932, 0.05498131737112999])\n"
     ]
    },
    {
     "name": "stderr",
     "output_type": "stream",
     "text": [
      "100%|██████████| 2/2 [00:06<00:00,  3.20s/it]\n"
     ]
    },
    {
     "name": "stdout",
     "output_type": "stream",
     "text": [
      "[0.3815789473684211, 0.618421052631579]\n",
      "Round 150 >> Loss: 0.5996383623939474, BLEU:0.4740971028804779, TEST:0.08861861005425453, LISTS:([0.5832987427711487, 0.36489546298980713]/[0.13009491562843323, 0.047142304480075836])\n"
     ]
    },
    {
     "name": "stderr",
     "output_type": "stream",
     "text": [
      "100%|██████████| 2/2 [00:06<00:00,  3.31s/it]\n"
     ]
    },
    {
     "name": "stdout",
     "output_type": "stream",
     "text": [
      "[0.3815789473684211, 0.618421052631579]\n",
      "Round 151 >> Loss: 0.5959732770953223, BLEU:0.5081660449504852, TEST:0.08565284498035908, LISTS:([0.6090219616889954, 0.4073101282119751]/[0.12974651157855988, 0.04155917838215828])\n"
     ]
    },
    {
     "name": "stderr",
     "output_type": "stream",
     "text": [
      "100%|██████████| 2/2 [00:06<00:00,  3.22s/it]\n"
     ]
    },
    {
     "name": "stdout",
     "output_type": "stream",
     "text": [
      "[0.618421052631579, 0.3815789473684211]\n",
      "Round 152 >> Loss: 0.5921221845249522, BLEU:0.5005568414926529, TEST:0.07498302310705185, LISTS:([0.5996956825256348, 0.401418000459671]/[0.11000217497348785, 0.039963871240615845])\n"
     ]
    },
    {
     "name": "stderr",
     "output_type": "stream",
     "text": [
      "100%|██████████| 2/2 [00:06<00:00,  3.28s/it]\n"
     ]
    },
    {
     "name": "stdout",
     "output_type": "stream",
     "text": [
      "[0.3815789473684211, 0.618421052631579]\n",
      "Round 153 >> Loss: 0.5919037845476004, BLEU:0.5061527043581009, TEST:0.07427403330802917, LISTS:([0.6079510450363159, 0.40435436367988586]/[0.10661433637142181, 0.041933730244636536])\n"
     ]
    },
    {
     "name": "stderr",
     "output_type": "stream",
     "text": [
      "100%|██████████| 2/2 [00:06<00:00,  3.21s/it]\n"
     ]
    },
    {
     "name": "stdout",
     "output_type": "stream",
     "text": [
      "[0.618421052631579, 0.3815789473684211]\n",
      "Round 154 >> Loss: 0.5891296200561099, BLEU:0.5320807248353958, TEST:0.07638391107320786, LISTS:([0.6528056263923645, 0.4113558232784271]/[0.11229162663221359, 0.04047619551420212])\n"
     ]
    },
    {
     "name": "stderr",
     "output_type": "stream",
     "text": [
      "100%|██████████| 2/2 [00:06<00:00,  3.10s/it]\n"
     ]
    },
    {
     "name": "stdout",
     "output_type": "stream",
     "text": [
      "[0.618421052631579, 0.3815789473684211]\n",
      "Round 155 >> Loss: 0.5845260918487829, BLEU:0.49293915927410126, TEST:0.09368515200912952, LISTS:([0.6188828349113464, 0.3669954836368561]/[0.14681605994701385, 0.040554244071245193])\n"
     ]
    },
    {
     "name": "stderr",
     "output_type": "stream",
     "text": [
      "100%|██████████| 2/2 [00:06<00:00,  3.11s/it]\n"
     ]
    },
    {
     "name": "stdout",
     "output_type": "stream",
     "text": [
      "[0.618421052631579, 0.3815789473684211]\n",
      "Round 156 >> Loss: 0.583080853114528, BLEU:0.48225246369838715, TEST:0.08521759510040283, LISTS:([0.5941026210784912, 0.3704023063182831]/[0.12228430807590485, 0.04815088212490082])\n"
     ]
    },
    {
     "name": "stderr",
     "output_type": "stream",
     "text": [
      "100%|██████████| 2/2 [00:06<00:00,  3.06s/it]\n"
     ]
    },
    {
     "name": "stdout",
     "output_type": "stream",
     "text": [
      "[0.618421052631579, 0.3815789473684211]\n",
      "Round 157 >> Loss: 0.5796568992039898, BLEU:0.46527740359306335, TEST:0.0879141166806221, LISTS:([0.5552775263786316, 0.3752772808074951]/[0.1364031732082367, 0.03942506015300751])\n"
     ]
    },
    {
     "name": "stderr",
     "output_type": "stream",
     "text": [
      "100%|██████████| 2/2 [00:06<00:00,  3.12s/it]\n"
     ]
    },
    {
     "name": "stdout",
     "output_type": "stream",
     "text": [
      "[0.3815789473684211, 0.618421052631579]\n",
      "Round 158 >> Loss: 0.5754459725968133, BLEU:0.5034495294094086, TEST:0.10006233491003513, LISTS:([0.581983745098114, 0.4249153137207031]/[0.1409943401813507, 0.05913032963871956])\n"
     ]
    },
    {
     "name": "stderr",
     "output_type": "stream",
     "text": [
      "100%|██████████| 2/2 [00:06<00:00,  3.03s/it]\n"
     ]
    },
    {
     "name": "stdout",
     "output_type": "stream",
     "text": [
      "[0.3815789473684211, 0.618421052631579]\n",
      "Round 159 >> Loss: 0.5742064538521943, BLEU:0.4920213222503662, TEST:0.08637275360524654, LISTS:([0.5844045877456665, 0.3996380567550659]/[0.123338982462883, 0.04940652474761009])\n"
     ]
    },
    {
     "name": "stderr",
     "output_type": "stream",
     "text": [
      "100%|██████████| 2/2 [00:06<00:00,  3.27s/it]\n"
     ]
    },
    {
     "name": "stdout",
     "output_type": "stream",
     "text": [
      "[0.618421052631579, 0.3815789473684211]\n",
      "Round 160 >> Loss: 0.5700112418311416, BLEU:0.51762555539608, TEST:0.08179816976189613, LISTS:([0.668868362903595, 0.36638274788856506]/[0.11342866718769073, 0.05016767233610153])\n"
     ]
    },
    {
     "name": "stderr",
     "output_type": "stream",
     "text": [
      "100%|██████████| 2/2 [00:06<00:00,  3.14s/it]\n"
     ]
    },
    {
     "name": "stdout",
     "output_type": "stream",
     "text": [
      "[0.618421052631579, 0.3815789473684211]\n",
      "Round 161 >> Loss: 0.5663746230393829, BLEU:0.48294948041439056, TEST:0.08510270342230797, LISTS:([0.5934745669364929, 0.3724243938922882]/[0.11688973754644394, 0.053315669298172])\n"
     ]
    },
    {
     "name": "stderr",
     "output_type": "stream",
     "text": [
      "100%|██████████| 2/2 [00:06<00:00,  3.10s/it]\n"
     ]
    },
    {
     "name": "stdout",
     "output_type": "stream",
     "text": [
      "[0.618421052631579, 0.3815789473684211]\n",
      "Round 162 >> Loss: 0.5642837570198627, BLEU:0.4841753840446472, TEST:0.08733768202364445, LISTS:([0.5945477485656738, 0.3738030195236206]/[0.12991420924663544, 0.04476115480065346])\n"
     ]
    },
    {
     "name": "stderr",
     "output_type": "stream",
     "text": [
      "100%|██████████| 2/2 [00:06<00:00,  3.10s/it]\n"
     ]
    },
    {
     "name": "stdout",
     "output_type": "stream",
     "text": [
      "[0.618421052631579, 0.3815789473684211]\n",
      "Round 163 >> Loss: 0.561959393739024, BLEU:0.48623326420783997, TEST:0.09190946631133556, LISTS:([0.6303786039352417, 0.34208792448043823]/[0.14055903255939484, 0.04325990006327629])\n"
     ]
    },
    {
     "name": "stderr",
     "output_type": "stream",
     "text": [
      "100%|██████████| 2/2 [00:06<00:00,  3.10s/it]\n"
     ]
    },
    {
     "name": "stdout",
     "output_type": "stream",
     "text": [
      "[0.618421052631579, 0.3815789473684211]\n",
      "Round 164 >> Loss: 0.55895225406746, BLEU:0.4974137097597122, TEST:0.08510454185307026, LISTS:([0.5923354625701904, 0.402491956949234]/[0.12532365322113037, 0.04488543048501015])\n"
     ]
    },
    {
     "name": "stderr",
     "output_type": "stream",
     "text": [
      "100%|██████████| 2/2 [00:06<00:00,  3.15s/it]\n"
     ]
    },
    {
     "name": "stdout",
     "output_type": "stream",
     "text": [
      "[0.618421052631579, 0.3815789473684211]\n",
      "Round 165 >> Loss: 0.5570765558427557, BLEU:0.511413648724556, TEST:0.08756471425294876, LISTS:([0.5842801332473755, 0.43854716420173645]/[0.1170230582356453, 0.05810637027025223])\n"
     ]
    },
    {
     "name": "stderr",
     "output_type": "stream",
     "text": [
      "100%|██████████| 2/2 [00:06<00:00,  3.23s/it]\n"
     ]
    },
    {
     "name": "stdout",
     "output_type": "stream",
     "text": [
      "[0.618421052631579, 0.3815789473684211]\n",
      "Round 166 >> Loss: 0.555922888328231, BLEU:0.5059864968061447, TEST:0.09208976291120052, LISTS:([0.6209033727645874, 0.391069620847702]/[0.12682001292705536, 0.05735951289534569])\n"
     ]
    },
    {
     "name": "stderr",
     "output_type": "stream",
     "text": [
      "100%|██████████| 2/2 [00:06<00:00,  3.16s/it]\n"
     ]
    },
    {
     "name": "stdout",
     "output_type": "stream",
     "text": [
      "[0.618421052631579, 0.3815789473684211]\n",
      "Round 167 >> Loss: 0.552425005012836, BLEU:0.517451211810112, TEST:0.0814705416560173, LISTS:([0.6233879923820496, 0.41151443123817444]/[0.10087063163518906, 0.06207045167684555])\n"
     ]
    },
    {
     "name": "stderr",
     "output_type": "stream",
     "text": [
      "100%|██████████| 2/2 [00:06<00:00,  3.24s/it]\n"
     ]
    },
    {
     "name": "stdout",
     "output_type": "stream",
     "text": [
      "[0.618421052631579, 0.3815789473684211]\n",
      "Round 168 >> Loss: 0.5498409218723235, BLEU:0.5045048147439957, TEST:0.07727488875389099, LISTS:([0.5993706583976746, 0.4096389710903168]/[0.11352062225341797, 0.041029155254364014])\n"
     ]
    },
    {
     "name": "stderr",
     "output_type": "stream",
     "text": [
      "100%|██████████| 2/2 [00:06<00:00,  3.27s/it]\n"
     ]
    },
    {
     "name": "stdout",
     "output_type": "stream",
     "text": [
      "[0.618421052631579, 0.3815789473684211]\n",
      "Round 169 >> Loss: 0.5470334468332931, BLEU:0.5137228965759277, TEST:0.06894674524664879, LISTS:([0.622806191444397, 0.4046396017074585]/[0.09836165606975555, 0.03953183442354202])\n"
     ]
    },
    {
     "name": "stderr",
     "output_type": "stream",
     "text": [
      "100%|██████████| 2/2 [00:06<00:00,  3.22s/it]\n"
     ]
    },
    {
     "name": "stdout",
     "output_type": "stream",
     "text": [
      "[0.3815789473684211, 0.618421052631579]\n",
      "Round 170 >> Loss: 0.5454406615680644, BLEU:0.5243401378393173, TEST:0.08877700194716454, LISTS:([0.6157227754592896, 0.4329575002193451]/[0.11970087885856628, 0.05785312503576279])\n"
     ]
    },
    {
     "name": "stderr",
     "output_type": "stream",
     "text": [
      "100%|██████████| 2/2 [00:06<00:00,  3.22s/it]\n"
     ]
    },
    {
     "name": "stdout",
     "output_type": "stream",
     "text": [
      "[0.618421052631579, 0.3815789473684211]\n",
      "Round 171 >> Loss: 0.5404963769008724, BLEU:0.5077483952045441, TEST:0.0785637442022562, LISTS:([0.5963695645332336, 0.4191272258758545]/[0.11984962970018387, 0.03727785870432854])\n"
     ]
    },
    {
     "name": "stderr",
     "output_type": "stream",
     "text": [
      "100%|██████████| 2/2 [00:06<00:00,  3.22s/it]\n"
     ]
    },
    {
     "name": "stdout",
     "output_type": "stream",
     "text": [
      "[0.618421052631579, 0.3815789473684211]\n",
      "Round 172 >> Loss: 0.5395644943594377, BLEU:0.48251327872276306, TEST:0.08795502036809921, LISTS:([0.5820999145507812, 0.3829266428947449]/[0.12868623435497284, 0.047223806381225586])\n"
     ]
    },
    {
     "name": "stderr",
     "output_type": "stream",
     "text": [
      "100%|██████████| 2/2 [00:06<00:00,  3.20s/it]\n"
     ]
    },
    {
     "name": "stdout",
     "output_type": "stream",
     "text": [
      "[0.618421052631579, 0.3815789473684211]\n",
      "Round 173 >> Loss: 0.5369501524590454, BLEU:0.5219300538301468, TEST:0.09157898649573326, LISTS:([0.6541100740432739, 0.38975003361701965]/[0.1308678239583969, 0.05229014903306961])\n"
     ]
    },
    {
     "name": "stderr",
     "output_type": "stream",
     "text": [
      "100%|██████████| 2/2 [00:06<00:00,  3.22s/it]\n"
     ]
    },
    {
     "name": "stdout",
     "output_type": "stream",
     "text": [
      "[0.618421052631579, 0.3815789473684211]\n",
      "Round 174 >> Loss: 0.5355509127122967, BLEU:0.5175110995769501, TEST:0.0954041238874197, LISTS:([0.6292619705200195, 0.4057602286338806]/[0.13902606070041656, 0.051782187074422836])\n"
     ]
    },
    {
     "name": "stderr",
     "output_type": "stream",
     "text": [
      "100%|██████████| 2/2 [00:06<00:00,  3.22s/it]\n"
     ]
    },
    {
     "name": "stdout",
     "output_type": "stream",
     "text": [
      "[0.3815789473684211, 0.618421052631579]\n",
      "Round 175 >> Loss: 0.5325382984367992, BLEU:0.48799122869968414, TEST:0.09902948327362537, LISTS:([0.583079993724823, 0.3929024636745453]/[0.15219035744667053, 0.045868609100580215])\n"
     ]
    },
    {
     "name": "stderr",
     "output_type": "stream",
     "text": [
      "100%|██████████| 2/2 [00:06<00:00,  3.18s/it]\n"
     ]
    },
    {
     "name": "stdout",
     "output_type": "stream",
     "text": [
      "[0.3815789473684211, 0.618421052631579]\n",
      "Round 176 >> Loss: 0.5307558386741452, BLEU:0.5155361741781235, TEST:0.0866262074559927, LISTS:([0.5822088122367859, 0.44886353611946106]/[0.1177421286702156, 0.05551028624176979])\n"
     ]
    },
    {
     "name": "stderr",
     "output_type": "stream",
     "text": [
      "100%|██████████| 2/2 [00:06<00:00,  3.24s/it]\n"
     ]
    },
    {
     "name": "stdout",
     "output_type": "stream",
     "text": [
      "[0.3815789473684211, 0.618421052631579]\n",
      "Round 177 >> Loss: 0.5269191608679842, BLEU:0.5381647795438766, TEST:0.09087951481342316, LISTS:([0.6609879732131958, 0.4153415858745575]/[0.13202379643917084, 0.049735233187675476])\n"
     ]
    },
    {
     "name": "stderr",
     "output_type": "stream",
     "text": [
      "100%|██████████| 2/2 [00:06<00:00,  3.34s/it]\n"
     ]
    },
    {
     "name": "stdout",
     "output_type": "stream",
     "text": [
      "[0.3815789473684211, 0.618421052631579]\n",
      "Round 178 >> Loss: 0.5271418958918442, BLEU:0.5333938300609589, TEST:0.07650864869356155, LISTS:([0.6232404112815857, 0.44354724884033203]/[0.12880021333694458, 0.024217084050178528])\n"
     ]
    },
    {
     "name": "stderr",
     "output_type": "stream",
     "text": [
      "100%|██████████| 2/2 [00:06<00:00,  3.22s/it]\n"
     ]
    },
    {
     "name": "stdout",
     "output_type": "stream",
     "text": [
      "[0.618421052631579, 0.3815789473684211]\n",
      "Round 179 >> Loss: 0.5228599096209615, BLEU:0.5369485318660736, TEST:0.09560002014040947, LISTS:([0.6404907703399658, 0.4334062933921814]/[0.13277672231197357, 0.05842331796884537])\n"
     ]
    },
    {
     "name": "stderr",
     "output_type": "stream",
     "text": [
      "100%|██████████| 2/2 [00:06<00:00,  3.22s/it]\n"
     ]
    },
    {
     "name": "stdout",
     "output_type": "stream",
     "text": [
      "[0.618421052631579, 0.3815789473684211]\n",
      "Round 180 >> Loss: 0.5214883838302053, BLEU:0.5273541510105133, TEST:0.07891132310032845, LISTS:([0.654721736907959, 0.3999865651130676]/[0.11390718072652817, 0.04391546547412872])\n"
     ]
    },
    {
     "name": "stderr",
     "output_type": "stream",
     "text": [
      "100%|██████████| 2/2 [00:06<00:00,  3.22s/it]\n"
     ]
    },
    {
     "name": "stdout",
     "output_type": "stream",
     "text": [
      "[0.618421052631579, 0.3815789473684211]\n",
      "Round 181 >> Loss: 0.5205981627316248, BLEU:0.5287257432937622, TEST:0.0786601360887289, LISTS:([0.6625906825065613, 0.39486080408096313]/[0.1144140288233757, 0.04290624335408211])\n"
     ]
    },
    {
     "name": "stderr",
     "output_type": "stream",
     "text": [
      "100%|██████████| 2/2 [00:06<00:00,  3.22s/it]\n"
     ]
    },
    {
     "name": "stdout",
     "output_type": "stream",
     "text": [
      "[0.618421052631579, 0.3815789473684211]\n",
      "Round 182 >> Loss: 0.5183377295716258, BLEU:0.5238591432571411, TEST:0.08488381654024124, LISTS:([0.6105976104736328, 0.4371206760406494]/[0.11785565316677094, 0.05191197991371155])\n"
     ]
    },
    {
     "name": "stderr",
     "output_type": "stream",
     "text": [
      "100%|██████████| 2/2 [00:06<00:00,  3.25s/it]\n"
     ]
    },
    {
     "name": "stdout",
     "output_type": "stream",
     "text": [
      "[0.3815789473684211, 0.618421052631579]\n",
      "Round 183 >> Loss: 0.5169406179972277, BLEU:0.5009974092245102, TEST:0.06646759249269962, LISTS:([0.6044909358024597, 0.39750388264656067]/[0.08845317363739014, 0.04448201134800911])\n"
     ]
    },
    {
     "name": "stderr",
     "output_type": "stream",
     "text": [
      "100%|██████████| 2/2 [00:06<00:00,  3.09s/it]\n"
     ]
    },
    {
     "name": "stdout",
     "output_type": "stream",
     "text": [
      "[0.3815789473684211, 0.618421052631579]\n",
      "Round 184 >> Loss: 0.5148602044744002, BLEU:0.5080345273017883, TEST:0.09325767308473587, LISTS:([0.6202117204666138, 0.3958573341369629]/[0.14074410498142242, 0.045771241188049316])\n"
     ]
    },
    {
     "name": "stderr",
     "output_type": "stream",
     "text": [
      "100%|██████████| 2/2 [00:06<00:00,  3.20s/it]\n"
     ]
    },
    {
     "name": "stdout",
     "output_type": "stream",
     "text": [
      "[0.3815789473684211, 0.618421052631579]\n",
      "Round 185 >> Loss: 0.5121071014755383, BLEU:0.5313520729541779, TEST:0.08111661113798618, LISTS:([0.6352871656417847, 0.42741698026657104]/[0.11369435489177704, 0.04853886738419533])\n"
     ]
    },
    {
     "name": "stderr",
     "output_type": "stream",
     "text": [
      "100%|██████████| 2/2 [00:06<00:00,  3.20s/it]\n"
     ]
    },
    {
     "name": "stdout",
     "output_type": "stream",
     "text": [
      "[0.3815789473684211, 0.618421052631579]\n",
      "Round 186 >> Loss: 0.5099082912992843, BLEU:0.5474010407924652, TEST:0.0947055984288454, LISTS:([0.6493553519248962, 0.4454467296600342]/[0.14289119839668274, 0.04651999846100807])\n"
     ]
    },
    {
     "name": "stderr",
     "output_type": "stream",
     "text": [
      "100%|██████████| 2/2 [00:06<00:00,  3.27s/it]\n"
     ]
    },
    {
     "name": "stdout",
     "output_type": "stream",
     "text": [
      "[0.618421052631579, 0.3815789473684211]\n",
      "Round 187 >> Loss: 0.5092205192200729, BLEU:0.5255011320114136, TEST:0.08877350948750973, LISTS:([0.6273231506347656, 0.4236791133880615]/[0.1316576600074768, 0.04588935896754265])\n"
     ]
    },
    {
     "name": "stderr",
     "output_type": "stream",
     "text": [
      "100%|██████████| 2/2 [00:06<00:00,  3.13s/it]\n"
     ]
    },
    {
     "name": "stdout",
     "output_type": "stream",
     "text": [
      "[0.3815789473684211, 0.618421052631579]\n",
      "Round 188 >> Loss: 0.5073764868791033, BLEU:0.5712619572877884, TEST:0.0910611730068922, LISTS:([0.6562408208847046, 0.4862830936908722]/[0.13815833628177643, 0.04396400973200798])\n"
     ]
    },
    {
     "name": "stderr",
     "output_type": "stream",
     "text": [
      "100%|██████████| 2/2 [00:06<00:00,  3.01s/it]\n"
     ]
    },
    {
     "name": "stdout",
     "output_type": "stream",
     "text": [
      "[0.618421052631579, 0.3815789473684211]\n",
      "Round 189 >> Loss: 0.5040449837537068, BLEU:0.5293119549751282, TEST:0.09204264171421528, LISTS:([0.6367073655128479, 0.42191654443740845]/[0.12735410034656525, 0.05673118308186531])\n"
     ]
    },
    {
     "name": "stderr",
     "output_type": "stream",
     "text": [
      "100%|██████████| 2/2 [00:06<00:00,  3.16s/it]\n"
     ]
    },
    {
     "name": "stdout",
     "output_type": "stream",
     "text": [
      "[0.3815789473684211, 0.618421052631579]\n",
      "Round 190 >> Loss: 0.5049390277397479, BLEU:0.5232020765542984, TEST:0.08105792291462421, LISTS:([0.6335338354110718, 0.412870317697525]/[0.1277962028980255, 0.034319642931222916])\n"
     ]
    },
    {
     "name": "stderr",
     "output_type": "stream",
     "text": [
      "100%|██████████| 2/2 [00:06<00:00,  3.24s/it]\n"
     ]
    },
    {
     "name": "stdout",
     "output_type": "stream",
     "text": [
      "[0.3815789473684211, 0.618421052631579]\n",
      "Round 191 >> Loss: 0.501424698395412, BLEU:0.493709921836853, TEST:0.07635786570608616, LISTS:([0.622954249382019, 0.364465594291687]/[0.10790815949440002, 0.04480757191777229])\n"
     ]
    },
    {
     "name": "stderr",
     "output_type": "stream",
     "text": [
      "100%|██████████| 2/2 [00:06<00:00,  3.23s/it]\n"
     ]
    },
    {
     "name": "stdout",
     "output_type": "stream",
     "text": [
      "[0.618421052631579, 0.3815789473684211]\n",
      "Round 192 >> Loss: 0.49885328208113644, BLEU:0.5010053813457489, TEST:0.08624652214348316, LISTS:([0.5938174724578857, 0.40819329023361206]/[0.11081483215093613, 0.0616782121360302])\n"
     ]
    },
    {
     "name": "stderr",
     "output_type": "stream",
     "text": [
      "100%|██████████| 2/2 [00:06<00:00,  3.23s/it]\n"
     ]
    },
    {
     "name": "stdout",
     "output_type": "stream",
     "text": [
      "[0.3815789473684211, 0.618421052631579]\n",
      "Round 193 >> Loss: 0.498621900526233, BLEU:0.5062440037727356, TEST:0.08468176238238811, LISTS:([0.6111364960670471, 0.4013515114784241]/[0.12374445796012878, 0.045619066804647446])\n"
     ]
    },
    {
     "name": "stderr",
     "output_type": "stream",
     "text": [
      "100%|██████████| 2/2 [00:06<00:00,  3.23s/it]\n"
     ]
    },
    {
     "name": "stdout",
     "output_type": "stream",
     "text": [
      "[0.3815789473684211, 0.618421052631579]\n",
      "Round 194 >> Loss: 0.49784594033724067, BLEU:0.5313166081905365, TEST:0.08351283334195614, LISTS:([0.6434369683265686, 0.4191962480545044]/[0.12495864182710648, 0.0420670248568058])\n"
     ]
    },
    {
     "name": "stderr",
     "output_type": "stream",
     "text": [
      "100%|██████████| 2/2 [00:06<00:00,  3.40s/it]\n"
     ]
    },
    {
     "name": "stdout",
     "output_type": "stream",
     "text": [
      "[0.3815789473684211, 0.618421052631579]\n",
      "Round 195 >> Loss: 0.4951785103416158, BLEU:0.5019873082637787, TEST:0.09690955467522144, LISTS:([0.6087266206741333, 0.3952479958534241]/[0.13579541444778442, 0.05802369490265846])\n"
     ]
    },
    {
     "name": "stderr",
     "output_type": "stream",
     "text": [
      "100%|██████████| 2/2 [00:06<00:00,  3.24s/it]\n"
     ]
    },
    {
     "name": "stdout",
     "output_type": "stream",
     "text": [
      "[0.3815789473684211, 0.618421052631579]\n",
      "Round 196 >> Loss: 0.4917123295595256, BLEU:0.551420122385025, TEST:0.07693634182214737, LISTS:([0.6813215017318726, 0.4215187430381775]/[0.11965105682611465, 0.034221626818180084])\n"
     ]
    },
    {
     "name": "stderr",
     "output_type": "stream",
     "text": [
      "100%|██████████| 2/2 [00:06<00:00,  3.21s/it]\n"
     ]
    },
    {
     "name": "stdout",
     "output_type": "stream",
     "text": [
      "[0.3815789473684211, 0.618421052631579]\n",
      "Round 197 >> Loss: 0.4910125925289377, BLEU:0.5293131470680237, TEST:0.09065532870590687, LISTS:([0.6242859363555908, 0.43434035778045654]/[0.13062050938606262, 0.050690148025751114])\n"
     ]
    },
    {
     "name": "stderr",
     "output_type": "stream",
     "text": [
      "100%|██████████| 2/2 [00:06<00:00,  3.26s/it]\n"
     ]
    },
    {
     "name": "stdout",
     "output_type": "stream",
     "text": [
      "[0.3815789473684211, 0.618421052631579]\n",
      "Round 198 >> Loss: 0.48854151671351487, BLEU:0.5423500239849091, TEST:0.0909356065094471, LISTS:([0.6488831639289856, 0.4358168840408325]/[0.14701710641384125, 0.03485410660505295])\n"
     ]
    },
    {
     "name": "stderr",
     "output_type": "stream",
     "text": [
      "100%|██████████| 2/2 [00:06<00:00,  3.19s/it]\n"
     ]
    },
    {
     "name": "stdout",
     "output_type": "stream",
     "text": [
      "[0.3815789473684211, 0.618421052631579]\n",
      "Round 199 >> Loss: 0.4881913977444999, BLEU:0.5061299800872803, TEST:0.08970464579761028, LISTS:([0.6348761916160583, 0.3773837685585022]/[0.12680406868457794, 0.052605222910642624])\n"
     ]
    },
    {
     "name": "stderr",
     "output_type": "stream",
     "text": [
      "100%|██████████| 2/2 [00:06<00:00,  3.10s/it]\n"
     ]
    },
    {
     "name": "stdout",
     "output_type": "stream",
     "text": [
      "[0.3815789473684211, 0.618421052631579]\n",
      "Round 200 >> Loss: 0.4870857607704982, BLEU:0.49943551421165466, TEST:0.09326492436230183, LISTS:([0.5897476077079773, 0.40912342071533203]/[0.13428443670272827, 0.05224541202187538])\n",
      "Training Done!\n",
      "Total time taken to Train: 1656.5760107040405\n"
     ]
    }
   ],
   "source": [
    "meta_encoder_weights, meta_decoder_weights = training(encoders, decoders, input_output_lang, 200,\n",
    "                                                    lr=0.001, ds=data_dict, C=1.0, K=K, E=1,\n",
    "                                                    filename=filename, batch_size=batch_size, hidden_size=hidden_size,\n",
    "                                                    weighting=False, lexical_weights=lexical_weight_dict)"
   ]
  },
  {
   "cell_type": "code",
   "execution_count": 354,
   "metadata": {},
   "outputs": [
    {
     "name": "stderr",
     "output_type": "stream",
     "text": [
      "100%|██████████| 2/2 [00:02<00:00,  1.18s/it]"
     ]
    },
    {
     "name": "stdout",
     "output_type": "stream",
     "text": [
      "0.1678844355046749\n",
      "[0.12518097460269928, 0.04270346090197563]\n"
     ]
    },
    {
     "name": "stderr",
     "output_type": "stream",
     "text": [
      "\n"
     ]
    }
   ],
   "source": [
    "bleu_test_sum = 0\n",
    "lang_length = len(encoders)\n",
    "test_bleus = []\n",
    "\n",
    "for i in tqdm(range(lang_length)):\n",
    "    test_bleu = evaluateBleu(encoders[i], decoders[i], input_output_lang[i][0], input_output_lang[i][1], input_output_lang[i][3], n=500)\n",
    "    bleu_test_sum += test_bleu\n",
    "    test_bleus.append(test_bleu)\n",
    "\n",
    "print(bleu_test_sum)\n",
    "print(test_bleus)\n",
    "test_bleu = bleu_test_sum / lang_length\n",
    "\n",
    "if filename is not None:\n",
    "    with open(filename, 'a') as f:\n",
    "        # create the csv writer\n",
    "        writer = csv.writer(f)\n",
    "\n",
    "        # write a row to the csv file\n",
    "        writer.writerow([test_bleu, str(test_bleus)])"
   ]
  },
  {
   "cell_type": "code",
   "execution_count": 355,
   "metadata": {},
   "outputs": [
    {
     "name": "stdout",
     "output_type": "stream",
     "text": [
      "Reading lines...\n",
      "Read 29506 sentence pairs\n",
      "Trimmed to 872 sentence pairs\n",
      "Counting words...\n",
      "Counted words:\n",
      "kir 1954\n",
      "eng 1566\n"
     ]
    },
    {
     "data": {
      "text/plain": [
       "0.0"
      ]
     },
     "execution_count": 355,
     "metadata": {},
     "output_type": "execute_result"
    }
   ],
   "source": [
    "input_lang, output_lang, train_dataloader, pairs = get_dataloader(batch_size, language='kir')\n",
    "\n",
    "encoder = EncoderRNN(input_lang.n_words, hidden_size).to(device)\n",
    "decoder = AttnDecoderRNN(hidden_size, output_lang.n_words).to(device)\n",
    "\n",
    "e_og = encoder.state_dict()\n",
    "d_og = decoder.state_dict()\n",
    "e_og.update(meta_encoder_weights)\n",
    "d_og.update(meta_decoder_weights)\n",
    "encoder.load_state_dict(e_og)\n",
    "decoder.load_state_dict(d_og)\n",
    "\n",
    "evaluateBleu(encoder, decoder, input_lang, output_lang, pairs, n=500)"
   ]
  },
  {
   "cell_type": "code",
   "execution_count": 356,
   "metadata": {},
   "outputs": [],
   "source": [
    "filename=None\n",
    "save = True\n",
    "if save:\n",
    "    num = 1\n",
    "    filename = f\"FT|{'_'.join(langs)}||{num}.csv\"\n",
    "    while os.path.isfile(filename):\n",
    "        print('Name is taken...trying again...')\n",
    "        num += 1\n",
    "        filename = f\"FT|{'_'.join(langs)}||{num}.csv\""
   ]
  },
  {
   "cell_type": "code",
   "execution_count": 357,
   "metadata": {},
   "outputs": [
    {
     "name": "stderr",
     "output_type": "stream",
     "text": [
      "100%|██████████| 2/2 [00:06<00:00,  3.04s/it]\n"
     ]
    },
    {
     "name": "stdout",
     "output_type": "stream",
     "text": [
      "[tensor(0.2472), tensor(0.7528)]\n",
      "Round 1 >> Loss: 0.5035429736241385, BLEU:0.5134813487529755, TEST:0.07721402123570442, LISTS:([0.627179741859436, 0.3997829556465149]/[0.10407000035047531, 0.05035804212093353])\n"
     ]
    },
    {
     "name": "stderr",
     "output_type": "stream",
     "text": [
      "100%|██████████| 2/2 [00:06<00:00,  3.09s/it]\n"
     ]
    },
    {
     "name": "stdout",
     "output_type": "stream",
     "text": [
      "[tensor(0.2472), tensor(0.7528)]\n",
      "Round 2 >> Loss: 0.493470582923376, BLEU:0.522781103849411, TEST:0.07091579400002956, LISTS:([0.6328366994857788, 0.4127255082130432]/[0.09516783803701401, 0.04666374996304512])\n"
     ]
    },
    {
     "name": "stderr",
     "output_type": "stream",
     "text": [
      "100%|██████████| 2/2 [00:06<00:00,  3.25s/it]\n"
     ]
    },
    {
     "name": "stdout",
     "output_type": "stream",
     "text": [
      "[tensor(0.7528), tensor(0.2472)]\n",
      "Round 3 >> Loss: 0.4894665155468149, BLEU:0.5234938412904739, TEST:0.08995121531188488, LISTS:([0.6167385578155518, 0.4302491247653961]/[0.1429249346256256, 0.03697749599814415])\n"
     ]
    },
    {
     "name": "stderr",
     "output_type": "stream",
     "text": [
      "100%|██████████| 2/2 [00:06<00:00,  3.25s/it]\n"
     ]
    },
    {
     "name": "stdout",
     "output_type": "stream",
     "text": [
      "[tensor(0.2472), tensor(0.7528)]\n",
      "Round 4 >> Loss: 0.486356709431871, BLEU:0.5448783934116364, TEST:0.08048892207443714, LISTS:([0.6578550338745117, 0.431901752948761]/[0.11629489809274673, 0.04468294605612755])\n"
     ]
    },
    {
     "name": "stderr",
     "output_type": "stream",
     "text": [
      "100%|██████████| 2/2 [00:06<00:00,  3.24s/it]\n"
     ]
    },
    {
     "name": "stdout",
     "output_type": "stream",
     "text": [
      "[tensor(0.7528), tensor(0.2472)]\n",
      "Round 5 >> Loss: 0.4844220779459986, BLEU:0.5081638842821121, TEST:0.10565050691366196, LISTS:([0.5917167067527771, 0.42461106181144714]/[0.13491077721118927, 0.07639023661613464])\n"
     ]
    },
    {
     "name": "stderr",
     "output_type": "stream",
     "text": [
      "100%|██████████| 2/2 [00:06<00:00,  3.19s/it]\n"
     ]
    },
    {
     "name": "stdout",
     "output_type": "stream",
     "text": [
      "[tensor(0.7528), tensor(0.2472)]\n",
      "Round 6 >> Loss: 0.47956900332603775, BLEU:0.5348372012376785, TEST:0.07968711853027344, LISTS:([0.6532623171806335, 0.4164120852947235]/[0.11589603871107101, 0.04347819834947586])\n"
     ]
    },
    {
     "name": "stderr",
     "output_type": "stream",
     "text": [
      "100%|██████████| 2/2 [00:06<00:00,  3.28s/it]\n"
     ]
    },
    {
     "name": "stdout",
     "output_type": "stream",
     "text": [
      "[tensor(0.7528), tensor(0.2472)]\n",
      "Round 7 >> Loss: 0.4806718652057921, BLEU:0.520747721195221, TEST:0.06825476698577404, LISTS:([0.6412057280540466, 0.40028971433639526]/[0.10362997651100159, 0.032879557460546494])\n"
     ]
    },
    {
     "name": "stderr",
     "output_type": "stream",
     "text": [
      "100%|██████████| 2/2 [00:06<00:00,  3.18s/it]\n"
     ]
    },
    {
     "name": "stdout",
     "output_type": "stream",
     "text": [
      "[tensor(0.7528), tensor(0.2472)]\n",
      "Round 8 >> Loss: 0.4792762441519445, BLEU:0.5265385210514069, TEST:0.08649399876594543, LISTS:([0.6149012446403503, 0.4381757974624634]/[0.12205451726913452, 0.05093348026275635])\n"
     ]
    },
    {
     "name": "stderr",
     "output_type": "stream",
     "text": [
      "100%|██████████| 2/2 [00:06<00:00,  3.20s/it]\n"
     ]
    },
    {
     "name": "stdout",
     "output_type": "stream",
     "text": [
      "[tensor(0.2472), tensor(0.7528)]\n",
      "Round 9 >> Loss: 0.4770499549143542, BLEU:0.5133463740348816, TEST:0.10136162303388119, LISTS:([0.6171251535415649, 0.40956759452819824]/[0.1499672383069992, 0.05275600776076317])\n"
     ]
    },
    {
     "name": "stderr",
     "output_type": "stream",
     "text": [
      "100%|██████████| 2/2 [00:06<00:00,  3.26s/it]\n"
     ]
    },
    {
     "name": "stdout",
     "output_type": "stream",
     "text": [
      "[tensor(0.2472), tensor(0.7528)]\n",
      "Round 10 >> Loss: 0.475001929802373, BLEU:0.5240001082420349, TEST:0.08551276475191116, LISTS:([0.6289087533950806, 0.41909146308898926]/[0.1264883577823639, 0.044537171721458435])\n",
      "Training Done!\n",
      "Total time taken to Train: 83.34817051887512\n"
     ]
    }
   ],
   "source": [
    "ft_meta_encoder_weights, ft_meta_decoder_weights = training(encoders, decoders, input_output_lang, 10,\n",
    "                                                    lr=0.001, ds=data_dict, C=1.0, K=K, E=1,\n",
    "                                                    filename=filename, batch_size=batch_size, hidden_size=hidden_size,\n",
    "                                                    weighting=False, lexical_weights=None)"
   ]
  },
  {
   "cell_type": "code",
   "execution_count": 358,
   "metadata": {},
   "outputs": [
    {
     "name": "stderr",
     "output_type": "stream",
     "text": [
      "100%|██████████| 2/2 [00:02<00:00,  1.22s/it]\n"
     ]
    }
   ],
   "source": [
    "bleu_test_sum = 0\n",
    "lang_length = len(encoders)\n",
    "test_bleus = []\n",
    "\n",
    "for i in tqdm(range(lang_length)):\n",
    "    test_bleu = evaluateBleu(encoders[i], decoders[i], input_output_lang[i][0], input_output_lang[i][1], input_output_lang[i][3], n=500)\n",
    "    bleu_test_sum += test_bleu\n",
    "    test_bleus.append(test_bleu)\n",
    "test_bleu = bleu_test_sum / lang_length\n",
    "\n",
    "if filename is not None:\n",
    "    with open(filename, 'a') as f:\n",
    "        # create the csv writer\n",
    "        writer = csv.writer(f)\n",
    "\n",
    "        # write a row to the csv file\n",
    "        writer.writerow([test_bleu, str(test_bleus)])"
   ]
  },
  {
   "cell_type": "code",
   "execution_count": 359,
   "metadata": {},
   "outputs": [
    {
     "name": "stdout",
     "output_type": "stream",
     "text": [
      "Reading lines...\n",
      "Read 7376 sentence pairs\n",
      "Trimmed to 215 sentence pairs\n",
      "Counting words...\n",
      "Counted words:\n",
      "kir_test 677\n",
      "eng 575\n"
     ]
    },
    {
     "data": {
      "text/plain": [
       "0.0"
      ]
     },
     "execution_count": 359,
     "metadata": {},
     "output_type": "execute_result"
    }
   ],
   "source": [
    "input_lang, output_lang, train_dataloader, pairs = get_dataloader(batch_size, language='kir_test')\n",
    "\n",
    "encoder = EncoderRNN(input_lang.n_words, hidden_size).to(device)\n",
    "decoder = AttnDecoderRNN(hidden_size, output_lang.n_words).to(device)\n",
    "\n",
    "e_og = encoder.state_dict()\n",
    "d_og = decoder.state_dict()\n",
    "e_og.update(meta_encoder_weights)\n",
    "d_og.update(meta_decoder_weights)\n",
    "encoder.load_state_dict(e_og)\n",
    "decoder.load_state_dict(d_og)\n",
    "\n",
    "evaluateBleu(encoder, decoder, input_lang, output_lang, pairs, n=50)"
   ]
  },
  {
   "cell_type": "code",
   "execution_count": 360,
   "metadata": {},
   "outputs": [],
   "source": [
    "import torch\n",
    "from torch.utils.data import DataLoader, Subset\n",
    "\n",
    "def limited_data_loader(original_dataloader, num_samples, random=True):\n",
    "    # Get the original dataset from the DataLoader\n",
    "    dataset = original_dataloader.dataset\n",
    "    \n",
    "    # Ensure the original dataset is larger than the requested number of samples\n",
    "    assert len(dataset) >= num_samples, \"The original dataset has fewer samples than requested\"\n",
    "    \n",
    "    # Create a Subset of the original dataset limited to the first num_samples elements\n",
    "    if random:\n",
    "        indices = np.random.choice(len(dataset), num_samples, replace=False)\n",
    "    else:\n",
    "        indices = range(num_samples)\n",
    "\n",
    "    subset = Subset(dataset, indices)\n",
    "    \n",
    "    # Create a new DataLoader from this subset with the same parameters as the original DataLoader\n",
    "    new_dataloader = DataLoader(subset, batch_size=original_dataloader.batch_size, shuffle=False, num_workers=original_dataloader.num_workers)\n",
    "    \n",
    "    return new_dataloader\n"
   ]
  },
  {
   "cell_type": "code",
   "execution_count": 361,
   "metadata": {},
   "outputs": [],
   "source": [
    "def personalize(lang, rounds, encoder_weights=None, decoder_weights=None, sample=None, save=False):\n",
    "    input_lang, output_lang, train_dataloader, pairs = get_dataloader(batch_size, language=lang)\n",
    "\n",
    "    encoder = EncoderRNN(input_lang.n_words, hidden_size).to(device)\n",
    "    decoder = AttnDecoderRNN(hidden_size, output_lang.n_words).to(device)\n",
    "\n",
    "    is_FL = 'false'\n",
    "\n",
    "    if encoder_weights is not None:\n",
    "        e_og = encoder.state_dict()\n",
    "        d_og = decoder.state_dict()\n",
    "        e_og.update(encoder_weights)\n",
    "        d_og.update(decoder_weights)\n",
    "        encoder.load_state_dict(e_og)\n",
    "        decoder.load_state_dict(d_og)\n",
    "        is_FL = 'true'\n",
    "\n",
    "    train_dataloader, test_dataloader = split_dataloader(train_dataloader)\n",
    "    train_idx = get_pair_index(train_dataloader)\n",
    "    test_idx = get_pair_index(test_dataloader)\n",
    "\n",
    "    train_pairs = [pairs[i] for i in train_idx]\n",
    "    test_pairs = [pairs[i] for i in test_idx]\n",
    "    \n",
    "    if sample is None:\n",
    "        sample = 'full'\n",
    "    else:\n",
    "        train_dataloader = limited_data_loader(train_dataloader, sample)\n",
    "\n",
    "    filename=None\n",
    "    if save:\n",
    "        num = 1\n",
    "        filename = f\"P|{lang}_{sample}-shot_FL-{is_FL}_epoch{rounds}||{num}.csv\"\n",
    "        while os.path.isfile(filename):\n",
    "            print('Name is taken...trying again...')\n",
    "            num += 1\n",
    "            filename = f\"P|{lang}_{sample}-shot_FL-{is_FL}_epoch{rounds}||{num}.csv\"\n",
    "    train(train_dataloader, encoder, decoder, rounds, print_every=5, plot_every=5, filename=filename, input=input_lang, output=output_lang, pairs=train_pairs, test_pairs=test_pairs)\n",
    "    return encoder, decoder, test_pairs"
   ]
  },
  {
   "cell_type": "code",
   "execution_count": 362,
   "metadata": {},
   "outputs": [
    {
     "name": "stdout",
     "output_type": "stream",
     "text": [
      "Reading lines...\n",
      "Read 29506 sentence pairs\n",
      "Trimmed to 872 sentence pairs\n",
      "Counting words...\n",
      "Counted words:\n",
      "kir 1954\n",
      "eng 1566\n"
     ]
    }
   ],
   "source": [
    "input_lang, output_lang, train_dataloader, pairs = get_dataloader(batch_size, language='kir')"
   ]
  },
  {
   "cell_type": "code",
   "execution_count": 363,
   "metadata": {},
   "outputs": [
    {
     "name": "stdout",
     "output_type": "stream",
     "text": [
      "Reading lines...\n",
      "Read 29506 sentence pairs\n",
      "Trimmed to 872 sentence pairs\n",
      "Counting words...\n",
      "Counted words:\n",
      "kir 1954\n",
      "eng 1566\n",
      "Reading lines...\n",
      "Read 29506 sentence pairs\n",
      "Trimmed to 872 sentence pairs\n",
      "Counting words...\n",
      "Counted words:\n",
      "kir 1954\n",
      "eng 1566\n",
      "Epoch 5 >> Loss: 4.411212799549102, Bleu: 0.12715553465016713, Test Bleu: 0.136670250764458, Best:(0.12715553465016713/0.136670250764458)\n",
      "Epoch 10 >> Loss: 2.998807468414307, Bleu: 0.1468493789434433, Test Bleu: 0.1660253405570984, Best:(0.19023461639881134/0.1704300920983599)\n",
      "Epoch 15 >> Loss: 2.4015121924877163, Bleu: 0.18599043786525726, Test Bleu: 0.17539939284324646, Best:(0.20620320737361908/0.17539939284324646)\n",
      "Epoch 20 >> Loss: 1.8836940324306486, Bleu: 0.22937878966331482, Test Bleu: 0.18200230598449707, Best:(0.22937878966331482/0.18452519178390503)\n",
      "Epoch 25 >> Loss: 1.4516188883781433, Bleu: 0.30739349126815796, Test Bleu: 0.19906717538833618, Best:(0.30739349126815796/0.19906717538833618)\n",
      "Epoch 30 >> Loss: 1.0872719359397887, Bleu: 0.33673548698425293, Test Bleu: 0.19874005019664764, Best:(0.33673548698425293/0.2016710506954569)\n",
      "Epoch 35 >> Loss: 0.8074277496337892, Bleu: 0.41913631558418274, Test Bleu: 0.21201097965240479, Best:(0.41913631558418274/0.21201097965240479)\n",
      "Epoch 40 >> Loss: 0.5970053720474243, Bleu: 0.47715818881988525, Test Bleu: 0.2081432342529297, Best:(0.47715818881988525/0.21518158912658691)\n",
      "Epoch 45 >> Loss: 0.4455936920642853, Bleu: 0.5253423452377319, Test Bleu: 0.20414704084396362, Best:(0.5253423452377319/0.21573056280612946)\n",
      "Epoch 50 >> Loss: 0.332207268178463, Bleu: 0.5415468215942383, Test Bleu: 0.20994898676872253, Best:(0.5921382904052734/0.22182266414165497)\n",
      "Epoch 55 >> Loss: 0.2545750300586223, Bleu: 0.6208850741386414, Test Bleu: 0.21659083664417267, Best:(0.6483373641967773/0.22489669919013977)\n",
      "Epoch 60 >> Loss: 0.19756037831306456, Bleu: 0.6987470984458923, Test Bleu: 0.2258516550064087, Best:(0.6987470984458923/0.22809664905071259)\n",
      "Epoch 65 >> Loss: 0.15646508343517782, Bleu: 0.6518979668617249, Test Bleu: 0.22491785883903503, Best:(0.6987470984458923/0.22809664905071259)\n",
      "Epoch 70 >> Loss: 0.12686404503881932, Bleu: 0.7134053111076355, Test Bleu: 0.22248364984989166, Best:(0.7134053111076355/0.22983887791633606)\n",
      "Epoch 75 >> Loss: 0.1043567943572998, Bleu: 0.695611834526062, Test Bleu: 0.22605784237384796, Best:(0.7134053111076355/0.22983887791633606)\n",
      "Epoch 80 >> Loss: 0.0872837805747986, Bleu: 0.7009498476982117, Test Bleu: 0.2142765372991562, Best:(0.719567060470581/0.22983887791633606)\n",
      "Epoch 85 >> Loss: 0.07607667941600085, Bleu: 0.691970705986023, Test Bleu: 0.23044466972351074, Best:(0.7446873188018799/0.23044466972351074)\n",
      "Epoch 90 >> Loss: 0.06546265725046396, Bleu: 0.7052994966506958, Test Bleu: 0.2353956550359726, Best:(0.7446873188018799/0.2353956550359726)\n",
      "Epoch 95 >> Loss: 0.05702186536043883, Bleu: 0.7173029780387878, Test Bleu: 0.2253936380147934, Best:(0.7446873188018799/0.2353956550359726)\n",
      "Epoch 100 >> Loss: 0.050652735866606236, Bleu: 0.7204172611236572, Test Bleu: 0.2251138687133789, Best:(0.7446873188018799/0.2353956550359726)\n",
      "Reading lines...\n",
      "Read 29506 sentence pairs\n",
      "Trimmed to 872 sentence pairs\n",
      "Counting words...\n",
      "Counted words:\n",
      "kir 1954\n",
      "eng 1566\n",
      "Epoch 5 >> Loss: 7.191271591186523, Bleu: 0.0, Test Bleu: 0.0, Best:(0/0)\n",
      "Epoch 10 >> Loss: 6.087923240661621, Bleu: 0.0, Test Bleu: 0.0, Best:(0/0)\n",
      "Epoch 15 >> Loss: 5.099065113067627, Bleu: 0.0, Test Bleu: 0.0, Best:(0/0)\n",
      "Epoch 20 >> Loss: 4.174105453491211, Bleu: 0.0, Test Bleu: 0.0, Best:(0/0)\n",
      "Epoch 25 >> Loss: 3.372655439376831, Bleu: 0.0, Test Bleu: 0.0, Best:(0/0)\n",
      "Epoch 30 >> Loss: 2.725788450241089, Bleu: 0.0027267548721283674, Test Bleu: 0.0, Best:(0.0027267548721283674/0)\n",
      "Epoch 35 >> Loss: 2.2043376922607423, Bleu: 0.0, Test Bleu: 0.0, Best:(0.0027267548721283674/0)\n",
      "Epoch 40 >> Loss: 1.8147085666656495, Bleu: 0.002824119059368968, Test Bleu: 0.0, Best:(0.0030332517344504595/0)\n",
      "Epoch 45 >> Loss: 1.5156217336654663, Bleu: 0.005166946444660425, Test Bleu: 0.0018422630382701755, Best:(0.005166946444660425/0.005670939572155476)\n",
      "Epoch 50 >> Loss: 1.2601556777954102, Bleu: 0.006502573378384113, Test Bleu: 0.006632754113525152, Best:(0.009533951990306377/0.006632754113525152)\n",
      "Epoch 55 >> Loss: 1.0299380660057067, Bleu: 0.0, Test Bleu: 0.007820159196853638, Best:(0.009533951990306377/0.007820159196853638)\n",
      "Epoch 60 >> Loss: 0.8578222990036011, Bleu: 0.006644406355917454, Test Bleu: 0.007680951151996851, Best:(0.013190007768571377/0.008305132389068604)\n",
      "Epoch 65 >> Loss: 0.7000589847564698, Bleu: 0.0060720257461071014, Test Bleu: 0.009214499965310097, Best:(0.013190007768571377/0.009214499965310097)\n",
      "Epoch 70 >> Loss: 0.5865614891052247, Bleu: 0.030311474576592445, Test Bleu: 0.009991076774895191, Best:(0.030311474576592445/0.009991076774895191)\n",
      "Epoch 75 >> Loss: 0.4903285324573517, Bleu: 0.0034706711303442717, Test Bleu: 0.010190586559474468, Best:(0.030311474576592445/0.011048693209886551)\n",
      "Epoch 80 >> Loss: 0.40372214913368226, Bleu: 0.008516271598637104, Test Bleu: 0.011060685850679874, Best:(0.030311474576592445/0.011060685850679874)\n",
      "Epoch 85 >> Loss: 0.3426927149295807, Bleu: 0.027544384822249413, Test Bleu: 0.011493740734097016, Best:(0.030311474576592445/0.011493740734097016)\n",
      "Epoch 90 >> Loss: 0.2960775256156921, Bleu: 0.019095730458156032, Test Bleu: 0.011074073488494839, Best:(0.030311474576592445/0.01260510206187929)\n",
      "Epoch 95 >> Loss: 0.25246785283088685, Bleu: 0.021699988945760595, Test Bleu: 0.011252161968443546, Best:(0.031374046848455205/0.01260510206187929)\n",
      "Epoch 100 >> Loss: 0.21679575443267823, Bleu: 0.003964789905642491, Test Bleu: 0.011692130634522253, Best:(0.031374046848455205/0.01260510206187929)\n",
      "Reading lines...\n",
      "Read 29506 sentence pairs\n",
      "Trimmed to 872 sentence pairs\n",
      "Counting words...\n",
      "Counted words:\n",
      "kir 1954\n",
      "eng 1566\n",
      "Epoch 5 >> Loss: 6.314715147018433, Bleu: 0.0, Test Bleu: 0.0, Best:(0/0)\n",
      "Epoch 10 >> Loss: 4.238576424121857, Bleu: 0.0, Test Bleu: 0.0, Best:(0.004855677485466003/0.006300908513367176)\n",
      "Epoch 15 >> Loss: 3.2838995099067687, Bleu: 0.06838319450616837, Test Bleu: 0.06019480526447296, Best:(0.06838319450616837/0.06019480526447296)\n",
      "Epoch 20 >> Loss: 2.753193724155426, Bleu: 0.09765420854091644, Test Bleu: 0.09216724336147308, Best:(0.09765420854091644/0.09335622936487198)\n",
      "Epoch 25 >> Loss: 2.310181826353073, Bleu: 0.13491660356521606, Test Bleu: 0.1324547827243805, Best:(0.1435137540102005/0.1324547827243805)\n",
      "Epoch 30 >> Loss: 1.94072984457016, Bleu: 0.16254423558712006, Test Bleu: 0.1629902720451355, Best:(0.16254423558712006/0.1629902720451355)\n",
      "Epoch 35 >> Loss: 1.6246902108192445, Bleu: 0.1354684829711914, Test Bleu: 0.15502803027629852, Best:(0.1671469658613205/0.16631992161273956)\n",
      "Epoch 40 >> Loss: 1.3451438650488854, Bleu: 0.14066393673419952, Test Bleu: 0.1760149747133255, Best:(0.1671469658613205/0.1760149747133255)\n",
      "Epoch 45 >> Loss: 1.113086000084877, Bleu: 0.17131029069423676, Test Bleu: 0.17875877022743225, Best:(0.17790770530700684/0.1851423978805542)\n",
      "Epoch 50 >> Loss: 0.9131914488971233, Bleu: 0.18396180868148804, Test Bleu: 0.19655069708824158, Best:(0.20386584103107452/0.19655069708824158)\n",
      "Epoch 55 >> Loss: 0.7427585087716579, Bleu: 0.1841914802789688, Test Bleu: 0.20222216844558716, Best:(0.20386584103107452/0.20445691049098969)\n",
      "Epoch 60 >> Loss: 0.6032865807414055, Bleu: 0.1893235445022583, Test Bleu: 0.2116924673318863, Best:(0.21320149302482605/0.2116924673318863)\n",
      "Epoch 65 >> Loss: 0.4933231770992279, Bleu: 0.1915513277053833, Test Bleu: 0.2058042585849762, Best:(0.2289472222328186/0.2163671851158142)\n",
      "Epoch 70 >> Loss: 0.40541401952505113, Bleu: 0.2005121111869812, Test Bleu: 0.20996327698230743, Best:(0.2296578735113144/0.22400858998298645)\n",
      "Epoch 75 >> Loss: 0.33502359576523305, Bleu: 0.20785677433013916, Test Bleu: 0.22847692668437958, Best:(0.2615410387516022/0.22847692668437958)\n",
      "Epoch 80 >> Loss: 0.2803923200815916, Bleu: 0.23379145562648773, Test Bleu: 0.2311132699251175, Best:(0.2615410387516022/0.2311132699251175)\n",
      "Epoch 85 >> Loss: 0.23432729206979275, Bleu: 0.21702688932418823, Test Bleu: 0.24013952910900116, Best:(0.2615410387516022/0.24013952910900116)\n",
      "Epoch 90 >> Loss: 0.19896241184324026, Bleu: 0.22671455144882202, Test Bleu: 0.2261231541633606, Best:(0.2615410387516022/0.2412586361169815)\n",
      "Epoch 95 >> Loss: 0.17255077995359897, Bleu: 0.18841534852981567, Test Bleu: 0.22740112245082855, Best:(0.2782925069332123/0.2425822913646698)\n",
      "Epoch 100 >> Loss: 0.14705920815467835, Bleu: 0.21886225044727325, Test Bleu: 0.25150346755981445, Best:(0.2782925069332123/0.25150346755981445)\n"
     ]
    }
   ],
   "source": [
    "bleus = []\n",
    "input_lang, output_lang, train_dataloader, pairs = get_dataloader(batch_size, language='kir')\n",
    "for i in [None, 10, 100]:\n",
    "    encoder, decoder, test_pairs = personalize('kir', 100, save=True, encoder_weights=ft_meta_encoder_weights, decoder_weights=ft_meta_decoder_weights, sample=i)"
   ]
  },
  {
   "cell_type": "code",
   "execution_count": 346,
   "metadata": {},
   "outputs": [
    {
     "name": "stdout",
     "output_type": "stream",
     "text": [
      "Reading lines...\n",
      "Read 82370 sentence pairs\n",
      "Trimmed to 25719 sentence pairs\n",
      "Counting words...\n",
      "Counted words:\n",
      "bem 19481\n",
      "eng 5092\n",
      "Reading lines...\n",
      "Read 82370 sentence pairs\n",
      "Trimmed to 25719 sentence pairs\n",
      "Counting words...\n",
      "Counted words:\n",
      "bem 19481\n",
      "eng 5092\n",
      "Epoch 5 >> Loss: 2.7597879398700798, Bleu: 0.07422833889722824, Test Bleu: 0.08102406561374664, Best:(0.07751059532165527/0.08102406561374664)\n",
      "Epoch 10 >> Loss: 1.9695946848273675, Bleu: 0.11479580402374268, Test Bleu: 0.07936546951532364, Best:(0.11752612143754959/0.11749737709760666)\n",
      "Epoch 15 >> Loss: 1.623021117674552, Bleu: 0.11801541596651077, Test Bleu: 0.09571251273155212, Best:(0.1562468707561493/0.11749737709760666)\n",
      "Epoch 20 >> Loss: 1.3789203233299065, Bleu: 0.1560976356267929, Test Bleu: 0.10654176026582718, Best:(0.1604466438293457/0.11936020851135254)\n",
      "Epoch 25 >> Loss: 1.1935992406650238, Bleu: 0.18424397706985474, Test Bleu: 0.10948416590690613, Best:(0.2019069343805313/0.12215903401374817)\n",
      "Epoch 30 >> Loss: 1.0475087450786287, Bleu: 0.2016448974609375, Test Bleu: 0.11787636578083038, Best:(0.20956921577453613/0.1371842473745346)\n",
      "Epoch 35 >> Loss: 0.9290194096161283, Bleu: 0.22776305675506592, Test Bleu: 0.11264466494321823, Best:(0.22776305675506592/0.1371842473745346)\n",
      "Epoch 40 >> Loss: 0.8305875730474922, Bleu: 0.2581256031990051, Test Bleu: 0.10008613020181656, Best:(0.26922714710235596/0.1371842473745346)\n",
      "Epoch 45 >> Loss: 0.7468425170428729, Bleu: 0.27511194348335266, Test Bleu: 0.12003693729639053, Best:(0.27511194348335266/0.1371842473745346)\n",
      "Epoch 50 >> Loss: 0.6756009702567642, Bleu: 0.2933015525341034, Test Bleu: 0.12518317997455597, Best:(0.2963842451572418/0.1371842473745346)\n",
      "Epoch 55 >> Loss: 0.614473612987718, Bleu: 0.27913641929626465, Test Bleu: 0.10805485397577286, Best:(0.31283843517303467/0.1371842473745346)\n",
      "Epoch 60 >> Loss: 0.5633826518177589, Bleu: 0.30193692445755005, Test Bleu: 0.11045346409082413, Best:(0.31283843517303467/0.1371842473745346)\n",
      "Epoch 65 >> Loss: 0.5162503242294654, Bleu: 0.3256133496761322, Test Bleu: 0.09191589057445526, Best:(0.33553680777549744/0.1371842473745346)\n",
      "Epoch 70 >> Loss: 0.47622320956962055, Bleu: 0.34715795516967773, Test Bleu: 0.12815028429031372, Best:(0.3553153872489929/0.1371842473745346)\n",
      "Epoch 75 >> Loss: 0.43925004142067364, Bleu: 0.33274805545806885, Test Bleu: 0.10574385523796082, Best:(0.3638673722743988/0.1371842473745346)\n",
      "Epoch 80 >> Loss: 0.4089371999533865, Bleu: 0.3301990330219269, Test Bleu: 0.09436682611703873, Best:(0.42261189222335815/0.1371842473745346)\n",
      "Epoch 85 >> Loss: 0.37972984709018887, Bleu: 0.4004770517349243, Test Bleu: 0.09583967924118042, Best:(0.42261189222335815/0.1371842473745346)\n",
      "Epoch 90 >> Loss: 0.3541131175831703, Bleu: 0.366472989320755, Test Bleu: 0.10479659587144852, Best:(0.42261189222335815/0.1371842473745346)\n",
      "Epoch 95 >> Loss: 0.33233117068130713, Bleu: 0.41654056310653687, Test Bleu: 0.08314467966556549, Best:(0.43144217133522034/0.1371842473745346)\n",
      "Epoch 100 >> Loss: 0.310725486808243, Bleu: 0.4182770252227783, Test Bleu: 0.10407861322164536, Best:(0.43453142046928406/0.1371842473745346)\n",
      "Reading lines...\n",
      "Read 55667 sentence pairs\n",
      "Trimmed to 19616 sentence pairs\n",
      "Counting words...\n",
      "Counted words:\n",
      "kin 36940\n",
      "eng 11235\n",
      "Reading lines...\n",
      "Read 55667 sentence pairs\n",
      "Trimmed to 19616 sentence pairs\n",
      "Counting words...\n",
      "Counted words:\n",
      "kin 36940\n",
      "eng 11235\n",
      "Epoch 5 >> Loss: 3.5300439779535098, Bleu: 0.013850613259624752, Test Bleu: 0.01148038450628519, Best:(0.013850613259624752/0.015330780297517776)\n",
      "Epoch 10 >> Loss: 2.4516968142752553, Bleu: 0.05455154925584793, Test Bleu: 0.0, Best:(0.05455154925584793/0.01996634341776371)\n",
      "Epoch 15 >> Loss: 1.7236546568880933, Bleu: 0.09286496043205261, Test Bleu: 0.0, Best:(0.10697982460260391/0.022774597629904747)\n",
      "Epoch 20 >> Loss: 1.2511454314967385, Bleu: 0.15802636742591858, Test Bleu: 0.01850077696144581, Best:(0.15802636742591858/0.025202607735991478)\n",
      "Epoch 25 >> Loss: 0.933756712786772, Bleu: 0.2256564348936081, Test Bleu: 0.026206184178590775, Best:(0.22622515261173248/0.026278123259544373)\n",
      "Epoch 30 >> Loss: 0.7095899338296296, Bleu: 0.25452202558517456, Test Bleu: 0.0, Best:(0.25452202558517456/0.03143990784883499)\n",
      "Epoch 35 >> Loss: 0.5450224554486784, Bleu: 0.2788252830505371, Test Bleu: 0.0, Best:(0.3117266595363617/0.03143990784883499)\n",
      "Epoch 40 >> Loss: 0.42460892981563525, Bleu: 0.3090441823005676, Test Bleu: 0.0256081223487854, Best:(0.36374104022979736/0.03143990784883499)\n",
      "Epoch 45 >> Loss: 0.33411885850569784, Bleu: 0.35623231530189514, Test Bleu: 0.02602684497833252, Best:(0.3739238977432251/0.037467192858457565)\n",
      "Epoch 50 >> Loss: 0.26508299649605827, Bleu: 0.42012614011764526, Test Bleu: 0.03358957916498184, Best:(0.42012614011764526/0.037467192858457565)\n",
      "Epoch 55 >> Loss: 0.2148371697186385, Bleu: 0.43340566754341125, Test Bleu: 0.022144759073853493, Best:(0.44480395317077637/0.037467192858457565)\n",
      "Epoch 60 >> Loss: 0.1754238897516577, Bleu: 0.42976754903793335, Test Bleu: 0.029178498312830925, Best:(0.4488465189933777/0.037467192858457565)\n",
      "Epoch 65 >> Loss: 0.1474789571966611, Bleu: 0.4665885269641876, Test Bleu: 0.036820005625486374, Best:(0.4665885269641876/0.03836718946695328)\n",
      "Epoch 70 >> Loss: 0.12505881221303494, Bleu: 0.4640839993953705, Test Bleu: 0.0244046188890934, Best:(0.5162112712860107/0.03836718946695328)\n",
      "Epoch 75 >> Loss: 0.10802341045767135, Bleu: 0.5102382302284241, Test Bleu: 0.03289997950196266, Best:(0.5162112712860107/0.03836718946695328)\n",
      "Epoch 80 >> Loss: 0.09308795660312139, Bleu: 0.4844329357147217, Test Bleu: 0.03552250564098358, Best:(0.5225485563278198/0.03836718946695328)\n",
      "Epoch 85 >> Loss: 0.08296767547077342, Bleu: 0.4926759600639343, Test Bleu: 0.03304876759648323, Best:(0.5358495116233826/0.03836718946695328)\n",
      "Epoch 90 >> Loss: 0.0750501626765676, Bleu: 0.5183472037315369, Test Bleu: 0.039337027817964554, Best:(0.5533353686332703/0.04192327708005905)\n",
      "Epoch 95 >> Loss: 0.06757478577882246, Bleu: 0.5274595618247986, Test Bleu: 0.03637039661407471, Best:(0.5533353686332703/0.04192327708005905)\n",
      "Epoch 100 >> Loss: 0.061609134117794714, Bleu: 0.5711978077888489, Test Bleu: 0.03260386735200882, Best:(0.5711978077888489/0.04192327708005905)\n",
      "Reading lines...\n",
      "Read 15022 sentence pairs\n",
      "Trimmed to 8447 sentence pairs\n",
      "Counting words...\n",
      "Counted words:\n",
      "lug 9684\n",
      "eng 5677\n",
      "Reading lines...\n",
      "Read 15022 sentence pairs\n",
      "Trimmed to 8447 sentence pairs\n",
      "Counting words...\n",
      "Counted words:\n",
      "lug 9684\n",
      "eng 5677\n",
      "Epoch 5 >> Loss: 4.286944854804102, Bleu: 0.02425495535135269, Test Bleu: 0.0, Best:(0.02425495535135269/0.009575444273650646)\n",
      "Epoch 10 >> Loss: 3.044595883219375, Bleu: 0.021656952798366547, Test Bleu: 0.015972601249814034, Best:(0.03500152751803398/0.03279491141438484)\n",
      "Epoch 15 >> Loss: 2.2788518916531872, Bleu: 0.08075514435768127, Test Bleu: 0.0, Best:(0.08075514435768127/0.03279491141438484)\n",
      "Epoch 20 >> Loss: 1.7136061655083281, Bleu: 0.10505281388759613, Test Bleu: 0.03405045345425606, Best:(0.10505281388759613/0.03947886452078819)\n",
      "Epoch 25 >> Loss: 1.2980929911439187, Bleu: 0.160053551197052, Test Bleu: 0.043417226523160934, Best:(0.16299058496952057/0.04799926280975342)\n",
      "Epoch 30 >> Loss: 0.9937697262933411, Bleu: 0.20782220363616943, Test Bleu: 0.03146946430206299, Best:(0.21781538426876068/0.04799926280975342)\n",
      "Epoch 35 >> Loss: 0.7729407894429822, Bleu: 0.2682933807373047, Test Bleu: 0.04832034930586815, Best:(0.2682933807373047/0.04832034930586815)\n",
      "Epoch 40 >> Loss: 0.6061683319849411, Bleu: 0.2994433045387268, Test Bleu: 0.04233446717262268, Best:(0.33289411664009094/0.04832034930586815)\n",
      "Epoch 45 >> Loss: 0.48056565871093476, Bleu: 0.3805791139602661, Test Bleu: 0.04230806976556778, Best:(0.39216098189353943/0.05373051390051842)\n",
      "Epoch 50 >> Loss: 0.38336772119938417, Bleu: 0.40277254581451416, Test Bleu: 0.03317384794354439, Best:(0.4163269102573395/0.05373051390051842)\n",
      "Epoch 55 >> Loss: 0.31194624872074517, Bleu: 0.4557081162929535, Test Bleu: 0.04026475176215172, Best:(0.46960365772247314/0.05373051390051842)\n",
      "Epoch 60 >> Loss: 0.2542097969557428, Bleu: 0.4949311912059784, Test Bleu: 0.04279947653412819, Best:(0.501782238483429/0.05373051390051842)\n",
      "Epoch 65 >> Loss: 0.21048275720952128, Bleu: 0.5303749442100525, Test Bleu: 0.038412321358919144, Best:(0.5351175665855408/0.05373051390051842)\n",
      "Epoch 70 >> Loss: 0.177187177032081, Bleu: 0.5238152742385864, Test Bleu: 0.03820723295211792, Best:(0.5587416887283325/0.0569574199616909)\n",
      "Epoch 75 >> Loss: 0.15060423245738605, Bleu: 0.551150918006897, Test Bleu: 0.04336053878068924, Best:(0.5587416887283325/0.0569574199616909)\n",
      "Epoch 80 >> Loss: 0.12913150210217172, Bleu: 0.5587095022201538, Test Bleu: 0.04252069443464279, Best:(0.5907754302024841/0.0569574199616909)\n",
      "Epoch 85 >> Loss: 0.11203151108498502, Bleu: 0.5737103223800659, Test Bleu: 0.02941351756453514, Best:(0.5907754302024841/0.06559138745069504)\n",
      "Epoch 90 >> Loss: 0.09988222199723806, Bleu: 0.6121358275413513, Test Bleu: 0.05349825322628021, Best:(0.6121358275413513/0.06559138745069504)\n",
      "Epoch 95 >> Loss: 0.08679193756755837, Bleu: 0.6199954152107239, Test Bleu: 0.027743585407733917, Best:(0.6199954152107239/0.06559138745069504)\n",
      "Epoch 100 >> Loss: 0.07753611146496033, Bleu: 0.6095781326293945, Test Bleu: 0.05672314763069153, Best:(0.6298222541809082/0.06559138745069504)\n"
     ]
    }
   ],
   "source": [
    "langs = ['bem', 'kin', 'lug']\n",
    "parent_bleus = []\n",
    "\n",
    "for lang in langs:\n",
    "    input_lang, output_lang, train_dataloader, pairs = get_dataloader(batch_size, language=lang)\n",
    "\n",
    "    encoder, decoder, test_pairs = personalize(lang, 100, save=True, encoder_weights=ft_meta_encoder_weights, decoder_weights=ft_meta_decoder_weights, sample=None)"
   ]
  },
  {
   "cell_type": "code",
   "execution_count": 347,
   "metadata": {},
   "outputs": [
    {
     "name": "stdout",
     "output_type": "stream",
     "text": [
      "Reading lines...\n",
      "Read 82370 sentence pairs\n",
      "Trimmed to 25719 sentence pairs\n",
      "Counting words...\n",
      "Counted words:\n",
      "bem 19481\n",
      "eng 5092\n",
      "Reading lines...\n",
      "Read 82370 sentence pairs\n",
      "Trimmed to 25719 sentence pairs\n",
      "Counting words...\n",
      "Counted words:\n",
      "bem 19481\n",
      "eng 5092\n",
      "Epoch 5 >> Loss: 7.435945653915406, Bleu: 0.0, Test Bleu: 0.0, Best:(0/0)\n",
      "Epoch 10 >> Loss: 4.7951505303382875, Bleu: 0.0, Test Bleu: 0.0, Best:(0/0)\n",
      "Epoch 15 >> Loss: 3.491755449771881, Bleu: 0.0, Test Bleu: 0.0, Best:(0/0)\n",
      "Epoch 20 >> Loss: 3.0078428626060485, Bleu: 0.0, Test Bleu: 0.0, Best:(0/0)\n",
      "Epoch 25 >> Loss: 2.67136572599411, Bleu: 0.0, Test Bleu: 0.0, Best:(0/0)\n",
      "Epoch 30 >> Loss: 2.366993796825409, Bleu: 0.0, Test Bleu: 0.011165823635936115, Best:(0/0.011165823635936115)\n",
      "Epoch 35 >> Loss: 2.0924447149038317, Bleu: 0.0, Test Bleu: 0.0, Best:(0/0.01909972642142283)\n",
      "Epoch 40 >> Loss: 1.837030079960823, Bleu: 0.013807805196919083, Test Bleu: 0.0, Best:(0.013807805196919083/0.01909972642142283)\n",
      "Epoch 45 >> Loss: 1.6064924001693726, Bleu: 0.0, Test Bleu: 0.0, Best:(0.013807805196919083/0.01909972642142283)\n",
      "Epoch 50 >> Loss: 1.4020925596356393, Bleu: 0.0, Test Bleu: 0.0, Best:(0.014173691465129576/0.01909972642142283)\n",
      "Epoch 55 >> Loss: 1.208651888370514, Bleu: 0.019288345098034235, Test Bleu: 0.0, Best:(0.019288345098034235/0.01909972642142283)\n",
      "Epoch 60 >> Loss: 1.046054294705391, Bleu: 0.009380088187754154, Test Bleu: 0.01182467583566904, Best:(0.019288345098034235/0.01909972642142283)\n",
      "Epoch 65 >> Loss: 0.8904388546943665, Bleu: 0.01933457888662815, Test Bleu: 0.0, Best:(0.01933457888662815/0.01909972642142283)\n",
      "Epoch 70 >> Loss: 0.7601750627160072, Bleu: 0.016558347269892693, Test Bleu: 0.0, Best:(0.03262309730052948/0.02078055962920189)\n",
      "Epoch 75 >> Loss: 0.647824551910162, Bleu: 0.0, Test Bleu: 0.0, Best:(0.03262309730052948/0.02078055962920189)\n",
      "Epoch 80 >> Loss: 0.5523697830736637, Bleu: 0.013556553050875664, Test Bleu: 0.0, Best:(0.03262309730052948/0.02078055962920189)\n",
      "Epoch 85 >> Loss: 0.47043631672859193, Bleu: 0.011377125047147274, Test Bleu: 0.019368300214409828, Best:(0.03262309730052948/0.02078055962920189)\n",
      "Epoch 90 >> Loss: 0.40085216574370863, Bleu: 0.019361434504389763, Test Bleu: 0.0, Best:(0.03262309730052948/0.024605844169855118)\n",
      "Epoch 95 >> Loss: 0.34098793268203736, Bleu: 0.02202741801738739, Test Bleu: 0.02237102948129177, Best:(0.03262309730052948/0.024605844169855118)\n",
      "Epoch 100 >> Loss: 0.29386460445821283, Bleu: 0.0, Test Bleu: 0.027713213115930557, Best:(0.03262309730052948/0.027713213115930557)\n",
      "Reading lines...\n",
      "Read 55667 sentence pairs\n",
      "Trimmed to 19616 sentence pairs\n",
      "Counting words...\n",
      "Counted words:\n",
      "kin 36940\n",
      "eng 11235\n",
      "Reading lines...\n",
      "Read 55667 sentence pairs\n",
      "Trimmed to 19616 sentence pairs\n",
      "Counting words...\n",
      "Counted words:\n",
      "kin 36940\n",
      "eng 11235\n",
      "Epoch 5 >> Loss: 7.368532752990722, Bleu: 0.0, Test Bleu: 0.0, Best:(0/0)\n",
      "Epoch 10 >> Loss: 4.077160263061524, Bleu: 0.0, Test Bleu: 0.0, Best:(0/0)\n",
      "Epoch 15 >> Loss: 2.9006608009338377, Bleu: 0.0, Test Bleu: 0.0, Best:(0/0)\n",
      "Epoch 20 >> Loss: 2.4476925492286683, Bleu: 0.0, Test Bleu: 0.0, Best:(0/0)\n",
      "Epoch 25 >> Loss: 2.1120555639266967, Bleu: 0.0, Test Bleu: 0.0, Best:(0/0)\n",
      "Epoch 30 >> Loss: 1.8016393959522248, Bleu: 0.0, Test Bleu: 0.0, Best:(0/0)\n",
      "Epoch 35 >> Loss: 1.5225955456495286, Bleu: 0.0, Test Bleu: 0.0, Best:(0/0)\n",
      "Epoch 40 >> Loss: 1.2657440915703773, Bleu: 0.0, Test Bleu: 0.0, Best:(0/0)\n",
      "Epoch 45 >> Loss: 1.0378826782107353, Bleu: 0.0, Test Bleu: 0.0053070611320436, Best:(0.004410126246511936/0.0053070611320436)\n",
      "Epoch 50 >> Loss: 0.8258696526288987, Bleu: 0.0045491294004023075, Test Bleu: 0.00863100215792656, Best:(0.0045491294004023075/0.014272629283368587)\n",
      "Epoch 55 >> Loss: 0.6568956688046456, Bleu: 0.0, Test Bleu: 0.0, Best:(0.00719405896961689/0.014272629283368587)\n",
      "Epoch 60 >> Loss: 0.5179729998111725, Bleu: 0.0, Test Bleu: 0.0, Best:(0.00719405896961689/0.014272629283368587)\n",
      "Epoch 65 >> Loss: 0.40147593840956686, Bleu: 0.0, Test Bleu: 0.0, Best:(0.00719405896961689/0.014272629283368587)\n",
      "Epoch 70 >> Loss: 0.31835677549242974, Bleu: 0.01239634957164526, Test Bleu: 0.013368709944188595, Best:(0.01239634957164526/0.014272629283368587)\n",
      "Epoch 75 >> Loss: 0.2540836662054062, Bleu: 0.007729408796876669, Test Bleu: 0.013671468012034893, Best:(0.01239634957164526/0.014272629283368587)\n",
      "Epoch 80 >> Loss: 0.20524918474256992, Bleu: 0.005827226676046848, Test Bleu: 0.004408467561006546, Best:(0.01239634957164526/0.014272629283368587)\n",
      "Epoch 85 >> Loss: 0.170122866332531, Bleu: 0.005395793821662664, Test Bleu: 0.0, Best:(0.016118908300995827/0.014272629283368587)\n",
      "Epoch 90 >> Loss: 0.14008135311305522, Bleu: 0.013587163761258125, Test Bleu: 0.0, Best:(0.016118908300995827/0.014272629283368587)\n",
      "Epoch 95 >> Loss: 0.1164435662329197, Bleu: 0.006953201722353697, Test Bleu: 0.0078379325568676, Best:(0.025517458096146584/0.014272629283368587)\n",
      "Epoch 100 >> Loss: 0.1007776552811265, Bleu: 0.0, Test Bleu: 0.00645213620737195, Best:(0.025517458096146584/0.017312485724687576)\n",
      "Reading lines...\n",
      "Read 15022 sentence pairs\n",
      "Trimmed to 8447 sentence pairs\n",
      "Counting words...\n",
      "Counted words:\n",
      "lug 9684\n",
      "eng 5677\n",
      "Reading lines...\n",
      "Read 15022 sentence pairs\n",
      "Trimmed to 8447 sentence pairs\n",
      "Counting words...\n",
      "Counted words:\n",
      "lug 9684\n",
      "eng 5677\n",
      "Epoch 5 >> Loss: 7.6579773187637326, Bleu: 0.0, Test Bleu: 0.0, Best:(0/0)\n",
      "Epoch 10 >> Loss: 5.321324110031128, Bleu: 0.0, Test Bleu: 0.0, Best:(0/0)\n",
      "Epoch 15 >> Loss: 4.172888386249542, Bleu: 0.0, Test Bleu: 0.0, Best:(0/0)\n",
      "Epoch 20 >> Loss: 3.580986297130585, Bleu: 0.0, Test Bleu: 0.0, Best:(0/0)\n",
      "Epoch 25 >> Loss: 3.116410267353058, Bleu: 0.0, Test Bleu: 0.0, Best:(0/0)\n",
      "Epoch 30 >> Loss: 2.703936034440994, Bleu: 0.0, Test Bleu: 0.0, Best:(0/0.005383825102473908)\n",
      "Epoch 35 >> Loss: 2.326210778951645, Bleu: 0.0, Test Bleu: 0.015881312715032583, Best:(0/0.015881312715032583)\n",
      "Epoch 40 >> Loss: 1.9816263258457183, Bleu: 0.0, Test Bleu: 0.0, Best:(0/0.015881312715032583)\n",
      "Epoch 45 >> Loss: 1.6811535194516183, Bleu: 0.00828874488276754, Test Bleu: 0.015049531359248691, Best:(0.012822982330748117/0.015881312715032583)\n",
      "Epoch 50 >> Loss: 1.4172447949647904, Bleu: 0.009734173397372932, Test Bleu: 0.0, Best:(0.012822982330748117/0.015881312715032583)\n",
      "Epoch 55 >> Loss: 1.183940102159977, Bleu: 0.0, Test Bleu: 0.025121844728323576, Best:(0.024476506512957356/0.025121844728323576)\n",
      "Epoch 60 >> Loss: 0.9786914020776749, Bleu: 0.011368328178642117, Test Bleu: 0.01166624894165948, Best:(0.02466743902778315/0.026055967649767833)\n",
      "Epoch 65 >> Loss: 0.8121918201446533, Bleu: 0.012909464963323876, Test Bleu: 0.007173248762258364, Best:(0.02466743902778315/0.038567332725702265)\n",
      "Epoch 70 >> Loss: 0.6708521708846092, Bleu: 0.0, Test Bleu: 0.015097804961572125, Best:(0.02466743902778315/0.038567332725702265)\n",
      "Epoch 75 >> Loss: 0.5460631020367146, Bleu: 0.02042839234996347, Test Bleu: 0.020074567760847522, Best:(0.025775866582989693/0.038567332725702265)\n",
      "Epoch 80 >> Loss: 0.4627331178635359, Bleu: 0.017506463453173637, Test Bleu: 0.009608696214854717, Best:(0.025775866582989693/0.04688982293009758)\n",
      "Epoch 85 >> Loss: 0.383910233899951, Bleu: 0.0, Test Bleu: 0.013385063968598843, Best:(0.03850649297237396/0.04688982293009758)\n",
      "Epoch 90 >> Loss: 0.32246570512652395, Bleu: 0.009785356931388378, Test Bleu: 0.009970559738576412, Best:(0.03850649297237396/0.04688982293009758)\n",
      "Epoch 95 >> Loss: 0.27539219819009303, Bleu: 0.02726665325462818, Test Bleu: 0.012213471345603466, Best:(0.03850649297237396/0.04688982293009758)\n",
      "Epoch 100 >> Loss: 0.23441817350685595, Bleu: 0.0, Test Bleu: 0.0, Best:(0.03850649297237396/0.04688982293009758)\n"
     ]
    }
   ],
   "source": [
    "langs = ['bem', 'kin', 'lug']\n",
    "\n",
    "for lang in langs:\n",
    "    input_lang, output_lang, train_dataloader, pairs = get_dataloader(batch_size, language=lang)\n",
    "\n",
    "    encoder, decoder, test_pairs = personalize(lang, 100, save=True, encoder_weights=ft_meta_encoder_weights, decoder_weights=ft_meta_decoder_weights, sample=100)"
   ]
  },
  {
   "cell_type": "code",
   "execution_count": 321,
   "metadata": {},
   "outputs": [
    {
     "name": "stdout",
     "output_type": "stream",
     "text": [
      "Reading lines...\n",
      "Read 82370 sentence pairs\n",
      "Trimmed to 25719 sentence pairs\n",
      "Counting words...\n",
      "Counted words:\n",
      "bem 19481\n",
      "eng 5092\n",
      "Reading lines...\n",
      "Read 82370 sentence pairs\n",
      "Trimmed to 25719 sentence pairs\n",
      "Counting words...\n",
      "Counted words:\n",
      "bem 19481\n",
      "eng 5092\n",
      "Epoch 5 >> Loss: 2.533391289972388, Bleu: 0.11117631942033768, Test Bleu: 0.09661664813756943, Best:(0.1467665284872055/0.11440379917621613)\n",
      "Epoch 10 >> Loss: 1.6053250909445687, Bleu: 0.1856374442577362, Test Bleu: 0.1318291872739792, Best:(0.18662051856517792/0.1629309505224228)\n",
      "Epoch 15 >> Loss: 1.2140471017439896, Bleu: 0.2066066861152649, Test Bleu: 0.1401309370994568, Best:(0.21999995410442352/0.1629309505224228)\n",
      "Epoch 20 >> Loss: 0.9653794986861092, Bleu: 0.234907329082489, Test Bleu: 0.16295795142650604, Best:(0.26048076152801514/0.16295795142650604)\n",
      "Epoch 25 >> Loss: 0.7909483602573705, Bleu: 0.3547486364841461, Test Bleu: 0.14942236244678497, Best:(0.3547486364841461/0.16923066973686218)\n",
      "Epoch 30 >> Loss: 0.6631389268113924, Bleu: 0.3495299816131592, Test Bleu: 0.15512143075466156, Best:(0.3547486364841461/0.16923066973686218)\n",
      "Epoch 35 >> Loss: 0.5671366077819933, Bleu: 0.3384741544723511, Test Bleu: 0.12373587489128113, Best:(0.37650150060653687/0.16923066973686218)\n",
      "Epoch 40 >> Loss: 0.49143067195367973, Bleu: 0.36759987473487854, Test Bleu: 0.13622908294200897, Best:(0.4143572151660919/0.16923066973686218)\n",
      "Epoch 45 >> Loss: 0.43092453182733725, Bleu: 0.41728824377059937, Test Bleu: 0.12567828595638275, Best:(0.4190084636211395/0.16923066973686218)\n",
      "Epoch 50 >> Loss: 0.38171770336521027, Bleu: 0.42598116397857666, Test Bleu: 0.1357286423444748, Best:(0.46506914496421814/0.16923066973686218)\n",
      "Epoch 55 >> Loss: 0.340180322775413, Bleu: 0.47307446599006653, Test Bleu: 0.11811554431915283, Best:(0.47307446599006653/0.16923066973686218)\n",
      "Epoch 60 >> Loss: 0.3073437056767188, Bleu: 0.4417942464351654, Test Bleu: 0.12461034953594208, Best:(0.47307446599006653/0.16923066973686218)\n",
      "Epoch 65 >> Loss: 0.27839047457292626, Bleu: 0.49942848086357117, Test Bleu: 0.13122747838497162, Best:(0.49942848086357117/0.16923066973686218)\n",
      "Epoch 70 >> Loss: 0.2567089737501255, Bleu: 0.47467708587646484, Test Bleu: 0.14347967505455017, Best:(0.49942848086357117/0.16923066973686218)\n",
      "Epoch 75 >> Loss: 0.2355132909064673, Bleu: 0.5045139789581299, Test Bleu: 0.1306418776512146, Best:(0.5170649290084839/0.16923066973686218)\n",
      "Epoch 80 >> Loss: 0.21705894380362328, Bleu: 0.5294860005378723, Test Bleu: 0.12062138319015503, Best:(0.5294860005378723/0.16923066973686218)\n",
      "Epoch 85 >> Loss: 0.20313797637919256, Bleu: 0.5407567024230957, Test Bleu: 0.1190563514828682, Best:(0.5407567024230957/0.16923066973686218)\n",
      "Epoch 90 >> Loss: 0.19035199615497922, Bleu: 0.5429815053939819, Test Bleu: 0.10575278103351593, Best:(0.5686277151107788/0.16923066973686218)\n",
      "Epoch 95 >> Loss: 0.17823708738351976, Bleu: 0.509873628616333, Test Bleu: 0.09162464737892151, Best:(0.5748429298400879/0.16923066973686218)\n",
      "Epoch 100 >> Loss: 0.1686258247623412, Bleu: 0.5291606187820435, Test Bleu: 0.13699719309806824, Best:(0.5748429298400879/0.16923066973686218)\n",
      "Reading lines...\n",
      "Read 55667 sentence pairs\n",
      "Trimmed to 19616 sentence pairs\n",
      "Counting words...\n",
      "Counted words:\n",
      "kin 36940\n",
      "eng 11235\n",
      "Reading lines...\n",
      "Read 55667 sentence pairs\n",
      "Trimmed to 19616 sentence pairs\n",
      "Counting words...\n",
      "Counted words:\n",
      "kin 36940\n",
      "eng 11235\n",
      "Epoch 5 >> Loss: 3.5049021721925095, Bleu: 0.0, Test Bleu: 0.0, Best:(0/0)\n",
      "Epoch 10 >> Loss: 2.316816366523959, Bleu: 0.03370119258761406, Test Bleu: 0.011757241562008858, Best:(0.03370119258761406/0.019916711375117302)\n",
      "Epoch 15 >> Loss: 1.5389926989873253, Bleu: 0.06862931698560715, Test Bleu: 0.023184169083833694, Best:(0.10845734179019928/0.023184169083833694)\n",
      "Epoch 20 >> Loss: 1.0614958481331536, Bleu: 0.12194053083658218, Test Bleu: 0.0, Best:(0.15754233300685883/0.023184169083833694)\n",
      "Epoch 25 >> Loss: 0.7499272623353014, Bleu: 0.18638591468334198, Test Bleu: 0.024356691166758537, Best:(0.20002371072769165/0.026738833636045456)\n",
      "Epoch 30 >> Loss: 0.5383946177616619, Bleu: 0.3203393518924713, Test Bleu: 0.015787124633789062, Best:(0.3203393518924713/0.026738833636045456)\n",
      "Epoch 35 >> Loss: 0.39282976183756246, Bleu: 0.2847880423069, Test Bleu: 0.01288564782589674, Best:(0.3203393518924713/0.03029695898294449)\n",
      "Epoch 40 >> Loss: 0.2926851689198698, Bleu: 0.33433350920677185, Test Bleu: 0.013270006515085697, Best:(0.34847086668014526/0.03101077303290367)\n",
      "Epoch 45 >> Loss: 0.22317548863963105, Bleu: 0.39792659878730774, Test Bleu: 0.020941637456417084, Best:(0.39792659878730774/0.03412584215402603)\n",
      "Epoch 50 >> Loss: 0.17396507890233545, Bleu: 0.3883362114429474, Test Bleu: 0.010293571278452873, Best:(0.4171977639198303/0.03412584215402603)\n",
      "Epoch 55 >> Loss: 0.13916684441219745, Bleu: 0.41329240798950195, Test Bleu: 0.03911083936691284, Best:(0.4564010202884674/0.03911083936691284)\n",
      "Epoch 60 >> Loss: 0.11456842589352385, Bleu: 0.4123882055282593, Test Bleu: 0.015348898246884346, Best:(0.4595077633857727/0.03911083936691284)\n",
      "Epoch 65 >> Loss: 0.09671942168331353, Bleu: 0.42405518889427185, Test Bleu: 0.027461573481559753, Best:(0.4595077633857727/0.03911083936691284)\n",
      "Epoch 70 >> Loss: 0.08213039588483459, Bleu: 0.4428822994232178, Test Bleu: 0.023454615846276283, Best:(0.5058377385139465/0.03911083936691284)\n",
      "Epoch 75 >> Loss: 0.07341178335687694, Bleu: 0.4183591902256012, Test Bleu: 0.018829166889190674, Best:(0.5094528198242188/0.03911083936691284)\n",
      "Epoch 80 >> Loss: 0.06451671674182083, Bleu: 0.4192553162574768, Test Bleu: 0.011542796157300472, Best:(0.5094528198242188/0.03911083936691284)\n",
      "Epoch 85 >> Loss: 0.058287372384098625, Bleu: 0.4658099412918091, Test Bleu: 0.011933322995901108, Best:(0.5094528198242188/0.03911083936691284)\n",
      "Epoch 90 >> Loss: 0.05323775126061083, Bleu: 0.4948282241821289, Test Bleu: 0.027099555358290672, Best:(0.5094528198242188/0.03911083936691284)\n",
      "Epoch 95 >> Loss: 0.04906363692459263, Bleu: 0.45422181487083435, Test Bleu: 0.014310621656477451, Best:(0.5388969779014587/0.03911083936691284)\n",
      "Epoch 100 >> Loss: 0.04549977950354093, Bleu: 0.48842599987983704, Test Bleu: 0.027578040957450867, Best:(0.5395488739013672/0.03911083936691284)\n",
      "Reading lines...\n",
      "Read 15022 sentence pairs\n",
      "Trimmed to 8447 sentence pairs\n",
      "Counting words...\n",
      "Counted words:\n",
      "lug 9684\n",
      "eng 5677\n",
      "Reading lines...\n",
      "Read 15022 sentence pairs\n",
      "Trimmed to 8447 sentence pairs\n",
      "Counting words...\n",
      "Counted words:\n",
      "lug 9684\n",
      "eng 5677\n",
      "Epoch 5 >> Loss: 4.177013055443159, Bleu: 0.0131613090634346, Test Bleu: 0.0, Best:(0.0131613090634346/0.011326811276376247)\n",
      "Epoch 10 >> Loss: 2.8651398937109156, Bleu: 0.034935131669044495, Test Bleu: 0.017463508993387222, Best:(0.034935131669044495/0.018745051696896553)\n",
      "Epoch 15 >> Loss: 2.00352510086776, Bleu: 0.0921897441148758, Test Bleu: 0.03151563182473183, Best:(0.0921897441148758/0.03151563182473183)\n",
      "Epoch 20 >> Loss: 1.3937281808877355, Bleu: 0.12608486413955688, Test Bleu: 0.018015068024396896, Best:(0.12608486413955688/0.03151563182473183)\n",
      "Epoch 25 >> Loss: 0.9694945937485864, Bleu: 0.21225297451019287, Test Bleu: 0.029806433245539665, Best:(0.21225297451019287/0.03496202081441879)\n",
      "Epoch 30 >> Loss: 0.6778863023380338, Bleu: 0.2848963141441345, Test Bleu: 0.03783995285630226, Best:(0.2848963141441345/0.03783995285630226)\n",
      "Epoch 35 >> Loss: 0.47554034073340706, Bleu: 0.3725929856300354, Test Bleu: 0.04347430169582367, Best:(0.3725929856300354/0.04347430169582367)\n",
      "Epoch 40 >> Loss: 0.3408130513229951, Bleu: 0.3547168970108032, Test Bleu: 0.02483563870191574, Best:(0.3987739086151123/0.04347430169582367)\n",
      "Epoch 45 >> Loss: 0.24681960073521902, Bleu: 0.43215981125831604, Test Bleu: 0.02211214415729046, Best:(0.4527740776538849/0.04347430169582367)\n",
      "Epoch 50 >> Loss: 0.18287362659794423, Bleu: 0.5043255686759949, Test Bleu: 0.03142430633306503, Best:(0.5043255686759949/0.05668073892593384)\n",
      "Epoch 55 >> Loss: 0.1392710395497719, Bleu: 0.5190631747245789, Test Bleu: 0.04183223843574524, Best:(0.5508162379264832/0.05668073892593384)\n",
      "Epoch 60 >> Loss: 0.11075207440532402, Bleu: 0.5361208319664001, Test Bleu: 0.0381564162671566, Best:(0.555330216884613/0.05668073892593384)\n",
      "Epoch 65 >> Loss: 0.08978726427794106, Bleu: 0.5795440673828125, Test Bleu: 0.05065286532044411, Best:(0.5795440673828125/0.05668073892593384)\n",
      "Epoch 70 >> Loss: 0.07427290785433677, Bleu: 0.5369834303855896, Test Bleu: 0.055239200592041016, Best:(0.5795440673828125/0.05668073892593384)\n",
      "Epoch 75 >> Loss: 0.06301249781727489, Bleu: 0.5966125726699829, Test Bleu: 0.03882906585931778, Best:(0.5966125726699829/0.05668073892593384)\n",
      "Epoch 80 >> Loss: 0.055981816355195745, Bleu: 0.627577543258667, Test Bleu: 0.024866478517651558, Best:(0.627577543258667/0.05668073892593384)\n",
      "Epoch 85 >> Loss: 0.04911011829404964, Bleu: 0.5699904561042786, Test Bleu: 0.03425643593072891, Best:(0.627577543258667/0.05668073892593384)\n",
      "Epoch 90 >> Loss: 0.043213810794395846, Bleu: 0.5546009540557861, Test Bleu: 0.030113043263554573, Best:(0.627577543258667/0.05668073892593384)\n",
      "Epoch 95 >> Loss: 0.03952214908857031, Bleu: 0.6276384592056274, Test Bleu: 0.044573694467544556, Best:(0.6276384592056274/0.05668073892593384)\n",
      "Epoch 100 >> Loss: 0.035506663690817536, Bleu: 0.5871702432632446, Test Bleu: 0.0313982293009758, Best:(0.660061240196228/0.05668073892593384)\n"
     ]
    }
   ],
   "source": [
    "langs = ['bem', 'kin', 'lug']\n",
    "\n",
    "for lang in langs:\n",
    "    input_lang, output_lang, train_dataloader, pairs = get_dataloader(batch_size, language=lang)\n",
    "\n",
    "    encoder, decoder, test_pairs = personalize(lang, 100, save=True, encoder_weights=None, decoder_weights=None, sample=None)"
   ]
  },
  {
   "cell_type": "code",
   "execution_count": 322,
   "metadata": {},
   "outputs": [
    {
     "name": "stdout",
     "output_type": "stream",
     "text": [
      "Reading lines...\n",
      "Read 82370 sentence pairs\n",
      "Trimmed to 25719 sentence pairs\n",
      "Counting words...\n",
      "Counted words:\n",
      "bem 19481\n",
      "eng 5092\n",
      "Reading lines...\n",
      "Read 82370 sentence pairs\n",
      "Trimmed to 25719 sentence pairs\n",
      "Counting words...\n",
      "Counted words:\n",
      "bem 19481\n",
      "eng 5092\n",
      "Epoch 5 >> Loss: 6.797128224372864, Bleu: 0.0, Test Bleu: 0.0, Best:(0/0)\n",
      "Epoch 10 >> Loss: 4.100341749191284, Bleu: 0.0, Test Bleu: 0.0, Best:(0/0)\n",
      "Epoch 15 >> Loss: 3.3996550679206847, Bleu: 0.0, Test Bleu: 0.0, Best:(0/0)\n",
      "Epoch 20 >> Loss: 3.097805458307266, Bleu: 0.0, Test Bleu: 0.0, Best:(0/0)\n",
      "Epoch 25 >> Loss: 2.8388034045696258, Bleu: 0.0, Test Bleu: 0.0, Best:(0/0)\n",
      "Epoch 30 >> Loss: 2.5928813815116882, Bleu: 0.0, Test Bleu: 0.0, Best:(0/0)\n",
      "Epoch 35 >> Loss: 2.3535727679729463, Bleu: 0.0, Test Bleu: 0.0, Best:(0/0)\n",
      "Epoch 40 >> Loss: 2.1276715636253356, Bleu: 0.0, Test Bleu: 0.0, Best:(0/0)\n",
      "Epoch 45 >> Loss: 1.9152377903461457, Bleu: 0.0, Test Bleu: 0.0, Best:(0/0)\n",
      "Epoch 50 >> Loss: 1.7170710533857345, Bleu: 0.0, Test Bleu: 0.0, Best:(0/0)\n",
      "Epoch 55 >> Loss: 1.5304632186889648, Bleu: 0.0, Test Bleu: 0.007940854877233505, Best:(0/0.007940854877233505)\n",
      "Epoch 60 >> Loss: 1.3535576328635215, Bleu: 0.0, Test Bleu: 0.0, Best:(0.007132525090128183/0.010679169557988644)\n",
      "Epoch 65 >> Loss: 1.193776896595955, Bleu: 0.0, Test Bleu: 0.011473165825009346, Best:(0.007132525090128183/0.011473165825009346)\n",
      "Epoch 70 >> Loss: 1.0462450370192529, Bleu: 0.0, Test Bleu: 0.008405406959354877, Best:(0.007132525090128183/0.011473165825009346)\n",
      "Epoch 75 >> Loss: 0.9146042868494988, Bleu: 0.006390923634171486, Test Bleu: 0.00843590684235096, Best:(0.011787970550358295/0.011473165825009346)\n",
      "Epoch 80 >> Loss: 0.7949576370418072, Bleu: 0.0, Test Bleu: 0.0, Best:(0.011787970550358295/0.015282250940799713)\n",
      "Epoch 85 >> Loss: 0.6911225907504559, Bleu: 0.0, Test Bleu: 0.0, Best:(0.011787970550358295/0.015282250940799713)\n",
      "Epoch 90 >> Loss: 0.5944847084581852, Bleu: 0.0, Test Bleu: 0.006270770449191332, Best:(0.013559669256210327/0.015282250940799713)\n",
      "Epoch 95 >> Loss: 0.5112036041915416, Bleu: 0.010076325386762619, Test Bleu: 0.0, Best:(0.013559669256210327/0.015282250940799713)\n",
      "Epoch 100 >> Loss: 0.43557979688048365, Bleu: 0.0, Test Bleu: 0.0, Best:(0.013559669256210327/0.015282250940799713)\n",
      "Reading lines...\n",
      "Read 55667 sentence pairs\n",
      "Trimmed to 19616 sentence pairs\n",
      "Counting words...\n",
      "Counted words:\n",
      "kin 36940\n",
      "eng 11235\n",
      "Reading lines...\n",
      "Read 55667 sentence pairs\n",
      "Trimmed to 19616 sentence pairs\n",
      "Counting words...\n",
      "Counted words:\n",
      "kin 36940\n",
      "eng 11235\n",
      "Epoch 5 >> Loss: 7.031461882591247, Bleu: 0.0, Test Bleu: 0.0, Best:(0/0)\n",
      "Epoch 10 >> Loss: 3.8472381353378298, Bleu: 0.0, Test Bleu: 0.0, Best:(0/0)\n",
      "Epoch 15 >> Loss: 3.035043442249298, Bleu: 0.0, Test Bleu: 0.0, Best:(0/0)\n",
      "Epoch 20 >> Loss: 2.717591142654419, Bleu: 0.0, Test Bleu: 0.0, Best:(0/0)\n",
      "Epoch 25 >> Loss: 2.4970958530902863, Bleu: 0.0, Test Bleu: 0.0, Best:(0/0)\n",
      "Epoch 30 >> Loss: 2.3041890978813173, Bleu: 0.0, Test Bleu: 0.0, Best:(0/0)\n",
      "Epoch 35 >> Loss: 2.1152383774518966, Bleu: 0.0, Test Bleu: 0.0, Best:(0/0)\n",
      "Epoch 40 >> Loss: 1.9220203340053559, Bleu: 0.0, Test Bleu: 0.008836956694722176, Best:(0/0.008836956694722176)\n",
      "Epoch 45 >> Loss: 1.7274000197649002, Bleu: 0.0, Test Bleu: 0.0, Best:(0/0.008836956694722176)\n",
      "Epoch 50 >> Loss: 1.5315141648054122, Bleu: 0.0, Test Bleu: 0.0, Best:(0/0.008836956694722176)\n",
      "Epoch 55 >> Loss: 1.3374647200107574, Bleu: 0.0, Test Bleu: 0.0, Best:(0/0.008836956694722176)\n",
      "Epoch 60 >> Loss: 1.1502630963921547, Bleu: 0.0, Test Bleu: 0.0, Best:(0/0.008836956694722176)\n",
      "Epoch 65 >> Loss: 0.9736724928021431, Bleu: 0.0051513127982616425, Test Bleu: 0.0, Best:(0.013798011466860771/0.010379020124673843)\n",
      "Epoch 70 >> Loss: 0.8157923184335232, Bleu: 0.0, Test Bleu: 0.009598341770470142, Best:(0.013798011466860771/0.010379020124673843)\n",
      "Epoch 75 >> Loss: 0.6821061693131923, Bleu: 0.0, Test Bleu: 0.0, Best:(0.013798011466860771/0.010379020124673843)\n",
      "Epoch 80 >> Loss: 0.5736877724528313, Bleu: 0.0, Test Bleu: 0.0, Best:(0.013798011466860771/0.010379020124673843)\n",
      "Epoch 85 >> Loss: 0.4876392088830471, Bleu: 0.0, Test Bleu: 0.0, Best:(0.019265782088041306/0.010379020124673843)\n",
      "Epoch 90 >> Loss: 0.41920817121863363, Bleu: 0.011595435440540314, Test Bleu: 0.011198869906365871, Best:(0.019265782088041306/0.011198869906365871)\n",
      "Epoch 95 >> Loss: 0.36180160865187644, Bleu: 0.0, Test Bleu: 0.0, Best:(0.019265782088041306/0.011198869906365871)\n",
      "Epoch 100 >> Loss: 0.317063894122839, Bleu: 0.0, Test Bleu: 0.0071606081910431385, Best:(0.019265782088041306/0.011198869906365871)\n",
      "Reading lines...\n",
      "Read 15022 sentence pairs\n",
      "Trimmed to 8447 sentence pairs\n",
      "Counting words...\n",
      "Counted words:\n",
      "lug 9684\n",
      "eng 5677\n",
      "Reading lines...\n",
      "Read 15022 sentence pairs\n",
      "Trimmed to 8447 sentence pairs\n",
      "Counting words...\n",
      "Counted words:\n",
      "lug 9684\n",
      "eng 5677\n",
      "Epoch 5 >> Loss: 7.071751356124878, Bleu: 0.0, Test Bleu: 0.0, Best:(0/0)\n",
      "Epoch 10 >> Loss: 4.584555292129517, Bleu: 0.0, Test Bleu: 0.0, Best:(0/0)\n",
      "Epoch 15 >> Loss: 3.9803792595863343, Bleu: 0.0, Test Bleu: 0.0, Best:(0/0)\n",
      "Epoch 20 >> Loss: 3.6613850951194764, Bleu: 0.0, Test Bleu: 0.0, Best:(0/0)\n",
      "Epoch 25 >> Loss: 3.3675555109977724, Bleu: 0.0, Test Bleu: 0.0, Best:(0/0)\n",
      "Epoch 30 >> Loss: 3.068831926584244, Bleu: 0.0, Test Bleu: 0.0, Best:(0/0)\n",
      "Epoch 35 >> Loss: 2.771984589099884, Bleu: 0.0, Test Bleu: 0.0, Best:(0/0)\n",
      "Epoch 40 >> Loss: 2.4809547066688538, Bleu: 0.0, Test Bleu: 0.0, Best:(0/0)\n",
      "Epoch 45 >> Loss: 2.1978117555379866, Bleu: 0.0, Test Bleu: 0.0, Best:(0/0)\n",
      "Epoch 50 >> Loss: 1.9210188001394273, Bleu: 0.0, Test Bleu: 0.0, Best:(0.009791083633899689/0)\n",
      "Epoch 55 >> Loss: 1.6571329206228256, Bleu: 0.0, Test Bleu: 0.0, Best:(0.009791083633899689/0)\n",
      "Epoch 60 >> Loss: 1.4074074372649192, Bleu: 0.0, Test Bleu: 0.0, Best:(0.009791083633899689/0)\n",
      "Epoch 65 >> Loss: 1.184053462743759, Bleu: 0.0, Test Bleu: 0.0, Best:(0.014550884254276752/0)\n",
      "Epoch 70 >> Loss: 0.9903951942920685, Bleu: 0.0, Test Bleu: 0.006764034740626812, Best:(0.014550884254276752/0.006764034740626812)\n",
      "Epoch 75 >> Loss: 0.8263556666672229, Bleu: 0.0, Test Bleu: 0.0, Best:(0.014550884254276752/0.010950632393360138)\n",
      "Epoch 80 >> Loss: 0.6959044381976127, Bleu: 0.0, Test Bleu: 0.0, Best:(0.014550884254276752/0.012960598804056644)\n",
      "Epoch 85 >> Loss: 0.586490073800087, Bleu: 0.0, Test Bleu: 0.0, Best:(0.014550884254276752/0.012960598804056644)\n",
      "Epoch 90 >> Loss: 0.49639263600111005, Bleu: 0.018736088648438454, Test Bleu: 0.012009948492050171, Best:(0.024407627061009407/0.012960598804056644)\n",
      "Epoch 95 >> Loss: 0.42232749089598653, Bleu: 0.0, Test Bleu: 0.0, Best:(0.024407627061009407/0.012960598804056644)\n",
      "Epoch 100 >> Loss: 0.3596622824668884, Bleu: 0.019904887303709984, Test Bleu: 0.011627133004367352, Best:(0.024407627061009407/0.01509050838649273)\n"
     ]
    }
   ],
   "source": [
    "langs = ['bem', 'kin', 'lug']\n",
    "\n",
    "for lang in langs:\n",
    "    input_lang, output_lang, train_dataloader, pairs = get_dataloader(batch_size, language=lang)\n",
    "\n",
    "    encoder, decoder, test_pairs = personalize(lang, 100, save=True, encoder_weights=None, decoder_weights=None, sample=100)"
   ]
  },
  {
   "cell_type": "code",
   "execution_count": 324,
   "metadata": {},
   "outputs": [
    {
     "name": "stdout",
     "output_type": "stream",
     "text": [
      "Reading lines...\n",
      "Read 29506 sentence pairs\n",
      "Trimmed to 872 sentence pairs\n",
      "Counting words...\n",
      "Counted words:\n",
      "kir 1954\n",
      "eng 1566\n",
      "Reading lines...\n",
      "Read 29506 sentence pairs\n",
      "Trimmed to 872 sentence pairs\n",
      "Counting words...\n",
      "Counted words:\n",
      "kir 1954\n",
      "eng 1566\n",
      "Epoch 5 >> Loss: 4.294888372421265, Bleu: 0.0845878895901942, Test Bleu: 0.07503550499677658, Best:(0.08475242555141449/0.07521585375070572)\n",
      "Epoch 10 >> Loss: 3.087857704162597, Bleu: 0.07980252057313919, Test Bleu: 0.0649627298116684, Best:(0.0967574268579483/0.07521585375070572)\n",
      "Epoch 15 >> Loss: 2.4582161164283756, Bleu: 0.08963023126125336, Test Bleu: 0.07968392223119736, Best:(0.09816891700029373/0.07968392223119736)\n",
      "Epoch 20 >> Loss: 1.9043814027309416, Bleu: 0.1049438938498497, Test Bleu: 0.08781197667121887, Best:(0.11620661616325378/0.08781197667121887)\n",
      "Epoch 25 >> Loss: 1.4426589131355285, Bleu: 0.14083968102931976, Test Bleu: 0.08822551369667053, Best:(0.1463944911956787/0.0935228019952774)\n",
      "Epoch 30 >> Loss: 1.0770999479293824, Bleu: 0.14099206030368805, Test Bleu: 0.08917693793773651, Best:(0.16300053894519806/0.0935228019952774)\n",
      "Epoch 35 >> Loss: 0.799776331782341, Bleu: 0.1939147710800171, Test Bleu: 0.09802374243736267, Best:(0.20794206857681274/0.09802374243736267)\n",
      "Epoch 40 >> Loss: 0.5954750129580498, Bleu: 0.22452440857887268, Test Bleu: 0.09693360328674316, Best:(0.2521875500679016/0.09995222836732864)\n",
      "Epoch 45 >> Loss: 0.455567467212677, Bleu: 0.22228360176086426, Test Bleu: 0.09705938398838043, Best:(0.2688963711261749/0.10428176820278168)\n",
      "Epoch 50 >> Loss: 0.3463781529664993, Bleu: 0.2932397723197937, Test Bleu: 0.09694994240999222, Best:(0.2932397723197937/0.10463828593492508)\n",
      "Epoch 55 >> Loss: 0.2648897176980972, Bleu: 0.3533582091331482, Test Bleu: 0.09881910681724548, Best:(0.3533582091331482/0.10463828593492508)\n",
      "Epoch 60 >> Loss: 0.20557903170585634, Bleu: 0.34101757407188416, Test Bleu: 0.09884408116340637, Best:(0.36439383029937744/0.10463828593492508)\n",
      "Epoch 65 >> Loss: 0.16137562848627568, Bleu: 0.37599462270736694, Test Bleu: 0.10225626826286316, Best:(0.42715805768966675/0.10463828593492508)\n",
      "Epoch 70 >> Loss: 0.12708221912384032, Bleu: 0.44251182675361633, Test Bleu: 0.0992492139339447, Best:(0.4569440186023712/0.10619352012872696)\n",
      "Epoch 75 >> Loss: 0.10214282929897309, Bleu: 0.443045437335968, Test Bleu: 0.10004676133394241, Best:(0.4569440186023712/0.10619352012872696)\n",
      "Epoch 80 >> Loss: 0.08309303574264051, Bleu: 0.4879564642906189, Test Bleu: 0.1041267141699791, Best:(0.5255781412124634/0.10619352012872696)\n",
      "Epoch 85 >> Loss: 0.06909817337989807, Bleu: 0.48875853419303894, Test Bleu: 0.10231418162584305, Best:(0.5255781412124634/0.10630069673061371)\n",
      "Epoch 90 >> Loss: 0.05835512660443783, Bleu: 0.4891737699508667, Test Bleu: 0.10451583564281464, Best:(0.548524796962738/0.11225926131010056)\n",
      "Epoch 95 >> Loss: 0.05070871077477932, Bleu: 0.515106737613678, Test Bleu: 0.11002087593078613, Best:(0.554979145526886/0.11225926131010056)\n",
      "Epoch 100 >> Loss: 0.044301588311791415, Bleu: 0.5312188267707825, Test Bleu: 0.11242905259132385, Best:(0.554979145526886/0.11242905259132385)\n",
      "Reading lines...\n",
      "Read 29506 sentence pairs\n",
      "Trimmed to 872 sentence pairs\n",
      "Counting words...\n",
      "Counted words:\n",
      "kir 1954\n",
      "eng 1566\n",
      "Epoch 5 >> Loss: 5.839345705509186, Bleu: 0.0, Test Bleu: 0.0, Best:(0/0)\n",
      "Epoch 10 >> Loss: 3.8425313591957093, Bleu: 0.0, Test Bleu: 0.0, Best:(0/0)\n",
      "Epoch 15 >> Loss: 3.236847907304764, Bleu: 0.0034113656729459763, Test Bleu: 0.0, Best:(0.0034299290273338556/0.004303307272493839)\n",
      "Epoch 20 >> Loss: 2.8378109097480775, Bleu: 0.004434581380337477, Test Bleu: 0.0, Best:(0.004434581380337477/0.004303307272493839)\n",
      "Epoch 25 >> Loss: 2.4809624671936037, Bleu: 0.0, Test Bleu: 0.0, Best:(0.004434581380337477/0.0065435501746833324)\n",
      "Epoch 30 >> Loss: 2.1457908004522324, Bleu: 0.0, Test Bleu: 0.0, Best:(0.004434581380337477/0.008687825184232877)\n",
      "Epoch 35 >> Loss: 1.8274882584810257, Bleu: 0.007762238642958618, Test Bleu: 0.008199382907170953, Best:(0.008054838847332577/0.015198475163052705)\n",
      "Epoch 40 >> Loss: 1.5304090723395347, Bleu: 0.018941500801913886, Test Bleu: 0.021586119418183822, Best:(0.0285455710027697/0.021586119418183822)\n",
      "Epoch 45 >> Loss: 1.2561919689178467, Bleu: 0.033057231456041336, Test Bleu: 0.060159627348184586, Best:(0.06137777914050737/0.060159627348184586)\n",
      "Epoch 50 >> Loss: 1.0194324284791947, Bleu: 0.08240941166877747, Test Bleu: 0.063897505402565, Best:(0.08240941166877747/0.063897505402565)\n",
      "Epoch 55 >> Loss: 0.8192830391228199, Bleu: 0.05984942615032196, Test Bleu: 0.06880093365907669, Best:(0.08240941166877747/0.07331836968660355)\n",
      "Epoch 60 >> Loss: 0.6596737571060658, Bleu: 0.07130029052495956, Test Bleu: 0.07249606400728226, Best:(0.08240941166877747/0.07331836968660355)\n",
      "Epoch 65 >> Loss: 0.5409014906734229, Bleu: 0.06536971777677536, Test Bleu: 0.07157834619283676, Best:(0.08240941166877747/0.08193787932395935)\n",
      "Epoch 70 >> Loss: 0.44606445357203484, Bleu: 0.04277997091412544, Test Bleu: 0.06357130408287048, Best:(0.08240941166877747/0.08193787932395935)\n",
      "Epoch 75 >> Loss: 0.3721143066883087, Bleu: 0.047430284321308136, Test Bleu: 0.03301820904016495, Best:(0.08240941166877747/0.08193787932395935)\n",
      "Epoch 80 >> Loss: 0.3112582866102457, Bleu: 0.04896601662039757, Test Bleu: 0.03817906603217125, Best:(0.08240941166877747/0.08193787932395935)\n",
      "Epoch 85 >> Loss: 0.26120934560894965, Bleu: 0.043122511357069016, Test Bleu: 0.033936306834220886, Best:(0.08240941166877747/0.08193787932395935)\n",
      "Epoch 90 >> Loss: 0.22080011051148177, Bleu: 0.06129802390933037, Test Bleu: 0.03360088914632797, Best:(0.08240941166877747/0.08193787932395935)\n",
      "Epoch 95 >> Loss: 0.18724537026137114, Bleu: 0.022823186591267586, Test Bleu: 0.036853477358818054, Best:(0.08240941166877747/0.08193787932395935)\n",
      "Epoch 100 >> Loss: 0.1590791441500187, Bleu: 0.03872586041688919, Test Bleu: 0.04262203723192215, Best:(0.08240941166877747/0.08193787932395935)\n"
     ]
    }
   ],
   "source": [
    "input_lang, output_lang, train_dataloader, pairs = get_dataloader(batch_size, language='kir')\n",
    "\n",
    "encoder, decoder, test_pairs = personalize('kir', 100, save=True, encoder_weights=None, decoder_weights=None, sample=None)\n",
    "encoder, decoder, test_pairs = personalize('kir', 100, save=True, encoder_weights=None, decoder_weights=None, sample=100)"
   ]
  },
  {
   "cell_type": "code",
   "execution_count": 325,
   "metadata": {},
   "outputs": [],
   "source": [
    "noweight_encoderft = ft_meta_encoder_weights\n",
    "noweight_decoderft = ft_meta_decoder_weights\n",
    "noweight_encoder = meta_encoder_weights\n",
    "noweight_decoder = meta_decoder_weights"
   ]
  },
  {
   "cell_type": "code",
   "execution_count": 348,
   "metadata": {},
   "outputs": [
    {
     "name": "stdout",
     "output_type": "stream",
     "text": [
      "Reading lines...\n",
      "Read 29506 sentence pairs\n",
      "Trimmed to 872 sentence pairs\n",
      "Counting words...\n",
      "Counted words:\n",
      "kir 1954\n",
      "eng 1566\n",
      "Epoch 5 >> Loss: 7.091353511810302, Bleu: 0.0, Test Bleu: 0.0, Best:(0/0)\n",
      "Epoch 10 >> Loss: 6.328334522247315, Bleu: 0.0, Test Bleu: 0.0, Best:(0/0)\n",
      "Epoch 15 >> Loss: 5.28613052368164, Bleu: 0.0, Test Bleu: 0.0, Best:(0/0)\n",
      "Epoch 20 >> Loss: 4.29144926071167, Bleu: 0.0, Test Bleu: 0.0, Best:(0/0)\n",
      "Epoch 25 >> Loss: 3.5186821937561037, Bleu: 0.0, Test Bleu: 0.0, Best:(0/0)\n",
      "Epoch 30 >> Loss: 2.9056015014648438, Bleu: 0.0, Test Bleu: 0.0, Best:(0/0)\n",
      "Epoch 35 >> Loss: 2.422715997695923, Bleu: 0.0, Test Bleu: 0.0, Best:(0/0)\n",
      "Epoch 40 >> Loss: 2.0179399251937866, Bleu: 0.003873996203765273, Test Bleu: 0.0, Best:(0.00456723477691412/0)\n",
      "Epoch 45 >> Loss: 1.657440185546875, Bleu: 0.00756849953904748, Test Bleu: 0.0, Best:(0.007926229387521744/0.004629823379218578)\n",
      "Epoch 50 >> Loss: 1.349088931083679, Bleu: 0.0, Test Bleu: 0.0, Best:(0.015829095616936684/0.004629823379218578)\n",
      "Epoch 55 >> Loss: 1.0739892244338989, Bleu: 0.015027633868157864, Test Bleu: 0.0, Best:(0.016652589663863182/0.004629823379218578)\n",
      "Epoch 60 >> Loss: 0.8562746286392212, Bleu: 0.014504443854093552, Test Bleu: 0.0, Best:(0.016652589663863182/0.004629823379218578)\n",
      "Epoch 65 >> Loss: 0.6768584370613098, Bleu: 0.004702948033809662, Test Bleu: 0.0, Best:(0.016652589663863182/0.004629823379218578)\n",
      "Epoch 70 >> Loss: 0.5360190629959106, Bleu: 0.010158280842006207, Test Bleu: 0.0, Best:(0.016652589663863182/0.004629823379218578)\n",
      "Epoch 75 >> Loss: 0.432794326543808, Bleu: 0.012723567895591259, Test Bleu: 0.007301741279661655, Best:(0.016652589663863182/0.007455859333276749)\n",
      "Epoch 80 >> Loss: 0.3493535041809082, Bleu: 0.007540207821875811, Test Bleu: 0.007353484630584717, Best:(0.016652589663863182/0.008040307089686394)\n",
      "Epoch 85 >> Loss: 0.2840159058570862, Bleu: 0.010895458981394768, Test Bleu: 0.00760628143325448, Best:(0.016652589663863182/0.008040307089686394)\n",
      "Epoch 90 >> Loss: 0.23489248752593994, Bleu: 0.012987571768462658, Test Bleu: 0.008024902082979679, Best:(0.020235925912857056/0.008273645304143429)\n",
      "Epoch 95 >> Loss: 0.1955012172460556, Bleu: 0.010476366616785526, Test Bleu: 0.008357265032827854, Best:(0.020235925912857056/0.0084464643150568)\n",
      "Epoch 100 >> Loss: 0.16483736038208008, Bleu: 0.012810342013835907, Test Bleu: 0.007932006381452084, Best:(0.020848095417022705/0.0084464643150568)\n"
     ]
    }
   ],
   "source": [
    "encoder, decoder, test_pairs = personalize('kir', 100, save=True, encoder_weights=None, decoder_weights=None, sample=10)"
   ]
  },
  {
   "cell_type": "code",
   "execution_count": 349,
   "metadata": {},
   "outputs": [],
   "source": [
    "lexical_encoderft = ft_meta_encoder_weights\n",
    "lexical_decoderft = ft_meta_decoder_weights\n",
    "lexical_encoder = meta_encoder_weights\n",
    "lexical_decoder = meta_decoder_weights"
   ]
  },
  {
   "cell_type": "code",
   "execution_count": null,
   "metadata": {},
   "outputs": [],
   "source": []
  }
 ],
 "metadata": {
  "kernelspec": {
   "display_name": "Python 3 (ipykernel)",
   "language": "python",
   "name": "python3"
  },
  "language_info": {
   "codemirror_mode": {
    "name": "ipython",
    "version": 3
   },
   "file_extension": ".py",
   "mimetype": "text/x-python",
   "name": "python",
   "nbconvert_exporter": "python",
   "pygments_lexer": "ipython3",
   "version": "3.10.12"
  }
 },
 "nbformat": 4,
 "nbformat_minor": 0
}
