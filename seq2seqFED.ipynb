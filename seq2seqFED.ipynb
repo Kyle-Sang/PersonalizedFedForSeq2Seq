{
 "cells": [
  {
   "cell_type": "code",
   "execution_count": 1,
   "metadata": {
    "collapsed": false
   },
   "outputs": [],
   "source": [
    "# For tips on running notebooks in Google Colab, see\n",
    "# https://pytorch.org/tutorials/beginner/colab\n",
    "%matplotlib inline"
   ]
  },
  {
   "attachments": {},
   "cell_type": "markdown",
   "metadata": {},
   "source": [
    "NLP From Scratch: Translation with a Sequence to Sequence Network and Attention\n",
    "===============================================================================\n",
    "\n",
    "**Author**: [Sean Robertson](https://github.com/spro)\n",
    "\n",
    "This is the third and final tutorial on doing \\\"NLP From Scratch\\\",\n",
    "where we write our own classes and functions to preprocess the data to\n",
    "do our NLP modeling tasks. We hope after you complete this tutorial that\n",
    "you\\'ll proceed to learn how [torchtext]{.title-ref} can handle much of\n",
    "this preprocessing for you in the three tutorials immediately following\n",
    "this one.\n",
    "\n",
    "In this project we will be teaching a neural network to translate from\n",
    "French to English.\n",
    "\n",
    "``` {.sourceCode .sh}\n",
    "[KEY: > input, = target, < output]\n",
    "\n",
    "> il est en train de peindre un tableau .\n",
    "= he is painting a picture .\n",
    "< he is painting a picture .\n",
    "\n",
    "> pourquoi ne pas essayer ce vin delicieux ?\n",
    "= why not try that delicious wine ?\n",
    "< why not try that delicious wine ?\n",
    "\n",
    "> elle n est pas poete mais romanciere .\n",
    "= she is not a poet but a novelist .\n",
    "< she not not a poet but a novelist .\n",
    "\n",
    "> vous etes trop maigre .\n",
    "= you re too skinny .\n",
    "< you re all alone .\n",
    "```\n",
    "\n",
    "\\... to varying degrees of success.\n",
    "\n",
    "This is made possible by the simple but powerful idea of the [sequence\n",
    "to sequence network](https://arxiv.org/abs/1409.3215), in which two\n",
    "recurrent neural networks work together to transform one sequence to\n",
    "another. An encoder network condenses an input sequence into a vector,\n",
    "and a decoder network unfolds that vector into a new sequence.\n",
    "\n",
    "![](https://pytorch.org/tutorials/_static/img/seq-seq-images/seq2seq.png)\n",
    "\n",
    "To improve upon this model we\\'ll use an [attention\n",
    "mechanism](https://arxiv.org/abs/1409.0473), which lets the decoder\n",
    "learn to focus over a specific range of the input sequence.\n",
    "\n",
    "**Recommended Reading:**\n",
    "\n",
    "I assume you have at least installed PyTorch, know Python, and\n",
    "understand Tensors:\n",
    "\n",
    "-   <https://pytorch.org/> For installation instructions\n",
    "-   `/beginner/deep_learning_60min_blitz`{.interpreted-text role=\"doc\"}\n",
    "    to get started with PyTorch in general\n",
    "-   `/beginner/pytorch_with_examples`{.interpreted-text role=\"doc\"} for\n",
    "    a wide and deep overview\n",
    "-   `/beginner/former_torchies_tutorial`{.interpreted-text role=\"doc\"}\n",
    "    if you are former Lua Torch user\n",
    "\n",
    "It would also be useful to know about Sequence to Sequence networks and\n",
    "how they work:\n",
    "\n",
    "-   [Learning Phrase Representations using RNN Encoder-Decoder for\n",
    "    Statistical Machine Translation](https://arxiv.org/abs/1406.1078)\n",
    "-   [Sequence to Sequence Learning with Neural\n",
    "    Networks](https://arxiv.org/abs/1409.3215)\n",
    "-   [Neural Machine Translation by Jointly Learning to Align and\n",
    "    Translate](https://arxiv.org/abs/1409.0473)\n",
    "-   [A Neural Conversational Model](https://arxiv.org/abs/1506.05869)\n",
    "\n",
    "You will also find the previous tutorials on\n",
    "`/intermediate/char_rnn_classification_tutorial`{.interpreted-text\n",
    "role=\"doc\"} and\n",
    "`/intermediate/char_rnn_generation_tutorial`{.interpreted-text\n",
    "role=\"doc\"} helpful as those concepts are very similar to the Encoder\n",
    "and Decoder models, respectively.\n",
    "\n",
    "**Requirements**\n"
   ]
  },
  {
   "cell_type": "code",
   "execution_count": 1,
   "metadata": {
    "collapsed": false
   },
   "outputs": [],
   "source": [
    "from __future__ import unicode_literals, print_function, division\n",
    "from io import open\n",
    "import unicodedata\n",
    "import re\n",
    "import random\n",
    "\n",
    "import torch\n",
    "import torch.nn as nn\n",
    "from torch import optim\n",
    "import torch.nn.functional as F\n",
    "import copy\n",
    "\n",
    "import numpy as np\n",
    "from torch.utils.data import TensorDataset, DataLoader, RandomSampler\n",
    "\n",
    "device = torch.device(\"cuda\" if torch.cuda.is_available() else \"cpu\")"
   ]
  },
  {
   "attachments": {},
   "cell_type": "markdown",
   "metadata": {},
   "source": [
    "Loading data files\n",
    "==================\n",
    "\n",
    "The data for this project is a set of many thousands of English to\n",
    "French translation pairs.\n",
    "\n",
    "[This question on Open Data Stack\n",
    "Exchange](https://opendata.stackexchange.com/questions/3888/dataset-of-sentences-translated-into-many-languages)\n",
    "pointed me to the open translation site <https://tatoeba.org/> which has\n",
    "downloads available at <https://tatoeba.org/eng/downloads> - and better\n",
    "yet, someone did the extra work of splitting language pairs into\n",
    "individual text files here: <https://www.manythings.org/anki/>\n",
    "\n",
    "The English to French pairs are too big to include in the repository, so\n",
    "download to `data/eng-fra.txt` before continuing. The file is a tab\n",
    "separated list of translation pairs:\n",
    "\n",
    "``` {.sourceCode .sh}\n",
    "I am cold.    J'ai froid.\n",
    "```\n",
    "\n",
    "<div style=\"background-color: #54c7ec; color: #fff; font-weight: 700; padding-left: 10px; padding-top: 5px; padding-bottom: 5px\"><strong>NOTE:</strong></div>\n",
    "<div style=\"background-color: #f3f4f7; padding-left: 10px; padding-top: 10px; padding-bottom: 10px; padding-right: 10px\">\n",
    "<p>Download the data from<a href=\"https://download.pytorch.org/tutorial/data.zip\">here</a>and extract it to the current directory.</p>\n",
    "</div>\n"
   ]
  },
  {
   "attachments": {},
   "cell_type": "markdown",
   "metadata": {},
   "source": [
    "Similar to the character encoding used in the character-level RNN\n",
    "tutorials, we will be representing each word in a language as a one-hot\n",
    "vector, or giant vector of zeros except for a single one (at the index\n",
    "of the word). Compared to the dozens of characters that might exist in a\n",
    "language, there are many many more words, so the encoding vector is much\n",
    "larger. We will however cheat a bit and trim the data to only use a few\n",
    "thousand words per language.\n",
    "\n",
    "![](https://pytorch.org/tutorials/_static/img/seq-seq-images/word-encoding.png)\n"
   ]
  },
  {
   "attachments": {},
   "cell_type": "markdown",
   "metadata": {},
   "source": [
    "We\\'ll need a unique index per word to use as the inputs and targets of\n",
    "the networks later. To keep track of all this we will use a helper class\n",
    "called `Lang` which has word → index (`word2index`) and index → word\n",
    "(`index2word`) dictionaries, as well as a count of each word\n",
    "`word2count` which will be used to replace rare words later.\n"
   ]
  },
  {
   "cell_type": "code",
   "execution_count": 2,
   "metadata": {
    "collapsed": false
   },
   "outputs": [],
   "source": [
    "SOS_token = 0\n",
    "EOS_token = 1\n",
    "\n",
    "class Lang:\n",
    "    def __init__(self, name):\n",
    "        self.name = name\n",
    "        self.word2index = {}\n",
    "        self.word2count = {}\n",
    "        self.index2word = {0: \"SOS\", 1: \"EOS\"}\n",
    "        self.n_words = 2  # Count SOS and EOS\n",
    "\n",
    "    def addSentence(self, sentence):\n",
    "        for word in sentence.split(' '):\n",
    "            self.addWord(word)\n",
    "\n",
    "    def addWord(self, word):\n",
    "        if word not in self.word2index:\n",
    "            self.word2index[word] = self.n_words\n",
    "            self.word2count[word] = 1\n",
    "            self.index2word[self.n_words] = word\n",
    "            self.n_words += 1\n",
    "        else:\n",
    "            self.word2count[word] += 1"
   ]
  },
  {
   "attachments": {},
   "cell_type": "markdown",
   "metadata": {},
   "source": [
    "The files are all in Unicode, to simplify we will turn Unicode\n",
    "characters to ASCII, make everything lowercase, and trim most\n",
    "punctuation.\n"
   ]
  },
  {
   "cell_type": "code",
   "execution_count": 3,
   "metadata": {
    "collapsed": false
   },
   "outputs": [],
   "source": [
    "# Turn a Unicode string to plain ASCII, thanks to\n",
    "# https://stackoverflow.com/a/518232/2809427\n",
    "def unicodeToAscii(s):\n",
    "    return ''.join(\n",
    "        c for c in unicodedata.normalize('NFD', s)\n",
    "        if unicodedata.category(c) != 'Mn'\n",
    "    )\n",
    "\n",
    "# Lowercase, trim, and remove non-letter characters\n",
    "def normalizeString(s):\n",
    "    s = unicodeToAscii(s.lower().strip())\n",
    "    s = re.sub(r\"([.!?])\", r\" \\1\", s)\n",
    "    s = re.sub(r\"[^a-zA-Z!?]+\", r\" \", s)\n",
    "    return s.strip()"
   ]
  },
  {
   "attachments": {},
   "cell_type": "markdown",
   "metadata": {},
   "source": [
    "To read the data file we will split the file into lines, and then split\n",
    "lines into pairs. The files are all English → Other Language, so if we\n",
    "want to translate from Other Language → English I added the `reverse`\n",
    "flag to reverse the pairs.\n"
   ]
  },
  {
   "cell_type": "code",
   "execution_count": 4,
   "metadata": {
    "collapsed": false
   },
   "outputs": [],
   "source": [
    "def readLangs(lang1, lang2, reverse=False):\n",
    "    print(\"Reading lines...\")\n",
    "\n",
    "    # Read the file and split into lines\n",
    "    lines = open('data/%s-%s.txt' % (lang1, lang2), encoding='utf-8').\\\n",
    "        read().strip().split('\\n')\n",
    "\n",
    "    # Split every line into pairs and normalize\n",
    "    pairs = [[normalizeString(s) for s in l.split('\\t')] for l in lines]\n",
    "\n",
    "    # Reverse pairs, make Lang instances\n",
    "    if reverse:\n",
    "        pairs = [list(reversed(p)) for p in pairs]\n",
    "        input_lang = Lang(lang2)\n",
    "        output_lang = Lang(lang1)\n",
    "    else:\n",
    "        input_lang = Lang(lang1)\n",
    "        output_lang = Lang(lang2)\n",
    "\n",
    "    return input_lang, output_lang, pairs"
   ]
  },
  {
   "attachments": {},
   "cell_type": "markdown",
   "metadata": {},
   "source": [
    "Since there are a *lot* of example sentences and we want to train\n",
    "something quickly, we\\'ll trim the data set to only relatively short and\n",
    "simple sentences. Here the maximum length is 10 words (that includes\n",
    "ending punctuation) and we\\'re filtering to sentences that translate to\n",
    "the form \\\"I am\\\" or \\\"He is\\\" etc. (accounting for apostrophes replaced\n",
    "earlier).\n"
   ]
  },
  {
   "cell_type": "code",
   "execution_count": 5,
   "metadata": {
    "collapsed": false
   },
   "outputs": [],
   "source": [
    "MAX_LENGTH = 10\n",
    "\n",
    "eng_prefixes = (\n",
    "    \"i am \", \"i m \",\n",
    "    \"he is\", \"he s \",\n",
    "    \"she is\", \"she s \",\n",
    "    \"you are\", \"you re \",\n",
    "    \"we are\", \"we re \",\n",
    "    \"they are\", \"they re \"\n",
    ")\n",
    "\n",
    "def filterPair(p):\n",
    "    return len(p[0].split(' ')) < MAX_LENGTH and \\\n",
    "        len(p[1].split(' ')) < MAX_LENGTH # and \\\n",
    "        # p[1].startswith(eng_prefixes)\n",
    "\n",
    "\n",
    "def filterPairs(pairs):\n",
    "    return [pair for pair in pairs if filterPair(pair)]"
   ]
  },
  {
   "attachments": {},
   "cell_type": "markdown",
   "metadata": {},
   "source": [
    "The full process for preparing the data is:\n",
    "\n",
    "-   Read text file and split into lines, split lines into pairs\n",
    "-   Normalize text, filter by length and content\n",
    "-   Make word lists from sentences in pairs\n"
   ]
  },
  {
   "cell_type": "code",
   "execution_count": 6,
   "metadata": {
    "collapsed": false
   },
   "outputs": [
    {
     "name": "stdout",
     "output_type": "stream",
     "text": [
      "Reading lines...\n",
      "Read 55667 sentence pairs\n",
      "Trimmed to 19616 sentence pairs\n",
      "Counting words...\n",
      "Counted words:\n",
      "kin 36940\n",
      "eng 11235\n",
      "['benshi bateranira buzura inzu barenga muryango ababwira ijambo ryimana', 'straightway gathered insomuch room receive door preached word']\n"
     ]
    }
   ],
   "source": [
    "def prepareData(lang1, lang2, reverse=False):\n",
    "    input_lang, output_lang, pairs = readLangs(lang1, lang2, reverse)\n",
    "    print(\"Read %s sentence pairs\" % len(pairs))\n",
    "    pairs = filterPairs(pairs)\n",
    "    print(\"Trimmed to %s sentence pairs\" % len(pairs))\n",
    "    print(\"Counting words...\")\n",
    "    for pair in pairs:\n",
    "        input_lang.addSentence(pair[0])\n",
    "        output_lang.addSentence(pair[1])\n",
    "    print(\"Counted words:\")\n",
    "    print(input_lang.name, input_lang.n_words)\n",
    "    print(output_lang.name, output_lang.n_words)\n",
    "    return input_lang, output_lang, pairs\n",
    "\n",
    "input_lang, output_lang, pairs = prepareData('eng', 'kin', True)\n",
    "print(random.choice(pairs))"
   ]
  },
  {
   "attachments": {},
   "cell_type": "markdown",
   "metadata": {},
   "source": [
    "The Seq2Seq Model\n",
    "=================\n",
    "\n",
    "A Recurrent Neural Network, or RNN, is a network that operates on a\n",
    "sequence and uses its own output as input for subsequent steps.\n",
    "\n",
    "A [Sequence to Sequence network](https://arxiv.org/abs/1409.3215), or\n",
    "seq2seq network, or [Encoder Decoder\n",
    "network](https://arxiv.org/pdf/1406.1078v3.pdf), is a model consisting\n",
    "of two RNNs called the encoder and decoder. The encoder reads an input\n",
    "sequence and outputs a single vector, and the decoder reads that vector\n",
    "to produce an output sequence.\n",
    "\n",
    "![](https://pytorch.org/tutorials/_static/img/seq-seq-images/seq2seq.png)\n",
    "\n",
    "Unlike sequence prediction with a single RNN, where every input\n",
    "corresponds to an output, the seq2seq model frees us from sequence\n",
    "length and order, which makes it ideal for translation between two\n",
    "languages.\n",
    "\n",
    "Consider the sentence `Je ne suis pas le chat noir` →\n",
    "`I am not the black cat`. Most of the words in the input sentence have a\n",
    "direct translation in the output sentence, but are in slightly different\n",
    "orders, e.g. `chat noir` and `black cat`. Because of the `ne/pas`\n",
    "construction there is also one more word in the input sentence. It would\n",
    "be difficult to produce a correct translation directly from the sequence\n",
    "of input words.\n",
    "\n",
    "With a seq2seq model the encoder creates a single vector which, in the\n",
    "ideal case, encodes the \\\"meaning\\\" of the input sequence into a single\n",
    "vector --- a single point in some N dimensional space of sentences.\n"
   ]
  },
  {
   "attachments": {},
   "cell_type": "markdown",
   "metadata": {},
   "source": [
    "The Encoder\n",
    "===========\n",
    "\n",
    "The encoder of a seq2seq network is a RNN that outputs some value for\n",
    "every word from the input sentence. For every input word the encoder\n",
    "outputs a vector and a hidden state, and uses the hidden state for the\n",
    "next input word.\n",
    "\n",
    "![](https://pytorch.org/tutorials/_static/img/seq-seq-images/encoder-network.png)\n"
   ]
  },
  {
   "cell_type": "code",
   "execution_count": 7,
   "metadata": {
    "collapsed": false
   },
   "outputs": [],
   "source": [
    "class EncoderRNN(nn.Module):\n",
    "    def __init__(self, input_size, hidden_size, dropout_p=0.1):\n",
    "        super(EncoderRNN, self).__init__()\n",
    "        self.hidden_size = hidden_size\n",
    "\n",
    "        self.embedding = nn.Embedding(input_size, hidden_size)\n",
    "        self.gru = nn.GRU(hidden_size, hidden_size, batch_first=True)\n",
    "        self.dropout = nn.Dropout(dropout_p)\n",
    "\n",
    "    def forward(self, input):\n",
    "        embedded = self.dropout(self.embedding(input))\n",
    "        output, hidden = self.gru(embedded)\n",
    "        return output, hidden"
   ]
  },
  {
   "attachments": {},
   "cell_type": "markdown",
   "metadata": {},
   "source": [
    "The Decoder\n",
    "===========\n",
    "\n",
    "The decoder is another RNN that takes the encoder output vector(s) and\n",
    "outputs a sequence of words to create the translation.\n"
   ]
  },
  {
   "attachments": {},
   "cell_type": "markdown",
   "metadata": {},
   "source": [
    "Simple Decoder\n",
    "==============\n",
    "\n",
    "In the simplest seq2seq decoder we use only last output of the encoder.\n",
    "This last output is sometimes called the *context vector* as it encodes\n",
    "context from the entire sequence. This context vector is used as the\n",
    "initial hidden state of the decoder.\n",
    "\n",
    "At every step of decoding, the decoder is given an input token and\n",
    "hidden state. The initial input token is the start-of-string `<SOS>`\n",
    "token, and the first hidden state is the context vector (the encoder\\'s\n",
    "last hidden state).\n",
    "\n",
    "![](https://pytorch.org/tutorials/_static/img/seq-seq-images/decoder-network.png)\n"
   ]
  },
  {
   "cell_type": "code",
   "execution_count": 8,
   "metadata": {
    "collapsed": false
   },
   "outputs": [],
   "source": [
    "class DecoderRNN(nn.Module):\n",
    "    def __init__(self, hidden_size, output_size):\n",
    "        super(DecoderRNN, self).__init__()\n",
    "        self.embedding = nn.Embedding(output_size, hidden_size)\n",
    "        self.gru = nn.GRU(hidden_size, hidden_size, batch_first=True)\n",
    "        self.out = nn.Linear(hidden_size, output_size)\n",
    "\n",
    "    def forward(self, encoder_outputs, encoder_hidden, target_tensor=None):\n",
    "        batch_size = encoder_outputs.size(0)\n",
    "        decoder_input = torch.empty(batch_size, 1, dtype=torch.long, device=device).fill_(SOS_token)\n",
    "        decoder_hidden = encoder_hidden\n",
    "        decoder_outputs = []\n",
    "\n",
    "        for i in range(MAX_LENGTH):\n",
    "            decoder_output, decoder_hidden  = self.forward_step(decoder_input, decoder_hidden)\n",
    "            decoder_outputs.append(decoder_output)\n",
    "\n",
    "            if target_tensor is not None:\n",
    "                # Teacher forcing: Feed the target as the next input\n",
    "                decoder_input = target_tensor[:, i].unsqueeze(1) # Teacher forcing\n",
    "            else:\n",
    "                # Without teacher forcing: use its own predictions as the next input\n",
    "                _, topi = decoder_output.topk(1)\n",
    "                decoder_input = topi.squeeze(-1).detach()  # detach from history as input\n",
    "\n",
    "        decoder_outputs = torch.cat(decoder_outputs, dim=1)\n",
    "        decoder_outputs = F.log_softmax(decoder_outputs, dim=-1)\n",
    "        return decoder_outputs, decoder_hidden, None # We return `None` for consistency in the training loop\n",
    "\n",
    "    def forward_step(self, input, hidden):\n",
    "        output = self.embedding(input)\n",
    "        output = F.relu(output)\n",
    "        output, hidden = self.gru(output, hidden)\n",
    "        output = self.out(output)\n",
    "        return output, hidden"
   ]
  },
  {
   "attachments": {},
   "cell_type": "markdown",
   "metadata": {},
   "source": [
    "I encourage you to train and observe the results of this model, but to\n",
    "save space we\\'ll be going straight for the gold and introducing the\n",
    "Attention Mechanism.\n"
   ]
  },
  {
   "attachments": {},
   "cell_type": "markdown",
   "metadata": {},
   "source": [
    "Attention Decoder\n",
    "=================\n",
    "\n",
    "If only the context vector is passed between the encoder and decoder,\n",
    "that single vector carries the burden of encoding the entire sentence.\n",
    "\n",
    "Attention allows the decoder network to \\\"focus\\\" on a different part of\n",
    "the encoder\\'s outputs for every step of the decoder\\'s own outputs.\n",
    "First we calculate a set of *attention weights*. These will be\n",
    "multiplied by the encoder output vectors to create a weighted\n",
    "combination. The result (called `attn_applied` in the code) should\n",
    "contain information about that specific part of the input sequence, and\n",
    "thus help the decoder choose the right output words.\n",
    "\n",
    "![](https://i.imgur.com/1152PYf.png)\n",
    "\n",
    "Calculating the attention weights is done with another feed-forward\n",
    "layer `attn`, using the decoder\\'s input and hidden state as inputs.\n",
    "Because there are sentences of all sizes in the training data, to\n",
    "actually create and train this layer we have to choose a maximum\n",
    "sentence length (input length, for encoder outputs) that it can apply\n",
    "to. Sentences of the maximum length will use all the attention weights,\n",
    "while shorter sentences will only use the first few.\n",
    "\n",
    "![](https://pytorch.org/tutorials/_static/img/seq-seq-images/attention-decoder-network.png)\n",
    "\n",
    "Bahdanau attention, also known as additive attention, is a commonly used\n",
    "attention mechanism in sequence-to-sequence models, particularly in\n",
    "neural machine translation tasks. It was introduced by Bahdanau et al.\n",
    "in their paper titled [Neural Machine Translation by Jointly Learning to\n",
    "Align and Translate](https://arxiv.org/pdf/1409.0473.pdf). This\n",
    "attention mechanism employs a learned alignment model to compute\n",
    "attention scores between the encoder and decoder hidden states. It\n",
    "utilizes a feed-forward neural network to calculate alignment scores.\n",
    "\n",
    "However, there are alternative attention mechanisms available, such as\n",
    "Luong attention, which computes attention scores by taking the dot\n",
    "product between the decoder hidden state and the encoder hidden states.\n",
    "It does not involve the non-linear transformation used in Bahdanau\n",
    "attention.\n",
    "\n",
    "In this tutorial, we will be using Bahdanau attention. However, it would\n",
    "be a valuable exercise to explore modifying the attention mechanism to\n",
    "use Luong attention.\n"
   ]
  },
  {
   "cell_type": "code",
   "execution_count": 9,
   "metadata": {
    "collapsed": false
   },
   "outputs": [],
   "source": [
    "class BahdanauAttention(nn.Module):\n",
    "    def __init__(self, hidden_size):\n",
    "        super(BahdanauAttention, self).__init__()\n",
    "        self.Wa = nn.Linear(hidden_size, hidden_size)\n",
    "        self.Ua = nn.Linear(hidden_size, hidden_size)\n",
    "        self.Va = nn.Linear(hidden_size, 1)\n",
    "\n",
    "    def forward(self, query, keys):\n",
    "        scores = self.Va(torch.tanh(self.Wa(query) + self.Ua(keys)))\n",
    "        scores = scores.squeeze(2).unsqueeze(1)\n",
    "\n",
    "        weights = F.softmax(scores, dim=-1)\n",
    "        context = torch.bmm(weights, keys)\n",
    "\n",
    "        return context, weights\n",
    "\n",
    "class AttnDecoderRNN(nn.Module):\n",
    "    def __init__(self, hidden_size, output_size, dropout_p=0.1):\n",
    "        super(AttnDecoderRNN, self).__init__()\n",
    "        self.embedding = nn.Embedding(output_size, hidden_size)\n",
    "        self.attention = BahdanauAttention(hidden_size)\n",
    "        self.gru = nn.GRU(2 * hidden_size, hidden_size, batch_first=True)\n",
    "        self.out = nn.Linear(hidden_size, output_size)\n",
    "        self.dropout = nn.Dropout(dropout_p)\n",
    "\n",
    "    def forward(self, encoder_outputs, encoder_hidden, target_tensor=None):\n",
    "        batch_size = encoder_outputs.size(0)\n",
    "        decoder_input = torch.empty(batch_size, 1, dtype=torch.long, device=device).fill_(SOS_token)\n",
    "        decoder_hidden = encoder_hidden\n",
    "        decoder_outputs = []\n",
    "        attentions = []\n",
    "\n",
    "        for i in range(MAX_LENGTH):\n",
    "            decoder_output, decoder_hidden, attn_weights = self.forward_step(\n",
    "                decoder_input, decoder_hidden, encoder_outputs\n",
    "            )\n",
    "            decoder_outputs.append(decoder_output)\n",
    "            attentions.append(attn_weights)\n",
    "\n",
    "            if target_tensor is not None:\n",
    "                # Teacher forcing: Feed the target as the next input\n",
    "                decoder_input = target_tensor[:, i].unsqueeze(1) # Teacher forcing\n",
    "            else:\n",
    "                # Without teacher forcing: use its own predictions as the next input\n",
    "                _, topi = decoder_output.topk(1)\n",
    "                decoder_input = topi.squeeze(-1).detach()  # detach from history as input\n",
    "\n",
    "        decoder_outputs = torch.cat(decoder_outputs, dim=1)\n",
    "        decoder_outputs = F.log_softmax(decoder_outputs, dim=-1)\n",
    "        attentions = torch.cat(attentions, dim=1)\n",
    "\n",
    "        return decoder_outputs, decoder_hidden, attentions\n",
    "\n",
    "\n",
    "    def forward_step(self, input, hidden, encoder_outputs):\n",
    "        embedded =  self.dropout(self.embedding(input))\n",
    "\n",
    "        query = hidden.permute(1, 0, 2)\n",
    "        context, attn_weights = self.attention(query, encoder_outputs)\n",
    "        input_gru = torch.cat((embedded, context), dim=2)\n",
    "\n",
    "        output, hidden = self.gru(input_gru, hidden)\n",
    "        output = self.out(output)\n",
    "\n",
    "        return output, hidden, attn_weights"
   ]
  },
  {
   "cell_type": "code",
   "execution_count": 10,
   "metadata": {},
   "outputs": [],
   "source": [
    "class EncoderMetaModel(nn.Module):\n",
    "    def __init__(self, encoders_dict, decoders_dict):\n",
    "        super(EncoderMetaModel, self).__init__()\n",
    "        self.encoders_dict = nn.ModuleDict(encoders_dict)\n",
    "        self.decoders_dict = nn.ModuleDict(decoders_dict)\n",
    "        self.encoder_weights = nn.Parameter(torch.ones(len(encoders_dict)) / len(encoders_dict))\n",
    "        self.decoder_weights = nn.Parameter(torch.ones(len(decoders_dict)) / len(decoders_dict))\n",
    "    \n",
    "    def forward(self, x):\n",
    "        encoder_combined_output = 0\n",
    "        w_encoder = []\n",
    "        # w_encoder.append({key: value for key, value in copy.deepcopy(encoder_weights).items() if 'embedding' not in key})\n",
    "        # w_decoder.append({key: value for key, value in copy.deepcopy(decoder_weights).items() if 'embedding' not in key and 'out' not in key})\n",
    "        for i, encoder in enumerate(self.encoders_dict.values()):\n",
    "            encoder_combined_output += self.encoder_weights[i] * encoder(x)\n",
    "        \n",
    "        decoder_combined_output = 0\n",
    "        for i, decoder in enumerate(self.decoders_dict.values()):\n",
    "            decoder_combined_output += self.decoder_weights[i] * decoder(encoder_combined_output)\n",
    "        \n",
    "        return decoder_combined_output"
   ]
  },
  {
   "attachments": {},
   "cell_type": "markdown",
   "metadata": {},
   "source": [
    "<div style=\"background-color: #54c7ec; color: #fff; font-weight: 700; padding-left: 10px; padding-top: 5px; padding-bottom: 5px\"><strong>NOTE:</strong></div>\n",
    "<div style=\"background-color: #f3f4f7; padding-left: 10px; padding-top: 10px; padding-bottom: 10px; padding-right: 10px\">\n",
    "<p>There are other forms of attention that work around the lengthlimitation by using a relative position approach. Read about \"localattention\" in <a href=\"https://arxiv.org/abs/1508.04025\">Effective Approaches to Attention-based Neural MachineTranslation</a>.</p>\n",
    "</div>\n",
    "\n",
    "Training\n",
    "========\n",
    "\n",
    "Preparing Training Data\n",
    "-----------------------\n",
    "\n",
    "To train, for each pair we will need an input tensor (indexes of the\n",
    "words in the input sentence) and target tensor (indexes of the words in\n",
    "the target sentence). While creating these vectors we will append the\n",
    "EOS token to both sequences.\n"
   ]
  },
  {
   "cell_type": "code",
   "execution_count": 11,
   "metadata": {
    "collapsed": false
   },
   "outputs": [],
   "source": [
    "def indexesFromSentence(lang, sentence):\n",
    "    return [lang.word2index[word] for word in sentence.split(' ')]\n",
    "\n",
    "def tensorFromSentence(lang, sentence):\n",
    "    indexes = indexesFromSentence(lang, sentence)\n",
    "    indexes.append(EOS_token)\n",
    "    return torch.tensor(indexes, dtype=torch.long, device=device).view(1, -1)\n",
    "\n",
    "def tensorsFromPair(pair):\n",
    "    input_tensor = tensorFromSentence(input_lang, pair[0])\n",
    "    target_tensor = tensorFromSentence(output_lang, pair[1])\n",
    "    return (input_tensor, target_tensor)\n",
    "\n",
    "def get_dataloader(batch_size, language='spa'):\n",
    "    input_lang, output_lang, pairs = prepareData('eng', language, True)\n",
    "\n",
    "    n = len(pairs)\n",
    "    input_ids = np.zeros((n, MAX_LENGTH), dtype=np.int32)\n",
    "    target_ids = np.zeros((n, MAX_LENGTH), dtype=np.int32)\n",
    "\n",
    "    for idx, (inp, tgt) in enumerate(pairs):\n",
    "        inp_ids = indexesFromSentence(input_lang, inp)\n",
    "        tgt_ids = indexesFromSentence(output_lang, tgt)\n",
    "        inp_ids.append(EOS_token)\n",
    "        tgt_ids.append(EOS_token)\n",
    "        input_ids[idx, :len(inp_ids)] = inp_ids\n",
    "        target_ids[idx, :len(tgt_ids)] = tgt_ids\n",
    "\n",
    "    indices_tensor = torch.arange(n)\n",
    "\n",
    "    train_data = TensorDataset(torch.LongTensor(input_ids).to(device),\n",
    "                               torch.LongTensor(target_ids).to(device),\n",
    "                               indices_tensor.to(device))\n",
    "\n",
    "    train_sampler = RandomSampler(train_data)\n",
    "    train_dataloader = DataLoader(train_data, sampler=train_sampler, batch_size=batch_size)\n",
    "    return input_lang, output_lang, train_dataloader, pairs"
   ]
  },
  {
   "attachments": {},
   "cell_type": "markdown",
   "metadata": {},
   "source": [
    "Training the Model\n",
    "==================\n",
    "\n",
    "To train we run the input sentence through the encoder, and keep track\n",
    "of every output and the latest hidden state. Then the decoder is given\n",
    "the `<SOS>` token as its first input, and the last hidden state of the\n",
    "encoder as its first hidden state.\n",
    "\n",
    "\\\"Teacher forcing\\\" is the concept of using the real target outputs as\n",
    "each next input, instead of using the decoder\\'s guess as the next\n",
    "input. Using teacher forcing causes it to converge faster but [when the\n",
    "trained network is exploited, it may exhibit\n",
    "instability](http://citeseerx.ist.psu.edu/viewdoc/download?doi=10.1.1.378.4095&rep=rep1&type=pdf).\n",
    "\n",
    "You can observe outputs of teacher-forced networks that read with\n",
    "coherent grammar but wander far from the correct translation\n",
    "-intuitively it has learned to represent the output grammar and can\n",
    "\\\"pick up\\\" the meaning once the teacher tells it the first few words,\n",
    "but it has not properly learned how to create the sentence from the\n",
    "translation in the first place.\n",
    "\n",
    "Because of the freedom PyTorch\\'s autograd gives us, we can randomly\n",
    "choose to use teacher forcing or not with a simple if statement. Turn\n",
    "`teacher_forcing_ratio` up to use more of it.\n"
   ]
  },
  {
   "cell_type": "code",
   "execution_count": 12,
   "metadata": {
    "collapsed": false
   },
   "outputs": [],
   "source": [
    "def train_epoch(dataloader, encoder, decoder, encoder_optimizer,\n",
    "          decoder_optimizer, criterion):\n",
    "\n",
    "    total_loss = 0\n",
    "    for data in dataloader:\n",
    "        input_tensor, target_tensor, _ = data\n",
    "\n",
    "        encoder_optimizer.zero_grad()\n",
    "        decoder_optimizer.zero_grad()\n",
    "\n",
    "        encoder_outputs, encoder_hidden = encoder(input_tensor)\n",
    "        decoder_outputs, _, _ = decoder(encoder_outputs, encoder_hidden, target_tensor)\n",
    "\n",
    "        loss = criterion(\n",
    "            decoder_outputs.view(-1, decoder_outputs.size(-1)),\n",
    "            target_tensor.view(-1)\n",
    "        )\n",
    "        loss.backward()\n",
    "\n",
    "        encoder_optimizer.step()\n",
    "        decoder_optimizer.step()\n",
    "\n",
    "        total_loss += loss.item()\n",
    "\n",
    "    return total_loss / len(dataloader)"
   ]
  },
  {
   "attachments": {},
   "cell_type": "markdown",
   "metadata": {},
   "source": [
    "This is a helper function to print time elapsed and estimated time\n",
    "remaining given the current time and progress %.\n"
   ]
  },
  {
   "cell_type": "code",
   "execution_count": 13,
   "metadata": {
    "collapsed": false
   },
   "outputs": [],
   "source": [
    "import time\n",
    "import math\n",
    "\n",
    "def asMinutes(s):\n",
    "    m = math.floor(s / 60)\n",
    "    s -= m * 60\n",
    "    return '%dm %ds' % (m, s)\n",
    "\n",
    "def timeSince(since, percent):\n",
    "    now = time.time()\n",
    "    s = now - since\n",
    "    es = s / (percent)\n",
    "    rs = es - s\n",
    "    return '%s (- %s)' % (asMinutes(s), asMinutes(rs))"
   ]
  },
  {
   "cell_type": "code",
   "execution_count": 14,
   "metadata": {},
   "outputs": [],
   "source": [
    "class ClientUpdate(object):\n",
    "    def __init__(self, train_dataloader, learning_rate, epochs, sch_flag):\n",
    "        self.train_loader = train_dataloader\n",
    "        self.learning_rate = learning_rate\n",
    "        self.epochs = epochs\n",
    "        self.sch_flag = sch_flag\n",
    "\n",
    "    def train(self, encoder, decoder):\n",
    "\n",
    "        criterion = nn.CrossEntropyLoss()\n",
    "        # optimizer = torch.optim.SGD(model.parameters(), lr=self.learning_rate, momentum=0.95, weight_decay = 5e-4)\n",
    "        encoder_optimizer = optim.Adam(encoder.parameters(), lr=self.learning_rate)\n",
    "        decoder_optimizer = optim.Adam(decoder.parameters(), lr=self.learning_rate)\n",
    "        # if self.sch_flag == True:\n",
    "        #    scheduler = torch.optim.lr_scheduler.ReduceLROnPlateau(optimizer, mode='min', factor=0.5)\n",
    "        # my_lr_scheduler = torch.optim.lr_scheduler.StepLR(optimizer, step_size=1, gamma=0.99)\n",
    "        e_loss = []\n",
    "        for epoch in range(1, self.epochs + 1):\n",
    "            loss = train_epoch(self.train_loader, encoder, decoder, encoder_optimizer, decoder_optimizer, criterion)\n",
    "            e_loss.append(loss)\n",
    "\n",
    "            # print_loss_total += loss\n",
    "            # plot_loss_total += loss\n",
    "\n",
    "            # if epoch % print_every == 0:\n",
    "            #     print_loss_avg = print_loss_total / print_every\n",
    "            #     print_loss_total = 0\n",
    "            #     print('%s (%d %d%%) %.4f' % (timeSince(start, epoch / n_epochs),\n",
    "            #                                 epoch, epoch / n_epochs * 100, print_loss_avg))\n",
    "\n",
    "            # if epoch % plot_every == 0:\n",
    "            #     plot_loss_avg = plot_loss_total / plot_every\n",
    "            #     plot_losses.append(plot_loss_avg)\n",
    "            #     plot_loss_total = 0\n",
    "\n",
    "            total_loss = sum(e_loss) / len(e_loss)\n",
    "\n",
    "        return encoder.state_dict(), decoder.state_dict(), total_loss, torch.tensor(len(self.train_loader.sampler))"
   ]
  },
  {
   "attachments": {},
   "cell_type": "markdown",
   "metadata": {},
   "source": [
    "The whole training process looks like this:\n",
    "\n",
    "-   Start a timer\n",
    "-   Initialize optimizers and criterion\n",
    "-   Create set of training pairs\n",
    "-   Start empty losses array for plotting\n",
    "\n",
    "Then we call `train` many times and occasionally print the progress (%\n",
    "of examples, time so far, estimated time) and average loss.\n"
   ]
  },
  {
   "cell_type": "code",
   "execution_count": 15,
   "metadata": {},
   "outputs": [],
   "source": [
    "from torchtext.data.metrics import bleu_score\n",
    "def evaluateBleu(encoder, decoder, input_lang, output_lang, pairs, n=10, verbose=False):\n",
    "    references = []\n",
    "    candidates = []\n",
    "\n",
    "    numbers = random.sample(range(len(pairs)), n)\n",
    "\n",
    "    for num in numbers:\n",
    "        pair = pairs[num]\n",
    "        output_words, _ = evaluate(encoder, decoder, pair[0], input_lang, output_lang)\n",
    "        output_sentence = ' '.join(output_words).split(' ')\n",
    "        if verbose:\n",
    "            print('>', pair[0])\n",
    "            print('=', pair[1])\n",
    "            print('<', ' '.join(output_sentence))\n",
    "            print('')\n",
    "\n",
    "        # Store the reference and candidate sentences for BLEU calculation\n",
    "        references.append([pair[1].split(' ')])\n",
    "        candidates.append(output_sentence)\n",
    "\n",
    "    # Calculate the BLEU score\n",
    "    score = bleu_score(candidates, references)\n",
    "    return score"
   ]
  },
  {
   "cell_type": "code",
   "execution_count": 16,
   "metadata": {
    "collapsed": false
   },
   "outputs": [],
   "source": [
    "import csv\n",
    "def train(train_dataloader, encoder, decoder, n_epochs, input, output, pairs, test_pairs=None, filename=None, learning_rate=0.001,\n",
    "               print_every=100, plot_every=100):\n",
    "    start = time.time()\n",
    "    plot_losses = []\n",
    "    print_loss_total = 0  # Reset every print_every\n",
    "    plot_loss_total = 0  # Reset every plot_every\n",
    "    best_bleu = 0\n",
    "    best_test_bleu = 0\n",
    "\n",
    "    encoder_optimizer = optim.Adam(encoder.parameters(), lr=learning_rate)\n",
    "    decoder_optimizer = optim.Adam(decoder.parameters(), lr=learning_rate)\n",
    "    criterion = nn.NLLLoss()\n",
    "\n",
    "    for epoch in range(1, n_epochs + 1):\n",
    "        loss = train_epoch(train_dataloader, encoder, decoder, encoder_optimizer, decoder_optimizer, criterion)\n",
    "        print_loss_total += loss\n",
    "        plot_loss_total += loss\n",
    "\n",
    "        bleu = evaluateBleu(encoder, decoder, input, output, pairs, n=min(200,len(pairs)))\n",
    "        if test_pairs is not None:\n",
    "            test_bleu = evaluateBleu(encoder, decoder, input, output, test_pairs, n=min(200,len(test_pairs)))\n",
    "        else:\n",
    "            test_bleu = 0\n",
    "\n",
    "        if best_bleu < bleu:\n",
    "            best_bleu = bleu\n",
    "        \n",
    "        if best_test_bleu < test_bleu:\n",
    "            best_test_bleu = test_bleu\n",
    "\n",
    "        if epoch % print_every == 0:\n",
    "            print_loss_avg = print_loss_total / print_every\n",
    "            print_loss_total = 0\n",
    "            print(f'Epoch {epoch} >> Loss: {print_loss_avg}, Bleu: {bleu}, Test Bleu: {test_bleu}, Best:({best_bleu}/{best_test_bleu})')\n",
    "\n",
    "        if epoch % plot_every == 0:\n",
    "            plot_loss_avg = plot_loss_total / plot_every\n",
    "            plot_losses.append(plot_loss_avg)\n",
    "            plot_loss_total = 0\n",
    "\n",
    "\n",
    "        if filename is not None:\n",
    "            with open(filename, 'a') as f:\n",
    "                # create the csv writer\n",
    "                writer = csv.writer(f)\n",
    "\n",
    "                # write a row to the csv file\n",
    "                writer.writerow([epoch, loss, bleu, best_bleu, test_bleu, best_test_bleu])\n",
    "\n",
    "    showPlot(plot_losses)"
   ]
  },
  {
   "cell_type": "code",
   "execution_count": 17,
   "metadata": {},
   "outputs": [],
   "source": [
    "import csv\n",
    "def train_frozen(train_dataloader, encoder, decoder, e_dict, d_dict, n_epochs, input, output, pairs, test_pairs=None, filename=None, learning_rate=0.001,\n",
    "               print_every=100, plot_every=100):\n",
    "    start = time.time()\n",
    "    plot_losses = []\n",
    "    print_loss_total = 0  # Reset every print_every\n",
    "    plot_loss_total = 0  # Reset every plot_every\n",
    "    best_bleu = 0\n",
    "    best_test_bleu = 0\n",
    "\n",
    "    encoder_optimizer = optim.Adam(encoder.parameters(), lr=learning_rate)\n",
    "    decoder_optimizer = optim.Adam(decoder.parameters(), lr=learning_rate)\n",
    "    criterion = nn.NLLLoss()\n",
    "\n",
    "    for epoch in range(1, n_epochs + 1):\n",
    "        loss = train_epoch(train_dataloader, encoder, decoder, encoder_optimizer, decoder_optimizer, criterion)\n",
    "        \n",
    "        e_og = encoder.state_dict()\n",
    "        d_og = decoder.state_dict()\n",
    "        e_og.update(e_dict)\n",
    "        d_og.update(d_dict)\n",
    "        encoder.load_state_dict(e_og)\n",
    "        decoder.load_state_dict(d_og)\n",
    "\n",
    "        is_FL = 'true'\n",
    "        print_loss_total += loss\n",
    "        plot_loss_total += loss\n",
    "\n",
    "        bleu = evaluateBleu(encoder, decoder, input, output, pairs, n=min(200,len(pairs)))\n",
    "        if test_pairs is not None:\n",
    "            test_bleu = evaluateBleu(encoder, decoder, input, output, test_pairs, n=min(200,len(test_pairs)))\n",
    "        else:\n",
    "            test_bleu = 0\n",
    "\n",
    "        if best_bleu < bleu:\n",
    "            best_bleu = bleu\n",
    "        \n",
    "        if best_test_bleu < test_bleu:\n",
    "            best_test_bleu = test_bleu\n",
    "\n",
    "        if epoch % print_every == 0:\n",
    "            print_loss_avg = print_loss_total / print_every\n",
    "            print_loss_total = 0\n",
    "            print(f'Epoch {epoch} >> Loss: {print_loss_avg}, Bleu: {bleu}, Test Bleu: {test_bleu}, Best:({best_bleu}/{best_test_bleu})')\n",
    "\n",
    "        if epoch % plot_every == 0:\n",
    "            plot_loss_avg = plot_loss_total / plot_every\n",
    "            plot_losses.append(plot_loss_avg)\n",
    "            plot_loss_total = 0\n",
    "\n",
    "\n",
    "        if filename is not None:\n",
    "            with open(filename, 'a') as f:\n",
    "                # create the csv writer\n",
    "                writer = csv.writer(f)\n",
    "\n",
    "                # write a row to the csv file\n",
    "                writer.writerow([epoch, loss, bleu, best_bleu, test_bleu, best_test_bleu])\n",
    "\n",
    "    showPlot(plot_losses)"
   ]
  },
  {
   "cell_type": "code",
   "execution_count": 18,
   "metadata": {},
   "outputs": [],
   "source": [
    "hidden_size = 128\n",
    "batch_size = 32"
   ]
  },
  {
   "cell_type": "code",
   "execution_count": 19,
   "metadata": {},
   "outputs": [],
   "source": [
    "def get_pair_index(dataloader):\n",
    "    shuffled_indices = []\n",
    "    for _, _, indices in dataloader:\n",
    "        shuffled_indices.extend(indices.tolist())\n",
    "    return shuffled_indices\n",
    "from torch.utils.data import DataLoader, SubsetRandomSampler\n",
    "\n",
    "def split_dataloader(dataloader, train_fraction=0.75):\n",
    "    # Total number of samples in the dataloader\n",
    "    dataset_size = len(dataloader.dataset)\n",
    "    \n",
    "    # Indices of all elements in the dataset\n",
    "    indices = list(range(dataset_size))\n",
    "    \n",
    "    # Shuffle indices\n",
    "    np.random.shuffle(indices)\n",
    "    \n",
    "    # Determine the split point\n",
    "    split = int(np.floor(train_fraction * dataset_size))\n",
    "    \n",
    "    # Create training and test samplers\n",
    "    train_indices, test_indices = indices[:split], indices[split:]\n",
    "    train_sampler = SubsetRandomSampler(train_indices)\n",
    "    test_sampler = SubsetRandomSampler(test_indices)\n",
    "    \n",
    "    # Create training and test dataloaders\n",
    "    train_loader = DataLoader(dataloader.dataset, batch_size=dataloader.batch_size, \n",
    "                              sampler=train_sampler, drop_last=True)\n",
    "    test_loader = DataLoader(dataloader.dataset, batch_size=dataloader.batch_size, \n",
    "                             sampler=test_sampler, drop_last=True)\n",
    "    \n",
    "    return train_loader, test_loader, split\n",
    "\n",
    "import torch\n",
    "from torch.utils.data import DataLoader, Subset\n",
    "\n",
    "def limited_data_loader(original_dataloader, num_samples, split, random=False):\n",
    "    # Get the original dataset from the DataLoader\n",
    "    dataset_size = len(original_dataloader.sampler.indices)\n",
    "    dataset = original_dataloader.dataset\n",
    "    \n",
    "    # Ensure the original dataset is larger than the requested number of samples\n",
    "    assert dataset_size >= num_samples, f\"The original dataset has fewer samples than requested {dataset_size}\"\n",
    "    \n",
    "    # Create a Subset of the original dataset limited to the first num_samples elements\n",
    "    indices = original_dataloader.sampler.indices\n",
    "\n",
    "    if random:\n",
    "        # indices = np.random.choice(len(dataset), num_samples, replace=False)\n",
    "        np.random.shuffle(indices)\n",
    "    else:\n",
    "        # indices = range(num_samples)\n",
    "        print(\"no shuffle\")\n",
    "\n",
    "    # subset = Subset(dataset, indices)\n",
    "    train_indices = indices[:num_samples]\n",
    "    train_sampler = SubsetRandomSampler(train_indices)\n",
    "\n",
    "    # Create a new DataLoader from this subset with the same parameters as the original DataLoader\n",
    "    # new_dataloader = DataLoader(subset, batch_size=original_dataloader.batch_size, shuffle=False, num_workers=original_dataloader.num_workers)\n",
    "    new_dataloader = DataLoader(original_dataloader.dataset, batch_size=original_dataloader.batch_size, \n",
    "                            sampler=train_sampler, drop_last=True)\n",
    "    \n",
    "    return new_dataloader\n"
   ]
  },
  {
   "cell_type": "code",
   "execution_count": 20,
   "metadata": {},
   "outputs": [],
   "source": [
    "import os\n",
    "def personalize(lang, rounds, encoder_weights=None, decoder_weights=None, sample=None, save=False, lang_info=None):\n",
    "    if lang_info is None:\n",
    "        input_lang, output_lang, train_dataloader, pairs = get_dataloader(batch_size, language=lang)\n",
    "    else:\n",
    "        input_lang, output_lang, train_dataloader, pairs = lang_info\n",
    "\n",
    "    encoder = EncoderRNN(input_lang.n_words, hidden_size).to(device)\n",
    "    decoder = AttnDecoderRNN(hidden_size, output_lang.n_words).to(device)\n",
    "\n",
    "    is_FL = 'false'\n",
    "\n",
    "    if encoder_weights is not None:\n",
    "        e_og = encoder.state_dict()\n",
    "        d_og = decoder.state_dict()\n",
    "        e_og.update(encoder_weights)\n",
    "        d_og.update(decoder_weights)\n",
    "        encoder.load_state_dict(e_og)\n",
    "        decoder.load_state_dict(d_og)\n",
    "        is_FL = 'true'\n",
    "\n",
    "    train_dataloader, test_dataloader, split = split_dataloader(train_dataloader)\n",
    "  \n",
    "    if sample is None:\n",
    "        sample = 'full'\n",
    "    else:\n",
    "        train_dataloader = limited_data_loader(train_dataloader, sample, split)\n",
    "    \n",
    "    train_idx = get_pair_index(train_dataloader)\n",
    "    test_idx = get_pair_index(test_dataloader)\n",
    "\n",
    "    train_pairs = [pairs[i] for i in train_idx]\n",
    "    test_pairs = [pairs[i] for i in test_idx]\n",
    "\n",
    "    filename=None\n",
    "    if save:\n",
    "        num = 1\n",
    "        filename = f\"P|{lang}_{sample}-shot_FL-{is_FL}_epoch{rounds}||{num}.csv\"\n",
    "        while os.path.isfile(filename):\n",
    "            print('Name is taken...trying again...')\n",
    "            num += 1\n",
    "            filename = f\"P|{lang}_{sample}-shot_FL-{is_FL}_epoch{rounds}||{num}.csv\"\n",
    "    train(train_dataloader, encoder, decoder, rounds, print_every=25, plot_every=5, filename=filename, input=input_lang, output=output_lang, pairs=train_pairs, test_pairs=test_pairs)\n",
    "    return encoder, decoder, test_pairs"
   ]
  },
  {
   "cell_type": "code",
   "execution_count": 21,
   "metadata": {},
   "outputs": [],
   "source": [
    "import os\n",
    "def personalize_frozen(lang, rounds, encoder_weights=None, decoder_weights=None, sample=None, save=False, lang_info=None):\n",
    "    if lang_info is None:\n",
    "        input_lang, output_lang, train_dataloader, pairs = get_dataloader(batch_size, language=lang)\n",
    "    else:\n",
    "        input_lang, output_lang, train_dataloader, pairs = lang_info\n",
    "\n",
    "    encoder = EncoderRNN(input_lang.n_words, hidden_size).to(device)\n",
    "    decoder = AttnDecoderRNN(hidden_size, output_lang.n_words).to(device)\n",
    "\n",
    "    is_FL = 'false'\n",
    "\n",
    "    if encoder_weights is not None:\n",
    "        e_og = encoder.state_dict()\n",
    "        d_og = decoder.state_dict()\n",
    "        e_og.update(encoder_weights)\n",
    "        d_og.update(decoder_weights)\n",
    "        encoder.load_state_dict(e_og)\n",
    "        decoder.load_state_dict(d_og)\n",
    "        is_FL = 'true'\n",
    "\n",
    "    train_dataloader, test_dataloader, split = split_dataloader(train_dataloader)\n",
    "  \n",
    "    if sample is None:\n",
    "        sample = 'full'\n",
    "    else:\n",
    "        train_dataloader = limited_data_loader(train_dataloader, sample, split)\n",
    "    \n",
    "    train_idx = get_pair_index(train_dataloader)\n",
    "    test_idx = get_pair_index(test_dataloader)\n",
    "\n",
    "    train_pairs = [pairs[i] for i in train_idx]\n",
    "    test_pairs = [pairs[i] for i in test_idx]\n",
    "\n",
    "    filename=None\n",
    "    if save:\n",
    "        num = 1\n",
    "        filename = f\"P|{lang}_{sample}-shot_FL-{is_FL}_epoch{rounds}||{num}.csv\"\n",
    "        while os.path.isfile(filename):\n",
    "            print('Name is taken...trying again...')\n",
    "            num += 1\n",
    "            filename = f\"P|{lang}_{sample}-shot_FL-{is_FL}_epoch{rounds}||{num}.csv\"\n",
    "    train_frozen(train_dataloader, encoder, decoder, encoder_weights, decoder_weights, rounds, print_every=25, plot_every=5, filename=filename, input=input_lang, output=output_lang, pairs=train_pairs, test_pairs=test_pairs)\n",
    "    return encoder, decoder, test_pairs"
   ]
  },
  {
   "cell_type": "code",
   "execution_count": 22,
   "metadata": {},
   "outputs": [],
   "source": [
    "class MetaModel(nn.Module):\n",
    "    def __init__(self, hidden_size, encoder_models, decoder_models, lang, update_rate=5, encoder=True, dropout_p=0.1):\n",
    "        super(MetaModel, self).__init__()\n",
    "        input_lang, output_lang, target_dataloader, pairs = get_dataloader(batch_size, language=lang)\n",
    "        self.lang = lang\n",
    "        self.encoder_models = encoder_models\n",
    "        self.decoder_models = decoder_models\n",
    "        self.hidden_size = hidden_size\n",
    "        self.input_lang = input_lang\n",
    "        self.output_lang = output_lang\n",
    "        self.global_encoder_model = EncoderRNN(input_lang.n_words, hidden_size).to(device)\n",
    "        self.global_decoder_model = AttnDecoderRNN(hidden_size, output_lang.n_words).to(device)\n",
    "        self.pass_num = 0\n",
    "        self.update_rate = update_rate\n",
    "        self.num_models = len(encoder_models)\n",
    "        self.proportions_encoder = nn.Parameter(torch.ones(self.num_models) / self.num_models)\n",
    "        self.proportions_decoder = nn.Parameter(torch.ones(self.num_models) / self.num_models)\n",
    "        self.encoder = encoder\n",
    "        self.device = device\n",
    "        self.encoder_optimizer = torch.optim.SGD([self.proportions_encoder], lr=0.1)\n",
    "        self.decoder_optimizer = torch.optim.SGD([self.proportions_decoder], lr=0.1)\n",
    "        self.target_dataloader = target_dataloader\n",
    "        self.criterion = nn.NLLLoss()\n",
    "\n",
    "    def train(self):\n",
    "        encoder_weights = []\n",
    "        decoder_weights = []\n",
    "\n",
    "        # Reset Heads\n",
    "        if self.pass_num % self.update_rate:\n",
    "            self.global_encoder_model = EncoderRNN(self.input_lang.n_words, self.hidden_size).to(self.device)\n",
    "            self.global_decoder_model = AttnDecoderRNN(self.hidden_size, self.output_lang.n_words).to(self.device)\n",
    "        \n",
    "        # Train head for target lang\n",
    "        if (self.pass_num % self.update_rate) == 100:\n",
    "            self.global_encoder_model, self.global_decoder_model, test_pairs = personalize(self.lang, 50, save=True, encoder_weights=self.global_encoder_model.state_dict(), decoder_weights=self.global_decoder_model.state_dict(), sample=None)\n",
    "        self.pass_num += 1\n",
    "            \n",
    "        # Combine Decoder and Encoders\n",
    "        # Make a list of encoder and decoder weights\n",
    "        for i in range(len(self.encoder_models)):\n",
    "            encoder_weights.append({key: value for key, value in copy.deepcopy(self.encoder_models[i].state_dict()).items() if 'embedding' not in key})\n",
    "            decoder_weights.append({key: value for key, value in copy.deepcopy(self.decoder_models[i].state_dict()).items() if 'embedding' not in key and 'out' not in key})\n",
    "        \n",
    "        weights_avg_e = copy.deepcopy(encoder_weights[0])\n",
    "        weights_avg_d = copy.deepcopy(decoder_weights[0])\n",
    "\n",
    "        # Make state_dict empty with zeroes\n",
    "        for k in weights_avg_e:\n",
    "            weights_avg_e[k].zero_()\n",
    "        for k in weights_avg_d:\n",
    "            weights_avg_d[k].zero_()\n",
    "            \n",
    "        self.encoder_optimizer.zero_grad()\n",
    "        self.decoder_optimizer.zero_grad()\n",
    "        # Add and combine weights of all input encoders/decoders according to proportion\n",
    "        for k in weights_avg_e.keys():\n",
    "            for i in range(0, len(encoder_weights)):\n",
    "                weights_avg_e[k] += self.proportions_encoder[i] * encoder_weights[i][k]\n",
    "        \n",
    "        for k in weights_avg_d.keys():\n",
    "            for i in range(0, len(decoder_weights)):\n",
    "                weights_avg_d[k] += self.proportions_decoder[i] * decoder_weights[i][k]\n",
    "\n",
    "        # Aggregate all encoders and decoders to update globals\n",
    "        encoder_og = self.global_encoder_model.state_dict()\n",
    "        encoder_og.update(weights_avg_e)\n",
    "        self.global_encoder_model.load_state_dict(encoder_og)\n",
    "\n",
    "        decoder_og = self.global_decoder_model.state_dict()\n",
    "        decoder_og.update(weights_avg_d)\n",
    "        self.global_decoder_model.load_state_dict(decoder_og)\n",
    "\n",
    "        loss = self.train_meta_epoch(self.target_dataloader, self.global_encoder_model, self.global_decoder_model, self.encoder_optimizer, self.decoder_optimizer, self.criterion)\n",
    "        \n",
    "        return self.proportions_encoder, self.proportions_decoder, loss\n",
    "    \n",
    "    def train_meta_epoch(self, dataloader, encoder, decoder, encoder_optimizer, decoder_optimizer, criterion):\n",
    "        total_loss = 0\n",
    "        for data in dataloader:\n",
    "            input_tensor, target_tensor, _ = data\n",
    "\n",
    "            encoder_outputs, encoder_hidden = encoder(input_tensor)\n",
    "            decoder_outputs, _, _ = decoder(encoder_outputs, encoder_hidden, target_tensor)\n",
    "\n",
    "            loss = criterion(\n",
    "                decoder_outputs.view(-1, decoder_outputs.size(-1)),\n",
    "                target_tensor.view(-1)\n",
    "            )\n",
    "            loss.backward()\n",
    "\n",
    "            # print(self.proportions_encoder.grad)\n",
    "\n",
    "            encoder_optimizer.step()\n",
    "            decoder_optimizer.step()\n",
    "\n",
    "            total_loss += loss.item()\n",
    "\n",
    "        return total_loss / len(dataloader)"
   ]
  },
  {
   "cell_type": "code",
   "execution_count": 23,
   "metadata": {},
   "outputs": [],
   "source": [
    "def train_meta_epoch(self, dataloader, encoder_models, decoder_models, proportions_encoder, proportions_decoder, encoder_optimizer, decoder_optimizer, criterion, device='cuda'):\n",
    "        total_loss = 0\n",
    "        for data in dataloader:\n",
    "            input_tensor, target_tensor, _ = data\n",
    "\n",
    "            self.encoder_optimizer.zero_grad()\n",
    "            self.decoder_optimizer.zero_grad()\n",
    "\n",
    "            encoder_state_dict = combine_weights(encoder_models, proportions_encoder, device)\n",
    "            decoder_state_dict = combine_weights(decoder_models, proportions_decoder, device)\n",
    "\n",
    "            # Load the combined weights into a single encoder and decoder\n",
    "            encoder.load_state_dict(encoder_state_dict)\n",
    "            decoder.load_state_dict(decoder_state_dict)\n",
    "\n",
    "            encoder_outputs, encoder_hidden = encoder(input_tensor)\n",
    "            decoder_outputs, _, _ = decoder(encoder_outputs, encoder_hidden, target_tensor)\n",
    "\n",
    "            loss = criterion(\n",
    "                decoder_outputs.view(-1, decoder_outputs.size(-1)),\n",
    "                target_tensor.view(-1)\n",
    "            )\n",
    "            loss.backward()\n",
    "\n",
    "            encoder_optimizer.step()\n",
    "            decoder_optimizer.step()\n",
    "\n",
    "            total_loss += loss.item()\n",
    "\n",
    "        return total_loss / len(dataloader)\n",
    "\n",
    "def combine_weights(models, proportions, device):\n",
    "    combined_weights = copy.deepcopy(models[0].state_dict())\n",
    "    for key in combined_weights.keys():\n",
    "        combined_weights[key].zero_()\n",
    "        for i, model in enumerate(models):\n",
    "            model_weights = model.state_dict()\n",
    "            combined_weights[key] += proportions[i] * model_weights[key].to(device)\n",
    "    return combined_weights"
   ]
  },
  {
   "cell_type": "markdown",
   "metadata": {},
   "source": [
    "# OPTUNA"
   ]
  },
  {
   "cell_type": "code",
   "execution_count": 24,
   "metadata": {},
   "outputs": [
    {
     "name": "stderr",
     "output_type": "stream",
     "text": [
      "/usr/local/lib/python3.10/dist-packages/tqdm/auto.py:21: TqdmWarning: IProgress not found. Please update jupyter and ipywidgets. See https://ipywidgets.readthedocs.io/en/stable/user_install.html\n",
      "  from .autonotebook import tqdm as notebook_tqdm\n"
     ]
    }
   ],
   "source": [
    "import optuna\n",
    "from functools import partial\n",
    "\n",
    "def objective(trial, encoder_models, decoder_models, input_lang, output_lang, target_dataloader, target_pairs, test_pairs, sources, device):\n",
    "    batch_size = 32\n",
    "    hidden_size = 128\n",
    "    \n",
    "    STEP_SIZE = 1\n",
    "\n",
    "    encoder_weights = []\n",
    "    decoder_weights = []\n",
    "\n",
    "    # This is what we fine-tune for\n",
    "    proportions_encoder = torch.ones(len(encoder_models))\n",
    "    proportions_decoder = torch.ones(len(encoder_models))\n",
    "\n",
    "    # Reset Heads\n",
    "    global_encoder_model = EncoderRNN(input_lang.n_words, hidden_size).to(device)\n",
    "    global_decoder_model = AttnDecoderRNN(hidden_size, output_lang.n_words).to(device)\n",
    "    # global_encoder_model = global_model[0]\n",
    "    # global_decoder_model = global_model[1]\n",
    "        \n",
    "    # Combine Decoder and Encoders\n",
    "    # Make a list of encoder and decoder weights\n",
    "    for i in range(len(encoder_models)):\n",
    "        encoder_weights.append({key: value for key, value in copy.deepcopy(encoder_models[i].state_dict()).items() if 'embedding' not in key})\n",
    "        decoder_weights.append({key: value for key, value in copy.deepcopy(decoder_models[i].state_dict()).items() if 'embedding' not in key and 'out' not in key})\n",
    "    \n",
    "    weights_avg_e = copy.deepcopy(encoder_weights[0])\n",
    "    weights_avg_d = copy.deepcopy(decoder_weights[0])\n",
    "\n",
    "    # Make state_dict empty with zeroes\n",
    "    for k in weights_avg_e:\n",
    "        weights_avg_e[k].zero_()\n",
    "    for k in weights_avg_d:\n",
    "        weights_avg_d[k].zero_()\n",
    "    \n",
    "    upper_limit_decoder = upper_limit_encoder = 100\n",
    "\n",
    "    for i, source_lang in enumerate(sources[:-1]):\n",
    "        proportions_encoder[i] = trial.suggest_int(f\"{source_lang}_encoder\", 0, upper_limit_encoder, step=STEP_SIZE)\n",
    "        proportions_decoder[i] = trial.suggest_int(f\"{source_lang}_decoder\", 0, upper_limit_decoder, step=STEP_SIZE)\n",
    "        upper_limit_encoder -= proportions_encoder[i]\n",
    "        upper_limit_decoder -= proportions_decoder[i]\n",
    "    proportions_encoder[-1] = 100 - upper_limit_encoder\n",
    "    proportions_decoder[-1] = 100 - upper_limit_decoder\n",
    "        \n",
    "    # Add and combine weights of all input encoders/decoders according to proportion\n",
    "    for k in weights_avg_e.keys():\n",
    "        for i in range(0, len(encoder_weights)):\n",
    "            weights_avg_e[k] += proportions_encoder[i] * encoder_weights[i][k] / 100\n",
    "    \n",
    "    for k in weights_avg_d.keys():\n",
    "        for i in range(0, len(decoder_weights)):\n",
    "            \n",
    "            weights_avg_d[k] += proportions_decoder[i] * decoder_weights[i][k] / 100\n",
    "\n",
    "    # Aggregate all encoders and decoders to update globals\n",
    "    encoder_og = global_encoder_model.state_dict()\n",
    "    encoder_og.update(weights_avg_e)\n",
    "    global_encoder_model.load_state_dict(encoder_og)\n",
    "\n",
    "    decoder_og = global_decoder_model.state_dict()\n",
    "    decoder_og.update(weights_avg_d)\n",
    "    global_decoder_model.load_state_dict(decoder_og)\n",
    "\n",
    "    # Train head for target lang\n",
    "    global_encoder_model, global_decoder_model, test_pairs = personalize('kir', 10, save=False, encoder_weights=global_encoder_model.state_dict(), decoder_weights=global_decoder_model.state_dict(), sample=None, lang_info=(input_lang, output_lang, target_dataloader, target_pairs))\n",
    "\n",
    "    #REPLACE TEST PAIRS\n",
    "    test_bleu = evaluateBleu(global_encoder_model, global_decoder_model, input_lang, output_lang, test_pairs, n=min(100,len(test_pairs)))\n",
    "\n",
    "    return test_bleu"
   ]
  },
  {
   "attachments": {},
   "cell_type": "markdown",
   "metadata": {},
   "source": [
    "Plotting results\n",
    "================\n",
    "\n",
    "Plotting is done with matplotlib, using the array of loss values\n",
    "`plot_losses` saved while training.\n"
   ]
  },
  {
   "cell_type": "code",
   "execution_count": 25,
   "metadata": {
    "collapsed": false
   },
   "outputs": [],
   "source": [
    "import matplotlib.pyplot as plt\n",
    "plt.switch_backend('agg')\n",
    "import matplotlib.ticker as ticker\n",
    "import numpy as np\n",
    "\n",
    "def showPlot(points):\n",
    "    plt.figure()\n",
    "    fig, ax = plt.subplots()\n",
    "    # this locator puts ticks at regular intervals\n",
    "    loc = ticker.MultipleLocator(base=0.2)\n",
    "    ax.yaxis.set_major_locator(loc)\n",
    "    plt.plot(points)"
   ]
  },
  {
   "attachments": {},
   "cell_type": "markdown",
   "metadata": {},
   "source": [
    "Evaluation\n",
    "==========\n",
    "\n",
    "Evaluation is mostly the same as training, but there are no targets so\n",
    "we simply feed the decoder\\'s predictions back to itself for each step.\n",
    "Every time it predicts a word we add it to the output string, and if it\n",
    "predicts the EOS token we stop there. We also store the decoder\\'s\n",
    "attention outputs for display later.\n"
   ]
  },
  {
   "cell_type": "code",
   "execution_count": 26,
   "metadata": {
    "collapsed": false
   },
   "outputs": [],
   "source": [
    "def evaluate(encoder, decoder, sentence, input_lang, output_lang):\n",
    "    with torch.no_grad():\n",
    "        input_tensor = tensorFromSentence(input_lang, sentence)\n",
    "\n",
    "        encoder_outputs, encoder_hidden = encoder(input_tensor)\n",
    "        decoder_outputs, decoder_hidden, decoder_attn = decoder(encoder_outputs, encoder_hidden)\n",
    "\n",
    "        _, topi = decoder_outputs.topk(1)\n",
    "        decoded_ids = topi.squeeze()\n",
    "\n",
    "        decoded_words = []\n",
    "        for idx in decoded_ids:\n",
    "            if idx.item() == EOS_token:\n",
    "                decoded_words.append('<EOS>')\n",
    "                break\n",
    "            decoded_words.append(output_lang.index2word[idx.item()])\n",
    "    return decoded_words, decoder_attn"
   ]
  },
  {
   "attachments": {},
   "cell_type": "markdown",
   "metadata": {},
   "source": [
    "We can evaluate random sentences from the training set and print out the\n",
    "input, target, and output to make some subjective quality judgements:\n"
   ]
  },
  {
   "cell_type": "code",
   "execution_count": 27,
   "metadata": {},
   "outputs": [],
   "source": [
    "def evaluateMultipleBleu(encoders, decoders, input_output_langs, n=10):\n",
    "    bleu_sum = 0\n",
    "    bleu_test_sum = 0\n",
    "    lang_length = len(encoders)\n",
    "    bleus = []\n",
    "    test_bleus = []\n",
    "    for i in range(lang_length):\n",
    "        bleu = evaluateBleu(encoders[i], decoders[i], input_output_langs[i][0], input_output_langs[i][1], input_output_langs[i][2], n=n)\n",
    "        bleu_sum += bleu\n",
    "        bleus.append(bleu)\n",
    "    for i in range(lang_length):\n",
    "        test_bleu = evaluateBleu(encoders[i], decoders[i], input_output_langs[i][0], input_output_langs[i][1], input_output_langs[i][3], n=n)\n",
    "        bleu_test_sum += test_bleu\n",
    "        test_bleus.append(test_bleu)\n",
    "    return (bleu_sum / lang_length), (bleu_test_sum / lang_length), bleus, test_bleus\n",
    "        "
   ]
  },
  {
   "attachments": {},
   "cell_type": "markdown",
   "metadata": {},
   "source": [
    "# Federated Learning"
   ]
  },
  {
   "cell_type": "code",
   "execution_count": 36,
   "metadata": {},
   "outputs": [],
   "source": [
    "import copy\n",
    "from tqdm import tqdm\n",
    "import csv\n",
    "\n",
    "def training(encoders, decoders, input_output_lang, rounds, lr, ds, C, K, E, filename=None, batch_size=None, hidden_size=None, cifar_data_test = None,\n",
    "             test_batch_size = None, classes_test = None, sch_flag = None, weighting=False, lexical_weights=None):\n",
    "    \"\"\"\n",
    "    Function implements the Federated Averaging Algorithm from the FedAvg paper.\n",
    "    Specifically, this function is used for the server side training and weight update\n",
    "\n",
    "    Params:\n",
    "      - model:           PyTorch model to train\n",
    "      - rounds:          Number of communication rounds for the client update\n",
    "      - batch_size:      Batch size for client update training\n",
    "      - lr:              Learning rate used for client update training\n",
    "      - ds:              Dataset used for training\n",
    "      - data_dict:       Type of data partition used for training (IID or non-IID)\n",
    "      - C:               Fraction of clients randomly chosen to perform computation on each round\n",
    "      - K:               Total number of clients\n",
    "      - E:               Number of training passes each client makes over its local dataset per round\n",
    "      - tb_writer_name:  Directory name to save the tensorboard logs\n",
    "    Returns:\n",
    "      - model:           Trained model on the server\n",
    "    \"\"\"\n",
    "    input_lang_target, output_lang_target, target_dataloader_target, pairs_target = get_dataloader(batch_size, language='kir')\n",
    "    langs = ['bem', 'kin', 'lug']\n",
    "\n",
    "    # global model weights\n",
    "    global_encoder_weights = {key: value for key, value in encoders[0].state_dict().items() if 'embedding' not in key}\n",
    "    global_decoder_weights = {key: value for key, value in decoders[0].state_dict().items() if 'embedding' not in key and 'out' not in key}\n",
    "\n",
    "    # training loss\n",
    "    train_loss = []\n",
    "    test_loss = []\n",
    "    test_accuracy = []\n",
    "    best_bleu = 0\n",
    "    best_test_bleu = 0\n",
    "    # measure time\n",
    "    start = time.time()\n",
    "\n",
    "    lex_weighting = False\n",
    "    if lexical_weights is not None:\n",
    "        lex_weighting = True\n",
    "    lexical_weights_encoder = lexical_weights\n",
    "    lexical_weights_decoder = lexical_weights\n",
    "\n",
    "    if filename is not None:\n",
    "            with open(filename, 'a') as f:\n",
    "                # create the csv writer\n",
    "                writer = csv.writer(f)\n",
    "\n",
    "                # write a row to the csv file\n",
    "                writer.writerow(['Rounds', 'Learning Rate', 'Client Fraction', 'Client Number', 'Local Epochs', 'Batch Size', 'Hidden Size', 'Weighting', 'Lexical Weighting'])\n",
    "                writer.writerow([rounds, lr, C, K, E, batch_size, hidden_size, weighting, lex_weighting])\n",
    "\n",
    "    \n",
    "    \n",
    "    #hidden_size, encoder_models, decoder_models, input_lang, output_lang, target_dataloder, update_rate=5, encoder=True, dropout_p=0.1)\n",
    "\n",
    "    for curr_round in range(1, rounds + 1):\n",
    "        w_encoder, w_decoder, local_loss, num_pairs, round_lex_weight = [], [], [], [], []\n",
    "        # Retrieve the number of clients participating in the current training\n",
    "        m = max(int(C * K), 1)\n",
    "        # Sample a subset of K clients according with the value defined before\n",
    "        S_t = np.random.choice(range(K), m, replace=False)\n",
    "        # For the selected clients start a local training\n",
    "        for k in tqdm(S_t):\n",
    "            # Compute a local update\n",
    "            local_update = ClientUpdate(train_dataloader=ds[k], learning_rate=lr, epochs=E,\n",
    "                                        sch_flag=sch_flag)\n",
    "            # Update means retrieve the values of the network weights\n",
    "            \n",
    "            e_og = encoders[k].state_dict()\n",
    "            d_og = decoders[k].state_dict()\n",
    "            e_og.update(global_encoder_weights)\n",
    "            d_og.update(global_decoder_weights)\n",
    "            encoders[k].load_state_dict(e_og)\n",
    "            decoders[k].load_state_dict(d_og)\n",
    "            \n",
    "            encoder_weights, decoder_weights, loss, num = local_update.train(encoders[k], decoders[k])\n",
    "\n",
    "            w_encoder.append({key: value for key, value in copy.deepcopy(encoder_weights).items() if 'embedding' not in key})\n",
    "            w_decoder.append({key: value for key, value in copy.deepcopy(decoder_weights).items() if 'embedding' not in key and 'out' not in key})\n",
    "            local_loss.append(copy.deepcopy(loss))\n",
    "            num_pairs.append(num)\n",
    "            # if lex_weighting:\n",
    "            #     round_lex_weight.append(lexical_weights[k])\n",
    "\n",
    "        # lr = 0.999*lr\n",
    "        # updating the global weights\n",
    "        weights_avg_e = copy.deepcopy(w_encoder[0])\n",
    "\n",
    "        weights_sum = sum(num_pairs)\n",
    "        client_weights = [weight / weights_sum for weight in num_pairs]\n",
    "        client_weights_encoder = lexical_weights_encoder\n",
    "        client_weights_decoder = lexical_weights_decoder\n",
    "        if weighting:\n",
    "            client_weights_encoder = client_weights_decoder = client_weights\n",
    "        if lex_weighting:\n",
    "            # new_weights = lexical_weights # [100 - weight for weight in round_lex_weight]\n",
    "            new_weights = [100 - weight for weight in round_lex_weight]\n",
    "            # sum_lex = sum(new_weights)\n",
    "            # lexical_weights\n",
    "            if weighting:\n",
    "                client_weights = [(weight + lex_weight) / 2 for lex_weight, weight in zip(new_weights, client_weights)]\n",
    "            else:\n",
    "                client_weights_encoder = [0.25 + 0.25 * (weight / sum(lexical_weights_encoder)) for weight in lexical_weights_encoder]\n",
    "                client_weights_decoder = [0.25 + 0.25 * (weight / sum(lexical_weights_decoder)) for weight in lexical_weights_decoder]\n",
    "        \n",
    "        print(f\"Encoder:{client_weights_encoder}, Decoder:{client_weights_decoder}\")\n",
    "\n",
    "        for k in weights_avg_e.keys():\n",
    "            if weighting or lex_weighting:\n",
    "                weights_avg_e[k] *= client_weights_encoder[0] # client_weights[0]\n",
    "                for i in range(1, len(w_encoder)):\n",
    "                    weights_avg_e[k] += w_encoder[i][k] * client_weights_encoder[i] # client_weights[i]\n",
    "                \n",
    "            else:\n",
    "                for i in range(1, len(w_encoder)):\n",
    "                    weights_avg_e[k] += w_encoder[i][k]\n",
    "                \n",
    "                weights_avg_e[k] = torch.div(weights_avg_e[k], len(w_encoder))\n",
    "\n",
    "        global_encoder_weights = weights_avg_e\n",
    "\n",
    "        weights_avg_d = copy.deepcopy(w_decoder[0])\n",
    "\n",
    "        for k in weights_avg_d.keys():\n",
    "            if weighting or lex_weighting:\n",
    "                weights_avg_d[k] *= client_weights_decoder[0] #client_weights[0]\n",
    "                for i in range(1, len(w_decoder)):\n",
    "                    weights_avg_d[k] += w_decoder[i][k] * client_weights_decoder[i] #client_weights[i]\n",
    "                \n",
    "            else:\n",
    "                for i in range(1, len(w_decoder)):\n",
    "                    weights_avg_d[k] += w_decoder[i][k]\n",
    "\n",
    "                weights_avg_d[k] = torch.div(weights_avg_d[k], len(w_decoder))\n",
    "\n",
    "        global_decoder_weights = weights_avg_d\n",
    "        \n",
    "\n",
    "        # if curr_round == 200:\n",
    "        #     lr = lr / 2\n",
    "        #     E = E - 1\n",
    "\n",
    "        # if curr_round == 300:\n",
    "        #     lr = lr / 2\n",
    "        #     E = E - 2\n",
    "\n",
    "        # if curr_round == 400:\n",
    "        #     lr = lr / 5\n",
    "        #     E = E - 3\n",
    "\n",
    "        # move the updated weights to our model state dict\n",
    "        # encoder.load_state_dict(global_encoder_weights)\n",
    "        # decoder.load_state_dict(global_decoder_weights)\n",
    "\n",
    "        # loss\n",
    "        loss_avg = sum(local_loss) / len(local_loss)\n",
    "        # print('Round: {}... \\tAverage Loss: {}'.format(curr_round, round(loss_avg, 3)), lr)\n",
    "        train_loss.append(loss_avg)\n",
    "\n",
    "        # t_accuracy, t_loss = testing(model, cifar_data_test, test_batch_size, criterion, num_classes, classes_test)\n",
    "        # test_accuracy.append(t_accuracy)\n",
    "        # test_loss.append(t_loss)\n",
    "\n",
    "        # if best_accuracy < t_accuracy:\n",
    "        #     best_accuracy = t_accuracy\n",
    "        # # torch.save(model.state_dict(), plt_title)\n",
    "        # print(curr_round, loss_avg, t_loss, test_accuracy[0], best_accuracy)\n",
    "        # # print('best_accuracy:', best_accuracy, '---Round:', curr_round, '---lr', lr, '----localEpocs--', E)\n",
    "        bleu, test_bleu, bleu_list, test_bleu_list = evaluateMultipleBleu(encoders, decoders, input_output_lang, n=200)\n",
    "\n",
    "        if best_bleu < bleu:\n",
    "            best_bleu = bleu\n",
    "        if best_test_bleu < test_bleu:\n",
    "            best_test_bleu = test_bleu\n",
    "\n",
    "        if filename is not None:\n",
    "            with open(filename, 'a') as f:\n",
    "                # create the csv writer\n",
    "                writer = csv.writer(f)\n",
    "\n",
    "                # write a row to the csv file\n",
    "                writer.writerow([curr_round, loss_avg, bleu, best_bleu, test_bleu, best_test_bleu, str(bleu_list), str(test_bleu_list)])\n",
    "        print(f\"Round {curr_round} >> Loss: {loss_avg}, BLEU:{bleu}, TEST:{test_bleu}, LISTS:({str(bleu_list)}/{str(test_bleu_list)})\")\n",
    "\n",
    "        #Training Meta Model\n",
    "        if curr_round % 5 == 0 and curr_round >= 60:\n",
    "\n",
    "            # global_encoder_model, global_decoder_model, test_pairs = personalize('kir', 20, save=False, encoder_weights=global_encoder_weights, decoder_weights=global_decoder_weights, sample=None)\n",
    "            objective_full = partial(objective, encoder_models = encoders, decoder_models = decoders, input_lang=input_lang_target, output_lang=output_lang_target, target_dataloader=target_dataloader_target, target_pairs=pairs_target, test_pairs=test_pairs, sources = langs, device = device)\n",
    "\n",
    "            study = optuna.create_study(study_name=\"optimizing weights\", direction=\"maximize\", storage=f\"sqlite:///studies/{filename[:-4]}.db\", load_if_exists=True)\n",
    "            study.optimize(objective_full, n_trials=10)\n",
    "\n",
    "            # print(f\"ENCODERS: {proportions_encoder}, {proportions_decoder}\")\n",
    "            print(f\"PARAMS: {study.best_params}, VALUE: {study.best_value}\")\n",
    "            lexical_weights_encoder = []\n",
    "            lexical_weights_decoder = []\n",
    "            for i, (k,v) in enumerate(study.best_params.items()):\n",
    "                if i % 2 == 0:\n",
    "                    lexical_weights_encoder.append(v)\n",
    "                else:\n",
    "                    lexical_weights_decoder.append(v)\n",
    "            lexical_weights_encoder.append(100 - sum(lexical_weights_encoder))\n",
    "            lexical_weights_decoder.append(100 - sum(lexical_weights_decoder))\n",
    "            \n",
    "\n",
    "    end = time.time()\n",
    "    print(\"Training Done!\")\n",
    "    print(\"Total time taken to Train: {}\".format(end - start))\n",
    "\n",
    "    return global_encoder_weights, global_decoder_weights"
   ]
  },
  {
   "cell_type": "code",
   "execution_count": 29,
   "metadata": {},
   "outputs": [],
   "source": [
    "from torch.utils.data import DataLoader, SubsetRandomSampler\n",
    "\n",
    "def split_dataloader(dataloader, train_fraction=0.75):\n",
    "    # Total number of samples in the dataloader\n",
    "    dataset_size = len(dataloader.dataset)\n",
    "    \n",
    "    # Indices of all elements in the dataset\n",
    "    indices = list(range(dataset_size))\n",
    "    \n",
    "    # Shuffle indices\n",
    "    np.random.shuffle(indices)\n",
    "    \n",
    "    # Determine the split point\n",
    "    split = int(np.floor(train_fraction * dataset_size))\n",
    "    \n",
    "    # Create training and test samplers\n",
    "    train_indices, test_indices = indices[:split], indices[split:]\n",
    "    train_sampler = SubsetRandomSampler(train_indices)\n",
    "    test_sampler = SubsetRandomSampler(test_indices)\n",
    "    \n",
    "    # Create training and test dataloaders\n",
    "    train_loader = DataLoader(dataloader.dataset, batch_size=dataloader.batch_size, \n",
    "                              sampler=train_sampler, drop_last=True)\n",
    "    test_loader = DataLoader(dataloader.dataset, batch_size=dataloader.batch_size, \n",
    "                             sampler=test_sampler, drop_last=True)\n",
    "    \n",
    "    return train_loader, test_loader"
   ]
  },
  {
   "cell_type": "code",
   "execution_count": 30,
   "metadata": {},
   "outputs": [],
   "source": [
    "def get_pair_index(dataloader):\n",
    "    shuffled_indices = []\n",
    "    for _, _, indices in dataloader:\n",
    "        shuffled_indices.extend(indices.tolist())\n",
    "    return shuffled_indices"
   ]
  },
  {
   "attachments": {},
   "cell_type": "markdown",
   "metadata": {},
   "source": [
    "Training and Evaluating\n",
    "=======================\n",
    "\n",
    "With all these helper functions in place (it looks like extra work, but\n",
    "it makes it easier to run multiple experiments) we can actually\n",
    "initialize a network and start training.\n",
    "\n",
    "Remember that the input sentences were heavily filtered. For this small\n",
    "dataset we can use relatively small networks of 256 hidden nodes and a\n",
    "single GRU layer. After about 40 minutes on a MacBook CPU we\\'ll get\n",
    "some reasonable results.\n",
    "\n",
    "<div style=\"background-color: #54c7ec; color: #fff; font-weight: 700; padding-left: 10px; padding-top: 5px; padding-bottom: 5px\"><strong>NOTE:</strong></div>\n",
    "<div style=\"background-color: #f3f4f7; padding-left: 10px; padding-top: 10px; padding-bottom: 10px; padding-right: 10px\">\n",
    "<p>If you run this notebook you can train, interrupt the kernel,evaluate, and continue training later. Comment out the lines where theencoder and decoder are initialized and run <code>trainIters</code> again.</p>\n",
    "</div>\n"
   ]
  },
  {
   "cell_type": "code",
   "execution_count": 31,
   "metadata": {},
   "outputs": [],
   "source": [
    "hidden_size = 128\n",
    "batch_size = 32\n",
    "# input_lang, output_lang, train_dataloader = get_dataloader(batch_size, language='spa')"
   ]
  },
  {
   "cell_type": "code",
   "execution_count": 37,
   "metadata": {},
   "outputs": [
    {
     "name": "stdout",
     "output_type": "stream",
     "text": [
      "Reading lines...\n",
      "Read 82370 sentence pairs\n",
      "Trimmed to 25719 sentence pairs\n",
      "Counting words...\n",
      "Counted words:\n",
      "bem 19481\n",
      "eng 5092\n",
      "Reading lines...\n",
      "Read 55667 sentence pairs\n",
      "Trimmed to 19616 sentence pairs\n",
      "Counting words...\n",
      "Counted words:\n",
      "kin 36940\n",
      "eng 11235\n",
      "Reading lines...\n",
      "Read 15022 sentence pairs\n",
      "Trimmed to 8447 sentence pairs\n",
      "Counting words...\n",
      "Counted words:\n",
      "lug 9684\n",
      "eng 5677\n"
     ]
    }
   ],
   "source": [
    "MAX_LENGTH = 10\n",
    "data_dict = {}\n",
    "encoders = {}\n",
    "decoders = {}\n",
    "lexical_weight_dict = {}\n",
    "input_output_lang = {}\n",
    "langs = ['bem', 'kin', 'lug']\n",
    "langs = sorted(langs)\n",
    "weights = [42, 6, 43] # This needs to line up with the sorted langs\n",
    "K = len(langs)\n",
    "for i in range(K):\n",
    "    input_lang, output_lang, train_dataloader, pair = get_dataloader(batch_size, language=langs[i])\n",
    "    train_dataloader, test_dataloader = split_dataloader(train_dataloader)\n",
    "    train_idx = get_pair_index(train_dataloader)\n",
    "    test_idx = get_pair_index(test_dataloader)\n",
    "\n",
    "    train_pairs = [pair[i] for i in train_idx]\n",
    "    test_pairs = [pair[i] for i in test_idx]\n",
    "\n",
    "    data_dict[i] = train_dataloader\n",
    "    encoders[i] = EncoderRNN(input_lang.n_words, hidden_size).to(device)\n",
    "    decoders[i] = AttnDecoderRNN(hidden_size, output_lang.n_words).to(device)\n",
    "    input_output_lang[i] = (input_lang, output_lang, train_pairs, test_pairs)\n",
    "    lexical_weight_dict[i] = weights[i]"
   ]
  },
  {
   "cell_type": "code",
   "execution_count": 38,
   "metadata": {},
   "outputs": [],
   "source": [
    "# st = {key: value for key, value in encoders[0].state_dict().items() if 'embedding' not in key}\n",
    "# st2 = {key: value for key, value in decoders[0].state_dict().items() if 'embedding' not in key and 'out' not in key}\n",
    "# encoders[1].state_dict().update(st)\n",
    "# decoders[1].state_dict().update(st2)\n",
    "# new = (encoders[0].state_dict())\n",
    "# new.update(global_encoder_weights)\n",
    "# encoders[0].load_state_dict(new)"
   ]
  },
  {
   "cell_type": "code",
   "execution_count": 39,
   "metadata": {
    "collapsed": false
   },
   "outputs": [
    {
     "name": "stdout",
     "output_type": "stream",
     "text": [
      "Name is taken...trying again...\n"
     ]
    }
   ],
   "source": [
    "import os\n",
    "# train(train_dataloader, encoder, decoder, 80, print_every=5, plot_every=5)\n",
    "\n",
    "filename=None\n",
    "save = True\n",
    "if save:\n",
    "    num = 1\n",
    "    filename = f\"GLOBAL|{'_'.join(langs)}||{num}.csv\"\n",
    "    while os.path.isfile(filename):\n",
    "        print('Name is taken...trying again...')\n",
    "        num += 1\n",
    "        filename = f\"GLOBAL|{'_'.join(langs)}||{num}.csv\""
   ]
  },
  {
   "cell_type": "code",
   "execution_count": 40,
   "metadata": {},
   "outputs": [
    {
     "name": "stdout",
     "output_type": "stream",
     "text": [
      "Reading lines...\n",
      "Read 29506 sentence pairs\n",
      "Trimmed to 872 sentence pairs\n",
      "Counting words...\n",
      "Counted words:\n",
      "kir 1954\n",
      "eng 1566\n"
     ]
    },
    {
     "name": "stderr",
     "output_type": "stream",
     "text": [
      "100%|██████████| 3/3 [00:23<00:00,  7.78s/it]\n"
     ]
    },
    {
     "name": "stdout",
     "output_type": "stream",
     "text": [
      "Encoder:[tensor(0.4782), tensor(0.1571), tensor(0.3647)], Decoder:[tensor(0.4782), tensor(0.1571), tensor(0.3647)]\n",
      "Round 1 >> Loss: 4.280413378290413, BLEU:0.008211581036448479, TEST:0.011946375171343485, LISTS:([0.024634743109345436, 0.0, 0.0]/[0.03583912551403046, 0.0, 0.0])\n"
     ]
    },
    {
     "name": "stderr",
     "output_type": "stream",
     "text": [
      "100%|██████████| 3/3 [00:24<00:00,  8.05s/it]\n"
     ]
    },
    {
     "name": "stdout",
     "output_type": "stream",
     "text": [
      "Encoder:[tensor(0.4782), tensor(0.1571), tensor(0.3647)], Decoder:[tensor(0.4782), tensor(0.1571), tensor(0.3647)]\n",
      "Round 2 >> Loss: 3.681408002114592, BLEU:0.026016830156246822, TEST:0.01713753119111061, LISTS:([0.058935411274433136, 0.009160409681499004, 0.009954669512808323]/[0.05141259357333183, 0.0, 0.0])\n"
     ]
    },
    {
     "name": "stderr",
     "output_type": "stream",
     "text": [
      "100%|██████████| 3/3 [00:24<00:00,  8.21s/it]\n"
     ]
    },
    {
     "name": "stdout",
     "output_type": "stream",
     "text": [
      "Encoder:[tensor(0.1571), tensor(0.4782), tensor(0.3647)], Decoder:[tensor(0.1571), tensor(0.4782), tensor(0.3647)]\n",
      "Round 3 >> Loss: 3.4371626340670907, BLEU:0.0380142747114102, TEST:0.0268000861008962, LISTS:([0.10224887728691101, 0.0, 0.011793946847319603]/[0.0804002583026886, 0.0, 0.0])\n"
     ]
    },
    {
     "name": "stderr",
     "output_type": "stream",
     "text": [
      "100%|██████████| 3/3 [00:23<00:00,  7.84s/it]\n"
     ]
    },
    {
     "name": "stdout",
     "output_type": "stream",
     "text": [
      "Encoder:[tensor(0.3647), tensor(0.1571), tensor(0.4782)], Decoder:[tensor(0.3647), tensor(0.1571), tensor(0.4782)]\n",
      "Round 4 >> Loss: 3.2604211782758346, BLEU:0.042756933408478894, TEST:0.03620136560251316, LISTS:([0.11281398683786392, 0.0, 0.015456813387572765]/[0.09556648880243301, 0.0, 0.013037608005106449])\n"
     ]
    },
    {
     "name": "stderr",
     "output_type": "stream",
     "text": [
      "100%|██████████| 3/3 [00:23<00:00,  7.92s/it]\n"
     ]
    },
    {
     "name": "stdout",
     "output_type": "stream",
     "text": [
      "Encoder:[tensor(0.1571), tensor(0.4782), tensor(0.3647)], Decoder:[tensor(0.1571), tensor(0.4782), tensor(0.3647)]\n",
      "Round 5 >> Loss: 3.1175721718539813, BLEU:0.04341935118039449, TEST:0.0378334770600001, LISTS:([0.13025805354118347, 0.0, 0.0]/[0.1135004311800003, 0.0, 0.0])\n"
     ]
    },
    {
     "name": "stderr",
     "output_type": "stream",
     "text": [
      "100%|██████████| 3/3 [00:24<00:00,  8.22s/it]\n"
     ]
    },
    {
     "name": "stdout",
     "output_type": "stream",
     "text": [
      "Encoder:[tensor(0.4782), tensor(0.1571), tensor(0.3647)], Decoder:[tensor(0.4782), tensor(0.1571), tensor(0.3647)]\n",
      "Round 6 >> Loss: 2.9960235773229535, BLEU:0.04715148111184438, TEST:0.04096028953790665, LISTS:([0.12440596520900726, 0.01704847812652588, 0.0]/[0.1119893416762352, 0.0, 0.010891526937484741])\n"
     ]
    },
    {
     "name": "stderr",
     "output_type": "stream",
     "text": [
      "100%|██████████| 3/3 [00:23<00:00,  7.78s/it]\n"
     ]
    },
    {
     "name": "stdout",
     "output_type": "stream",
     "text": [
      "Encoder:[tensor(0.4782), tensor(0.1571), tensor(0.3647)], Decoder:[tensor(0.4782), tensor(0.1571), tensor(0.3647)]\n",
      "Round 7 >> Loss: 2.88727227105472, BLEU:0.0496559739112854, TEST:0.042678321401278176, LISTS:([0.13666801154613495, 0.012299910187721252, 0.0]/[0.12803496420383453, 0.0, 0.0])\n"
     ]
    },
    {
     "name": "stderr",
     "output_type": "stream",
     "text": [
      "100%|██████████| 3/3 [00:24<00:00,  8.05s/it]\n"
     ]
    },
    {
     "name": "stdout",
     "output_type": "stream",
     "text": [
      "Encoder:[tensor(0.3647), tensor(0.1571), tensor(0.4782)], Decoder:[tensor(0.3647), tensor(0.1571), tensor(0.4782)]\n",
      "Round 8 >> Loss: 2.7905041153155277, BLEU:0.050527757654587425, TEST:0.040235573425889015, LISTS:([0.13175374269485474, 0.0, 0.019829530268907547]/[0.09216293692588806, 0.0, 0.028543783351778984])\n"
     ]
    },
    {
     "name": "stderr",
     "output_type": "stream",
     "text": [
      "100%|██████████| 3/3 [00:23<00:00,  7.75s/it]\n"
     ]
    },
    {
     "name": "stdout",
     "output_type": "stream",
     "text": [
      "Encoder:[tensor(0.3647), tensor(0.1571), tensor(0.4782)], Decoder:[tensor(0.3647), tensor(0.1571), tensor(0.4782)]\n",
      "Round 9 >> Loss: 2.7028302708783425, BLEU:0.06262721680104733, TEST:0.061723001301288605, LISTS:([0.16849997639656067, 0.0, 0.019381674006581306]/[0.1350886970758438, 0.01494639366865158, 0.03513391315937042])\n"
     ]
    },
    {
     "name": "stderr",
     "output_type": "stream",
     "text": [
      "100%|██████████| 3/3 [00:24<00:00,  8.00s/it]\n"
     ]
    },
    {
     "name": "stdout",
     "output_type": "stream",
     "text": [
      "Encoder:[tensor(0.3647), tensor(0.1571), tensor(0.4782)], Decoder:[tensor(0.3647), tensor(0.1571), tensor(0.4782)]\n",
      "Round 10 >> Loss: 2.6240782493094463, BLEU:0.05381196737289429, TEST:0.04357846546918154, LISTS:([0.16143590211868286, 0.0, 0.0]/[0.11895719170570374, 0.011778204701840878, 0.0])\n"
     ]
    },
    {
     "name": "stderr",
     "output_type": "stream",
     "text": [
      "100%|██████████| 3/3 [00:24<00:00,  8.05s/it]\n"
     ]
    },
    {
     "name": "stdout",
     "output_type": "stream",
     "text": [
      "Encoder:[tensor(0.1571), tensor(0.4782), tensor(0.3647)], Decoder:[tensor(0.1571), tensor(0.4782), tensor(0.3647)]\n",
      "Round 11 >> Loss: 2.5501742874924846, BLEU:0.07804460575183232, TEST:0.04475135294099649, LISTS:([0.17863942682743073, 0.021082095801830292, 0.03441229462623596]/[0.11710396409034729, 0.0, 0.017150094732642174])\n"
     ]
    },
    {
     "name": "stderr",
     "output_type": "stream",
     "text": [
      "100%|██████████| 3/3 [00:24<00:00,  8.14s/it]\n"
     ]
    },
    {
     "name": "stdout",
     "output_type": "stream",
     "text": [
      "Encoder:[tensor(0.3647), tensor(0.1571), tensor(0.4782)], Decoder:[tensor(0.3647), tensor(0.1571), tensor(0.4782)]\n",
      "Round 12 >> Loss: 2.483414657796566, BLEU:0.08182633171478908, TEST:0.05925630467633406, LISTS:([0.17740097641944885, 0.031558483839035034, 0.03651953488588333]/[0.15382874011993408, 0.0, 0.023940173909068108])\n"
     ]
    },
    {
     "name": "stderr",
     "output_type": "stream",
     "text": [
      "100%|██████████| 3/3 [00:24<00:00,  8.24s/it]\n"
     ]
    },
    {
     "name": "stdout",
     "output_type": "stream",
     "text": [
      "Encoder:[tensor(0.4782), tensor(0.3647), tensor(0.1571)], Decoder:[tensor(0.4782), tensor(0.3647), tensor(0.1571)]\n",
      "Round 13 >> Loss: 2.4218271127986175, BLEU:0.06842266333599885, TEST:0.055023269106944404, LISTS:([0.18144434690475464, 0.0, 0.02382364310324192]/[0.1335688680410385, 0.0, 0.03150093927979469])\n"
     ]
    },
    {
     "name": "stderr",
     "output_type": "stream",
     "text": [
      "100%|██████████| 3/3 [00:25<00:00,  8.43s/it]\n"
     ]
    },
    {
     "name": "stdout",
     "output_type": "stream",
     "text": [
      "Encoder:[tensor(0.4782), tensor(0.3647), tensor(0.1571)], Decoder:[tensor(0.4782), tensor(0.3647), tensor(0.1571)]\n",
      "Round 14 >> Loss: 2.3635973433428563, BLEU:0.08791414772470792, TEST:0.05697669213016828, LISTS:([0.1798218935728073, 0.042222678661346436, 0.041697870939970016]/[0.13725969195365906, 0.0, 0.03367038443684578])\n"
     ]
    },
    {
     "name": "stderr",
     "output_type": "stream",
     "text": [
      "100%|██████████| 3/3 [00:24<00:00,  8.07s/it]\n"
     ]
    },
    {
     "name": "stdout",
     "output_type": "stream",
     "text": [
      "Encoder:[tensor(0.3647), tensor(0.4782), tensor(0.1571)], Decoder:[tensor(0.3647), tensor(0.4782), tensor(0.1571)]\n",
      "Round 15 >> Loss: 2.311201226852819, BLEU:0.08860526668528716, TEST:0.037747847537199654, LISTS:([0.2018650770187378, 0.024697715416550636, 0.039253007620573044]/[0.11324354261159897, 0.0, 0.0])\n"
     ]
    },
    {
     "name": "stderr",
     "output_type": "stream",
     "text": [
      "100%|██████████| 3/3 [00:24<00:00,  8.07s/it]\n"
     ]
    },
    {
     "name": "stdout",
     "output_type": "stream",
     "text": [
      "Encoder:[tensor(0.4782), tensor(0.3647), tensor(0.1571)], Decoder:[tensor(0.4782), tensor(0.3647), tensor(0.1571)]\n",
      "Round 16 >> Loss: 2.2606542668520926, BLEU:0.09511160540084045, TEST:0.06208222017933925, LISTS:([0.21946610510349274, 0.02346521057188511, 0.04240350052714348]/[0.14811275899410248, 0.01196479145437479, 0.02616911008954048])\n"
     ]
    },
    {
     "name": "stderr",
     "output_type": "stream",
     "text": [
      "100%|██████████| 3/3 [00:24<00:00,  8.06s/it]\n"
     ]
    },
    {
     "name": "stdout",
     "output_type": "stream",
     "text": [
      "Encoder:[tensor(0.1571), tensor(0.3647), tensor(0.4782)], Decoder:[tensor(0.1571), tensor(0.3647), tensor(0.4782)]\n",
      "Round 17 >> Loss: 2.2172888245584788, BLEU:0.10200641552607219, TEST:0.07341513068725665, LISTS:([0.22688935697078705, 0.02808651700615883, 0.051043372601270676]/[0.1681116670370102, 0.01519931573420763, 0.03693440929055214])\n"
     ]
    },
    {
     "name": "stderr",
     "output_type": "stream",
     "text": [
      "100%|██████████| 3/3 [00:23<00:00,  7.72s/it]\n"
     ]
    },
    {
     "name": "stdout",
     "output_type": "stream",
     "text": [
      "Encoder:[tensor(0.3647), tensor(0.1571), tensor(0.4782)], Decoder:[tensor(0.3647), tensor(0.1571), tensor(0.4782)]\n",
      "Round 18 >> Loss: 2.176229915607921, BLEU:0.08995250736673673, TEST:0.06128590057293574, LISTS:([0.20123879611492157, 0.019113320857286453, 0.04950540512800217]/[0.1341274231672287, 0.01878034695982933, 0.03094993159174919])\n"
     ]
    },
    {
     "name": "stderr",
     "output_type": "stream",
     "text": [
      "100%|██████████| 3/3 [00:23<00:00,  7.84s/it]\n"
     ]
    },
    {
     "name": "stdout",
     "output_type": "stream",
     "text": [
      "Encoder:[tensor(0.3647), tensor(0.1571), tensor(0.4782)], Decoder:[tensor(0.3647), tensor(0.1571), tensor(0.4782)]\n",
      "Round 19 >> Loss: 2.1375140846444407, BLEU:0.09494170981148879, TEST:0.0637240456417203, LISTS:([0.21276094019412994, 0.018749522045254707, 0.05331466719508171]/[0.14720803499221802, 0.014026123099029064, 0.029937978833913803])\n"
     ]
    },
    {
     "name": "stderr",
     "output_type": "stream",
     "text": [
      "100%|██████████| 3/3 [00:23<00:00,  8.00s/it]\n"
     ]
    },
    {
     "name": "stdout",
     "output_type": "stream",
     "text": [
      "Encoder:[tensor(0.1571), tensor(0.4782), tensor(0.3647)], Decoder:[tensor(0.1571), tensor(0.4782), tensor(0.3647)]\n",
      "Round 20 >> Loss: 2.0998721794506046, BLEU:0.1023101316144069, TEST:0.06570429479082425, LISTS:([0.22971642017364502, 0.026232639327645302, 0.05098133534193039]/[0.1699289083480835, 0.0, 0.027183976024389267])\n"
     ]
    },
    {
     "name": "stderr",
     "output_type": "stream",
     "text": [
      "100%|██████████| 3/3 [00:22<00:00,  7.38s/it]\n"
     ]
    },
    {
     "name": "stdout",
     "output_type": "stream",
     "text": [
      "Encoder:[tensor(0.4782), tensor(0.3647), tensor(0.1571)], Decoder:[tensor(0.4782), tensor(0.3647), tensor(0.1571)]\n",
      "Round 21 >> Loss: 2.0649570055318103, BLEU:0.10632833776374657, TEST:0.05080002173781395, LISTS:([0.22507886588573456, 0.029418891295790672, 0.06448725610971451]/[0.11631058901548386, 0.0, 0.03608947619795799])\n"
     ]
    },
    {
     "name": "stderr",
     "output_type": "stream",
     "text": [
      "100%|██████████| 3/3 [00:23<00:00,  7.87s/it]\n"
     ]
    },
    {
     "name": "stdout",
     "output_type": "stream",
     "text": [
      "Encoder:[tensor(0.4782), tensor(0.1571), tensor(0.3647)], Decoder:[tensor(0.4782), tensor(0.1571), tensor(0.3647)]\n",
      "Round 22 >> Loss: 2.035427658285828, BLEU:0.12084428345163663, TEST:0.07753466255962849, LISTS:([0.27249833941459656, 0.020418595522642136, 0.0696159154176712]/[0.17324474453926086, 0.025091780349612236, 0.03426746279001236])\n"
     ]
    },
    {
     "name": "stderr",
     "output_type": "stream",
     "text": [
      "100%|██████████| 3/3 [00:24<00:00,  8.19s/it]\n"
     ]
    },
    {
     "name": "stdout",
     "output_type": "stream",
     "text": [
      "Encoder:[tensor(0.3647), tensor(0.4782), tensor(0.1571)], Decoder:[tensor(0.3647), tensor(0.4782), tensor(0.1571)]\n",
      "Round 23 >> Loss: 2.0051655920824323, BLEU:0.11609255522489548, TEST:0.06225520310302576, LISTS:([0.23980043828487396, 0.045002080500125885, 0.06347514688968658]/[0.14587368071079254, 0.022083239629864693, 0.01880868896842003])\n"
     ]
    },
    {
     "name": "stderr",
     "output_type": "stream",
     "text": [
      "100%|██████████| 3/3 [00:24<00:00,  8.28s/it]\n"
     ]
    },
    {
     "name": "stdout",
     "output_type": "stream",
     "text": [
      "Encoder:[tensor(0.1571), tensor(0.3647), tensor(0.4782)], Decoder:[tensor(0.1571), tensor(0.3647), tensor(0.4782)]\n",
      "Round 24 >> Loss: 1.9760719125535733, BLEU:0.1124743993083636, TEST:0.06202972742418448, LISTS:([0.22937597334384918, 0.04179254174232483, 0.06625468283891678]/[0.13713416457176208, 0.021493608132004738, 0.02746140956878662])\n"
     ]
    },
    {
     "name": "stderr",
     "output_type": "stream",
     "text": [
      "100%|██████████| 3/3 [00:22<00:00,  7.59s/it]\n"
     ]
    },
    {
     "name": "stdout",
     "output_type": "stream",
     "text": [
      "Encoder:[tensor(0.3647), tensor(0.4782), tensor(0.1571)], Decoder:[tensor(0.3647), tensor(0.4782), tensor(0.1571)]\n",
      "Round 25 >> Loss: 1.947376277985733, BLEU:0.1284041702747345, TEST:0.06384251763423283, LISTS:([0.2732243537902832, 0.04462164640426636, 0.06736651062965393]/[0.14217956364154816, 0.017415378242731094, 0.031932611018419266])\n"
     ]
    },
    {
     "name": "stderr",
     "output_type": "stream",
     "text": [
      "100%|██████████| 3/3 [00:23<00:00,  7.84s/it]\n"
     ]
    },
    {
     "name": "stdout",
     "output_type": "stream",
     "text": [
      "Encoder:[tensor(0.4782), tensor(0.1571), tensor(0.3647)], Decoder:[tensor(0.4782), tensor(0.1571), tensor(0.3647)]\n",
      "Round 26 >> Loss: 1.9218737218651778, BLEU:0.1288850779334704, TEST:0.06299524940550327, LISTS:([0.25532981753349304, 0.03837718814611435, 0.09294822812080383]/[0.13311640918254852, 0.017991023138165474, 0.03787831589579582])\n"
     ]
    },
    {
     "name": "stderr",
     "output_type": "stream",
     "text": [
      "100%|██████████| 3/3 [00:24<00:00,  8.03s/it]\n"
     ]
    },
    {
     "name": "stdout",
     "output_type": "stream",
     "text": [
      "Encoder:[tensor(0.1571), tensor(0.3647), tensor(0.4782)], Decoder:[tensor(0.1571), tensor(0.3647), tensor(0.4782)]\n",
      "Round 27 >> Loss: 1.8953068238067405, BLEU:0.12304691473642985, TEST:0.06278098871310551, LISTS:([0.23805929720401764, 0.05829603224992752, 0.07278541475534439]/[0.14513471722602844, 0.019407961517572403, 0.023800287395715714])\n"
     ]
    },
    {
     "name": "stderr",
     "output_type": "stream",
     "text": [
      "100%|██████████| 3/3 [00:24<00:00,  8.25s/it]\n"
     ]
    },
    {
     "name": "stdout",
     "output_type": "stream",
     "text": [
      "Encoder:[tensor(0.1571), tensor(0.4782), tensor(0.3647)], Decoder:[tensor(0.1571), tensor(0.4782), tensor(0.3647)]\n",
      "Round 28 >> Loss: 1.8715950934266825, BLEU:0.12686041990915933, TEST:0.05905289823810259, LISTS:([0.25656551122665405, 0.048609547317028046, 0.07540620118379593]/[0.12925463914871216, 0.013200968503952026, 0.0347030870616436])\n"
     ]
    },
    {
     "name": "stderr",
     "output_type": "stream",
     "text": [
      "100%|██████████| 3/3 [00:23<00:00,  7.68s/it]\n"
     ]
    },
    {
     "name": "stdout",
     "output_type": "stream",
     "text": [
      "Encoder:[tensor(0.4782), tensor(0.1571), tensor(0.3647)], Decoder:[tensor(0.4782), tensor(0.1571), tensor(0.3647)]\n",
      "Round 29 >> Loss: 1.84849989194079, BLEU:0.1370066280166308, TEST:0.05930363945662975, LISTS:([0.2653876841068268, 0.06110469996929169, 0.08452749997377396]/[0.13036984205245972, 0.015084529295563698, 0.032456547021865845])\n"
     ]
    },
    {
     "name": "stderr",
     "output_type": "stream",
     "text": [
      "100%|██████████| 3/3 [00:23<00:00,  7.97s/it]\n"
     ]
    },
    {
     "name": "stdout",
     "output_type": "stream",
     "text": [
      "Encoder:[tensor(0.4782), tensor(0.1571), tensor(0.3647)], Decoder:[tensor(0.4782), tensor(0.1571), tensor(0.3647)]\n",
      "Round 30 >> Loss: 1.8284114787870689, BLEU:0.1404921611150106, TEST:0.06618400290608406, LISTS:([0.2812671959400177, 0.07181458175182343, 0.06839470565319061]/[0.13993282616138458, 0.01725953444838524, 0.04135964810848236])\n"
     ]
    },
    {
     "name": "stderr",
     "output_type": "stream",
     "text": [
      "100%|██████████| 3/3 [00:24<00:00,  8.16s/it]\n"
     ]
    },
    {
     "name": "stdout",
     "output_type": "stream",
     "text": [
      "Encoder:[tensor(0.4782), tensor(0.1571), tensor(0.3647)], Decoder:[tensor(0.4782), tensor(0.1571), tensor(0.3647)]\n",
      "Round 31 >> Loss: 1.8054196384121741, BLEU:0.1337830958267053, TEST:0.0637950027982394, LISTS:([0.2708730697631836, 0.041323136538267136, 0.08915308117866516]/[0.13906626403331757, 0.013339042663574219, 0.038979701697826385])\n"
     ]
    },
    {
     "name": "stderr",
     "output_type": "stream",
     "text": [
      "100%|██████████| 3/3 [00:25<00:00,  8.35s/it]\n"
     ]
    },
    {
     "name": "stdout",
     "output_type": "stream",
     "text": [
      "Encoder:[tensor(0.4782), tensor(0.3647), tensor(0.1571)], Decoder:[tensor(0.4782), tensor(0.3647), tensor(0.1571)]\n",
      "Round 32 >> Loss: 1.7849921599928862, BLEU:0.14430991560220718, TEST:0.07928571167091529, LISTS:([0.2751884162425995, 0.06181386858224869, 0.09592746198177338]/[0.1766507625579834, 0.021127982065081596, 0.04007839038968086])\n"
     ]
    },
    {
     "name": "stderr",
     "output_type": "stream",
     "text": [
      "100%|██████████| 3/3 [00:22<00:00,  7.65s/it]\n"
     ]
    },
    {
     "name": "stdout",
     "output_type": "stream",
     "text": [
      "Encoder:[tensor(0.3647), tensor(0.4782), tensor(0.1571)], Decoder:[tensor(0.3647), tensor(0.4782), tensor(0.1571)]\n",
      "Round 33 >> Loss: 1.7633655065471203, BLEU:0.1310667817791303, TEST:0.07265891134738922, LISTS:([0.25651535391807556, 0.06955620646476746, 0.06712878495454788]/[0.14540868997573853, 0.01958858221769333, 0.05297946184873581])\n"
     ]
    },
    {
     "name": "stderr",
     "output_type": "stream",
     "text": [
      "100%|██████████| 3/3 [00:23<00:00,  7.72s/it]\n"
     ]
    },
    {
     "name": "stdout",
     "output_type": "stream",
     "text": [
      "Encoder:[tensor(0.1571), tensor(0.4782), tensor(0.3647)], Decoder:[tensor(0.1571), tensor(0.4782), tensor(0.3647)]\n",
      "Round 34 >> Loss: 1.7451273061236623, BLEU:0.16338910162448883, TEST:0.06532994067917268, LISTS:([0.34412914514541626, 0.06491214781999588, 0.08112601190805435]/[0.1603858768939972, 0.011780631728470325, 0.023823313415050507])\n"
     ]
    },
    {
     "name": "stderr",
     "output_type": "stream",
     "text": [
      "100%|██████████| 3/3 [00:24<00:00,  8.24s/it]\n"
     ]
    },
    {
     "name": "stdout",
     "output_type": "stream",
     "text": [
      "Encoder:[tensor(0.1571), tensor(0.4782), tensor(0.3647)], Decoder:[tensor(0.1571), tensor(0.4782), tensor(0.3647)]\n",
      "Round 35 >> Loss: 1.727153358347765, BLEU:0.14618092278639475, TEST:0.04982569379111131, LISTS:([0.2611674964427948, 0.08218193054199219, 0.09519334137439728]/[0.11942995339632034, 0.0, 0.030047127977013588])\n"
     ]
    },
    {
     "name": "stderr",
     "output_type": "stream",
     "text": [
      "100%|██████████| 3/3 [00:24<00:00,  8.05s/it]\n"
     ]
    },
    {
     "name": "stdout",
     "output_type": "stream",
     "text": [
      "Encoder:[tensor(0.1571), tensor(0.4782), tensor(0.3647)], Decoder:[tensor(0.1571), tensor(0.4782), tensor(0.3647)]\n",
      "Round 36 >> Loss: 1.7081293644088984, BLEU:0.15815365314483643, TEST:0.07060367862383525, LISTS:([0.2982752323150635, 0.0925150066614151, 0.0836707204580307]/[0.17266219854354858, 0.0, 0.03914883732795715])\n"
     ]
    },
    {
     "name": "stderr",
     "output_type": "stream",
     "text": [
      "100%|██████████| 3/3 [00:23<00:00,  7.77s/it]\n"
     ]
    },
    {
     "name": "stdout",
     "output_type": "stream",
     "text": [
      "Encoder:[tensor(0.3647), tensor(0.4782), tensor(0.1571)], Decoder:[tensor(0.3647), tensor(0.4782), tensor(0.1571)]\n",
      "Round 37 >> Loss: 1.6892631451618545, BLEU:0.1745272601644198, TEST:0.06644762431581815, LISTS:([0.33511653542518616, 0.09979812055826187, 0.0886671245098114]/[0.14216186106204987, 0.019469786435365677, 0.03771122545003891])\n"
     ]
    },
    {
     "name": "stderr",
     "output_type": "stream",
     "text": [
      "100%|██████████| 3/3 [00:23<00:00,  7.98s/it]\n"
     ]
    },
    {
     "name": "stdout",
     "output_type": "stream",
     "text": [
      "Encoder:[tensor(0.1571), tensor(0.3647), tensor(0.4782)], Decoder:[tensor(0.1571), tensor(0.3647), tensor(0.4782)]\n",
      "Round 38 >> Loss: 1.6733372392166153, BLEU:0.1683326611916224, TEST:0.05711499104897181, LISTS:([0.31533247232437134, 0.10872188210487366, 0.08094362914562225]/[0.13627727329730988, 0.0, 0.03506769984960556])\n"
     ]
    },
    {
     "name": "stderr",
     "output_type": "stream",
     "text": [
      "100%|██████████| 3/3 [00:22<00:00,  7.61s/it]\n"
     ]
    },
    {
     "name": "stdout",
     "output_type": "stream",
     "text": [
      "Encoder:[tensor(0.4782), tensor(0.3647), tensor(0.1571)], Decoder:[tensor(0.4782), tensor(0.3647), tensor(0.1571)]\n",
      "Round 39 >> Loss: 1.6556339242496947, BLEU:0.17918861905733743, TEST:0.06419409066438675, LISTS:([0.31074514985084534, 0.10650214552879333, 0.12031856179237366]/[0.15897879004478455, 0.0, 0.0336034819483757])\n"
     ]
    },
    {
     "name": "stderr",
     "output_type": "stream",
     "text": [
      "100%|██████████| 3/3 [00:23<00:00,  7.91s/it]\n"
     ]
    },
    {
     "name": "stdout",
     "output_type": "stream",
     "text": [
      "Encoder:[tensor(0.1571), tensor(0.4782), tensor(0.3647)], Decoder:[tensor(0.1571), tensor(0.4782), tensor(0.3647)]\n",
      "Round 40 >> Loss: 1.6357667923529726, BLEU:0.168657086789608, TEST:0.06135474952558676, LISTS:([0.3338792324066162, 0.07799524813890457, 0.09409677982330322]/[0.1371231973171234, 0.013147039338946342, 0.033794011920690536])\n"
     ]
    },
    {
     "name": "stderr",
     "output_type": "stream",
     "text": [
      "100%|██████████| 3/3 [00:21<00:00,  7.18s/it]\n"
     ]
    },
    {
     "name": "stdout",
     "output_type": "stream",
     "text": [
      "Encoder:[tensor(0.4782), tensor(0.3647), tensor(0.1571)], Decoder:[tensor(0.4782), tensor(0.3647), tensor(0.1571)]\n",
      "Round 41 >> Loss: 1.6222500377486668, BLEU:0.17108410596847534, TEST:0.0747957273075978, LISTS:([0.305855929851532, 0.1011228859424591, 0.10627350211143494]/[0.16897287964820862, 0.02769683301448822, 0.02771746926009655])\n"
     ]
    },
    {
     "name": "stderr",
     "output_type": "stream",
     "text": [
      "100%|██████████| 3/3 [00:24<00:00,  8.25s/it]\n"
     ]
    },
    {
     "name": "stdout",
     "output_type": "stream",
     "text": [
      "Encoder:[tensor(0.1571), tensor(0.4782), tensor(0.3647)], Decoder:[tensor(0.1571), tensor(0.4782), tensor(0.3647)]\n",
      "Round 42 >> Loss: 1.6069566410826006, BLEU:0.16695562253395715, TEST:0.07665902314086755, LISTS:([0.2863104045391083, 0.12280237674713135, 0.09175408631563187]/[0.16522853076457977, 0.016032716259360313, 0.04871582239866257])\n"
     ]
    },
    {
     "name": "stderr",
     "output_type": "stream",
     "text": [
      "100%|██████████| 3/3 [00:24<00:00,  8.14s/it]\n"
     ]
    },
    {
     "name": "stdout",
     "output_type": "stream",
     "text": [
      "Encoder:[tensor(0.3647), tensor(0.1571), tensor(0.4782)], Decoder:[tensor(0.3647), tensor(0.1571), tensor(0.4782)]\n",
      "Round 43 >> Loss: 1.589201257808524, BLEU:0.17204814900954565, TEST:0.0641265269368887, LISTS:([0.2997048795223236, 0.09670198708772659, 0.11973758041858673]/[0.14583243429660797, 0.02243073284626007, 0.024116413667798042])\n"
     ]
    },
    {
     "name": "stderr",
     "output_type": "stream",
     "text": [
      "100%|██████████| 3/3 [00:24<00:00,  8.02s/it]\n"
     ]
    },
    {
     "name": "stdout",
     "output_type": "stream",
     "text": [
      "Encoder:[tensor(0.4782), tensor(0.3647), tensor(0.1571)], Decoder:[tensor(0.4782), tensor(0.3647), tensor(0.1571)]\n",
      "Round 44 >> Loss: 1.5745306176210672, BLEU:0.1927900513013204, TEST:0.07236769174536069, LISTS:([0.32441848516464233, 0.12852339446544647, 0.12542827427387238]/[0.13934031128883362, 0.02796352654695511, 0.04979923740029335])\n"
     ]
    },
    {
     "name": "stderr",
     "output_type": "stream",
     "text": [
      "100%|██████████| 3/3 [00:23<00:00,  7.90s/it]\n"
     ]
    },
    {
     "name": "stdout",
     "output_type": "stream",
     "text": [
      "Encoder:[tensor(0.4782), tensor(0.3647), tensor(0.1571)], Decoder:[tensor(0.4782), tensor(0.3647), tensor(0.1571)]\n",
      "Round 45 >> Loss: 1.5579810759250454, BLEU:0.19984024266401926, TEST:0.0612432969113191, LISTS:([0.3404730260372162, 0.11650367081165314, 0.14254403114318848]/[0.1407141536474228, 0.0, 0.0430157370865345])\n"
     ]
    },
    {
     "name": "stderr",
     "output_type": "stream",
     "text": [
      "100%|██████████| 3/3 [00:24<00:00,  8.01s/it]\n"
     ]
    },
    {
     "name": "stdout",
     "output_type": "stream",
     "text": [
      "Encoder:[tensor(0.1571), tensor(0.3647), tensor(0.4782)], Decoder:[tensor(0.1571), tensor(0.3647), tensor(0.4782)]\n",
      "Round 46 >> Loss: 1.5425969431276771, BLEU:0.19858544816573462, TEST:0.06051137515654167, LISTS:([0.35622522234916687, 0.11905223876237869, 0.12047888338565826]/[0.12752656638622284, 0.015309470705688, 0.03869808837771416])\n"
     ]
    },
    {
     "name": "stderr",
     "output_type": "stream",
     "text": [
      "100%|██████████| 3/3 [00:23<00:00,  7.81s/it]\n"
     ]
    },
    {
     "name": "stdout",
     "output_type": "stream",
     "text": [
      "Encoder:[tensor(0.4782), tensor(0.1571), tensor(0.3647)], Decoder:[tensor(0.4782), tensor(0.1571), tensor(0.3647)]\n",
      "Round 47 >> Loss: 1.5268824514303112, BLEU:0.17008170733849207, TEST:0.06989306211471558, LISTS:([0.30492812395095825, 0.10373757779598236, 0.10157942026853561]/[0.1328907310962677, 0.030654046684503555, 0.04613440856337547])\n"
     ]
    },
    {
     "name": "stderr",
     "output_type": "stream",
     "text": [
      "100%|██████████| 3/3 [00:23<00:00,  7.82s/it]\n"
     ]
    },
    {
     "name": "stdout",
     "output_type": "stream",
     "text": [
      "Encoder:[tensor(0.4782), tensor(0.3647), tensor(0.1571)], Decoder:[tensor(0.4782), tensor(0.3647), tensor(0.1571)]\n",
      "Round 48 >> Loss: 1.5114162341620212, BLEU:0.21925323953231177, TEST:0.06431900523602962, LISTS:([0.38177019357681274, 0.15468837320804596, 0.12130115181207657]/[0.13641978800296783, 0.017746319994330406, 0.038790907710790634])\n"
     ]
    },
    {
     "name": "stderr",
     "output_type": "stream",
     "text": [
      "100%|██████████| 3/3 [00:23<00:00,  7.82s/it]\n"
     ]
    },
    {
     "name": "stdout",
     "output_type": "stream",
     "text": [
      "Encoder:[tensor(0.3647), tensor(0.1571), tensor(0.4782)], Decoder:[tensor(0.3647), tensor(0.1571), tensor(0.4782)]\n",
      "Round 49 >> Loss: 1.4978790889605682, BLEU:0.20027160892883936, TEST:0.0650660755733649, LISTS:([0.34292885661125183, 0.10762142390012741, 0.15026454627513885]/[0.12859655916690826, 0.024204686284065247, 0.04239698126912117])\n"
     ]
    },
    {
     "name": "stderr",
     "output_type": "stream",
     "text": [
      "100%|██████████| 3/3 [00:24<00:00,  8.01s/it]\n"
     ]
    },
    {
     "name": "stdout",
     "output_type": "stream",
     "text": [
      "Encoder:[tensor(0.4782), tensor(0.3647), tensor(0.1571)], Decoder:[tensor(0.4782), tensor(0.3647), tensor(0.1571)]\n",
      "Round 50 >> Loss: 1.4842515738324742, BLEU:0.19444418450196585, TEST:0.06782177959879239, LISTS:([0.34461793303489685, 0.1299532800912857, 0.10876134037971497]/[0.1446712762117386, 0.021884828805923462, 0.036909233778715134])\n",
      "Training Done!\n",
      "Total time taken to Train: 1423.3802950382233\n"
     ]
    }
   ],
   "source": [
    "meta_encoder_weights, meta_decoder_weights = training(encoders, decoders, input_output_lang, 50,\n",
    "                                                    lr=0.001, ds=data_dict, C=1.0, K=K, E=1,\n",
    "                                                    filename=filename, batch_size=batch_size, hidden_size=hidden_size,\n",
    "                                                    weighting=True, lexical_weights=None)"
   ]
  },
  {
   "cell_type": "code",
   "execution_count": null,
   "metadata": {},
   "outputs": [
    {
     "name": "stderr",
     "output_type": "stream",
     "text": [
      "100%|██████████| 2/2 [00:02<00:00,  1.18s/it]"
     ]
    },
    {
     "name": "stdout",
     "output_type": "stream",
     "text": [
      "0.1678844355046749\n",
      "[0.12518097460269928, 0.04270346090197563]\n"
     ]
    },
    {
     "name": "stderr",
     "output_type": "stream",
     "text": [
      "\n"
     ]
    }
   ],
   "source": [
    "bleu_test_sum = 0\n",
    "lang_length = len(encoders)\n",
    "test_bleus = []\n",
    "\n",
    "for i in tqdm(range(lang_length)):\n",
    "    test_bleu = evaluateBleu(encoders[i], decoders[i], input_output_lang[i][0], input_output_lang[i][1], input_output_lang[i][3], n=500)\n",
    "    bleu_test_sum += test_bleu\n",
    "    test_bleus.append(test_bleu)\n",
    "\n",
    "print(bleu_test_sum)\n",
    "print(test_bleus)\n",
    "test_bleu = bleu_test_sum / lang_length\n",
    "\n",
    "if filename is not None:\n",
    "    with open(filename, 'a') as f:\n",
    "        # create the csv writer\n",
    "        writer = csv.writer(f)\n",
    "\n",
    "        # write a row to the csv file\n",
    "        writer.writerow([test_bleu, str(test_bleus)])"
   ]
  },
  {
   "cell_type": "code",
   "execution_count": null,
   "metadata": {},
   "outputs": [
    {
     "name": "stdout",
     "output_type": "stream",
     "text": [
      "Reading lines...\n",
      "Read 29506 sentence pairs\n",
      "Trimmed to 872 sentence pairs\n",
      "Counting words...\n",
      "Counted words:\n",
      "kir 1954\n",
      "eng 1566\n"
     ]
    },
    {
     "data": {
      "text/plain": [
       "0.0"
      ]
     },
     "execution_count": 355,
     "metadata": {},
     "output_type": "execute_result"
    }
   ],
   "source": [
    "input_lang, output_lang, train_dataloader, pairs = get_dataloader(batch_size, language='kir')\n",
    "\n",
    "encoder = EncoderRNN(input_lang.n_words, hidden_size).to(device)\n",
    "decoder = AttnDecoderRNN(hidden_size, output_lang.n_words).to(device)\n",
    "\n",
    "e_og = encoder.state_dict()\n",
    "d_og = decoder.state_dict()\n",
    "e_og.update(meta_encoder_weights)\n",
    "d_og.update(meta_decoder_weights)\n",
    "encoder.load_state_dict(e_og)\n",
    "decoder.load_state_dict(d_og)\n",
    "\n",
    "evaluateBleu(encoder, decoder, input_lang, output_lang, pairs, n=500)"
   ]
  },
  {
   "cell_type": "code",
   "execution_count": null,
   "metadata": {},
   "outputs": [],
   "source": [
    "filename=None\n",
    "save = True\n",
    "if save:\n",
    "    num = 1\n",
    "    filename = f\"FT|{'_'.join(langs)}||{num}.csv\"\n",
    "    while os.path.isfile(filename):\n",
    "        print('Name is taken...trying again...')\n",
    "        num += 1\n",
    "        filename = f\"FT|{'_'.join(langs)}||{num}.csv\""
   ]
  },
  {
   "cell_type": "code",
   "execution_count": null,
   "metadata": {},
   "outputs": [
    {
     "name": "stderr",
     "output_type": "stream",
     "text": [
      "100%|██████████| 2/2 [00:06<00:00,  3.04s/it]\n"
     ]
    },
    {
     "name": "stdout",
     "output_type": "stream",
     "text": [
      "[tensor(0.2472), tensor(0.7528)]\n",
      "Round 1 >> Loss: 0.5035429736241385, BLEU:0.5134813487529755, TEST:0.07721402123570442, LISTS:([0.627179741859436, 0.3997829556465149]/[0.10407000035047531, 0.05035804212093353])\n"
     ]
    },
    {
     "name": "stderr",
     "output_type": "stream",
     "text": [
      "100%|██████████| 2/2 [00:06<00:00,  3.09s/it]\n"
     ]
    },
    {
     "name": "stdout",
     "output_type": "stream",
     "text": [
      "[tensor(0.2472), tensor(0.7528)]\n",
      "Round 2 >> Loss: 0.493470582923376, BLEU:0.522781103849411, TEST:0.07091579400002956, LISTS:([0.6328366994857788, 0.4127255082130432]/[0.09516783803701401, 0.04666374996304512])\n"
     ]
    },
    {
     "name": "stderr",
     "output_type": "stream",
     "text": [
      "100%|██████████| 2/2 [00:06<00:00,  3.25s/it]\n"
     ]
    },
    {
     "name": "stdout",
     "output_type": "stream",
     "text": [
      "[tensor(0.7528), tensor(0.2472)]\n",
      "Round 3 >> Loss: 0.4894665155468149, BLEU:0.5234938412904739, TEST:0.08995121531188488, LISTS:([0.6167385578155518, 0.4302491247653961]/[0.1429249346256256, 0.03697749599814415])\n"
     ]
    },
    {
     "name": "stderr",
     "output_type": "stream",
     "text": [
      "100%|██████████| 2/2 [00:06<00:00,  3.25s/it]\n"
     ]
    },
    {
     "name": "stdout",
     "output_type": "stream",
     "text": [
      "[tensor(0.2472), tensor(0.7528)]\n",
      "Round 4 >> Loss: 0.486356709431871, BLEU:0.5448783934116364, TEST:0.08048892207443714, LISTS:([0.6578550338745117, 0.431901752948761]/[0.11629489809274673, 0.04468294605612755])\n"
     ]
    },
    {
     "name": "stderr",
     "output_type": "stream",
     "text": [
      "100%|██████████| 2/2 [00:06<00:00,  3.24s/it]\n"
     ]
    },
    {
     "name": "stdout",
     "output_type": "stream",
     "text": [
      "[tensor(0.7528), tensor(0.2472)]\n",
      "Round 5 >> Loss: 0.4844220779459986, BLEU:0.5081638842821121, TEST:0.10565050691366196, LISTS:([0.5917167067527771, 0.42461106181144714]/[0.13491077721118927, 0.07639023661613464])\n"
     ]
    },
    {
     "name": "stderr",
     "output_type": "stream",
     "text": [
      "100%|██████████| 2/2 [00:06<00:00,  3.19s/it]\n"
     ]
    },
    {
     "name": "stdout",
     "output_type": "stream",
     "text": [
      "[tensor(0.7528), tensor(0.2472)]\n",
      "Round 6 >> Loss: 0.47956900332603775, BLEU:0.5348372012376785, TEST:0.07968711853027344, LISTS:([0.6532623171806335, 0.4164120852947235]/[0.11589603871107101, 0.04347819834947586])\n"
     ]
    },
    {
     "name": "stderr",
     "output_type": "stream",
     "text": [
      "100%|██████████| 2/2 [00:06<00:00,  3.28s/it]\n"
     ]
    },
    {
     "name": "stdout",
     "output_type": "stream",
     "text": [
      "[tensor(0.7528), tensor(0.2472)]\n",
      "Round 7 >> Loss: 0.4806718652057921, BLEU:0.520747721195221, TEST:0.06825476698577404, LISTS:([0.6412057280540466, 0.40028971433639526]/[0.10362997651100159, 0.032879557460546494])\n"
     ]
    },
    {
     "name": "stderr",
     "output_type": "stream",
     "text": [
      "100%|██████████| 2/2 [00:06<00:00,  3.18s/it]\n"
     ]
    },
    {
     "name": "stdout",
     "output_type": "stream",
     "text": [
      "[tensor(0.7528), tensor(0.2472)]\n",
      "Round 8 >> Loss: 0.4792762441519445, BLEU:0.5265385210514069, TEST:0.08649399876594543, LISTS:([0.6149012446403503, 0.4381757974624634]/[0.12205451726913452, 0.05093348026275635])\n"
     ]
    },
    {
     "name": "stderr",
     "output_type": "stream",
     "text": [
      "100%|██████████| 2/2 [00:06<00:00,  3.20s/it]\n"
     ]
    },
    {
     "name": "stdout",
     "output_type": "stream",
     "text": [
      "[tensor(0.2472), tensor(0.7528)]\n",
      "Round 9 >> Loss: 0.4770499549143542, BLEU:0.5133463740348816, TEST:0.10136162303388119, LISTS:([0.6171251535415649, 0.40956759452819824]/[0.1499672383069992, 0.05275600776076317])\n"
     ]
    },
    {
     "name": "stderr",
     "output_type": "stream",
     "text": [
      "100%|██████████| 2/2 [00:06<00:00,  3.26s/it]\n"
     ]
    },
    {
     "name": "stdout",
     "output_type": "stream",
     "text": [
      "[tensor(0.2472), tensor(0.7528)]\n",
      "Round 10 >> Loss: 0.475001929802373, BLEU:0.5240001082420349, TEST:0.08551276475191116, LISTS:([0.6289087533950806, 0.41909146308898926]/[0.1264883577823639, 0.044537171721458435])\n",
      "Training Done!\n",
      "Total time taken to Train: 83.34817051887512\n"
     ]
    }
   ],
   "source": [
    "ft_meta_encoder_weights, ft_meta_decoder_weights = training(encoders, decoders, input_output_lang, 10,\n",
    "                                                    lr=0.001, ds=data_dict, C=1.0, K=K, E=1,\n",
    "                                                    filename=filename, batch_size=batch_size, hidden_size=hidden_size,\n",
    "                                                    weighting=False, lexical_weights=None)"
   ]
  },
  {
   "cell_type": "code",
   "execution_count": null,
   "metadata": {},
   "outputs": [
    {
     "name": "stderr",
     "output_type": "stream",
     "text": [
      "100%|██████████| 2/2 [00:02<00:00,  1.22s/it]\n"
     ]
    }
   ],
   "source": [
    "bleu_test_sum = 0\n",
    "lang_length = len(encoders)\n",
    "test_bleus = []\n",
    "\n",
    "for i in tqdm(range(lang_length)):\n",
    "    test_bleu = evaluateBleu(encoders[i], decoders[i], input_output_lang[i][0], input_output_lang[i][1], input_output_lang[i][3], n=500)\n",
    "    bleu_test_sum += test_bleu\n",
    "    test_bleus.append(test_bleu)\n",
    "test_bleu = bleu_test_sum / lang_length\n",
    "\n",
    "if filename is not None:\n",
    "    with open(filename, 'a') as f:\n",
    "        # create the csv writer\n",
    "        writer = csv.writer(f)\n",
    "\n",
    "        # write a row to the csv file\n",
    "        writer.writerow([test_bleu, str(test_bleus)])"
   ]
  },
  {
   "cell_type": "code",
   "execution_count": 359,
   "metadata": {},
   "outputs": [
    {
     "name": "stdout",
     "output_type": "stream",
     "text": [
      "Reading lines...\n",
      "Read 7376 sentence pairs\n",
      "Trimmed to 215 sentence pairs\n",
      "Counting words...\n",
      "Counted words:\n",
      "kir_test 677\n",
      "eng 575\n"
     ]
    },
    {
     "data": {
      "text/plain": [
       "0.0"
      ]
     },
     "execution_count": 359,
     "metadata": {},
     "output_type": "execute_result"
    }
   ],
   "source": [
    "input_lang, output_lang, train_dataloader, pairs = get_dataloader(batch_size, language='kir_test')\n",
    "\n",
    "encoder = EncoderRNN(input_lang.n_words, hidden_size).to(device)\n",
    "decoder = AttnDecoderRNN(hidden_size, output_lang.n_words).to(device)\n",
    "\n",
    "e_og = encoder.state_dict()\n",
    "d_og = decoder.state_dict()\n",
    "e_og.update(meta_encoder_weights)\n",
    "d_og.update(meta_decoder_weights)\n",
    "encoder.load_state_dict(e_og)\n",
    "decoder.load_state_dict(d_og)\n",
    "\n",
    "evaluateBleu(encoder, decoder, input_lang, output_lang, pairs, n=50)"
   ]
  },
  {
   "cell_type": "code",
   "execution_count": 360,
   "metadata": {},
   "outputs": [],
   "source": [
    "import torch\n",
    "from torch.utils.data import DataLoader, Subset\n",
    "\n",
    "def limited_data_loader(original_dataloader, num_samples, random=True):\n",
    "    # Get the original dataset from the DataLoader\n",
    "    dataset = original_dataloader.dataset\n",
    "    \n",
    "    # Ensure the original dataset is larger than the requested number of samples\n",
    "    assert len(dataset) >= num_samples, \"The original dataset has fewer samples than requested\"\n",
    "    \n",
    "    # Create a Subset of the original dataset limited to the first num_samples elements\n",
    "    if random:\n",
    "        indices = np.random.choice(len(dataset), num_samples, replace=False)\n",
    "    else:\n",
    "        indices = range(num_samples)\n",
    "\n",
    "    subset = Subset(dataset, indices)\n",
    "    \n",
    "    # Create a new DataLoader from this subset with the same parameters as the original DataLoader\n",
    "    new_dataloader = DataLoader(subset, batch_size=original_dataloader.batch_size, shuffle=False, num_workers=original_dataloader.num_workers)\n",
    "    \n",
    "    return new_dataloader\n"
   ]
  },
  {
   "cell_type": "code",
   "execution_count": 43,
   "metadata": {},
   "outputs": [
    {
     "name": "stdout",
     "output_type": "stream",
     "text": [
      "Reading lines...\n",
      "Read 29506 sentence pairs\n",
      "Trimmed to 1317 sentence pairs\n",
      "Counting words...\n",
      "Counted words:\n",
      "kir 3038\n",
      "eng 2292\n"
     ]
    }
   ],
   "source": [
    "MAX_LENGTH = 11\n",
    "input_lang, output_lang, train_dataloader, pairs = get_dataloader(batch_size, language='kir')"
   ]
  },
  {
   "cell_type": "code",
   "execution_count": 284,
   "metadata": {},
   "outputs": [
    {
     "name": "stderr",
     "output_type": "stream",
     "text": [
      "[I 2024-09-09 02:18:20,739] A new study created in memory with name: optimizing weights\n",
      "[I 2024-09-09 02:18:44,254] Trial 0 finished with value: 0.13360893456749204 and parameters: {'bem_encoder': 50, 'bem_decoder': 46, 'kin_encoder': 25, 'kin_decoder': 23}. Best is trial 0 with value: 0.13360893456749204.\n",
      "[I 2024-09-09 02:19:07,130] Trial 1 finished with value: 0.10420546680688858 and parameters: {'bem_encoder': 38, 'bem_decoder': 25, 'kin_encoder': 4, 'kin_decoder': 54}. Best is trial 0 with value: 0.13360893456749204.\n",
      "[I 2024-09-09 02:19:28,851] Trial 2 finished with value: 0.12030361592769623 and parameters: {'bem_encoder': 95, 'bem_decoder': 12, 'kin_encoder': 3, 'kin_decoder': 78}. Best is trial 0 with value: 0.13360893456749204.\n",
      "[I 2024-09-09 02:19:51,669] Trial 3 finished with value: 0.0586138591170311 and parameters: {'bem_encoder': 2, 'bem_decoder': 95, 'kin_encoder': 52, 'kin_decoder': 3}. Best is trial 0 with value: 0.13360893456749204.\n",
      "[I 2024-09-09 02:20:15,291] Trial 4 finished with value: 0.07720957603177683 and parameters: {'bem_encoder': 75, 'bem_decoder': 89, 'kin_encoder': 19, 'kin_decoder': 1}. Best is trial 0 with value: 0.13360893456749204.\n",
      "[I 2024-09-09 02:20:38,079] Trial 5 finished with value: 0.12228985097946306 and parameters: {'bem_encoder': 5, 'bem_decoder': 76, 'kin_encoder': 15, 'kin_decoder': 21}. Best is trial 0 with value: 0.13360893456749204.\n",
      "[I 2024-09-09 02:21:00,712] Trial 6 finished with value: 0.051948752254247665 and parameters: {'bem_encoder': 30, 'bem_decoder': 90, 'kin_encoder': 29, 'kin_decoder': 1}. Best is trial 0 with value: 0.13360893456749204.\n",
      "[I 2024-09-09 02:21:23,393] Trial 7 finished with value: 0.06725515425205231 and parameters: {'bem_encoder': 58, 'bem_decoder': 44, 'kin_encoder': 9, 'kin_decoder': 29}. Best is trial 0 with value: 0.13360893456749204.\n",
      "[I 2024-09-09 02:21:45,458] Trial 8 finished with value: 0.11907179653644562 and parameters: {'bem_encoder': 87, 'bem_decoder': 56, 'kin_encoder': 10, 'kin_decoder': 0}. Best is trial 0 with value: 0.13360893456749204.\n",
      "[I 2024-09-09 02:22:08,310] Trial 9 finished with value: 0.10773559659719467 and parameters: {'bem_encoder': 59, 'bem_decoder': 54, 'kin_encoder': 10, 'kin_decoder': 40}. Best is trial 0 with value: 0.13360893456749204.\n"
     ]
    }
   ],
   "source": [
    "# global_encoder_model, global_decoder_model, test_pairs = personalize('kir', 20, save=False, encoder_weights=global_encoder_weights, decoder_weights=global_decoder_weights, sample=None)\n",
    "langs = ['bem', 'kin', 'lug']\n",
    "objective_full = partial(objective, encoder_models = encoders, decoder_models = decoders, input_lang=input_lang, output_lang=output_lang, target_dataloader=train_dataloader, target_pairs=pairs, test_pairs=test_pairs, sources = langs, device = device)\n",
    "\n",
    "study = optuna.create_study(study_name=\"optimizing weights\", direction=\"maximize\")\n",
    "study.optimize(objective_full, n_trials=10)\n"
   ]
  },
  {
   "cell_type": "code",
   "execution_count": 285,
   "metadata": {},
   "outputs": [],
   "source": [
    "lexical_weights_encoder = []\n",
    "lexical_weights_decoder = []\n",
    "for i, (k,v) in enumerate(study.best_params.items()):\n",
    "    if i % 2 == 0:\n",
    "        lexical_weights_encoder.append(v)\n",
    "    else:\n",
    "        lexical_weights_decoder.append(v)\n",
    "lexical_weights_encoder.append(100 - sum(lexical_weights_encoder))\n",
    "lexical_weights_decoder.append(100 - sum(lexical_weights_decoder))"
   ]
  },
  {
   "cell_type": "code",
   "execution_count": 286,
   "metadata": {},
   "outputs": [
    {
     "data": {
      "text/plain": [
       "[50, 25, 25]"
      ]
     },
     "execution_count": 286,
     "metadata": {},
     "output_type": "execute_result"
    }
   ],
   "source": [
    "lexical_weights_encoder"
   ]
  },
  {
   "cell_type": "code",
   "execution_count": 287,
   "metadata": {},
   "outputs": [],
   "source": [
    "encoder_weights = []\n",
    "decoder_weights = []\n",
    "\n",
    "for i in range(len(encoders)):\n",
    "    encoder_weights.append({key: value for key, value in copy.deepcopy(encoders[i].state_dict()).items() if 'embedding' not in key})\n",
    "    decoder_weights.append({key: value for key, value in copy.deepcopy(decoders[i].state_dict()).items() if 'embedding' not in key and 'out' not in key})\n",
    "    \n",
    "weights_avg_e = copy.deepcopy(encoder_weights[0])\n",
    "weights_avg_d = copy.deepcopy(decoder_weights[0])\n",
    "\n",
    "# Make state_dict empty with zeroes\n",
    "for k in weights_avg_e:\n",
    "    weights_avg_e[k].zero_()\n",
    "for k in weights_avg_d:\n",
    "    weights_avg_d[k].zero_()\n",
    "        \n",
    "# Add and combine weights of all input encoders/decoders according to proportion\n",
    "for k in weights_avg_e.keys():\n",
    "    for i in range(0, len(encoder_weights)):\n",
    "        weights_avg_e[k] += lexical_weights_encoder[i] * encoder_weights[i][k] / 100\n",
    "\n",
    "for k in weights_avg_d.keys():\n",
    "    for i in range(0, len(decoder_weights)):\n",
    "        weights_avg_d[k] += lexical_weights_decoder[i] * decoder_weights[i][k] / 100"
   ]
  },
  {
   "cell_type": "code",
   "execution_count": 288,
   "metadata": {},
   "outputs": [
    {
     "data": {
      "text/plain": [
       "{'bem_encoder': 50, 'bem_decoder': 46, 'kin_encoder': 25, 'kin_decoder': 23}"
      ]
     },
     "execution_count": 288,
     "metadata": {},
     "output_type": "execute_result"
    }
   ],
   "source": [
    "study.best_params"
   ]
  },
  {
   "cell_type": "markdown",
   "metadata": {},
   "source": [
    "# Kirundi FT with OPTUNA"
   ]
  },
  {
   "cell_type": "code",
   "execution_count": 44,
   "metadata": {},
   "outputs": [
    {
     "name": "stdout",
     "output_type": "stream",
     "text": [
      "Reading lines...\n",
      "Read 29506 sentence pairs\n",
      "Trimmed to 1317 sentence pairs\n",
      "Counting words...\n",
      "Counted words:\n",
      "kir 3038\n",
      "eng 2292\n"
     ]
    },
    {
     "ename": "ValueError",
     "evalue": "not enough values to unpack (expected 3, got 2)",
     "output_type": "error",
     "traceback": [
      "\u001b[0;31m---------------------------------------------------------------------------\u001b[0m",
      "\u001b[0;31mValueError\u001b[0m                                Traceback (most recent call last)",
      "Cell \u001b[0;32mIn[44], line 2\u001b[0m\n\u001b[1;32m      1\u001b[0m \u001b[38;5;28;01mfor\u001b[39;00m i \u001b[38;5;129;01min\u001b[39;00m \u001b[38;5;28mrange\u001b[39m(\u001b[38;5;241m3\u001b[39m):\n\u001b[0;32m----> 2\u001b[0m     encoder, decoder, test_pairs \u001b[38;5;241m=\u001b[39m \u001b[43mpersonalize\u001b[49m\u001b[43m(\u001b[49m\u001b[38;5;124;43m'\u001b[39;49m\u001b[38;5;124;43mkir\u001b[39;49m\u001b[38;5;124;43m'\u001b[39;49m\u001b[43m,\u001b[49m\u001b[43m \u001b[49m\u001b[38;5;241;43m100\u001b[39;49m\u001b[43m,\u001b[49m\u001b[43m \u001b[49m\u001b[43msave\u001b[49m\u001b[38;5;241;43m=\u001b[39;49m\u001b[38;5;28;43;01mTrue\u001b[39;49;00m\u001b[43m,\u001b[49m\u001b[43m \u001b[49m\u001b[43mencoder_weights\u001b[49m\u001b[38;5;241;43m=\u001b[39;49m\u001b[43mmeta_encoder_weights\u001b[49m\u001b[43m,\u001b[49m\u001b[43m \u001b[49m\u001b[43mdecoder_weights\u001b[49m\u001b[38;5;241;43m=\u001b[39;49m\u001b[43mmeta_decoder_weights\u001b[49m\u001b[43m,\u001b[49m\u001b[43m \u001b[49m\u001b[43msample\u001b[49m\u001b[38;5;241;43m=\u001b[39;49m\u001b[38;5;28;43;01mNone\u001b[39;49;00m\u001b[43m)\u001b[49m\n",
      "Cell \u001b[0;32mIn[20], line 22\u001b[0m, in \u001b[0;36mpersonalize\u001b[0;34m(lang, rounds, encoder_weights, decoder_weights, sample, save, lang_info)\u001b[0m\n\u001b[1;32m     19\u001b[0m     decoder\u001b[38;5;241m.\u001b[39mload_state_dict(d_og)\n\u001b[1;32m     20\u001b[0m     is_FL \u001b[38;5;241m=\u001b[39m \u001b[38;5;124m'\u001b[39m\u001b[38;5;124mtrue\u001b[39m\u001b[38;5;124m'\u001b[39m\n\u001b[0;32m---> 22\u001b[0m train_dataloader, test_dataloader, split \u001b[38;5;241m=\u001b[39m split_dataloader(train_dataloader)\n\u001b[1;32m     24\u001b[0m \u001b[38;5;28;01mif\u001b[39;00m sample \u001b[38;5;129;01mis\u001b[39;00m \u001b[38;5;28;01mNone\u001b[39;00m:\n\u001b[1;32m     25\u001b[0m     sample \u001b[38;5;241m=\u001b[39m \u001b[38;5;124m'\u001b[39m\u001b[38;5;124mfull\u001b[39m\u001b[38;5;124m'\u001b[39m\n",
      "\u001b[0;31mValueError\u001b[0m: not enough values to unpack (expected 3, got 2)"
     ]
    }
   ],
   "source": [
    "for i in range(3):\n",
    "    encoder, decoder, test_pairs = personalize('kir', 100, save=True, encoder_weights=meta_encoder_weights, decoder_weights=meta_decoder_weights, sample=None)"
   ]
  },
  {
   "cell_type": "code",
   "execution_count": 42,
   "metadata": {},
   "outputs": [
    {
     "name": "stdout",
     "output_type": "stream",
     "text": [
      "Reading lines...\n",
      "Read 29506 sentence pairs\n",
      "Trimmed to 1317 sentence pairs\n",
      "Counting words...\n",
      "Counted words:\n",
      "kir 3038\n",
      "eng 2292\n",
      "no shuffle\n",
      "Epoch 25 >> Loss: 3.1243952166239426, Bleu: 0.1632363498210907, Test Bleu: 0.1130372640724038, Best:(0.1632363498210907/0.1403054487689914)\n",
      "Epoch 50 >> Loss: 0.9226075988610587, Bleu: 0.4353345036506653, Test Bleu: 0.10907139629125595, Best:(0.44289126992225647/0.15641036044110726)\n",
      "Epoch 75 >> Loss: 0.2371241340438525, Bleu: 0.6254980564117432, Test Bleu: 0.14093628525733948, Best:(0.6254980564117432/0.15641036044110726)\n",
      "Epoch 100 >> Loss: 0.08585304656624794, Bleu: 0.6536855101585388, Test Bleu: 0.11871686577796936, Best:(0.678561270236969/0.15641036044110726)\n",
      "Reading lines...\n",
      "Read 29506 sentence pairs\n",
      "Trimmed to 1317 sentence pairs\n",
      "Counting words...\n",
      "Counted words:\n",
      "kir 3038\n",
      "eng 2292\n",
      "no shuffle\n",
      "Name is taken...trying again...\n",
      "Epoch 25 >> Loss: 3.15413605372111, Bleu: 0.12506474554538727, Test Bleu: 0.09209311008453369, Best:(0.13598057627677917/0.1266898810863495)\n",
      "Epoch 50 >> Loss: 0.933798523902893, Bleu: 0.3668670058250427, Test Bleu: 0.1134398877620697, Best:(0.38438278436660767/0.13957402110099792)\n",
      "Epoch 75 >> Loss: 0.2447884215315183, Bleu: 0.4891332685947418, Test Bleu: 0.11878076940774918, Best:(0.5798667669296265/0.14472052454948425)\n",
      "Epoch 100 >> Loss: 0.08662936530510583, Bleu: 0.5828726887702942, Test Bleu: 0.11285009235143661, Best:(0.6453009843826294/0.14472052454948425)\n",
      "Reading lines...\n",
      "Read 29506 sentence pairs\n",
      "Trimmed to 1317 sentence pairs\n",
      "Counting words...\n",
      "Counted words:\n",
      "kir 3038\n",
      "eng 2292\n",
      "no shuffle\n",
      "Name is taken...trying again...\n",
      "Name is taken...trying again...\n",
      "Epoch 25 >> Loss: 3.0869381764729824, Bleu: 0.16732388734817505, Test Bleu: 0.11604105681180954, Best:(0.17437277734279633/0.12556256353855133)\n",
      "Epoch 50 >> Loss: 0.8568130244414011, Bleu: 0.600642204284668, Test Bleu: 0.1485481560230255, Best:(0.600642204284668/0.1670488864183426)\n",
      "Epoch 75 >> Loss: 0.21040741417805356, Bleu: 0.7135624885559082, Test Bleu: 0.12747755646705627, Best:(0.733674168586731/0.1670488864183426)\n",
      "Epoch 100 >> Loss: 0.07673529368638993, Bleu: 0.7233351469039917, Test Bleu: 0.16186481714248657, Best:(0.76413893699646/0.1696394830942154)\n"
     ]
    }
   ],
   "source": [
    "for i in range(3):\n",
    "    encoder, decoder, test_pairs = personalize('kir', 100, save=True, encoder_weights=meta_encoder_weights, decoder_weights=meta_decoder_weights, sample=500)"
   ]
  },
  {
   "cell_type": "code",
   "execution_count": 43,
   "metadata": {},
   "outputs": [
    {
     "name": "stdout",
     "output_type": "stream",
     "text": [
      "Reading lines...\n",
      "Read 29506 sentence pairs\n",
      "Trimmed to 1317 sentence pairs\n",
      "Counting words...\n",
      "Counted words:\n",
      "kir 3038\n",
      "eng 2292\n",
      "no shuffle\n",
      "Epoch 25 >> Loss: 4.323321930567424, Bleu: 0.06776860123267346, Test Bleu: 0.0686566434443879, Best:(0.06776860123267346/0.07215484772240972)\n",
      "Epoch 50 >> Loss: 2.0862010780970257, Bleu: 0.3378818656288064, Test Bleu: 0.10700542794640341, Best:(0.3378818656288064/0.12132781744003296)\n",
      "Epoch 75 >> Loss: 0.8709251209100085, Bleu: 0.6422285437583923, Test Bleu: 0.11082799095117929, Best:(0.6530925035476685/0.1319272518157959)\n",
      "Epoch 100 >> Loss: 0.3214492837587993, Bleu: 0.7473016381263733, Test Bleu: 0.134121373295784, Best:(0.7549594640731812/0.1357509046792984)\n",
      "Reading lines...\n",
      "Read 29506 sentence pairs\n",
      "Trimmed to 1317 sentence pairs\n",
      "Counting words...\n",
      "Counted words:\n",
      "kir 3038\n",
      "eng 2292\n",
      "no shuffle\n",
      "Name is taken...trying again...\n",
      "Epoch 25 >> Loss: 4.23095806757609, Bleu: 0.06138278473261085, Test Bleu: 0.0563452492251914, Best:(0.06138278473261085/0.0641890172385639)\n",
      "Epoch 50 >> Loss: 2.008198226292928, Bleu: 0.29058346152305603, Test Bleu: 0.09825096279382706, Best:(0.30616727471351624/0.12158768624067307)\n",
      "Epoch 75 >> Loss: 0.8174273586273195, Bleu: 0.7125754356384277, Test Bleu: 0.1249317079782486, Best:(0.7125754356384277/0.1519867479801178)\n",
      "Epoch 100 >> Loss: 0.2941241792837779, Bleu: 0.7817336320877075, Test Bleu: 0.11049342155456543, Best:(0.7968569993972778/0.15286387503147125)\n",
      "Reading lines...\n",
      "Read 29506 sentence pairs\n",
      "Trimmed to 1317 sentence pairs\n",
      "Counting words...\n",
      "Counted words:\n",
      "kir 3038\n",
      "eng 2292\n",
      "no shuffle\n",
      "Name is taken...trying again...\n",
      "Name is taken...trying again...\n",
      "Epoch 25 >> Loss: 4.3761621316274, Bleu: 0.049803694733461516, Test Bleu: 0.0520376342220209, Best:(0.06723916356356296/0.0520376342220209)\n",
      "Epoch 50 >> Loss: 2.1302435827255253, Bleu: 0.3019811809062958, Test Bleu: 0.10130885944692082, Best:(0.3019811809062958/0.10130885944692082)\n",
      "Epoch 75 >> Loss: 0.9196238231658934, Bleu: 0.6772538423538208, Test Bleu: 0.09751514474695348, Best:(0.6772538423538208/0.11850159265591718)\n",
      "Epoch 100 >> Loss: 0.349586332043012, Bleu: 0.799988865852356, Test Bleu: 0.1001976951956749, Best:(0.80515456199646/0.13510605692863464)\n"
     ]
    }
   ],
   "source": [
    "for i in range(3):\n",
    "    encoder, decoder, test_pairs = personalize('kir', 100, save=True, encoder_weights=meta_encoder_weights, decoder_weights=meta_decoder_weights, sample=100)"
   ]
  },
  {
   "cell_type": "code",
   "execution_count": 364,
   "metadata": {},
   "outputs": [
    {
     "name": "stdout",
     "output_type": "stream",
     "text": [
      "Reading lines...\n",
      "Read 29506 sentence pairs\n",
      "Trimmed to 1317 sentence pairs\n",
      "Counting words...\n",
      "Counted words:\n",
      "kir 3038\n",
      "eng 2292\n",
      "1317\n",
      "no shuffle\n",
      "Dataloader Train: 500\n",
      "Dataloader Test: 330\n",
      "Train examples 480\n",
      "Test examples 320\n",
      "Epoch 25 >> Loss: 3.2559069484074907, Bleu: 0.11196913570165634, Test Bleu: 0.0842679888010025, Best:(0.12159789353609085/0.0842679888010025)\n",
      "Epoch 50 >> Loss: 1.0975287888844805, Bleu: 0.30702269077301025, Test Bleu: 0.1287538856267929, Best:(0.31274381279945374/0.14282378554344177)\n",
      "Epoch 75 >> Loss: 0.3202398195664088, Bleu: 0.6449364423751831, Test Bleu: 0.11722522974014282, Best:(0.679939329624176/0.14745186269283295)\n",
      "Epoch 100 >> Loss: 0.1069859682818254, Bleu: 0.7730781435966492, Test Bleu: 0.14985962212085724, Best:(0.7752388715744019/0.1517745852470398)\n",
      "Reading lines...\n",
      "Read 29506 sentence pairs\n",
      "Trimmed to 1317 sentence pairs\n",
      "Counting words...\n",
      "Counted words:\n",
      "kir 3038\n",
      "eng 2292\n",
      "1317\n",
      "no shuffle\n",
      "Dataloader Train: 500\n",
      "Dataloader Test: 330\n",
      "Train examples 480\n",
      "Test examples 320\n",
      "Name is taken...trying again...\n",
      "Epoch 25 >> Loss: 3.1941762294769287, Bleu: 0.1018385961651802, Test Bleu: 0.07509719580411911, Best:(0.1018385961651802/0.08614430576562881)\n",
      "Epoch 50 >> Loss: 1.0774212649663288, Bleu: 0.27938318252563477, Test Bleu: 0.08759073168039322, Best:(0.28874626755714417/0.10621640831232071)\n",
      "Epoch 75 >> Loss: 0.31953820963700613, Bleu: 0.4549476206302643, Test Bleu: 0.05414970591664314, Best:(0.4889308214187622/0.10621640831232071)\n",
      "Epoch 100 >> Loss: 0.10886600816249846, Bleu: 0.6144798398017883, Test Bleu: 0.0804990604519844, Best:(0.630418062210083/0.10621640831232071)\n",
      "Reading lines...\n",
      "Read 29506 sentence pairs\n",
      "Trimmed to 1317 sentence pairs\n",
      "Counting words...\n",
      "Counted words:\n",
      "kir 3038\n",
      "eng 2292\n",
      "1317\n",
      "no shuffle\n",
      "Dataloader Train: 500\n",
      "Dataloader Test: 330\n",
      "Train examples 480\n",
      "Test examples 320\n",
      "Name is taken...trying again...\n",
      "Name is taken...trying again...\n",
      "Epoch 25 >> Loss: 3.336484144846599, Bleu: 0.09202463179826736, Test Bleu: 0.0863981619477272, Best:(0.09894721210002899/0.0863981619477272)\n",
      "Epoch 50 >> Loss: 1.124241898059845, Bleu: 0.27109473943710327, Test Bleu: 0.06925443559885025, Best:(0.2717709541320801/0.10197839885950089)\n",
      "Epoch 75 >> Loss: 0.33652230350176493, Bleu: 0.5636745095252991, Test Bleu: 0.1350574940443039, Best:(0.5697063207626343/0.1350574940443039)\n",
      "Epoch 100 >> Loss: 0.11588416264454525, Bleu: 0.641939103603363, Test Bleu: 0.11357411742210388, Best:(0.6759656071662903/0.1350574940443039)\n"
     ]
    }
   ],
   "source": [
    "for i in range(3):\n",
    "    encoder, decoder, test_pairs = personalize('kir', 100, save=True, sample=500)"
   ]
  },
  {
   "cell_type": "code",
   "execution_count": 365,
   "metadata": {},
   "outputs": [
    {
     "name": "stdout",
     "output_type": "stream",
     "text": [
      "Reading lines...\n",
      "Read 29506 sentence pairs\n",
      "Trimmed to 1317 sentence pairs\n",
      "Counting words...\n",
      "Counted words:\n",
      "kir 3038\n",
      "eng 2292\n",
      "1317\n",
      "Dataloader Train: 987\n",
      "Dataloader Test: 330\n",
      "Train examples 960\n",
      "Test examples 320\n",
      "Epoch 25 >> Loss: 2.780988239924113, Bleu: 0.15870223939418793, Test Bleu: 0.12819230556488037, Best:(0.1653084009885788/0.16161267459392548)\n",
      "Epoch 50 >> Loss: 0.7319664926131567, Bleu: 0.3859574496746063, Test Bleu: 0.15479032695293427, Best:(0.4040026068687439/0.16351626813411713)\n",
      "Epoch 75 >> Loss: 0.18656213439504307, Bleu: 0.5384177565574646, Test Bleu: 0.15235279500484467, Best:(0.5671566724777222/0.17379246652126312)\n",
      "Epoch 100 >> Loss: 0.06217837663491566, Bleu: 0.5931922793388367, Test Bleu: 0.15370775759220123, Best:(0.6825713515281677/0.17379246652126312)\n",
      "Reading lines...\n",
      "Read 29506 sentence pairs\n",
      "Trimmed to 1317 sentence pairs\n",
      "Counting words...\n",
      "Counted words:\n",
      "kir 3038\n",
      "eng 2292\n",
      "1317\n",
      "Dataloader Train: 987\n",
      "Dataloader Test: 330\n",
      "Train examples 960\n",
      "Test examples 320\n",
      "Name is taken...trying again...\n",
      "Epoch 25 >> Loss: 2.811596232414246, Bleu: 0.1834995299577713, Test Bleu: 0.10516344755887985, Best:(0.1834995299577713/0.14363010227680206)\n",
      "Epoch 50 >> Loss: 0.7429113020300866, Bleu: 0.3559792935848236, Test Bleu: 0.13292422890663147, Best:(0.3694293200969696/0.1437654048204422)\n",
      "Epoch 75 >> Loss: 0.18335371172428133, Bleu: 0.4497801661491394, Test Bleu: 0.13893018662929535, Best:(0.5099580883979797/0.16127049922943115)\n",
      "Epoch 100 >> Loss: 0.05859575493385396, Bleu: 0.5129236578941345, Test Bleu: 0.16207212209701538, Best:(0.5341967940330505/0.16207212209701538)\n",
      "Reading lines...\n",
      "Read 29506 sentence pairs\n",
      "Trimmed to 1317 sentence pairs\n",
      "Counting words...\n",
      "Counted words:\n",
      "kir 3038\n",
      "eng 2292\n",
      "1317\n",
      "Dataloader Train: 987\n",
      "Dataloader Test: 330\n",
      "Train examples 960\n",
      "Test examples 320\n",
      "Name is taken...trying again...\n",
      "Name is taken...trying again...\n",
      "Epoch 25 >> Loss: 2.773321516354879, Bleu: 0.1665876805782318, Test Bleu: 0.13151973485946655, Best:(0.17203637957572937/0.1455163021314858)\n",
      "Epoch 50 >> Loss: 0.739179624636968, Bleu: 0.4434548616409302, Test Bleu: 0.1499609798192978, Best:(0.4434548616409302/0.16852810978889465)\n",
      "Epoch 75 >> Loss: 0.19810319640239082, Bleu: 0.6337246298789978, Test Bleu: 0.13472068309783936, Best:(0.6337246298789978/0.19458062946796417)\n",
      "Epoch 100 >> Loss: 0.06538397500912349, Bleu: 0.6580188274383545, Test Bleu: 0.1451413333415985, Best:(0.6775113940238953/0.19528362154960632)\n"
     ]
    }
   ],
   "source": [
    "for i in range(3):\n",
    "    encoder, decoder, test_pairs = personalize('kir', 100, save=True, sample=None)"
   ]
  },
  {
   "cell_type": "code",
   "execution_count": 270,
   "metadata": {},
   "outputs": [],
   "source": [
    "torch.save(weights_avg_e, \"./best_encoder_kir.pt\")"
   ]
  },
  {
   "cell_type": "code",
   "execution_count": 271,
   "metadata": {},
   "outputs": [],
   "source": [
    "torch.save(weights_avg_d, \"./best_decoder_kir.pt\")"
   ]
  },
  {
   "cell_type": "code",
   "execution_count": 267,
   "metadata": {},
   "outputs": [
    {
     "name": "stdout",
     "output_type": "stream",
     "text": [
      "Reading lines...\n",
      "Read 29506 sentence pairs\n",
      "Trimmed to 872 sentence pairs\n",
      "Counting words...\n",
      "Counted words:\n",
      "kir 1954\n",
      "eng 1566\n",
      "Epoch 25 >> Loss: 3.529470497369766, Bleu: 0.058492448180913925, Test Bleu: 0.060413893312215805, Best:(0.058492448180913925/0.06182243302464485)\n"
     ]
    },
    {
     "ename": "KeyboardInterrupt",
     "evalue": "",
     "output_type": "error",
     "traceback": [
      "\u001b[0;31m---------------------------------------------------------------------------\u001b[0m",
      "\u001b[0;31mKeyboardInterrupt\u001b[0m                         Traceback (most recent call last)",
      "Cell \u001b[0;32mIn[267], line 1\u001b[0m\n\u001b[0;32m----> 1\u001b[0m encoder, decoder, test_pairs \u001b[38;5;241m=\u001b[39m \u001b[43mpersonalize\u001b[49m\u001b[43m(\u001b[49m\u001b[38;5;124;43m'\u001b[39;49m\u001b[38;5;124;43mkir\u001b[39;49m\u001b[38;5;124;43m'\u001b[39;49m\u001b[43m,\u001b[49m\u001b[43m \u001b[49m\u001b[38;5;241;43m100\u001b[39;49m\u001b[43m,\u001b[49m\u001b[43m \u001b[49m\u001b[43msave\u001b[49m\u001b[38;5;241;43m=\u001b[39;49m\u001b[38;5;28;43;01mTrue\u001b[39;49;00m\u001b[43m,\u001b[49m\u001b[43m \u001b[49m\u001b[43mencoder_weights\u001b[49m\u001b[38;5;241;43m=\u001b[39;49m\u001b[43mweights_avg_e\u001b[49m\u001b[43m,\u001b[49m\u001b[43m \u001b[49m\u001b[43mdecoder_weights\u001b[49m\u001b[38;5;241;43m=\u001b[39;49m\u001b[43mweights_avg_d\u001b[49m\u001b[43m,\u001b[49m\u001b[43m \u001b[49m\u001b[43msample\u001b[49m\u001b[38;5;241;43m=\u001b[39;49m\u001b[38;5;241;43m100\u001b[39;49m\u001b[43m)\u001b[49m\n",
      "Cell \u001b[0;32mIn[133], line 42\u001b[0m, in \u001b[0;36mpersonalize\u001b[0;34m(lang, rounds, encoder_weights, decoder_weights, sample, save, lang_info)\u001b[0m\n\u001b[1;32m     40\u001b[0m         num \u001b[38;5;241m+\u001b[39m\u001b[38;5;241m=\u001b[39m \u001b[38;5;241m1\u001b[39m\n\u001b[1;32m     41\u001b[0m         filename \u001b[38;5;241m=\u001b[39m \u001b[38;5;124mf\u001b[39m\u001b[38;5;124m\"\u001b[39m\u001b[38;5;124mP|\u001b[39m\u001b[38;5;132;01m{\u001b[39;00mlang\u001b[38;5;132;01m}\u001b[39;00m\u001b[38;5;124m_\u001b[39m\u001b[38;5;132;01m{\u001b[39;00msample\u001b[38;5;132;01m}\u001b[39;00m\u001b[38;5;124m-shot_FL-\u001b[39m\u001b[38;5;132;01m{\u001b[39;00mis_FL\u001b[38;5;132;01m}\u001b[39;00m\u001b[38;5;124m_epoch\u001b[39m\u001b[38;5;132;01m{\u001b[39;00mrounds\u001b[38;5;132;01m}\u001b[39;00m\u001b[38;5;124m||\u001b[39m\u001b[38;5;132;01m{\u001b[39;00mnum\u001b[38;5;132;01m}\u001b[39;00m\u001b[38;5;124m.csv\u001b[39m\u001b[38;5;124m\"\u001b[39m\n\u001b[0;32m---> 42\u001b[0m \u001b[43mtrain\u001b[49m\u001b[43m(\u001b[49m\u001b[43mtrain_dataloader\u001b[49m\u001b[43m,\u001b[49m\u001b[43m \u001b[49m\u001b[43mencoder\u001b[49m\u001b[43m,\u001b[49m\u001b[43m \u001b[49m\u001b[43mdecoder\u001b[49m\u001b[43m,\u001b[49m\u001b[43m \u001b[49m\u001b[43mrounds\u001b[49m\u001b[43m,\u001b[49m\u001b[43m \u001b[49m\u001b[43mprint_every\u001b[49m\u001b[38;5;241;43m=\u001b[39;49m\u001b[38;5;241;43m25\u001b[39;49m\u001b[43m,\u001b[49m\u001b[43m \u001b[49m\u001b[43mplot_every\u001b[49m\u001b[38;5;241;43m=\u001b[39;49m\u001b[38;5;241;43m5\u001b[39;49m\u001b[43m,\u001b[49m\u001b[43m \u001b[49m\u001b[43mfilename\u001b[49m\u001b[38;5;241;43m=\u001b[39;49m\u001b[43mfilename\u001b[49m\u001b[43m,\u001b[49m\u001b[43m \u001b[49m\u001b[38;5;28;43minput\u001b[39;49m\u001b[38;5;241;43m=\u001b[39;49m\u001b[43minput_lang\u001b[49m\u001b[43m,\u001b[49m\u001b[43m \u001b[49m\u001b[43moutput\u001b[49m\u001b[38;5;241;43m=\u001b[39;49m\u001b[43moutput_lang\u001b[49m\u001b[43m,\u001b[49m\u001b[43m \u001b[49m\u001b[43mpairs\u001b[49m\u001b[38;5;241;43m=\u001b[39;49m\u001b[43mtrain_pairs\u001b[49m\u001b[43m,\u001b[49m\u001b[43m \u001b[49m\u001b[43mtest_pairs\u001b[49m\u001b[38;5;241;43m=\u001b[39;49m\u001b[43mtest_pairs\u001b[49m\u001b[43m)\u001b[49m\n\u001b[1;32m     43\u001b[0m \u001b[38;5;28;01mreturn\u001b[39;00m encoder, decoder, test_pairs\n",
      "Cell \u001b[0;32mIn[88], line 20\u001b[0m, in \u001b[0;36mtrain\u001b[0;34m(train_dataloader, encoder, decoder, n_epochs, input, output, pairs, test_pairs, filename, learning_rate, print_every, plot_every)\u001b[0m\n\u001b[1;32m     17\u001b[0m print_loss_total \u001b[38;5;241m+\u001b[39m\u001b[38;5;241m=\u001b[39m loss\n\u001b[1;32m     18\u001b[0m plot_loss_total \u001b[38;5;241m+\u001b[39m\u001b[38;5;241m=\u001b[39m loss\n\u001b[0;32m---> 20\u001b[0m bleu \u001b[38;5;241m=\u001b[39m \u001b[43mevaluateBleu\u001b[49m\u001b[43m(\u001b[49m\u001b[43mencoder\u001b[49m\u001b[43m,\u001b[49m\u001b[43m \u001b[49m\u001b[43mdecoder\u001b[49m\u001b[43m,\u001b[49m\u001b[43m \u001b[49m\u001b[38;5;28;43minput\u001b[39;49m\u001b[43m,\u001b[49m\u001b[43m \u001b[49m\u001b[43moutput\u001b[49m\u001b[43m,\u001b[49m\u001b[43m \u001b[49m\u001b[43mpairs\u001b[49m\u001b[43m,\u001b[49m\u001b[43m \u001b[49m\u001b[43mn\u001b[49m\u001b[38;5;241;43m=\u001b[39;49m\u001b[38;5;241;43m200\u001b[39;49m\u001b[43m)\u001b[49m\n\u001b[1;32m     21\u001b[0m \u001b[38;5;28;01mif\u001b[39;00m test_pairs \u001b[38;5;129;01mis\u001b[39;00m \u001b[38;5;129;01mnot\u001b[39;00m \u001b[38;5;28;01mNone\u001b[39;00m:\n\u001b[1;32m     22\u001b[0m     test_bleu \u001b[38;5;241m=\u001b[39m evaluateBleu(encoder, decoder, \u001b[38;5;28minput\u001b[39m, output, test_pairs, n\u001b[38;5;241m=\u001b[39m\u001b[38;5;28mmin\u001b[39m(\u001b[38;5;241m200\u001b[39m,\u001b[38;5;28mlen\u001b[39m(test_pairs)))\n",
      "Cell \u001b[0;32mIn[87], line 10\u001b[0m, in \u001b[0;36mevaluateBleu\u001b[0;34m(encoder, decoder, input_lang, output_lang, pairs, n, verbose)\u001b[0m\n\u001b[1;32m      8\u001b[0m \u001b[38;5;28;01mfor\u001b[39;00m num \u001b[38;5;129;01min\u001b[39;00m numbers:\n\u001b[1;32m      9\u001b[0m     pair \u001b[38;5;241m=\u001b[39m pairs[num]\n\u001b[0;32m---> 10\u001b[0m     output_words, _ \u001b[38;5;241m=\u001b[39m \u001b[43mevaluate\u001b[49m\u001b[43m(\u001b[49m\u001b[43mencoder\u001b[49m\u001b[43m,\u001b[49m\u001b[43m \u001b[49m\u001b[43mdecoder\u001b[49m\u001b[43m,\u001b[49m\u001b[43m \u001b[49m\u001b[43mpair\u001b[49m\u001b[43m[\u001b[49m\u001b[38;5;241;43m0\u001b[39;49m\u001b[43m]\u001b[49m\u001b[43m,\u001b[49m\u001b[43m \u001b[49m\u001b[43minput_lang\u001b[49m\u001b[43m,\u001b[49m\u001b[43m \u001b[49m\u001b[43moutput_lang\u001b[49m\u001b[43m)\u001b[49m\n\u001b[1;32m     11\u001b[0m     output_sentence \u001b[38;5;241m=\u001b[39m \u001b[38;5;124m'\u001b[39m\u001b[38;5;124m \u001b[39m\u001b[38;5;124m'\u001b[39m\u001b[38;5;241m.\u001b[39mjoin(output_words)\u001b[38;5;241m.\u001b[39msplit(\u001b[38;5;124m'\u001b[39m\u001b[38;5;124m \u001b[39m\u001b[38;5;124m'\u001b[39m)\n\u001b[1;32m     12\u001b[0m     \u001b[38;5;28;01mif\u001b[39;00m verbose:\n",
      "Cell \u001b[0;32mIn[163], line 6\u001b[0m, in \u001b[0;36mevaluate\u001b[0;34m(encoder, decoder, sentence, input_lang, output_lang)\u001b[0m\n\u001b[1;32m      3\u001b[0m input_tensor \u001b[38;5;241m=\u001b[39m tensorFromSentence(input_lang, sentence)\n\u001b[1;32m      5\u001b[0m encoder_outputs, encoder_hidden \u001b[38;5;241m=\u001b[39m encoder(input_tensor)\n\u001b[0;32m----> 6\u001b[0m decoder_outputs, decoder_hidden, decoder_attn \u001b[38;5;241m=\u001b[39m \u001b[43mdecoder\u001b[49m\u001b[43m(\u001b[49m\u001b[43mencoder_outputs\u001b[49m\u001b[43m,\u001b[49m\u001b[43m \u001b[49m\u001b[43mencoder_hidden\u001b[49m\u001b[43m)\u001b[49m\n\u001b[1;32m      8\u001b[0m _, topi \u001b[38;5;241m=\u001b[39m decoder_outputs\u001b[38;5;241m.\u001b[39mtopk(\u001b[38;5;241m1\u001b[39m)\n\u001b[1;32m      9\u001b[0m decoded_ids \u001b[38;5;241m=\u001b[39m topi\u001b[38;5;241m.\u001b[39msqueeze()\n",
      "File \u001b[0;32m/usr/local/lib/python3.10/dist-packages/torch/nn/modules/module.py:1510\u001b[0m, in \u001b[0;36mModule._wrapped_call_impl\u001b[0;34m(self, *args, **kwargs)\u001b[0m\n\u001b[1;32m   1508\u001b[0m     \u001b[38;5;28;01mreturn\u001b[39;00m \u001b[38;5;28mself\u001b[39m\u001b[38;5;241m.\u001b[39m_compiled_call_impl(\u001b[38;5;241m*\u001b[39margs, \u001b[38;5;241m*\u001b[39m\u001b[38;5;241m*\u001b[39mkwargs)  \u001b[38;5;66;03m# type: ignore[misc]\u001b[39;00m\n\u001b[1;32m   1509\u001b[0m \u001b[38;5;28;01melse\u001b[39;00m:\n\u001b[0;32m-> 1510\u001b[0m     \u001b[38;5;28;01mreturn\u001b[39;00m \u001b[38;5;28;43mself\u001b[39;49m\u001b[38;5;241;43m.\u001b[39;49m\u001b[43m_call_impl\u001b[49m\u001b[43m(\u001b[49m\u001b[38;5;241;43m*\u001b[39;49m\u001b[43margs\u001b[49m\u001b[43m,\u001b[49m\u001b[43m \u001b[49m\u001b[38;5;241;43m*\u001b[39;49m\u001b[38;5;241;43m*\u001b[39;49m\u001b[43mkwargs\u001b[49m\u001b[43m)\u001b[49m\n",
      "File \u001b[0;32m/usr/local/lib/python3.10/dist-packages/torch/nn/modules/module.py:1519\u001b[0m, in \u001b[0;36mModule._call_impl\u001b[0;34m(self, *args, **kwargs)\u001b[0m\n\u001b[1;32m   1514\u001b[0m \u001b[38;5;66;03m# If we don't have any hooks, we want to skip the rest of the logic in\u001b[39;00m\n\u001b[1;32m   1515\u001b[0m \u001b[38;5;66;03m# this function, and just call forward.\u001b[39;00m\n\u001b[1;32m   1516\u001b[0m \u001b[38;5;28;01mif\u001b[39;00m \u001b[38;5;129;01mnot\u001b[39;00m (\u001b[38;5;28mself\u001b[39m\u001b[38;5;241m.\u001b[39m_backward_hooks \u001b[38;5;129;01mor\u001b[39;00m \u001b[38;5;28mself\u001b[39m\u001b[38;5;241m.\u001b[39m_backward_pre_hooks \u001b[38;5;129;01mor\u001b[39;00m \u001b[38;5;28mself\u001b[39m\u001b[38;5;241m.\u001b[39m_forward_hooks \u001b[38;5;129;01mor\u001b[39;00m \u001b[38;5;28mself\u001b[39m\u001b[38;5;241m.\u001b[39m_forward_pre_hooks\n\u001b[1;32m   1517\u001b[0m         \u001b[38;5;129;01mor\u001b[39;00m _global_backward_pre_hooks \u001b[38;5;129;01mor\u001b[39;00m _global_backward_hooks\n\u001b[1;32m   1518\u001b[0m         \u001b[38;5;129;01mor\u001b[39;00m _global_forward_hooks \u001b[38;5;129;01mor\u001b[39;00m _global_forward_pre_hooks):\n\u001b[0;32m-> 1519\u001b[0m     \u001b[38;5;28;01mreturn\u001b[39;00m \u001b[43mforward_call\u001b[49m\u001b[43m(\u001b[49m\u001b[38;5;241;43m*\u001b[39;49m\u001b[43margs\u001b[49m\u001b[43m,\u001b[49m\u001b[43m \u001b[49m\u001b[38;5;241;43m*\u001b[39;49m\u001b[38;5;241;43m*\u001b[39;49m\u001b[43mkwargs\u001b[49m\u001b[43m)\u001b[49m\n\u001b[1;32m   1521\u001b[0m \u001b[38;5;28;01mtry\u001b[39;00m:\n\u001b[1;32m   1522\u001b[0m     result \u001b[38;5;241m=\u001b[39m \u001b[38;5;28;01mNone\u001b[39;00m\n",
      "Cell \u001b[0;32mIn[81], line 34\u001b[0m, in \u001b[0;36mAttnDecoderRNN.forward\u001b[0;34m(self, encoder_outputs, encoder_hidden, target_tensor)\u001b[0m\n\u001b[1;32m     31\u001b[0m attentions \u001b[38;5;241m=\u001b[39m []\n\u001b[1;32m     33\u001b[0m \u001b[38;5;28;01mfor\u001b[39;00m i \u001b[38;5;129;01min\u001b[39;00m \u001b[38;5;28mrange\u001b[39m(MAX_LENGTH):\n\u001b[0;32m---> 34\u001b[0m     decoder_output, decoder_hidden, attn_weights \u001b[38;5;241m=\u001b[39m \u001b[38;5;28;43mself\u001b[39;49m\u001b[38;5;241;43m.\u001b[39;49m\u001b[43mforward_step\u001b[49m\u001b[43m(\u001b[49m\n\u001b[1;32m     35\u001b[0m \u001b[43m        \u001b[49m\u001b[43mdecoder_input\u001b[49m\u001b[43m,\u001b[49m\u001b[43m \u001b[49m\u001b[43mdecoder_hidden\u001b[49m\u001b[43m,\u001b[49m\u001b[43m \u001b[49m\u001b[43mencoder_outputs\u001b[49m\n\u001b[1;32m     36\u001b[0m \u001b[43m    \u001b[49m\u001b[43m)\u001b[49m\n\u001b[1;32m     37\u001b[0m     decoder_outputs\u001b[38;5;241m.\u001b[39mappend(decoder_output)\n\u001b[1;32m     38\u001b[0m     attentions\u001b[38;5;241m.\u001b[39mappend(attn_weights)\n",
      "Cell \u001b[0;32mIn[81], line 56\u001b[0m, in \u001b[0;36mAttnDecoderRNN.forward_step\u001b[0;34m(self, input, hidden, encoder_outputs)\u001b[0m\n\u001b[1;32m     55\u001b[0m \u001b[38;5;28;01mdef\u001b[39;00m \u001b[38;5;21mforward_step\u001b[39m(\u001b[38;5;28mself\u001b[39m, \u001b[38;5;28minput\u001b[39m, hidden, encoder_outputs):\n\u001b[0;32m---> 56\u001b[0m     embedded \u001b[38;5;241m=\u001b[39m  \u001b[38;5;28mself\u001b[39m\u001b[38;5;241m.\u001b[39mdropout(\u001b[38;5;28;43mself\u001b[39;49m\u001b[38;5;241;43m.\u001b[39;49m\u001b[43membedding\u001b[49m\u001b[43m(\u001b[49m\u001b[38;5;28;43minput\u001b[39;49m\u001b[43m)\u001b[49m)\n\u001b[1;32m     58\u001b[0m     query \u001b[38;5;241m=\u001b[39m hidden\u001b[38;5;241m.\u001b[39mpermute(\u001b[38;5;241m1\u001b[39m, \u001b[38;5;241m0\u001b[39m, \u001b[38;5;241m2\u001b[39m)\n\u001b[1;32m     59\u001b[0m     context, attn_weights \u001b[38;5;241m=\u001b[39m \u001b[38;5;28mself\u001b[39m\u001b[38;5;241m.\u001b[39mattention(query, encoder_outputs)\n",
      "File \u001b[0;32m/usr/local/lib/python3.10/dist-packages/torch/nn/modules/module.py:1510\u001b[0m, in \u001b[0;36mModule._wrapped_call_impl\u001b[0;34m(self, *args, **kwargs)\u001b[0m\n\u001b[1;32m   1508\u001b[0m     \u001b[38;5;28;01mreturn\u001b[39;00m \u001b[38;5;28mself\u001b[39m\u001b[38;5;241m.\u001b[39m_compiled_call_impl(\u001b[38;5;241m*\u001b[39margs, \u001b[38;5;241m*\u001b[39m\u001b[38;5;241m*\u001b[39mkwargs)  \u001b[38;5;66;03m# type: ignore[misc]\u001b[39;00m\n\u001b[1;32m   1509\u001b[0m \u001b[38;5;28;01melse\u001b[39;00m:\n\u001b[0;32m-> 1510\u001b[0m     \u001b[38;5;28;01mreturn\u001b[39;00m \u001b[38;5;28;43mself\u001b[39;49m\u001b[38;5;241;43m.\u001b[39;49m\u001b[43m_call_impl\u001b[49m\u001b[43m(\u001b[49m\u001b[38;5;241;43m*\u001b[39;49m\u001b[43margs\u001b[49m\u001b[43m,\u001b[49m\u001b[43m \u001b[49m\u001b[38;5;241;43m*\u001b[39;49m\u001b[38;5;241;43m*\u001b[39;49m\u001b[43mkwargs\u001b[49m\u001b[43m)\u001b[49m\n",
      "File \u001b[0;32m/usr/local/lib/python3.10/dist-packages/torch/nn/modules/module.py:1519\u001b[0m, in \u001b[0;36mModule._call_impl\u001b[0;34m(self, *args, **kwargs)\u001b[0m\n\u001b[1;32m   1514\u001b[0m \u001b[38;5;66;03m# If we don't have any hooks, we want to skip the rest of the logic in\u001b[39;00m\n\u001b[1;32m   1515\u001b[0m \u001b[38;5;66;03m# this function, and just call forward.\u001b[39;00m\n\u001b[1;32m   1516\u001b[0m \u001b[38;5;28;01mif\u001b[39;00m \u001b[38;5;129;01mnot\u001b[39;00m (\u001b[38;5;28mself\u001b[39m\u001b[38;5;241m.\u001b[39m_backward_hooks \u001b[38;5;129;01mor\u001b[39;00m \u001b[38;5;28mself\u001b[39m\u001b[38;5;241m.\u001b[39m_backward_pre_hooks \u001b[38;5;129;01mor\u001b[39;00m \u001b[38;5;28mself\u001b[39m\u001b[38;5;241m.\u001b[39m_forward_hooks \u001b[38;5;129;01mor\u001b[39;00m \u001b[38;5;28mself\u001b[39m\u001b[38;5;241m.\u001b[39m_forward_pre_hooks\n\u001b[1;32m   1517\u001b[0m         \u001b[38;5;129;01mor\u001b[39;00m _global_backward_pre_hooks \u001b[38;5;129;01mor\u001b[39;00m _global_backward_hooks\n\u001b[1;32m   1518\u001b[0m         \u001b[38;5;129;01mor\u001b[39;00m _global_forward_hooks \u001b[38;5;129;01mor\u001b[39;00m _global_forward_pre_hooks):\n\u001b[0;32m-> 1519\u001b[0m     \u001b[38;5;28;01mreturn\u001b[39;00m \u001b[43mforward_call\u001b[49m\u001b[43m(\u001b[49m\u001b[38;5;241;43m*\u001b[39;49m\u001b[43margs\u001b[49m\u001b[43m,\u001b[49m\u001b[43m \u001b[49m\u001b[38;5;241;43m*\u001b[39;49m\u001b[38;5;241;43m*\u001b[39;49m\u001b[43mkwargs\u001b[49m\u001b[43m)\u001b[49m\n\u001b[1;32m   1521\u001b[0m \u001b[38;5;28;01mtry\u001b[39;00m:\n\u001b[1;32m   1522\u001b[0m     result \u001b[38;5;241m=\u001b[39m \u001b[38;5;28;01mNone\u001b[39;00m\n",
      "File \u001b[0;32m/usr/local/lib/python3.10/dist-packages/torch/nn/modules/sparse.py:162\u001b[0m, in \u001b[0;36mEmbedding.forward\u001b[0;34m(self, input)\u001b[0m\n\u001b[1;32m    161\u001b[0m \u001b[38;5;28;01mdef\u001b[39;00m \u001b[38;5;21mforward\u001b[39m(\u001b[38;5;28mself\u001b[39m, \u001b[38;5;28minput\u001b[39m: Tensor) \u001b[38;5;241m-\u001b[39m\u001b[38;5;241m>\u001b[39m Tensor:\n\u001b[0;32m--> 162\u001b[0m     \u001b[38;5;28;01mreturn\u001b[39;00m \u001b[43mF\u001b[49m\u001b[38;5;241;43m.\u001b[39;49m\u001b[43membedding\u001b[49m\u001b[43m(\u001b[49m\n\u001b[1;32m    163\u001b[0m \u001b[43m        \u001b[49m\u001b[38;5;28;43minput\u001b[39;49m\u001b[43m,\u001b[49m\u001b[43m \u001b[49m\u001b[38;5;28;43mself\u001b[39;49m\u001b[38;5;241;43m.\u001b[39;49m\u001b[43mweight\u001b[49m\u001b[43m,\u001b[49m\u001b[43m \u001b[49m\u001b[38;5;28;43mself\u001b[39;49m\u001b[38;5;241;43m.\u001b[39;49m\u001b[43mpadding_idx\u001b[49m\u001b[43m,\u001b[49m\u001b[43m \u001b[49m\u001b[38;5;28;43mself\u001b[39;49m\u001b[38;5;241;43m.\u001b[39;49m\u001b[43mmax_norm\u001b[49m\u001b[43m,\u001b[49m\n\u001b[1;32m    164\u001b[0m \u001b[43m        \u001b[49m\u001b[38;5;28;43mself\u001b[39;49m\u001b[38;5;241;43m.\u001b[39;49m\u001b[43mnorm_type\u001b[49m\u001b[43m,\u001b[49m\u001b[43m \u001b[49m\u001b[38;5;28;43mself\u001b[39;49m\u001b[38;5;241;43m.\u001b[39;49m\u001b[43mscale_grad_by_freq\u001b[49m\u001b[43m,\u001b[49m\u001b[43m \u001b[49m\u001b[38;5;28;43mself\u001b[39;49m\u001b[38;5;241;43m.\u001b[39;49m\u001b[43msparse\u001b[49m\u001b[43m)\u001b[49m\n",
      "File \u001b[0;32m/usr/local/lib/python3.10/dist-packages/torch/nn/functional.py:2238\u001b[0m, in \u001b[0;36membedding\u001b[0;34m(input, weight, padding_idx, max_norm, norm_type, scale_grad_by_freq, sparse)\u001b[0m\n\u001b[1;32m   2232\u001b[0m     \u001b[38;5;66;03m# Note [embedding_renorm set_grad_enabled]\u001b[39;00m\n\u001b[1;32m   2233\u001b[0m     \u001b[38;5;66;03m# XXX: equivalent to\u001b[39;00m\n\u001b[1;32m   2234\u001b[0m     \u001b[38;5;66;03m# with torch.no_grad():\u001b[39;00m\n\u001b[1;32m   2235\u001b[0m     \u001b[38;5;66;03m#   torch.embedding_renorm_\u001b[39;00m\n\u001b[1;32m   2236\u001b[0m     \u001b[38;5;66;03m# remove once script supports set_grad_enabled\u001b[39;00m\n\u001b[1;32m   2237\u001b[0m     _no_grad_embedding_renorm_(weight, \u001b[38;5;28minput\u001b[39m, max_norm, norm_type)\n\u001b[0;32m-> 2238\u001b[0m \u001b[38;5;28;01mreturn\u001b[39;00m \u001b[43mtorch\u001b[49m\u001b[38;5;241;43m.\u001b[39;49m\u001b[43membedding\u001b[49m\u001b[43m(\u001b[49m\u001b[43mweight\u001b[49m\u001b[43m,\u001b[49m\u001b[43m \u001b[49m\u001b[38;5;28;43minput\u001b[39;49m\u001b[43m,\u001b[49m\u001b[43m \u001b[49m\u001b[43mpadding_idx\u001b[49m\u001b[43m,\u001b[49m\u001b[43m \u001b[49m\u001b[43mscale_grad_by_freq\u001b[49m\u001b[43m,\u001b[49m\u001b[43m \u001b[49m\u001b[43msparse\u001b[49m\u001b[43m)\u001b[49m\n",
      "\u001b[0;31mKeyboardInterrupt\u001b[0m: "
     ]
    }
   ],
   "source": [
    "encoder, decoder, test_pairs = personalize('kir', 100, save=True, encoder_weights=weights_avg_e, decoder_weights=weights_avg_d, sample=100)"
   ]
  },
  {
   "cell_type": "code",
   "execution_count": 274,
   "metadata": {},
   "outputs": [],
   "source": [
    "weights_avg_e_old = weights_avg_e\n",
    "weights_avg_d_old = weights_avg_d"
   ]
  },
  {
   "cell_type": "code",
   "execution_count": 218,
   "metadata": {},
   "outputs": [
    {
     "data": {
      "text/plain": [
       "{0: EncoderRNN(\n",
       "   (embedding): Embedding(19481, 128)\n",
       "   (gru): GRU(128, 128, batch_first=True)\n",
       "   (dropout): Dropout(p=0.1, inplace=False)\n",
       " ),\n",
       " 1: EncoderRNN(\n",
       "   (embedding): Embedding(36940, 128)\n",
       "   (gru): GRU(128, 128, batch_first=True)\n",
       "   (dropout): Dropout(p=0.1, inplace=False)\n",
       " ),\n",
       " 2: EncoderRNN(\n",
       "   (embedding): Embedding(9684, 128)\n",
       "   (gru): GRU(128, 128, batch_first=True)\n",
       "   (dropout): Dropout(p=0.1, inplace=False)\n",
       " )}"
      ]
     },
     "execution_count": 218,
     "metadata": {},
     "output_type": "execute_result"
    }
   ],
   "source": [
    "encoders"
   ]
  },
  {
   "cell_type": "code",
   "execution_count": 363,
   "metadata": {},
   "outputs": [
    {
     "name": "stdout",
     "output_type": "stream",
     "text": [
      "Reading lines...\n",
      "Read 29506 sentence pairs\n",
      "Trimmed to 872 sentence pairs\n",
      "Counting words...\n",
      "Counted words:\n",
      "kir 1954\n",
      "eng 1566\n",
      "Reading lines...\n",
      "Read 29506 sentence pairs\n",
      "Trimmed to 872 sentence pairs\n",
      "Counting words...\n",
      "Counted words:\n",
      "kir 1954\n",
      "eng 1566\n",
      "Epoch 5 >> Loss: 4.411212799549102, Bleu: 0.12715553465016713, Test Bleu: 0.136670250764458, Best:(0.12715553465016713/0.136670250764458)\n",
      "Epoch 10 >> Loss: 2.998807468414307, Bleu: 0.1468493789434433, Test Bleu: 0.1660253405570984, Best:(0.19023461639881134/0.1704300920983599)\n",
      "Epoch 15 >> Loss: 2.4015121924877163, Bleu: 0.18599043786525726, Test Bleu: 0.17539939284324646, Best:(0.20620320737361908/0.17539939284324646)\n",
      "Epoch 20 >> Loss: 1.8836940324306486, Bleu: 0.22937878966331482, Test Bleu: 0.18200230598449707, Best:(0.22937878966331482/0.18452519178390503)\n",
      "Epoch 25 >> Loss: 1.4516188883781433, Bleu: 0.30739349126815796, Test Bleu: 0.19906717538833618, Best:(0.30739349126815796/0.19906717538833618)\n",
      "Epoch 30 >> Loss: 1.0872719359397887, Bleu: 0.33673548698425293, Test Bleu: 0.19874005019664764, Best:(0.33673548698425293/0.2016710506954569)\n",
      "Epoch 35 >> Loss: 0.8074277496337892, Bleu: 0.41913631558418274, Test Bleu: 0.21201097965240479, Best:(0.41913631558418274/0.21201097965240479)\n",
      "Epoch 40 >> Loss: 0.5970053720474243, Bleu: 0.47715818881988525, Test Bleu: 0.2081432342529297, Best:(0.47715818881988525/0.21518158912658691)\n",
      "Epoch 45 >> Loss: 0.4455936920642853, Bleu: 0.5253423452377319, Test Bleu: 0.20414704084396362, Best:(0.5253423452377319/0.21573056280612946)\n",
      "Epoch 50 >> Loss: 0.332207268178463, Bleu: 0.5415468215942383, Test Bleu: 0.20994898676872253, Best:(0.5921382904052734/0.22182266414165497)\n",
      "Epoch 55 >> Loss: 0.2545750300586223, Bleu: 0.6208850741386414, Test Bleu: 0.21659083664417267, Best:(0.6483373641967773/0.22489669919013977)\n",
      "Epoch 60 >> Loss: 0.19756037831306456, Bleu: 0.6987470984458923, Test Bleu: 0.2258516550064087, Best:(0.6987470984458923/0.22809664905071259)\n",
      "Epoch 65 >> Loss: 0.15646508343517782, Bleu: 0.6518979668617249, Test Bleu: 0.22491785883903503, Best:(0.6987470984458923/0.22809664905071259)\n",
      "Epoch 70 >> Loss: 0.12686404503881932, Bleu: 0.7134053111076355, Test Bleu: 0.22248364984989166, Best:(0.7134053111076355/0.22983887791633606)\n",
      "Epoch 75 >> Loss: 0.1043567943572998, Bleu: 0.695611834526062, Test Bleu: 0.22605784237384796, Best:(0.7134053111076355/0.22983887791633606)\n",
      "Epoch 80 >> Loss: 0.0872837805747986, Bleu: 0.7009498476982117, Test Bleu: 0.2142765372991562, Best:(0.719567060470581/0.22983887791633606)\n",
      "Epoch 85 >> Loss: 0.07607667941600085, Bleu: 0.691970705986023, Test Bleu: 0.23044466972351074, Best:(0.7446873188018799/0.23044466972351074)\n",
      "Epoch 90 >> Loss: 0.06546265725046396, Bleu: 0.7052994966506958, Test Bleu: 0.2353956550359726, Best:(0.7446873188018799/0.2353956550359726)\n",
      "Epoch 95 >> Loss: 0.05702186536043883, Bleu: 0.7173029780387878, Test Bleu: 0.2253936380147934, Best:(0.7446873188018799/0.2353956550359726)\n",
      "Epoch 100 >> Loss: 0.050652735866606236, Bleu: 0.7204172611236572, Test Bleu: 0.2251138687133789, Best:(0.7446873188018799/0.2353956550359726)\n",
      "Reading lines...\n",
      "Read 29506 sentence pairs\n",
      "Trimmed to 872 sentence pairs\n",
      "Counting words...\n",
      "Counted words:\n",
      "kir 1954\n",
      "eng 1566\n",
      "Epoch 5 >> Loss: 7.191271591186523, Bleu: 0.0, Test Bleu: 0.0, Best:(0/0)\n",
      "Epoch 10 >> Loss: 6.087923240661621, Bleu: 0.0, Test Bleu: 0.0, Best:(0/0)\n",
      "Epoch 15 >> Loss: 5.099065113067627, Bleu: 0.0, Test Bleu: 0.0, Best:(0/0)\n",
      "Epoch 20 >> Loss: 4.174105453491211, Bleu: 0.0, Test Bleu: 0.0, Best:(0/0)\n",
      "Epoch 25 >> Loss: 3.372655439376831, Bleu: 0.0, Test Bleu: 0.0, Best:(0/0)\n",
      "Epoch 30 >> Loss: 2.725788450241089, Bleu: 0.0027267548721283674, Test Bleu: 0.0, Best:(0.0027267548721283674/0)\n",
      "Epoch 35 >> Loss: 2.2043376922607423, Bleu: 0.0, Test Bleu: 0.0, Best:(0.0027267548721283674/0)\n",
      "Epoch 40 >> Loss: 1.8147085666656495, Bleu: 0.002824119059368968, Test Bleu: 0.0, Best:(0.0030332517344504595/0)\n",
      "Epoch 45 >> Loss: 1.5156217336654663, Bleu: 0.005166946444660425, Test Bleu: 0.0018422630382701755, Best:(0.005166946444660425/0.005670939572155476)\n",
      "Epoch 50 >> Loss: 1.2601556777954102, Bleu: 0.006502573378384113, Test Bleu: 0.006632754113525152, Best:(0.009533951990306377/0.006632754113525152)\n",
      "Epoch 55 >> Loss: 1.0299380660057067, Bleu: 0.0, Test Bleu: 0.007820159196853638, Best:(0.009533951990306377/0.007820159196853638)\n",
      "Epoch 60 >> Loss: 0.8578222990036011, Bleu: 0.006644406355917454, Test Bleu: 0.007680951151996851, Best:(0.013190007768571377/0.008305132389068604)\n",
      "Epoch 65 >> Loss: 0.7000589847564698, Bleu: 0.0060720257461071014, Test Bleu: 0.009214499965310097, Best:(0.013190007768571377/0.009214499965310097)\n",
      "Epoch 70 >> Loss: 0.5865614891052247, Bleu: 0.030311474576592445, Test Bleu: 0.009991076774895191, Best:(0.030311474576592445/0.009991076774895191)\n",
      "Epoch 75 >> Loss: 0.4903285324573517, Bleu: 0.0034706711303442717, Test Bleu: 0.010190586559474468, Best:(0.030311474576592445/0.011048693209886551)\n",
      "Epoch 80 >> Loss: 0.40372214913368226, Bleu: 0.008516271598637104, Test Bleu: 0.011060685850679874, Best:(0.030311474576592445/0.011060685850679874)\n",
      "Epoch 85 >> Loss: 0.3426927149295807, Bleu: 0.027544384822249413, Test Bleu: 0.011493740734097016, Best:(0.030311474576592445/0.011493740734097016)\n",
      "Epoch 90 >> Loss: 0.2960775256156921, Bleu: 0.019095730458156032, Test Bleu: 0.011074073488494839, Best:(0.030311474576592445/0.01260510206187929)\n",
      "Epoch 95 >> Loss: 0.25246785283088685, Bleu: 0.021699988945760595, Test Bleu: 0.011252161968443546, Best:(0.031374046848455205/0.01260510206187929)\n",
      "Epoch 100 >> Loss: 0.21679575443267823, Bleu: 0.003964789905642491, Test Bleu: 0.011692130634522253, Best:(0.031374046848455205/0.01260510206187929)\n",
      "Reading lines...\n",
      "Read 29506 sentence pairs\n",
      "Trimmed to 872 sentence pairs\n",
      "Counting words...\n",
      "Counted words:\n",
      "kir 1954\n",
      "eng 1566\n",
      "Epoch 5 >> Loss: 6.314715147018433, Bleu: 0.0, Test Bleu: 0.0, Best:(0/0)\n",
      "Epoch 10 >> Loss: 4.238576424121857, Bleu: 0.0, Test Bleu: 0.0, Best:(0.004855677485466003/0.006300908513367176)\n",
      "Epoch 15 >> Loss: 3.2838995099067687, Bleu: 0.06838319450616837, Test Bleu: 0.06019480526447296, Best:(0.06838319450616837/0.06019480526447296)\n",
      "Epoch 20 >> Loss: 2.753193724155426, Bleu: 0.09765420854091644, Test Bleu: 0.09216724336147308, Best:(0.09765420854091644/0.09335622936487198)\n",
      "Epoch 25 >> Loss: 2.310181826353073, Bleu: 0.13491660356521606, Test Bleu: 0.1324547827243805, Best:(0.1435137540102005/0.1324547827243805)\n",
      "Epoch 30 >> Loss: 1.94072984457016, Bleu: 0.16254423558712006, Test Bleu: 0.1629902720451355, Best:(0.16254423558712006/0.1629902720451355)\n",
      "Epoch 35 >> Loss: 1.6246902108192445, Bleu: 0.1354684829711914, Test Bleu: 0.15502803027629852, Best:(0.1671469658613205/0.16631992161273956)\n",
      "Epoch 40 >> Loss: 1.3451438650488854, Bleu: 0.14066393673419952, Test Bleu: 0.1760149747133255, Best:(0.1671469658613205/0.1760149747133255)\n",
      "Epoch 45 >> Loss: 1.113086000084877, Bleu: 0.17131029069423676, Test Bleu: 0.17875877022743225, Best:(0.17790770530700684/0.1851423978805542)\n",
      "Epoch 50 >> Loss: 0.9131914488971233, Bleu: 0.18396180868148804, Test Bleu: 0.19655069708824158, Best:(0.20386584103107452/0.19655069708824158)\n",
      "Epoch 55 >> Loss: 0.7427585087716579, Bleu: 0.1841914802789688, Test Bleu: 0.20222216844558716, Best:(0.20386584103107452/0.20445691049098969)\n",
      "Epoch 60 >> Loss: 0.6032865807414055, Bleu: 0.1893235445022583, Test Bleu: 0.2116924673318863, Best:(0.21320149302482605/0.2116924673318863)\n",
      "Epoch 65 >> Loss: 0.4933231770992279, Bleu: 0.1915513277053833, Test Bleu: 0.2058042585849762, Best:(0.2289472222328186/0.2163671851158142)\n",
      "Epoch 70 >> Loss: 0.40541401952505113, Bleu: 0.2005121111869812, Test Bleu: 0.20996327698230743, Best:(0.2296578735113144/0.22400858998298645)\n",
      "Epoch 75 >> Loss: 0.33502359576523305, Bleu: 0.20785677433013916, Test Bleu: 0.22847692668437958, Best:(0.2615410387516022/0.22847692668437958)\n",
      "Epoch 80 >> Loss: 0.2803923200815916, Bleu: 0.23379145562648773, Test Bleu: 0.2311132699251175, Best:(0.2615410387516022/0.2311132699251175)\n",
      "Epoch 85 >> Loss: 0.23432729206979275, Bleu: 0.21702688932418823, Test Bleu: 0.24013952910900116, Best:(0.2615410387516022/0.24013952910900116)\n",
      "Epoch 90 >> Loss: 0.19896241184324026, Bleu: 0.22671455144882202, Test Bleu: 0.2261231541633606, Best:(0.2615410387516022/0.2412586361169815)\n",
      "Epoch 95 >> Loss: 0.17255077995359897, Bleu: 0.18841534852981567, Test Bleu: 0.22740112245082855, Best:(0.2782925069332123/0.2425822913646698)\n",
      "Epoch 100 >> Loss: 0.14705920815467835, Bleu: 0.21886225044727325, Test Bleu: 0.25150346755981445, Best:(0.2782925069332123/0.25150346755981445)\n"
     ]
    }
   ],
   "source": [
    "bleus = []\n",
    "input_lang, output_lang, train_dataloader, pairs = get_dataloader(batch_size, language='kir')\n",
    "for i in [None, 10, 100]:\n",
    "    encoder, decoder, test_pairs = personalize('kir', 100, save=True, encoder_weights=ft_meta_encoder_weights, decoder_weights=ft_meta_decoder_weights, sample=i)"
   ]
  },
  {
   "cell_type": "code",
   "execution_count": 346,
   "metadata": {},
   "outputs": [
    {
     "name": "stdout",
     "output_type": "stream",
     "text": [
      "Reading lines...\n",
      "Read 82370 sentence pairs\n",
      "Trimmed to 25719 sentence pairs\n",
      "Counting words...\n",
      "Counted words:\n",
      "bem 19481\n",
      "eng 5092\n",
      "Reading lines...\n",
      "Read 82370 sentence pairs\n",
      "Trimmed to 25719 sentence pairs\n",
      "Counting words...\n",
      "Counted words:\n",
      "bem 19481\n",
      "eng 5092\n",
      "Epoch 5 >> Loss: 2.7597879398700798, Bleu: 0.07422833889722824, Test Bleu: 0.08102406561374664, Best:(0.07751059532165527/0.08102406561374664)\n",
      "Epoch 10 >> Loss: 1.9695946848273675, Bleu: 0.11479580402374268, Test Bleu: 0.07936546951532364, Best:(0.11752612143754959/0.11749737709760666)\n",
      "Epoch 15 >> Loss: 1.623021117674552, Bleu: 0.11801541596651077, Test Bleu: 0.09571251273155212, Best:(0.1562468707561493/0.11749737709760666)\n",
      "Epoch 20 >> Loss: 1.3789203233299065, Bleu: 0.1560976356267929, Test Bleu: 0.10654176026582718, Best:(0.1604466438293457/0.11936020851135254)\n",
      "Epoch 25 >> Loss: 1.1935992406650238, Bleu: 0.18424397706985474, Test Bleu: 0.10948416590690613, Best:(0.2019069343805313/0.12215903401374817)\n",
      "Epoch 30 >> Loss: 1.0475087450786287, Bleu: 0.2016448974609375, Test Bleu: 0.11787636578083038, Best:(0.20956921577453613/0.1371842473745346)\n",
      "Epoch 35 >> Loss: 0.9290194096161283, Bleu: 0.22776305675506592, Test Bleu: 0.11264466494321823, Best:(0.22776305675506592/0.1371842473745346)\n",
      "Epoch 40 >> Loss: 0.8305875730474922, Bleu: 0.2581256031990051, Test Bleu: 0.10008613020181656, Best:(0.26922714710235596/0.1371842473745346)\n",
      "Epoch 45 >> Loss: 0.7468425170428729, Bleu: 0.27511194348335266, Test Bleu: 0.12003693729639053, Best:(0.27511194348335266/0.1371842473745346)\n",
      "Epoch 50 >> Loss: 0.6756009702567642, Bleu: 0.2933015525341034, Test Bleu: 0.12518317997455597, Best:(0.2963842451572418/0.1371842473745346)\n",
      "Epoch 55 >> Loss: 0.614473612987718, Bleu: 0.27913641929626465, Test Bleu: 0.10805485397577286, Best:(0.31283843517303467/0.1371842473745346)\n",
      "Epoch 60 >> Loss: 0.5633826518177589, Bleu: 0.30193692445755005, Test Bleu: 0.11045346409082413, Best:(0.31283843517303467/0.1371842473745346)\n",
      "Epoch 65 >> Loss: 0.5162503242294654, Bleu: 0.3256133496761322, Test Bleu: 0.09191589057445526, Best:(0.33553680777549744/0.1371842473745346)\n",
      "Epoch 70 >> Loss: 0.47622320956962055, Bleu: 0.34715795516967773, Test Bleu: 0.12815028429031372, Best:(0.3553153872489929/0.1371842473745346)\n",
      "Epoch 75 >> Loss: 0.43925004142067364, Bleu: 0.33274805545806885, Test Bleu: 0.10574385523796082, Best:(0.3638673722743988/0.1371842473745346)\n",
      "Epoch 80 >> Loss: 0.4089371999533865, Bleu: 0.3301990330219269, Test Bleu: 0.09436682611703873, Best:(0.42261189222335815/0.1371842473745346)\n",
      "Epoch 85 >> Loss: 0.37972984709018887, Bleu: 0.4004770517349243, Test Bleu: 0.09583967924118042, Best:(0.42261189222335815/0.1371842473745346)\n",
      "Epoch 90 >> Loss: 0.3541131175831703, Bleu: 0.366472989320755, Test Bleu: 0.10479659587144852, Best:(0.42261189222335815/0.1371842473745346)\n",
      "Epoch 95 >> Loss: 0.33233117068130713, Bleu: 0.41654056310653687, Test Bleu: 0.08314467966556549, Best:(0.43144217133522034/0.1371842473745346)\n",
      "Epoch 100 >> Loss: 0.310725486808243, Bleu: 0.4182770252227783, Test Bleu: 0.10407861322164536, Best:(0.43453142046928406/0.1371842473745346)\n",
      "Reading lines...\n",
      "Read 55667 sentence pairs\n",
      "Trimmed to 19616 sentence pairs\n",
      "Counting words...\n",
      "Counted words:\n",
      "kin 36940\n",
      "eng 11235\n",
      "Reading lines...\n",
      "Read 55667 sentence pairs\n",
      "Trimmed to 19616 sentence pairs\n",
      "Counting words...\n",
      "Counted words:\n",
      "kin 36940\n",
      "eng 11235\n",
      "Epoch 5 >> Loss: 3.5300439779535098, Bleu: 0.013850613259624752, Test Bleu: 0.01148038450628519, Best:(0.013850613259624752/0.015330780297517776)\n",
      "Epoch 10 >> Loss: 2.4516968142752553, Bleu: 0.05455154925584793, Test Bleu: 0.0, Best:(0.05455154925584793/0.01996634341776371)\n",
      "Epoch 15 >> Loss: 1.7236546568880933, Bleu: 0.09286496043205261, Test Bleu: 0.0, Best:(0.10697982460260391/0.022774597629904747)\n",
      "Epoch 20 >> Loss: 1.2511454314967385, Bleu: 0.15802636742591858, Test Bleu: 0.01850077696144581, Best:(0.15802636742591858/0.025202607735991478)\n",
      "Epoch 25 >> Loss: 0.933756712786772, Bleu: 0.2256564348936081, Test Bleu: 0.026206184178590775, Best:(0.22622515261173248/0.026278123259544373)\n",
      "Epoch 30 >> Loss: 0.7095899338296296, Bleu: 0.25452202558517456, Test Bleu: 0.0, Best:(0.25452202558517456/0.03143990784883499)\n",
      "Epoch 35 >> Loss: 0.5450224554486784, Bleu: 0.2788252830505371, Test Bleu: 0.0, Best:(0.3117266595363617/0.03143990784883499)\n",
      "Epoch 40 >> Loss: 0.42460892981563525, Bleu: 0.3090441823005676, Test Bleu: 0.0256081223487854, Best:(0.36374104022979736/0.03143990784883499)\n",
      "Epoch 45 >> Loss: 0.33411885850569784, Bleu: 0.35623231530189514, Test Bleu: 0.02602684497833252, Best:(0.3739238977432251/0.037467192858457565)\n",
      "Epoch 50 >> Loss: 0.26508299649605827, Bleu: 0.42012614011764526, Test Bleu: 0.03358957916498184, Best:(0.42012614011764526/0.037467192858457565)\n",
      "Epoch 55 >> Loss: 0.2148371697186385, Bleu: 0.43340566754341125, Test Bleu: 0.022144759073853493, Best:(0.44480395317077637/0.037467192858457565)\n",
      "Epoch 60 >> Loss: 0.1754238897516577, Bleu: 0.42976754903793335, Test Bleu: 0.029178498312830925, Best:(0.4488465189933777/0.037467192858457565)\n",
      "Epoch 65 >> Loss: 0.1474789571966611, Bleu: 0.4665885269641876, Test Bleu: 0.036820005625486374, Best:(0.4665885269641876/0.03836718946695328)\n",
      "Epoch 70 >> Loss: 0.12505881221303494, Bleu: 0.4640839993953705, Test Bleu: 0.0244046188890934, Best:(0.5162112712860107/0.03836718946695328)\n",
      "Epoch 75 >> Loss: 0.10802341045767135, Bleu: 0.5102382302284241, Test Bleu: 0.03289997950196266, Best:(0.5162112712860107/0.03836718946695328)\n",
      "Epoch 80 >> Loss: 0.09308795660312139, Bleu: 0.4844329357147217, Test Bleu: 0.03552250564098358, Best:(0.5225485563278198/0.03836718946695328)\n",
      "Epoch 85 >> Loss: 0.08296767547077342, Bleu: 0.4926759600639343, Test Bleu: 0.03304876759648323, Best:(0.5358495116233826/0.03836718946695328)\n",
      "Epoch 90 >> Loss: 0.0750501626765676, Bleu: 0.5183472037315369, Test Bleu: 0.039337027817964554, Best:(0.5533353686332703/0.04192327708005905)\n",
      "Epoch 95 >> Loss: 0.06757478577882246, Bleu: 0.5274595618247986, Test Bleu: 0.03637039661407471, Best:(0.5533353686332703/0.04192327708005905)\n",
      "Epoch 100 >> Loss: 0.061609134117794714, Bleu: 0.5711978077888489, Test Bleu: 0.03260386735200882, Best:(0.5711978077888489/0.04192327708005905)\n",
      "Reading lines...\n",
      "Read 15022 sentence pairs\n",
      "Trimmed to 8447 sentence pairs\n",
      "Counting words...\n",
      "Counted words:\n",
      "lug 9684\n",
      "eng 5677\n",
      "Reading lines...\n",
      "Read 15022 sentence pairs\n",
      "Trimmed to 8447 sentence pairs\n",
      "Counting words...\n",
      "Counted words:\n",
      "lug 9684\n",
      "eng 5677\n",
      "Epoch 5 >> Loss: 4.286944854804102, Bleu: 0.02425495535135269, Test Bleu: 0.0, Best:(0.02425495535135269/0.009575444273650646)\n",
      "Epoch 10 >> Loss: 3.044595883219375, Bleu: 0.021656952798366547, Test Bleu: 0.015972601249814034, Best:(0.03500152751803398/0.03279491141438484)\n",
      "Epoch 15 >> Loss: 2.2788518916531872, Bleu: 0.08075514435768127, Test Bleu: 0.0, Best:(0.08075514435768127/0.03279491141438484)\n",
      "Epoch 20 >> Loss: 1.7136061655083281, Bleu: 0.10505281388759613, Test Bleu: 0.03405045345425606, Best:(0.10505281388759613/0.03947886452078819)\n",
      "Epoch 25 >> Loss: 1.2980929911439187, Bleu: 0.160053551197052, Test Bleu: 0.043417226523160934, Best:(0.16299058496952057/0.04799926280975342)\n",
      "Epoch 30 >> Loss: 0.9937697262933411, Bleu: 0.20782220363616943, Test Bleu: 0.03146946430206299, Best:(0.21781538426876068/0.04799926280975342)\n",
      "Epoch 35 >> Loss: 0.7729407894429822, Bleu: 0.2682933807373047, Test Bleu: 0.04832034930586815, Best:(0.2682933807373047/0.04832034930586815)\n",
      "Epoch 40 >> Loss: 0.6061683319849411, Bleu: 0.2994433045387268, Test Bleu: 0.04233446717262268, Best:(0.33289411664009094/0.04832034930586815)\n",
      "Epoch 45 >> Loss: 0.48056565871093476, Bleu: 0.3805791139602661, Test Bleu: 0.04230806976556778, Best:(0.39216098189353943/0.05373051390051842)\n",
      "Epoch 50 >> Loss: 0.38336772119938417, Bleu: 0.40277254581451416, Test Bleu: 0.03317384794354439, Best:(0.4163269102573395/0.05373051390051842)\n",
      "Epoch 55 >> Loss: 0.31194624872074517, Bleu: 0.4557081162929535, Test Bleu: 0.04026475176215172, Best:(0.46960365772247314/0.05373051390051842)\n",
      "Epoch 60 >> Loss: 0.2542097969557428, Bleu: 0.4949311912059784, Test Bleu: 0.04279947653412819, Best:(0.501782238483429/0.05373051390051842)\n",
      "Epoch 65 >> Loss: 0.21048275720952128, Bleu: 0.5303749442100525, Test Bleu: 0.038412321358919144, Best:(0.5351175665855408/0.05373051390051842)\n",
      "Epoch 70 >> Loss: 0.177187177032081, Bleu: 0.5238152742385864, Test Bleu: 0.03820723295211792, Best:(0.5587416887283325/0.0569574199616909)\n",
      "Epoch 75 >> Loss: 0.15060423245738605, Bleu: 0.551150918006897, Test Bleu: 0.04336053878068924, Best:(0.5587416887283325/0.0569574199616909)\n",
      "Epoch 80 >> Loss: 0.12913150210217172, Bleu: 0.5587095022201538, Test Bleu: 0.04252069443464279, Best:(0.5907754302024841/0.0569574199616909)\n",
      "Epoch 85 >> Loss: 0.11203151108498502, Bleu: 0.5737103223800659, Test Bleu: 0.02941351756453514, Best:(0.5907754302024841/0.06559138745069504)\n",
      "Epoch 90 >> Loss: 0.09988222199723806, Bleu: 0.6121358275413513, Test Bleu: 0.05349825322628021, Best:(0.6121358275413513/0.06559138745069504)\n",
      "Epoch 95 >> Loss: 0.08679193756755837, Bleu: 0.6199954152107239, Test Bleu: 0.027743585407733917, Best:(0.6199954152107239/0.06559138745069504)\n",
      "Epoch 100 >> Loss: 0.07753611146496033, Bleu: 0.6095781326293945, Test Bleu: 0.05672314763069153, Best:(0.6298222541809082/0.06559138745069504)\n"
     ]
    }
   ],
   "source": [
    "langs = ['bem', 'kin', 'lug']\n",
    "parent_bleus = []\n",
    "\n",
    "for lang in langs:\n",
    "    input_lang, output_lang, train_dataloader, pairs = get_dataloader(batch_size, language=lang)\n",
    "\n",
    "    encoder, decoder, test_pairs = personalize(lang, 100, save=True, encoder_weights=ft_meta_encoder_weights, decoder_weights=ft_meta_decoder_weights, sample=None)"
   ]
  },
  {
   "cell_type": "code",
   "execution_count": 347,
   "metadata": {},
   "outputs": [
    {
     "name": "stdout",
     "output_type": "stream",
     "text": [
      "Reading lines...\n",
      "Read 82370 sentence pairs\n",
      "Trimmed to 25719 sentence pairs\n",
      "Counting words...\n",
      "Counted words:\n",
      "bem 19481\n",
      "eng 5092\n",
      "Reading lines...\n",
      "Read 82370 sentence pairs\n",
      "Trimmed to 25719 sentence pairs\n",
      "Counting words...\n",
      "Counted words:\n",
      "bem 19481\n",
      "eng 5092\n",
      "Epoch 5 >> Loss: 7.435945653915406, Bleu: 0.0, Test Bleu: 0.0, Best:(0/0)\n",
      "Epoch 10 >> Loss: 4.7951505303382875, Bleu: 0.0, Test Bleu: 0.0, Best:(0/0)\n",
      "Epoch 15 >> Loss: 3.491755449771881, Bleu: 0.0, Test Bleu: 0.0, Best:(0/0)\n",
      "Epoch 20 >> Loss: 3.0078428626060485, Bleu: 0.0, Test Bleu: 0.0, Best:(0/0)\n",
      "Epoch 25 >> Loss: 2.67136572599411, Bleu: 0.0, Test Bleu: 0.0, Best:(0/0)\n",
      "Epoch 30 >> Loss: 2.366993796825409, Bleu: 0.0, Test Bleu: 0.011165823635936115, Best:(0/0.011165823635936115)\n",
      "Epoch 35 >> Loss: 2.0924447149038317, Bleu: 0.0, Test Bleu: 0.0, Best:(0/0.01909972642142283)\n",
      "Epoch 40 >> Loss: 1.837030079960823, Bleu: 0.013807805196919083, Test Bleu: 0.0, Best:(0.013807805196919083/0.01909972642142283)\n",
      "Epoch 45 >> Loss: 1.6064924001693726, Bleu: 0.0, Test Bleu: 0.0, Best:(0.013807805196919083/0.01909972642142283)\n",
      "Epoch 50 >> Loss: 1.4020925596356393, Bleu: 0.0, Test Bleu: 0.0, Best:(0.014173691465129576/0.01909972642142283)\n",
      "Epoch 55 >> Loss: 1.208651888370514, Bleu: 0.019288345098034235, Test Bleu: 0.0, Best:(0.019288345098034235/0.01909972642142283)\n",
      "Epoch 60 >> Loss: 1.046054294705391, Bleu: 0.009380088187754154, Test Bleu: 0.01182467583566904, Best:(0.019288345098034235/0.01909972642142283)\n",
      "Epoch 65 >> Loss: 0.8904388546943665, Bleu: 0.01933457888662815, Test Bleu: 0.0, Best:(0.01933457888662815/0.01909972642142283)\n",
      "Epoch 70 >> Loss: 0.7601750627160072, Bleu: 0.016558347269892693, Test Bleu: 0.0, Best:(0.03262309730052948/0.02078055962920189)\n",
      "Epoch 75 >> Loss: 0.647824551910162, Bleu: 0.0, Test Bleu: 0.0, Best:(0.03262309730052948/0.02078055962920189)\n",
      "Epoch 80 >> Loss: 0.5523697830736637, Bleu: 0.013556553050875664, Test Bleu: 0.0, Best:(0.03262309730052948/0.02078055962920189)\n",
      "Epoch 85 >> Loss: 0.47043631672859193, Bleu: 0.011377125047147274, Test Bleu: 0.019368300214409828, Best:(0.03262309730052948/0.02078055962920189)\n",
      "Epoch 90 >> Loss: 0.40085216574370863, Bleu: 0.019361434504389763, Test Bleu: 0.0, Best:(0.03262309730052948/0.024605844169855118)\n",
      "Epoch 95 >> Loss: 0.34098793268203736, Bleu: 0.02202741801738739, Test Bleu: 0.02237102948129177, Best:(0.03262309730052948/0.024605844169855118)\n",
      "Epoch 100 >> Loss: 0.29386460445821283, Bleu: 0.0, Test Bleu: 0.027713213115930557, Best:(0.03262309730052948/0.027713213115930557)\n",
      "Reading lines...\n",
      "Read 55667 sentence pairs\n",
      "Trimmed to 19616 sentence pairs\n",
      "Counting words...\n",
      "Counted words:\n",
      "kin 36940\n",
      "eng 11235\n",
      "Reading lines...\n",
      "Read 55667 sentence pairs\n",
      "Trimmed to 19616 sentence pairs\n",
      "Counting words...\n",
      "Counted words:\n",
      "kin 36940\n",
      "eng 11235\n",
      "Epoch 5 >> Loss: 7.368532752990722, Bleu: 0.0, Test Bleu: 0.0, Best:(0/0)\n",
      "Epoch 10 >> Loss: 4.077160263061524, Bleu: 0.0, Test Bleu: 0.0, Best:(0/0)\n",
      "Epoch 15 >> Loss: 2.9006608009338377, Bleu: 0.0, Test Bleu: 0.0, Best:(0/0)\n",
      "Epoch 20 >> Loss: 2.4476925492286683, Bleu: 0.0, Test Bleu: 0.0, Best:(0/0)\n",
      "Epoch 25 >> Loss: 2.1120555639266967, Bleu: 0.0, Test Bleu: 0.0, Best:(0/0)\n",
      "Epoch 30 >> Loss: 1.8016393959522248, Bleu: 0.0, Test Bleu: 0.0, Best:(0/0)\n",
      "Epoch 35 >> Loss: 1.5225955456495286, Bleu: 0.0, Test Bleu: 0.0, Best:(0/0)\n",
      "Epoch 40 >> Loss: 1.2657440915703773, Bleu: 0.0, Test Bleu: 0.0, Best:(0/0)\n",
      "Epoch 45 >> Loss: 1.0378826782107353, Bleu: 0.0, Test Bleu: 0.0053070611320436, Best:(0.004410126246511936/0.0053070611320436)\n",
      "Epoch 50 >> Loss: 0.8258696526288987, Bleu: 0.0045491294004023075, Test Bleu: 0.00863100215792656, Best:(0.0045491294004023075/0.014272629283368587)\n",
      "Epoch 55 >> Loss: 0.6568956688046456, Bleu: 0.0, Test Bleu: 0.0, Best:(0.00719405896961689/0.014272629283368587)\n",
      "Epoch 60 >> Loss: 0.5179729998111725, Bleu: 0.0, Test Bleu: 0.0, Best:(0.00719405896961689/0.014272629283368587)\n",
      "Epoch 65 >> Loss: 0.40147593840956686, Bleu: 0.0, Test Bleu: 0.0, Best:(0.00719405896961689/0.014272629283368587)\n",
      "Epoch 70 >> Loss: 0.31835677549242974, Bleu: 0.01239634957164526, Test Bleu: 0.013368709944188595, Best:(0.01239634957164526/0.014272629283368587)\n",
      "Epoch 75 >> Loss: 0.2540836662054062, Bleu: 0.007729408796876669, Test Bleu: 0.013671468012034893, Best:(0.01239634957164526/0.014272629283368587)\n",
      "Epoch 80 >> Loss: 0.20524918474256992, Bleu: 0.005827226676046848, Test Bleu: 0.004408467561006546, Best:(0.01239634957164526/0.014272629283368587)\n",
      "Epoch 85 >> Loss: 0.170122866332531, Bleu: 0.005395793821662664, Test Bleu: 0.0, Best:(0.016118908300995827/0.014272629283368587)\n",
      "Epoch 90 >> Loss: 0.14008135311305522, Bleu: 0.013587163761258125, Test Bleu: 0.0, Best:(0.016118908300995827/0.014272629283368587)\n",
      "Epoch 95 >> Loss: 0.1164435662329197, Bleu: 0.006953201722353697, Test Bleu: 0.0078379325568676, Best:(0.025517458096146584/0.014272629283368587)\n",
      "Epoch 100 >> Loss: 0.1007776552811265, Bleu: 0.0, Test Bleu: 0.00645213620737195, Best:(0.025517458096146584/0.017312485724687576)\n",
      "Reading lines...\n",
      "Read 15022 sentence pairs\n",
      "Trimmed to 8447 sentence pairs\n",
      "Counting words...\n",
      "Counted words:\n",
      "lug 9684\n",
      "eng 5677\n",
      "Reading lines...\n",
      "Read 15022 sentence pairs\n",
      "Trimmed to 8447 sentence pairs\n",
      "Counting words...\n",
      "Counted words:\n",
      "lug 9684\n",
      "eng 5677\n",
      "Epoch 5 >> Loss: 7.6579773187637326, Bleu: 0.0, Test Bleu: 0.0, Best:(0/0)\n",
      "Epoch 10 >> Loss: 5.321324110031128, Bleu: 0.0, Test Bleu: 0.0, Best:(0/0)\n",
      "Epoch 15 >> Loss: 4.172888386249542, Bleu: 0.0, Test Bleu: 0.0, Best:(0/0)\n",
      "Epoch 20 >> Loss: 3.580986297130585, Bleu: 0.0, Test Bleu: 0.0, Best:(0/0)\n",
      "Epoch 25 >> Loss: 3.116410267353058, Bleu: 0.0, Test Bleu: 0.0, Best:(0/0)\n",
      "Epoch 30 >> Loss: 2.703936034440994, Bleu: 0.0, Test Bleu: 0.0, Best:(0/0.005383825102473908)\n",
      "Epoch 35 >> Loss: 2.326210778951645, Bleu: 0.0, Test Bleu: 0.015881312715032583, Best:(0/0.015881312715032583)\n",
      "Epoch 40 >> Loss: 1.9816263258457183, Bleu: 0.0, Test Bleu: 0.0, Best:(0/0.015881312715032583)\n",
      "Epoch 45 >> Loss: 1.6811535194516183, Bleu: 0.00828874488276754, Test Bleu: 0.015049531359248691, Best:(0.012822982330748117/0.015881312715032583)\n",
      "Epoch 50 >> Loss: 1.4172447949647904, Bleu: 0.009734173397372932, Test Bleu: 0.0, Best:(0.012822982330748117/0.015881312715032583)\n",
      "Epoch 55 >> Loss: 1.183940102159977, Bleu: 0.0, Test Bleu: 0.025121844728323576, Best:(0.024476506512957356/0.025121844728323576)\n",
      "Epoch 60 >> Loss: 0.9786914020776749, Bleu: 0.011368328178642117, Test Bleu: 0.01166624894165948, Best:(0.02466743902778315/0.026055967649767833)\n",
      "Epoch 65 >> Loss: 0.8121918201446533, Bleu: 0.012909464963323876, Test Bleu: 0.007173248762258364, Best:(0.02466743902778315/0.038567332725702265)\n",
      "Epoch 70 >> Loss: 0.6708521708846092, Bleu: 0.0, Test Bleu: 0.015097804961572125, Best:(0.02466743902778315/0.038567332725702265)\n",
      "Epoch 75 >> Loss: 0.5460631020367146, Bleu: 0.02042839234996347, Test Bleu: 0.020074567760847522, Best:(0.025775866582989693/0.038567332725702265)\n",
      "Epoch 80 >> Loss: 0.4627331178635359, Bleu: 0.017506463453173637, Test Bleu: 0.009608696214854717, Best:(0.025775866582989693/0.04688982293009758)\n",
      "Epoch 85 >> Loss: 0.383910233899951, Bleu: 0.0, Test Bleu: 0.013385063968598843, Best:(0.03850649297237396/0.04688982293009758)\n",
      "Epoch 90 >> Loss: 0.32246570512652395, Bleu: 0.009785356931388378, Test Bleu: 0.009970559738576412, Best:(0.03850649297237396/0.04688982293009758)\n",
      "Epoch 95 >> Loss: 0.27539219819009303, Bleu: 0.02726665325462818, Test Bleu: 0.012213471345603466, Best:(0.03850649297237396/0.04688982293009758)\n",
      "Epoch 100 >> Loss: 0.23441817350685595, Bleu: 0.0, Test Bleu: 0.0, Best:(0.03850649297237396/0.04688982293009758)\n"
     ]
    }
   ],
   "source": [
    "langs = ['bem', 'kin', 'lug']\n",
    "\n",
    "for lang in langs:\n",
    "    input_lang, output_lang, train_dataloader, pairs = get_dataloader(batch_size, language=lang)\n",
    "\n",
    "    encoder, decoder, test_pairs = personalize(lang, 100, save=True, encoder_weights=ft_meta_encoder_weights, decoder_weights=ft_meta_decoder_weights, sample=100)"
   ]
  },
  {
   "cell_type": "code",
   "execution_count": 321,
   "metadata": {},
   "outputs": [
    {
     "name": "stdout",
     "output_type": "stream",
     "text": [
      "Reading lines...\n",
      "Read 82370 sentence pairs\n",
      "Trimmed to 25719 sentence pairs\n",
      "Counting words...\n",
      "Counted words:\n",
      "bem 19481\n",
      "eng 5092\n",
      "Reading lines...\n",
      "Read 82370 sentence pairs\n",
      "Trimmed to 25719 sentence pairs\n",
      "Counting words...\n",
      "Counted words:\n",
      "bem 19481\n",
      "eng 5092\n",
      "Epoch 5 >> Loss: 2.533391289972388, Bleu: 0.11117631942033768, Test Bleu: 0.09661664813756943, Best:(0.1467665284872055/0.11440379917621613)\n",
      "Epoch 10 >> Loss: 1.6053250909445687, Bleu: 0.1856374442577362, Test Bleu: 0.1318291872739792, Best:(0.18662051856517792/0.1629309505224228)\n",
      "Epoch 15 >> Loss: 1.2140471017439896, Bleu: 0.2066066861152649, Test Bleu: 0.1401309370994568, Best:(0.21999995410442352/0.1629309505224228)\n",
      "Epoch 20 >> Loss: 0.9653794986861092, Bleu: 0.234907329082489, Test Bleu: 0.16295795142650604, Best:(0.26048076152801514/0.16295795142650604)\n",
      "Epoch 25 >> Loss: 0.7909483602573705, Bleu: 0.3547486364841461, Test Bleu: 0.14942236244678497, Best:(0.3547486364841461/0.16923066973686218)\n",
      "Epoch 30 >> Loss: 0.6631389268113924, Bleu: 0.3495299816131592, Test Bleu: 0.15512143075466156, Best:(0.3547486364841461/0.16923066973686218)\n",
      "Epoch 35 >> Loss: 0.5671366077819933, Bleu: 0.3384741544723511, Test Bleu: 0.12373587489128113, Best:(0.37650150060653687/0.16923066973686218)\n",
      "Epoch 40 >> Loss: 0.49143067195367973, Bleu: 0.36759987473487854, Test Bleu: 0.13622908294200897, Best:(0.4143572151660919/0.16923066973686218)\n",
      "Epoch 45 >> Loss: 0.43092453182733725, Bleu: 0.41728824377059937, Test Bleu: 0.12567828595638275, Best:(0.4190084636211395/0.16923066973686218)\n",
      "Epoch 50 >> Loss: 0.38171770336521027, Bleu: 0.42598116397857666, Test Bleu: 0.1357286423444748, Best:(0.46506914496421814/0.16923066973686218)\n",
      "Epoch 55 >> Loss: 0.340180322775413, Bleu: 0.47307446599006653, Test Bleu: 0.11811554431915283, Best:(0.47307446599006653/0.16923066973686218)\n",
      "Epoch 60 >> Loss: 0.3073437056767188, Bleu: 0.4417942464351654, Test Bleu: 0.12461034953594208, Best:(0.47307446599006653/0.16923066973686218)\n",
      "Epoch 65 >> Loss: 0.27839047457292626, Bleu: 0.49942848086357117, Test Bleu: 0.13122747838497162, Best:(0.49942848086357117/0.16923066973686218)\n",
      "Epoch 70 >> Loss: 0.2567089737501255, Bleu: 0.47467708587646484, Test Bleu: 0.14347967505455017, Best:(0.49942848086357117/0.16923066973686218)\n",
      "Epoch 75 >> Loss: 0.2355132909064673, Bleu: 0.5045139789581299, Test Bleu: 0.1306418776512146, Best:(0.5170649290084839/0.16923066973686218)\n",
      "Epoch 80 >> Loss: 0.21705894380362328, Bleu: 0.5294860005378723, Test Bleu: 0.12062138319015503, Best:(0.5294860005378723/0.16923066973686218)\n",
      "Epoch 85 >> Loss: 0.20313797637919256, Bleu: 0.5407567024230957, Test Bleu: 0.1190563514828682, Best:(0.5407567024230957/0.16923066973686218)\n",
      "Epoch 90 >> Loss: 0.19035199615497922, Bleu: 0.5429815053939819, Test Bleu: 0.10575278103351593, Best:(0.5686277151107788/0.16923066973686218)\n",
      "Epoch 95 >> Loss: 0.17823708738351976, Bleu: 0.509873628616333, Test Bleu: 0.09162464737892151, Best:(0.5748429298400879/0.16923066973686218)\n",
      "Epoch 100 >> Loss: 0.1686258247623412, Bleu: 0.5291606187820435, Test Bleu: 0.13699719309806824, Best:(0.5748429298400879/0.16923066973686218)\n",
      "Reading lines...\n",
      "Read 55667 sentence pairs\n",
      "Trimmed to 19616 sentence pairs\n",
      "Counting words...\n",
      "Counted words:\n",
      "kin 36940\n",
      "eng 11235\n",
      "Reading lines...\n",
      "Read 55667 sentence pairs\n",
      "Trimmed to 19616 sentence pairs\n",
      "Counting words...\n",
      "Counted words:\n",
      "kin 36940\n",
      "eng 11235\n",
      "Epoch 5 >> Loss: 3.5049021721925095, Bleu: 0.0, Test Bleu: 0.0, Best:(0/0)\n",
      "Epoch 10 >> Loss: 2.316816366523959, Bleu: 0.03370119258761406, Test Bleu: 0.011757241562008858, Best:(0.03370119258761406/0.019916711375117302)\n",
      "Epoch 15 >> Loss: 1.5389926989873253, Bleu: 0.06862931698560715, Test Bleu: 0.023184169083833694, Best:(0.10845734179019928/0.023184169083833694)\n",
      "Epoch 20 >> Loss: 1.0614958481331536, Bleu: 0.12194053083658218, Test Bleu: 0.0, Best:(0.15754233300685883/0.023184169083833694)\n",
      "Epoch 25 >> Loss: 0.7499272623353014, Bleu: 0.18638591468334198, Test Bleu: 0.024356691166758537, Best:(0.20002371072769165/0.026738833636045456)\n",
      "Epoch 30 >> Loss: 0.5383946177616619, Bleu: 0.3203393518924713, Test Bleu: 0.015787124633789062, Best:(0.3203393518924713/0.026738833636045456)\n",
      "Epoch 35 >> Loss: 0.39282976183756246, Bleu: 0.2847880423069, Test Bleu: 0.01288564782589674, Best:(0.3203393518924713/0.03029695898294449)\n",
      "Epoch 40 >> Loss: 0.2926851689198698, Bleu: 0.33433350920677185, Test Bleu: 0.013270006515085697, Best:(0.34847086668014526/0.03101077303290367)\n",
      "Epoch 45 >> Loss: 0.22317548863963105, Bleu: 0.39792659878730774, Test Bleu: 0.020941637456417084, Best:(0.39792659878730774/0.03412584215402603)\n",
      "Epoch 50 >> Loss: 0.17396507890233545, Bleu: 0.3883362114429474, Test Bleu: 0.010293571278452873, Best:(0.4171977639198303/0.03412584215402603)\n",
      "Epoch 55 >> Loss: 0.13916684441219745, Bleu: 0.41329240798950195, Test Bleu: 0.03911083936691284, Best:(0.4564010202884674/0.03911083936691284)\n",
      "Epoch 60 >> Loss: 0.11456842589352385, Bleu: 0.4123882055282593, Test Bleu: 0.015348898246884346, Best:(0.4595077633857727/0.03911083936691284)\n",
      "Epoch 65 >> Loss: 0.09671942168331353, Bleu: 0.42405518889427185, Test Bleu: 0.027461573481559753, Best:(0.4595077633857727/0.03911083936691284)\n",
      "Epoch 70 >> Loss: 0.08213039588483459, Bleu: 0.4428822994232178, Test Bleu: 0.023454615846276283, Best:(0.5058377385139465/0.03911083936691284)\n",
      "Epoch 75 >> Loss: 0.07341178335687694, Bleu: 0.4183591902256012, Test Bleu: 0.018829166889190674, Best:(0.5094528198242188/0.03911083936691284)\n",
      "Epoch 80 >> Loss: 0.06451671674182083, Bleu: 0.4192553162574768, Test Bleu: 0.011542796157300472, Best:(0.5094528198242188/0.03911083936691284)\n",
      "Epoch 85 >> Loss: 0.058287372384098625, Bleu: 0.4658099412918091, Test Bleu: 0.011933322995901108, Best:(0.5094528198242188/0.03911083936691284)\n",
      "Epoch 90 >> Loss: 0.05323775126061083, Bleu: 0.4948282241821289, Test Bleu: 0.027099555358290672, Best:(0.5094528198242188/0.03911083936691284)\n",
      "Epoch 95 >> Loss: 0.04906363692459263, Bleu: 0.45422181487083435, Test Bleu: 0.014310621656477451, Best:(0.5388969779014587/0.03911083936691284)\n",
      "Epoch 100 >> Loss: 0.04549977950354093, Bleu: 0.48842599987983704, Test Bleu: 0.027578040957450867, Best:(0.5395488739013672/0.03911083936691284)\n",
      "Reading lines...\n",
      "Read 15022 sentence pairs\n",
      "Trimmed to 8447 sentence pairs\n",
      "Counting words...\n",
      "Counted words:\n",
      "lug 9684\n",
      "eng 5677\n",
      "Reading lines...\n",
      "Read 15022 sentence pairs\n",
      "Trimmed to 8447 sentence pairs\n",
      "Counting words...\n",
      "Counted words:\n",
      "lug 9684\n",
      "eng 5677\n",
      "Epoch 5 >> Loss: 4.177013055443159, Bleu: 0.0131613090634346, Test Bleu: 0.0, Best:(0.0131613090634346/0.011326811276376247)\n",
      "Epoch 10 >> Loss: 2.8651398937109156, Bleu: 0.034935131669044495, Test Bleu: 0.017463508993387222, Best:(0.034935131669044495/0.018745051696896553)\n",
      "Epoch 15 >> Loss: 2.00352510086776, Bleu: 0.0921897441148758, Test Bleu: 0.03151563182473183, Best:(0.0921897441148758/0.03151563182473183)\n",
      "Epoch 20 >> Loss: 1.3937281808877355, Bleu: 0.12608486413955688, Test Bleu: 0.018015068024396896, Best:(0.12608486413955688/0.03151563182473183)\n",
      "Epoch 25 >> Loss: 0.9694945937485864, Bleu: 0.21225297451019287, Test Bleu: 0.029806433245539665, Best:(0.21225297451019287/0.03496202081441879)\n",
      "Epoch 30 >> Loss: 0.6778863023380338, Bleu: 0.2848963141441345, Test Bleu: 0.03783995285630226, Best:(0.2848963141441345/0.03783995285630226)\n",
      "Epoch 35 >> Loss: 0.47554034073340706, Bleu: 0.3725929856300354, Test Bleu: 0.04347430169582367, Best:(0.3725929856300354/0.04347430169582367)\n",
      "Epoch 40 >> Loss: 0.3408130513229951, Bleu: 0.3547168970108032, Test Bleu: 0.02483563870191574, Best:(0.3987739086151123/0.04347430169582367)\n",
      "Epoch 45 >> Loss: 0.24681960073521902, Bleu: 0.43215981125831604, Test Bleu: 0.02211214415729046, Best:(0.4527740776538849/0.04347430169582367)\n",
      "Epoch 50 >> Loss: 0.18287362659794423, Bleu: 0.5043255686759949, Test Bleu: 0.03142430633306503, Best:(0.5043255686759949/0.05668073892593384)\n",
      "Epoch 55 >> Loss: 0.1392710395497719, Bleu: 0.5190631747245789, Test Bleu: 0.04183223843574524, Best:(0.5508162379264832/0.05668073892593384)\n",
      "Epoch 60 >> Loss: 0.11075207440532402, Bleu: 0.5361208319664001, Test Bleu: 0.0381564162671566, Best:(0.555330216884613/0.05668073892593384)\n",
      "Epoch 65 >> Loss: 0.08978726427794106, Bleu: 0.5795440673828125, Test Bleu: 0.05065286532044411, Best:(0.5795440673828125/0.05668073892593384)\n",
      "Epoch 70 >> Loss: 0.07427290785433677, Bleu: 0.5369834303855896, Test Bleu: 0.055239200592041016, Best:(0.5795440673828125/0.05668073892593384)\n",
      "Epoch 75 >> Loss: 0.06301249781727489, Bleu: 0.5966125726699829, Test Bleu: 0.03882906585931778, Best:(0.5966125726699829/0.05668073892593384)\n",
      "Epoch 80 >> Loss: 0.055981816355195745, Bleu: 0.627577543258667, Test Bleu: 0.024866478517651558, Best:(0.627577543258667/0.05668073892593384)\n",
      "Epoch 85 >> Loss: 0.04911011829404964, Bleu: 0.5699904561042786, Test Bleu: 0.03425643593072891, Best:(0.627577543258667/0.05668073892593384)\n",
      "Epoch 90 >> Loss: 0.043213810794395846, Bleu: 0.5546009540557861, Test Bleu: 0.030113043263554573, Best:(0.627577543258667/0.05668073892593384)\n",
      "Epoch 95 >> Loss: 0.03952214908857031, Bleu: 0.6276384592056274, Test Bleu: 0.044573694467544556, Best:(0.6276384592056274/0.05668073892593384)\n",
      "Epoch 100 >> Loss: 0.035506663690817536, Bleu: 0.5871702432632446, Test Bleu: 0.0313982293009758, Best:(0.660061240196228/0.05668073892593384)\n"
     ]
    }
   ],
   "source": [
    "langs = ['bem', 'kin', 'lug']\n",
    "\n",
    "for lang in langs:\n",
    "    input_lang, output_lang, train_dataloader, pairs = get_dataloader(batch_size, language=lang)\n",
    "\n",
    "    encoder, decoder, test_pairs = personalize(lang, 100, save=True, encoder_weights=None, decoder_weights=None, sample=None)"
   ]
  },
  {
   "cell_type": "code",
   "execution_count": 322,
   "metadata": {},
   "outputs": [
    {
     "name": "stdout",
     "output_type": "stream",
     "text": [
      "Reading lines...\n",
      "Read 82370 sentence pairs\n",
      "Trimmed to 25719 sentence pairs\n",
      "Counting words...\n",
      "Counted words:\n",
      "bem 19481\n",
      "eng 5092\n",
      "Reading lines...\n",
      "Read 82370 sentence pairs\n",
      "Trimmed to 25719 sentence pairs\n",
      "Counting words...\n",
      "Counted words:\n",
      "bem 19481\n",
      "eng 5092\n",
      "Epoch 5 >> Loss: 6.797128224372864, Bleu: 0.0, Test Bleu: 0.0, Best:(0/0)\n",
      "Epoch 10 >> Loss: 4.100341749191284, Bleu: 0.0, Test Bleu: 0.0, Best:(0/0)\n",
      "Epoch 15 >> Loss: 3.3996550679206847, Bleu: 0.0, Test Bleu: 0.0, Best:(0/0)\n",
      "Epoch 20 >> Loss: 3.097805458307266, Bleu: 0.0, Test Bleu: 0.0, Best:(0/0)\n",
      "Epoch 25 >> Loss: 2.8388034045696258, Bleu: 0.0, Test Bleu: 0.0, Best:(0/0)\n",
      "Epoch 30 >> Loss: 2.5928813815116882, Bleu: 0.0, Test Bleu: 0.0, Best:(0/0)\n",
      "Epoch 35 >> Loss: 2.3535727679729463, Bleu: 0.0, Test Bleu: 0.0, Best:(0/0)\n",
      "Epoch 40 >> Loss: 2.1276715636253356, Bleu: 0.0, Test Bleu: 0.0, Best:(0/0)\n",
      "Epoch 45 >> Loss: 1.9152377903461457, Bleu: 0.0, Test Bleu: 0.0, Best:(0/0)\n",
      "Epoch 50 >> Loss: 1.7170710533857345, Bleu: 0.0, Test Bleu: 0.0, Best:(0/0)\n",
      "Epoch 55 >> Loss: 1.5304632186889648, Bleu: 0.0, Test Bleu: 0.007940854877233505, Best:(0/0.007940854877233505)\n",
      "Epoch 60 >> Loss: 1.3535576328635215, Bleu: 0.0, Test Bleu: 0.0, Best:(0.007132525090128183/0.010679169557988644)\n",
      "Epoch 65 >> Loss: 1.193776896595955, Bleu: 0.0, Test Bleu: 0.011473165825009346, Best:(0.007132525090128183/0.011473165825009346)\n",
      "Epoch 70 >> Loss: 1.0462450370192529, Bleu: 0.0, Test Bleu: 0.008405406959354877, Best:(0.007132525090128183/0.011473165825009346)\n",
      "Epoch 75 >> Loss: 0.9146042868494988, Bleu: 0.006390923634171486, Test Bleu: 0.00843590684235096, Best:(0.011787970550358295/0.011473165825009346)\n",
      "Epoch 80 >> Loss: 0.7949576370418072, Bleu: 0.0, Test Bleu: 0.0, Best:(0.011787970550358295/0.015282250940799713)\n",
      "Epoch 85 >> Loss: 0.6911225907504559, Bleu: 0.0, Test Bleu: 0.0, Best:(0.011787970550358295/0.015282250940799713)\n",
      "Epoch 90 >> Loss: 0.5944847084581852, Bleu: 0.0, Test Bleu: 0.006270770449191332, Best:(0.013559669256210327/0.015282250940799713)\n",
      "Epoch 95 >> Loss: 0.5112036041915416, Bleu: 0.010076325386762619, Test Bleu: 0.0, Best:(0.013559669256210327/0.015282250940799713)\n",
      "Epoch 100 >> Loss: 0.43557979688048365, Bleu: 0.0, Test Bleu: 0.0, Best:(0.013559669256210327/0.015282250940799713)\n",
      "Reading lines...\n",
      "Read 55667 sentence pairs\n",
      "Trimmed to 19616 sentence pairs\n",
      "Counting words...\n",
      "Counted words:\n",
      "kin 36940\n",
      "eng 11235\n",
      "Reading lines...\n",
      "Read 55667 sentence pairs\n",
      "Trimmed to 19616 sentence pairs\n",
      "Counting words...\n",
      "Counted words:\n",
      "kin 36940\n",
      "eng 11235\n",
      "Epoch 5 >> Loss: 7.031461882591247, Bleu: 0.0, Test Bleu: 0.0, Best:(0/0)\n",
      "Epoch 10 >> Loss: 3.8472381353378298, Bleu: 0.0, Test Bleu: 0.0, Best:(0/0)\n",
      "Epoch 15 >> Loss: 3.035043442249298, Bleu: 0.0, Test Bleu: 0.0, Best:(0/0)\n",
      "Epoch 20 >> Loss: 2.717591142654419, Bleu: 0.0, Test Bleu: 0.0, Best:(0/0)\n",
      "Epoch 25 >> Loss: 2.4970958530902863, Bleu: 0.0, Test Bleu: 0.0, Best:(0/0)\n",
      "Epoch 30 >> Loss: 2.3041890978813173, Bleu: 0.0, Test Bleu: 0.0, Best:(0/0)\n",
      "Epoch 35 >> Loss: 2.1152383774518966, Bleu: 0.0, Test Bleu: 0.0, Best:(0/0)\n",
      "Epoch 40 >> Loss: 1.9220203340053559, Bleu: 0.0, Test Bleu: 0.008836956694722176, Best:(0/0.008836956694722176)\n",
      "Epoch 45 >> Loss: 1.7274000197649002, Bleu: 0.0, Test Bleu: 0.0, Best:(0/0.008836956694722176)\n",
      "Epoch 50 >> Loss: 1.5315141648054122, Bleu: 0.0, Test Bleu: 0.0, Best:(0/0.008836956694722176)\n",
      "Epoch 55 >> Loss: 1.3374647200107574, Bleu: 0.0, Test Bleu: 0.0, Best:(0/0.008836956694722176)\n",
      "Epoch 60 >> Loss: 1.1502630963921547, Bleu: 0.0, Test Bleu: 0.0, Best:(0/0.008836956694722176)\n",
      "Epoch 65 >> Loss: 0.9736724928021431, Bleu: 0.0051513127982616425, Test Bleu: 0.0, Best:(0.013798011466860771/0.010379020124673843)\n",
      "Epoch 70 >> Loss: 0.8157923184335232, Bleu: 0.0, Test Bleu: 0.009598341770470142, Best:(0.013798011466860771/0.010379020124673843)\n",
      "Epoch 75 >> Loss: 0.6821061693131923, Bleu: 0.0, Test Bleu: 0.0, Best:(0.013798011466860771/0.010379020124673843)\n",
      "Epoch 80 >> Loss: 0.5736877724528313, Bleu: 0.0, Test Bleu: 0.0, Best:(0.013798011466860771/0.010379020124673843)\n",
      "Epoch 85 >> Loss: 0.4876392088830471, Bleu: 0.0, Test Bleu: 0.0, Best:(0.019265782088041306/0.010379020124673843)\n",
      "Epoch 90 >> Loss: 0.41920817121863363, Bleu: 0.011595435440540314, Test Bleu: 0.011198869906365871, Best:(0.019265782088041306/0.011198869906365871)\n",
      "Epoch 95 >> Loss: 0.36180160865187644, Bleu: 0.0, Test Bleu: 0.0, Best:(0.019265782088041306/0.011198869906365871)\n",
      "Epoch 100 >> Loss: 0.317063894122839, Bleu: 0.0, Test Bleu: 0.0071606081910431385, Best:(0.019265782088041306/0.011198869906365871)\n",
      "Reading lines...\n",
      "Read 15022 sentence pairs\n",
      "Trimmed to 8447 sentence pairs\n",
      "Counting words...\n",
      "Counted words:\n",
      "lug 9684\n",
      "eng 5677\n",
      "Reading lines...\n",
      "Read 15022 sentence pairs\n",
      "Trimmed to 8447 sentence pairs\n",
      "Counting words...\n",
      "Counted words:\n",
      "lug 9684\n",
      "eng 5677\n",
      "Epoch 5 >> Loss: 7.071751356124878, Bleu: 0.0, Test Bleu: 0.0, Best:(0/0)\n",
      "Epoch 10 >> Loss: 4.584555292129517, Bleu: 0.0, Test Bleu: 0.0, Best:(0/0)\n",
      "Epoch 15 >> Loss: 3.9803792595863343, Bleu: 0.0, Test Bleu: 0.0, Best:(0/0)\n",
      "Epoch 20 >> Loss: 3.6613850951194764, Bleu: 0.0, Test Bleu: 0.0, Best:(0/0)\n",
      "Epoch 25 >> Loss: 3.3675555109977724, Bleu: 0.0, Test Bleu: 0.0, Best:(0/0)\n",
      "Epoch 30 >> Loss: 3.068831926584244, Bleu: 0.0, Test Bleu: 0.0, Best:(0/0)\n",
      "Epoch 35 >> Loss: 2.771984589099884, Bleu: 0.0, Test Bleu: 0.0, Best:(0/0)\n",
      "Epoch 40 >> Loss: 2.4809547066688538, Bleu: 0.0, Test Bleu: 0.0, Best:(0/0)\n",
      "Epoch 45 >> Loss: 2.1978117555379866, Bleu: 0.0, Test Bleu: 0.0, Best:(0/0)\n",
      "Epoch 50 >> Loss: 1.9210188001394273, Bleu: 0.0, Test Bleu: 0.0, Best:(0.009791083633899689/0)\n",
      "Epoch 55 >> Loss: 1.6571329206228256, Bleu: 0.0, Test Bleu: 0.0, Best:(0.009791083633899689/0)\n",
      "Epoch 60 >> Loss: 1.4074074372649192, Bleu: 0.0, Test Bleu: 0.0, Best:(0.009791083633899689/0)\n",
      "Epoch 65 >> Loss: 1.184053462743759, Bleu: 0.0, Test Bleu: 0.0, Best:(0.014550884254276752/0)\n",
      "Epoch 70 >> Loss: 0.9903951942920685, Bleu: 0.0, Test Bleu: 0.006764034740626812, Best:(0.014550884254276752/0.006764034740626812)\n",
      "Epoch 75 >> Loss: 0.8263556666672229, Bleu: 0.0, Test Bleu: 0.0, Best:(0.014550884254276752/0.010950632393360138)\n",
      "Epoch 80 >> Loss: 0.6959044381976127, Bleu: 0.0, Test Bleu: 0.0, Best:(0.014550884254276752/0.012960598804056644)\n",
      "Epoch 85 >> Loss: 0.586490073800087, Bleu: 0.0, Test Bleu: 0.0, Best:(0.014550884254276752/0.012960598804056644)\n",
      "Epoch 90 >> Loss: 0.49639263600111005, Bleu: 0.018736088648438454, Test Bleu: 0.012009948492050171, Best:(0.024407627061009407/0.012960598804056644)\n",
      "Epoch 95 >> Loss: 0.42232749089598653, Bleu: 0.0, Test Bleu: 0.0, Best:(0.024407627061009407/0.012960598804056644)\n",
      "Epoch 100 >> Loss: 0.3596622824668884, Bleu: 0.019904887303709984, Test Bleu: 0.011627133004367352, Best:(0.024407627061009407/0.01509050838649273)\n"
     ]
    }
   ],
   "source": [
    "langs = ['bem', 'kin', 'lug']\n",
    "\n",
    "for lang in langs:\n",
    "    input_lang, output_lang, train_dataloader, pairs = get_dataloader(batch_size, language=lang)\n",
    "\n",
    "    encoder, decoder, test_pairs = personalize(lang, 100, save=True, encoder_weights=None, decoder_weights=None, sample=100)"
   ]
  },
  {
   "cell_type": "code",
   "execution_count": 324,
   "metadata": {},
   "outputs": [
    {
     "name": "stdout",
     "output_type": "stream",
     "text": [
      "Reading lines...\n",
      "Read 29506 sentence pairs\n",
      "Trimmed to 872 sentence pairs\n",
      "Counting words...\n",
      "Counted words:\n",
      "kir 1954\n",
      "eng 1566\n",
      "Reading lines...\n",
      "Read 29506 sentence pairs\n",
      "Trimmed to 872 sentence pairs\n",
      "Counting words...\n",
      "Counted words:\n",
      "kir 1954\n",
      "eng 1566\n",
      "Epoch 5 >> Loss: 4.294888372421265, Bleu: 0.0845878895901942, Test Bleu: 0.07503550499677658, Best:(0.08475242555141449/0.07521585375070572)\n",
      "Epoch 10 >> Loss: 3.087857704162597, Bleu: 0.07980252057313919, Test Bleu: 0.0649627298116684, Best:(0.0967574268579483/0.07521585375070572)\n",
      "Epoch 15 >> Loss: 2.4582161164283756, Bleu: 0.08963023126125336, Test Bleu: 0.07968392223119736, Best:(0.09816891700029373/0.07968392223119736)\n",
      "Epoch 20 >> Loss: 1.9043814027309416, Bleu: 0.1049438938498497, Test Bleu: 0.08781197667121887, Best:(0.11620661616325378/0.08781197667121887)\n",
      "Epoch 25 >> Loss: 1.4426589131355285, Bleu: 0.14083968102931976, Test Bleu: 0.08822551369667053, Best:(0.1463944911956787/0.0935228019952774)\n",
      "Epoch 30 >> Loss: 1.0770999479293824, Bleu: 0.14099206030368805, Test Bleu: 0.08917693793773651, Best:(0.16300053894519806/0.0935228019952774)\n",
      "Epoch 35 >> Loss: 0.799776331782341, Bleu: 0.1939147710800171, Test Bleu: 0.09802374243736267, Best:(0.20794206857681274/0.09802374243736267)\n",
      "Epoch 40 >> Loss: 0.5954750129580498, Bleu: 0.22452440857887268, Test Bleu: 0.09693360328674316, Best:(0.2521875500679016/0.09995222836732864)\n",
      "Epoch 45 >> Loss: 0.455567467212677, Bleu: 0.22228360176086426, Test Bleu: 0.09705938398838043, Best:(0.2688963711261749/0.10428176820278168)\n",
      "Epoch 50 >> Loss: 0.3463781529664993, Bleu: 0.2932397723197937, Test Bleu: 0.09694994240999222, Best:(0.2932397723197937/0.10463828593492508)\n",
      "Epoch 55 >> Loss: 0.2648897176980972, Bleu: 0.3533582091331482, Test Bleu: 0.09881910681724548, Best:(0.3533582091331482/0.10463828593492508)\n",
      "Epoch 60 >> Loss: 0.20557903170585634, Bleu: 0.34101757407188416, Test Bleu: 0.09884408116340637, Best:(0.36439383029937744/0.10463828593492508)\n",
      "Epoch 65 >> Loss: 0.16137562848627568, Bleu: 0.37599462270736694, Test Bleu: 0.10225626826286316, Best:(0.42715805768966675/0.10463828593492508)\n",
      "Epoch 70 >> Loss: 0.12708221912384032, Bleu: 0.44251182675361633, Test Bleu: 0.0992492139339447, Best:(0.4569440186023712/0.10619352012872696)\n",
      "Epoch 75 >> Loss: 0.10214282929897309, Bleu: 0.443045437335968, Test Bleu: 0.10004676133394241, Best:(0.4569440186023712/0.10619352012872696)\n",
      "Epoch 80 >> Loss: 0.08309303574264051, Bleu: 0.4879564642906189, Test Bleu: 0.1041267141699791, Best:(0.5255781412124634/0.10619352012872696)\n",
      "Epoch 85 >> Loss: 0.06909817337989807, Bleu: 0.48875853419303894, Test Bleu: 0.10231418162584305, Best:(0.5255781412124634/0.10630069673061371)\n",
      "Epoch 90 >> Loss: 0.05835512660443783, Bleu: 0.4891737699508667, Test Bleu: 0.10451583564281464, Best:(0.548524796962738/0.11225926131010056)\n",
      "Epoch 95 >> Loss: 0.05070871077477932, Bleu: 0.515106737613678, Test Bleu: 0.11002087593078613, Best:(0.554979145526886/0.11225926131010056)\n",
      "Epoch 100 >> Loss: 0.044301588311791415, Bleu: 0.5312188267707825, Test Bleu: 0.11242905259132385, Best:(0.554979145526886/0.11242905259132385)\n",
      "Reading lines...\n",
      "Read 29506 sentence pairs\n",
      "Trimmed to 872 sentence pairs\n",
      "Counting words...\n",
      "Counted words:\n",
      "kir 1954\n",
      "eng 1566\n",
      "Epoch 5 >> Loss: 5.839345705509186, Bleu: 0.0, Test Bleu: 0.0, Best:(0/0)\n",
      "Epoch 10 >> Loss: 3.8425313591957093, Bleu: 0.0, Test Bleu: 0.0, Best:(0/0)\n",
      "Epoch 15 >> Loss: 3.236847907304764, Bleu: 0.0034113656729459763, Test Bleu: 0.0, Best:(0.0034299290273338556/0.004303307272493839)\n",
      "Epoch 20 >> Loss: 2.8378109097480775, Bleu: 0.004434581380337477, Test Bleu: 0.0, Best:(0.004434581380337477/0.004303307272493839)\n",
      "Epoch 25 >> Loss: 2.4809624671936037, Bleu: 0.0, Test Bleu: 0.0, Best:(0.004434581380337477/0.0065435501746833324)\n",
      "Epoch 30 >> Loss: 2.1457908004522324, Bleu: 0.0, Test Bleu: 0.0, Best:(0.004434581380337477/0.008687825184232877)\n",
      "Epoch 35 >> Loss: 1.8274882584810257, Bleu: 0.007762238642958618, Test Bleu: 0.008199382907170953, Best:(0.008054838847332577/0.015198475163052705)\n",
      "Epoch 40 >> Loss: 1.5304090723395347, Bleu: 0.018941500801913886, Test Bleu: 0.021586119418183822, Best:(0.0285455710027697/0.021586119418183822)\n",
      "Epoch 45 >> Loss: 1.2561919689178467, Bleu: 0.033057231456041336, Test Bleu: 0.060159627348184586, Best:(0.06137777914050737/0.060159627348184586)\n",
      "Epoch 50 >> Loss: 1.0194324284791947, Bleu: 0.08240941166877747, Test Bleu: 0.063897505402565, Best:(0.08240941166877747/0.063897505402565)\n",
      "Epoch 55 >> Loss: 0.8192830391228199, Bleu: 0.05984942615032196, Test Bleu: 0.06880093365907669, Best:(0.08240941166877747/0.07331836968660355)\n",
      "Epoch 60 >> Loss: 0.6596737571060658, Bleu: 0.07130029052495956, Test Bleu: 0.07249606400728226, Best:(0.08240941166877747/0.07331836968660355)\n",
      "Epoch 65 >> Loss: 0.5409014906734229, Bleu: 0.06536971777677536, Test Bleu: 0.07157834619283676, Best:(0.08240941166877747/0.08193787932395935)\n",
      "Epoch 70 >> Loss: 0.44606445357203484, Bleu: 0.04277997091412544, Test Bleu: 0.06357130408287048, Best:(0.08240941166877747/0.08193787932395935)\n",
      "Epoch 75 >> Loss: 0.3721143066883087, Bleu: 0.047430284321308136, Test Bleu: 0.03301820904016495, Best:(0.08240941166877747/0.08193787932395935)\n",
      "Epoch 80 >> Loss: 0.3112582866102457, Bleu: 0.04896601662039757, Test Bleu: 0.03817906603217125, Best:(0.08240941166877747/0.08193787932395935)\n",
      "Epoch 85 >> Loss: 0.26120934560894965, Bleu: 0.043122511357069016, Test Bleu: 0.033936306834220886, Best:(0.08240941166877747/0.08193787932395935)\n",
      "Epoch 90 >> Loss: 0.22080011051148177, Bleu: 0.06129802390933037, Test Bleu: 0.03360088914632797, Best:(0.08240941166877747/0.08193787932395935)\n",
      "Epoch 95 >> Loss: 0.18724537026137114, Bleu: 0.022823186591267586, Test Bleu: 0.036853477358818054, Best:(0.08240941166877747/0.08193787932395935)\n",
      "Epoch 100 >> Loss: 0.1590791441500187, Bleu: 0.03872586041688919, Test Bleu: 0.04262203723192215, Best:(0.08240941166877747/0.08193787932395935)\n"
     ]
    }
   ],
   "source": [
    "input_lang, output_lang, train_dataloader, pairs = get_dataloader(batch_size, language='kir')\n",
    "\n",
    "encoder, decoder, test_pairs = personalize('kir', 100, save=True, encoder_weights=None, decoder_weights=None, sample=None)\n",
    "encoder, decoder, test_pairs = personalize('kir', 100, save=True, encoder_weights=None, decoder_weights=None, sample=100)"
   ]
  },
  {
   "cell_type": "code",
   "execution_count": 325,
   "metadata": {},
   "outputs": [],
   "source": [
    "noweight_encoderft = ft_meta_encoder_weights\n",
    "noweight_decoderft = ft_meta_decoder_weights\n",
    "noweight_encoder = meta_encoder_weights\n",
    "noweight_decoder = meta_decoder_weights"
   ]
  },
  {
   "cell_type": "code",
   "execution_count": 348,
   "metadata": {},
   "outputs": [
    {
     "name": "stdout",
     "output_type": "stream",
     "text": [
      "Reading lines...\n",
      "Read 29506 sentence pairs\n",
      "Trimmed to 872 sentence pairs\n",
      "Counting words...\n",
      "Counted words:\n",
      "kir 1954\n",
      "eng 1566\n",
      "Epoch 5 >> Loss: 7.091353511810302, Bleu: 0.0, Test Bleu: 0.0, Best:(0/0)\n",
      "Epoch 10 >> Loss: 6.328334522247315, Bleu: 0.0, Test Bleu: 0.0, Best:(0/0)\n",
      "Epoch 15 >> Loss: 5.28613052368164, Bleu: 0.0, Test Bleu: 0.0, Best:(0/0)\n",
      "Epoch 20 >> Loss: 4.29144926071167, Bleu: 0.0, Test Bleu: 0.0, Best:(0/0)\n",
      "Epoch 25 >> Loss: 3.5186821937561037, Bleu: 0.0, Test Bleu: 0.0, Best:(0/0)\n",
      "Epoch 30 >> Loss: 2.9056015014648438, Bleu: 0.0, Test Bleu: 0.0, Best:(0/0)\n",
      "Epoch 35 >> Loss: 2.422715997695923, Bleu: 0.0, Test Bleu: 0.0, Best:(0/0)\n",
      "Epoch 40 >> Loss: 2.0179399251937866, Bleu: 0.003873996203765273, Test Bleu: 0.0, Best:(0.00456723477691412/0)\n",
      "Epoch 45 >> Loss: 1.657440185546875, Bleu: 0.00756849953904748, Test Bleu: 0.0, Best:(0.007926229387521744/0.004629823379218578)\n",
      "Epoch 50 >> Loss: 1.349088931083679, Bleu: 0.0, Test Bleu: 0.0, Best:(0.015829095616936684/0.004629823379218578)\n",
      "Epoch 55 >> Loss: 1.0739892244338989, Bleu: 0.015027633868157864, Test Bleu: 0.0, Best:(0.016652589663863182/0.004629823379218578)\n",
      "Epoch 60 >> Loss: 0.8562746286392212, Bleu: 0.014504443854093552, Test Bleu: 0.0, Best:(0.016652589663863182/0.004629823379218578)\n",
      "Epoch 65 >> Loss: 0.6768584370613098, Bleu: 0.004702948033809662, Test Bleu: 0.0, Best:(0.016652589663863182/0.004629823379218578)\n",
      "Epoch 70 >> Loss: 0.5360190629959106, Bleu: 0.010158280842006207, Test Bleu: 0.0, Best:(0.016652589663863182/0.004629823379218578)\n",
      "Epoch 75 >> Loss: 0.432794326543808, Bleu: 0.012723567895591259, Test Bleu: 0.007301741279661655, Best:(0.016652589663863182/0.007455859333276749)\n",
      "Epoch 80 >> Loss: 0.3493535041809082, Bleu: 0.007540207821875811, Test Bleu: 0.007353484630584717, Best:(0.016652589663863182/0.008040307089686394)\n",
      "Epoch 85 >> Loss: 0.2840159058570862, Bleu: 0.010895458981394768, Test Bleu: 0.00760628143325448, Best:(0.016652589663863182/0.008040307089686394)\n",
      "Epoch 90 >> Loss: 0.23489248752593994, Bleu: 0.012987571768462658, Test Bleu: 0.008024902082979679, Best:(0.020235925912857056/0.008273645304143429)\n",
      "Epoch 95 >> Loss: 0.1955012172460556, Bleu: 0.010476366616785526, Test Bleu: 0.008357265032827854, Best:(0.020235925912857056/0.0084464643150568)\n",
      "Epoch 100 >> Loss: 0.16483736038208008, Bleu: 0.012810342013835907, Test Bleu: 0.007932006381452084, Best:(0.020848095417022705/0.0084464643150568)\n"
     ]
    }
   ],
   "source": [
    "encoder, decoder, test_pairs = personalize('kir', 100, save=True, encoder_weights=None, decoder_weights=None, sample=10)"
   ]
  },
  {
   "cell_type": "code",
   "execution_count": 349,
   "metadata": {},
   "outputs": [],
   "source": [
    "lexical_encoderft = ft_meta_encoder_weights\n",
    "lexical_decoderft = ft_meta_decoder_weights\n",
    "lexical_encoder = meta_encoder_weights\n",
    "lexical_decoder = meta_decoder_weights"
   ]
  },
  {
   "cell_type": "code",
   "execution_count": null,
   "metadata": {},
   "outputs": [],
   "source": []
  }
 ],
 "metadata": {
  "kernelspec": {
   "display_name": "Python 3 (ipykernel)",
   "language": "python",
   "name": "python3"
  },
  "language_info": {
   "codemirror_mode": {
    "name": "ipython",
    "version": 3
   },
   "file_extension": ".py",
   "mimetype": "text/x-python",
   "name": "python",
   "nbconvert_exporter": "python",
   "pygments_lexer": "ipython3",
   "version": "3.10.12"
  }
 },
 "nbformat": 4,
 "nbformat_minor": 0
}
