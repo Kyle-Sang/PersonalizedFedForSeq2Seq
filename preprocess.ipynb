{
 "cells": [
  {
   "cell_type": "code",
   "execution_count": 2,
   "metadata": {},
   "outputs": [],
   "source": [
    "def clean_text_file(input_path, output_path):\n",
    "    \"\"\"\n",
    "    Processes a text file to remove everything after the second tab on each line.\n",
    "    \n",
    "    Args:\n",
    "    input_path (str): The path to the input file.\n",
    "    output_path (str): The path to the output file where the cleaned lines will be saved.\n",
    "    \"\"\"\n",
    "    with open(input_path, 'r') as infile, open(output_path, 'w') as outfile:\n",
    "        for line in infile:\n",
    "            parts = line.split('\\t')\n",
    "            if len(parts) > 1:\n",
    "                outfile.write(parts[0] + '\\t' + parts[1] + '\\n')\n",
    "            else:\n",
    "                outfile.write(line)"
   ]
  },
  {
   "cell_type": "code",
   "execution_count": 3,
   "metadata": {},
   "outputs": [],
   "source": [
    "clean_text_file('./data/fin.txt', './data/eng-fin.txt')"
   ]
  },
  {
   "cell_type": "code",
   "execution_count": 5,
   "metadata": {},
   "outputs": [],
   "source": [
    "import os\n",
    "\n",
    "def clean_directory(input_dir, output_dir):\n",
    "    \"\"\"\n",
    "    Processes all .txt files in the input directory, removes everything after the second tab on each line,\n",
    "    and saves the results in the output directory. It skips files that already have an output.\n",
    "    \n",
    "    Args:\n",
    "    input_dir (str): The directory containing the input .txt files.\n",
    "    output_dir (str): The directory to save the output .txt files.\n",
    "    \"\"\"\n",
    "    # Make sure the output directory exists\n",
    "    os.makedirs(output_dir, exist_ok=True)\n",
    "\n",
    "    # List all files in the input directory\n",
    "    for filename in os.listdir(input_dir):\n",
    "        if filename.endswith('.txt'):\n",
    "            input_path = os.path.join(input_dir, filename)\n",
    "            output_path = os.path.join(output_dir, f\"eng-{filename}\")\n",
    "            \n",
    "            # Skip processing if output file already exists\n",
    "            if os.path.exists(output_path):\n",
    "                continue\n",
    "            \n",
    "            # Process the file if the output does not exist\n",
    "            with open(input_path, 'r') as infile, open(output_path, 'w') as outfile:\n",
    "                for line in infile:\n",
    "                    parts = line.split('\\t')\n",
    "                    if len(parts) > 1:\n",
    "                        outfile.write(parts[0] + '\\t' + parts[1] + '\\n')\n",
    "                    else:\n",
    "                        outfile.write(line)"
   ]
  },
  {
   "cell_type": "code",
   "execution_count": 6,
   "metadata": {},
   "outputs": [],
   "source": [
    "clean_directory('./raw/', './data/')"
   ]
  },
  {
   "cell_type": "code",
   "execution_count": null,
   "metadata": {},
   "outputs": [],
   "source": []
  }
 ],
 "metadata": {
  "kernelspec": {
   "display_name": "Python 3 (ipykernel)",
   "language": "python",
   "name": "python3"
  },
  "language_info": {
   "codemirror_mode": {
    "name": "ipython",
    "version": 3
   },
   "file_extension": ".py",
   "mimetype": "text/x-python",
   "name": "python",
   "nbconvert_exporter": "python",
   "pygments_lexer": "ipython3",
   "version": "3.8.10"
  },
  "orig_nbformat": 4
 },
 "nbformat": 4,
 "nbformat_minor": 2
}
