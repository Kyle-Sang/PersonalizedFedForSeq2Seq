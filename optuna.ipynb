{
 "cells": [
  {
   "cell_type": "code",
   "execution_count": 1,
   "metadata": {},
   "outputs": [],
   "source": [
    "def model_1():\n",
    "    return 3\n",
    "\n",
    "def model_2():\n",
    "    return 7"
   ]
  },
  {
   "cell_type": "code",
   "execution_count": 2,
   "metadata": {},
   "outputs": [
    {
     "name": "stderr",
     "output_type": "stream",
     "text": [
      "/usr/local/lib/python3.10/dist-packages/tqdm/auto.py:21: TqdmWarning: IProgress not found. Please update jupyter and ipywidgets. See https://ipywidgets.readthedocs.io/en/stable/user_install.html\n",
      "  from .autonotebook import tqdm as notebook_tqdm\n"
     ]
    }
   ],
   "source": [
    "import optuna\n",
    "import logging"
   ]
  },
  {
   "cell_type": "code",
   "execution_count": 8,
   "metadata": {},
   "outputs": [],
   "source": [
    "def objective(trial):\n",
    "    weights = []\n",
    "    prediction = []\n",
    "    upper_limit = 100\n",
    "    STEP_SIZE = 1\n",
    "    one = trial.suggest_int(\"one\", 0, upper_limit, step=STEP_SIZE)\n",
    "    weights.append(one)\n",
    "    upper_limit -= sum(weights)\n",
    "    upper_limit = upper_limit\n",
    "\n",
    "    # two = trial.suggest_int(\"two\", 0, upper_limit, step=STEP_SIZE)\n",
    "    weights.append(100 - one)\n",
    "\n",
    "    weights_sum = sum(weights)\n",
    "    if weights_sum != 100:\n",
    "        raise Exception(f\"Weights sum must be equal to 100. Instead {weights_sum} was encountered!\")\n",
    "\n",
    "    modelx = model_1()\n",
    "    modely = model_2()\n",
    "\n",
    "    pred = (weights[0] * modelx + weights[1] * modely) / (sum(weights))\n",
    "    ans = abs(pred - 6)\n",
    "    return ans"
   ]
  },
  {
   "cell_type": "code",
   "execution_count": 13,
   "metadata": {},
   "outputs": [],
   "source": [
    "optuna.logging.set_verbosity(optuna.logging.WARNING)\n"
   ]
  },
  {
   "cell_type": "code",
   "execution_count": 14,
   "metadata": {},
   "outputs": [
    {
     "name": "stderr",
     "output_type": "stream",
     "text": [
      "[I 2024-09-08 05:03:19,713] Using an existing study with name 'optimizing weights' instead of creating a new one.\n"
     ]
    }
   ],
   "source": [
    "study = optuna.create_study(study_name=\"optimizing weights\", direction=\"minimize\", storage='sqlite:///example.db', load_if_exists=True)"
   ]
  },
  {
   "cell_type": "code",
   "execution_count": 15,
   "metadata": {},
   "outputs": [
    {
     "name": "stderr",
     "output_type": "stream",
     "text": [
      "[I 2024-09-08 05:03:19,933] Trial 180 finished with value: 0.08000000000000007 and parameters: {'one': 23}. Best is trial 19 with value: 0.0.\n",
      "[I 2024-09-08 05:03:19,995] Trial 181 finished with value: 0.0 and parameters: {'one': 25}. Best is trial 19 with value: 0.0.\n",
      "[I 2024-09-08 05:03:20,060] Trial 182 finished with value: 0.0 and parameters: {'one': 25}. Best is trial 19 with value: 0.0.\n",
      "[I 2024-09-08 05:03:20,127] Trial 183 finished with value: 0.16000000000000014 and parameters: {'one': 29}. Best is trial 19 with value: 0.0.\n",
      "[I 2024-09-08 05:03:20,171] Trial 184 finished with value: 0.08000000000000007 and parameters: {'one': 27}. Best is trial 19 with value: 0.0.\n",
      "[I 2024-09-08 05:03:20,216] Trial 185 finished with value: 0.1200000000000001 and parameters: {'one': 22}. Best is trial 19 with value: 0.0.\n",
      "[I 2024-09-08 05:03:20,277] Trial 186 finished with value: 0.040000000000000036 and parameters: {'one': 24}. Best is trial 19 with value: 0.0.\n",
      "[I 2024-09-08 05:03:20,332] Trial 187 finished with value: 0.2400000000000002 and parameters: {'one': 31}. Best is trial 19 with value: 0.0.\n",
      "[I 2024-09-08 05:03:20,399] Trial 188 finished with value: 0.2400000000000002 and parameters: {'one': 19}. Best is trial 19 with value: 0.0.\n",
      "[I 2024-09-08 05:03:20,457] Trial 189 finished with value: 0.16000000000000014 and parameters: {'one': 21}. Best is trial 19 with value: 0.0.\n",
      "[I 2024-09-08 05:03:20,519] Trial 190 finished with value: 0.040000000000000036 and parameters: {'one': 26}. Best is trial 19 with value: 0.0.\n",
      "[I 2024-09-08 05:03:20,578] Trial 191 finished with value: 0.040000000000000036 and parameters: {'one': 24}. Best is trial 19 with value: 0.0.\n",
      "[I 2024-09-08 05:03:20,648] Trial 192 finished with value: 0.040000000000000036 and parameters: {'one': 26}. Best is trial 19 with value: 0.0.\n",
      "[I 2024-09-08 05:03:20,705] Trial 193 finished with value: 0.16000000000000014 and parameters: {'one': 29}. Best is trial 19 with value: 0.0.\n",
      "[I 2024-09-08 05:03:20,749] Trial 194 finished with value: 0.08000000000000007 and parameters: {'one': 23}. Best is trial 19 with value: 0.0.\n",
      "[I 2024-09-08 05:03:20,796] Trial 195 finished with value: 0.0 and parameters: {'one': 25}. Best is trial 19 with value: 0.0.\n",
      "[I 2024-09-08 05:03:20,859] Trial 196 finished with value: 0.1200000000000001 and parameters: {'one': 28}. Best is trial 19 with value: 0.0.\n",
      "[I 2024-09-08 05:03:20,918] Trial 197 finished with value: 0.16000000000000014 and parameters: {'one': 21}. Best is trial 19 with value: 0.0.\n",
      "[I 2024-09-08 05:03:20,986] Trial 198 finished with value: 0.040000000000000036 and parameters: {'one': 26}. Best is trial 19 with value: 0.0.\n",
      "[I 2024-09-08 05:03:21,061] Trial 199 finished with value: 0.08000000000000007 and parameters: {'one': 23}. Best is trial 19 with value: 0.0.\n"
     ]
    }
   ],
   "source": [
    "study.optimize(objective, n_trials=20)"
   ]
  },
  {
   "cell_type": "code",
   "execution_count": 24,
   "metadata": {},
   "outputs": [
    {
     "name": "stdout",
     "output_type": "stream",
     "text": [
      "25\n"
     ]
    }
   ],
   "source": [
    "for i, (k,v) in enumerate(study.best_params.items()):\n",
    "    print(v)"
   ]
  },
  {
   "cell_type": "code",
   "execution_count": 38,
   "metadata": {},
   "outputs": [
    {
     "data": {
      "text/plain": [
       "6.2"
      ]
     },
     "execution_count": 38,
     "metadata": {},
     "output_type": "execute_result"
    }
   ],
   "source": [
    "(20 * 3 + 80 * 7) / 100"
   ]
  },
  {
   "cell_type": "code",
   "execution_count": 39,
   "metadata": {},
   "outputs": [
    {
     "data": {
      "text/plain": [
       "[1, 2]"
      ]
     },
     "execution_count": 39,
     "metadata": {},
     "output_type": "execute_result"
    }
   ],
   "source": [
    "x = [1, 2, 3]\n",
    "x[:-1]"
   ]
  },
  {
   "cell_type": "code",
   "execution_count": null,
   "metadata": {},
   "outputs": [],
   "source": []
  }
 ],
 "metadata": {
  "kernelspec": {
   "display_name": "Python 3",
   "language": "python",
   "name": "python3"
  },
  "language_info": {
   "codemirror_mode": {
    "name": "ipython",
    "version": 3
   },
   "file_extension": ".py",
   "mimetype": "text/x-python",
   "name": "python",
   "nbconvert_exporter": "python",
   "pygments_lexer": "ipython3",
   "version": "3.10.12"
  }
 },
 "nbformat": 4,
 "nbformat_minor": 2
}
